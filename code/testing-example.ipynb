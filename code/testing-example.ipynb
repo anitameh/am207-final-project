{
 "metadata": {
  "name": ""
 },
 "nbformat": 3,
 "nbformat_minor": 0,
 "worksheets": [
  {
   "cells": [
    {
     "cell_type": "code",
     "collapsed": false,
     "input": [
      "%pylab inline\n",
      "\n",
      "from matplotlib import rc\n",
      "rc('font',**{'family':'serif','serif':['Palatino']})\n",
      "rc('text', usetex=True)\n",
      "\n",
      "import numpy as np\n",
      "\n",
      "import scipy\n",
      "import scipy.stats\n",
      "from scipy.stats import norm\n",
      "from scipy.stats import beta\n",
      "from scipy.special import gammaln\n",
      "\n",
      "import matplotlib.pyplot as plt\n",
      "import prettyplotlib as pplt\n",
      "\n",
      "import pandas as pd\n",
      "import time"
     ],
     "language": "python",
     "metadata": {},
     "outputs": [
      {
       "output_type": "stream",
       "stream": "stdout",
       "text": [
        "Populating the interactive namespace from numpy and matplotlib\n"
       ]
      }
     ],
     "prompt_number": 1
    },
    {
     "cell_type": "code",
     "collapsed": false,
     "input": [
      "y = np.array([28.,8.,-3.,7.,-1.,1.,18.,12.])\n",
      "sd = np.array([15.,10.,16.,11.,9.,11.,10.,18.])\n",
      "v = sd*sd\n",
      "print v"
     ],
     "language": "python",
     "metadata": {},
     "outputs": [
      {
       "output_type": "stream",
       "stream": "stdout",
       "text": [
        "[ 225.  100.  256.  121.   81.  121.  100.  324.]\n"
       ]
      }
     ],
     "prompt_number": 13
    },
    {
     "cell_type": "code",
     "collapsed": false,
     "input": [
      "# set up a grid for tau\n",
      "tau = np.arange(0,5000)/50.\n",
      "tausq = tau*tau\n",
      "print tausq"
     ],
     "language": "python",
     "metadata": {},
     "outputs": [
      {
       "output_type": "stream",
       "stream": "stdout",
       "text": [
        "[  0.00000000e+00   4.00000000e-04   1.60000000e-03 ...,   9.98800360e+03\n",
        "   9.99200160e+03   9.99600040e+03]\n"
       ]
      }
     ],
     "prompt_number": 38
    },
    {
     "cell_type": "code",
     "collapsed": false,
     "input": [
      "print 1./(tausq[0]+(v*100))"
     ],
     "language": "python",
     "metadata": {},
     "outputs": [
      {
       "output_type": "stream",
       "stream": "stdout",
       "text": [
        "[  4.44444444e-05   1.00000000e-04   3.90625000e-05   8.26446281e-05\n",
        "   1.23456790e-04   8.26446281e-05   1.00000000e-04   3.08641975e-05]\n"
       ]
      }
     ],
     "prompt_number": 49
    },
    {
     "cell_type": "code",
     "collapsed": false,
     "input": [
      "# initialize vars\n",
      "ptau_y = np.zeros(5000)\n",
      "vmu = np.zeros(5000)\n",
      "muhat = np.zeros(5000)"
     ],
     "language": "python",
     "metadata": {},
     "outputs": [],
     "prompt_number": 39
    },
    {
     "cell_type": "code",
     "collapsed": false,
     "input": [
      "# compute p(tau | y) for grid\n",
      "for i in xrange(0,5000):\n",
      "    vmu[i] = 1./ sum(1./(tausq[i] + v))\n",
      "    muhat[i] = vmu[i] * sum(y/(tausq[i] + v))\n",
      "    ptau_y[i] = np.sqrt( vmu[i]*np.prod( 1./(tausq[i] +v) )) * np.prod( np.exp(-0.5*(y-muhat[i])*(y-muhat[i])/(tausq[i]+v) ))\n"
     ],
     "language": "python",
     "metadata": {},
     "outputs": [],
     "prompt_number": 40
    },
    {
     "cell_type": "code",
     "collapsed": false,
     "input": [
      "print ptau_y"
     ],
     "language": "python",
     "metadata": {},
     "outputs": [
      {
       "output_type": "stream",
       "stream": "stdout",
       "text": [
        "[  2.05840991e-03   2.05840326e-03   2.05838329e-03 ...,   8.07894601e-09\n",
        "   8.06794061e-09   8.05695228e-09]\n"
       ]
      }
     ],
     "prompt_number": 50
    },
    {
     "cell_type": "code",
     "collapsed": false,
     "input": [
      "# sample taus\n",
      "ptau_y = ptau_y / sum(ptau_y)\n",
      "tau_samp = np.random.choice(tau, size=1000, p=ptau_y)\n",
      "tau_samp = np.sort(tau_samp)\n",
      "tau_id = (tau_samp*50 + 1).astype(int)\n",
      "# print tau_samp\n",
      "# print len(tau_samp)\n",
      "# print tau_id"
     ],
     "language": "python",
     "metadata": {},
     "outputs": [],
     "prompt_number": 45
    },
    {
     "cell_type": "code",
     "collapsed": false,
     "input": [
      "# generate mu_s and then theta_s from normal distribution\n",
      "random_norm_samp = np.random.normal(size=10000)\n",
      "x = random_norm_samp.reshape((1000, 10))\n",
      "x[:,0] = tau_samp\n",
      "x[:,1] = muhat[tau_id] + np.sqrt(vmu[tau_id])*x[:,1]"
     ],
     "language": "python",
     "metadata": {},
     "outputs": [],
     "prompt_number": 46
    },
    {
     "cell_type": "code",
     "collapsed": false,
     "input": [
      "for j in xrange(0,8):\n",
      "    thmean = (y[j]*x[:,0]*x[:,0] + v[j]*x[:,1]) / (v[j] + x[:,0]*x[:,0])\n",
      "    thsd = np.sqrt(v[j]*x[:,0]*x[:,0] / (v[j] + x[:,0]*x[:,0]))\n",
      "    x[:,j+2] = thmean + thsd*x[:,j+2]"
     ],
     "language": "python",
     "metadata": {},
     "outputs": [],
     "prompt_number": 47
    },
    {
     "cell_type": "code",
     "collapsed": false,
     "input": [
      "pplt.hist(x[:,1])\n",
      "plt.xlabel(\"mu\")\n",
      "plt.ylabel(\"n\")\n",
      "plt.title(\"Posterior distribution of mu (1000 draws)\")\n",
      "plt.show()"
     ],
     "language": "python",
     "metadata": {},
     "outputs": [
      {
       "metadata": {},
       "output_type": "display_data",
       "png": "[encoded data removed]",
       "text": [
        "<matplotlib.figure.Figure at 0x107f7d150>"
       ]
      }
     ],
     "prompt_number": 51
    },
    {
     "cell_type": "code",
     "collapsed": false,
     "input": [],
     "language": "python",
     "metadata": {},
     "outputs": []
    }
   ],
   "metadata": {}
  }
 ]
}