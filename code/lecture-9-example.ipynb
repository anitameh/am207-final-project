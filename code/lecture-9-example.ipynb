{
 "metadata": {
  "name": ""
 },
 "nbformat": 3,
 "nbformat_minor": 0,
 "worksheets": [
  {
   "cells": [
    {
     "cell_type": "code",
     "collapsed": false,
     "input": [
      "%pylab inline\n",
      "\n",
      "from matplotlib import rc\n",
      "rc('font',**{'family':'serif','serif':['Palatino']})\n",
      "rc('text', usetex=True)\n",
      "\n",
      "import numpy as np\n",
      "import scipy\n",
      "import scipy.stats\n",
      "from scipy.stats import norm\n",
      "import matplotlib.pyplot as plt\n",
      "import prettyplotlib as pplt\n",
      "\n",
      "import pandas as pd\n",
      "import time"
     ],
     "language": "python",
     "metadata": {},
     "outputs": [
      {
       "output_type": "stream",
       "stream": "stdout",
       "text": [
        "Populating the interactive namespace from numpy and matplotlib\n"
       ]
      }
     ],
     "prompt_number": 1
    },
    {
     "cell_type": "code",
     "collapsed": false,
     "input": [
      "# load data\n",
      "tumordata = np.loadtxt(\"../data/lec9_data.dat\", delimiter=\" \", dtype=object)\n",
      "tumory = tumordata[:,0].astype(float)\n",
      "tumorn = tumordata[:,1].astype(float)\n",
      "\n",
      "print tumory[0:10]\n",
      "print tumorn[0:10]"
     ],
     "language": "python",
     "metadata": {},
     "outputs": [
      {
       "output_type": "stream",
       "stream": "stdout",
       "text": [
        "[ 0.  0.  0.  0.  0.  0.  0.  0.  0.  0.]\n",
        "[ 20.  20.  20.  20.  20.  20.  20.  19.  19.  19.]\n"
       ]
      }
     ],
     "prompt_number": 5
    },
    {
     "cell_type": "code",
     "collapsed": false,
     "input": [
      "# sampling\n",
      "\n",
      "# number of thetas\n",
      "num_thetas = tumorn.shape[0]\n",
      "print \"# of thetas =\", num_thetas"
     ],
     "language": "python",
     "metadata": {},
     "outputs": [
      {
       "output_type": "stream",
       "stream": "stdout",
       "text": [
        "# of thetas = 70\n"
       ]
      }
     ],
     "prompt_number": 11
    },
    {
     "cell_type": "code",
     "collapsed": false,
     "input": [
      "from scipy.stats import beta\n",
      "from scipy.stats import norm\n",
      "from scipy.special import gammaln"
     ],
     "language": "python",
     "metadata": {},
     "outputs": [],
     "prompt_number": 15
    },
    {
     "cell_type": "code",
     "collapsed": false,
     "input": [
      "# hyper-priors (priors for the hyperparamters)\n",
      "log_prior = lambda a,b: -2.5*np.log(a+b)"
     ],
     "language": "python",
     "metadata": {},
     "outputs": [],
     "prompt_number": 67
    },
    {
     "cell_type": "code",
     "collapsed": false,
     "input": [
      "# sample from conditional posterior using gibbs for the theta\n",
      "draw_thetas = lambda a,b: beta.rvs(a+tumory, b+tumorn-tumory, size=num_thetas)"
     ],
     "language": "python",
     "metadata": {},
     "outputs": [],
     "prompt_number": 68
    },
    {
     "cell_type": "code",
     "collapsed": false,
     "input": [
      "# def conditionals for alpha, beta\n",
      "def log_cond_alpha(a, b, thetas):\n",
      "    return num_thetas*(gammaln(a+b) - gammaln(a)) + a*np.sum(np.log(thetas)) + log_prior(a, b)\n",
      "\n",
      "def log_cond_beta(a, b, thetas):\n",
      "    return num_thetas*(gammaln(a+b) - gammaln(b)) + b*np.sum(np.log(1.0-thetas)) + log_prior(a, b)\n"
     ],
     "language": "python",
     "metadata": {},
     "outputs": [],
     "prompt_number": 69
    },
    {
     "cell_type": "code",
     "collapsed": false,
     "input": [
      "# use MH to draw for alpha, beta    \n",
      "def draw_alpha(a, b, thetas, proposal_sd, accepts):\n",
      "    \n",
      "    # propose a new alpha (a*)\n",
      "    astar = norm.rvs(a, proposal_sd)\n",
      "    \n",
      "    p_astar = log_cond_alpha(astar, b, thetas)\n",
      "    p_a = log_cond_alpha(a, b, thetas)\n",
      "    R = np.random.rand()\n",
      "    \n",
      "    # accept/reject with some probability\n",
      "    if (np.log(R) <= p_astar - p_a) and (astar > 0):\n",
      "        accepted = 1\n",
      "    else:\n",
      "        accepted = 0\n",
      "    \n",
      "    # store acceptances\n",
      "    accepts[\"alpha\"] = accepts[\"alpha\"] + accepted\n",
      "    \n",
      "    if accepted:\n",
      "        return astar\n",
      "    else: \n",
      "        return a\n",
      "    \n",
      "def draw_beta(a, b, thetas, proposal_sd, accepts):\n",
      "    \n",
      "    # propose a new beta (b*)\n",
      "    bstar = norm.rvs(b, proposal_sd)\n",
      "    \n",
      "    p_bstar = log_cond_beta(a, bstar, thetas)\n",
      "    p_b = log_cond_beta(a, b, thetas)\n",
      "    R = np.random.rand()\n",
      "    \n",
      "    # accept/reject with some probability\n",
      "    if ((np.log(R) <= p_bstar - p_b) and (bstar > 0)):\n",
      "        accepted = 1\n",
      "    else:\n",
      "        accepted = 0\n",
      "    \n",
      "    # store acceptances\n",
      "    accepts[\"beta\"] = accepts[\"beta\"] + accepted\n",
      "    \n",
      "    if accepted:\n",
      "        return bstar\n",
      "    else: \n",
      "        return b"
     ],
     "language": "python",
     "metadata": {},
     "outputs": [],
     "prompt_number": 70
    },
    {
     "cell_type": "code",
     "collapsed": false,
     "input": [
      "# initialize variables\n",
      "burnin = 20000\n",
      "numtraces = 200000\n",
      "total_traces = burnin+numtraces\n",
      "alpha_prop_sd = 0.25\n",
      "beta_prop_sd = 3\n",
      "\n",
      "alphas = np.empty(total_traces)\n",
      "betas = np.empty(total_traces)\n",
      "thetas = np.empty((total_traces, num_thetas))\n",
      "\n",
      "alphas[0] = 1.\n",
      "betas[0] = 1.\n",
      "thetas[0:,] = (tumory + 0.5)/(tumorn + 0.5)\n",
      "accepteds = {\"alpha\":0, \"beta\":0}"
     ],
     "language": "python",
     "metadata": {},
     "outputs": [],
     "prompt_number": 71
    },
    {
     "cell_type": "code",
     "collapsed": false,
     "input": [
      "# execute\n",
      "for m in xrange(1, total_traces):\n",
      "    \n",
      "    # track progress\n",
      "    if (m % 10000 == 0):\n",
      "        print \"m =\", m\n",
      "    \n",
      "    alphas[m] = draw_alpha(alphas[m-1], betas[m-1], thetas[m-1,:], alpha_prop_sd, accepteds)\n",
      "    betas[m] = draw_beta(alphas[m], betas[m-1], thetas[m-1, :], beta_prop_sd, accepteds)\n",
      "    thetas[m,:] = draw_thetas(alphas[m], betas[m])\n",
      "    "
     ],
     "language": "python",
     "metadata": {},
     "outputs": [
      {
       "output_type": "stream",
       "stream": "stdout",
       "text": [
        "m = 10000\n",
        "m ="
       ]
      },
      {
       "output_type": "stream",
       "stream": "stdout",
       "text": [
        " 20000\n",
        "m ="
       ]
      },
      {
       "output_type": "stream",
       "stream": "stdout",
       "text": [
        " 30000\n",
        "m ="
       ]
      },
      {
       "output_type": "stream",
       "stream": "stdout",
       "text": [
        " 40000\n",
        "m ="
       ]
      },
      {
       "output_type": "stream",
       "stream": "stdout",
       "text": [
        " 50000\n",
        "m ="
       ]
      },
      {
       "output_type": "stream",
       "stream": "stdout",
       "text": [
        " 60000\n",
        "m ="
       ]
      },
      {
       "output_type": "stream",
       "stream": "stdout",
       "text": [
        " 70000\n",
        "m ="
       ]
      },
      {
       "output_type": "stream",
       "stream": "stdout",
       "text": [
        " 80000\n",
        "m ="
       ]
      },
      {
       "output_type": "stream",
       "stream": "stdout",
       "text": [
        " 90000\n",
        "m ="
       ]
      },
      {
       "output_type": "stream",
       "stream": "stdout",
       "text": [
        " 100000\n",
        "m ="
       ]
      },
      {
       "output_type": "stream",
       "stream": "stdout",
       "text": [
        " 110000\n",
        "m ="
       ]
      },
      {
       "output_type": "stream",
       "stream": "stdout",
       "text": [
        " 120000\n",
        "m ="
       ]
      },
      {
       "output_type": "stream",
       "stream": "stdout",
       "text": [
        " 130000\n",
        "m ="
       ]
      },
      {
       "output_type": "stream",
       "stream": "stdout",
       "text": [
        " 140000\n",
        "m ="
       ]
      },
      {
       "output_type": "stream",
       "stream": "stdout",
       "text": [
        " 150000\n",
        "m ="
       ]
      },
      {
       "output_type": "stream",
       "stream": "stdout",
       "text": [
        " 160000\n",
        "m ="
       ]
      },
      {
       "output_type": "stream",
       "stream": "stdout",
       "text": [
        " 170000\n",
        "m ="
       ]
      },
      {
       "output_type": "stream",
       "stream": "stdout",
       "text": [
        " 180000\n",
        "m ="
       ]
      },
      {
       "output_type": "stream",
       "stream": "stdout",
       "text": [
        " 190000\n",
        "m ="
       ]
      },
      {
       "output_type": "stream",
       "stream": "stdout",
       "text": [
        " 200000\n",
        "m ="
       ]
      },
      {
       "output_type": "stream",
       "stream": "stdout",
       "text": [
        " 210000\n"
       ]
      }
     ],
     "prompt_number": 72
    },
    {
     "cell_type": "code",
     "collapsed": false,
     "input": [
      "print \"# of alpha acceptances =\", accepteds[\"alpha\"]\n",
      "print \"alpha ratio =\", accepteds[\"alpha\"]/float(total_traces)\n",
      "print\n",
      "print \"# of beta acceptances =\", accepteds[\"beta\"]\n",
      "print \"beta ratio =\", accepteds[\"beta\"]/float(total_traces)\n",
      "print\n",
      "print \"total # of samples =\", total_traces"
     ],
     "language": "python",
     "metadata": {},
     "outputs": [
      {
       "output_type": "stream",
       "stream": "stdout",
       "text": [
        "# of alpha acceptances = 129912\n",
        "alpha ratio = 0.590509090909\n",
        "\n",
        "# of beta acceptances = 90778\n",
        "beta ratio = 0.412627272727\n",
        "\n",
        "total # of samples = 220000\n"
       ]
      }
     ],
     "prompt_number": 73
    },
    {
     "cell_type": "code",
     "collapsed": false,
     "input": [
      "# plot\n",
      "alpha_trace = alphas[burnin+1:total_traces:20]\n",
      "beta_trace = betas[burnin+1:total_traces:20]\n",
      "thetas_trace = thetas[burnin+1:total_traces:20, :]\n",
      "\n",
      "plt.figure(figsize=[12,6])\n",
      "\n",
      "plt.subplot(1,2,1)\n",
      "pplt.plot(alpha_trace)\n",
      "plt.title(r\"$\\alpha$ trace\")\n",
      "plt.xlabel(\"sample number\")\n",
      "\n",
      "plt.subplot(1,2,2)\n",
      "pplt.plot(beta_trace)\n",
      "plt.title(r\"$\\beta$ trace\")\n",
      "plt.xlabel(\"sample number\")\n",
      "\n",
      "plt.show()"
     ],
     "language": "python",
     "metadata": {},
     "outputs": [
      {
       "metadata": {},
       "output_type": "display_data",
       "png": "[encoded data removed]",
       "text": [
        "<matplotlib.figure.Figure at 0x10b7055d0>"
       ]
      }
     ],
     "prompt_number": 74
    },
    {
     "cell_type": "code",
     "collapsed": false,
     "input": [
      "plt.figure(figsize=[12,6])\n",
      "\n",
      "plt.subplot(1,2,1)\n",
      "plt.xlim( (0,1000))\n",
      "plt.acorr(alpha_trace-np.mean(alpha_trace), normed=True, usevlines=False, maxlags=1000, label=u'alpha')\n",
      "plt.legend()\n",
      "\n",
      "plt.subplot(1,2,2)\n",
      "plt.xlim( (0,1000))\n",
      "plt.acorr(beta_trace-np.mean(beta_trace), normed=True, usevlines=False, maxlags=1000, label=u'beta')\n",
      "plt.legend()\n",
      "\n",
      "plt.show()"
     ],
     "language": "python",
     "metadata": {},
     "outputs": [
      {
       "metadata": {},
       "output_type": "display_data",
       "png": "[encoded data removed]",
       "text": [
        "<matplotlib.figure.Figure at 0x10b745910>"
       ]
      }
     ],
     "prompt_number": 80
    },
    {
     "cell_type": "code",
     "collapsed": false,
     "input": [],
     "language": "python",
     "metadata": {},
     "outputs": [],
     "prompt_number": 74
    },
    {
     "cell_type": "code",
     "collapsed": false,
     "input": [],
     "language": "python",
     "metadata": {},
     "outputs": [],
     "prompt_number": 64
    },
    {
     "cell_type": "code",
     "collapsed": false,
     "input": [],
     "language": "python",
     "metadata": {},
     "outputs": [],
     "prompt_number": 74
    },
    {
     "cell_type": "code",
     "collapsed": false,
     "input": [],
     "language": "python",
     "metadata": {},
     "outputs": [],
     "prompt_number": 78
    },
    {
     "cell_type": "code",
     "collapsed": false,
     "input": [],
     "language": "python",
     "metadata": {},
     "outputs": []
    }
   ],
   "metadata": {}
  }
 ]
}