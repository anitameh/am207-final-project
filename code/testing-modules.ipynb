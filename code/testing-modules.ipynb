{
 "metadata": {
  "name": ""
 },
 "nbformat": 3,
 "nbformat_minor": 0,
 "worksheets": [
  {
   "cells": [
    {
     "cell_type": "code",
     "collapsed": false,
     "input": [
      "import pymc as pm"
     ],
     "language": "python",
     "metadata": {},
     "outputs": [],
     "prompt_number": 1
    },
    {
     "cell_type": "code",
     "collapsed": false,
     "input": [
      "pm.test()"
     ],
     "language": "python",
     "metadata": {},
     "outputs": [
      {
       "output_type": "stream",
       "stream": "stdout",
       "text": [
        "Running unit tests for pymc.tests\n",
        "NumPy version 1.8.0\n",
        "NumPy is installed in /Users/anita/anaconda/lib/python2.7/site-packages/numpy\n",
        "Python version 2.7.6 |Anaconda 1.7.0 (x86_64)| (default, Jan 10 2014, 11:23:15) [GCC 4.0.1 (Apple Inc. build 5493)]\n",
        "nose version 1.3.0\n"
       ]
      },
      {
       "output_type": "stream",
       "stream": "stderr",
       "text": [
        "E."
       ]
      },
      {
       "output_type": "stream",
       "stream": "stderr",
       "text": [
        "."
       ]
      },
      {
       "output_type": "stream",
       "stream": "stderr",
       "text": [
        "."
       ]
      },
      {
       "output_type": "stream",
       "stream": "stderr",
       "text": [
        "."
       ]
      },
      {
       "output_type": "stream",
       "stream": "stderr",
       "text": [
        "."
       ]
      },
      {
       "output_type": "stream",
       "stream": "stderr",
       "text": [
        "E."
       ]
      },
      {
       "output_type": "stream",
       "stream": "stderr",
       "text": [
        "."
       ]
      },
      {
       "output_type": "stream",
       "stream": "stderr",
       "text": [
        "."
       ]
      },
      {
       "output_type": "stream",
       "stream": "stderr",
       "text": [
        "."
       ]
      },
      {
       "output_type": "stream",
       "stream": "stderr",
       "text": [
        "."
       ]
      },
      {
       "output_type": "stream",
       "stream": "stderr",
       "text": [
        "."
       ]
      },
      {
       "output_type": "stream",
       "stream": "stderr",
       "text": [
        "."
       ]
      },
      {
       "output_type": "stream",
       "stream": "stderr",
       "text": [
        "."
       ]
      },
      {
       "output_type": "stream",
       "stream": "stderr",
       "text": [
        "."
       ]
      },
      {
       "output_type": "stream",
       "stream": "stderr",
       "text": [
        "."
       ]
      },
      {
       "output_type": "stream",
       "stream": "stderr",
       "text": [
        "."
       ]
      },
      {
       "output_type": "stream",
       "stream": "stderr",
       "text": [
        "."
       ]
      },
      {
       "output_type": "stream",
       "stream": "stderr",
       "text": [
        "/Users/anita/anaconda/lib/python2.7/site-packages/scipy/stats/distributions.py:4558: DeprecationWarning: converting an array with ndim > 0 to an index will result in an error in the future\n",
        "  return b * x**(-b-1)\n",
        "/Users/anita/anaconda/lib/python2.7/site-packages/scipy/stats/distributions.py:4558: DeprecationWarning: converting an array with ndim > 0 to an index will result in an error in the future\n",
        "  return b * x**(-b-1)\n",
        "/Users/anita/anaconda/lib/python2.7/site-packages/scipy/stats/distributions.py:4558: DeprecationWarning: converting an array with ndim > 0 to an index will result in an error in the future\n",
        "  return b * x**(-b-1)\n",
        "/Users/anita/anaconda/lib/python2.7/site-packages/scipy/stats/distributions.py:4558: DeprecationWarning: converting an array with ndim > 0 to an index will result in an error in the future\n",
        "  return b * x**(-b-1)\n",
        "/Users/anita/anaconda/lib/python2.7/site-packages/scipy/stats/distributions.py:4558: DeprecationWarning: converting an array with ndim > 0 to an index will result in an error in the future\n",
        "  return b * x**(-b-1)\n",
        "/Users/anita/anaconda/lib/python2.7/site-packages/scipy/stats/distributions.py:4558: DeprecationWarning: converting an array with ndim > 0 to an index will result in an error in the future\n",
        "  return b * x**(-b-1)\n",
        "/Users/anita/anaconda/lib/python2.7/site-packages/scipy/stats/distributions.py:4558: DeprecationWarning: converting an array with ndim > 0 to an index will result in an error in the future\n",
        "  return b * x**(-b-1)\n",
        "/Users/anita/anaconda/lib/python2.7/site-packages/scipy/stats/distributions.py:4558: DeprecationWarning: converting an array with ndim > 0 to an index will result in an error in the future\n",
        "  return b * x**(-b-1)\n",
        "/Users/anita/anaconda/lib/python2.7/site-packages/scipy/stats/distributions.py:4558: DeprecationWarning: converting an array with ndim > 0 to an index will result in an error in the future\n",
        "  return b * x**(-b-1)\n",
        "/Users/anita/anaconda/lib/python2.7/site-packages/scipy/stats/distributions.py:4558: DeprecationWarning: converting an array with ndim > 0 to an index will result in an error in the future\n",
        "  return b * x**(-b-1)\n",
        "/Users/anita/anaconda/lib/python2.7/site-packages/scipy/stats/distributions.py:4558: DeprecationWarning: converting an array with ndim > 0 to an index will result in an error in the future\n",
        "  return b * x**(-b-1)\n",
        "/Users/anita/anaconda/lib/python2.7/site-packages/scipy/stats/distributions.py:4558: DeprecationWarning: converting an array with ndim > 0 to an index will result in an error in the future\n",
        "  return b * x**(-b-1)\n",
        "/Users/anita/anaconda/lib/python2.7/site-packages/scipy/stats/distributions.py:4558: DeprecationWarning: converting an array with ndim > 0 to an index will result in an error in the future\n",
        "  return b * x**(-b-1)\n",
        "/Users/anita/anaconda/lib/python2.7/site-packages/scipy/stats/distributions.py:4558: DeprecationWarning: converting an array with ndim > 0 to an index will result in an error in the future\n",
        "  return b * x**(-b-1)\n",
        "/Users/anita/anaconda/lib/python2.7/site-packages/scipy/stats/distributions.py:4558: DeprecationWarning: converting an array with ndim > 0 to an index will result in an error in the future\n",
        "  return b * x**(-b-1)\n",
        "/Users/anita/anaconda/lib/python2.7/site-packages/scipy/stats/distributions.py:4558: DeprecationWarning: converting an array with ndim > 0 to an index will result in an error in the future\n",
        "  return b * x**(-b-1)\n",
        "/Users/anita/anaconda/lib/python2.7/site-packages/scipy/stats/distributions.py:4558: DeprecationWarning: converting an array with ndim > 0 to an index will result in an error in the future\n",
        "  return b * x**(-b-1)\n",
        "/Users/anita/anaconda/lib/python2.7/site-packages/scipy/stats/distributions.py:4558: DeprecationWarning: converting an array with ndim > 0 to an index will result in an error in the future\n",
        "  return b * x**(-b-1)\n",
        "/Users/anita/anaconda/lib/python2.7/site-packages/scipy/stats/distributions.py:4558: DeprecationWarning: converting an array with ndim > 0 to an index will result in an error in the future\n",
        "  return b * x**(-b-1)\n",
        "/Users/anita/anaconda/lib/python2.7/site-packages/scipy/stats/distributions.py:4558: DeprecationWarning: converting an array with ndim > 0 to an index will result in an error in the future\n",
        "  return b * x**(-b-1)\n",
        "/Users/anita/anaconda/lib/python2.7/site-packages/scipy/stats/distributions.py:4558: DeprecationWarning: converting an array with ndim > 0 to an index will result in an error in the future\n",
        "  return b * x**(-b-1)\n",
        "/Users/anita/anaconda/lib/python2.7/site-packages/scipy/stats/distributions.py:4558: DeprecationWarning: converting an array with ndim > 0 to an index will result in an error in the future\n",
        "  return b * x**(-b-1)\n",
        "/Users/anita/anaconda/lib/python2.7/site-packages/scipy/stats/distributions.py:4558: DeprecationWarning: converting an array with ndim > 0 to an index will result in an error in the future\n",
        "  return b * x**(-b-1)\n",
        "/Users/anita/anaconda/lib/python2.7/site-packages/scipy/stats/distributions.py:4558: DeprecationWarning: converting an array with ndim > 0 to an index will result in an error in the future\n",
        "  return b * x**(-b-1)\n",
        "/Users/anita/anaconda/lib/python2.7/site-packages/scipy/stats/distributions.py:4558: DeprecationWarning: converting an array with ndim > 0 to an index will result in an error in the future\n",
        "  return b * x**(-b-1)\n",
        "/Users/anita/anaconda/lib/python2.7/site-packages/scipy/stats/distributions.py:4558: DeprecationWarning: converting an array with ndim > 0 to an index will result in an error in the future\n",
        "  return b * x**(-b-1)\n",
        "/Users/anita/anaconda/lib/python2.7/site-packages/scipy/stats/distributions.py:4558: DeprecationWarning: converting an array with ndim > 0 to an index will result in an error in the future\n",
        "  return b * x**(-b-1)\n",
        "/Users/anita/anaconda/lib/python2.7/site-packages/scipy/stats/distributions.py:4558: DeprecationWarning: converting an array with ndim > 0 to an index will result in an error in the future\n",
        "  return b * x**(-b-1)\n"
       ]
      },
      {
       "output_type": "stream",
       "stream": "stderr",
       "text": [
        "/Users/anita/anaconda/lib/python2.7/site-packages/scipy/stats/distributions.py:4558: DeprecationWarning: converting an array with ndim > 0 to an index will result in an error in the future\n",
        "  return b * x**(-b-1)\n",
        "/Users/anita/anaconda/lib/python2.7/site-packages/scipy/stats/distributions.py:4558: DeprecationWarning: converting an array with ndim > 0 to an index will result in an error in the future\n",
        "  return b * x**(-b-1)\n",
        "/Users/anita/anaconda/lib/python2.7/site-packages/scipy/stats/distributions.py:4558: DeprecationWarning: converting an array with ndim > 0 to an index will result in an error in the future\n",
        "  return b * x**(-b-1)\n",
        "/Users/anita/anaconda/lib/python2.7/site-packages/scipy/stats/distributions.py:4558: DeprecationWarning: converting an array with ndim > 0 to an index will result in an error in the future\n",
        "  return b * x**(-b-1)\n",
        "/Users/anita/anaconda/lib/python2.7/site-packages/scipy/stats/distributions.py:4558: DeprecationWarning: converting an array with ndim > 0 to an index will result in an error in the future\n",
        "  return b * x**(-b-1)\n",
        "/Users/anita/anaconda/lib/python2.7/site-packages/scipy/stats/distributions.py:4558: DeprecationWarning: converting an array with ndim > 0 to an index will result in an error in the future\n",
        "  return b * x**(-b-1)\n",
        "/Users/anita/anaconda/lib/python2.7/site-packages/scipy/stats/distributions.py:4558: DeprecationWarning: converting an array with ndim > 0 to an index will result in an error in the future\n",
        "  return b * x**(-b-1)\n",
        "/Users/anita/anaconda/lib/python2.7/site-packages/scipy/stats/distributions.py:4558: DeprecationWarning: converting an array with ndim > 0 to an index will result in an error in the future\n",
        "  return b * x**(-b-1)\n",
        "/Users/anita/anaconda/lib/python2.7/site-packages/scipy/stats/distributions.py:4558: DeprecationWarning: converting an array with ndim > 0 to an index will result in an error in the future\n",
        "  return b * x**(-b-1)\n",
        "/Users/anita/anaconda/lib/python2.7/site-packages/scipy/stats/distributions.py:4558: DeprecationWarning: converting an array with ndim > 0 to an index will result in an error in the future\n",
        "  return b * x**(-b-1)\n",
        "/Users/anita/anaconda/lib/python2.7/site-packages/scipy/stats/distributions.py:4558: DeprecationWarning: converting an array with ndim > 0 to an index will result in an error in the future\n",
        "  return b * x**(-b-1)\n",
        "/Users/anita/anaconda/lib/python2.7/site-packages/scipy/stats/distributions.py:4558: DeprecationWarning: converting an array with ndim > 0 to an index will result in an error in the future\n",
        "  return b * x**(-b-1)\n",
        "/Users/anita/anaconda/lib/python2.7/site-packages/scipy/stats/distributions.py:4558: DeprecationWarning: converting an array with ndim > 0 to an index will result in an error in the future\n",
        "  return b * x**(-b-1)\n",
        "/Users/anita/anaconda/lib/python2.7/site-packages/scipy/stats/distributions.py:4558: DeprecationWarning: converting an array with ndim > 0 to an index will result in an error in the future\n",
        "  return b * x**(-b-1)\n",
        "/Users/anita/anaconda/lib/python2.7/site-packages/scipy/stats/distributions.py:4558: DeprecationWarning: converting an array with ndim > 0 to an index will result in an error in the future\n",
        "  return b * x**(-b-1)\n",
        "/Users/anita/anaconda/lib/python2.7/site-packages/scipy/stats/distributions.py:4558: DeprecationWarning: converting an array with ndim > 0 to an index will result in an error in the future\n",
        "  return b * x**(-b-1)\n",
        "/Users/anita/anaconda/lib/python2.7/site-packages/scipy/stats/distributions.py:4558: DeprecationWarning: converting an array with ndim > 0 to an index will result in an error in the future\n",
        "  return b * x**(-b-1)\n",
        "/Users/anita/anaconda/lib/python2.7/site-packages/scipy/stats/distributions.py:4558: DeprecationWarning: converting an array with ndim > 0 to an index will result in an error in the future\n",
        "  return b * x**(-b-1)\n",
        "/Users/anita/anaconda/lib/python2.7/site-packages/scipy/stats/distributions.py:4558: DeprecationWarning: converting an array with ndim > 0 to an index will result in an error in the future\n",
        "  return b * x**(-b-1)\n",
        "/Users/anita/anaconda/lib/python2.7/site-packages/scipy/stats/distributions.py:4558: DeprecationWarning: converting an array with ndim > 0 to an index will result in an error in the future\n",
        "  return b * x**(-b-1)\n",
        "/Users/anita/anaconda/lib/python2.7/site-packages/scipy/stats/distributions.py:4558: DeprecationWarning: converting an array with ndim > 0 to an index will result in an error in the future\n",
        "  return b * x**(-b-1)\n",
        "/Users/anita/anaconda/lib/python2.7/site-packages/scipy/stats/distributions.py:4558: DeprecationWarning: converting an array with ndim > 0 to an index will result in an error in the future\n",
        "  return b * x**(-b-1)\n",
        "/Users/anita/anaconda/lib/python2.7/site-packages/scipy/stats/distributions.py:4558: DeprecationWarning: converting an array with ndim > 0 to an index will result in an error in the future\n",
        "  return b * x**(-b-1)\n",
        "/Users/anita/anaconda/lib/python2.7/site-packages/scipy/stats/distributions.py:4558: DeprecationWarning: converting an array with ndim > 0 to an index will result in an error in the future\n",
        "  return b * x**(-b-1)\n",
        "/Users/anita/anaconda/lib/python2.7/site-packages/scipy/stats/distributions.py:4558: DeprecationWarning: converting an array with ndim > 0 to an index will result in an error in the future\n",
        "  return b * x**(-b-1)\n",
        "/Users/anita/anaconda/lib/python2.7/site-packages/scipy/stats/distributions.py:4558: DeprecationWarning: converting an array with ndim > 0 to an index will result in an error in the future\n",
        "  return b * x**(-b-1)\n",
        "/Users/anita/anaconda/lib/python2.7/site-packages/scipy/stats/distributions.py:4558: DeprecationWarning: converting an array with ndim > 0 to an index will result in an error in the future\n",
        "  return b * x**(-b-1)\n",
        "/Users/anita/anaconda/lib/python2.7/site-packages/scipy/stats/distributions.py:4558: DeprecationWarning: converting an array with ndim > 0 to an index will result in an error in the future\n",
        "  return b * x**(-b-1)\n",
        "/Users/anita/anaconda/lib/python2.7/site-packages/scipy/stats/distributions.py:4558: DeprecationWarning: converting an array with ndim > 0 to an index will result in an error in the future\n",
        "  return b * x**(-b-1)\n",
        "/Users/anita/anaconda/lib/python2.7/site-packages/scipy/stats/distributions.py:4558: DeprecationWarning: converting an array with ndim > 0 to an index will result in an error in the future\n",
        "  return b * x**(-b-1)\n",
        "/Users/anita/anaconda/lib/python2.7/site-packages/scipy/stats/distributions.py:4558: DeprecationWarning: converting an array with ndim > 0 to an index will result in an error in the future\n",
        "  return b * x**(-b-1)\n",
        "/Users/anita/anaconda/lib/python2.7/site-packages/scipy/stats/distributions.py:4558: DeprecationWarning: converting an array with ndim > 0 to an index will result in an error in the future\n",
        "  return b * x**(-b-1)\n",
        "/Users/anita/anaconda/lib/python2.7/site-packages/scipy/stats/distributions.py:4558: DeprecationWarning: converting an array with ndim > 0 to an index will result in an error in the future\n",
        "  return b * x**(-b-1)\n",
        "/Users/anita/anaconda/lib/python2.7/site-packages/scipy/stats/distributions.py:4558: DeprecationWarning: converting an array with ndim > 0 to an index will result in an error in the future\n",
        "  return b * x**(-b-1)\n",
        "/Users/anita/anaconda/lib/python2.7/site-packages/scipy/stats/distributions.py:4558: DeprecationWarning: converting an array with ndim > 0 to an index will result in an error in the future\n",
        "  return b * x**(-b-1)\n",
        "/Users/anita/anaconda/lib/python2.7/site-packages/scipy/stats/distributions.py:4558: DeprecationWarning: converting an array with ndim > 0 to an index will result in an error in the future\n",
        "  return b * x**(-b-1)\n",
        "/Users/anita/anaconda/lib/python2.7/site-packages/scipy/stats/distributions.py:4558: DeprecationWarning: converting an array with ndim > 0 to an index will result in an error in the future\n",
        "  return b * x**(-b-1)\n",
        "/Users/anita/anaconda/lib/python2.7/site-packages/scipy/stats/distributions.py:4558: DeprecationWarning: converting an array with ndim > 0 to an index will result in an error in the future\n",
        "  return b * x**(-b-1)\n",
        "/Users/anita/anaconda/lib/python2.7/site-packages/scipy/stats/distributions.py:4558: DeprecationWarning: converting an array with ndim > 0 to an index will result in an error in the future\n",
        "  return b * x**(-b-1)\n",
        "/Users/anita/anaconda/lib/python2.7/site-packages/scipy/stats/distributions.py:4558: DeprecationWarning: converting an array with ndim > 0 to an index will result in an error in the future\n",
        "  return b * x**(-b-1)\n",
        "/Users/anita/anaconda/lib/python2.7/site-packages/scipy/stats/distributions.py:4558: DeprecationWarning: converting an array with ndim > 0 to an index will result in an error in the future\n",
        "  return b * x**(-b-1)\n",
        "/Users/anita/anaconda/lib/python2.7/site-packages/scipy/stats/distributions.py:4558: DeprecationWarning: converting an array with ndim > 0 to an index will result in an error in the future\n",
        "  return b * x**(-b-1)\n",
        "/Users/anita/anaconda/lib/python2.7/site-packages/scipy/stats/distributions.py:4558: DeprecationWarning: converting an array with ndim > 0 to an index will result in an error in the future\n",
        "  return b * x**(-b-1)\n",
        "/Users/anita/anaconda/lib/python2.7/site-packages/scipy/stats/distributions.py:4558: DeprecationWarning: converting an array with ndim > 0 to an index will result in an error in the future\n",
        "  return b * x**(-b-1)\n",
        "/Users/anita/anaconda/lib/python2.7/site-packages/scipy/stats/distributions.py:4558: DeprecationWarning: converting an array with ndim > 0 to an index will result in an error in the future\n",
        "  return b * x**(-b-1)\n",
        "/Users/anita/anaconda/lib/python2.7/site-packages/scipy/stats/distributions.py:4558: DeprecationWarning: converting an array with ndim > 0 to an index will result in an error in the future\n",
        "  return b * x**(-b-1)\n",
        "/Users/anita/anaconda/lib/python2.7/site-packages/scipy/stats/distributions.py:4558: DeprecationWarning: converting an array with ndim > 0 to an index will result in an error in the future\n",
        "  return b * x**(-b-1)\n",
        "/Users/anita/anaconda/lib/python2.7/site-packages/scipy/stats/distributions.py:4558: DeprecationWarning: converting an array with ndim > 0 to an index will result in an error in the future\n",
        "  return b * x**(-b-1)\n",
        "/Users/anita/anaconda/lib/python2.7/site-packages/scipy/stats/distributions.py:4558: DeprecationWarning: converting an array with ndim > 0 to an index will result in an error in the future\n",
        "  return b * x**(-b-1)\n",
        "/Users/anita/anaconda/lib/python2.7/site-packages/scipy/stats/distributions.py:4558: DeprecationWarning: converting an array with ndim > 0 to an index will result in an error in the future\n",
        "  return b * x**(-b-1)\n"
       ]
      },
      {
       "output_type": "stream",
       "stream": "stderr",
       "text": [
        "/Users/anita/anaconda/lib/python2.7/site-packages/scipy/stats/distributions.py:4558: DeprecationWarning: converting an array with ndim > 0 to an index will result in an error in the future\n",
        "  return b * x**(-b-1)\n",
        "/Users/anita/anaconda/lib/python2.7/site-packages/scipy/stats/distributions.py:4558: DeprecationWarning: converting an array with ndim > 0 to an index will result in an error in the future\n",
        "  return b * x**(-b-1)\n",
        "/Users/anita/anaconda/lib/python2.7/site-packages/scipy/stats/distributions.py:4558: DeprecationWarning: converting an array with ndim > 0 to an index will result in an error in the future\n",
        "  return b * x**(-b-1)\n",
        "."
       ]
      },
      {
       "output_type": "stream",
       "stream": "stderr",
       "text": [
        "/Users/anita/anaconda/lib/python2.7/site-packages/scipy/stats/distributions.py:2747: DeprecationWarning: converting an array with ndim > 0 to an index will result in an error in the future\n",
        "  return a*c*(1-exc)**asarray(a-1) * exc * x**(c-1)\n",
        "/Users/anita/anaconda/lib/python2.7/site-packages/scipy/stats/distributions.py:2747: DeprecationWarning: converting an array with ndim > 0 to an index will result in an error in the future\n",
        "  return a*c*(1-exc)**asarray(a-1) * exc * x**(c-1)\n",
        "/Users/anita/anaconda/lib/python2.7/site-packages/scipy/stats/distributions.py:2747: DeprecationWarning: converting an array with ndim > 0 to an index will result in an error in the future\n",
        "  return a*c*(1-exc)**asarray(a-1) * exc * x**(c-1)\n",
        "/Users/anita/anaconda/lib/python2.7/site-packages/scipy/stats/distributions.py:2747: DeprecationWarning: converting an array with ndim > 0 to an index will result in an error in the future\n",
        "  return a*c*(1-exc)**asarray(a-1) * exc * x**(c-1)\n",
        "/Users/anita/anaconda/lib/python2.7/site-packages/scipy/stats/distributions.py:2747: DeprecationWarning: converting an array with ndim > 0 to an index will result in an error in the future\n",
        "  return a*c*(1-exc)**asarray(a-1) * exc * x**(c-1)\n",
        "/Users/anita/anaconda/lib/python2.7/site-packages/scipy/stats/distributions.py:2747: DeprecationWarning: converting an array with ndim > 0 to an index will result in an error in the future\n",
        "  return a*c*(1-exc)**asarray(a-1) * exc * x**(c-1)\n",
        "/Users/anita/anaconda/lib/python2.7/site-packages/scipy/stats/distributions.py:2747: DeprecationWarning: converting an array with ndim > 0 to an index will result in an error in the future\n",
        "  return a*c*(1-exc)**asarray(a-1) * exc * x**(c-1)\n",
        "/Users/anita/anaconda/lib/python2.7/site-packages/scipy/stats/distributions.py:2747: DeprecationWarning: converting an array with ndim > 0 to an index will result in an error in the future\n",
        "  return a*c*(1-exc)**asarray(a-1) * exc * x**(c-1)\n",
        "/Users/anita/anaconda/lib/python2.7/site-packages/scipy/stats/distributions.py:2747: DeprecationWarning: converting an array with ndim > 0 to an index will result in an error in the future\n",
        "  return a*c*(1-exc)**asarray(a-1) * exc * x**(c-1)\n",
        "/Users/anita/anaconda/lib/python2.7/site-packages/scipy/stats/distributions.py:2747: DeprecationWarning: converting an array with ndim > 0 to an index will result in an error in the future\n",
        "  return a*c*(1-exc)**asarray(a-1) * exc * x**(c-1)\n",
        "/Users/anita/anaconda/lib/python2.7/site-packages/scipy/stats/distributions.py:2747: DeprecationWarning: converting an array with ndim > 0 to an index will result in an error in the future\n",
        "  return a*c*(1-exc)**asarray(a-1) * exc * x**(c-1)\n",
        "/Users/anita/anaconda/lib/python2.7/site-packages/scipy/stats/distributions.py:2747: DeprecationWarning: converting an array with ndim > 0 to an index will result in an error in the future\n",
        "  return a*c*(1-exc)**asarray(a-1) * exc * x**(c-1)\n",
        "/Users/anita/anaconda/lib/python2.7/site-packages/scipy/stats/distributions.py:2747: DeprecationWarning: converting an array with ndim > 0 to an index will result in an error in the future\n",
        "  return a*c*(1-exc)**asarray(a-1) * exc * x**(c-1)\n",
        "/Users/anita/anaconda/lib/python2.7/site-packages/scipy/stats/distributions.py:2747: DeprecationWarning: converting an array with ndim > 0 to an index will result in an error in the future\n",
        "  return a*c*(1-exc)**asarray(a-1) * exc * x**(c-1)\n",
        "/Users/anita/anaconda/lib/python2.7/site-packages/scipy/stats/distributions.py:2747: DeprecationWarning: converting an array with ndim > 0 to an index will result in an error in the future\n",
        "  return a*c*(1-exc)**asarray(a-1) * exc * x**(c-1)\n",
        "/Users/anita/anaconda/lib/python2.7/site-packages/scipy/stats/distributions.py:2747: DeprecationWarning: converting an array with ndim > 0 to an index will result in an error in the future\n",
        "  return a*c*(1-exc)**asarray(a-1) * exc * x**(c-1)\n",
        "/Users/anita/anaconda/lib/python2.7/site-packages/scipy/stats/distributions.py:2747: DeprecationWarning: converting an array with ndim > 0 to an index will result in an error in the future\n",
        "  return a*c*(1-exc)**asarray(a-1) * exc * x**(c-1)\n",
        "/Users/anita/anaconda/lib/python2.7/site-packages/scipy/stats/distributions.py:2747: DeprecationWarning: converting an array with ndim > 0 to an index will result in an error in the future\n",
        "  return a*c*(1-exc)**asarray(a-1) * exc * x**(c-1)\n",
        "/Users/anita/anaconda/lib/python2.7/site-packages/scipy/stats/distributions.py:2747: DeprecationWarning: converting an array with ndim > 0 to an index will result in an error in the future\n",
        "  return a*c*(1-exc)**asarray(a-1) * exc * x**(c-1)\n",
        "/Users/anita/anaconda/lib/python2.7/site-packages/scipy/stats/distributions.py:2747: DeprecationWarning: converting an array with ndim > 0 to an index will result in an error in the future\n",
        "  return a*c*(1-exc)**asarray(a-1) * exc * x**(c-1)\n",
        "/Users/anita/anaconda/lib/python2.7/site-packages/scipy/stats/distributions.py:2747: DeprecationWarning: converting an array with ndim > 0 to an index will result in an error in the future\n",
        "  return a*c*(1-exc)**asarray(a-1) * exc * x**(c-1)\n",
        "/Users/anita/anaconda/lib/python2.7/site-packages/scipy/stats/distributions.py:2747: DeprecationWarning: converting an array with ndim > 0 to an index will result in an error in the future\n",
        "  return a*c*(1-exc)**asarray(a-1) * exc * x**(c-1)\n",
        "/Users/anita/anaconda/lib/python2.7/site-packages/scipy/stats/distributions.py:2747: DeprecationWarning: converting an array with ndim > 0 to an index will result in an error in the future\n",
        "  return a*c*(1-exc)**asarray(a-1) * exc * x**(c-1)\n",
        "/Users/anita/anaconda/lib/python2.7/site-packages/scipy/stats/distributions.py:2747: DeprecationWarning: converting an array with ndim > 0 to an index will result in an error in the future\n",
        "  return a*c*(1-exc)**asarray(a-1) * exc * x**(c-1)\n",
        "/Users/anita/anaconda/lib/python2.7/site-packages/scipy/stats/distributions.py:2747: DeprecationWarning: converting an array with ndim > 0 to an index will result in an error in the future\n",
        "  return a*c*(1-exc)**asarray(a-1) * exc * x**(c-1)\n",
        "/Users/anita/anaconda/lib/python2.7/site-packages/scipy/stats/distributions.py:2747: DeprecationWarning: converting an array with ndim > 0 to an index will result in an error in the future\n",
        "  return a*c*(1-exc)**asarray(a-1) * exc * x**(c-1)\n",
        "/Users/anita/anaconda/lib/python2.7/site-packages/scipy/stats/distributions.py:2747: DeprecationWarning: converting an array with ndim > 0 to an index will result in an error in the future\n",
        "  return a*c*(1-exc)**asarray(a-1) * exc * x**(c-1)\n",
        "/Users/anita/anaconda/lib/python2.7/site-packages/scipy/stats/distributions.py:2747: DeprecationWarning: converting an array with ndim > 0 to an index will result in an error in the future\n",
        "  return a*c*(1-exc)**asarray(a-1) * exc * x**(c-1)\n",
        "/Users/anita/anaconda/lib/python2.7/site-packages/scipy/stats/distributions.py:2747: DeprecationWarning: converting an array with ndim > 0 to an index will result in an error in the future\n",
        "  return a*c*(1-exc)**asarray(a-1) * exc * x**(c-1)\n",
        "/Users/anita/anaconda/lib/python2.7/site-packages/scipy/stats/distributions.py:2747: DeprecationWarning: converting an array with ndim > 0 to an index will result in an error in the future\n",
        "  return a*c*(1-exc)**asarray(a-1) * exc * x**(c-1)\n",
        "/Users/anita/anaconda/lib/python2.7/site-packages/scipy/stats/distributions.py:2747: DeprecationWarning: converting an array with ndim > 0 to an index will result in an error in the future\n",
        "  return a*c*(1-exc)**asarray(a-1) * exc * x**(c-1)\n",
        "/Users/anita/anaconda/lib/python2.7/site-packages/scipy/stats/distributions.py:2747: DeprecationWarning: converting an array with ndim > 0 to an index will result in an error in the future\n",
        "  return a*c*(1-exc)**asarray(a-1) * exc * x**(c-1)\n",
        "/Users/anita/anaconda/lib/python2.7/site-packages/scipy/stats/distributions.py:2747: DeprecationWarning: converting an array with ndim > 0 to an index will result in an error in the future\n",
        "  return a*c*(1-exc)**asarray(a-1) * exc * x**(c-1)\n",
        "/Users/anita/anaconda/lib/python2.7/site-packages/scipy/stats/distributions.py:2747: DeprecationWarning: converting an array with ndim > 0 to an index will result in an error in the future\n",
        "  return a*c*(1-exc)**asarray(a-1) * exc * x**(c-1)\n",
        "/Users/anita/anaconda/lib/python2.7/site-packages/scipy/stats/distributions.py:2747: DeprecationWarning: converting an array with ndim > 0 to an index will result in an error in the future\n",
        "  return a*c*(1-exc)**asarray(a-1) * exc * x**(c-1)\n",
        "/Users/anita/anaconda/lib/python2.7/site-packages/scipy/stats/distributions.py:2747: DeprecationWarning: converting an array with ndim > 0 to an index will result in an error in the future\n",
        "  return a*c*(1-exc)**asarray(a-1) * exc * x**(c-1)\n",
        "/Users/anita/anaconda/lib/python2.7/site-packages/scipy/stats/distributions.py:2747: DeprecationWarning: converting an array with ndim > 0 to an index will result in an error in the future\n",
        "  return a*c*(1-exc)**asarray(a-1) * exc * x**(c-1)\n",
        "/Users/anita/anaconda/lib/python2.7/site-packages/scipy/stats/distributions.py:2747: DeprecationWarning: converting an array with ndim > 0 to an index will result in an error in the future\n",
        "  return a*c*(1-exc)**asarray(a-1) * exc * x**(c-1)\n",
        "/Users/anita/anaconda/lib/python2.7/site-packages/scipy/stats/distributions.py:2747: DeprecationWarning: converting an array with ndim > 0 to an index will result in an error in the future\n",
        "  return a*c*(1-exc)**asarray(a-1) * exc * x**(c-1)\n",
        "/Users/anita/anaconda/lib/python2.7/site-packages/scipy/stats/distributions.py:2747: DeprecationWarning: converting an array with ndim > 0 to an index will result in an error in the future\n",
        "  return a*c*(1-exc)**asarray(a-1) * exc * x**(c-1)\n",
        "/Users/anita/anaconda/lib/python2.7/site-packages/scipy/stats/distributions.py:2747: DeprecationWarning: converting an array with ndim > 0 to an index will result in an error in the future\n",
        "  return a*c*(1-exc)**asarray(a-1) * exc * x**(c-1)\n",
        "/Users/anita/anaconda/lib/python2.7/site-packages/scipy/stats/distributions.py:2747: DeprecationWarning: converting an array with ndim > 0 to an index will result in an error in the future\n",
        "  return a*c*(1-exc)**asarray(a-1) * exc * x**(c-1)\n",
        "/Users/anita/anaconda/lib/python2.7/site-packages/scipy/stats/distributions.py:2747: DeprecationWarning: converting an array with ndim > 0 to an index will result in an error in the future\n",
        "  return a*c*(1-exc)**asarray(a-1) * exc * x**(c-1)\n",
        "/Users/anita/anaconda/lib/python2.7/site-packages/scipy/stats/distributions.py:2747: DeprecationWarning: converting an array with ndim > 0 to an index will result in an error in the future\n",
        "  return a*c*(1-exc)**asarray(a-1) * exc * x**(c-1)\n",
        "/Users/anita/anaconda/lib/python2.7/site-packages/scipy/stats/distributions.py:2747: DeprecationWarning: converting an array with ndim > 0 to an index will result in an error in the future\n",
        "  return a*c*(1-exc)**asarray(a-1) * exc * x**(c-1)\n",
        "/Users/anita/anaconda/lib/python2.7/site-packages/scipy/stats/distributions.py:2747: DeprecationWarning: converting an array with ndim > 0 to an index will result in an error in the future\n",
        "  return a*c*(1-exc)**asarray(a-1) * exc * x**(c-1)\n",
        "/Users/anita/anaconda/lib/python2.7/site-packages/scipy/stats/distributions.py:2747: DeprecationWarning: converting an array with ndim > 0 to an index will result in an error in the future\n",
        "  return a*c*(1-exc)**asarray(a-1) * exc * x**(c-1)\n",
        "/Users/anita/anaconda/lib/python2.7/site-packages/scipy/stats/distributions.py:2747: DeprecationWarning: converting an array with ndim > 0 to an index will result in an error in the future\n",
        "  return a*c*(1-exc)**asarray(a-1) * exc * x**(c-1)\n",
        "/Users/anita/anaconda/lib/python2.7/site-packages/scipy/stats/distributions.py:2747: DeprecationWarning: converting an array with ndim > 0 to an index will result in an error in the future\n",
        "  return a*c*(1-exc)**asarray(a-1) * exc * x**(c-1)\n",
        "/Users/anita/anaconda/lib/python2.7/site-packages/scipy/stats/distributions.py:2747: DeprecationWarning: converting an array with ndim > 0 to an index will result in an error in the future\n",
        "  return a*c*(1-exc)**asarray(a-1) * exc * x**(c-1)\n",
        "/Users/anita/anaconda/lib/python2.7/site-packages/scipy/stats/distributions.py:2747: DeprecationWarning: converting an array with ndim > 0 to an index will result in an error in the future\n",
        "  return a*c*(1-exc)**asarray(a-1) * exc * x**(c-1)\n",
        "/Users/anita/anaconda/lib/python2.7/site-packages/scipy/stats/distributions.py:2747: DeprecationWarning: converting an array with ndim > 0 to an index will result in an error in the future\n",
        "  return a*c*(1-exc)**asarray(a-1) * exc * x**(c-1)\n",
        "/Users/anita/anaconda/lib/python2.7/site-packages/scipy/stats/distributions.py:2747: DeprecationWarning: converting an array with ndim > 0 to an index will result in an error in the future\n",
        "  return a*c*(1-exc)**asarray(a-1) * exc * x**(c-1)\n",
        "/Users/anita/anaconda/lib/python2.7/site-packages/scipy/stats/distributions.py:2747: DeprecationWarning: converting an array with ndim > 0 to an index will result in an error in the future\n",
        "  return a*c*(1-exc)**asarray(a-1) * exc * x**(c-1)\n",
        "/Users/anita/anaconda/lib/python2.7/site-packages/scipy/stats/distributions.py:2747: DeprecationWarning: converting an array with ndim > 0 to an index will result in an error in the future\n",
        "  return a*c*(1-exc)**asarray(a-1) * exc * x**(c-1)\n",
        "/Users/anita/anaconda/lib/python2.7/site-packages/scipy/stats/distributions.py:2747: DeprecationWarning: converting an array with ndim > 0 to an index will result in an error in the future\n",
        "  return a*c*(1-exc)**asarray(a-1) * exc * x**(c-1)\n",
        "/Users/anita/anaconda/lib/python2.7/site-packages/scipy/stats/distributions.py:2747: DeprecationWarning: converting an array with ndim > 0 to an index will result in an error in the future\n",
        "  return a*c*(1-exc)**asarray(a-1) * exc * x**(c-1)\n",
        "/Users/anita/anaconda/lib/python2.7/site-packages/scipy/stats/distributions.py:2747: DeprecationWarning: converting an array with ndim > 0 to an index will result in an error in the future\n",
        "  return a*c*(1-exc)**asarray(a-1) * exc * x**(c-1)\n",
        "/Users/anita/anaconda/lib/python2.7/site-packages/scipy/stats/distributions.py:2747: DeprecationWarning: converting an array with ndim > 0 to an index will result in an error in the future\n",
        "  return a*c*(1-exc)**asarray(a-1) * exc * x**(c-1)\n",
        "/Users/anita/anaconda/lib/python2.7/site-packages/scipy/stats/distributions.py:2747: DeprecationWarning: converting an array with ndim > 0 to an index will result in an error in the future\n",
        "  return a*c*(1-exc)**asarray(a-1) * exc * x**(c-1)\n",
        "/Users/anita/anaconda/lib/python2.7/site-packages/scipy/stats/distributions.py:2747: DeprecationWarning: converting an array with ndim > 0 to an index will result in an error in the future\n",
        "  return a*c*(1-exc)**asarray(a-1) * exc * x**(c-1)\n",
        "/Users/anita/anaconda/lib/python2.7/site-packages/scipy/stats/distributions.py:2747: DeprecationWarning: converting an array with ndim > 0 to an index will result in an error in the future\n",
        "  return a*c*(1-exc)**asarray(a-1) * exc * x**(c-1)\n",
        "/Users/anita/anaconda/lib/python2.7/site-packages/scipy/stats/distributions.py:2747: DeprecationWarning: converting an array with ndim > 0 to an index will result in an error in the future\n",
        "  return a*c*(1-exc)**asarray(a-1) * exc * x**(c-1)\n",
        "/Users/anita/anaconda/lib/python2.7/site-packages/scipy/stats/distributions.py:2747: DeprecationWarning: converting an array with ndim > 0 to an index will result in an error in the future\n",
        "  return a*c*(1-exc)**asarray(a-1) * exc * x**(c-1)\n",
        "/Users/anita/anaconda/lib/python2.7/site-packages/scipy/stats/distributions.py:2747: DeprecationWarning: converting an array with ndim > 0 to an index will result in an error in the future\n",
        "  return a*c*(1-exc)**asarray(a-1) * exc * x**(c-1)\n",
        "/Users/anita/anaconda/lib/python2.7/site-packages/scipy/stats/distributions.py:2747: DeprecationWarning: converting an array with ndim > 0 to an index will result in an error in the future\n",
        "  return a*c*(1-exc)**asarray(a-1) * exc * x**(c-1)\n",
        "/Users/anita/anaconda/lib/python2.7/site-packages/scipy/stats/distributions.py:2747: DeprecationWarning: converting an array with ndim > 0 to an index will result in an error in the future\n",
        "  return a*c*(1-exc)**asarray(a-1) * exc * x**(c-1)\n"
       ]
      },
      {
       "output_type": "stream",
       "stream": "stderr",
       "text": [
        "/Users/anita/anaconda/lib/python2.7/site-packages/scipy/stats/distributions.py:2747: DeprecationWarning: converting an array with ndim > 0 to an index will result in an error in the future\n",
        "  return a*c*(1-exc)**asarray(a-1) * exc * x**(c-1)\n",
        "/Users/anita/anaconda/lib/python2.7/site-packages/scipy/stats/distributions.py:2747: DeprecationWarning: converting an array with ndim > 0 to an index will result in an error in the future\n",
        "  return a*c*(1-exc)**asarray(a-1) * exc * x**(c-1)\n",
        "/Users/anita/anaconda/lib/python2.7/site-packages/scipy/stats/distributions.py:2747: DeprecationWarning: converting an array with ndim > 0 to an index will result in an error in the future\n",
        "  return a*c*(1-exc)**asarray(a-1) * exc * x**(c-1)\n",
        "/Users/anita/anaconda/lib/python2.7/site-packages/scipy/stats/distributions.py:2747: DeprecationWarning: converting an array with ndim > 0 to an index will result in an error in the future\n",
        "  return a*c*(1-exc)**asarray(a-1) * exc * x**(c-1)\n",
        "/Users/anita/anaconda/lib/python2.7/site-packages/scipy/stats/distributions.py:2747: DeprecationWarning: converting an array with ndim > 0 to an index will result in an error in the future\n",
        "  return a*c*(1-exc)**asarray(a-1) * exc * x**(c-1)\n",
        "/Users/anita/anaconda/lib/python2.7/site-packages/scipy/stats/distributions.py:2747: DeprecationWarning: converting an array with ndim > 0 to an index will result in an error in the future\n",
        "  return a*c*(1-exc)**asarray(a-1) * exc * x**(c-1)\n",
        "/Users/anita/anaconda/lib/python2.7/site-packages/scipy/stats/distributions.py:2747: DeprecationWarning: converting an array with ndim > 0 to an index will result in an error in the future\n",
        "  return a*c*(1-exc)**asarray(a-1) * exc * x**(c-1)\n",
        "/Users/anita/anaconda/lib/python2.7/site-packages/scipy/stats/distributions.py:2747: DeprecationWarning: converting an array with ndim > 0 to an index will result in an error in the future\n",
        "  return a*c*(1-exc)**asarray(a-1) * exc * x**(c-1)\n",
        "/Users/anita/anaconda/lib/python2.7/site-packages/scipy/stats/distributions.py:2747: DeprecationWarning: converting an array with ndim > 0 to an index will result in an error in the future\n",
        "  return a*c*(1-exc)**asarray(a-1) * exc * x**(c-1)\n",
        "/Users/anita/anaconda/lib/python2.7/site-packages/scipy/stats/distributions.py:2747: DeprecationWarning: converting an array with ndim > 0 to an index will result in an error in the future\n",
        "  return a*c*(1-exc)**asarray(a-1) * exc * x**(c-1)\n",
        "/Users/anita/anaconda/lib/python2.7/site-packages/scipy/stats/distributions.py:2747: DeprecationWarning: converting an array with ndim > 0 to an index will result in an error in the future\n",
        "  return a*c*(1-exc)**asarray(a-1) * exc * x**(c-1)\n",
        "/Users/anita/anaconda/lib/python2.7/site-packages/scipy/stats/distributions.py:2747: DeprecationWarning: converting an array with ndim > 0 to an index will result in an error in the future\n",
        "  return a*c*(1-exc)**asarray(a-1) * exc * x**(c-1)\n",
        "/Users/anita/anaconda/lib/python2.7/site-packages/scipy/stats/distributions.py:2747: DeprecationWarning: converting an array with ndim > 0 to an index will result in an error in the future\n",
        "  return a*c*(1-exc)**asarray(a-1) * exc * x**(c-1)\n",
        "/Users/anita/anaconda/lib/python2.7/site-packages/scipy/stats/distributions.py:2747: DeprecationWarning: converting an array with ndim > 0 to an index will result in an error in the future\n",
        "  return a*c*(1-exc)**asarray(a-1) * exc * x**(c-1)\n",
        "/Users/anita/anaconda/lib/python2.7/site-packages/scipy/stats/distributions.py:2747: DeprecationWarning: converting an array with ndim > 0 to an index will result in an error in the future\n",
        "  return a*c*(1-exc)**asarray(a-1) * exc * x**(c-1)\n",
        "/Users/anita/anaconda/lib/python2.7/site-packages/scipy/stats/distributions.py:2747: DeprecationWarning: converting an array with ndim > 0 to an index will result in an error in the future\n",
        "  return a*c*(1-exc)**asarray(a-1) * exc * x**(c-1)\n",
        "/Users/anita/anaconda/lib/python2.7/site-packages/scipy/stats/distributions.py:2747: DeprecationWarning: converting an array with ndim > 0 to an index will result in an error in the future\n",
        "  return a*c*(1-exc)**asarray(a-1) * exc * x**(c-1)\n",
        "/Users/anita/anaconda/lib/python2.7/site-packages/scipy/stats/distributions.py:2747: DeprecationWarning: converting an array with ndim > 0 to an index will result in an error in the future\n",
        "  return a*c*(1-exc)**asarray(a-1) * exc * x**(c-1)\n",
        "/Users/anita/anaconda/lib/python2.7/site-packages/scipy/stats/distributions.py:2747: DeprecationWarning: converting an array with ndim > 0 to an index will result in an error in the future\n",
        "  return a*c*(1-exc)**asarray(a-1) * exc * x**(c-1)\n",
        "/Users/anita/anaconda/lib/python2.7/site-packages/scipy/stats/distributions.py:2747: DeprecationWarning: converting an array with ndim > 0 to an index will result in an error in the future\n",
        "  return a*c*(1-exc)**asarray(a-1) * exc * x**(c-1)\n",
        "/Users/anita/anaconda/lib/python2.7/site-packages/scipy/stats/distributions.py:2747: DeprecationWarning: converting an array with ndim > 0 to an index will result in an error in the future\n",
        "  return a*c*(1-exc)**asarray(a-1) * exc * x**(c-1)\n",
        "/Users/anita/anaconda/lib/python2.7/site-packages/scipy/stats/distributions.py:2747: DeprecationWarning: converting an array with ndim > 0 to an index will result in an error in the future\n",
        "  return a*c*(1-exc)**asarray(a-1) * exc * x**(c-1)\n",
        "/Users/anita/anaconda/lib/python2.7/site-packages/scipy/stats/distributions.py:2747: DeprecationWarning: converting an array with ndim > 0 to an index will result in an error in the future\n",
        "  return a*c*(1-exc)**asarray(a-1) * exc * x**(c-1)\n",
        "/Users/anita/anaconda/lib/python2.7/site-packages/scipy/stats/distributions.py:2747: DeprecationWarning: converting an array with ndim > 0 to an index will result in an error in the future\n",
        "  return a*c*(1-exc)**asarray(a-1) * exc * x**(c-1)\n",
        "/Users/anita/anaconda/lib/python2.7/site-packages/scipy/stats/distributions.py:2747: DeprecationWarning: converting an array with ndim > 0 to an index will result in an error in the future\n",
        "  return a*c*(1-exc)**asarray(a-1) * exc * x**(c-1)\n",
        "/Users/anita/anaconda/lib/python2.7/site-packages/scipy/stats/distributions.py:2747: DeprecationWarning: converting an array with ndim > 0 to an index will result in an error in the future\n",
        "  return a*c*(1-exc)**asarray(a-1) * exc * x**(c-1)\n",
        "/Users/anita/anaconda/lib/python2.7/site-packages/scipy/stats/distributions.py:2747: DeprecationWarning: converting an array with ndim > 0 to an index will result in an error in the future\n",
        "  return a*c*(1-exc)**asarray(a-1) * exc * x**(c-1)\n",
        "/Users/anita/anaconda/lib/python2.7/site-packages/scipy/stats/distributions.py:2747: DeprecationWarning: converting an array with ndim > 0 to an index will result in an error in the future\n",
        "  return a*c*(1-exc)**asarray(a-1) * exc * x**(c-1)\n",
        "/Users/anita/anaconda/lib/python2.7/site-packages/scipy/stats/distributions.py:2747: DeprecationWarning: converting an array with ndim > 0 to an index will result in an error in the future\n",
        "  return a*c*(1-exc)**asarray(a-1) * exc * x**(c-1)\n",
        "/Users/anita/anaconda/lib/python2.7/site-packages/scipy/stats/distributions.py:2747: DeprecationWarning: converting an array with ndim > 0 to an index will result in an error in the future\n",
        "  return a*c*(1-exc)**asarray(a-1) * exc * x**(c-1)\n",
        "/Users/anita/anaconda/lib/python2.7/site-packages/scipy/stats/distributions.py:2747: DeprecationWarning: converting an array with ndim > 0 to an index will result in an error in the future\n",
        "  return a*c*(1-exc)**asarray(a-1) * exc * x**(c-1)\n",
        "/Users/anita/anaconda/lib/python2.7/site-packages/scipy/stats/distributions.py:2747: DeprecationWarning: converting an array with ndim > 0 to an index will result in an error in the future\n",
        "  return a*c*(1-exc)**asarray(a-1) * exc * x**(c-1)\n",
        "/Users/anita/anaconda/lib/python2.7/site-packages/scipy/stats/distributions.py:2747: DeprecationWarning: converting an array with ndim > 0 to an index will result in an error in the future\n",
        "  return a*c*(1-exc)**asarray(a-1) * exc * x**(c-1)\n",
        "/Users/anita/anaconda/lib/python2.7/site-packages/scipy/stats/distributions.py:2747: DeprecationWarning: converting an array with ndim > 0 to an index will result in an error in the future\n",
        "  return a*c*(1-exc)**asarray(a-1) * exc * x**(c-1)\n",
        "/Users/anita/anaconda/lib/python2.7/site-packages/scipy/stats/distributions.py:2747: DeprecationWarning: converting an array with ndim > 0 to an index will result in an error in the future\n",
        "  return a*c*(1-exc)**asarray(a-1) * exc * x**(c-1)\n",
        "/Users/anita/anaconda/lib/python2.7/site-packages/scipy/stats/distributions.py:2747: DeprecationWarning: converting an array with ndim > 0 to an index will result in an error in the future\n",
        "  return a*c*(1-exc)**asarray(a-1) * exc * x**(c-1)\n",
        "/Users/anita/anaconda/lib/python2.7/site-packages/scipy/stats/distributions.py:2747: DeprecationWarning: converting an array with ndim > 0 to an index will result in an error in the future\n",
        "  return a*c*(1-exc)**asarray(a-1) * exc * x**(c-1)\n",
        "/Users/anita/anaconda/lib/python2.7/site-packages/scipy/stats/distributions.py:2747: DeprecationWarning: converting an array with ndim > 0 to an index will result in an error in the future\n",
        "  return a*c*(1-exc)**asarray(a-1) * exc * x**(c-1)\n",
        "/Users/anita/anaconda/lib/python2.7/site-packages/scipy/stats/distributions.py:2747: DeprecationWarning: converting an array with ndim > 0 to an index will result in an error in the future\n",
        "  return a*c*(1-exc)**asarray(a-1) * exc * x**(c-1)\n",
        "/Users/anita/anaconda/lib/python2.7/site-packages/scipy/stats/distributions.py:2747: DeprecationWarning: converting an array with ndim > 0 to an index will result in an error in the future\n",
        "  return a*c*(1-exc)**asarray(a-1) * exc * x**(c-1)\n",
        "/Users/anita/anaconda/lib/python2.7/site-packages/scipy/stats/distributions.py:2747: DeprecationWarning: converting an array with ndim > 0 to an index will result in an error in the future\n",
        "  return a*c*(1-exc)**asarray(a-1) * exc * x**(c-1)\n",
        "/Users/anita/anaconda/lib/python2.7/site-packages/scipy/stats/distributions.py:2747: DeprecationWarning: converting an array with ndim > 0 to an index will result in an error in the future\n",
        "  return a*c*(1-exc)**asarray(a-1) * exc * x**(c-1)\n",
        "/Users/anita/anaconda/lib/python2.7/site-packages/scipy/stats/distributions.py:2747: DeprecationWarning: converting an array with ndim > 0 to an index will result in an error in the future\n",
        "  return a*c*(1-exc)**asarray(a-1) * exc * x**(c-1)\n",
        "/Users/anita/anaconda/lib/python2.7/site-packages/scipy/stats/distributions.py:2747: DeprecationWarning: converting an array with ndim > 0 to an index will result in an error in the future\n",
        "  return a*c*(1-exc)**asarray(a-1) * exc * x**(c-1)\n",
        "/Users/anita/anaconda/lib/python2.7/site-packages/scipy/stats/distributions.py:2747: DeprecationWarning: converting an array with ndim > 0 to an index will result in an error in the future\n",
        "  return a*c*(1-exc)**asarray(a-1) * exc * x**(c-1)\n",
        "/Users/anita/anaconda/lib/python2.7/site-packages/scipy/stats/distributions.py:2747: DeprecationWarning: converting an array with ndim > 0 to an index will result in an error in the future\n",
        "  return a*c*(1-exc)**asarray(a-1) * exc * x**(c-1)\n",
        "/Users/anita/anaconda/lib/python2.7/site-packages/scipy/stats/distributions.py:2747: DeprecationWarning: converting an array with ndim > 0 to an index will result in an error in the future\n",
        "  return a*c*(1-exc)**asarray(a-1) * exc * x**(c-1)\n",
        "/Users/anita/anaconda/lib/python2.7/site-packages/scipy/stats/distributions.py:2747: DeprecationWarning: converting an array with ndim > 0 to an index will result in an error in the future\n",
        "  return a*c*(1-exc)**asarray(a-1) * exc * x**(c-1)\n",
        "/Users/anita/anaconda/lib/python2.7/site-packages/scipy/stats/distributions.py:2747: DeprecationWarning: converting an array with ndim > 0 to an index will result in an error in the future\n",
        "  return a*c*(1-exc)**asarray(a-1) * exc * x**(c-1)\n",
        "/Users/anita/anaconda/lib/python2.7/site-packages/scipy/stats/distributions.py:2747: DeprecationWarning: converting an array with ndim > 0 to an index will result in an error in the future\n",
        "  return a*c*(1-exc)**asarray(a-1) * exc * x**(c-1)\n",
        "/Users/anita/anaconda/lib/python2.7/site-packages/scipy/stats/distributions.py:2747: DeprecationWarning: converting an array with ndim > 0 to an index will result in an error in the future\n",
        "  return a*c*(1-exc)**asarray(a-1) * exc * x**(c-1)\n",
        "/Users/anita/anaconda/lib/python2.7/site-packages/scipy/stats/distributions.py:2747: DeprecationWarning: converting an array with ndim > 0 to an index will result in an error in the future\n",
        "  return a*c*(1-exc)**asarray(a-1) * exc * x**(c-1)\n",
        "/Users/anita/anaconda/lib/python2.7/site-packages/scipy/stats/distributions.py:2747: DeprecationWarning: converting an array with ndim > 0 to an index will result in an error in the future\n",
        "  return a*c*(1-exc)**asarray(a-1) * exc * x**(c-1)\n",
        "/Users/anita/anaconda/lib/python2.7/site-packages/scipy/stats/distributions.py:2747: DeprecationWarning: converting an array with ndim > 0 to an index will result in an error in the future\n",
        "  return a*c*(1-exc)**asarray(a-1) * exc * x**(c-1)\n",
        "/Users/anita/anaconda/lib/python2.7/site-packages/scipy/stats/distributions.py:2747: DeprecationWarning: converting an array with ndim > 0 to an index will result in an error in the future\n",
        "  return a*c*(1-exc)**asarray(a-1) * exc * x**(c-1)\n",
        "/Users/anita/anaconda/lib/python2.7/site-packages/scipy/stats/distributions.py:2747: DeprecationWarning: converting an array with ndim > 0 to an index will result in an error in the future\n",
        "  return a*c*(1-exc)**asarray(a-1) * exc * x**(c-1)\n",
        "/Users/anita/anaconda/lib/python2.7/site-packages/scipy/stats/distributions.py:2747: DeprecationWarning: converting an array with ndim > 0 to an index will result in an error in the future\n",
        "  return a*c*(1-exc)**asarray(a-1) * exc * x**(c-1)\n",
        "/Users/anita/anaconda/lib/python2.7/site-packages/scipy/stats/distributions.py:2747: DeprecationWarning: converting an array with ndim > 0 to an index will result in an error in the future\n",
        "  return a*c*(1-exc)**asarray(a-1) * exc * x**(c-1)\n",
        "/Users/anita/anaconda/lib/python2.7/site-packages/scipy/stats/distributions.py:2747: DeprecationWarning: converting an array with ndim > 0 to an index will result in an error in the future\n",
        "  return a*c*(1-exc)**asarray(a-1) * exc * x**(c-1)\n",
        "/Users/anita/anaconda/lib/python2.7/site-packages/scipy/stats/distributions.py:2747: DeprecationWarning: converting an array with ndim > 0 to an index will result in an error in the future\n",
        "  return a*c*(1-exc)**asarray(a-1) * exc * x**(c-1)\n",
        "/Users/anita/anaconda/lib/python2.7/site-packages/scipy/stats/distributions.py:2747: DeprecationWarning: converting an array with ndim > 0 to an index will result in an error in the future\n",
        "  return a*c*(1-exc)**asarray(a-1) * exc * x**(c-1)\n",
        "/Users/anita/anaconda/lib/python2.7/site-packages/scipy/stats/distributions.py:2747: DeprecationWarning: converting an array with ndim > 0 to an index will result in an error in the future\n",
        "  return a*c*(1-exc)**asarray(a-1) * exc * x**(c-1)\n",
        "/Users/anita/anaconda/lib/python2.7/site-packages/scipy/stats/distributions.py:2747: DeprecationWarning: converting an array with ndim > 0 to an index will result in an error in the future\n",
        "  return a*c*(1-exc)**asarray(a-1) * exc * x**(c-1)\n",
        "/Users/anita/anaconda/lib/python2.7/site-packages/scipy/stats/distributions.py:2747: DeprecationWarning: converting an array with ndim > 0 to an index will result in an error in the future\n",
        "  return a*c*(1-exc)**asarray(a-1) * exc * x**(c-1)\n"
       ]
      },
      {
       "output_type": "stream",
       "stream": "stderr",
       "text": [
        "/Users/anita/anaconda/lib/python2.7/site-packages/scipy/stats/distributions.py:2747: DeprecationWarning: converting an array with ndim > 0 to an index will result in an error in the future\n",
        "  return a*c*(1-exc)**asarray(a-1) * exc * x**(c-1)\n",
        "/Users/anita/anaconda/lib/python2.7/site-packages/scipy/stats/distributions.py:2747: DeprecationWarning: converting an array with ndim > 0 to an index will result in an error in the future\n",
        "  return a*c*(1-exc)**asarray(a-1) * exc * x**(c-1)\n",
        "/Users/anita/anaconda/lib/python2.7/site-packages/scipy/stats/distributions.py:2747: DeprecationWarning: converting an array with ndim > 0 to an index will result in an error in the future\n",
        "  return a*c*(1-exc)**asarray(a-1) * exc * x**(c-1)\n",
        "/Users/anita/anaconda/lib/python2.7/site-packages/scipy/stats/distributions.py:2747: DeprecationWarning: converting an array with ndim > 0 to an index will result in an error in the future\n",
        "  return a*c*(1-exc)**asarray(a-1) * exc * x**(c-1)\n",
        "/Users/anita/anaconda/lib/python2.7/site-packages/scipy/stats/distributions.py:2747: DeprecationWarning: converting an array with ndim > 0 to an index will result in an error in the future\n",
        "  return a*c*(1-exc)**asarray(a-1) * exc * x**(c-1)\n",
        "/Users/anita/anaconda/lib/python2.7/site-packages/scipy/stats/distributions.py:2747: DeprecationWarning: converting an array with ndim > 0 to an index will result in an error in the future\n",
        "  return a*c*(1-exc)**asarray(a-1) * exc * x**(c-1)\n",
        "/Users/anita/anaconda/lib/python2.7/site-packages/scipy/stats/distributions.py:2747: DeprecationWarning: converting an array with ndim > 0 to an index will result in an error in the future\n",
        "  return a*c*(1-exc)**asarray(a-1) * exc * x**(c-1)\n",
        "/Users/anita/anaconda/lib/python2.7/site-packages/scipy/stats/distributions.py:2747: DeprecationWarning: converting an array with ndim > 0 to an index will result in an error in the future\n",
        "  return a*c*(1-exc)**asarray(a-1) * exc * x**(c-1)\n",
        "/Users/anita/anaconda/lib/python2.7/site-packages/scipy/stats/distributions.py:2747: DeprecationWarning: converting an array with ndim > 0 to an index will result in an error in the future\n",
        "  return a*c*(1-exc)**asarray(a-1) * exc * x**(c-1)\n",
        "/Users/anita/anaconda/lib/python2.7/site-packages/scipy/stats/distributions.py:2747: DeprecationWarning: converting an array with ndim > 0 to an index will result in an error in the future\n",
        "  return a*c*(1-exc)**asarray(a-1) * exc * x**(c-1)\n",
        "/Users/anita/anaconda/lib/python2.7/site-packages/scipy/stats/distributions.py:2747: DeprecationWarning: converting an array with ndim > 0 to an index will result in an error in the future\n",
        "  return a*c*(1-exc)**asarray(a-1) * exc * x**(c-1)\n",
        "/Users/anita/anaconda/lib/python2.7/site-packages/scipy/stats/distributions.py:2747: DeprecationWarning: converting an array with ndim > 0 to an index will result in an error in the future\n",
        "  return a*c*(1-exc)**asarray(a-1) * exc * x**(c-1)\n",
        "/Users/anita/anaconda/lib/python2.7/site-packages/scipy/stats/distributions.py:2747: DeprecationWarning: converting an array with ndim > 0 to an index will result in an error in the future\n",
        "  return a*c*(1-exc)**asarray(a-1) * exc * x**(c-1)\n",
        "/Users/anita/anaconda/lib/python2.7/site-packages/scipy/stats/distributions.py:2747: DeprecationWarning: converting an array with ndim > 0 to an index will result in an error in the future\n",
        "  return a*c*(1-exc)**asarray(a-1) * exc * x**(c-1)\n",
        "/Users/anita/anaconda/lib/python2.7/site-packages/scipy/stats/distributions.py:2747: DeprecationWarning: converting an array with ndim > 0 to an index will result in an error in the future\n",
        "  return a*c*(1-exc)**asarray(a-1) * exc * x**(c-1)\n",
        "/Users/anita/anaconda/lib/python2.7/site-packages/scipy/stats/distributions.py:2747: DeprecationWarning: converting an array with ndim > 0 to an index will result in an error in the future\n",
        "  return a*c*(1-exc)**asarray(a-1) * exc * x**(c-1)\n",
        "/Users/anita/anaconda/lib/python2.7/site-packages/scipy/stats/distributions.py:2747: DeprecationWarning: converting an array with ndim > 0 to an index will result in an error in the future\n",
        "  return a*c*(1-exc)**asarray(a-1) * exc * x**(c-1)\n",
        "/Users/anita/anaconda/lib/python2.7/site-packages/scipy/stats/distributions.py:2747: DeprecationWarning: converting an array with ndim > 0 to an index will result in an error in the future\n",
        "  return a*c*(1-exc)**asarray(a-1) * exc * x**(c-1)\n",
        "/Users/anita/anaconda/lib/python2.7/site-packages/scipy/stats/distributions.py:2747: DeprecationWarning: converting an array with ndim > 0 to an index will result in an error in the future\n",
        "  return a*c*(1-exc)**asarray(a-1) * exc * x**(c-1)\n",
        "/Users/anita/anaconda/lib/python2.7/site-packages/scipy/stats/distributions.py:2747: DeprecationWarning: converting an array with ndim > 0 to an index will result in an error in the future\n",
        "  return a*c*(1-exc)**asarray(a-1) * exc * x**(c-1)\n",
        "/Users/anita/anaconda/lib/python2.7/site-packages/scipy/stats/distributions.py:2747: DeprecationWarning: converting an array with ndim > 0 to an index will result in an error in the future\n",
        "  return a*c*(1-exc)**asarray(a-1) * exc * x**(c-1)\n",
        "/Users/anita/anaconda/lib/python2.7/site-packages/scipy/stats/distributions.py:2747: DeprecationWarning: converting an array with ndim > 0 to an index will result in an error in the future\n",
        "  return a*c*(1-exc)**asarray(a-1) * exc * x**(c-1)\n",
        "/Users/anita/anaconda/lib/python2.7/site-packages/scipy/stats/distributions.py:2747: DeprecationWarning: converting an array with ndim > 0 to an index will result in an error in the future\n",
        "  return a*c*(1-exc)**asarray(a-1) * exc * x**(c-1)\n",
        "/Users/anita/anaconda/lib/python2.7/site-packages/scipy/stats/distributions.py:2747: DeprecationWarning: converting an array with ndim > 0 to an index will result in an error in the future\n",
        "  return a*c*(1-exc)**asarray(a-1) * exc * x**(c-1)\n",
        "/Users/anita/anaconda/lib/python2.7/site-packages/scipy/stats/distributions.py:2747: DeprecationWarning: converting an array with ndim > 0 to an index will result in an error in the future\n",
        "  return a*c*(1-exc)**asarray(a-1) * exc * x**(c-1)\n",
        "/Users/anita/anaconda/lib/python2.7/site-packages/scipy/stats/distributions.py:2747: DeprecationWarning: converting an array with ndim > 0 to an index will result in an error in the future\n",
        "  return a*c*(1-exc)**asarray(a-1) * exc * x**(c-1)\n",
        "/Users/anita/anaconda/lib/python2.7/site-packages/scipy/stats/distributions.py:2747: DeprecationWarning: converting an array with ndim > 0 to an index will result in an error in the future\n",
        "  return a*c*(1-exc)**asarray(a-1) * exc * x**(c-1)\n",
        "/Users/anita/anaconda/lib/python2.7/site-packages/scipy/stats/distributions.py:2747: DeprecationWarning: converting an array with ndim > 0 to an index will result in an error in the future\n",
        "  return a*c*(1-exc)**asarray(a-1) * exc * x**(c-1)\n",
        "/Users/anita/anaconda/lib/python2.7/site-packages/scipy/stats/distributions.py:2747: DeprecationWarning: converting an array with ndim > 0 to an index will result in an error in the future\n",
        "  return a*c*(1-exc)**asarray(a-1) * exc * x**(c-1)\n",
        "/Users/anita/anaconda/lib/python2.7/site-packages/scipy/stats/distributions.py:2747: DeprecationWarning: converting an array with ndim > 0 to an index will result in an error in the future\n",
        "  return a*c*(1-exc)**asarray(a-1) * exc * x**(c-1)\n",
        "/Users/anita/anaconda/lib/python2.7/site-packages/scipy/stats/distributions.py:2747: DeprecationWarning: converting an array with ndim > 0 to an index will result in an error in the future\n",
        "  return a*c*(1-exc)**asarray(a-1) * exc * x**(c-1)\n",
        "/Users/anita/anaconda/lib/python2.7/site-packages/scipy/stats/distributions.py:2747: DeprecationWarning: converting an array with ndim > 0 to an index will result in an error in the future\n",
        "  return a*c*(1-exc)**asarray(a-1) * exc * x**(c-1)\n",
        "/Users/anita/anaconda/lib/python2.7/site-packages/scipy/stats/distributions.py:2747: DeprecationWarning: converting an array with ndim > 0 to an index will result in an error in the future\n",
        "  return a*c*(1-exc)**asarray(a-1) * exc * x**(c-1)\n",
        "/Users/anita/anaconda/lib/python2.7/site-packages/scipy/stats/distributions.py:2747: DeprecationWarning: converting an array with ndim > 0 to an index will result in an error in the future\n",
        "  return a*c*(1-exc)**asarray(a-1) * exc * x**(c-1)\n",
        "/Users/anita/anaconda/lib/python2.7/site-packages/scipy/stats/distributions.py:2747: DeprecationWarning: converting an array with ndim > 0 to an index will result in an error in the future\n",
        "  return a*c*(1-exc)**asarray(a-1) * exc * x**(c-1)\n",
        "/Users/anita/anaconda/lib/python2.7/site-packages/scipy/stats/distributions.py:2747: DeprecationWarning: converting an array with ndim > 0 to an index will result in an error in the future\n",
        "  return a*c*(1-exc)**asarray(a-1) * exc * x**(c-1)\n",
        "/Users/anita/anaconda/lib/python2.7/site-packages/scipy/stats/distributions.py:2747: DeprecationWarning: converting an array with ndim > 0 to an index will result in an error in the future\n",
        "  return a*c*(1-exc)**asarray(a-1) * exc * x**(c-1)\n",
        "/Users/anita/anaconda/lib/python2.7/site-packages/scipy/stats/distributions.py:2746: DeprecationWarning: converting an array with ndim > 0 to an index will result in an error in the future\n",
        "  exc = exp(-x**c)\n",
        "/Users/anita/anaconda/lib/python2.7/site-packages/scipy/stats/distributions.py:2747: DeprecationWarning: converting an array with ndim > 0 to an index will result in an error in the future\n",
        "  return a*c*(1-exc)**asarray(a-1) * exc * x**(c-1)\n",
        "/Users/anita/anaconda/lib/python2.7/site-packages/scipy/stats/distributions.py:2747: DeprecationWarning: converting an array with ndim > 0 to an index will result in an error in the future\n",
        "  return a*c*(1-exc)**asarray(a-1) * exc * x**(c-1)\n",
        "/Users/anita/anaconda/lib/python2.7/site-packages/scipy/stats/distributions.py:2749: DeprecationWarning: converting an array with ndim > 0 to an index will result in an error in the future\n",
        "  exc = exp(-x**c)\n",
        "/Users/anita/anaconda/lib/python2.7/site-packages/scipy/stats/distributions.py:2750: DeprecationWarning: converting an array with ndim > 0 to an index will result in an error in the future\n",
        "  return log(a) + log(c) + (a-1.)*log(1-exc) - x**c + (c-1.0)*log(x)\n",
        "/Users/anita/anaconda/lib/python2.7/site-packages/scipy/stats/distributions.py:2746: DeprecationWarning: converting an array with ndim > 0 to an index will result in an error in the future\n",
        "  exc = exp(-x**c)\n",
        "/Users/anita/anaconda/lib/python2.7/site-packages/scipy/stats/distributions.py:2747: DeprecationWarning: converting an array with ndim > 0 to an index will result in an error in the future\n",
        "  return a*c*(1-exc)**asarray(a-1) * exc * x**(c-1)\n",
        "/Users/anita/anaconda/lib/python2.7/site-packages/scipy/stats/distributions.py:2747: DeprecationWarning: converting an array with ndim > 0 to an index will result in an error in the future\n",
        "  return a*c*(1-exc)**asarray(a-1) * exc * x**(c-1)\n",
        "/Users/anita/anaconda/lib/python2.7/site-packages/scipy/stats/distributions.py:2749: DeprecationWarning: converting an array with ndim > 0 to an index will result in an error in the future\n",
        "  exc = exp(-x**c)\n",
        "/Users/anita/anaconda/lib/python2.7/site-packages/scipy/stats/distributions.py:2750: DeprecationWarning: converting an array with ndim > 0 to an index will result in an error in the future\n",
        "  return log(a) + log(c) + (a-1.)*log(1-exc) - x**c + (c-1.0)*log(x)\n",
        "/Users/anita/anaconda/lib/python2.7/site-packages/scipy/stats/distributions.py:2746: DeprecationWarning: converting an array with ndim > 0 to an index will result in an error in the future\n",
        "  exc = exp(-x**c)\n"
       ]
      },
      {
       "output_type": "stream",
       "stream": "stderr",
       "text": [
        "/Users/anita/anaconda/lib/python2.7/site-packages/scipy/stats/distributions.py:2747: DeprecationWarning: converting an array with ndim > 0 to an index will result in an error in the future\n",
        "  return a*c*(1-exc)**asarray(a-1) * exc * x**(c-1)\n",
        "/Users/anita/anaconda/lib/python2.7/site-packages/scipy/stats/distributions.py:2747: DeprecationWarning: converting an array with ndim > 0 to an index will result in an error in the future\n",
        "  return a*c*(1-exc)**asarray(a-1) * exc * x**(c-1)\n",
        "/Users/anita/anaconda/lib/python2.7/site-packages/scipy/stats/distributions.py:2749: DeprecationWarning: converting an array with ndim > 0 to an index will result in an error in the future\n",
        "  exc = exp(-x**c)\n",
        "/Users/anita/anaconda/lib/python2.7/site-packages/scipy/stats/distributions.py:2750: DeprecationWarning: converting an array with ndim > 0 to an index will result in an error in the future\n",
        "  return log(a) + log(c) + (a-1.)*log(1-exc) - x**c + (c-1.0)*log(x)\n",
        "/Users/anita/anaconda/lib/python2.7/site-packages/scipy/stats/distributions.py:2746: DeprecationWarning: converting an array with ndim > 0 to an index will result in an error in the future\n",
        "  exc = exp(-x**c)\n",
        "/Users/anita/anaconda/lib/python2.7/site-packages/scipy/stats/distributions.py:2747: DeprecationWarning: converting an array with ndim > 0 to an index will result in an error in the future\n",
        "  return a*c*(1-exc)**asarray(a-1) * exc * x**(c-1)\n",
        "/Users/anita/anaconda/lib/python2.7/site-packages/scipy/stats/distributions.py:2747: DeprecationWarning: converting an array with ndim > 0 to an index will result in an error in the future\n",
        "  return a*c*(1-exc)**asarray(a-1) * exc * x**(c-1)\n",
        "/Users/anita/anaconda/lib/python2.7/site-packages/scipy/stats/distributions.py:2749: DeprecationWarning: converting an array with ndim > 0 to an index will result in an error in the future\n",
        "  exc = exp(-x**c)\n",
        "/Users/anita/anaconda/lib/python2.7/site-packages/scipy/stats/distributions.py:2750: DeprecationWarning: converting an array with ndim > 0 to an index will result in an error in the future\n",
        "  return log(a) + log(c) + (a-1.)*log(1-exc) - x**c + (c-1.0)*log(x)\n",
        "/Users/anita/anaconda/lib/python2.7/site-packages/scipy/stats/distributions.py:2746: DeprecationWarning: converting an array with ndim > 0 to an index will result in an error in the future\n",
        "  exc = exp(-x**c)\n",
        "/Users/anita/anaconda/lib/python2.7/site-packages/scipy/stats/distributions.py:2747: DeprecationWarning: converting an array with ndim > 0 to an index will result in an error in the future\n",
        "  return a*c*(1-exc)**asarray(a-1) * exc * x**(c-1)\n",
        "/Users/anita/anaconda/lib/python2.7/site-packages/scipy/stats/distributions.py:2747: DeprecationWarning: converting an array with ndim > 0 to an index will result in an error in the future\n",
        "  return a*c*(1-exc)**asarray(a-1) * exc * x**(c-1)\n",
        "/Users/anita/anaconda/lib/python2.7/site-packages/scipy/stats/distributions.py:2749: DeprecationWarning: converting an array with ndim > 0 to an index will result in an error in the future\n",
        "  exc = exp(-x**c)\n",
        "/Users/anita/anaconda/lib/python2.7/site-packages/scipy/stats/distributions.py:2750: DeprecationWarning: converting an array with ndim > 0 to an index will result in an error in the future\n",
        "  return log(a) + log(c) + (a-1.)*log(1-exc) - x**c + (c-1.0)*log(x)\n",
        "/Users/anita/anaconda/lib/python2.7/site-packages/scipy/stats/distributions.py:2746: DeprecationWarning: converting an array with ndim > 0 to an index will result in an error in the future\n",
        "  exc = exp(-x**c)\n",
        "/Users/anita/anaconda/lib/python2.7/site-packages/scipy/stats/distributions.py:2747: DeprecationWarning: converting an array with ndim > 0 to an index will result in an error in the future\n",
        "  return a*c*(1-exc)**asarray(a-1) * exc * x**(c-1)\n",
        "/Users/anita/anaconda/lib/python2.7/site-packages/scipy/stats/distributions.py:2747: DeprecationWarning: converting an array with ndim > 0 to an index will result in an error in the future\n",
        "  return a*c*(1-exc)**asarray(a-1) * exc * x**(c-1)\n",
        "/Users/anita/anaconda/lib/python2.7/site-packages/scipy/stats/distributions.py:2749: DeprecationWarning: converting an array with ndim > 0 to an index will result in an error in the future\n",
        "  exc = exp(-x**c)\n",
        "/Users/anita/anaconda/lib/python2.7/site-packages/scipy/stats/distributions.py:2750: DeprecationWarning: converting an array with ndim > 0 to an index will result in an error in the future\n",
        "  return log(a) + log(c) + (a-1.)*log(1-exc) - x**c + (c-1.0)*log(x)\n",
        "/Users/anita/anaconda/lib/python2.7/site-packages/scipy/stats/distributions.py:2746: DeprecationWarning: converting an array with ndim > 0 to an index will result in an error in the future\n",
        "  exc = exp(-x**c)\n",
        "/Users/anita/anaconda/lib/python2.7/site-packages/scipy/stats/distributions.py:2747: DeprecationWarning: converting an array with ndim > 0 to an index will result in an error in the future\n",
        "  return a*c*(1-exc)**asarray(a-1) * exc * x**(c-1)\n",
        "/Users/anita/anaconda/lib/python2.7/site-packages/scipy/stats/distributions.py:2747: DeprecationWarning: converting an array with ndim > 0 to an index will result in an error in the future\n",
        "  return a*c*(1-exc)**asarray(a-1) * exc * x**(c-1)\n",
        "/Users/anita/anaconda/lib/python2.7/site-packages/scipy/stats/distributions.py:2749: DeprecationWarning: converting an array with ndim > 0 to an index will result in an error in the future\n",
        "  exc = exp(-x**c)\n",
        "/Users/anita/anaconda/lib/python2.7/site-packages/scipy/stats/distributions.py:2750: DeprecationWarning: converting an array with ndim > 0 to an index will result in an error in the future\n",
        "  return log(a) + log(c) + (a-1.)*log(1-exc) - x**c + (c-1.0)*log(x)\n",
        "/Users/anita/anaconda/lib/python2.7/site-packages/scipy/stats/distributions.py:2746: DeprecationWarning: converting an array with ndim > 0 to an index will result in an error in the future\n",
        "  exc = exp(-x**c)\n",
        "/Users/anita/anaconda/lib/python2.7/site-packages/scipy/stats/distributions.py:2747: DeprecationWarning: converting an array with ndim > 0 to an index will result in an error in the future\n",
        "  return a*c*(1-exc)**asarray(a-1) * exc * x**(c-1)\n",
        "/Users/anita/anaconda/lib/python2.7/site-packages/scipy/stats/distributions.py:2747: DeprecationWarning: converting an array with ndim > 0 to an index will result in an error in the future\n",
        "  return a*c*(1-exc)**asarray(a-1) * exc * x**(c-1)\n",
        "/Users/anita/anaconda/lib/python2.7/site-packages/scipy/stats/distributions.py:2749: DeprecationWarning: converting an array with ndim > 0 to an index will result in an error in the future\n",
        "  exc = exp(-x**c)\n",
        "/Users/anita/anaconda/lib/python2.7/site-packages/scipy/stats/distributions.py:2750: DeprecationWarning: converting an array with ndim > 0 to an index will result in an error in the future\n",
        "  return log(a) + log(c) + (a-1.)*log(1-exc) - x**c + (c-1.0)*log(x)\n",
        "/Users/anita/anaconda/lib/python2.7/site-packages/scipy/stats/distributions.py:2746: DeprecationWarning: converting an array with ndim > 0 to an index will result in an error in the future\n",
        "  exc = exp(-x**c)\n",
        "/Users/anita/anaconda/lib/python2.7/site-packages/scipy/stats/distributions.py:2747: DeprecationWarning: converting an array with ndim > 0 to an index will result in an error in the future\n",
        "  return a*c*(1-exc)**asarray(a-1) * exc * x**(c-1)\n",
        "/Users/anita/anaconda/lib/python2.7/site-packages/scipy/stats/distributions.py:2747: DeprecationWarning: converting an array with ndim > 0 to an index will result in an error in the future\n",
        "  return a*c*(1-exc)**asarray(a-1) * exc * x**(c-1)\n",
        "/Users/anita/anaconda/lib/python2.7/site-packages/scipy/stats/distributions.py:2749: DeprecationWarning: converting an array with ndim > 0 to an index will result in an error in the future\n",
        "  exc = exp(-x**c)\n",
        "/Users/anita/anaconda/lib/python2.7/site-packages/scipy/stats/distributions.py:2750: DeprecationWarning: converting an array with ndim > 0 to an index will result in an error in the future\n",
        "  return log(a) + log(c) + (a-1.)*log(1-exc) - x**c + (c-1.0)*log(x)\n",
        "/Users/anita/anaconda/lib/python2.7/site-packages/scipy/stats/distributions.py:2746: DeprecationWarning: converting an array with ndim > 0 to an index will result in an error in the future\n",
        "  exc = exp(-x**c)\n",
        "/Users/anita/anaconda/lib/python2.7/site-packages/scipy/stats/distributions.py:2747: DeprecationWarning: converting an array with ndim > 0 to an index will result in an error in the future\n",
        "  return a*c*(1-exc)**asarray(a-1) * exc * x**(c-1)\n",
        "/Users/anita/anaconda/lib/python2.7/site-packages/scipy/stats/distributions.py:2747: DeprecationWarning: converting an array with ndim > 0 to an index will result in an error in the future\n",
        "  return a*c*(1-exc)**asarray(a-1) * exc * x**(c-1)\n",
        "/Users/anita/anaconda/lib/python2.7/site-packages/scipy/stats/distributions.py:2749: DeprecationWarning: converting an array with ndim > 0 to an index will result in an error in the future\n",
        "  exc = exp(-x**c)\n",
        "/Users/anita/anaconda/lib/python2.7/site-packages/scipy/stats/distributions.py:2750: DeprecationWarning: converting an array with ndim > 0 to an index will result in an error in the future\n",
        "  return log(a) + log(c) + (a-1.)*log(1-exc) - x**c + (c-1.0)*log(x)\n",
        "/Users/anita/anaconda/lib/python2.7/site-packages/scipy/stats/distributions.py:2746: DeprecationWarning: converting an array with ndim > 0 to an index will result in an error in the future\n",
        "  exc = exp(-x**c)\n",
        "/Users/anita/anaconda/lib/python2.7/site-packages/scipy/stats/distributions.py:2747: DeprecationWarning: converting an array with ndim > 0 to an index will result in an error in the future\n",
        "  return a*c*(1-exc)**asarray(a-1) * exc * x**(c-1)\n",
        "/Users/anita/anaconda/lib/python2.7/site-packages/scipy/stats/distributions.py:2747: DeprecationWarning: converting an array with ndim > 0 to an index will result in an error in the future\n",
        "  return a*c*(1-exc)**asarray(a-1) * exc * x**(c-1)\n",
        "/Users/anita/anaconda/lib/python2.7/site-packages/scipy/stats/distributions.py:2749: DeprecationWarning: converting an array with ndim > 0 to an index will result in an error in the future\n",
        "  exc = exp(-x**c)\n",
        "/Users/anita/anaconda/lib/python2.7/site-packages/scipy/stats/distributions.py:2750: DeprecationWarning: converting an array with ndim > 0 to an index will result in an error in the future\n",
        "  return log(a) + log(c) + (a-1.)*log(1-exc) - x**c + (c-1.0)*log(x)\n",
        "/Users/anita/anaconda/lib/python2.7/site-packages/scipy/stats/distributions.py:2746: DeprecationWarning: converting an array with ndim > 0 to an index will result in an error in the future\n",
        "  exc = exp(-x**c)\n",
        "/Users/anita/anaconda/lib/python2.7/site-packages/scipy/stats/distributions.py:2747: DeprecationWarning: converting an array with ndim > 0 to an index will result in an error in the future\n",
        "  return a*c*(1-exc)**asarray(a-1) * exc * x**(c-1)\n",
        "/Users/anita/anaconda/lib/python2.7/site-packages/scipy/stats/distributions.py:2747: DeprecationWarning: converting an array with ndim > 0 to an index will result in an error in the future\n",
        "  return a*c*(1-exc)**asarray(a-1) * exc * x**(c-1)\n",
        "/Users/anita/anaconda/lib/python2.7/site-packages/scipy/stats/distributions.py:2749: DeprecationWarning: converting an array with ndim > 0 to an index will result in an error in the future\n",
        "  exc = exp(-x**c)\n",
        "/Users/anita/anaconda/lib/python2.7/site-packages/scipy/stats/distributions.py:2750: DeprecationWarning: converting an array with ndim > 0 to an index will result in an error in the future\n",
        "  return log(a) + log(c) + (a-1.)*log(1-exc) - x**c + (c-1.0)*log(x)\n",
        "/Users/anita/anaconda/lib/python2.7/site-packages/scipy/stats/distributions.py:2746: DeprecationWarning: converting an array with ndim > 0 to an index will result in an error in the future\n",
        "  exc = exp(-x**c)\n",
        "/Users/anita/anaconda/lib/python2.7/site-packages/scipy/stats/distributions.py:2747: DeprecationWarning: converting an array with ndim > 0 to an index will result in an error in the future\n",
        "  return a*c*(1-exc)**asarray(a-1) * exc * x**(c-1)\n",
        "/Users/anita/anaconda/lib/python2.7/site-packages/scipy/stats/distributions.py:2747: DeprecationWarning: converting an array with ndim > 0 to an index will result in an error in the future\n",
        "  return a*c*(1-exc)**asarray(a-1) * exc * x**(c-1)\n",
        "/Users/anita/anaconda/lib/python2.7/site-packages/scipy/stats/distributions.py:2749: DeprecationWarning: converting an array with ndim > 0 to an index will result in an error in the future\n",
        "  exc = exp(-x**c)\n",
        "/Users/anita/anaconda/lib/python2.7/site-packages/scipy/stats/distributions.py:2750: DeprecationWarning: converting an array with ndim > 0 to an index will result in an error in the future\n",
        "  return log(a) + log(c) + (a-1.)*log(1-exc) - x**c + (c-1.0)*log(x)\n",
        "/Users/anita/anaconda/lib/python2.7/site-packages/scipy/stats/distributions.py:2746: DeprecationWarning: converting an array with ndim > 0 to an index will result in an error in the future\n",
        "  exc = exp(-x**c)\n",
        "/Users/anita/anaconda/lib/python2.7/site-packages/scipy/stats/distributions.py:2747: DeprecationWarning: converting an array with ndim > 0 to an index will result in an error in the future\n",
        "  return a*c*(1-exc)**asarray(a-1) * exc * x**(c-1)\n",
        "/Users/anita/anaconda/lib/python2.7/site-packages/scipy/stats/distributions.py:2747: DeprecationWarning: converting an array with ndim > 0 to an index will result in an error in the future\n",
        "  return a*c*(1-exc)**asarray(a-1) * exc * x**(c-1)\n",
        "/Users/anita/anaconda/lib/python2.7/site-packages/scipy/stats/distributions.py:2749: DeprecationWarning: converting an array with ndim > 0 to an index will result in an error in the future\n",
        "  exc = exp(-x**c)\n",
        "/Users/anita/anaconda/lib/python2.7/site-packages/scipy/stats/distributions.py:2750: DeprecationWarning: converting an array with ndim > 0 to an index will result in an error in the future\n",
        "  return log(a) + log(c) + (a-1.)*log(1-exc) - x**c + (c-1.0)*log(x)\n",
        "/Users/anita/anaconda/lib/python2.7/site-packages/scipy/stats/distributions.py:2746: DeprecationWarning: converting an array with ndim > 0 to an index will result in an error in the future\n",
        "  exc = exp(-x**c)\n",
        "/Users/anita/anaconda/lib/python2.7/site-packages/scipy/stats/distributions.py:2747: DeprecationWarning: converting an array with ndim > 0 to an index will result in an error in the future\n",
        "  return a*c*(1-exc)**asarray(a-1) * exc * x**(c-1)\n",
        "/Users/anita/anaconda/lib/python2.7/site-packages/scipy/stats/distributions.py:2747: DeprecationWarning: converting an array with ndim > 0 to an index will result in an error in the future\n",
        "  return a*c*(1-exc)**asarray(a-1) * exc * x**(c-1)\n",
        "/Users/anita/anaconda/lib/python2.7/site-packages/scipy/stats/distributions.py:2749: DeprecationWarning: converting an array with ndim > 0 to an index will result in an error in the future\n",
        "  exc = exp(-x**c)\n",
        "/Users/anita/anaconda/lib/python2.7/site-packages/scipy/stats/distributions.py:2750: DeprecationWarning: converting an array with ndim > 0 to an index will result in an error in the future\n",
        "  return log(a) + log(c) + (a-1.)*log(1-exc) - x**c + (c-1.0)*log(x)\n",
        "/Users/anita/anaconda/lib/python2.7/site-packages/scipy/stats/distributions.py:2746: DeprecationWarning: converting an array with ndim > 0 to an index will result in an error in the future\n",
        "  exc = exp(-x**c)\n",
        "/Users/anita/anaconda/lib/python2.7/site-packages/scipy/stats/distributions.py:2747: DeprecationWarning: converting an array with ndim > 0 to an index will result in an error in the future\n",
        "  return a*c*(1-exc)**asarray(a-1) * exc * x**(c-1)\n",
        "/Users/anita/anaconda/lib/python2.7/site-packages/scipy/stats/distributions.py:2747: DeprecationWarning: converting an array with ndim > 0 to an index will result in an error in the future\n",
        "  return a*c*(1-exc)**asarray(a-1) * exc * x**(c-1)\n",
        "/Users/anita/anaconda/lib/python2.7/site-packages/scipy/stats/distributions.py:2749: DeprecationWarning: converting an array with ndim > 0 to an index will result in an error in the future\n",
        "  exc = exp(-x**c)\n",
        "/Users/anita/anaconda/lib/python2.7/site-packages/scipy/stats/distributions.py:2750: DeprecationWarning: converting an array with ndim > 0 to an index will result in an error in the future\n",
        "  return log(a) + log(c) + (a-1.)*log(1-exc) - x**c + (c-1.0)*log(x)\n",
        "/Users/anita/anaconda/lib/python2.7/site-packages/scipy/stats/distributions.py:2746: DeprecationWarning: converting an array with ndim > 0 to an index will result in an error in the future\n",
        "  exc = exp(-x**c)\n",
        "/Users/anita/anaconda/lib/python2.7/site-packages/scipy/stats/distributions.py:2747: DeprecationWarning: converting an array with ndim > 0 to an index will result in an error in the future\n",
        "  return a*c*(1-exc)**asarray(a-1) * exc * x**(c-1)\n",
        "/Users/anita/anaconda/lib/python2.7/site-packages/scipy/stats/distributions.py:2747: DeprecationWarning: converting an array with ndim > 0 to an index will result in an error in the future\n",
        "  return a*c*(1-exc)**asarray(a-1) * exc * x**(c-1)\n",
        "/Users/anita/anaconda/lib/python2.7/site-packages/scipy/stats/distributions.py:2749: DeprecationWarning: converting an array with ndim > 0 to an index will result in an error in the future\n",
        "  exc = exp(-x**c)\n",
        "/Users/anita/anaconda/lib/python2.7/site-packages/scipy/stats/distributions.py:2750: DeprecationWarning: converting an array with ndim > 0 to an index will result in an error in the future\n",
        "  return log(a) + log(c) + (a-1.)*log(1-exc) - x**c + (c-1.0)*log(x)\n",
        "/Users/anita/anaconda/lib/python2.7/site-packages/scipy/stats/distributions.py:2746: DeprecationWarning: converting an array with ndim > 0 to an index will result in an error in the future\n",
        "  exc = exp(-x**c)\n",
        "/Users/anita/anaconda/lib/python2.7/site-packages/scipy/stats/distributions.py:2747: DeprecationWarning: converting an array with ndim > 0 to an index will result in an error in the future\n",
        "  return a*c*(1-exc)**asarray(a-1) * exc * x**(c-1)\n",
        "/Users/anita/anaconda/lib/python2.7/site-packages/scipy/stats/distributions.py:2747: DeprecationWarning: converting an array with ndim > 0 to an index will result in an error in the future\n",
        "  return a*c*(1-exc)**asarray(a-1) * exc * x**(c-1)\n",
        "/Users/anita/anaconda/lib/python2.7/site-packages/scipy/stats/distributions.py:2749: DeprecationWarning: converting an array with ndim > 0 to an index will result in an error in the future\n",
        "  exc = exp(-x**c)\n",
        "/Users/anita/anaconda/lib/python2.7/site-packages/scipy/stats/distributions.py:2750: DeprecationWarning: converting an array with ndim > 0 to an index will result in an error in the future\n",
        "  return log(a) + log(c) + (a-1.)*log(1-exc) - x**c + (c-1.0)*log(x)\n",
        "/Users/anita/anaconda/lib/python2.7/site-packages/scipy/stats/distributions.py:2746: DeprecationWarning: converting an array with ndim > 0 to an index will result in an error in the future\n",
        "  exc = exp(-x**c)\n",
        "/Users/anita/anaconda/lib/python2.7/site-packages/scipy/stats/distributions.py:2747: DeprecationWarning: converting an array with ndim > 0 to an index will result in an error in the future\n",
        "  return a*c*(1-exc)**asarray(a-1) * exc * x**(c-1)\n",
        "/Users/anita/anaconda/lib/python2.7/site-packages/scipy/stats/distributions.py:2747: DeprecationWarning: converting an array with ndim > 0 to an index will result in an error in the future\n",
        "  return a*c*(1-exc)**asarray(a-1) * exc * x**(c-1)\n",
        "/Users/anita/anaconda/lib/python2.7/site-packages/scipy/stats/distributions.py:2749: DeprecationWarning: converting an array with ndim > 0 to an index will result in an error in the future\n",
        "  exc = exp(-x**c)\n",
        "/Users/anita/anaconda/lib/python2.7/site-packages/scipy/stats/distributions.py:2750: DeprecationWarning: converting an array with ndim > 0 to an index will result in an error in the future\n",
        "  return log(a) + log(c) + (a-1.)*log(1-exc) - x**c + (c-1.0)*log(x)\n",
        "/Users/anita/anaconda/lib/python2.7/site-packages/scipy/stats/distributions.py:2746: DeprecationWarning: converting an array with ndim > 0 to an index will result in an error in the future\n",
        "  exc = exp(-x**c)\n",
        "/Users/anita/anaconda/lib/python2.7/site-packages/scipy/stats/distributions.py:2747: DeprecationWarning: converting an array with ndim > 0 to an index will result in an error in the future\n",
        "  return a*c*(1-exc)**asarray(a-1) * exc * x**(c-1)\n",
        "/Users/anita/anaconda/lib/python2.7/site-packages/scipy/stats/distributions.py:2747: DeprecationWarning: converting an array with ndim > 0 to an index will result in an error in the future\n",
        "  return a*c*(1-exc)**asarray(a-1) * exc * x**(c-1)\n",
        "/Users/anita/anaconda/lib/python2.7/site-packages/scipy/stats/distributions.py:2749: DeprecationWarning: converting an array with ndim > 0 to an index will result in an error in the future\n",
        "  exc = exp(-x**c)\n",
        "/Users/anita/anaconda/lib/python2.7/site-packages/scipy/stats/distributions.py:2750: DeprecationWarning: converting an array with ndim > 0 to an index will result in an error in the future\n",
        "  return log(a) + log(c) + (a-1.)*log(1-exc) - x**c + (c-1.0)*log(x)\n",
        "/Users/anita/anaconda/lib/python2.7/site-packages/scipy/stats/distributions.py:2746: DeprecationWarning: converting an array with ndim > 0 to an index will result in an error in the future\n",
        "  exc = exp(-x**c)\n",
        "/Users/anita/anaconda/lib/python2.7/site-packages/scipy/stats/distributions.py:2747: DeprecationWarning: converting an array with ndim > 0 to an index will result in an error in the future\n",
        "  return a*c*(1-exc)**asarray(a-1) * exc * x**(c-1)\n",
        "/Users/anita/anaconda/lib/python2.7/site-packages/scipy/stats/distributions.py:2747: DeprecationWarning: converting an array with ndim > 0 to an index will result in an error in the future\n",
        "  return a*c*(1-exc)**asarray(a-1) * exc * x**(c-1)\n",
        "/Users/anita/anaconda/lib/python2.7/site-packages/scipy/stats/distributions.py:2749: DeprecationWarning: converting an array with ndim > 0 to an index will result in an error in the future\n",
        "  exc = exp(-x**c)\n",
        "/Users/anita/anaconda/lib/python2.7/site-packages/scipy/stats/distributions.py:2750: DeprecationWarning: converting an array with ndim > 0 to an index will result in an error in the future\n",
        "  return log(a) + log(c) + (a-1.)*log(1-exc) - x**c + (c-1.0)*log(x)\n",
        "/Users/anita/anaconda/lib/python2.7/site-packages/scipy/stats/distributions.py:2746: DeprecationWarning: converting an array with ndim > 0 to an index will result in an error in the future\n",
        "  exc = exp(-x**c)\n",
        "/Users/anita/anaconda/lib/python2.7/site-packages/scipy/stats/distributions.py:2747: DeprecationWarning: converting an array with ndim > 0 to an index will result in an error in the future\n",
        "  return a*c*(1-exc)**asarray(a-1) * exc * x**(c-1)\n",
        "/Users/anita/anaconda/lib/python2.7/site-packages/scipy/stats/distributions.py:2747: DeprecationWarning: converting an array with ndim > 0 to an index will result in an error in the future\n",
        "  return a*c*(1-exc)**asarray(a-1) * exc * x**(c-1)\n",
        "/Users/anita/anaconda/lib/python2.7/site-packages/scipy/stats/distributions.py:2749: DeprecationWarning: converting an array with ndim > 0 to an index will result in an error in the future\n",
        "  exc = exp(-x**c)\n",
        "/Users/anita/anaconda/lib/python2.7/site-packages/scipy/stats/distributions.py:2750: DeprecationWarning: converting an array with ndim > 0 to an index will result in an error in the future\n",
        "  return log(a) + log(c) + (a-1.)*log(1-exc) - x**c + (c-1.0)*log(x)\n",
        "/Users/anita/anaconda/lib/python2.7/site-packages/scipy/stats/distributions.py:2746: DeprecationWarning: converting an array with ndim > 0 to an index will result in an error in the future\n",
        "  exc = exp(-x**c)\n",
        "/Users/anita/anaconda/lib/python2.7/site-packages/scipy/stats/distributions.py:2747: DeprecationWarning: converting an array with ndim > 0 to an index will result in an error in the future\n",
        "  return a*c*(1-exc)**asarray(a-1) * exc * x**(c-1)\n",
        "/Users/anita/anaconda/lib/python2.7/site-packages/scipy/stats/distributions.py:2747: DeprecationWarning: converting an array with ndim > 0 to an index will result in an error in the future\n",
        "  return a*c*(1-exc)**asarray(a-1) * exc * x**(c-1)\n",
        "/Users/anita/anaconda/lib/python2.7/site-packages/scipy/stats/distributions.py:2749: DeprecationWarning: converting an array with ndim > 0 to an index will result in an error in the future\n",
        "  exc = exp(-x**c)\n",
        "/Users/anita/anaconda/lib/python2.7/site-packages/scipy/stats/distributions.py:2750: DeprecationWarning: converting an array with ndim > 0 to an index will result in an error in the future\n",
        "  return log(a) + log(c) + (a-1.)*log(1-exc) - x**c + (c-1.0)*log(x)\n",
        "/Users/anita/anaconda/lib/python2.7/site-packages/scipy/stats/distributions.py:2746: DeprecationWarning: converting an array with ndim > 0 to an index will result in an error in the future\n",
        "  exc = exp(-x**c)\n",
        "/Users/anita/anaconda/lib/python2.7/site-packages/scipy/stats/distributions.py:2747: DeprecationWarning: converting an array with ndim > 0 to an index will result in an error in the future\n",
        "  return a*c*(1-exc)**asarray(a-1) * exc * x**(c-1)\n",
        "/Users/anita/anaconda/lib/python2.7/site-packages/scipy/stats/distributions.py:2747: DeprecationWarning: converting an array with ndim > 0 to an index will result in an error in the future\n",
        "  return a*c*(1-exc)**asarray(a-1) * exc * x**(c-1)\n",
        "/Users/anita/anaconda/lib/python2.7/site-packages/scipy/stats/distributions.py:2749: DeprecationWarning: converting an array with ndim > 0 to an index will result in an error in the future\n",
        "  exc = exp(-x**c)\n",
        "/Users/anita/anaconda/lib/python2.7/site-packages/scipy/stats/distributions.py:2750: DeprecationWarning: converting an array with ndim > 0 to an index will result in an error in the future\n",
        "  return log(a) + log(c) + (a-1.)*log(1-exc) - x**c + (c-1.0)*log(x)\n",
        "/Users/anita/anaconda/lib/python2.7/site-packages/scipy/stats/distributions.py:2746: DeprecationWarning: converting an array with ndim > 0 to an index will result in an error in the future\n",
        "  exc = exp(-x**c)\n",
        "/Users/anita/anaconda/lib/python2.7/site-packages/scipy/stats/distributions.py:2747: DeprecationWarning: converting an array with ndim > 0 to an index will result in an error in the future\n",
        "  return a*c*(1-exc)**asarray(a-1) * exc * x**(c-1)\n",
        "/Users/anita/anaconda/lib/python2.7/site-packages/scipy/stats/distributions.py:2747: DeprecationWarning: converting an array with ndim > 0 to an index will result in an error in the future\n",
        "  return a*c*(1-exc)**asarray(a-1) * exc * x**(c-1)\n",
        "/Users/anita/anaconda/lib/python2.7/site-packages/scipy/stats/distributions.py:2749: DeprecationWarning: converting an array with ndim > 0 to an index will result in an error in the future\n",
        "  exc = exp(-x**c)\n",
        "/Users/anita/anaconda/lib/python2.7/site-packages/scipy/stats/distributions.py:2750: DeprecationWarning: converting an array with ndim > 0 to an index will result in an error in the future\n",
        "  return log(a) + log(c) + (a-1.)*log(1-exc) - x**c + (c-1.0)*log(x)\n",
        "/Users/anita/anaconda/lib/python2.7/site-packages/scipy/stats/distributions.py:2746: DeprecationWarning: converting an array with ndim > 0 to an index will result in an error in the future\n",
        "  exc = exp(-x**c)\n",
        "/Users/anita/anaconda/lib/python2.7/site-packages/scipy/stats/distributions.py:2747: DeprecationWarning: converting an array with ndim > 0 to an index will result in an error in the future\n",
        "  return a*c*(1-exc)**asarray(a-1) * exc * x**(c-1)\n",
        "/Users/anita/anaconda/lib/python2.7/site-packages/scipy/stats/distributions.py:2747: DeprecationWarning: converting an array with ndim > 0 to an index will result in an error in the future\n",
        "  return a*c*(1-exc)**asarray(a-1) * exc * x**(c-1)\n",
        "/Users/anita/anaconda/lib/python2.7/site-packages/scipy/stats/distributions.py:2749: DeprecationWarning: converting an array with ndim > 0 to an index will result in an error in the future\n",
        "  exc = exp(-x**c)\n",
        "/Users/anita/anaconda/lib/python2.7/site-packages/scipy/stats/distributions.py:2750: DeprecationWarning: converting an array with ndim > 0 to an index will result in an error in the future\n",
        "  return log(a) + log(c) + (a-1.)*log(1-exc) - x**c + (c-1.0)*log(x)\n",
        "/Users/anita/anaconda/lib/python2.7/site-packages/scipy/stats/distributions.py:2746: DeprecationWarning: converting an array with ndim > 0 to an index will result in an error in the future\n",
        "  exc = exp(-x**c)\n",
        "/Users/anita/anaconda/lib/python2.7/site-packages/scipy/stats/distributions.py:2747: DeprecationWarning: converting an array with ndim > 0 to an index will result in an error in the future\n",
        "  return a*c*(1-exc)**asarray(a-1) * exc * x**(c-1)\n",
        "/Users/anita/anaconda/lib/python2.7/site-packages/scipy/stats/distributions.py:2747: DeprecationWarning: converting an array with ndim > 0 to an index will result in an error in the future\n",
        "  return a*c*(1-exc)**asarray(a-1) * exc * x**(c-1)\n",
        "/Users/anita/anaconda/lib/python2.7/site-packages/scipy/stats/distributions.py:2749: DeprecationWarning: converting an array with ndim > 0 to an index will result in an error in the future\n",
        "  exc = exp(-x**c)\n",
        "/Users/anita/anaconda/lib/python2.7/site-packages/scipy/stats/distributions.py:2750: DeprecationWarning: converting an array with ndim > 0 to an index will result in an error in the future\n",
        "  return log(a) + log(c) + (a-1.)*log(1-exc) - x**c + (c-1.0)*log(x)\n",
        "/Users/anita/anaconda/lib/python2.7/site-packages/scipy/stats/distributions.py:2746: DeprecationWarning: converting an array with ndim > 0 to an index will result in an error in the future\n",
        "  exc = exp(-x**c)\n",
        "/Users/anita/anaconda/lib/python2.7/site-packages/scipy/stats/distributions.py:2747: DeprecationWarning: converting an array with ndim > 0 to an index will result in an error in the future\n",
        "  return a*c*(1-exc)**asarray(a-1) * exc * x**(c-1)\n",
        "/Users/anita/anaconda/lib/python2.7/site-packages/scipy/stats/distributions.py:2747: DeprecationWarning: converting an array with ndim > 0 to an index will result in an error in the future\n",
        "  return a*c*(1-exc)**asarray(a-1) * exc * x**(c-1)\n",
        "/Users/anita/anaconda/lib/python2.7/site-packages/scipy/stats/distributions.py:2749: DeprecationWarning: converting an array with ndim > 0 to an index will result in an error in the future\n",
        "  exc = exp(-x**c)\n",
        "/Users/anita/anaconda/lib/python2.7/site-packages/scipy/stats/distributions.py:2750: DeprecationWarning: converting an array with ndim > 0 to an index will result in an error in the future\n",
        "  return log(a) + log(c) + (a-1.)*log(1-exc) - x**c + (c-1.0)*log(x)\n",
        "/Users/anita/anaconda/lib/python2.7/site-packages/scipy/stats/distributions.py:2746: DeprecationWarning: converting an array with ndim > 0 to an index will result in an error in the future\n",
        "  exc = exp(-x**c)\n",
        "/Users/anita/anaconda/lib/python2.7/site-packages/scipy/stats/distributions.py:2747: DeprecationWarning: converting an array with ndim > 0 to an index will result in an error in the future\n",
        "  return a*c*(1-exc)**asarray(a-1) * exc * x**(c-1)\n",
        "/Users/anita/anaconda/lib/python2.7/site-packages/scipy/stats/distributions.py:2747: DeprecationWarning: converting an array with ndim > 0 to an index will result in an error in the future\n",
        "  return a*c*(1-exc)**asarray(a-1) * exc * x**(c-1)\n",
        "/Users/anita/anaconda/lib/python2.7/site-packages/scipy/stats/distributions.py:2749: DeprecationWarning: converting an array with ndim > 0 to an index will result in an error in the future\n",
        "  exc = exp(-x**c)\n",
        "/Users/anita/anaconda/lib/python2.7/site-packages/scipy/stats/distributions.py:2750: DeprecationWarning: converting an array with ndim > 0 to an index will result in an error in the future\n",
        "  return log(a) + log(c) + (a-1.)*log(1-exc) - x**c + (c-1.0)*log(x)\n",
        "/Users/anita/anaconda/lib/python2.7/site-packages/scipy/stats/distributions.py:2746: DeprecationWarning: converting an array with ndim > 0 to an index will result in an error in the future\n",
        "  exc = exp(-x**c)\n",
        "/Users/anita/anaconda/lib/python2.7/site-packages/scipy/stats/distributions.py:2747: DeprecationWarning: converting an array with ndim > 0 to an index will result in an error in the future\n",
        "  return a*c*(1-exc)**asarray(a-1) * exc * x**(c-1)\n",
        "/Users/anita/anaconda/lib/python2.7/site-packages/scipy/stats/distributions.py:2747: DeprecationWarning: converting an array with ndim > 0 to an index will result in an error in the future\n",
        "  return a*c*(1-exc)**asarray(a-1) * exc * x**(c-1)\n",
        "/Users/anita/anaconda/lib/python2.7/site-packages/scipy/stats/distributions.py:2749: DeprecationWarning: converting an array with ndim > 0 to an index will result in an error in the future\n",
        "  exc = exp(-x**c)\n",
        "/Users/anita/anaconda/lib/python2.7/site-packages/scipy/stats/distributions.py:2750: DeprecationWarning: converting an array with ndim > 0 to an index will result in an error in the future\n",
        "  return log(a) + log(c) + (a-1.)*log(1-exc) - x**c + (c-1.0)*log(x)\n",
        "/Users/anita/anaconda/lib/python2.7/site-packages/scipy/stats/distributions.py:2746: DeprecationWarning: converting an array with ndim > 0 to an index will result in an error in the future\n",
        "  exc = exp(-x**c)\n",
        "/Users/anita/anaconda/lib/python2.7/site-packages/scipy/stats/distributions.py:2747: DeprecationWarning: converting an array with ndim > 0 to an index will result in an error in the future\n",
        "  return a*c*(1-exc)**asarray(a-1) * exc * x**(c-1)\n",
        "/Users/anita/anaconda/lib/python2.7/site-packages/scipy/stats/distributions.py:2747: DeprecationWarning: converting an array with ndim > 0 to an index will result in an error in the future\n",
        "  return a*c*(1-exc)**asarray(a-1) * exc * x**(c-1)\n",
        "/Users/anita/anaconda/lib/python2.7/site-packages/scipy/stats/distributions.py:2749: DeprecationWarning: converting an array with ndim > 0 to an index will result in an error in the future\n",
        "  exc = exp(-x**c)\n",
        "/Users/anita/anaconda/lib/python2.7/site-packages/scipy/stats/distributions.py:2750: DeprecationWarning: converting an array with ndim > 0 to an index will result in an error in the future\n",
        "  return log(a) + log(c) + (a-1.)*log(1-exc) - x**c + (c-1.0)*log(x)\n",
        "/Users/anita/anaconda/lib/python2.7/site-packages/scipy/stats/distributions.py:2746: DeprecationWarning: converting an array with ndim > 0 to an index will result in an error in the future\n",
        "  exc = exp(-x**c)\n",
        "/Users/anita/anaconda/lib/python2.7/site-packages/scipy/stats/distributions.py:2747: DeprecationWarning: converting an array with ndim > 0 to an index will result in an error in the future\n",
        "  return a*c*(1-exc)**asarray(a-1) * exc * x**(c-1)\n",
        "/Users/anita/anaconda/lib/python2.7/site-packages/scipy/stats/distributions.py:2747: DeprecationWarning: converting an array with ndim > 0 to an index will result in an error in the future\n",
        "  return a*c*(1-exc)**asarray(a-1) * exc * x**(c-1)\n",
        "/Users/anita/anaconda/lib/python2.7/site-packages/scipy/stats/distributions.py:2749: DeprecationWarning: converting an array with ndim > 0 to an index will result in an error in the future\n",
        "  exc = exp(-x**c)\n",
        "/Users/anita/anaconda/lib/python2.7/site-packages/scipy/stats/distributions.py:2750: DeprecationWarning: converting an array with ndim > 0 to an index will result in an error in the future\n",
        "  return log(a) + log(c) + (a-1.)*log(1-exc) - x**c + (c-1.0)*log(x)\n",
        "/Users/anita/anaconda/lib/python2.7/site-packages/scipy/stats/distributions.py:2746: DeprecationWarning: converting an array with ndim > 0 to an index will result in an error in the future\n",
        "  exc = exp(-x**c)\n",
        "/Users/anita/anaconda/lib/python2.7/site-packages/scipy/stats/distributions.py:2747: DeprecationWarning: converting an array with ndim > 0 to an index will result in an error in the future\n",
        "  return a*c*(1-exc)**asarray(a-1) * exc * x**(c-1)\n",
        "/Users/anita/anaconda/lib/python2.7/site-packages/scipy/stats/distributions.py:2747: DeprecationWarning: converting an array with ndim > 0 to an index will result in an error in the future\n",
        "  return a*c*(1-exc)**asarray(a-1) * exc * x**(c-1)\n",
        "/Users/anita/anaconda/lib/python2.7/site-packages/scipy/stats/distributions.py:2749: DeprecationWarning: converting an array with ndim > 0 to an index will result in an error in the future\n",
        "  exc = exp(-x**c)\n",
        "/Users/anita/anaconda/lib/python2.7/site-packages/scipy/stats/distributions.py:2750: DeprecationWarning: converting an array with ndim > 0 to an index will result in an error in the future\n",
        "  return log(a) + log(c) + (a-1.)*log(1-exc) - x**c + (c-1.0)*log(x)\n",
        "/Users/anita/anaconda/lib/python2.7/site-packages/scipy/stats/distributions.py:2746: DeprecationWarning: converting an array with ndim > 0 to an index will result in an error in the future\n",
        "  exc = exp(-x**c)\n",
        "/Users/anita/anaconda/lib/python2.7/site-packages/scipy/stats/distributions.py:2747: DeprecationWarning: converting an array with ndim > 0 to an index will result in an error in the future\n",
        "  return a*c*(1-exc)**asarray(a-1) * exc * x**(c-1)\n",
        "/Users/anita/anaconda/lib/python2.7/site-packages/scipy/stats/distributions.py:2747: DeprecationWarning: converting an array with ndim > 0 to an index will result in an error in the future\n",
        "  return a*c*(1-exc)**asarray(a-1) * exc * x**(c-1)\n",
        "/Users/anita/anaconda/lib/python2.7/site-packages/scipy/stats/distributions.py:2749: DeprecationWarning: converting an array with ndim > 0 to an index will result in an error in the future\n",
        "  exc = exp(-x**c)\n",
        "/Users/anita/anaconda/lib/python2.7/site-packages/scipy/stats/distributions.py:2750: DeprecationWarning: converting an array with ndim > 0 to an index will result in an error in the future\n",
        "  return log(a) + log(c) + (a-1.)*log(1-exc) - x**c + (c-1.0)*log(x)\n",
        "/Users/anita/anaconda/lib/python2.7/site-packages/scipy/stats/distributions.py:2746: DeprecationWarning: converting an array with ndim > 0 to an index will result in an error in the future\n",
        "  exc = exp(-x**c)\n",
        "/Users/anita/anaconda/lib/python2.7/site-packages/scipy/stats/distributions.py:2747: DeprecationWarning: converting an array with ndim > 0 to an index will result in an error in the future\n",
        "  return a*c*(1-exc)**asarray(a-1) * exc * x**(c-1)\n",
        "/Users/anita/anaconda/lib/python2.7/site-packages/scipy/stats/distributions.py:2747: DeprecationWarning: converting an array with ndim > 0 to an index will result in an error in the future\n",
        "  return a*c*(1-exc)**asarray(a-1) * exc * x**(c-1)\n",
        "/Users/anita/anaconda/lib/python2.7/site-packages/scipy/stats/distributions.py:2749: DeprecationWarning: converting an array with ndim > 0 to an index will result in an error in the future\n",
        "  exc = exp(-x**c)\n",
        "/Users/anita/anaconda/lib/python2.7/site-packages/scipy/stats/distributions.py:2750: DeprecationWarning: converting an array with ndim > 0 to an index will result in an error in the future\n",
        "  return log(a) + log(c) + (a-1.)*log(1-exc) - x**c + (c-1.0)*log(x)\n",
        "/Users/anita/anaconda/lib/python2.7/site-packages/scipy/stats/distributions.py:2746: DeprecationWarning: converting an array with ndim > 0 to an index will result in an error in the future\n",
        "  exc = exp(-x**c)\n",
        "/Users/anita/anaconda/lib/python2.7/site-packages/scipy/stats/distributions.py:2747: DeprecationWarning: converting an array with ndim > 0 to an index will result in an error in the future\n",
        "  return a*c*(1-exc)**asarray(a-1) * exc * x**(c-1)\n",
        "/Users/anita/anaconda/lib/python2.7/site-packages/scipy/stats/distributions.py:2747: DeprecationWarning: converting an array with ndim > 0 to an index will result in an error in the future\n",
        "  return a*c*(1-exc)**asarray(a-1) * exc * x**(c-1)\n",
        "/Users/anita/anaconda/lib/python2.7/site-packages/scipy/stats/distributions.py:2749: DeprecationWarning: converting an array with ndim > 0 to an index will result in an error in the future\n",
        "  exc = exp(-x**c)\n",
        "/Users/anita/anaconda/lib/python2.7/site-packages/scipy/stats/distributions.py:2750: DeprecationWarning: converting an array with ndim > 0 to an index will result in an error in the future\n",
        "  return log(a) + log(c) + (a-1.)*log(1-exc) - x**c + (c-1.0)*log(x)\n",
        "/Users/anita/anaconda/lib/python2.7/site-packages/scipy/stats/distributions.py:2746: DeprecationWarning: converting an array with ndim > 0 to an index will result in an error in the future\n",
        "  exc = exp(-x**c)\n",
        "/Users/anita/anaconda/lib/python2.7/site-packages/scipy/stats/distributions.py:2747: DeprecationWarning: converting an array with ndim > 0 to an index will result in an error in the future\n",
        "  return a*c*(1-exc)**asarray(a-1) * exc * x**(c-1)\n",
        "/Users/anita/anaconda/lib/python2.7/site-packages/scipy/stats/distributions.py:2747: DeprecationWarning: converting an array with ndim > 0 to an index will result in an error in the future\n",
        "  return a*c*(1-exc)**asarray(a-1) * exc * x**(c-1)\n",
        "/Users/anita/anaconda/lib/python2.7/site-packages/scipy/stats/distributions.py:2749: DeprecationWarning: converting an array with ndim > 0 to an index will result in an error in the future\n",
        "  exc = exp(-x**c)\n",
        "/Users/anita/anaconda/lib/python2.7/site-packages/scipy/stats/distributions.py:2750: DeprecationWarning: converting an array with ndim > 0 to an index will result in an error in the future\n",
        "  return log(a) + log(c) + (a-1.)*log(1-exc) - x**c + (c-1.0)*log(x)\n",
        "/Users/anita/anaconda/lib/python2.7/site-packages/scipy/stats/distributions.py:2746: DeprecationWarning: converting an array with ndim > 0 to an index will result in an error in the future\n",
        "  exc = exp(-x**c)\n",
        "/Users/anita/anaconda/lib/python2.7/site-packages/scipy/stats/distributions.py:2747: DeprecationWarning: converting an array with ndim > 0 to an index will result in an error in the future\n",
        "  return a*c*(1-exc)**asarray(a-1) * exc * x**(c-1)\n",
        "/Users/anita/anaconda/lib/python2.7/site-packages/scipy/stats/distributions.py:2747: DeprecationWarning: converting an array with ndim > 0 to an index will result in an error in the future\n",
        "  return a*c*(1-exc)**asarray(a-1) * exc * x**(c-1)\n",
        "/Users/anita/anaconda/lib/python2.7/site-packages/scipy/stats/distributions.py:2749: DeprecationWarning: converting an array with ndim > 0 to an index will result in an error in the future\n",
        "  exc = exp(-x**c)\n",
        "/Users/anita/anaconda/lib/python2.7/site-packages/scipy/stats/distributions.py:2750: DeprecationWarning: converting an array with ndim > 0 to an index will result in an error in the future\n",
        "  return log(a) + log(c) + (a-1.)*log(1-exc) - x**c + (c-1.0)*log(x)\n",
        "/Users/anita/anaconda/lib/python2.7/site-packages/scipy/stats/distributions.py:2746: DeprecationWarning: converting an array with ndim > 0 to an index will result in an error in the future\n",
        "  exc = exp(-x**c)\n",
        "/Users/anita/anaconda/lib/python2.7/site-packages/scipy/stats/distributions.py:2747: DeprecationWarning: converting an array with ndim > 0 to an index will result in an error in the future\n",
        "  return a*c*(1-exc)**asarray(a-1) * exc * x**(c-1)\n",
        "/Users/anita/anaconda/lib/python2.7/site-packages/scipy/stats/distributions.py:2747: DeprecationWarning: converting an array with ndim > 0 to an index will result in an error in the future\n",
        "  return a*c*(1-exc)**asarray(a-1) * exc * x**(c-1)\n",
        "/Users/anita/anaconda/lib/python2.7/site-packages/scipy/stats/distributions.py:2749: DeprecationWarning: converting an array with ndim > 0 to an index will result in an error in the future\n",
        "  exc = exp(-x**c)\n",
        "/Users/anita/anaconda/lib/python2.7/site-packages/scipy/stats/distributions.py:2750: DeprecationWarning: converting an array with ndim > 0 to an index will result in an error in the future\n",
        "  return log(a) + log(c) + (a-1.)*log(1-exc) - x**c + (c-1.0)*log(x)\n",
        "/Users/anita/anaconda/lib/python2.7/site-packages/scipy/stats/distributions.py:2746: DeprecationWarning: converting an array with ndim > 0 to an index will result in an error in the future\n",
        "  exc = exp(-x**c)\n",
        "/Users/anita/anaconda/lib/python2.7/site-packages/scipy/stats/distributions.py:2747: DeprecationWarning: converting an array with ndim > 0 to an index will result in an error in the future\n",
        "  return a*c*(1-exc)**asarray(a-1) * exc * x**(c-1)\n",
        "/Users/anita/anaconda/lib/python2.7/site-packages/scipy/stats/distributions.py:2747: DeprecationWarning: converting an array with ndim > 0 to an index will result in an error in the future\n",
        "  return a*c*(1-exc)**asarray(a-1) * exc * x**(c-1)\n",
        "/Users/anita/anaconda/lib/python2.7/site-packages/scipy/stats/distributions.py:2749: DeprecationWarning: converting an array with ndim > 0 to an index will result in an error in the future\n",
        "  exc = exp(-x**c)\n",
        "/Users/anita/anaconda/lib/python2.7/site-packages/scipy/stats/distributions.py:2750: DeprecationWarning: converting an array with ndim > 0 to an index will result in an error in the future\n",
        "  return log(a) + log(c) + (a-1.)*log(1-exc) - x**c + (c-1.0)*log(x)\n",
        "/Users/anita/anaconda/lib/python2.7/site-packages/scipy/stats/distributions.py:2746: DeprecationWarning: converting an array with ndim > 0 to an index will result in an error in the future\n",
        "  exc = exp(-x**c)\n",
        "/Users/anita/anaconda/lib/python2.7/site-packages/scipy/stats/distributions.py:2747: DeprecationWarning: converting an array with ndim > 0 to an index will result in an error in the future\n",
        "  return a*c*(1-exc)**asarray(a-1) * exc * x**(c-1)\n",
        "/Users/anita/anaconda/lib/python2.7/site-packages/scipy/stats/distributions.py:2747: DeprecationWarning: converting an array with ndim > 0 to an index will result in an error in the future\n",
        "  return a*c*(1-exc)**asarray(a-1) * exc * x**(c-1)\n",
        "/Users/anita/anaconda/lib/python2.7/site-packages/scipy/stats/distributions.py:2749: DeprecationWarning: converting an array with ndim > 0 to an index will result in an error in the future\n",
        "  exc = exp(-x**c)\n",
        "/Users/anita/anaconda/lib/python2.7/site-packages/scipy/stats/distributions.py:2750: DeprecationWarning: converting an array with ndim > 0 to an index will result in an error in the future\n",
        "  return log(a) + log(c) + (a-1.)*log(1-exc) - x**c + (c-1.0)*log(x)\n",
        "/Users/anita/anaconda/lib/python2.7/site-packages/scipy/stats/distributions.py:2746: DeprecationWarning: converting an array with ndim > 0 to an index will result in an error in the future\n",
        "  exc = exp(-x**c)\n",
        "/Users/anita/anaconda/lib/python2.7/site-packages/scipy/stats/distributions.py:2747: DeprecationWarning: converting an array with ndim > 0 to an index will result in an error in the future\n",
        "  return a*c*(1-exc)**asarray(a-1) * exc * x**(c-1)\n",
        "/Users/anita/anaconda/lib/python2.7/site-packages/scipy/stats/distributions.py:2747: DeprecationWarning: converting an array with ndim > 0 to an index will result in an error in the future\n",
        "  return a*c*(1-exc)**asarray(a-1) * exc * x**(c-1)\n",
        "/Users/anita/anaconda/lib/python2.7/site-packages/scipy/stats/distributions.py:2749: DeprecationWarning: converting an array with ndim > 0 to an index will result in an error in the future\n",
        "  exc = exp(-x**c)\n",
        "/Users/anita/anaconda/lib/python2.7/site-packages/scipy/stats/distributions.py:2750: DeprecationWarning: converting an array with ndim > 0 to an index will result in an error in the future\n",
        "  return log(a) + log(c) + (a-1.)*log(1-exc) - x**c + (c-1.0)*log(x)\n",
        "/Users/anita/anaconda/lib/python2.7/site-packages/scipy/stats/distributions.py:2746: DeprecationWarning: converting an array with ndim > 0 to an index will result in an error in the future\n",
        "  exc = exp(-x**c)\n",
        "/Users/anita/anaconda/lib/python2.7/site-packages/scipy/stats/distributions.py:2747: DeprecationWarning: converting an array with ndim > 0 to an index will result in an error in the future\n",
        "  return a*c*(1-exc)**asarray(a-1) * exc * x**(c-1)\n",
        "/Users/anita/anaconda/lib/python2.7/site-packages/scipy/stats/distributions.py:2747: DeprecationWarning: converting an array with ndim > 0 to an index will result in an error in the future\n",
        "  return a*c*(1-exc)**asarray(a-1) * exc * x**(c-1)\n",
        "/Users/anita/anaconda/lib/python2.7/site-packages/scipy/stats/distributions.py:2749: DeprecationWarning: converting an array with ndim > 0 to an index will result in an error in the future\n",
        "  exc = exp(-x**c)\n",
        "/Users/anita/anaconda/lib/python2.7/site-packages/scipy/stats/distributions.py:2750: DeprecationWarning: converting an array with ndim > 0 to an index will result in an error in the future\n",
        "  return log(a) + log(c) + (a-1.)*log(1-exc) - x**c + (c-1.0)*log(x)\n",
        "/Users/anita/anaconda/lib/python2.7/site-packages/scipy/stats/distributions.py:2746: DeprecationWarning: converting an array with ndim > 0 to an index will result in an error in the future\n",
        "  exc = exp(-x**c)\n",
        "/Users/anita/anaconda/lib/python2.7/site-packages/scipy/stats/distributions.py:2747: DeprecationWarning: converting an array with ndim > 0 to an index will result in an error in the future\n",
        "  return a*c*(1-exc)**asarray(a-1) * exc * x**(c-1)\n",
        "/Users/anita/anaconda/lib/python2.7/site-packages/scipy/stats/distributions.py:2747: DeprecationWarning: converting an array with ndim > 0 to an index will result in an error in the future\n",
        "  return a*c*(1-exc)**asarray(a-1) * exc * x**(c-1)\n",
        "/Users/anita/anaconda/lib/python2.7/site-packages/scipy/stats/distributions.py:2749: DeprecationWarning: converting an array with ndim > 0 to an index will result in an error in the future\n",
        "  exc = exp(-x**c)\n",
        "/Users/anita/anaconda/lib/python2.7/site-packages/scipy/stats/distributions.py:2750: DeprecationWarning: converting an array with ndim > 0 to an index will result in an error in the future\n",
        "  return log(a) + log(c) + (a-1.)*log(1-exc) - x**c + (c-1.0)*log(x)\n",
        "/Users/anita/anaconda/lib/python2.7/site-packages/scipy/stats/distributions.py:2746: DeprecationWarning: converting an array with ndim > 0 to an index will result in an error in the future\n",
        "  exc = exp(-x**c)\n",
        "/Users/anita/anaconda/lib/python2.7/site-packages/scipy/stats/distributions.py:2747: DeprecationWarning: converting an array with ndim > 0 to an index will result in an error in the future\n",
        "  return a*c*(1-exc)**asarray(a-1) * exc * x**(c-1)\n",
        "/Users/anita/anaconda/lib/python2.7/site-packages/scipy/stats/distributions.py:2747: DeprecationWarning: converting an array with ndim > 0 to an index will result in an error in the future\n",
        "  return a*c*(1-exc)**asarray(a-1) * exc * x**(c-1)\n",
        "/Users/anita/anaconda/lib/python2.7/site-packages/scipy/stats/distributions.py:2749: DeprecationWarning: converting an array with ndim > 0 to an index will result in an error in the future\n",
        "  exc = exp(-x**c)\n",
        "/Users/anita/anaconda/lib/python2.7/site-packages/scipy/stats/distributions.py:2750: DeprecationWarning: converting an array with ndim > 0 to an index will result in an error in the future\n",
        "  return log(a) + log(c) + (a-1.)*log(1-exc) - x**c + (c-1.0)*log(x)\n",
        "/Users/anita/anaconda/lib/python2.7/site-packages/scipy/stats/distributions.py:2746: DeprecationWarning: converting an array with ndim > 0 to an index will result in an error in the future\n",
        "  exc = exp(-x**c)\n",
        "/Users/anita/anaconda/lib/python2.7/site-packages/scipy/stats/distributions.py:2747: DeprecationWarning: converting an array with ndim > 0 to an index will result in an error in the future\n",
        "  return a*c*(1-exc)**asarray(a-1) * exc * x**(c-1)\n",
        "/Users/anita/anaconda/lib/python2.7/site-packages/scipy/stats/distributions.py:2747: DeprecationWarning: converting an array with ndim > 0 to an index will result in an error in the future\n",
        "  return a*c*(1-exc)**asarray(a-1) * exc * x**(c-1)\n",
        "/Users/anita/anaconda/lib/python2.7/site-packages/scipy/stats/distributions.py:2749: DeprecationWarning: converting an array with ndim > 0 to an index will result in an error in the future\n",
        "  exc = exp(-x**c)\n",
        "/Users/anita/anaconda/lib/python2.7/site-packages/scipy/stats/distributions.py:2750: DeprecationWarning: converting an array with ndim > 0 to an index will result in an error in the future\n",
        "  return log(a) + log(c) + (a-1.)*log(1-exc) - x**c + (c-1.0)*log(x)\n",
        "/Users/anita/anaconda/lib/python2.7/site-packages/scipy/stats/distributions.py:2746: DeprecationWarning: converting an array with ndim > 0 to an index will result in an error in the future\n",
        "  exc = exp(-x**c)\n",
        "/Users/anita/anaconda/lib/python2.7/site-packages/scipy/stats/distributions.py:2747: DeprecationWarning: converting an array with ndim > 0 to an index will result in an error in the future\n",
        "  return a*c*(1-exc)**asarray(a-1) * exc * x**(c-1)\n",
        "/Users/anita/anaconda/lib/python2.7/site-packages/scipy/stats/distributions.py:2747: DeprecationWarning: converting an array with ndim > 0 to an index will result in an error in the future\n",
        "  return a*c*(1-exc)**asarray(a-1) * exc * x**(c-1)\n",
        "/Users/anita/anaconda/lib/python2.7/site-packages/scipy/stats/distributions.py:2749: DeprecationWarning: converting an array with ndim > 0 to an index will result in an error in the future\n",
        "  exc = exp(-x**c)\n",
        "/Users/anita/anaconda/lib/python2.7/site-packages/scipy/stats/distributions.py:2750: DeprecationWarning: converting an array with ndim > 0 to an index will result in an error in the future\n",
        "  return log(a) + log(c) + (a-1.)*log(1-exc) - x**c + (c-1.0)*log(x)\n",
        "/Users/anita/anaconda/lib/python2.7/site-packages/scipy/stats/distributions.py:2746: DeprecationWarning: converting an array with ndim > 0 to an index will result in an error in the future\n",
        "  exc = exp(-x**c)\n",
        "/Users/anita/anaconda/lib/python2.7/site-packages/scipy/stats/distributions.py:2747: DeprecationWarning: converting an array with ndim > 0 to an index will result in an error in the future\n",
        "  return a*c*(1-exc)**asarray(a-1) * exc * x**(c-1)\n",
        "/Users/anita/anaconda/lib/python2.7/site-packages/scipy/stats/distributions.py:2747: DeprecationWarning: converting an array with ndim > 0 to an index will result in an error in the future\n",
        "  return a*c*(1-exc)**asarray(a-1) * exc * x**(c-1)\n",
        "/Users/anita/anaconda/lib/python2.7/site-packages/scipy/stats/distributions.py:2749: DeprecationWarning: converting an array with ndim > 0 to an index will result in an error in the future\n",
        "  exc = exp(-x**c)\n",
        "/Users/anita/anaconda/lib/python2.7/site-packages/scipy/stats/distributions.py:2750: DeprecationWarning: converting an array with ndim > 0 to an index will result in an error in the future\n",
        "  return log(a) + log(c) + (a-1.)*log(1-exc) - x**c + (c-1.0)*log(x)\n",
        "/Users/anita/anaconda/lib/python2.7/site-packages/scipy/stats/distributions.py:2746: DeprecationWarning: converting an array with ndim > 0 to an index will result in an error in the future\n",
        "  exc = exp(-x**c)\n",
        "/Users/anita/anaconda/lib/python2.7/site-packages/scipy/stats/distributions.py:2747: DeprecationWarning: converting an array with ndim > 0 to an index will result in an error in the future\n",
        "  return a*c*(1-exc)**asarray(a-1) * exc * x**(c-1)\n",
        "/Users/anita/anaconda/lib/python2.7/site-packages/scipy/stats/distributions.py:2747: DeprecationWarning: converting an array with ndim > 0 to an index will result in an error in the future\n",
        "  return a*c*(1-exc)**asarray(a-1) * exc * x**(c-1)\n",
        "/Users/anita/anaconda/lib/python2.7/site-packages/scipy/stats/distributions.py:2749: DeprecationWarning: converting an array with ndim > 0 to an index will result in an error in the future\n",
        "  exc = exp(-x**c)\n",
        "/Users/anita/anaconda/lib/python2.7/site-packages/scipy/stats/distributions.py:2750: DeprecationWarning: converting an array with ndim > 0 to an index will result in an error in the future\n",
        "  return log(a) + log(c) + (a-1.)*log(1-exc) - x**c + (c-1.0)*log(x)\n",
        "/Users/anita/anaconda/lib/python2.7/site-packages/scipy/stats/distributions.py:2746: DeprecationWarning: converting an array with ndim > 0 to an index will result in an error in the future\n",
        "  exc = exp(-x**c)\n",
        "/Users/anita/anaconda/lib/python2.7/site-packages/scipy/stats/distributions.py:2747: DeprecationWarning: converting an array with ndim > 0 to an index will result in an error in the future\n",
        "  return a*c*(1-exc)**asarray(a-1) * exc * x**(c-1)\n",
        "/Users/anita/anaconda/lib/python2.7/site-packages/scipy/stats/distributions.py:2747: DeprecationWarning: converting an array with ndim > 0 to an index will result in an error in the future\n",
        "  return a*c*(1-exc)**asarray(a-1) * exc * x**(c-1)\n",
        "/Users/anita/anaconda/lib/python2.7/site-packages/scipy/stats/distributions.py:2749: DeprecationWarning: converting an array with ndim > 0 to an index will result in an error in the future\n",
        "  exc = exp(-x**c)\n",
        "/Users/anita/anaconda/lib/python2.7/site-packages/scipy/stats/distributions.py:2750: DeprecationWarning: converting an array with ndim > 0 to an index will result in an error in the future\n",
        "  return log(a) + log(c) + (a-1.)*log(1-exc) - x**c + (c-1.0)*log(x)\n",
        "/Users/anita/anaconda/lib/python2.7/site-packages/scipy/stats/distributions.py:2746: DeprecationWarning: converting an array with ndim > 0 to an index will result in an error in the future\n",
        "  exc = exp(-x**c)\n",
        "/Users/anita/anaconda/lib/python2.7/site-packages/scipy/stats/distributions.py:2747: DeprecationWarning: converting an array with ndim > 0 to an index will result in an error in the future\n",
        "  return a*c*(1-exc)**asarray(a-1) * exc * x**(c-1)\n",
        "/Users/anita/anaconda/lib/python2.7/site-packages/scipy/stats/distributions.py:2747: DeprecationWarning: converting an array with ndim > 0 to an index will result in an error in the future\n",
        "  return a*c*(1-exc)**asarray(a-1) * exc * x**(c-1)\n",
        "/Users/anita/anaconda/lib/python2.7/site-packages/scipy/stats/distributions.py:2749: DeprecationWarning: converting an array with ndim > 0 to an index will result in an error in the future\n",
        "  exc = exp(-x**c)\n",
        "/Users/anita/anaconda/lib/python2.7/site-packages/scipy/stats/distributions.py:2750: DeprecationWarning: converting an array with ndim > 0 to an index will result in an error in the future\n",
        "  return log(a) + log(c) + (a-1.)*log(1-exc) - x**c + (c-1.0)*log(x)\n",
        "/Users/anita/anaconda/lib/python2.7/site-packages/scipy/stats/distributions.py:2746: DeprecationWarning: converting an array with ndim > 0 to an index will result in an error in the future\n",
        "  exc = exp(-x**c)\n",
        "/Users/anita/anaconda/lib/python2.7/site-packages/scipy/stats/distributions.py:2747: DeprecationWarning: converting an array with ndim > 0 to an index will result in an error in the future\n",
        "  return a*c*(1-exc)**asarray(a-1) * exc * x**(c-1)\n",
        "/Users/anita/anaconda/lib/python2.7/site-packages/scipy/stats/distributions.py:2747: DeprecationWarning: converting an array with ndim > 0 to an index will result in an error in the future\n",
        "  return a*c*(1-exc)**asarray(a-1) * exc * x**(c-1)\n",
        "/Users/anita/anaconda/lib/python2.7/site-packages/scipy/stats/distributions.py:2749: DeprecationWarning: converting an array with ndim > 0 to an index will result in an error in the future\n",
        "  exc = exp(-x**c)\n",
        "/Users/anita/anaconda/lib/python2.7/site-packages/scipy/stats/distributions.py:2750: DeprecationWarning: converting an array with ndim > 0 to an index will result in an error in the future\n",
        "  return log(a) + log(c) + (a-1.)*log(1-exc) - x**c + (c-1.0)*log(x)\n",
        "/Users/anita/anaconda/lib/python2.7/site-packages/scipy/stats/distributions.py:2746: DeprecationWarning: converting an array with ndim > 0 to an index will result in an error in the future\n",
        "  exc = exp(-x**c)\n",
        "/Users/anita/anaconda/lib/python2.7/site-packages/scipy/stats/distributions.py:2747: DeprecationWarning: converting an array with ndim > 0 to an index will result in an error in the future\n",
        "  return a*c*(1-exc)**asarray(a-1) * exc * x**(c-1)\n",
        "/Users/anita/anaconda/lib/python2.7/site-packages/scipy/stats/distributions.py:2747: DeprecationWarning: converting an array with ndim > 0 to an index will result in an error in the future\n",
        "  return a*c*(1-exc)**asarray(a-1) * exc * x**(c-1)\n",
        "/Users/anita/anaconda/lib/python2.7/site-packages/scipy/stats/distributions.py:2749: DeprecationWarning: converting an array with ndim > 0 to an index will result in an error in the future\n",
        "  exc = exp(-x**c)\n",
        "/Users/anita/anaconda/lib/python2.7/site-packages/scipy/stats/distributions.py:2750: DeprecationWarning: converting an array with ndim > 0 to an index will result in an error in the future\n",
        "  return log(a) + log(c) + (a-1.)*log(1-exc) - x**c + (c-1.0)*log(x)\n",
        "/Users/anita/anaconda/lib/python2.7/site-packages/scipy/stats/distributions.py:2746: DeprecationWarning: converting an array with ndim > 0 to an index will result in an error in the future\n",
        "  exc = exp(-x**c)\n",
        "/Users/anita/anaconda/lib/python2.7/site-packages/scipy/stats/distributions.py:2747: DeprecationWarning: converting an array with ndim > 0 to an index will result in an error in the future\n",
        "  return a*c*(1-exc)**asarray(a-1) * exc * x**(c-1)\n",
        "/Users/anita/anaconda/lib/python2.7/site-packages/scipy/stats/distributions.py:2747: DeprecationWarning: converting an array with ndim > 0 to an index will result in an error in the future\n",
        "  return a*c*(1-exc)**asarray(a-1) * exc * x**(c-1)\n",
        "/Users/anita/anaconda/lib/python2.7/site-packages/scipy/stats/distributions.py:2749: DeprecationWarning: converting an array with ndim > 0 to an index will result in an error in the future\n",
        "  exc = exp(-x**c)\n",
        "/Users/anita/anaconda/lib/python2.7/site-packages/scipy/stats/distributions.py:2750: DeprecationWarning: converting an array with ndim > 0 to an index will result in an error in the future\n",
        "  return log(a) + log(c) + (a-1.)*log(1-exc) - x**c + (c-1.0)*log(x)\n",
        "/Users/anita/anaconda/lib/python2.7/site-packages/scipy/stats/distributions.py:2746: DeprecationWarning: converting an array with ndim > 0 to an index will result in an error in the future\n",
        "  exc = exp(-x**c)\n",
        "/Users/anita/anaconda/lib/python2.7/site-packages/scipy/stats/distributions.py:2747: DeprecationWarning: converting an array with ndim > 0 to an index will result in an error in the future\n",
        "  return a*c*(1-exc)**asarray(a-1) * exc * x**(c-1)\n",
        "/Users/anita/anaconda/lib/python2.7/site-packages/scipy/stats/distributions.py:2747: DeprecationWarning: converting an array with ndim > 0 to an index will result in an error in the future\n",
        "  return a*c*(1-exc)**asarray(a-1) * exc * x**(c-1)\n",
        "/Users/anita/anaconda/lib/python2.7/site-packages/scipy/stats/distributions.py:2749: DeprecationWarning: converting an array with ndim > 0 to an index will result in an error in the future\n",
        "  exc = exp(-x**c)\n",
        "/Users/anita/anaconda/lib/python2.7/site-packages/scipy/stats/distributions.py:2750: DeprecationWarning: converting an array with ndim > 0 to an index will result in an error in the future\n",
        "  return log(a) + log(c) + (a-1.)*log(1-exc) - x**c + (c-1.0)*log(x)\n",
        "/Users/anita/anaconda/lib/python2.7/site-packages/scipy/stats/distributions.py:2746: DeprecationWarning: converting an array with ndim > 0 to an index will result in an error in the future\n",
        "  exc = exp(-x**c)\n",
        "/Users/anita/anaconda/lib/python2.7/site-packages/scipy/stats/distributions.py:2747: DeprecationWarning: converting an array with ndim > 0 to an index will result in an error in the future\n",
        "  return a*c*(1-exc)**asarray(a-1) * exc * x**(c-1)\n",
        "/Users/anita/anaconda/lib/python2.7/site-packages/scipy/stats/distributions.py:2747: DeprecationWarning: converting an array with ndim > 0 to an index will result in an error in the future\n",
        "  return a*c*(1-exc)**asarray(a-1) * exc * x**(c-1)\n",
        "/Users/anita/anaconda/lib/python2.7/site-packages/scipy/stats/distributions.py:2749: DeprecationWarning: converting an array with ndim > 0 to an index will result in an error in the future\n",
        "  exc = exp(-x**c)\n",
        "/Users/anita/anaconda/lib/python2.7/site-packages/scipy/stats/distributions.py:2750: DeprecationWarning: converting an array with ndim > 0 to an index will result in an error in the future\n",
        "  return log(a) + log(c) + (a-1.)*log(1-exc) - x**c + (c-1.0)*log(x)\n",
        "/Users/anita/anaconda/lib/python2.7/site-packages/scipy/stats/distributions.py:2747: DeprecationWarning: converting an array with ndim > 0 to an index will result in an error in the future\n",
        "  return a*c*(1-exc)**asarray(a-1) * exc * x**(c-1)\n"
       ]
      },
      {
       "output_type": "stream",
       "stream": "stderr",
       "text": [
        "/Users/anita/anaconda/lib/python2.7/site-packages/scipy/stats/distributions.py:2747: DeprecationWarning: converting an array with ndim > 0 to an index will result in an error in the future\n",
        "  return a*c*(1-exc)**asarray(a-1) * exc * x**(c-1)\n",
        "/Users/anita/anaconda/lib/python2.7/site-packages/scipy/stats/distributions.py:2747: DeprecationWarning: converting an array with ndim > 0 to an index will result in an error in the future\n",
        "  return a*c*(1-exc)**asarray(a-1) * exc * x**(c-1)\n",
        "/Users/anita/anaconda/lib/python2.7/site-packages/scipy/stats/distributions.py:2747: DeprecationWarning: converting an array with ndim > 0 to an index will result in an error in the future\n",
        "  return a*c*(1-exc)**asarray(a-1) * exc * x**(c-1)\n",
        "/Users/anita/anaconda/lib/python2.7/site-packages/scipy/stats/distributions.py:2747: DeprecationWarning: converting an array with ndim > 0 to an index will result in an error in the future\n",
        "  return a*c*(1-exc)**asarray(a-1) * exc * x**(c-1)\n",
        "/Users/anita/anaconda/lib/python2.7/site-packages/scipy/stats/distributions.py:2747: DeprecationWarning: converting an array with ndim > 0 to an index will result in an error in the future\n",
        "  return a*c*(1-exc)**asarray(a-1) * exc * x**(c-1)\n",
        "/Users/anita/anaconda/lib/python2.7/site-packages/scipy/stats/distributions.py:2747: DeprecationWarning: converting an array with ndim > 0 to an index will result in an error in the future\n",
        "  return a*c*(1-exc)**asarray(a-1) * exc * x**(c-1)\n",
        "/Users/anita/anaconda/lib/python2.7/site-packages/scipy/stats/distributions.py:2747: DeprecationWarning: converting an array with ndim > 0 to an index will result in an error in the future\n",
        "  return a*c*(1-exc)**asarray(a-1) * exc * x**(c-1)\n",
        "/Users/anita/anaconda/lib/python2.7/site-packages/scipy/stats/distributions.py:2747: DeprecationWarning: converting an array with ndim > 0 to an index will result in an error in the future\n",
        "  return a*c*(1-exc)**asarray(a-1) * exc * x**(c-1)\n",
        "/Users/anita/anaconda/lib/python2.7/site-packages/scipy/stats/distributions.py:2747: DeprecationWarning: converting an array with ndim > 0 to an index will result in an error in the future\n",
        "  return a*c*(1-exc)**asarray(a-1) * exc * x**(c-1)\n",
        "/Users/anita/anaconda/lib/python2.7/site-packages/scipy/stats/distributions.py:2747: DeprecationWarning: converting an array with ndim > 0 to an index will result in an error in the future\n",
        "  return a*c*(1-exc)**asarray(a-1) * exc * x**(c-1)\n",
        "/Users/anita/anaconda/lib/python2.7/site-packages/scipy/stats/distributions.py:2747: DeprecationWarning: converting an array with ndim > 0 to an index will result in an error in the future\n",
        "  return a*c*(1-exc)**asarray(a-1) * exc * x**(c-1)\n",
        "/Users/anita/anaconda/lib/python2.7/site-packages/scipy/stats/distributions.py:2747: DeprecationWarning: converting an array with ndim > 0 to an index will result in an error in the future\n",
        "  return a*c*(1-exc)**asarray(a-1) * exc * x**(c-1)\n",
        "/Users/anita/anaconda/lib/python2.7/site-packages/scipy/stats/distributions.py:2747: DeprecationWarning: converting an array with ndim > 0 to an index will result in an error in the future\n",
        "  return a*c*(1-exc)**asarray(a-1) * exc * x**(c-1)\n",
        "/Users/anita/anaconda/lib/python2.7/site-packages/scipy/stats/distributions.py:2747: DeprecationWarning: converting an array with ndim > 0 to an index will result in an error in the future\n",
        "  return a*c*(1-exc)**asarray(a-1) * exc * x**(c-1)\n",
        "/Users/anita/anaconda/lib/python2.7/site-packages/scipy/stats/distributions.py:2747: DeprecationWarning: converting an array with ndim > 0 to an index will result in an error in the future\n",
        "  return a*c*(1-exc)**asarray(a-1) * exc * x**(c-1)\n",
        "/Users/anita/anaconda/lib/python2.7/site-packages/scipy/stats/distributions.py:2747: DeprecationWarning: converting an array with ndim > 0 to an index will result in an error in the future\n",
        "  return a*c*(1-exc)**asarray(a-1) * exc * x**(c-1)\n",
        "/Users/anita/anaconda/lib/python2.7/site-packages/scipy/stats/distributions.py:2747: DeprecationWarning: converting an array with ndim > 0 to an index will result in an error in the future\n",
        "  return a*c*(1-exc)**asarray(a-1) * exc * x**(c-1)\n",
        "/Users/anita/anaconda/lib/python2.7/site-packages/scipy/stats/distributions.py:2747: DeprecationWarning: converting an array with ndim > 0 to an index will result in an error in the future\n",
        "  return a*c*(1-exc)**asarray(a-1) * exc * x**(c-1)\n",
        "/Users/anita/anaconda/lib/python2.7/site-packages/scipy/stats/distributions.py:2747: DeprecationWarning: converting an array with ndim > 0 to an index will result in an error in the future\n",
        "  return a*c*(1-exc)**asarray(a-1) * exc * x**(c-1)\n",
        "/Users/anita/anaconda/lib/python2.7/site-packages/scipy/stats/distributions.py:2747: DeprecationWarning: converting an array with ndim > 0 to an index will result in an error in the future\n",
        "  return a*c*(1-exc)**asarray(a-1) * exc * x**(c-1)\n",
        "/Users/anita/anaconda/lib/python2.7/site-packages/scipy/stats/distributions.py:2747: DeprecationWarning: converting an array with ndim > 0 to an index will result in an error in the future\n",
        "  return a*c*(1-exc)**asarray(a-1) * exc * x**(c-1)\n",
        "/Users/anita/anaconda/lib/python2.7/site-packages/scipy/stats/distributions.py:2747: DeprecationWarning: converting an array with ndim > 0 to an index will result in an error in the future\n",
        "  return a*c*(1-exc)**asarray(a-1) * exc * x**(c-1)\n",
        "/Users/anita/anaconda/lib/python2.7/site-packages/scipy/stats/distributions.py:2747: DeprecationWarning: converting an array with ndim > 0 to an index will result in an error in the future\n",
        "  return a*c*(1-exc)**asarray(a-1) * exc * x**(c-1)\n",
        "/Users/anita/anaconda/lib/python2.7/site-packages/scipy/stats/distributions.py:2747: DeprecationWarning: converting an array with ndim > 0 to an index will result in an error in the future\n",
        "  return a*c*(1-exc)**asarray(a-1) * exc * x**(c-1)\n",
        "/Users/anita/anaconda/lib/python2.7/site-packages/scipy/stats/distributions.py:2747: DeprecationWarning: converting an array with ndim > 0 to an index will result in an error in the future\n",
        "  return a*c*(1-exc)**asarray(a-1) * exc * x**(c-1)\n",
        "/Users/anita/anaconda/lib/python2.7/site-packages/scipy/stats/distributions.py:2747: DeprecationWarning: converting an array with ndim > 0 to an index will result in an error in the future\n",
        "  return a*c*(1-exc)**asarray(a-1) * exc * x**(c-1)\n",
        "/Users/anita/anaconda/lib/python2.7/site-packages/scipy/stats/distributions.py:2747: DeprecationWarning: converting an array with ndim > 0 to an index will result in an error in the future\n",
        "  return a*c*(1-exc)**asarray(a-1) * exc * x**(c-1)\n",
        "/Users/anita/anaconda/lib/python2.7/site-packages/scipy/stats/distributions.py:2747: DeprecationWarning: converting an array with ndim > 0 to an index will result in an error in the future\n",
        "  return a*c*(1-exc)**asarray(a-1) * exc * x**(c-1)\n",
        "/Users/anita/anaconda/lib/python2.7/site-packages/scipy/stats/distributions.py:2747: DeprecationWarning: converting an array with ndim > 0 to an index will result in an error in the future\n",
        "  return a*c*(1-exc)**asarray(a-1) * exc * x**(c-1)\n",
        "/Users/anita/anaconda/lib/python2.7/site-packages/scipy/stats/distributions.py:2747: DeprecationWarning: converting an array with ndim > 0 to an index will result in an error in the future\n",
        "  return a*c*(1-exc)**asarray(a-1) * exc * x**(c-1)\n",
        "/Users/anita/anaconda/lib/python2.7/site-packages/scipy/stats/distributions.py:2747: DeprecationWarning: converting an array with ndim > 0 to an index will result in an error in the future\n",
        "  return a*c*(1-exc)**asarray(a-1) * exc * x**(c-1)\n",
        "/Users/anita/anaconda/lib/python2.7/site-packages/scipy/stats/distributions.py:2747: DeprecationWarning: converting an array with ndim > 0 to an index will result in an error in the future\n",
        "  return a*c*(1-exc)**asarray(a-1) * exc * x**(c-1)\n",
        "/Users/anita/anaconda/lib/python2.7/site-packages/scipy/stats/distributions.py:2747: DeprecationWarning: converting an array with ndim > 0 to an index will result in an error in the future\n",
        "  return a*c*(1-exc)**asarray(a-1) * exc * x**(c-1)\n",
        "/Users/anita/anaconda/lib/python2.7/site-packages/scipy/stats/distributions.py:2747: DeprecationWarning: converting an array with ndim > 0 to an index will result in an error in the future\n",
        "  return a*c*(1-exc)**asarray(a-1) * exc * x**(c-1)\n",
        "/Users/anita/anaconda/lib/python2.7/site-packages/scipy/stats/distributions.py:2747: DeprecationWarning: converting an array with ndim > 0 to an index will result in an error in the future\n",
        "  return a*c*(1-exc)**asarray(a-1) * exc * x**(c-1)\n",
        "/Users/anita/anaconda/lib/python2.7/site-packages/scipy/stats/distributions.py:2747: DeprecationWarning: converting an array with ndim > 0 to an index will result in an error in the future\n",
        "  return a*c*(1-exc)**asarray(a-1) * exc * x**(c-1)\n",
        "/Users/anita/anaconda/lib/python2.7/site-packages/scipy/stats/distributions.py:2747: DeprecationWarning: converting an array with ndim > 0 to an index will result in an error in the future\n",
        "  return a*c*(1-exc)**asarray(a-1) * exc * x**(c-1)\n",
        "/Users/anita/anaconda/lib/python2.7/site-packages/scipy/stats/distributions.py:2747: DeprecationWarning: converting an array with ndim > 0 to an index will result in an error in the future\n",
        "  return a*c*(1-exc)**asarray(a-1) * exc * x**(c-1)\n",
        "/Users/anita/anaconda/lib/python2.7/site-packages/scipy/stats/distributions.py:2747: DeprecationWarning: converting an array with ndim > 0 to an index will result in an error in the future\n",
        "  return a*c*(1-exc)**asarray(a-1) * exc * x**(c-1)\n",
        "/Users/anita/anaconda/lib/python2.7/site-packages/scipy/stats/distributions.py:2747: DeprecationWarning: converting an array with ndim > 0 to an index will result in an error in the future\n",
        "  return a*c*(1-exc)**asarray(a-1) * exc * x**(c-1)\n",
        "/Users/anita/anaconda/lib/python2.7/site-packages/scipy/stats/distributions.py:2747: DeprecationWarning: converting an array with ndim > 0 to an index will result in an error in the future\n",
        "  return a*c*(1-exc)**asarray(a-1) * exc * x**(c-1)\n",
        "/Users/anita/anaconda/lib/python2.7/site-packages/scipy/stats/distributions.py:2747: DeprecationWarning: converting an array with ndim > 0 to an index will result in an error in the future\n",
        "  return a*c*(1-exc)**asarray(a-1) * exc * x**(c-1)\n",
        "/Users/anita/anaconda/lib/python2.7/site-packages/scipy/stats/distributions.py:2747: DeprecationWarning: converting an array with ndim > 0 to an index will result in an error in the future\n",
        "  return a*c*(1-exc)**asarray(a-1) * exc * x**(c-1)\n",
        "/Users/anita/anaconda/lib/python2.7/site-packages/scipy/stats/distributions.py:2747: DeprecationWarning: converting an array with ndim > 0 to an index will result in an error in the future\n",
        "  return a*c*(1-exc)**asarray(a-1) * exc * x**(c-1)\n",
        "/Users/anita/anaconda/lib/python2.7/site-packages/scipy/stats/distributions.py:2747: DeprecationWarning: converting an array with ndim > 0 to an index will result in an error in the future\n",
        "  return a*c*(1-exc)**asarray(a-1) * exc * x**(c-1)\n",
        "/Users/anita/anaconda/lib/python2.7/site-packages/scipy/stats/distributions.py:2747: DeprecationWarning: converting an array with ndim > 0 to an index will result in an error in the future\n",
        "  return a*c*(1-exc)**asarray(a-1) * exc * x**(c-1)\n",
        "/Users/anita/anaconda/lib/python2.7/site-packages/scipy/stats/distributions.py:2747: DeprecationWarning: converting an array with ndim > 0 to an index will result in an error in the future\n",
        "  return a*c*(1-exc)**asarray(a-1) * exc * x**(c-1)\n",
        "/Users/anita/anaconda/lib/python2.7/site-packages/scipy/stats/distributions.py:2747: DeprecationWarning: converting an array with ndim > 0 to an index will result in an error in the future\n",
        "  return a*c*(1-exc)**asarray(a-1) * exc * x**(c-1)\n",
        "/Users/anita/anaconda/lib/python2.7/site-packages/scipy/stats/distributions.py:2747: DeprecationWarning: converting an array with ndim > 0 to an index will result in an error in the future\n",
        "  return a*c*(1-exc)**asarray(a-1) * exc * x**(c-1)\n",
        "/Users/anita/anaconda/lib/python2.7/site-packages/scipy/stats/distributions.py:2747: DeprecationWarning: converting an array with ndim > 0 to an index will result in an error in the future\n",
        "  return a*c*(1-exc)**asarray(a-1) * exc * x**(c-1)\n",
        "/Users/anita/anaconda/lib/python2.7/site-packages/scipy/stats/distributions.py:2747: DeprecationWarning: converting an array with ndim > 0 to an index will result in an error in the future\n",
        "  return a*c*(1-exc)**asarray(a-1) * exc * x**(c-1)\n",
        "/Users/anita/anaconda/lib/python2.7/site-packages/scipy/stats/distributions.py:2747: DeprecationWarning: converting an array with ndim > 0 to an index will result in an error in the future\n",
        "  return a*c*(1-exc)**asarray(a-1) * exc * x**(c-1)\n",
        "/Users/anita/anaconda/lib/python2.7/site-packages/scipy/stats/distributions.py:2747: DeprecationWarning: converting an array with ndim > 0 to an index will result in an error in the future\n",
        "  return a*c*(1-exc)**asarray(a-1) * exc * x**(c-1)\n",
        "/Users/anita/anaconda/lib/python2.7/site-packages/scipy/stats/distributions.py:2747: DeprecationWarning: converting an array with ndim > 0 to an index will result in an error in the future\n",
        "  return a*c*(1-exc)**asarray(a-1) * exc * x**(c-1)\n",
        "/Users/anita/anaconda/lib/python2.7/site-packages/scipy/stats/distributions.py:2747: DeprecationWarning: converting an array with ndim > 0 to an index will result in an error in the future\n",
        "  return a*c*(1-exc)**asarray(a-1) * exc * x**(c-1)\n",
        "/Users/anita/anaconda/lib/python2.7/site-packages/scipy/stats/distributions.py:2746: DeprecationWarning: converting an array with ndim > 0 to an index will result in an error in the future\n",
        "  exc = exp(-x**c)\n",
        "/Users/anita/anaconda/lib/python2.7/site-packages/scipy/stats/distributions.py:2747: DeprecationWarning: converting an array with ndim > 0 to an index will result in an error in the future\n",
        "  return a*c*(1-exc)**asarray(a-1) * exc * x**(c-1)\n",
        "/Users/anita/anaconda/lib/python2.7/site-packages/scipy/stats/distributions.py:2747: DeprecationWarning: converting an array with ndim > 0 to an index will result in an error in the future\n",
        "  return a*c*(1-exc)**asarray(a-1) * exc * x**(c-1)\n",
        "/Users/anita/anaconda/lib/python2.7/site-packages/scipy/stats/distributions.py:2749: DeprecationWarning: converting an array with ndim > 0 to an index will result in an error in the future\n",
        "  exc = exp(-x**c)\n",
        "/Users/anita/anaconda/lib/python2.7/site-packages/scipy/stats/distributions.py:2750: DeprecationWarning: converting an array with ndim > 0 to an index will result in an error in the future\n",
        "  return log(a) + log(c) + (a-1.)*log(1-exc) - x**c + (c-1.0)*log(x)\n",
        "/Users/anita/anaconda/lib/python2.7/site-packages/scipy/stats/distributions.py:2746: DeprecationWarning: converting an array with ndim > 0 to an index will result in an error in the future\n",
        "  exc = exp(-x**c)\n",
        "/Users/anita/anaconda/lib/python2.7/site-packages/scipy/stats/distributions.py:2747: DeprecationWarning: converting an array with ndim > 0 to an index will result in an error in the future\n",
        "  return a*c*(1-exc)**asarray(a-1) * exc * x**(c-1)\n",
        "/Users/anita/anaconda/lib/python2.7/site-packages/scipy/stats/distributions.py:2747: DeprecationWarning: converting an array with ndim > 0 to an index will result in an error in the future\n",
        "  return a*c*(1-exc)**asarray(a-1) * exc * x**(c-1)\n",
        "/Users/anita/anaconda/lib/python2.7/site-packages/scipy/stats/distributions.py:2749: DeprecationWarning: converting an array with ndim > 0 to an index will result in an error in the future\n",
        "  exc = exp(-x**c)\n",
        "/Users/anita/anaconda/lib/python2.7/site-packages/scipy/stats/distributions.py:2750: DeprecationWarning: converting an array with ndim > 0 to an index will result in an error in the future\n",
        "  return log(a) + log(c) + (a-1.)*log(1-exc) - x**c + (c-1.0)*log(x)\n",
        "/Users/anita/anaconda/lib/python2.7/site-packages/scipy/stats/distributions.py:2746: DeprecationWarning: converting an array with ndim > 0 to an index will result in an error in the future\n",
        "  exc = exp(-x**c)\n",
        "/Users/anita/anaconda/lib/python2.7/site-packages/scipy/stats/distributions.py:2747: DeprecationWarning: converting an array with ndim > 0 to an index will result in an error in the future\n",
        "  return a*c*(1-exc)**asarray(a-1) * exc * x**(c-1)\n",
        "/Users/anita/anaconda/lib/python2.7/site-packages/scipy/stats/distributions.py:2747: DeprecationWarning: converting an array with ndim > 0 to an index will result in an error in the future\n",
        "  return a*c*(1-exc)**asarray(a-1) * exc * x**(c-1)\n",
        "/Users/anita/anaconda/lib/python2.7/site-packages/scipy/stats/distributions.py:2749: DeprecationWarning: converting an array with ndim > 0 to an index will result in an error in the future\n",
        "  exc = exp(-x**c)\n",
        "/Users/anita/anaconda/lib/python2.7/site-packages/scipy/stats/distributions.py:2750: DeprecationWarning: converting an array with ndim > 0 to an index will result in an error in the future\n",
        "  return log(a) + log(c) + (a-1.)*log(1-exc) - x**c + (c-1.0)*log(x)\n",
        "/Users/anita/anaconda/lib/python2.7/site-packages/scipy/stats/distributions.py:2746: DeprecationWarning: converting an array with ndim > 0 to an index will result in an error in the future\n",
        "  exc = exp(-x**c)\n",
        "/Users/anita/anaconda/lib/python2.7/site-packages/scipy/stats/distributions.py:2747: DeprecationWarning: converting an array with ndim > 0 to an index will result in an error in the future\n",
        "  return a*c*(1-exc)**asarray(a-1) * exc * x**(c-1)\n",
        "/Users/anita/anaconda/lib/python2.7/site-packages/scipy/stats/distributions.py:2747: DeprecationWarning: converting an array with ndim > 0 to an index will result in an error in the future\n",
        "  return a*c*(1-exc)**asarray(a-1) * exc * x**(c-1)\n",
        "/Users/anita/anaconda/lib/python2.7/site-packages/scipy/stats/distributions.py:2749: DeprecationWarning: converting an array with ndim > 0 to an index will result in an error in the future\n",
        "  exc = exp(-x**c)\n",
        "/Users/anita/anaconda/lib/python2.7/site-packages/scipy/stats/distributions.py:2750: DeprecationWarning: converting an array with ndim > 0 to an index will result in an error in the future\n",
        "  return log(a) + log(c) + (a-1.)*log(1-exc) - x**c + (c-1.0)*log(x)\n",
        "/Users/anita/anaconda/lib/python2.7/site-packages/scipy/stats/distributions.py:2746: DeprecationWarning: converting an array with ndim > 0 to an index will result in an error in the future\n",
        "  exc = exp(-x**c)\n",
        "/Users/anita/anaconda/lib/python2.7/site-packages/scipy/stats/distributions.py:2747: DeprecationWarning: converting an array with ndim > 0 to an index will result in an error in the future\n",
        "  return a*c*(1-exc)**asarray(a-1) * exc * x**(c-1)\n",
        "/Users/anita/anaconda/lib/python2.7/site-packages/scipy/stats/distributions.py:2747: DeprecationWarning: converting an array with ndim > 0 to an index will result in an error in the future\n",
        "  return a*c*(1-exc)**asarray(a-1) * exc * x**(c-1)\n",
        "/Users/anita/anaconda/lib/python2.7/site-packages/scipy/stats/distributions.py:2749: DeprecationWarning: converting an array with ndim > 0 to an index will result in an error in the future\n",
        "  exc = exp(-x**c)\n",
        "/Users/anita/anaconda/lib/python2.7/site-packages/scipy/stats/distributions.py:2750: DeprecationWarning: converting an array with ndim > 0 to an index will result in an error in the future\n",
        "  return log(a) + log(c) + (a-1.)*log(1-exc) - x**c + (c-1.0)*log(x)\n",
        "/Users/anita/anaconda/lib/python2.7/site-packages/scipy/stats/distributions.py:2746: DeprecationWarning: converting an array with ndim > 0 to an index will result in an error in the future\n",
        "  exc = exp(-x**c)\n",
        "/Users/anita/anaconda/lib/python2.7/site-packages/scipy/stats/distributions.py:2747: DeprecationWarning: converting an array with ndim > 0 to an index will result in an error in the future\n",
        "  return a*c*(1-exc)**asarray(a-1) * exc * x**(c-1)\n",
        "/Users/anita/anaconda/lib/python2.7/site-packages/scipy/stats/distributions.py:2747: DeprecationWarning: converting an array with ndim > 0 to an index will result in an error in the future\n",
        "  return a*c*(1-exc)**asarray(a-1) * exc * x**(c-1)\n",
        "/Users/anita/anaconda/lib/python2.7/site-packages/scipy/stats/distributions.py:2749: DeprecationWarning: converting an array with ndim > 0 to an index will result in an error in the future\n",
        "  exc = exp(-x**c)\n",
        "/Users/anita/anaconda/lib/python2.7/site-packages/scipy/stats/distributions.py:2750: DeprecationWarning: converting an array with ndim > 0 to an index will result in an error in the future\n",
        "  return log(a) + log(c) + (a-1.)*log(1-exc) - x**c + (c-1.0)*log(x)\n",
        "/Users/anita/anaconda/lib/python2.7/site-packages/scipy/stats/distributions.py:2746: DeprecationWarning: converting an array with ndim > 0 to an index will result in an error in the future\n",
        "  exc = exp(-x**c)\n",
        "/Users/anita/anaconda/lib/python2.7/site-packages/scipy/stats/distributions.py:2747: DeprecationWarning: converting an array with ndim > 0 to an index will result in an error in the future\n",
        "  return a*c*(1-exc)**asarray(a-1) * exc * x**(c-1)\n",
        "/Users/anita/anaconda/lib/python2.7/site-packages/scipy/stats/distributions.py:2747: DeprecationWarning: converting an array with ndim > 0 to an index will result in an error in the future\n",
        "  return a*c*(1-exc)**asarray(a-1) * exc * x**(c-1)\n",
        "/Users/anita/anaconda/lib/python2.7/site-packages/scipy/stats/distributions.py:2749: DeprecationWarning: converting an array with ndim > 0 to an index will result in an error in the future\n",
        "  exc = exp(-x**c)\n",
        "/Users/anita/anaconda/lib/python2.7/site-packages/scipy/stats/distributions.py:2750: DeprecationWarning: converting an array with ndim > 0 to an index will result in an error in the future\n",
        "  return log(a) + log(c) + (a-1.)*log(1-exc) - x**c + (c-1.0)*log(x)\n",
        "/Users/anita/anaconda/lib/python2.7/site-packages/scipy/stats/distributions.py:2746: DeprecationWarning: converting an array with ndim > 0 to an index will result in an error in the future\n",
        "  exc = exp(-x**c)\n",
        "/Users/anita/anaconda/lib/python2.7/site-packages/scipy/stats/distributions.py:2747: DeprecationWarning: converting an array with ndim > 0 to an index will result in an error in the future\n",
        "  return a*c*(1-exc)**asarray(a-1) * exc * x**(c-1)\n",
        "/Users/anita/anaconda/lib/python2.7/site-packages/scipy/stats/distributions.py:2747: DeprecationWarning: converting an array with ndim > 0 to an index will result in an error in the future\n",
        "  return a*c*(1-exc)**asarray(a-1) * exc * x**(c-1)\n",
        "/Users/anita/anaconda/lib/python2.7/site-packages/scipy/stats/distributions.py:2749: DeprecationWarning: converting an array with ndim > 0 to an index will result in an error in the future\n",
        "  exc = exp(-x**c)\n",
        "/Users/anita/anaconda/lib/python2.7/site-packages/scipy/stats/distributions.py:2750: DeprecationWarning: converting an array with ndim > 0 to an index will result in an error in the future\n",
        "  return log(a) + log(c) + (a-1.)*log(1-exc) - x**c + (c-1.0)*log(x)\n",
        "/Users/anita/anaconda/lib/python2.7/site-packages/scipy/stats/distributions.py:2746: DeprecationWarning: converting an array with ndim > 0 to an index will result in an error in the future\n",
        "  exc = exp(-x**c)\n",
        "/Users/anita/anaconda/lib/python2.7/site-packages/scipy/stats/distributions.py:2747: DeprecationWarning: converting an array with ndim > 0 to an index will result in an error in the future\n",
        "  return a*c*(1-exc)**asarray(a-1) * exc * x**(c-1)\n",
        "/Users/anita/anaconda/lib/python2.7/site-packages/scipy/stats/distributions.py:2747: DeprecationWarning: converting an array with ndim > 0 to an index will result in an error in the future\n",
        "  return a*c*(1-exc)**asarray(a-1) * exc * x**(c-1)\n",
        "/Users/anita/anaconda/lib/python2.7/site-packages/scipy/stats/distributions.py:2749: DeprecationWarning: converting an array with ndim > 0 to an index will result in an error in the future\n",
        "  exc = exp(-x**c)\n"
       ]
      },
      {
       "output_type": "stream",
       "stream": "stderr",
       "text": [
        "/Users/anita/anaconda/lib/python2.7/site-packages/scipy/stats/distributions.py:2750: DeprecationWarning: converting an array with ndim > 0 to an index will result in an error in the future\n",
        "  return log(a) + log(c) + (a-1.)*log(1-exc) - x**c + (c-1.0)*log(x)\n",
        "/Users/anita/anaconda/lib/python2.7/site-packages/scipy/stats/distributions.py:2746: DeprecationWarning: converting an array with ndim > 0 to an index will result in an error in the future\n",
        "  exc = exp(-x**c)\n",
        "/Users/anita/anaconda/lib/python2.7/site-packages/scipy/stats/distributions.py:2747: DeprecationWarning: converting an array with ndim > 0 to an index will result in an error in the future\n",
        "  return a*c*(1-exc)**asarray(a-1) * exc * x**(c-1)\n",
        "/Users/anita/anaconda/lib/python2.7/site-packages/scipy/stats/distributions.py:2747: DeprecationWarning: converting an array with ndim > 0 to an index will result in an error in the future\n",
        "  return a*c*(1-exc)**asarray(a-1) * exc * x**(c-1)\n",
        "/Users/anita/anaconda/lib/python2.7/site-packages/scipy/stats/distributions.py:2749: DeprecationWarning: converting an array with ndim > 0 to an index will result in an error in the future\n",
        "  exc = exp(-x**c)\n",
        "/Users/anita/anaconda/lib/python2.7/site-packages/scipy/stats/distributions.py:2750: DeprecationWarning: converting an array with ndim > 0 to an index will result in an error in the future\n",
        "  return log(a) + log(c) + (a-1.)*log(1-exc) - x**c + (c-1.0)*log(x)\n",
        "/Users/anita/anaconda/lib/python2.7/site-packages/scipy/stats/distributions.py:2746: DeprecationWarning: converting an array with ndim > 0 to an index will result in an error in the future\n",
        "  exc = exp(-x**c)\n",
        "/Users/anita/anaconda/lib/python2.7/site-packages/scipy/stats/distributions.py:2747: DeprecationWarning: converting an array with ndim > 0 to an index will result in an error in the future\n",
        "  return a*c*(1-exc)**asarray(a-1) * exc * x**(c-1)\n",
        "/Users/anita/anaconda/lib/python2.7/site-packages/scipy/stats/distributions.py:2747: DeprecationWarning: converting an array with ndim > 0 to an index will result in an error in the future\n",
        "  return a*c*(1-exc)**asarray(a-1) * exc * x**(c-1)\n",
        "/Users/anita/anaconda/lib/python2.7/site-packages/scipy/stats/distributions.py:2749: DeprecationWarning: converting an array with ndim > 0 to an index will result in an error in the future\n",
        "  exc = exp(-x**c)\n",
        "/Users/anita/anaconda/lib/python2.7/site-packages/scipy/stats/distributions.py:2750: DeprecationWarning: converting an array with ndim > 0 to an index will result in an error in the future\n",
        "  return log(a) + log(c) + (a-1.)*log(1-exc) - x**c + (c-1.0)*log(x)\n",
        "/Users/anita/anaconda/lib/python2.7/site-packages/scipy/stats/distributions.py:2746: DeprecationWarning: converting an array with ndim > 0 to an index will result in an error in the future\n",
        "  exc = exp(-x**c)\n",
        "/Users/anita/anaconda/lib/python2.7/site-packages/scipy/stats/distributions.py:2747: DeprecationWarning: converting an array with ndim > 0 to an index will result in an error in the future\n",
        "  return a*c*(1-exc)**asarray(a-1) * exc * x**(c-1)\n",
        "/Users/anita/anaconda/lib/python2.7/site-packages/scipy/stats/distributions.py:2747: DeprecationWarning: converting an array with ndim > 0 to an index will result in an error in the future\n",
        "  return a*c*(1-exc)**asarray(a-1) * exc * x**(c-1)\n",
        "/Users/anita/anaconda/lib/python2.7/site-packages/scipy/stats/distributions.py:2749: DeprecationWarning: converting an array with ndim > 0 to an index will result in an error in the future\n",
        "  exc = exp(-x**c)\n",
        "/Users/anita/anaconda/lib/python2.7/site-packages/scipy/stats/distributions.py:2750: DeprecationWarning: converting an array with ndim > 0 to an index will result in an error in the future\n",
        "  return log(a) + log(c) + (a-1.)*log(1-exc) - x**c + (c-1.0)*log(x)\n",
        "/Users/anita/anaconda/lib/python2.7/site-packages/scipy/stats/distributions.py:2746: DeprecationWarning: converting an array with ndim > 0 to an index will result in an error in the future\n",
        "  exc = exp(-x**c)\n",
        "/Users/anita/anaconda/lib/python2.7/site-packages/scipy/stats/distributions.py:2747: DeprecationWarning: converting an array with ndim > 0 to an index will result in an error in the future\n",
        "  return a*c*(1-exc)**asarray(a-1) * exc * x**(c-1)\n",
        "/Users/anita/anaconda/lib/python2.7/site-packages/scipy/stats/distributions.py:2747: DeprecationWarning: converting an array with ndim > 0 to an index will result in an error in the future\n",
        "  return a*c*(1-exc)**asarray(a-1) * exc * x**(c-1)\n",
        "/Users/anita/anaconda/lib/python2.7/site-packages/scipy/stats/distributions.py:2749: DeprecationWarning: converting an array with ndim > 0 to an index will result in an error in the future\n",
        "  exc = exp(-x**c)\n",
        "/Users/anita/anaconda/lib/python2.7/site-packages/scipy/stats/distributions.py:2750: DeprecationWarning: converting an array with ndim > 0 to an index will result in an error in the future\n",
        "  return log(a) + log(c) + (a-1.)*log(1-exc) - x**c + (c-1.0)*log(x)\n",
        "/Users/anita/anaconda/lib/python2.7/site-packages/scipy/stats/distributions.py:2746: DeprecationWarning: converting an array with ndim > 0 to an index will result in an error in the future\n",
        "  exc = exp(-x**c)\n",
        "/Users/anita/anaconda/lib/python2.7/site-packages/scipy/stats/distributions.py:2747: DeprecationWarning: converting an array with ndim > 0 to an index will result in an error in the future\n",
        "  return a*c*(1-exc)**asarray(a-1) * exc * x**(c-1)\n",
        "/Users/anita/anaconda/lib/python2.7/site-packages/scipy/stats/distributions.py:2747: DeprecationWarning: converting an array with ndim > 0 to an index will result in an error in the future\n",
        "  return a*c*(1-exc)**asarray(a-1) * exc * x**(c-1)\n",
        "/Users/anita/anaconda/lib/python2.7/site-packages/scipy/stats/distributions.py:2749: DeprecationWarning: converting an array with ndim > 0 to an index will result in an error in the future\n",
        "  exc = exp(-x**c)\n",
        "/Users/anita/anaconda/lib/python2.7/site-packages/scipy/stats/distributions.py:2750: DeprecationWarning: converting an array with ndim > 0 to an index will result in an error in the future\n",
        "  return log(a) + log(c) + (a-1.)*log(1-exc) - x**c + (c-1.0)*log(x)\n",
        "/Users/anita/anaconda/lib/python2.7/site-packages/scipy/stats/distributions.py:2746: DeprecationWarning: converting an array with ndim > 0 to an index will result in an error in the future\n",
        "  exc = exp(-x**c)\n",
        "/Users/anita/anaconda/lib/python2.7/site-packages/scipy/stats/distributions.py:2747: DeprecationWarning: converting an array with ndim > 0 to an index will result in an error in the future\n",
        "  return a*c*(1-exc)**asarray(a-1) * exc * x**(c-1)\n",
        "/Users/anita/anaconda/lib/python2.7/site-packages/scipy/stats/distributions.py:2747: DeprecationWarning: converting an array with ndim > 0 to an index will result in an error in the future\n",
        "  return a*c*(1-exc)**asarray(a-1) * exc * x**(c-1)\n",
        "/Users/anita/anaconda/lib/python2.7/site-packages/scipy/stats/distributions.py:2749: DeprecationWarning: converting an array with ndim > 0 to an index will result in an error in the future\n",
        "  exc = exp(-x**c)\n",
        "/Users/anita/anaconda/lib/python2.7/site-packages/scipy/stats/distributions.py:2750: DeprecationWarning: converting an array with ndim > 0 to an index will result in an error in the future\n",
        "  return log(a) + log(c) + (a-1.)*log(1-exc) - x**c + (c-1.0)*log(x)\n",
        "/Users/anita/anaconda/lib/python2.7/site-packages/scipy/stats/distributions.py:2746: DeprecationWarning: converting an array with ndim > 0 to an index will result in an error in the future\n",
        "  exc = exp(-x**c)\n",
        "/Users/anita/anaconda/lib/python2.7/site-packages/scipy/stats/distributions.py:2747: DeprecationWarning: converting an array with ndim > 0 to an index will result in an error in the future\n",
        "  return a*c*(1-exc)**asarray(a-1) * exc * x**(c-1)\n",
        "/Users/anita/anaconda/lib/python2.7/site-packages/scipy/stats/distributions.py:2747: DeprecationWarning: converting an array with ndim > 0 to an index will result in an error in the future\n",
        "  return a*c*(1-exc)**asarray(a-1) * exc * x**(c-1)\n",
        "/Users/anita/anaconda/lib/python2.7/site-packages/scipy/stats/distributions.py:2749: DeprecationWarning: converting an array with ndim > 0 to an index will result in an error in the future\n",
        "  exc = exp(-x**c)\n",
        "/Users/anita/anaconda/lib/python2.7/site-packages/scipy/stats/distributions.py:2750: DeprecationWarning: converting an array with ndim > 0 to an index will result in an error in the future\n",
        "  return log(a) + log(c) + (a-1.)*log(1-exc) - x**c + (c-1.0)*log(x)\n",
        "/Users/anita/anaconda/lib/python2.7/site-packages/scipy/stats/distributions.py:2746: DeprecationWarning: converting an array with ndim > 0 to an index will result in an error in the future\n",
        "  exc = exp(-x**c)\n",
        "/Users/anita/anaconda/lib/python2.7/site-packages/scipy/stats/distributions.py:2747: DeprecationWarning: converting an array with ndim > 0 to an index will result in an error in the future\n",
        "  return a*c*(1-exc)**asarray(a-1) * exc * x**(c-1)\n",
        "/Users/anita/anaconda/lib/python2.7/site-packages/scipy/stats/distributions.py:2747: DeprecationWarning: converting an array with ndim > 0 to an index will result in an error in the future\n",
        "  return a*c*(1-exc)**asarray(a-1) * exc * x**(c-1)\n",
        "/Users/anita/anaconda/lib/python2.7/site-packages/scipy/stats/distributions.py:2749: DeprecationWarning: converting an array with ndim > 0 to an index will result in an error in the future\n",
        "  exc = exp(-x**c)\n",
        "/Users/anita/anaconda/lib/python2.7/site-packages/scipy/stats/distributions.py:2750: DeprecationWarning: converting an array with ndim > 0 to an index will result in an error in the future\n",
        "  return log(a) + log(c) + (a-1.)*log(1-exc) - x**c + (c-1.0)*log(x)\n",
        "/Users/anita/anaconda/lib/python2.7/site-packages/scipy/stats/distributions.py:2746: DeprecationWarning: converting an array with ndim > 0 to an index will result in an error in the future\n",
        "  exc = exp(-x**c)\n",
        "/Users/anita/anaconda/lib/python2.7/site-packages/scipy/stats/distributions.py:2747: DeprecationWarning: converting an array with ndim > 0 to an index will result in an error in the future\n",
        "  return a*c*(1-exc)**asarray(a-1) * exc * x**(c-1)\n",
        "/Users/anita/anaconda/lib/python2.7/site-packages/scipy/stats/distributions.py:2747: DeprecationWarning: converting an array with ndim > 0 to an index will result in an error in the future\n",
        "  return a*c*(1-exc)**asarray(a-1) * exc * x**(c-1)\n",
        "/Users/anita/anaconda/lib/python2.7/site-packages/scipy/stats/distributions.py:2749: DeprecationWarning: converting an array with ndim > 0 to an index will result in an error in the future\n",
        "  exc = exp(-x**c)\n",
        "/Users/anita/anaconda/lib/python2.7/site-packages/scipy/stats/distributions.py:2750: DeprecationWarning: converting an array with ndim > 0 to an index will result in an error in the future\n",
        "  return log(a) + log(c) + (a-1.)*log(1-exc) - x**c + (c-1.0)*log(x)\n",
        "/Users/anita/anaconda/lib/python2.7/site-packages/scipy/stats/distributions.py:2746: DeprecationWarning: converting an array with ndim > 0 to an index will result in an error in the future\n",
        "  exc = exp(-x**c)\n",
        "/Users/anita/anaconda/lib/python2.7/site-packages/scipy/stats/distributions.py:2747: DeprecationWarning: converting an array with ndim > 0 to an index will result in an error in the future\n",
        "  return a*c*(1-exc)**asarray(a-1) * exc * x**(c-1)\n",
        "/Users/anita/anaconda/lib/python2.7/site-packages/scipy/stats/distributions.py:2747: DeprecationWarning: converting an array with ndim > 0 to an index will result in an error in the future\n",
        "  return a*c*(1-exc)**asarray(a-1) * exc * x**(c-1)\n",
        "/Users/anita/anaconda/lib/python2.7/site-packages/scipy/stats/distributions.py:2749: DeprecationWarning: converting an array with ndim > 0 to an index will result in an error in the future\n",
        "  exc = exp(-x**c)\n",
        "/Users/anita/anaconda/lib/python2.7/site-packages/scipy/stats/distributions.py:2750: DeprecationWarning: converting an array with ndim > 0 to an index will result in an error in the future\n",
        "  return log(a) + log(c) + (a-1.)*log(1-exc) - x**c + (c-1.0)*log(x)\n",
        "/Users/anita/anaconda/lib/python2.7/site-packages/scipy/stats/distributions.py:2746: DeprecationWarning: converting an array with ndim > 0 to an index will result in an error in the future\n",
        "  exc = exp(-x**c)\n",
        "/Users/anita/anaconda/lib/python2.7/site-packages/scipy/stats/distributions.py:2747: DeprecationWarning: converting an array with ndim > 0 to an index will result in an error in the future\n",
        "  return a*c*(1-exc)**asarray(a-1) * exc * x**(c-1)\n",
        "/Users/anita/anaconda/lib/python2.7/site-packages/scipy/stats/distributions.py:2747: DeprecationWarning: converting an array with ndim > 0 to an index will result in an error in the future\n",
        "  return a*c*(1-exc)**asarray(a-1) * exc * x**(c-1)\n",
        "/Users/anita/anaconda/lib/python2.7/site-packages/scipy/stats/distributions.py:2749: DeprecationWarning: converting an array with ndim > 0 to an index will result in an error in the future\n",
        "  exc = exp(-x**c)\n",
        "/Users/anita/anaconda/lib/python2.7/site-packages/scipy/stats/distributions.py:2750: DeprecationWarning: converting an array with ndim > 0 to an index will result in an error in the future\n",
        "  return log(a) + log(c) + (a-1.)*log(1-exc) - x**c + (c-1.0)*log(x)\n",
        "/Users/anita/anaconda/lib/python2.7/site-packages/scipy/stats/distributions.py:2746: DeprecationWarning: converting an array with ndim > 0 to an index will result in an error in the future\n",
        "  exc = exp(-x**c)\n",
        "/Users/anita/anaconda/lib/python2.7/site-packages/scipy/stats/distributions.py:2747: DeprecationWarning: converting an array with ndim > 0 to an index will result in an error in the future\n",
        "  return a*c*(1-exc)**asarray(a-1) * exc * x**(c-1)\n",
        "/Users/anita/anaconda/lib/python2.7/site-packages/scipy/stats/distributions.py:2747: DeprecationWarning: converting an array with ndim > 0 to an index will result in an error in the future\n",
        "  return a*c*(1-exc)**asarray(a-1) * exc * x**(c-1)\n",
        "/Users/anita/anaconda/lib/python2.7/site-packages/scipy/stats/distributions.py:2749: DeprecationWarning: converting an array with ndim > 0 to an index will result in an error in the future\n",
        "  exc = exp(-x**c)\n",
        "/Users/anita/anaconda/lib/python2.7/site-packages/scipy/stats/distributions.py:2750: DeprecationWarning: converting an array with ndim > 0 to an index will result in an error in the future\n",
        "  return log(a) + log(c) + (a-1.)*log(1-exc) - x**c + (c-1.0)*log(x)\n",
        "/Users/anita/anaconda/lib/python2.7/site-packages/scipy/stats/distributions.py:2746: DeprecationWarning: converting an array with ndim > 0 to an index will result in an error in the future\n",
        "  exc = exp(-x**c)\n",
        "/Users/anita/anaconda/lib/python2.7/site-packages/scipy/stats/distributions.py:2747: DeprecationWarning: converting an array with ndim > 0 to an index will result in an error in the future\n",
        "  return a*c*(1-exc)**asarray(a-1) * exc * x**(c-1)\n",
        "/Users/anita/anaconda/lib/python2.7/site-packages/scipy/stats/distributions.py:2747: DeprecationWarning: converting an array with ndim > 0 to an index will result in an error in the future\n",
        "  return a*c*(1-exc)**asarray(a-1) * exc * x**(c-1)\n",
        "/Users/anita/anaconda/lib/python2.7/site-packages/scipy/stats/distributions.py:2749: DeprecationWarning: converting an array with ndim > 0 to an index will result in an error in the future\n",
        "  exc = exp(-x**c)\n",
        "/Users/anita/anaconda/lib/python2.7/site-packages/scipy/stats/distributions.py:2750: DeprecationWarning: converting an array with ndim > 0 to an index will result in an error in the future\n",
        "  return log(a) + log(c) + (a-1.)*log(1-exc) - x**c + (c-1.0)*log(x)\n",
        "/Users/anita/anaconda/lib/python2.7/site-packages/scipy/stats/distributions.py:2746: DeprecationWarning: converting an array with ndim > 0 to an index will result in an error in the future\n",
        "  exc = exp(-x**c)\n",
        "/Users/anita/anaconda/lib/python2.7/site-packages/scipy/stats/distributions.py:2747: DeprecationWarning: converting an array with ndim > 0 to an index will result in an error in the future\n",
        "  return a*c*(1-exc)**asarray(a-1) * exc * x**(c-1)\n",
        "/Users/anita/anaconda/lib/python2.7/site-packages/scipy/stats/distributions.py:2747: DeprecationWarning: converting an array with ndim > 0 to an index will result in an error in the future\n",
        "  return a*c*(1-exc)**asarray(a-1) * exc * x**(c-1)\n",
        "/Users/anita/anaconda/lib/python2.7/site-packages/scipy/stats/distributions.py:2749: DeprecationWarning: converting an array with ndim > 0 to an index will result in an error in the future\n",
        "  exc = exp(-x**c)\n",
        "/Users/anita/anaconda/lib/python2.7/site-packages/scipy/stats/distributions.py:2750: DeprecationWarning: converting an array with ndim > 0 to an index will result in an error in the future\n",
        "  return log(a) + log(c) + (a-1.)*log(1-exc) - x**c + (c-1.0)*log(x)\n",
        "/Users/anita/anaconda/lib/python2.7/site-packages/scipy/stats/distributions.py:2746: DeprecationWarning: converting an array with ndim > 0 to an index will result in an error in the future\n",
        "  exc = exp(-x**c)\n",
        "/Users/anita/anaconda/lib/python2.7/site-packages/scipy/stats/distributions.py:2747: DeprecationWarning: converting an array with ndim > 0 to an index will result in an error in the future\n",
        "  return a*c*(1-exc)**asarray(a-1) * exc * x**(c-1)\n",
        "/Users/anita/anaconda/lib/python2.7/site-packages/scipy/stats/distributions.py:2747: DeprecationWarning: converting an array with ndim > 0 to an index will result in an error in the future\n",
        "  return a*c*(1-exc)**asarray(a-1) * exc * x**(c-1)\n",
        "/Users/anita/anaconda/lib/python2.7/site-packages/scipy/stats/distributions.py:2749: DeprecationWarning: converting an array with ndim > 0 to an index will result in an error in the future\n",
        "  exc = exp(-x**c)\n",
        "/Users/anita/anaconda/lib/python2.7/site-packages/scipy/stats/distributions.py:2750: DeprecationWarning: converting an array with ndim > 0 to an index will result in an error in the future\n",
        "  return log(a) + log(c) + (a-1.)*log(1-exc) - x**c + (c-1.0)*log(x)\n",
        "/Users/anita/anaconda/lib/python2.7/site-packages/scipy/stats/distributions.py:2746: DeprecationWarning: converting an array with ndim > 0 to an index will result in an error in the future\n",
        "  exc = exp(-x**c)\n",
        "/Users/anita/anaconda/lib/python2.7/site-packages/scipy/stats/distributions.py:2747: DeprecationWarning: converting an array with ndim > 0 to an index will result in an error in the future\n",
        "  return a*c*(1-exc)**asarray(a-1) * exc * x**(c-1)\n",
        "/Users/anita/anaconda/lib/python2.7/site-packages/scipy/stats/distributions.py:2747: DeprecationWarning: converting an array with ndim > 0 to an index will result in an error in the future\n",
        "  return a*c*(1-exc)**asarray(a-1) * exc * x**(c-1)\n",
        "/Users/anita/anaconda/lib/python2.7/site-packages/scipy/stats/distributions.py:2749: DeprecationWarning: converting an array with ndim > 0 to an index will result in an error in the future\n",
        "  exc = exp(-x**c)\n",
        "/Users/anita/anaconda/lib/python2.7/site-packages/scipy/stats/distributions.py:2750: DeprecationWarning: converting an array with ndim > 0 to an index will result in an error in the future\n",
        "  return log(a) + log(c) + (a-1.)*log(1-exc) - x**c + (c-1.0)*log(x)\n",
        "/Users/anita/anaconda/lib/python2.7/site-packages/scipy/stats/distributions.py:2746: DeprecationWarning: converting an array with ndim > 0 to an index will result in an error in the future\n",
        "  exc = exp(-x**c)\n",
        "/Users/anita/anaconda/lib/python2.7/site-packages/scipy/stats/distributions.py:2747: DeprecationWarning: converting an array with ndim > 0 to an index will result in an error in the future\n",
        "  return a*c*(1-exc)**asarray(a-1) * exc * x**(c-1)\n",
        "/Users/anita/anaconda/lib/python2.7/site-packages/scipy/stats/distributions.py:2747: DeprecationWarning: converting an array with ndim > 0 to an index will result in an error in the future\n",
        "  return a*c*(1-exc)**asarray(a-1) * exc * x**(c-1)\n",
        "/Users/anita/anaconda/lib/python2.7/site-packages/scipy/stats/distributions.py:2749: DeprecationWarning: converting an array with ndim > 0 to an index will result in an error in the future\n",
        "  exc = exp(-x**c)\n",
        "/Users/anita/anaconda/lib/python2.7/site-packages/scipy/stats/distributions.py:2750: DeprecationWarning: converting an array with ndim > 0 to an index will result in an error in the future\n",
        "  return log(a) + log(c) + (a-1.)*log(1-exc) - x**c + (c-1.0)*log(x)\n",
        "/Users/anita/anaconda/lib/python2.7/site-packages/scipy/stats/distributions.py:2746: DeprecationWarning: converting an array with ndim > 0 to an index will result in an error in the future\n",
        "  exc = exp(-x**c)\n",
        "/Users/anita/anaconda/lib/python2.7/site-packages/scipy/stats/distributions.py:2747: DeprecationWarning: converting an array with ndim > 0 to an index will result in an error in the future\n",
        "  return a*c*(1-exc)**asarray(a-1) * exc * x**(c-1)\n",
        "/Users/anita/anaconda/lib/python2.7/site-packages/scipy/stats/distributions.py:2747: DeprecationWarning: converting an array with ndim > 0 to an index will result in an error in the future\n",
        "  return a*c*(1-exc)**asarray(a-1) * exc * x**(c-1)\n",
        "/Users/anita/anaconda/lib/python2.7/site-packages/scipy/stats/distributions.py:2749: DeprecationWarning: converting an array with ndim > 0 to an index will result in an error in the future\n",
        "  exc = exp(-x**c)\n",
        "/Users/anita/anaconda/lib/python2.7/site-packages/scipy/stats/distributions.py:2750: DeprecationWarning: converting an array with ndim > 0 to an index will result in an error in the future\n",
        "  return log(a) + log(c) + (a-1.)*log(1-exc) - x**c + (c-1.0)*log(x)\n",
        "/Users/anita/anaconda/lib/python2.7/site-packages/scipy/stats/distributions.py:2746: DeprecationWarning: converting an array with ndim > 0 to an index will result in an error in the future\n",
        "  exc = exp(-x**c)\n",
        "/Users/anita/anaconda/lib/python2.7/site-packages/scipy/stats/distributions.py:2747: DeprecationWarning: converting an array with ndim > 0 to an index will result in an error in the future\n",
        "  return a*c*(1-exc)**asarray(a-1) * exc * x**(c-1)\n",
        "/Users/anita/anaconda/lib/python2.7/site-packages/scipy/stats/distributions.py:2747: DeprecationWarning: converting an array with ndim > 0 to an index will result in an error in the future\n",
        "  return a*c*(1-exc)**asarray(a-1) * exc * x**(c-1)\n",
        "/Users/anita/anaconda/lib/python2.7/site-packages/scipy/stats/distributions.py:2749: DeprecationWarning: converting an array with ndim > 0 to an index will result in an error in the future\n",
        "  exc = exp(-x**c)\n",
        "/Users/anita/anaconda/lib/python2.7/site-packages/scipy/stats/distributions.py:2750: DeprecationWarning: converting an array with ndim > 0 to an index will result in an error in the future\n",
        "  return log(a) + log(c) + (a-1.)*log(1-exc) - x**c + (c-1.0)*log(x)\n",
        "/Users/anita/anaconda/lib/python2.7/site-packages/scipy/stats/distributions.py:2746: DeprecationWarning: converting an array with ndim > 0 to an index will result in an error in the future\n",
        "  exc = exp(-x**c)\n",
        "/Users/anita/anaconda/lib/python2.7/site-packages/scipy/stats/distributions.py:2747: DeprecationWarning: converting an array with ndim > 0 to an index will result in an error in the future\n",
        "  return a*c*(1-exc)**asarray(a-1) * exc * x**(c-1)\n",
        "/Users/anita/anaconda/lib/python2.7/site-packages/scipy/stats/distributions.py:2747: DeprecationWarning: converting an array with ndim > 0 to an index will result in an error in the future\n",
        "  return a*c*(1-exc)**asarray(a-1) * exc * x**(c-1)\n",
        "/Users/anita/anaconda/lib/python2.7/site-packages/scipy/stats/distributions.py:2749: DeprecationWarning: converting an array with ndim > 0 to an index will result in an error in the future\n",
        "  exc = exp(-x**c)\n",
        "/Users/anita/anaconda/lib/python2.7/site-packages/scipy/stats/distributions.py:2750: DeprecationWarning: converting an array with ndim > 0 to an index will result in an error in the future\n",
        "  return log(a) + log(c) + (a-1.)*log(1-exc) - x**c + (c-1.0)*log(x)\n",
        "/Users/anita/anaconda/lib/python2.7/site-packages/scipy/stats/distributions.py:2746: DeprecationWarning: converting an array with ndim > 0 to an index will result in an error in the future\n",
        "  exc = exp(-x**c)\n",
        "/Users/anita/anaconda/lib/python2.7/site-packages/scipy/stats/distributions.py:2747: DeprecationWarning: converting an array with ndim > 0 to an index will result in an error in the future\n",
        "  return a*c*(1-exc)**asarray(a-1) * exc * x**(c-1)\n",
        "/Users/anita/anaconda/lib/python2.7/site-packages/scipy/stats/distributions.py:2747: DeprecationWarning: converting an array with ndim > 0 to an index will result in an error in the future\n",
        "  return a*c*(1-exc)**asarray(a-1) * exc * x**(c-1)\n",
        "/Users/anita/anaconda/lib/python2.7/site-packages/scipy/stats/distributions.py:2749: DeprecationWarning: converting an array with ndim > 0 to an index will result in an error in the future\n",
        "  exc = exp(-x**c)\n",
        "/Users/anita/anaconda/lib/python2.7/site-packages/scipy/stats/distributions.py:2750: DeprecationWarning: converting an array with ndim > 0 to an index will result in an error in the future\n",
        "  return log(a) + log(c) + (a-1.)*log(1-exc) - x**c + (c-1.0)*log(x)\n",
        "/Users/anita/anaconda/lib/python2.7/site-packages/scipy/stats/distributions.py:2746: DeprecationWarning: converting an array with ndim > 0 to an index will result in an error in the future\n",
        "  exc = exp(-x**c)\n",
        "/Users/anita/anaconda/lib/python2.7/site-packages/scipy/stats/distributions.py:2747: DeprecationWarning: converting an array with ndim > 0 to an index will result in an error in the future\n",
        "  return a*c*(1-exc)**asarray(a-1) * exc * x**(c-1)\n",
        "/Users/anita/anaconda/lib/python2.7/site-packages/scipy/stats/distributions.py:2747: DeprecationWarning: converting an array with ndim > 0 to an index will result in an error in the future\n",
        "  return a*c*(1-exc)**asarray(a-1) * exc * x**(c-1)\n",
        "/Users/anita/anaconda/lib/python2.7/site-packages/scipy/stats/distributions.py:2749: DeprecationWarning: converting an array with ndim > 0 to an index will result in an error in the future\n",
        "  exc = exp(-x**c)\n",
        "/Users/anita/anaconda/lib/python2.7/site-packages/scipy/stats/distributions.py:2750: DeprecationWarning: converting an array with ndim > 0 to an index will result in an error in the future\n",
        "  return log(a) + log(c) + (a-1.)*log(1-exc) - x**c + (c-1.0)*log(x)\n",
        "/Users/anita/anaconda/lib/python2.7/site-packages/scipy/stats/distributions.py:2746: DeprecationWarning: converting an array with ndim > 0 to an index will result in an error in the future\n",
        "  exc = exp(-x**c)\n",
        "/Users/anita/anaconda/lib/python2.7/site-packages/scipy/stats/distributions.py:2747: DeprecationWarning: converting an array with ndim > 0 to an index will result in an error in the future\n",
        "  return a*c*(1-exc)**asarray(a-1) * exc * x**(c-1)\n",
        "/Users/anita/anaconda/lib/python2.7/site-packages/scipy/stats/distributions.py:2747: DeprecationWarning: converting an array with ndim > 0 to an index will result in an error in the future\n",
        "  return a*c*(1-exc)**asarray(a-1) * exc * x**(c-1)\n",
        "/Users/anita/anaconda/lib/python2.7/site-packages/scipy/stats/distributions.py:2749: DeprecationWarning: converting an array with ndim > 0 to an index will result in an error in the future\n",
        "  exc = exp(-x**c)\n",
        "/Users/anita/anaconda/lib/python2.7/site-packages/scipy/stats/distributions.py:2750: DeprecationWarning: converting an array with ndim > 0 to an index will result in an error in the future\n",
        "  return log(a) + log(c) + (a-1.)*log(1-exc) - x**c + (c-1.0)*log(x)\n",
        "/Users/anita/anaconda/lib/python2.7/site-packages/scipy/stats/distributions.py:2746: DeprecationWarning: converting an array with ndim > 0 to an index will result in an error in the future\n",
        "  exc = exp(-x**c)\n",
        "/Users/anita/anaconda/lib/python2.7/site-packages/scipy/stats/distributions.py:2747: DeprecationWarning: converting an array with ndim > 0 to an index will result in an error in the future\n",
        "  return a*c*(1-exc)**asarray(a-1) * exc * x**(c-1)\n",
        "/Users/anita/anaconda/lib/python2.7/site-packages/scipy/stats/distributions.py:2747: DeprecationWarning: converting an array with ndim > 0 to an index will result in an error in the future\n",
        "  return a*c*(1-exc)**asarray(a-1) * exc * x**(c-1)\n",
        "/Users/anita/anaconda/lib/python2.7/site-packages/scipy/stats/distributions.py:2749: DeprecationWarning: converting an array with ndim > 0 to an index will result in an error in the future\n",
        "  exc = exp(-x**c)\n",
        "/Users/anita/anaconda/lib/python2.7/site-packages/scipy/stats/distributions.py:2750: DeprecationWarning: converting an array with ndim > 0 to an index will result in an error in the future\n",
        "  return log(a) + log(c) + (a-1.)*log(1-exc) - x**c + (c-1.0)*log(x)\n",
        "/Users/anita/anaconda/lib/python2.7/site-packages/scipy/stats/distributions.py:2746: DeprecationWarning: converting an array with ndim > 0 to an index will result in an error in the future\n",
        "  exc = exp(-x**c)\n",
        "/Users/anita/anaconda/lib/python2.7/site-packages/scipy/stats/distributions.py:2747: DeprecationWarning: converting an array with ndim > 0 to an index will result in an error in the future\n",
        "  return a*c*(1-exc)**asarray(a-1) * exc * x**(c-1)\n",
        "/Users/anita/anaconda/lib/python2.7/site-packages/scipy/stats/distributions.py:2747: DeprecationWarning: converting an array with ndim > 0 to an index will result in an error in the future\n",
        "  return a*c*(1-exc)**asarray(a-1) * exc * x**(c-1)\n",
        "/Users/anita/anaconda/lib/python2.7/site-packages/scipy/stats/distributions.py:2749: DeprecationWarning: converting an array with ndim > 0 to an index will result in an error in the future\n",
        "  exc = exp(-x**c)\n",
        "/Users/anita/anaconda/lib/python2.7/site-packages/scipy/stats/distributions.py:2750: DeprecationWarning: converting an array with ndim > 0 to an index will result in an error in the future\n",
        "  return log(a) + log(c) + (a-1.)*log(1-exc) - x**c + (c-1.0)*log(x)\n",
        "/Users/anita/anaconda/lib/python2.7/site-packages/scipy/stats/distributions.py:2746: DeprecationWarning: converting an array with ndim > 0 to an index will result in an error in the future\n",
        "  exc = exp(-x**c)\n",
        "/Users/anita/anaconda/lib/python2.7/site-packages/scipy/stats/distributions.py:2747: DeprecationWarning: converting an array with ndim > 0 to an index will result in an error in the future\n",
        "  return a*c*(1-exc)**asarray(a-1) * exc * x**(c-1)\n",
        "/Users/anita/anaconda/lib/python2.7/site-packages/scipy/stats/distributions.py:2747: DeprecationWarning: converting an array with ndim > 0 to an index will result in an error in the future\n",
        "  return a*c*(1-exc)**asarray(a-1) * exc * x**(c-1)\n",
        "/Users/anita/anaconda/lib/python2.7/site-packages/scipy/stats/distributions.py:2749: DeprecationWarning: converting an array with ndim > 0 to an index will result in an error in the future\n",
        "  exc = exp(-x**c)\n",
        "/Users/anita/anaconda/lib/python2.7/site-packages/scipy/stats/distributions.py:2750: DeprecationWarning: converting an array with ndim > 0 to an index will result in an error in the future\n",
        "  return log(a) + log(c) + (a-1.)*log(1-exc) - x**c + (c-1.0)*log(x)\n",
        "/Users/anita/anaconda/lib/python2.7/site-packages/scipy/stats/distributions.py:2746: DeprecationWarning: converting an array with ndim > 0 to an index will result in an error in the future\n",
        "  exc = exp(-x**c)\n",
        "/Users/anita/anaconda/lib/python2.7/site-packages/scipy/stats/distributions.py:2747: DeprecationWarning: converting an array with ndim > 0 to an index will result in an error in the future\n",
        "  return a*c*(1-exc)**asarray(a-1) * exc * x**(c-1)\n",
        "/Users/anita/anaconda/lib/python2.7/site-packages/scipy/stats/distributions.py:2747: DeprecationWarning: converting an array with ndim > 0 to an index will result in an error in the future\n",
        "  return a*c*(1-exc)**asarray(a-1) * exc * x**(c-1)\n",
        "/Users/anita/anaconda/lib/python2.7/site-packages/scipy/stats/distributions.py:2749: DeprecationWarning: converting an array with ndim > 0 to an index will result in an error in the future\n",
        "  exc = exp(-x**c)\n",
        "/Users/anita/anaconda/lib/python2.7/site-packages/scipy/stats/distributions.py:2750: DeprecationWarning: converting an array with ndim > 0 to an index will result in an error in the future\n",
        "  return log(a) + log(c) + (a-1.)*log(1-exc) - x**c + (c-1.0)*log(x)\n",
        "/Users/anita/anaconda/lib/python2.7/site-packages/scipy/stats/distributions.py:2746: DeprecationWarning: converting an array with ndim > 0 to an index will result in an error in the future\n",
        "  exc = exp(-x**c)\n",
        "/Users/anita/anaconda/lib/python2.7/site-packages/scipy/stats/distributions.py:2747: DeprecationWarning: converting an array with ndim > 0 to an index will result in an error in the future\n",
        "  return a*c*(1-exc)**asarray(a-1) * exc * x**(c-1)\n",
        "/Users/anita/anaconda/lib/python2.7/site-packages/scipy/stats/distributions.py:2747: DeprecationWarning: converting an array with ndim > 0 to an index will result in an error in the future\n",
        "  return a*c*(1-exc)**asarray(a-1) * exc * x**(c-1)\n",
        "/Users/anita/anaconda/lib/python2.7/site-packages/scipy/stats/distributions.py:2749: DeprecationWarning: converting an array with ndim > 0 to an index will result in an error in the future\n",
        "  exc = exp(-x**c)\n",
        "/Users/anita/anaconda/lib/python2.7/site-packages/scipy/stats/distributions.py:2750: DeprecationWarning: converting an array with ndim > 0 to an index will result in an error in the future\n",
        "  return log(a) + log(c) + (a-1.)*log(1-exc) - x**c + (c-1.0)*log(x)\n",
        "/Users/anita/anaconda/lib/python2.7/site-packages/scipy/stats/distributions.py:2746: DeprecationWarning: converting an array with ndim > 0 to an index will result in an error in the future\n",
        "  exc = exp(-x**c)\n",
        "/Users/anita/anaconda/lib/python2.7/site-packages/scipy/stats/distributions.py:2747: DeprecationWarning: converting an array with ndim > 0 to an index will result in an error in the future\n",
        "  return a*c*(1-exc)**asarray(a-1) * exc * x**(c-1)\n",
        "/Users/anita/anaconda/lib/python2.7/site-packages/scipy/stats/distributions.py:2747: DeprecationWarning: converting an array with ndim > 0 to an index will result in an error in the future\n",
        "  return a*c*(1-exc)**asarray(a-1) * exc * x**(c-1)\n",
        "/Users/anita/anaconda/lib/python2.7/site-packages/scipy/stats/distributions.py:2749: DeprecationWarning: converting an array with ndim > 0 to an index will result in an error in the future\n",
        "  exc = exp(-x**c)\n",
        "/Users/anita/anaconda/lib/python2.7/site-packages/scipy/stats/distributions.py:2750: DeprecationWarning: converting an array with ndim > 0 to an index will result in an error in the future\n",
        "  return log(a) + log(c) + (a-1.)*log(1-exc) - x**c + (c-1.0)*log(x)\n",
        "/Users/anita/anaconda/lib/python2.7/site-packages/scipy/stats/distributions.py:2746: DeprecationWarning: converting an array with ndim > 0 to an index will result in an error in the future\n",
        "  exc = exp(-x**c)\n",
        "/Users/anita/anaconda/lib/python2.7/site-packages/scipy/stats/distributions.py:2747: DeprecationWarning: converting an array with ndim > 0 to an index will result in an error in the future\n",
        "  return a*c*(1-exc)**asarray(a-1) * exc * x**(c-1)\n",
        "/Users/anita/anaconda/lib/python2.7/site-packages/scipy/stats/distributions.py:2747: DeprecationWarning: converting an array with ndim > 0 to an index will result in an error in the future\n",
        "  return a*c*(1-exc)**asarray(a-1) * exc * x**(c-1)\n",
        "/Users/anita/anaconda/lib/python2.7/site-packages/scipy/stats/distributions.py:2749: DeprecationWarning: converting an array with ndim > 0 to an index will result in an error in the future\n",
        "  exc = exp(-x**c)\n",
        "/Users/anita/anaconda/lib/python2.7/site-packages/scipy/stats/distributions.py:2750: DeprecationWarning: converting an array with ndim > 0 to an index will result in an error in the future\n",
        "  return log(a) + log(c) + (a-1.)*log(1-exc) - x**c + (c-1.0)*log(x)\n",
        "/Users/anita/anaconda/lib/python2.7/site-packages/scipy/stats/distributions.py:2746: DeprecationWarning: converting an array with ndim > 0 to an index will result in an error in the future\n",
        "  exc = exp(-x**c)\n",
        "/Users/anita/anaconda/lib/python2.7/site-packages/scipy/stats/distributions.py:2747: DeprecationWarning: converting an array with ndim > 0 to an index will result in an error in the future\n",
        "  return a*c*(1-exc)**asarray(a-1) * exc * x**(c-1)\n",
        "/Users/anita/anaconda/lib/python2.7/site-packages/scipy/stats/distributions.py:2747: DeprecationWarning: converting an array with ndim > 0 to an index will result in an error in the future\n",
        "  return a*c*(1-exc)**asarray(a-1) * exc * x**(c-1)\n",
        "/Users/anita/anaconda/lib/python2.7/site-packages/scipy/stats/distributions.py:2749: DeprecationWarning: converting an array with ndim > 0 to an index will result in an error in the future\n",
        "  exc = exp(-x**c)\n",
        "/Users/anita/anaconda/lib/python2.7/site-packages/scipy/stats/distributions.py:2750: DeprecationWarning: converting an array with ndim > 0 to an index will result in an error in the future\n",
        "  return log(a) + log(c) + (a-1.)*log(1-exc) - x**c + (c-1.0)*log(x)\n",
        "/Users/anita/anaconda/lib/python2.7/site-packages/scipy/stats/distributions.py:2746: DeprecationWarning: converting an array with ndim > 0 to an index will result in an error in the future\n",
        "  exc = exp(-x**c)\n",
        "/Users/anita/anaconda/lib/python2.7/site-packages/scipy/stats/distributions.py:2747: DeprecationWarning: converting an array with ndim > 0 to an index will result in an error in the future\n",
        "  return a*c*(1-exc)**asarray(a-1) * exc * x**(c-1)\n",
        "/Users/anita/anaconda/lib/python2.7/site-packages/scipy/stats/distributions.py:2747: DeprecationWarning: converting an array with ndim > 0 to an index will result in an error in the future\n",
        "  return a*c*(1-exc)**asarray(a-1) * exc * x**(c-1)\n",
        "/Users/anita/anaconda/lib/python2.7/site-packages/scipy/stats/distributions.py:2749: DeprecationWarning: converting an array with ndim > 0 to an index will result in an error in the future\n",
        "  exc = exp(-x**c)\n",
        "/Users/anita/anaconda/lib/python2.7/site-packages/scipy/stats/distributions.py:2750: DeprecationWarning: converting an array with ndim > 0 to an index will result in an error in the future\n",
        "  return log(a) + log(c) + (a-1.)*log(1-exc) - x**c + (c-1.0)*log(x)\n",
        "/Users/anita/anaconda/lib/python2.7/site-packages/scipy/stats/distributions.py:2746: DeprecationWarning: converting an array with ndim > 0 to an index will result in an error in the future\n",
        "  exc = exp(-x**c)\n",
        "/Users/anita/anaconda/lib/python2.7/site-packages/scipy/stats/distributions.py:2747: DeprecationWarning: converting an array with ndim > 0 to an index will result in an error in the future\n",
        "  return a*c*(1-exc)**asarray(a-1) * exc * x**(c-1)\n",
        "/Users/anita/anaconda/lib/python2.7/site-packages/scipy/stats/distributions.py:2747: DeprecationWarning: converting an array with ndim > 0 to an index will result in an error in the future\n",
        "  return a*c*(1-exc)**asarray(a-1) * exc * x**(c-1)\n",
        "/Users/anita/anaconda/lib/python2.7/site-packages/scipy/stats/distributions.py:2749: DeprecationWarning: converting an array with ndim > 0 to an index will result in an error in the future\n",
        "  exc = exp(-x**c)\n",
        "/Users/anita/anaconda/lib/python2.7/site-packages/scipy/stats/distributions.py:2750: DeprecationWarning: converting an array with ndim > 0 to an index will result in an error in the future\n",
        "  return log(a) + log(c) + (a-1.)*log(1-exc) - x**c + (c-1.0)*log(x)\n",
        "/Users/anita/anaconda/lib/python2.7/site-packages/scipy/stats/distributions.py:2746: DeprecationWarning: converting an array with ndim > 0 to an index will result in an error in the future\n",
        "  exc = exp(-x**c)\n",
        "/Users/anita/anaconda/lib/python2.7/site-packages/scipy/stats/distributions.py:2747: DeprecationWarning: converting an array with ndim > 0 to an index will result in an error in the future\n",
        "  return a*c*(1-exc)**asarray(a-1) * exc * x**(c-1)\n",
        "/Users/anita/anaconda/lib/python2.7/site-packages/scipy/stats/distributions.py:2747: DeprecationWarning: converting an array with ndim > 0 to an index will result in an error in the future\n",
        "  return a*c*(1-exc)**asarray(a-1) * exc * x**(c-1)\n",
        "/Users/anita/anaconda/lib/python2.7/site-packages/scipy/stats/distributions.py:2749: DeprecationWarning: converting an array with ndim > 0 to an index will result in an error in the future\n",
        "  exc = exp(-x**c)\n",
        "/Users/anita/anaconda/lib/python2.7/site-packages/scipy/stats/distributions.py:2750: DeprecationWarning: converting an array with ndim > 0 to an index will result in an error in the future\n",
        "  return log(a) + log(c) + (a-1.)*log(1-exc) - x**c + (c-1.0)*log(x)\n",
        "/Users/anita/anaconda/lib/python2.7/site-packages/scipy/stats/distributions.py:2746: DeprecationWarning: converting an array with ndim > 0 to an index will result in an error in the future\n",
        "  exc = exp(-x**c)\n",
        "/Users/anita/anaconda/lib/python2.7/site-packages/scipy/stats/distributions.py:2747: DeprecationWarning: converting an array with ndim > 0 to an index will result in an error in the future\n",
        "  return a*c*(1-exc)**asarray(a-1) * exc * x**(c-1)\n",
        "/Users/anita/anaconda/lib/python2.7/site-packages/scipy/stats/distributions.py:2747: DeprecationWarning: converting an array with ndim > 0 to an index will result in an error in the future\n",
        "  return a*c*(1-exc)**asarray(a-1) * exc * x**(c-1)\n",
        "/Users/anita/anaconda/lib/python2.7/site-packages/scipy/stats/distributions.py:2749: DeprecationWarning: converting an array with ndim > 0 to an index will result in an error in the future\n",
        "  exc = exp(-x**c)\n",
        "/Users/anita/anaconda/lib/python2.7/site-packages/scipy/stats/distributions.py:2750: DeprecationWarning: converting an array with ndim > 0 to an index will result in an error in the future\n",
        "  return log(a) + log(c) + (a-1.)*log(1-exc) - x**c + (c-1.0)*log(x)\n",
        "/Users/anita/anaconda/lib/python2.7/site-packages/scipy/stats/distributions.py:2746: DeprecationWarning: converting an array with ndim > 0 to an index will result in an error in the future\n",
        "  exc = exp(-x**c)\n",
        "/Users/anita/anaconda/lib/python2.7/site-packages/scipy/stats/distributions.py:2747: DeprecationWarning: converting an array with ndim > 0 to an index will result in an error in the future\n",
        "  return a*c*(1-exc)**asarray(a-1) * exc * x**(c-1)\n",
        "/Users/anita/anaconda/lib/python2.7/site-packages/scipy/stats/distributions.py:2747: DeprecationWarning: converting an array with ndim > 0 to an index will result in an error in the future\n",
        "  return a*c*(1-exc)**asarray(a-1) * exc * x**(c-1)\n",
        "/Users/anita/anaconda/lib/python2.7/site-packages/scipy/stats/distributions.py:2749: DeprecationWarning: converting an array with ndim > 0 to an index will result in an error in the future\n",
        "  exc = exp(-x**c)\n",
        "/Users/anita/anaconda/lib/python2.7/site-packages/scipy/stats/distributions.py:2750: DeprecationWarning: converting an array with ndim > 0 to an index will result in an error in the future\n",
        "  return log(a) + log(c) + (a-1.)*log(1-exc) - x**c + (c-1.0)*log(x)\n",
        "/Users/anita/anaconda/lib/python2.7/site-packages/scipy/stats/distributions.py:2746: DeprecationWarning: converting an array with ndim > 0 to an index will result in an error in the future\n",
        "  exc = exp(-x**c)\n",
        "/Users/anita/anaconda/lib/python2.7/site-packages/scipy/stats/distributions.py:2747: DeprecationWarning: converting an array with ndim > 0 to an index will result in an error in the future\n",
        "  return a*c*(1-exc)**asarray(a-1) * exc * x**(c-1)\n",
        "/Users/anita/anaconda/lib/python2.7/site-packages/scipy/stats/distributions.py:2747: DeprecationWarning: converting an array with ndim > 0 to an index will result in an error in the future\n",
        "  return a*c*(1-exc)**asarray(a-1) * exc * x**(c-1)\n",
        "/Users/anita/anaconda/lib/python2.7/site-packages/scipy/stats/distributions.py:2749: DeprecationWarning: converting an array with ndim > 0 to an index will result in an error in the future\n",
        "  exc = exp(-x**c)\n",
        "/Users/anita/anaconda/lib/python2.7/site-packages/scipy/stats/distributions.py:2750: DeprecationWarning: converting an array with ndim > 0 to an index will result in an error in the future\n",
        "  return log(a) + log(c) + (a-1.)*log(1-exc) - x**c + (c-1.0)*log(x)\n",
        "/Users/anita/anaconda/lib/python2.7/site-packages/scipy/stats/distributions.py:2746: DeprecationWarning: converting an array with ndim > 0 to an index will result in an error in the future\n",
        "  exc = exp(-x**c)\n",
        "/Users/anita/anaconda/lib/python2.7/site-packages/scipy/stats/distributions.py:2747: DeprecationWarning: converting an array with ndim > 0 to an index will result in an error in the future\n",
        "  return a*c*(1-exc)**asarray(a-1) * exc * x**(c-1)\n",
        "/Users/anita/anaconda/lib/python2.7/site-packages/scipy/stats/distributions.py:2747: DeprecationWarning: converting an array with ndim > 0 to an index will result in an error in the future\n",
        "  return a*c*(1-exc)**asarray(a-1) * exc * x**(c-1)\n",
        "/Users/anita/anaconda/lib/python2.7/site-packages/scipy/stats/distributions.py:2749: DeprecationWarning: converting an array with ndim > 0 to an index will result in an error in the future\n",
        "  exc = exp(-x**c)\n",
        "/Users/anita/anaconda/lib/python2.7/site-packages/scipy/stats/distributions.py:2750: DeprecationWarning: converting an array with ndim > 0 to an index will result in an error in the future\n",
        "  return log(a) + log(c) + (a-1.)*log(1-exc) - x**c + (c-1.0)*log(x)\n",
        "/Users/anita/anaconda/lib/python2.7/site-packages/scipy/stats/distributions.py:2746: DeprecationWarning: converting an array with ndim > 0 to an index will result in an error in the future\n",
        "  exc = exp(-x**c)\n",
        "/Users/anita/anaconda/lib/python2.7/site-packages/scipy/stats/distributions.py:2747: DeprecationWarning: converting an array with ndim > 0 to an index will result in an error in the future\n",
        "  return a*c*(1-exc)**asarray(a-1) * exc * x**(c-1)\n",
        "/Users/anita/anaconda/lib/python2.7/site-packages/scipy/stats/distributions.py:2747: DeprecationWarning: converting an array with ndim > 0 to an index will result in an error in the future\n",
        "  return a*c*(1-exc)**asarray(a-1) * exc * x**(c-1)\n",
        "/Users/anita/anaconda/lib/python2.7/site-packages/scipy/stats/distributions.py:2749: DeprecationWarning: converting an array with ndim > 0 to an index will result in an error in the future\n",
        "  exc = exp(-x**c)\n",
        "/Users/anita/anaconda/lib/python2.7/site-packages/scipy/stats/distributions.py:2750: DeprecationWarning: converting an array with ndim > 0 to an index will result in an error in the future\n",
        "  return log(a) + log(c) + (a-1.)*log(1-exc) - x**c + (c-1.0)*log(x)\n",
        "/Users/anita/anaconda/lib/python2.7/site-packages/scipy/stats/distributions.py:2746: DeprecationWarning: converting an array with ndim > 0 to an index will result in an error in the future\n",
        "  exc = exp(-x**c)\n",
        "/Users/anita/anaconda/lib/python2.7/site-packages/scipy/stats/distributions.py:2747: DeprecationWarning: converting an array with ndim > 0 to an index will result in an error in the future\n",
        "  return a*c*(1-exc)**asarray(a-1) * exc * x**(c-1)\n",
        "/Users/anita/anaconda/lib/python2.7/site-packages/scipy/stats/distributions.py:2747: DeprecationWarning: converting an array with ndim > 0 to an index will result in an error in the future\n",
        "  return a*c*(1-exc)**asarray(a-1) * exc * x**(c-1)\n",
        "/Users/anita/anaconda/lib/python2.7/site-packages/scipy/stats/distributions.py:2749: DeprecationWarning: converting an array with ndim > 0 to an index will result in an error in the future\n",
        "  exc = exp(-x**c)\n",
        "/Users/anita/anaconda/lib/python2.7/site-packages/scipy/stats/distributions.py:2750: DeprecationWarning: converting an array with ndim > 0 to an index will result in an error in the future\n",
        "  return log(a) + log(c) + (a-1.)*log(1-exc) - x**c + (c-1.0)*log(x)\n",
        "/Users/anita/anaconda/lib/python2.7/site-packages/scipy/stats/distributions.py:2746: DeprecationWarning: converting an array with ndim > 0 to an index will result in an error in the future\n",
        "  exc = exp(-x**c)\n",
        "/Users/anita/anaconda/lib/python2.7/site-packages/scipy/stats/distributions.py:2747: DeprecationWarning: converting an array with ndim > 0 to an index will result in an error in the future\n",
        "  return a*c*(1-exc)**asarray(a-1) * exc * x**(c-1)\n",
        "/Users/anita/anaconda/lib/python2.7/site-packages/scipy/stats/distributions.py:2747: DeprecationWarning: converting an array with ndim > 0 to an index will result in an error in the future\n",
        "  return a*c*(1-exc)**asarray(a-1) * exc * x**(c-1)\n",
        "/Users/anita/anaconda/lib/python2.7/site-packages/scipy/stats/distributions.py:2749: DeprecationWarning: converting an array with ndim > 0 to an index will result in an error in the future\n",
        "  exc = exp(-x**c)\n",
        "/Users/anita/anaconda/lib/python2.7/site-packages/scipy/stats/distributions.py:2750: DeprecationWarning: converting an array with ndim > 0 to an index will result in an error in the future\n",
        "  return log(a) + log(c) + (a-1.)*log(1-exc) - x**c + (c-1.0)*log(x)\n",
        "/Users/anita/anaconda/lib/python2.7/site-packages/scipy/stats/distributions.py:2746: DeprecationWarning: converting an array with ndim > 0 to an index will result in an error in the future\n",
        "  exc = exp(-x**c)\n",
        "/Users/anita/anaconda/lib/python2.7/site-packages/scipy/stats/distributions.py:2747: DeprecationWarning: converting an array with ndim > 0 to an index will result in an error in the future\n",
        "  return a*c*(1-exc)**asarray(a-1) * exc * x**(c-1)\n",
        "/Users/anita/anaconda/lib/python2.7/site-packages/scipy/stats/distributions.py:2747: DeprecationWarning: converting an array with ndim > 0 to an index will result in an error in the future\n",
        "  return a*c*(1-exc)**asarray(a-1) * exc * x**(c-1)\n",
        "/Users/anita/anaconda/lib/python2.7/site-packages/scipy/stats/distributions.py:2749: DeprecationWarning: converting an array with ndim > 0 to an index will result in an error in the future\n",
        "  exc = exp(-x**c)\n",
        "/Users/anita/anaconda/lib/python2.7/site-packages/scipy/stats/distributions.py:2750: DeprecationWarning: converting an array with ndim > 0 to an index will result in an error in the future\n",
        "  return log(a) + log(c) + (a-1.)*log(1-exc) - x**c + (c-1.0)*log(x)\n",
        "/Users/anita/anaconda/lib/python2.7/site-packages/scipy/stats/distributions.py:2746: DeprecationWarning: converting an array with ndim > 0 to an index will result in an error in the future\n",
        "  exc = exp(-x**c)\n",
        "/Users/anita/anaconda/lib/python2.7/site-packages/scipy/stats/distributions.py:2747: DeprecationWarning: converting an array with ndim > 0 to an index will result in an error in the future\n",
        "  return a*c*(1-exc)**asarray(a-1) * exc * x**(c-1)\n",
        "/Users/anita/anaconda/lib/python2.7/site-packages/scipy/stats/distributions.py:2747: DeprecationWarning: converting an array with ndim > 0 to an index will result in an error in the future\n",
        "  return a*c*(1-exc)**asarray(a-1) * exc * x**(c-1)\n",
        "/Users/anita/anaconda/lib/python2.7/site-packages/scipy/stats/distributions.py:2749: DeprecationWarning: converting an array with ndim > 0 to an index will result in an error in the future\n",
        "  exc = exp(-x**c)\n",
        "/Users/anita/anaconda/lib/python2.7/site-packages/scipy/stats/distributions.py:2750: DeprecationWarning: converting an array with ndim > 0 to an index will result in an error in the future\n",
        "  return log(a) + log(c) + (a-1.)*log(1-exc) - x**c + (c-1.0)*log(x)\n",
        "/Users/anita/anaconda/lib/python2.7/site-packages/scipy/stats/distributions.py:2746: DeprecationWarning: converting an array with ndim > 0 to an index will result in an error in the future\n",
        "  exc = exp(-x**c)\n",
        "/Users/anita/anaconda/lib/python2.7/site-packages/scipy/stats/distributions.py:2747: DeprecationWarning: converting an array with ndim > 0 to an index will result in an error in the future\n",
        "  return a*c*(1-exc)**asarray(a-1) * exc * x**(c-1)\n",
        "/Users/anita/anaconda/lib/python2.7/site-packages/scipy/stats/distributions.py:2747: DeprecationWarning: converting an array with ndim > 0 to an index will result in an error in the future\n",
        "  return a*c*(1-exc)**asarray(a-1) * exc * x**(c-1)\n",
        "/Users/anita/anaconda/lib/python2.7/site-packages/scipy/stats/distributions.py:2749: DeprecationWarning: converting an array with ndim > 0 to an index will result in an error in the future\n",
        "  exc = exp(-x**c)\n",
        "/Users/anita/anaconda/lib/python2.7/site-packages/scipy/stats/distributions.py:2750: DeprecationWarning: converting an array with ndim > 0 to an index will result in an error in the future\n",
        "  return log(a) + log(c) + (a-1.)*log(1-exc) - x**c + (c-1.0)*log(x)\n",
        "/Users/anita/anaconda/lib/python2.7/site-packages/scipy/stats/distributions.py:2746: DeprecationWarning: converting an array with ndim > 0 to an index will result in an error in the future\n",
        "  exc = exp(-x**c)\n",
        "/Users/anita/anaconda/lib/python2.7/site-packages/scipy/stats/distributions.py:2747: DeprecationWarning: converting an array with ndim > 0 to an index will result in an error in the future\n",
        "  return a*c*(1-exc)**asarray(a-1) * exc * x**(c-1)\n",
        "/Users/anita/anaconda/lib/python2.7/site-packages/scipy/stats/distributions.py:2747: DeprecationWarning: converting an array with ndim > 0 to an index will result in an error in the future\n",
        "  return a*c*(1-exc)**asarray(a-1) * exc * x**(c-1)\n",
        "/Users/anita/anaconda/lib/python2.7/site-packages/scipy/stats/distributions.py:2749: DeprecationWarning: converting an array with ndim > 0 to an index will result in an error in the future\n",
        "  exc = exp(-x**c)\n",
        "/Users/anita/anaconda/lib/python2.7/site-packages/scipy/stats/distributions.py:2750: DeprecationWarning: converting an array with ndim > 0 to an index will result in an error in the future\n",
        "  return log(a) + log(c) + (a-1.)*log(1-exc) - x**c + (c-1.0)*log(x)\n",
        "/Users/anita/anaconda/lib/python2.7/site-packages/scipy/stats/distributions.py:2746: DeprecationWarning: converting an array with ndim > 0 to an index will result in an error in the future\n",
        "  exc = exp(-x**c)\n",
        "/Users/anita/anaconda/lib/python2.7/site-packages/scipy/stats/distributions.py:2747: DeprecationWarning: converting an array with ndim > 0 to an index will result in an error in the future\n",
        "  return a*c*(1-exc)**asarray(a-1) * exc * x**(c-1)\n",
        "/Users/anita/anaconda/lib/python2.7/site-packages/scipy/stats/distributions.py:2747: DeprecationWarning: converting an array with ndim > 0 to an index will result in an error in the future\n",
        "  return a*c*(1-exc)**asarray(a-1) * exc * x**(c-1)\n",
        "/Users/anita/anaconda/lib/python2.7/site-packages/scipy/stats/distributions.py:2749: DeprecationWarning: converting an array with ndim > 0 to an index will result in an error in the future\n",
        "  exc = exp(-x**c)\n",
        "/Users/anita/anaconda/lib/python2.7/site-packages/scipy/stats/distributions.py:2750: DeprecationWarning: converting an array with ndim > 0 to an index will result in an error in the future\n",
        "  return log(a) + log(c) + (a-1.)*log(1-exc) - x**c + (c-1.0)*log(x)\n",
        "/Users/anita/anaconda/lib/python2.7/site-packages/scipy/stats/distributions.py:2746: DeprecationWarning: converting an array with ndim > 0 to an index will result in an error in the future\n",
        "  exc = exp(-x**c)\n",
        "/Users/anita/anaconda/lib/python2.7/site-packages/scipy/stats/distributions.py:2747: DeprecationWarning: converting an array with ndim > 0 to an index will result in an error in the future\n",
        "  return a*c*(1-exc)**asarray(a-1) * exc * x**(c-1)\n",
        "/Users/anita/anaconda/lib/python2.7/site-packages/scipy/stats/distributions.py:2747: DeprecationWarning: converting an array with ndim > 0 to an index will result in an error in the future\n",
        "  return a*c*(1-exc)**asarray(a-1) * exc * x**(c-1)\n",
        "/Users/anita/anaconda/lib/python2.7/site-packages/scipy/stats/distributions.py:2749: DeprecationWarning: converting an array with ndim > 0 to an index will result in an error in the future\n",
        "  exc = exp(-x**c)\n",
        "/Users/anita/anaconda/lib/python2.7/site-packages/scipy/stats/distributions.py:2750: DeprecationWarning: converting an array with ndim > 0 to an index will result in an error in the future\n",
        "  return log(a) + log(c) + (a-1.)*log(1-exc) - x**c + (c-1.0)*log(x)\n",
        "/Users/anita/anaconda/lib/python2.7/site-packages/scipy/stats/distributions.py:2746: DeprecationWarning: converting an array with ndim > 0 to an index will result in an error in the future\n",
        "  exc = exp(-x**c)\n",
        "/Users/anita/anaconda/lib/python2.7/site-packages/scipy/stats/distributions.py:2747: DeprecationWarning: converting an array with ndim > 0 to an index will result in an error in the future\n",
        "  return a*c*(1-exc)**asarray(a-1) * exc * x**(c-1)\n",
        "/Users/anita/anaconda/lib/python2.7/site-packages/scipy/stats/distributions.py:2747: DeprecationWarning: converting an array with ndim > 0 to an index will result in an error in the future\n",
        "  return a*c*(1-exc)**asarray(a-1) * exc * x**(c-1)\n",
        "/Users/anita/anaconda/lib/python2.7/site-packages/scipy/stats/distributions.py:2749: DeprecationWarning: converting an array with ndim > 0 to an index will result in an error in the future\n",
        "  exc = exp(-x**c)\n",
        "/Users/anita/anaconda/lib/python2.7/site-packages/scipy/stats/distributions.py:2750: DeprecationWarning: converting an array with ndim > 0 to an index will result in an error in the future\n",
        "  return log(a) + log(c) + (a-1.)*log(1-exc) - x**c + (c-1.0)*log(x)\n",
        "/Users/anita/anaconda/lib/python2.7/site-packages/scipy/stats/distributions.py:2746: DeprecationWarning: converting an array with ndim > 0 to an index will result in an error in the future\n",
        "  exc = exp(-x**c)\n",
        "/Users/anita/anaconda/lib/python2.7/site-packages/scipy/stats/distributions.py:2747: DeprecationWarning: converting an array with ndim > 0 to an index will result in an error in the future\n",
        "  return a*c*(1-exc)**asarray(a-1) * exc * x**(c-1)\n",
        "/Users/anita/anaconda/lib/python2.7/site-packages/scipy/stats/distributions.py:2747: DeprecationWarning: converting an array with ndim > 0 to an index will result in an error in the future\n",
        "  return a*c*(1-exc)**asarray(a-1) * exc * x**(c-1)\n",
        "/Users/anita/anaconda/lib/python2.7/site-packages/scipy/stats/distributions.py:2749: DeprecationWarning: converting an array with ndim > 0 to an index will result in an error in the future\n",
        "  exc = exp(-x**c)\n",
        "/Users/anita/anaconda/lib/python2.7/site-packages/scipy/stats/distributions.py:2750: DeprecationWarning: converting an array with ndim > 0 to an index will result in an error in the future\n",
        "  return log(a) + log(c) + (a-1.)*log(1-exc) - x**c + (c-1.0)*log(x)\n",
        "/Users/anita/anaconda/lib/python2.7/site-packages/scipy/stats/distributions.py:2746: DeprecationWarning: converting an array with ndim > 0 to an index will result in an error in the future\n",
        "  exc = exp(-x**c)\n",
        "/Users/anita/anaconda/lib/python2.7/site-packages/scipy/stats/distributions.py:2747: DeprecationWarning: converting an array with ndim > 0 to an index will result in an error in the future\n",
        "  return a*c*(1-exc)**asarray(a-1) * exc * x**(c-1)\n",
        "/Users/anita/anaconda/lib/python2.7/site-packages/scipy/stats/distributions.py:2747: DeprecationWarning: converting an array with ndim > 0 to an index will result in an error in the future\n",
        "  return a*c*(1-exc)**asarray(a-1) * exc * x**(c-1)\n",
        "/Users/anita/anaconda/lib/python2.7/site-packages/scipy/stats/distributions.py:2749: DeprecationWarning: converting an array with ndim > 0 to an index will result in an error in the future\n",
        "  exc = exp(-x**c)\n",
        "/Users/anita/anaconda/lib/python2.7/site-packages/scipy/stats/distributions.py:2750: DeprecationWarning: converting an array with ndim > 0 to an index will result in an error in the future\n",
        "  return log(a) + log(c) + (a-1.)*log(1-exc) - x**c + (c-1.0)*log(x)\n",
        "/Users/anita/anaconda/lib/python2.7/site-packages/scipy/stats/distributions.py:2746: DeprecationWarning: converting an array with ndim > 0 to an index will result in an error in the future\n",
        "  exc = exp(-x**c)\n",
        "/Users/anita/anaconda/lib/python2.7/site-packages/scipy/stats/distributions.py:2747: DeprecationWarning: converting an array with ndim > 0 to an index will result in an error in the future\n",
        "  return a*c*(1-exc)**asarray(a-1) * exc * x**(c-1)\n",
        "/Users/anita/anaconda/lib/python2.7/site-packages/scipy/stats/distributions.py:2747: DeprecationWarning: converting an array with ndim > 0 to an index will result in an error in the future\n",
        "  return a*c*(1-exc)**asarray(a-1) * exc * x**(c-1)\n",
        "/Users/anita/anaconda/lib/python2.7/site-packages/scipy/stats/distributions.py:2749: DeprecationWarning: converting an array with ndim > 0 to an index will result in an error in the future\n",
        "  exc = exp(-x**c)\n",
        "/Users/anita/anaconda/lib/python2.7/site-packages/scipy/stats/distributions.py:2750: DeprecationWarning: converting an array with ndim > 0 to an index will result in an error in the future\n",
        "  return log(a) + log(c) + (a-1.)*log(1-exc) - x**c + (c-1.0)*log(x)\n",
        "/Users/anita/anaconda/lib/python2.7/site-packages/scipy/stats/distributions.py:2746: DeprecationWarning: converting an array with ndim > 0 to an index will result in an error in the future\n",
        "  exc = exp(-x**c)\n",
        "/Users/anita/anaconda/lib/python2.7/site-packages/scipy/stats/distributions.py:2747: DeprecationWarning: converting an array with ndim > 0 to an index will result in an error in the future\n",
        "  return a*c*(1-exc)**asarray(a-1) * exc * x**(c-1)\n",
        "/Users/anita/anaconda/lib/python2.7/site-packages/scipy/stats/distributions.py:2747: DeprecationWarning: converting an array with ndim > 0 to an index will result in an error in the future\n",
        "  return a*c*(1-exc)**asarray(a-1) * exc * x**(c-1)\n",
        "/Users/anita/anaconda/lib/python2.7/site-packages/scipy/stats/distributions.py:2749: DeprecationWarning: converting an array with ndim > 0 to an index will result in an error in the future\n",
        "  exc = exp(-x**c)\n",
        "/Users/anita/anaconda/lib/python2.7/site-packages/scipy/stats/distributions.py:2750: DeprecationWarning: converting an array with ndim > 0 to an index will result in an error in the future\n",
        "  return log(a) + log(c) + (a-1.)*log(1-exc) - x**c + (c-1.0)*log(x)\n",
        "/Users/anita/anaconda/lib/python2.7/site-packages/scipy/stats/distributions.py:2746: DeprecationWarning: converting an array with ndim > 0 to an index will result in an error in the future\n",
        "  exc = exp(-x**c)\n"
       ]
      },
      {
       "output_type": "stream",
       "stream": "stderr",
       "text": [
        "/Users/anita/anaconda/lib/python2.7/site-packages/scipy/stats/distributions.py:2747: DeprecationWarning: converting an array with ndim > 0 to an index will result in an error in the future\n",
        "  return a*c*(1-exc)**asarray(a-1) * exc * x**(c-1)\n",
        "/Users/anita/anaconda/lib/python2.7/site-packages/scipy/stats/distributions.py:2747: DeprecationWarning: converting an array with ndim > 0 to an index will result in an error in the future\n",
        "  return a*c*(1-exc)**asarray(a-1) * exc * x**(c-1)\n",
        "/Users/anita/anaconda/lib/python2.7/site-packages/scipy/stats/distributions.py:2749: DeprecationWarning: converting an array with ndim > 0 to an index will result in an error in the future\n",
        "  exc = exp(-x**c)\n",
        "/Users/anita/anaconda/lib/python2.7/site-packages/scipy/stats/distributions.py:2750: DeprecationWarning: converting an array with ndim > 0 to an index will result in an error in the future\n",
        "  return log(a) + log(c) + (a-1.)*log(1-exc) - x**c + (c-1.0)*log(x)\n",
        "/Users/anita/anaconda/lib/python2.7/site-packages/scipy/stats/distributions.py:2746: DeprecationWarning: converting an array with ndim > 0 to an index will result in an error in the future\n",
        "  exc = exp(-x**c)\n",
        "/Users/anita/anaconda/lib/python2.7/site-packages/scipy/stats/distributions.py:2747: DeprecationWarning: converting an array with ndim > 0 to an index will result in an error in the future\n",
        "  return a*c*(1-exc)**asarray(a-1) * exc * x**(c-1)\n",
        "/Users/anita/anaconda/lib/python2.7/site-packages/scipy/stats/distributions.py:2747: DeprecationWarning: converting an array with ndim > 0 to an index will result in an error in the future\n",
        "  return a*c*(1-exc)**asarray(a-1) * exc * x**(c-1)\n",
        "/Users/anita/anaconda/lib/python2.7/site-packages/scipy/stats/distributions.py:2749: DeprecationWarning: converting an array with ndim > 0 to an index will result in an error in the future\n",
        "  exc = exp(-x**c)\n",
        "/Users/anita/anaconda/lib/python2.7/site-packages/scipy/stats/distributions.py:2750: DeprecationWarning: converting an array with ndim > 0 to an index will result in an error in the future\n",
        "  return log(a) + log(c) + (a-1.)*log(1-exc) - x**c + (c-1.0)*log(x)\n",
        "/Users/anita/anaconda/lib/python2.7/site-packages/scipy/stats/distributions.py:2746: DeprecationWarning: converting an array with ndim > 0 to an index will result in an error in the future\n",
        "  exc = exp(-x**c)\n",
        "/Users/anita/anaconda/lib/python2.7/site-packages/scipy/stats/distributions.py:2747: DeprecationWarning: converting an array with ndim > 0 to an index will result in an error in the future\n",
        "  return a*c*(1-exc)**asarray(a-1) * exc * x**(c-1)\n",
        "/Users/anita/anaconda/lib/python2.7/site-packages/scipy/stats/distributions.py:2747: DeprecationWarning: converting an array with ndim > 0 to an index will result in an error in the future\n",
        "  return a*c*(1-exc)**asarray(a-1) * exc * x**(c-1)\n",
        "/Users/anita/anaconda/lib/python2.7/site-packages/scipy/stats/distributions.py:2749: DeprecationWarning: converting an array with ndim > 0 to an index will result in an error in the future\n",
        "  exc = exp(-x**c)\n",
        "/Users/anita/anaconda/lib/python2.7/site-packages/scipy/stats/distributions.py:2750: DeprecationWarning: converting an array with ndim > 0 to an index will result in an error in the future\n",
        "  return log(a) + log(c) + (a-1.)*log(1-exc) - x**c + (c-1.0)*log(x)\n",
        "/Users/anita/anaconda/lib/python2.7/site-packages/scipy/stats/distributions.py:2746: DeprecationWarning: converting an array with ndim > 0 to an index will result in an error in the future\n",
        "  exc = exp(-x**c)\n",
        "/Users/anita/anaconda/lib/python2.7/site-packages/scipy/stats/distributions.py:2747: DeprecationWarning: converting an array with ndim > 0 to an index will result in an error in the future\n",
        "  return a*c*(1-exc)**asarray(a-1) * exc * x**(c-1)\n",
        "/Users/anita/anaconda/lib/python2.7/site-packages/scipy/stats/distributions.py:2747: DeprecationWarning: converting an array with ndim > 0 to an index will result in an error in the future\n",
        "  return a*c*(1-exc)**asarray(a-1) * exc * x**(c-1)\n",
        "/Users/anita/anaconda/lib/python2.7/site-packages/scipy/stats/distributions.py:2749: DeprecationWarning: converting an array with ndim > 0 to an index will result in an error in the future\n",
        "  exc = exp(-x**c)\n",
        "/Users/anita/anaconda/lib/python2.7/site-packages/scipy/stats/distributions.py:2750: DeprecationWarning: converting an array with ndim > 0 to an index will result in an error in the future\n",
        "  return log(a) + log(c) + (a-1.)*log(1-exc) - x**c + (c-1.0)*log(x)\n",
        "/Users/anita/anaconda/lib/python2.7/site-packages/scipy/stats/distributions.py:2746: DeprecationWarning: converting an array with ndim > 0 to an index will result in an error in the future\n",
        "  exc = exp(-x**c)\n",
        "/Users/anita/anaconda/lib/python2.7/site-packages/scipy/stats/distributions.py:2747: DeprecationWarning: converting an array with ndim > 0 to an index will result in an error in the future\n",
        "  return a*c*(1-exc)**asarray(a-1) * exc * x**(c-1)\n",
        "/Users/anita/anaconda/lib/python2.7/site-packages/scipy/stats/distributions.py:2747: DeprecationWarning: converting an array with ndim > 0 to an index will result in an error in the future\n",
        "  return a*c*(1-exc)**asarray(a-1) * exc * x**(c-1)\n",
        "/Users/anita/anaconda/lib/python2.7/site-packages/scipy/stats/distributions.py:2749: DeprecationWarning: converting an array with ndim > 0 to an index will result in an error in the future\n",
        "  exc = exp(-x**c)\n",
        "/Users/anita/anaconda/lib/python2.7/site-packages/scipy/stats/distributions.py:2750: DeprecationWarning: converting an array with ndim > 0 to an index will result in an error in the future\n",
        "  return log(a) + log(c) + (a-1.)*log(1-exc) - x**c + (c-1.0)*log(x)\n",
        "/Users/anita/anaconda/lib/python2.7/site-packages/scipy/stats/distributions.py:2746: DeprecationWarning: converting an array with ndim > 0 to an index will result in an error in the future\n",
        "  exc = exp(-x**c)\n",
        "/Users/anita/anaconda/lib/python2.7/site-packages/scipy/stats/distributions.py:2747: DeprecationWarning: converting an array with ndim > 0 to an index will result in an error in the future\n",
        "  return a*c*(1-exc)**asarray(a-1) * exc * x**(c-1)\n",
        "/Users/anita/anaconda/lib/python2.7/site-packages/scipy/stats/distributions.py:2747: DeprecationWarning: converting an array with ndim > 0 to an index will result in an error in the future\n",
        "  return a*c*(1-exc)**asarray(a-1) * exc * x**(c-1)\n",
        "/Users/anita/anaconda/lib/python2.7/site-packages/scipy/stats/distributions.py:2749: DeprecationWarning: converting an array with ndim > 0 to an index will result in an error in the future\n",
        "  exc = exp(-x**c)\n",
        "/Users/anita/anaconda/lib/python2.7/site-packages/scipy/stats/distributions.py:2750: DeprecationWarning: converting an array with ndim > 0 to an index will result in an error in the future\n",
        "  return log(a) + log(c) + (a-1.)*log(1-exc) - x**c + (c-1.0)*log(x)\n",
        "/Users/anita/anaconda/lib/python2.7/site-packages/scipy/stats/distributions.py:2746: DeprecationWarning: converting an array with ndim > 0 to an index will result in an error in the future\n",
        "  exc = exp(-x**c)\n",
        "/Users/anita/anaconda/lib/python2.7/site-packages/scipy/stats/distributions.py:2747: DeprecationWarning: converting an array with ndim > 0 to an index will result in an error in the future\n",
        "  return a*c*(1-exc)**asarray(a-1) * exc * x**(c-1)\n",
        "/Users/anita/anaconda/lib/python2.7/site-packages/scipy/stats/distributions.py:2747: DeprecationWarning: converting an array with ndim > 0 to an index will result in an error in the future\n",
        "  return a*c*(1-exc)**asarray(a-1) * exc * x**(c-1)\n",
        "/Users/anita/anaconda/lib/python2.7/site-packages/scipy/stats/distributions.py:2749: DeprecationWarning: converting an array with ndim > 0 to an index will result in an error in the future\n",
        "  exc = exp(-x**c)\n",
        "/Users/anita/anaconda/lib/python2.7/site-packages/scipy/stats/distributions.py:2750: DeprecationWarning: converting an array with ndim > 0 to an index will result in an error in the future\n",
        "  return log(a) + log(c) + (a-1.)*log(1-exc) - x**c + (c-1.0)*log(x)\n",
        "/Users/anita/anaconda/lib/python2.7/site-packages/scipy/stats/distributions.py:2746: DeprecationWarning: converting an array with ndim > 0 to an index will result in an error in the future\n",
        "  exc = exp(-x**c)\n",
        "/Users/anita/anaconda/lib/python2.7/site-packages/scipy/stats/distributions.py:2747: DeprecationWarning: converting an array with ndim > 0 to an index will result in an error in the future\n",
        "  return a*c*(1-exc)**asarray(a-1) * exc * x**(c-1)\n",
        "/Users/anita/anaconda/lib/python2.7/site-packages/scipy/stats/distributions.py:2747: DeprecationWarning: converting an array with ndim > 0 to an index will result in an error in the future\n",
        "  return a*c*(1-exc)**asarray(a-1) * exc * x**(c-1)\n",
        "/Users/anita/anaconda/lib/python2.7/site-packages/scipy/stats/distributions.py:2749: DeprecationWarning: converting an array with ndim > 0 to an index will result in an error in the future\n",
        "  exc = exp(-x**c)\n",
        "/Users/anita/anaconda/lib/python2.7/site-packages/scipy/stats/distributions.py:2750: DeprecationWarning: converting an array with ndim > 0 to an index will result in an error in the future\n",
        "  return log(a) + log(c) + (a-1.)*log(1-exc) - x**c + (c-1.0)*log(x)\n",
        "/Users/anita/anaconda/lib/python2.7/site-packages/scipy/stats/distributions.py:2746: DeprecationWarning: converting an array with ndim > 0 to an index will result in an error in the future\n",
        "  exc = exp(-x**c)\n",
        "/Users/anita/anaconda/lib/python2.7/site-packages/scipy/stats/distributions.py:2747: DeprecationWarning: converting an array with ndim > 0 to an index will result in an error in the future\n",
        "  return a*c*(1-exc)**asarray(a-1) * exc * x**(c-1)\n",
        "/Users/anita/anaconda/lib/python2.7/site-packages/scipy/stats/distributions.py:2747: DeprecationWarning: converting an array with ndim > 0 to an index will result in an error in the future\n",
        "  return a*c*(1-exc)**asarray(a-1) * exc * x**(c-1)\n",
        "/Users/anita/anaconda/lib/python2.7/site-packages/scipy/stats/distributions.py:2749: DeprecationWarning: converting an array with ndim > 0 to an index will result in an error in the future\n",
        "  exc = exp(-x**c)\n",
        "/Users/anita/anaconda/lib/python2.7/site-packages/scipy/stats/distributions.py:2750: DeprecationWarning: converting an array with ndim > 0 to an index will result in an error in the future\n",
        "  return log(a) + log(c) + (a-1.)*log(1-exc) - x**c + (c-1.0)*log(x)\n",
        "/Users/anita/anaconda/lib/python2.7/site-packages/scipy/stats/distributions.py:2746: DeprecationWarning: converting an array with ndim > 0 to an index will result in an error in the future\n",
        "  exc = exp(-x**c)\n",
        "/Users/anita/anaconda/lib/python2.7/site-packages/scipy/stats/distributions.py:2747: DeprecationWarning: converting an array with ndim > 0 to an index will result in an error in the future\n",
        "  return a*c*(1-exc)**asarray(a-1) * exc * x**(c-1)\n",
        "/Users/anita/anaconda/lib/python2.7/site-packages/scipy/stats/distributions.py:2747: DeprecationWarning: converting an array with ndim > 0 to an index will result in an error in the future\n",
        "  return a*c*(1-exc)**asarray(a-1) * exc * x**(c-1)\n",
        "/Users/anita/anaconda/lib/python2.7/site-packages/scipy/stats/distributions.py:2749: DeprecationWarning: converting an array with ndim > 0 to an index will result in an error in the future\n",
        "  exc = exp(-x**c)\n",
        "/Users/anita/anaconda/lib/python2.7/site-packages/scipy/stats/distributions.py:2750: DeprecationWarning: converting an array with ndim > 0 to an index will result in an error in the future\n",
        "  return log(a) + log(c) + (a-1.)*log(1-exc) - x**c + (c-1.0)*log(x)\n",
        "/Users/anita/anaconda/lib/python2.7/site-packages/scipy/stats/distributions.py:2746: DeprecationWarning: converting an array with ndim > 0 to an index will result in an error in the future\n",
        "  exc = exp(-x**c)\n",
        "/Users/anita/anaconda/lib/python2.7/site-packages/scipy/stats/distributions.py:2747: DeprecationWarning: converting an array with ndim > 0 to an index will result in an error in the future\n",
        "  return a*c*(1-exc)**asarray(a-1) * exc * x**(c-1)\n",
        "/Users/anita/anaconda/lib/python2.7/site-packages/scipy/stats/distributions.py:2747: DeprecationWarning: converting an array with ndim > 0 to an index will result in an error in the future\n",
        "  return a*c*(1-exc)**asarray(a-1) * exc * x**(c-1)\n",
        "/Users/anita/anaconda/lib/python2.7/site-packages/scipy/stats/distributions.py:2749: DeprecationWarning: converting an array with ndim > 0 to an index will result in an error in the future\n",
        "  exc = exp(-x**c)\n",
        "/Users/anita/anaconda/lib/python2.7/site-packages/scipy/stats/distributions.py:2750: DeprecationWarning: converting an array with ndim > 0 to an index will result in an error in the future\n",
        "  return log(a) + log(c) + (a-1.)*log(1-exc) - x**c + (c-1.0)*log(x)\n",
        "/Users/anita/anaconda/lib/python2.7/site-packages/scipy/stats/distributions.py:2746: DeprecationWarning: converting an array with ndim > 0 to an index will result in an error in the future\n",
        "  exc = exp(-x**c)\n",
        "/Users/anita/anaconda/lib/python2.7/site-packages/scipy/stats/distributions.py:2747: DeprecationWarning: converting an array with ndim > 0 to an index will result in an error in the future\n",
        "  return a*c*(1-exc)**asarray(a-1) * exc * x**(c-1)\n",
        "/Users/anita/anaconda/lib/python2.7/site-packages/scipy/stats/distributions.py:2747: DeprecationWarning: converting an array with ndim > 0 to an index will result in an error in the future\n",
        "  return a*c*(1-exc)**asarray(a-1) * exc * x**(c-1)\n",
        "/Users/anita/anaconda/lib/python2.7/site-packages/scipy/stats/distributions.py:2749: DeprecationWarning: converting an array with ndim > 0 to an index will result in an error in the future\n",
        "  exc = exp(-x**c)\n",
        "/Users/anita/anaconda/lib/python2.7/site-packages/scipy/stats/distributions.py:2750: DeprecationWarning: converting an array with ndim > 0 to an index will result in an error in the future\n",
        "  return log(a) + log(c) + (a-1.)*log(1-exc) - x**c + (c-1.0)*log(x)\n",
        "/Users/anita/anaconda/lib/python2.7/site-packages/scipy/stats/distributions.py:2746: DeprecationWarning: converting an array with ndim > 0 to an index will result in an error in the future\n",
        "  exc = exp(-x**c)\n",
        "/Users/anita/anaconda/lib/python2.7/site-packages/scipy/stats/distributions.py:2747: DeprecationWarning: converting an array with ndim > 0 to an index will result in an error in the future\n",
        "  return a*c*(1-exc)**asarray(a-1) * exc * x**(c-1)\n",
        "/Users/anita/anaconda/lib/python2.7/site-packages/scipy/stats/distributions.py:2747: DeprecationWarning: converting an array with ndim > 0 to an index will result in an error in the future\n",
        "  return a*c*(1-exc)**asarray(a-1) * exc * x**(c-1)\n",
        "/Users/anita/anaconda/lib/python2.7/site-packages/scipy/stats/distributions.py:2749: DeprecationWarning: converting an array with ndim > 0 to an index will result in an error in the future\n",
        "  exc = exp(-x**c)\n",
        "/Users/anita/anaconda/lib/python2.7/site-packages/scipy/stats/distributions.py:2750: DeprecationWarning: converting an array with ndim > 0 to an index will result in an error in the future\n",
        "  return log(a) + log(c) + (a-1.)*log(1-exc) - x**c + (c-1.0)*log(x)\n",
        "/Users/anita/anaconda/lib/python2.7/site-packages/scipy/stats/distributions.py:2746: DeprecationWarning: converting an array with ndim > 0 to an index will result in an error in the future\n",
        "  exc = exp(-x**c)\n",
        "/Users/anita/anaconda/lib/python2.7/site-packages/scipy/stats/distributions.py:2747: DeprecationWarning: converting an array with ndim > 0 to an index will result in an error in the future\n",
        "  return a*c*(1-exc)**asarray(a-1) * exc * x**(c-1)\n",
        "/Users/anita/anaconda/lib/python2.7/site-packages/scipy/stats/distributions.py:2747: DeprecationWarning: converting an array with ndim > 0 to an index will result in an error in the future\n",
        "  return a*c*(1-exc)**asarray(a-1) * exc * x**(c-1)\n",
        "/Users/anita/anaconda/lib/python2.7/site-packages/scipy/stats/distributions.py:2749: DeprecationWarning: converting an array with ndim > 0 to an index will result in an error in the future\n",
        "  exc = exp(-x**c)\n",
        "/Users/anita/anaconda/lib/python2.7/site-packages/scipy/stats/distributions.py:2750: DeprecationWarning: converting an array with ndim > 0 to an index will result in an error in the future\n",
        "  return log(a) + log(c) + (a-1.)*log(1-exc) - x**c + (c-1.0)*log(x)\n",
        "/Users/anita/anaconda/lib/python2.7/site-packages/scipy/stats/distributions.py:2746: DeprecationWarning: converting an array with ndim > 0 to an index will result in an error in the future\n",
        "  exc = exp(-x**c)\n",
        "/Users/anita/anaconda/lib/python2.7/site-packages/scipy/stats/distributions.py:2747: DeprecationWarning: converting an array with ndim > 0 to an index will result in an error in the future\n",
        "  return a*c*(1-exc)**asarray(a-1) * exc * x**(c-1)\n",
        "/Users/anita/anaconda/lib/python2.7/site-packages/scipy/stats/distributions.py:2747: DeprecationWarning: converting an array with ndim > 0 to an index will result in an error in the future\n",
        "  return a*c*(1-exc)**asarray(a-1) * exc * x**(c-1)\n",
        "/Users/anita/anaconda/lib/python2.7/site-packages/scipy/stats/distributions.py:2749: DeprecationWarning: converting an array with ndim > 0 to an index will result in an error in the future\n",
        "  exc = exp(-x**c)\n",
        "/Users/anita/anaconda/lib/python2.7/site-packages/scipy/stats/distributions.py:2750: DeprecationWarning: converting an array with ndim > 0 to an index will result in an error in the future\n",
        "  return log(a) + log(c) + (a-1.)*log(1-exc) - x**c + (c-1.0)*log(x)\n",
        "/Users/anita/anaconda/lib/python2.7/site-packages/scipy/stats/distributions.py:2746: DeprecationWarning: converting an array with ndim > 0 to an index will result in an error in the future\n",
        "  exc = exp(-x**c)\n",
        "/Users/anita/anaconda/lib/python2.7/site-packages/scipy/stats/distributions.py:2747: DeprecationWarning: converting an array with ndim > 0 to an index will result in an error in the future\n",
        "  return a*c*(1-exc)**asarray(a-1) * exc * x**(c-1)\n",
        "/Users/anita/anaconda/lib/python2.7/site-packages/scipy/stats/distributions.py:2747: DeprecationWarning: converting an array with ndim > 0 to an index will result in an error in the future\n",
        "  return a*c*(1-exc)**asarray(a-1) * exc * x**(c-1)\n",
        "/Users/anita/anaconda/lib/python2.7/site-packages/scipy/stats/distributions.py:2749: DeprecationWarning: converting an array with ndim > 0 to an index will result in an error in the future\n",
        "  exc = exp(-x**c)\n",
        "/Users/anita/anaconda/lib/python2.7/site-packages/scipy/stats/distributions.py:2750: DeprecationWarning: converting an array with ndim > 0 to an index will result in an error in the future\n",
        "  return log(a) + log(c) + (a-1.)*log(1-exc) - x**c + (c-1.0)*log(x)\n",
        "/Users/anita/anaconda/lib/python2.7/site-packages/scipy/stats/distributions.py:2746: DeprecationWarning: converting an array with ndim > 0 to an index will result in an error in the future\n",
        "  exc = exp(-x**c)\n",
        "/Users/anita/anaconda/lib/python2.7/site-packages/scipy/stats/distributions.py:2747: DeprecationWarning: converting an array with ndim > 0 to an index will result in an error in the future\n",
        "  return a*c*(1-exc)**asarray(a-1) * exc * x**(c-1)\n",
        "/Users/anita/anaconda/lib/python2.7/site-packages/scipy/stats/distributions.py:2747: DeprecationWarning: converting an array with ndim > 0 to an index will result in an error in the future\n",
        "  return a*c*(1-exc)**asarray(a-1) * exc * x**(c-1)\n",
        "/Users/anita/anaconda/lib/python2.7/site-packages/scipy/stats/distributions.py:2749: DeprecationWarning: converting an array with ndim > 0 to an index will result in an error in the future\n",
        "  exc = exp(-x**c)\n",
        "/Users/anita/anaconda/lib/python2.7/site-packages/scipy/stats/distributions.py:2750: DeprecationWarning: converting an array with ndim > 0 to an index will result in an error in the future\n",
        "  return log(a) + log(c) + (a-1.)*log(1-exc) - x**c + (c-1.0)*log(x)\n",
        "/Users/anita/anaconda/lib/python2.7/site-packages/scipy/stats/distributions.py:2746: DeprecationWarning: converting an array with ndim > 0 to an index will result in an error in the future\n",
        "  exc = exp(-x**c)\n",
        "/Users/anita/anaconda/lib/python2.7/site-packages/scipy/stats/distributions.py:2747: DeprecationWarning: converting an array with ndim > 0 to an index will result in an error in the future\n",
        "  return a*c*(1-exc)**asarray(a-1) * exc * x**(c-1)\n",
        "/Users/anita/anaconda/lib/python2.7/site-packages/scipy/stats/distributions.py:2747: DeprecationWarning: converting an array with ndim > 0 to an index will result in an error in the future\n",
        "  return a*c*(1-exc)**asarray(a-1) * exc * x**(c-1)\n",
        "/Users/anita/anaconda/lib/python2.7/site-packages/scipy/stats/distributions.py:2749: DeprecationWarning: converting an array with ndim > 0 to an index will result in an error in the future\n",
        "  exc = exp(-x**c)\n",
        "/Users/anita/anaconda/lib/python2.7/site-packages/scipy/stats/distributions.py:2750: DeprecationWarning: converting an array with ndim > 0 to an index will result in an error in the future\n",
        "  return log(a) + log(c) + (a-1.)*log(1-exc) - x**c + (c-1.0)*log(x)\n",
        "/Users/anita/anaconda/lib/python2.7/site-packages/scipy/stats/distributions.py:2746: DeprecationWarning: converting an array with ndim > 0 to an index will result in an error in the future\n",
        "  exc = exp(-x**c)\n",
        "/Users/anita/anaconda/lib/python2.7/site-packages/scipy/stats/distributions.py:2747: DeprecationWarning: converting an array with ndim > 0 to an index will result in an error in the future\n",
        "  return a*c*(1-exc)**asarray(a-1) * exc * x**(c-1)\n",
        "/Users/anita/anaconda/lib/python2.7/site-packages/scipy/stats/distributions.py:2747: DeprecationWarning: converting an array with ndim > 0 to an index will result in an error in the future\n",
        "  return a*c*(1-exc)**asarray(a-1) * exc * x**(c-1)\n",
        "/Users/anita/anaconda/lib/python2.7/site-packages/scipy/stats/distributions.py:2749: DeprecationWarning: converting an array with ndim > 0 to an index will result in an error in the future\n",
        "  exc = exp(-x**c)\n",
        "/Users/anita/anaconda/lib/python2.7/site-packages/scipy/stats/distributions.py:2750: DeprecationWarning: converting an array with ndim > 0 to an index will result in an error in the future\n",
        "  return log(a) + log(c) + (a-1.)*log(1-exc) - x**c + (c-1.0)*log(x)\n",
        "/Users/anita/anaconda/lib/python2.7/site-packages/scipy/stats/distributions.py:2746: DeprecationWarning: converting an array with ndim > 0 to an index will result in an error in the future\n",
        "  exc = exp(-x**c)\n",
        "/Users/anita/anaconda/lib/python2.7/site-packages/scipy/stats/distributions.py:2747: DeprecationWarning: converting an array with ndim > 0 to an index will result in an error in the future\n",
        "  return a*c*(1-exc)**asarray(a-1) * exc * x**(c-1)\n",
        "/Users/anita/anaconda/lib/python2.7/site-packages/scipy/stats/distributions.py:2747: DeprecationWarning: converting an array with ndim > 0 to an index will result in an error in the future\n",
        "  return a*c*(1-exc)**asarray(a-1) * exc * x**(c-1)\n",
        "/Users/anita/anaconda/lib/python2.7/site-packages/scipy/stats/distributions.py:2749: DeprecationWarning: converting an array with ndim > 0 to an index will result in an error in the future\n",
        "  exc = exp(-x**c)\n",
        "/Users/anita/anaconda/lib/python2.7/site-packages/scipy/stats/distributions.py:2750: DeprecationWarning: converting an array with ndim > 0 to an index will result in an error in the future\n",
        "  return log(a) + log(c) + (a-1.)*log(1-exc) - x**c + (c-1.0)*log(x)\n",
        "/Users/anita/anaconda/lib/python2.7/site-packages/scipy/stats/distributions.py:2746: DeprecationWarning: converting an array with ndim > 0 to an index will result in an error in the future\n",
        "  exc = exp(-x**c)\n",
        "/Users/anita/anaconda/lib/python2.7/site-packages/scipy/stats/distributions.py:2747: DeprecationWarning: converting an array with ndim > 0 to an index will result in an error in the future\n",
        "  return a*c*(1-exc)**asarray(a-1) * exc * x**(c-1)\n",
        "/Users/anita/anaconda/lib/python2.7/site-packages/scipy/stats/distributions.py:2747: DeprecationWarning: converting an array with ndim > 0 to an index will result in an error in the future\n",
        "  return a*c*(1-exc)**asarray(a-1) * exc * x**(c-1)\n",
        "/Users/anita/anaconda/lib/python2.7/site-packages/scipy/stats/distributions.py:2749: DeprecationWarning: converting an array with ndim > 0 to an index will result in an error in the future\n",
        "  exc = exp(-x**c)\n",
        "/Users/anita/anaconda/lib/python2.7/site-packages/scipy/stats/distributions.py:2750: DeprecationWarning: converting an array with ndim > 0 to an index will result in an error in the future\n",
        "  return log(a) + log(c) + (a-1.)*log(1-exc) - x**c + (c-1.0)*log(x)\n",
        "/Users/anita/anaconda/lib/python2.7/site-packages/scipy/stats/distributions.py:2746: DeprecationWarning: converting an array with ndim > 0 to an index will result in an error in the future\n",
        "  exc = exp(-x**c)\n",
        "/Users/anita/anaconda/lib/python2.7/site-packages/scipy/stats/distributions.py:2747: DeprecationWarning: converting an array with ndim > 0 to an index will result in an error in the future\n",
        "  return a*c*(1-exc)**asarray(a-1) * exc * x**(c-1)\n",
        "/Users/anita/anaconda/lib/python2.7/site-packages/scipy/stats/distributions.py:2747: DeprecationWarning: converting an array with ndim > 0 to an index will result in an error in the future\n",
        "  return a*c*(1-exc)**asarray(a-1) * exc * x**(c-1)\n",
        "/Users/anita/anaconda/lib/python2.7/site-packages/scipy/stats/distributions.py:2749: DeprecationWarning: converting an array with ndim > 0 to an index will result in an error in the future\n",
        "  exc = exp(-x**c)\n",
        "/Users/anita/anaconda/lib/python2.7/site-packages/scipy/stats/distributions.py:2750: DeprecationWarning: converting an array with ndim > 0 to an index will result in an error in the future\n",
        "  return log(a) + log(c) + (a-1.)*log(1-exc) - x**c + (c-1.0)*log(x)\n",
        "/Users/anita/anaconda/lib/python2.7/site-packages/scipy/stats/distributions.py:2746: DeprecationWarning: converting an array with ndim > 0 to an index will result in an error in the future\n",
        "  exc = exp(-x**c)\n",
        "/Users/anita/anaconda/lib/python2.7/site-packages/scipy/stats/distributions.py:2747: DeprecationWarning: converting an array with ndim > 0 to an index will result in an error in the future\n",
        "  return a*c*(1-exc)**asarray(a-1) * exc * x**(c-1)\n",
        "/Users/anita/anaconda/lib/python2.7/site-packages/scipy/stats/distributions.py:2747: DeprecationWarning: converting an array with ndim > 0 to an index will result in an error in the future\n",
        "  return a*c*(1-exc)**asarray(a-1) * exc * x**(c-1)\n",
        "/Users/anita/anaconda/lib/python2.7/site-packages/scipy/stats/distributions.py:2749: DeprecationWarning: converting an array with ndim > 0 to an index will result in an error in the future\n",
        "  exc = exp(-x**c)\n",
        "/Users/anita/anaconda/lib/python2.7/site-packages/scipy/stats/distributions.py:2750: DeprecationWarning: converting an array with ndim > 0 to an index will result in an error in the future\n",
        "  return log(a) + log(c) + (a-1.)*log(1-exc) - x**c + (c-1.0)*log(x)\n",
        "/Users/anita/anaconda/lib/python2.7/site-packages/scipy/stats/distributions.py:2746: DeprecationWarning: converting an array with ndim > 0 to an index will result in an error in the future\n",
        "  exc = exp(-x**c)\n",
        "/Users/anita/anaconda/lib/python2.7/site-packages/scipy/stats/distributions.py:2747: DeprecationWarning: converting an array with ndim > 0 to an index will result in an error in the future\n",
        "  return a*c*(1-exc)**asarray(a-1) * exc * x**(c-1)\n",
        "/Users/anita/anaconda/lib/python2.7/site-packages/scipy/stats/distributions.py:2747: DeprecationWarning: converting an array with ndim > 0 to an index will result in an error in the future\n",
        "  return a*c*(1-exc)**asarray(a-1) * exc * x**(c-1)\n",
        "/Users/anita/anaconda/lib/python2.7/site-packages/scipy/stats/distributions.py:2749: DeprecationWarning: converting an array with ndim > 0 to an index will result in an error in the future\n",
        "  exc = exp(-x**c)\n",
        "/Users/anita/anaconda/lib/python2.7/site-packages/scipy/stats/distributions.py:2750: DeprecationWarning: converting an array with ndim > 0 to an index will result in an error in the future\n",
        "  return log(a) + log(c) + (a-1.)*log(1-exc) - x**c + (c-1.0)*log(x)\n",
        "/Users/anita/anaconda/lib/python2.7/site-packages/scipy/stats/distributions.py:2746: DeprecationWarning: converting an array with ndim > 0 to an index will result in an error in the future\n",
        "  exc = exp(-x**c)\n",
        "/Users/anita/anaconda/lib/python2.7/site-packages/scipy/stats/distributions.py:2747: DeprecationWarning: converting an array with ndim > 0 to an index will result in an error in the future\n",
        "  return a*c*(1-exc)**asarray(a-1) * exc * x**(c-1)\n",
        "/Users/anita/anaconda/lib/python2.7/site-packages/scipy/stats/distributions.py:2747: DeprecationWarning: converting an array with ndim > 0 to an index will result in an error in the future\n",
        "  return a*c*(1-exc)**asarray(a-1) * exc * x**(c-1)\n",
        "/Users/anita/anaconda/lib/python2.7/site-packages/scipy/stats/distributions.py:2749: DeprecationWarning: converting an array with ndim > 0 to an index will result in an error in the future\n",
        "  exc = exp(-x**c)\n",
        "/Users/anita/anaconda/lib/python2.7/site-packages/scipy/stats/distributions.py:2750: DeprecationWarning: converting an array with ndim > 0 to an index will result in an error in the future\n",
        "  return log(a) + log(c) + (a-1.)*log(1-exc) - x**c + (c-1.0)*log(x)\n",
        "/Users/anita/anaconda/lib/python2.7/site-packages/scipy/stats/distributions.py:2746: DeprecationWarning: converting an array with ndim > 0 to an index will result in an error in the future\n",
        "  exc = exp(-x**c)\n",
        "/Users/anita/anaconda/lib/python2.7/site-packages/scipy/stats/distributions.py:2747: DeprecationWarning: converting an array with ndim > 0 to an index will result in an error in the future\n",
        "  return a*c*(1-exc)**asarray(a-1) * exc * x**(c-1)\n",
        "/Users/anita/anaconda/lib/python2.7/site-packages/scipy/stats/distributions.py:2747: DeprecationWarning: converting an array with ndim > 0 to an index will result in an error in the future\n",
        "  return a*c*(1-exc)**asarray(a-1) * exc * x**(c-1)\n",
        "/Users/anita/anaconda/lib/python2.7/site-packages/scipy/stats/distributions.py:2749: DeprecationWarning: converting an array with ndim > 0 to an index will result in an error in the future\n",
        "  exc = exp(-x**c)\n",
        "/Users/anita/anaconda/lib/python2.7/site-packages/scipy/stats/distributions.py:2750: DeprecationWarning: converting an array with ndim > 0 to an index will result in an error in the future\n",
        "  return log(a) + log(c) + (a-1.)*log(1-exc) - x**c + (c-1.0)*log(x)\n",
        "/Users/anita/anaconda/lib/python2.7/site-packages/scipy/stats/distributions.py:2746: DeprecationWarning: converting an array with ndim > 0 to an index will result in an error in the future\n",
        "  exc = exp(-x**c)\n",
        "/Users/anita/anaconda/lib/python2.7/site-packages/scipy/stats/distributions.py:2747: DeprecationWarning: converting an array with ndim > 0 to an index will result in an error in the future\n",
        "  return a*c*(1-exc)**asarray(a-1) * exc * x**(c-1)\n",
        "/Users/anita/anaconda/lib/python2.7/site-packages/scipy/stats/distributions.py:2747: DeprecationWarning: converting an array with ndim > 0 to an index will result in an error in the future\n",
        "  return a*c*(1-exc)**asarray(a-1) * exc * x**(c-1)\n",
        "/Users/anita/anaconda/lib/python2.7/site-packages/scipy/stats/distributions.py:2749: DeprecationWarning: converting an array with ndim > 0 to an index will result in an error in the future\n",
        "  exc = exp(-x**c)\n",
        "/Users/anita/anaconda/lib/python2.7/site-packages/scipy/stats/distributions.py:2750: DeprecationWarning: converting an array with ndim > 0 to an index will result in an error in the future\n",
        "  return log(a) + log(c) + (a-1.)*log(1-exc) - x**c + (c-1.0)*log(x)\n",
        "/Users/anita/anaconda/lib/python2.7/site-packages/scipy/stats/distributions.py:2746: DeprecationWarning: converting an array with ndim > 0 to an index will result in an error in the future\n",
        "  exc = exp(-x**c)\n",
        "/Users/anita/anaconda/lib/python2.7/site-packages/scipy/stats/distributions.py:2747: DeprecationWarning: converting an array with ndim > 0 to an index will result in an error in the future\n",
        "  return a*c*(1-exc)**asarray(a-1) * exc * x**(c-1)\n",
        "/Users/anita/anaconda/lib/python2.7/site-packages/scipy/stats/distributions.py:2747: DeprecationWarning: converting an array with ndim > 0 to an index will result in an error in the future\n",
        "  return a*c*(1-exc)**asarray(a-1) * exc * x**(c-1)\n",
        "/Users/anita/anaconda/lib/python2.7/site-packages/scipy/stats/distributions.py:2749: DeprecationWarning: converting an array with ndim > 0 to an index will result in an error in the future\n",
        "  exc = exp(-x**c)\n",
        "/Users/anita/anaconda/lib/python2.7/site-packages/scipy/stats/distributions.py:2750: DeprecationWarning: converting an array with ndim > 0 to an index will result in an error in the future\n",
        "  return log(a) + log(c) + (a-1.)*log(1-exc) - x**c + (c-1.0)*log(x)\n",
        "/Users/anita/anaconda/lib/python2.7/site-packages/scipy/stats/distributions.py:2746: DeprecationWarning: converting an array with ndim > 0 to an index will result in an error in the future\n",
        "  exc = exp(-x**c)\n",
        "/Users/anita/anaconda/lib/python2.7/site-packages/scipy/stats/distributions.py:2747: DeprecationWarning: converting an array with ndim > 0 to an index will result in an error in the future\n",
        "  return a*c*(1-exc)**asarray(a-1) * exc * x**(c-1)\n",
        "/Users/anita/anaconda/lib/python2.7/site-packages/scipy/stats/distributions.py:2747: DeprecationWarning: converting an array with ndim > 0 to an index will result in an error in the future\n",
        "  return a*c*(1-exc)**asarray(a-1) * exc * x**(c-1)\n",
        "/Users/anita/anaconda/lib/python2.7/site-packages/scipy/stats/distributions.py:2749: DeprecationWarning: converting an array with ndim > 0 to an index will result in an error in the future\n",
        "  exc = exp(-x**c)\n",
        "/Users/anita/anaconda/lib/python2.7/site-packages/scipy/stats/distributions.py:2750: DeprecationWarning: converting an array with ndim > 0 to an index will result in an error in the future\n",
        "  return log(a) + log(c) + (a-1.)*log(1-exc) - x**c + (c-1.0)*log(x)\n",
        "/Users/anita/anaconda/lib/python2.7/site-packages/scipy/stats/distributions.py:2746: DeprecationWarning: converting an array with ndim > 0 to an index will result in an error in the future\n",
        "  exc = exp(-x**c)\n",
        "/Users/anita/anaconda/lib/python2.7/site-packages/scipy/stats/distributions.py:2747: DeprecationWarning: converting an array with ndim > 0 to an index will result in an error in the future\n",
        "  return a*c*(1-exc)**asarray(a-1) * exc * x**(c-1)\n",
        "/Users/anita/anaconda/lib/python2.7/site-packages/scipy/stats/distributions.py:2747: DeprecationWarning: converting an array with ndim > 0 to an index will result in an error in the future\n",
        "  return a*c*(1-exc)**asarray(a-1) * exc * x**(c-1)\n",
        "/Users/anita/anaconda/lib/python2.7/site-packages/scipy/stats/distributions.py:2749: DeprecationWarning: converting an array with ndim > 0 to an index will result in an error in the future\n",
        "  exc = exp(-x**c)\n",
        "/Users/anita/anaconda/lib/python2.7/site-packages/scipy/stats/distributions.py:2750: DeprecationWarning: converting an array with ndim > 0 to an index will result in an error in the future\n",
        "  return log(a) + log(c) + (a-1.)*log(1-exc) - x**c + (c-1.0)*log(x)\n",
        "/Users/anita/anaconda/lib/python2.7/site-packages/scipy/stats/distributions.py:2746: DeprecationWarning: converting an array with ndim > 0 to an index will result in an error in the future\n",
        "  exc = exp(-x**c)\n",
        "/Users/anita/anaconda/lib/python2.7/site-packages/scipy/stats/distributions.py:2747: DeprecationWarning: converting an array with ndim > 0 to an index will result in an error in the future\n",
        "  return a*c*(1-exc)**asarray(a-1) * exc * x**(c-1)\n",
        "/Users/anita/anaconda/lib/python2.7/site-packages/scipy/stats/distributions.py:2747: DeprecationWarning: converting an array with ndim > 0 to an index will result in an error in the future\n",
        "  return a*c*(1-exc)**asarray(a-1) * exc * x**(c-1)\n",
        "/Users/anita/anaconda/lib/python2.7/site-packages/scipy/stats/distributions.py:2749: DeprecationWarning: converting an array with ndim > 0 to an index will result in an error in the future\n",
        "  exc = exp(-x**c)\n",
        "/Users/anita/anaconda/lib/python2.7/site-packages/scipy/stats/distributions.py:2750: DeprecationWarning: converting an array with ndim > 0 to an index will result in an error in the future\n",
        "  return log(a) + log(c) + (a-1.)*log(1-exc) - x**c + (c-1.0)*log(x)\n",
        "/Users/anita/anaconda/lib/python2.7/site-packages/scipy/stats/distributions.py:2746: DeprecationWarning: converting an array with ndim > 0 to an index will result in an error in the future\n",
        "  exc = exp(-x**c)\n",
        "/Users/anita/anaconda/lib/python2.7/site-packages/scipy/stats/distributions.py:2747: DeprecationWarning: converting an array with ndim > 0 to an index will result in an error in the future\n",
        "  return a*c*(1-exc)**asarray(a-1) * exc * x**(c-1)\n",
        "/Users/anita/anaconda/lib/python2.7/site-packages/scipy/stats/distributions.py:2747: DeprecationWarning: converting an array with ndim > 0 to an index will result in an error in the future\n",
        "  return a*c*(1-exc)**asarray(a-1) * exc * x**(c-1)\n",
        "/Users/anita/anaconda/lib/python2.7/site-packages/scipy/stats/distributions.py:2749: DeprecationWarning: converting an array with ndim > 0 to an index will result in an error in the future\n",
        "  exc = exp(-x**c)\n",
        "/Users/anita/anaconda/lib/python2.7/site-packages/scipy/stats/distributions.py:2750: DeprecationWarning: converting an array with ndim > 0 to an index will result in an error in the future\n",
        "  return log(a) + log(c) + (a-1.)*log(1-exc) - x**c + (c-1.0)*log(x)\n",
        "/Users/anita/anaconda/lib/python2.7/site-packages/scipy/stats/distributions.py:2746: DeprecationWarning: converting an array with ndim > 0 to an index will result in an error in the future\n",
        "  exc = exp(-x**c)\n",
        "/Users/anita/anaconda/lib/python2.7/site-packages/scipy/stats/distributions.py:2747: DeprecationWarning: converting an array with ndim > 0 to an index will result in an error in the future\n",
        "  return a*c*(1-exc)**asarray(a-1) * exc * x**(c-1)\n",
        "/Users/anita/anaconda/lib/python2.7/site-packages/scipy/stats/distributions.py:2747: DeprecationWarning: converting an array with ndim > 0 to an index will result in an error in the future\n",
        "  return a*c*(1-exc)**asarray(a-1) * exc * x**(c-1)\n",
        "/Users/anita/anaconda/lib/python2.7/site-packages/scipy/stats/distributions.py:2749: DeprecationWarning: converting an array with ndim > 0 to an index will result in an error in the future\n",
        "  exc = exp(-x**c)\n",
        "/Users/anita/anaconda/lib/python2.7/site-packages/scipy/stats/distributions.py:2750: DeprecationWarning: converting an array with ndim > 0 to an index will result in an error in the future\n",
        "  return log(a) + log(c) + (a-1.)*log(1-exc) - x**c + (c-1.0)*log(x)\n",
        "/Users/anita/anaconda/lib/python2.7/site-packages/scipy/stats/distributions.py:2746: DeprecationWarning: converting an array with ndim > 0 to an index will result in an error in the future\n",
        "  exc = exp(-x**c)\n",
        "/Users/anita/anaconda/lib/python2.7/site-packages/scipy/stats/distributions.py:2747: DeprecationWarning: converting an array with ndim > 0 to an index will result in an error in the future\n",
        "  return a*c*(1-exc)**asarray(a-1) * exc * x**(c-1)\n",
        "/Users/anita/anaconda/lib/python2.7/site-packages/scipy/stats/distributions.py:2747: DeprecationWarning: converting an array with ndim > 0 to an index will result in an error in the future\n",
        "  return a*c*(1-exc)**asarray(a-1) * exc * x**(c-1)\n",
        "/Users/anita/anaconda/lib/python2.7/site-packages/scipy/stats/distributions.py:2749: DeprecationWarning: converting an array with ndim > 0 to an index will result in an error in the future\n",
        "  exc = exp(-x**c)\n",
        "/Users/anita/anaconda/lib/python2.7/site-packages/scipy/stats/distributions.py:2750: DeprecationWarning: converting an array with ndim > 0 to an index will result in an error in the future\n",
        "  return log(a) + log(c) + (a-1.)*log(1-exc) - x**c + (c-1.0)*log(x)\n",
        "/Users/anita/anaconda/lib/python2.7/site-packages/scipy/stats/distributions.py:2746: DeprecationWarning: converting an array with ndim > 0 to an index will result in an error in the future\n",
        "  exc = exp(-x**c)\n",
        "/Users/anita/anaconda/lib/python2.7/site-packages/scipy/stats/distributions.py:2747: DeprecationWarning: converting an array with ndim > 0 to an index will result in an error in the future\n",
        "  return a*c*(1-exc)**asarray(a-1) * exc * x**(c-1)\n",
        "/Users/anita/anaconda/lib/python2.7/site-packages/scipy/stats/distributions.py:2747: DeprecationWarning: converting an array with ndim > 0 to an index will result in an error in the future\n",
        "  return a*c*(1-exc)**asarray(a-1) * exc * x**(c-1)\n",
        "/Users/anita/anaconda/lib/python2.7/site-packages/scipy/stats/distributions.py:2749: DeprecationWarning: converting an array with ndim > 0 to an index will result in an error in the future\n",
        "  exc = exp(-x**c)\n",
        "/Users/anita/anaconda/lib/python2.7/site-packages/scipy/stats/distributions.py:2750: DeprecationWarning: converting an array with ndim > 0 to an index will result in an error in the future\n",
        "  return log(a) + log(c) + (a-1.)*log(1-exc) - x**c + (c-1.0)*log(x)\n",
        "/Users/anita/anaconda/lib/python2.7/site-packages/scipy/stats/distributions.py:2746: DeprecationWarning: converting an array with ndim > 0 to an index will result in an error in the future\n",
        "  exc = exp(-x**c)\n",
        "/Users/anita/anaconda/lib/python2.7/site-packages/scipy/stats/distributions.py:2747: DeprecationWarning: converting an array with ndim > 0 to an index will result in an error in the future\n",
        "  return a*c*(1-exc)**asarray(a-1) * exc * x**(c-1)\n",
        "/Users/anita/anaconda/lib/python2.7/site-packages/scipy/stats/distributions.py:2747: DeprecationWarning: converting an array with ndim > 0 to an index will result in an error in the future\n",
        "  return a*c*(1-exc)**asarray(a-1) * exc * x**(c-1)\n",
        "/Users/anita/anaconda/lib/python2.7/site-packages/scipy/stats/distributions.py:2749: DeprecationWarning: converting an array with ndim > 0 to an index will result in an error in the future\n",
        "  exc = exp(-x**c)\n",
        "/Users/anita/anaconda/lib/python2.7/site-packages/scipy/stats/distributions.py:2750: DeprecationWarning: converting an array with ndim > 0 to an index will result in an error in the future\n",
        "  return log(a) + log(c) + (a-1.)*log(1-exc) - x**c + (c-1.0)*log(x)\n",
        "/Users/anita/anaconda/lib/python2.7/site-packages/scipy/stats/distributions.py:2746: DeprecationWarning: converting an array with ndim > 0 to an index will result in an error in the future\n",
        "  exc = exp(-x**c)\n",
        "/Users/anita/anaconda/lib/python2.7/site-packages/scipy/stats/distributions.py:2747: DeprecationWarning: converting an array with ndim > 0 to an index will result in an error in the future\n",
        "  return a*c*(1-exc)**asarray(a-1) * exc * x**(c-1)\n",
        "/Users/anita/anaconda/lib/python2.7/site-packages/scipy/stats/distributions.py:2747: DeprecationWarning: converting an array with ndim > 0 to an index will result in an error in the future\n",
        "  return a*c*(1-exc)**asarray(a-1) * exc * x**(c-1)\n",
        "/Users/anita/anaconda/lib/python2.7/site-packages/scipy/stats/distributions.py:2749: DeprecationWarning: converting an array with ndim > 0 to an index will result in an error in the future\n",
        "  exc = exp(-x**c)\n",
        "/Users/anita/anaconda/lib/python2.7/site-packages/scipy/stats/distributions.py:2750: DeprecationWarning: converting an array with ndim > 0 to an index will result in an error in the future\n",
        "  return log(a) + log(c) + (a-1.)*log(1-exc) - x**c + (c-1.0)*log(x)\n",
        "/Users/anita/anaconda/lib/python2.7/site-packages/scipy/stats/distributions.py:2746: DeprecationWarning: converting an array with ndim > 0 to an index will result in an error in the future\n",
        "  exc = exp(-x**c)\n",
        "/Users/anita/anaconda/lib/python2.7/site-packages/scipy/stats/distributions.py:2747: DeprecationWarning: converting an array with ndim > 0 to an index will result in an error in the future\n",
        "  return a*c*(1-exc)**asarray(a-1) * exc * x**(c-1)\n",
        "/Users/anita/anaconda/lib/python2.7/site-packages/scipy/stats/distributions.py:2747: DeprecationWarning: converting an array with ndim > 0 to an index will result in an error in the future\n",
        "  return a*c*(1-exc)**asarray(a-1) * exc * x**(c-1)\n",
        "/Users/anita/anaconda/lib/python2.7/site-packages/scipy/stats/distributions.py:2749: DeprecationWarning: converting an array with ndim > 0 to an index will result in an error in the future\n",
        "  exc = exp(-x**c)\n",
        "/Users/anita/anaconda/lib/python2.7/site-packages/scipy/stats/distributions.py:2750: DeprecationWarning: converting an array with ndim > 0 to an index will result in an error in the future\n",
        "  return log(a) + log(c) + (a-1.)*log(1-exc) - x**c + (c-1.0)*log(x)\n",
        "/Users/anita/anaconda/lib/python2.7/site-packages/scipy/stats/distributions.py:2746: DeprecationWarning: converting an array with ndim > 0 to an index will result in an error in the future\n",
        "  exc = exp(-x**c)\n",
        "/Users/anita/anaconda/lib/python2.7/site-packages/scipy/stats/distributions.py:2747: DeprecationWarning: converting an array with ndim > 0 to an index will result in an error in the future\n",
        "  return a*c*(1-exc)**asarray(a-1) * exc * x**(c-1)\n",
        "/Users/anita/anaconda/lib/python2.7/site-packages/scipy/stats/distributions.py:2747: DeprecationWarning: converting an array with ndim > 0 to an index will result in an error in the future\n",
        "  return a*c*(1-exc)**asarray(a-1) * exc * x**(c-1)\n",
        "/Users/anita/anaconda/lib/python2.7/site-packages/scipy/stats/distributions.py:2749: DeprecationWarning: converting an array with ndim > 0 to an index will result in an error in the future\n",
        "  exc = exp(-x**c)\n",
        "/Users/anita/anaconda/lib/python2.7/site-packages/scipy/stats/distributions.py:2750: DeprecationWarning: converting an array with ndim > 0 to an index will result in an error in the future\n",
        "  return log(a) + log(c) + (a-1.)*log(1-exc) - x**c + (c-1.0)*log(x)\n",
        "/Users/anita/anaconda/lib/python2.7/site-packages/scipy/stats/distributions.py:2746: DeprecationWarning: converting an array with ndim > 0 to an index will result in an error in the future\n",
        "  exc = exp(-x**c)\n",
        "/Users/anita/anaconda/lib/python2.7/site-packages/scipy/stats/distributions.py:2747: DeprecationWarning: converting an array with ndim > 0 to an index will result in an error in the future\n",
        "  return a*c*(1-exc)**asarray(a-1) * exc * x**(c-1)\n",
        "/Users/anita/anaconda/lib/python2.7/site-packages/scipy/stats/distributions.py:2747: DeprecationWarning: converting an array with ndim > 0 to an index will result in an error in the future\n",
        "  return a*c*(1-exc)**asarray(a-1) * exc * x**(c-1)\n",
        "/Users/anita/anaconda/lib/python2.7/site-packages/scipy/stats/distributions.py:2749: DeprecationWarning: converting an array with ndim > 0 to an index will result in an error in the future\n",
        "  exc = exp(-x**c)\n",
        "/Users/anita/anaconda/lib/python2.7/site-packages/scipy/stats/distributions.py:2750: DeprecationWarning: converting an array with ndim > 0 to an index will result in an error in the future\n",
        "  return log(a) + log(c) + (a-1.)*log(1-exc) - x**c + (c-1.0)*log(x)\n",
        "/Users/anita/anaconda/lib/python2.7/site-packages/scipy/stats/distributions.py:2746: DeprecationWarning: converting an array with ndim > 0 to an index will result in an error in the future\n",
        "  exc = exp(-x**c)\n",
        "/Users/anita/anaconda/lib/python2.7/site-packages/scipy/stats/distributions.py:2747: DeprecationWarning: converting an array with ndim > 0 to an index will result in an error in the future\n",
        "  return a*c*(1-exc)**asarray(a-1) * exc * x**(c-1)\n",
        "/Users/anita/anaconda/lib/python2.7/site-packages/scipy/stats/distributions.py:2747: DeprecationWarning: converting an array with ndim > 0 to an index will result in an error in the future\n",
        "  return a*c*(1-exc)**asarray(a-1) * exc * x**(c-1)\n",
        "/Users/anita/anaconda/lib/python2.7/site-packages/scipy/stats/distributions.py:2749: DeprecationWarning: converting an array with ndim > 0 to an index will result in an error in the future\n",
        "  exc = exp(-x**c)\n",
        "/Users/anita/anaconda/lib/python2.7/site-packages/scipy/stats/distributions.py:2750: DeprecationWarning: converting an array with ndim > 0 to an index will result in an error in the future\n",
        "  return log(a) + log(c) + (a-1.)*log(1-exc) - x**c + (c-1.0)*log(x)\n",
        "/Users/anita/anaconda/lib/python2.7/site-packages/scipy/stats/distributions.py:2746: DeprecationWarning: converting an array with ndim > 0 to an index will result in an error in the future\n",
        "  exc = exp(-x**c)\n",
        "/Users/anita/anaconda/lib/python2.7/site-packages/scipy/stats/distributions.py:2747: DeprecationWarning: converting an array with ndim > 0 to an index will result in an error in the future\n",
        "  return a*c*(1-exc)**asarray(a-1) * exc * x**(c-1)\n",
        "/Users/anita/anaconda/lib/python2.7/site-packages/scipy/stats/distributions.py:2747: DeprecationWarning: converting an array with ndim > 0 to an index will result in an error in the future\n",
        "  return a*c*(1-exc)**asarray(a-1) * exc * x**(c-1)\n",
        "/Users/anita/anaconda/lib/python2.7/site-packages/scipy/stats/distributions.py:2749: DeprecationWarning: converting an array with ndim > 0 to an index will result in an error in the future\n",
        "  exc = exp(-x**c)\n",
        "/Users/anita/anaconda/lib/python2.7/site-packages/scipy/stats/distributions.py:2750: DeprecationWarning: converting an array with ndim > 0 to an index will result in an error in the future\n",
        "  return log(a) + log(c) + (a-1.)*log(1-exc) - x**c + (c-1.0)*log(x)\n",
        "/Users/anita/anaconda/lib/python2.7/site-packages/scipy/stats/distributions.py:2746: DeprecationWarning: converting an array with ndim > 0 to an index will result in an error in the future\n",
        "  exc = exp(-x**c)\n",
        "/Users/anita/anaconda/lib/python2.7/site-packages/scipy/stats/distributions.py:2747: DeprecationWarning: converting an array with ndim > 0 to an index will result in an error in the future\n",
        "  return a*c*(1-exc)**asarray(a-1) * exc * x**(c-1)\n",
        "/Users/anita/anaconda/lib/python2.7/site-packages/scipy/stats/distributions.py:2747: DeprecationWarning: converting an array with ndim > 0 to an index will result in an error in the future\n",
        "  return a*c*(1-exc)**asarray(a-1) * exc * x**(c-1)\n",
        "/Users/anita/anaconda/lib/python2.7/site-packages/scipy/stats/distributions.py:2749: DeprecationWarning: converting an array with ndim > 0 to an index will result in an error in the future\n",
        "  exc = exp(-x**c)\n",
        "/Users/anita/anaconda/lib/python2.7/site-packages/scipy/stats/distributions.py:2750: DeprecationWarning: converting an array with ndim > 0 to an index will result in an error in the future\n",
        "  return log(a) + log(c) + (a-1.)*log(1-exc) - x**c + (c-1.0)*log(x)\n",
        "/Users/anita/anaconda/lib/python2.7/site-packages/scipy/stats/distributions.py:2746: DeprecationWarning: converting an array with ndim > 0 to an index will result in an error in the future\n",
        "  exc = exp(-x**c)\n",
        "/Users/anita/anaconda/lib/python2.7/site-packages/scipy/stats/distributions.py:2747: DeprecationWarning: converting an array with ndim > 0 to an index will result in an error in the future\n",
        "  return a*c*(1-exc)**asarray(a-1) * exc * x**(c-1)\n",
        "/Users/anita/anaconda/lib/python2.7/site-packages/scipy/stats/distributions.py:2747: DeprecationWarning: converting an array with ndim > 0 to an index will result in an error in the future\n",
        "  return a*c*(1-exc)**asarray(a-1) * exc * x**(c-1)\n",
        "/Users/anita/anaconda/lib/python2.7/site-packages/scipy/stats/distributions.py:2749: DeprecationWarning: converting an array with ndim > 0 to an index will result in an error in the future\n",
        "  exc = exp(-x**c)\n",
        "/Users/anita/anaconda/lib/python2.7/site-packages/scipy/stats/distributions.py:2750: DeprecationWarning: converting an array with ndim > 0 to an index will result in an error in the future\n",
        "  return log(a) + log(c) + (a-1.)*log(1-exc) - x**c + (c-1.0)*log(x)\n",
        "/Users/anita/anaconda/lib/python2.7/site-packages/scipy/stats/distributions.py:2746: DeprecationWarning: converting an array with ndim > 0 to an index will result in an error in the future\n",
        "  exc = exp(-x**c)\n",
        "/Users/anita/anaconda/lib/python2.7/site-packages/scipy/stats/distributions.py:2747: DeprecationWarning: converting an array with ndim > 0 to an index will result in an error in the future\n",
        "  return a*c*(1-exc)**asarray(a-1) * exc * x**(c-1)\n",
        "/Users/anita/anaconda/lib/python2.7/site-packages/scipy/stats/distributions.py:2747: DeprecationWarning: converting an array with ndim > 0 to an index will result in an error in the future\n",
        "  return a*c*(1-exc)**asarray(a-1) * exc * x**(c-1)\n",
        "/Users/anita/anaconda/lib/python2.7/site-packages/scipy/stats/distributions.py:2749: DeprecationWarning: converting an array with ndim > 0 to an index will result in an error in the future\n",
        "  exc = exp(-x**c)\n",
        "/Users/anita/anaconda/lib/python2.7/site-packages/scipy/stats/distributions.py:2750: DeprecationWarning: converting an array with ndim > 0 to an index will result in an error in the future\n",
        "  return log(a) + log(c) + (a-1.)*log(1-exc) - x**c + (c-1.0)*log(x)\n",
        "/Users/anita/anaconda/lib/python2.7/site-packages/scipy/stats/distributions.py:2746: DeprecationWarning: converting an array with ndim > 0 to an index will result in an error in the future\n",
        "  exc = exp(-x**c)\n",
        "/Users/anita/anaconda/lib/python2.7/site-packages/scipy/stats/distributions.py:2747: DeprecationWarning: converting an array with ndim > 0 to an index will result in an error in the future\n",
        "  return a*c*(1-exc)**asarray(a-1) * exc * x**(c-1)\n",
        "/Users/anita/anaconda/lib/python2.7/site-packages/scipy/stats/distributions.py:2747: DeprecationWarning: converting an array with ndim > 0 to an index will result in an error in the future\n",
        "  return a*c*(1-exc)**asarray(a-1) * exc * x**(c-1)\n",
        "/Users/anita/anaconda/lib/python2.7/site-packages/scipy/stats/distributions.py:2749: DeprecationWarning: converting an array with ndim > 0 to an index will result in an error in the future\n",
        "  exc = exp(-x**c)\n",
        "/Users/anita/anaconda/lib/python2.7/site-packages/scipy/stats/distributions.py:2750: DeprecationWarning: converting an array with ndim > 0 to an index will result in an error in the future\n",
        "  return log(a) + log(c) + (a-1.)*log(1-exc) - x**c + (c-1.0)*log(x)\n",
        "/Users/anita/anaconda/lib/python2.7/site-packages/scipy/stats/distributions.py:2746: DeprecationWarning: converting an array with ndim > 0 to an index will result in an error in the future\n",
        "  exc = exp(-x**c)\n",
        "/Users/anita/anaconda/lib/python2.7/site-packages/scipy/stats/distributions.py:2747: DeprecationWarning: converting an array with ndim > 0 to an index will result in an error in the future\n",
        "  return a*c*(1-exc)**asarray(a-1) * exc * x**(c-1)\n",
        "/Users/anita/anaconda/lib/python2.7/site-packages/scipy/stats/distributions.py:2747: DeprecationWarning: converting an array with ndim > 0 to an index will result in an error in the future\n",
        "  return a*c*(1-exc)**asarray(a-1) * exc * x**(c-1)\n",
        "/Users/anita/anaconda/lib/python2.7/site-packages/scipy/stats/distributions.py:2749: DeprecationWarning: converting an array with ndim > 0 to an index will result in an error in the future\n",
        "  exc = exp(-x**c)\n",
        "/Users/anita/anaconda/lib/python2.7/site-packages/scipy/stats/distributions.py:2750: DeprecationWarning: converting an array with ndim > 0 to an index will result in an error in the future\n",
        "  return log(a) + log(c) + (a-1.)*log(1-exc) - x**c + (c-1.0)*log(x)\n",
        "/Users/anita/anaconda/lib/python2.7/site-packages/scipy/stats/distributions.py:2746: DeprecationWarning: converting an array with ndim > 0 to an index will result in an error in the future\n",
        "  exc = exp(-x**c)\n",
        "/Users/anita/anaconda/lib/python2.7/site-packages/scipy/stats/distributions.py:2747: DeprecationWarning: converting an array with ndim > 0 to an index will result in an error in the future\n",
        "  return a*c*(1-exc)**asarray(a-1) * exc * x**(c-1)\n",
        "/Users/anita/anaconda/lib/python2.7/site-packages/scipy/stats/distributions.py:2747: DeprecationWarning: converting an array with ndim > 0 to an index will result in an error in the future\n",
        "  return a*c*(1-exc)**asarray(a-1) * exc * x**(c-1)\n",
        "/Users/anita/anaconda/lib/python2.7/site-packages/scipy/stats/distributions.py:2749: DeprecationWarning: converting an array with ndim > 0 to an index will result in an error in the future\n",
        "  exc = exp(-x**c)\n",
        "/Users/anita/anaconda/lib/python2.7/site-packages/scipy/stats/distributions.py:2750: DeprecationWarning: converting an array with ndim > 0 to an index will result in an error in the future\n",
        "  return log(a) + log(c) + (a-1.)*log(1-exc) - x**c + (c-1.0)*log(x)\n",
        "/Users/anita/anaconda/lib/python2.7/site-packages/scipy/stats/distributions.py:2746: DeprecationWarning: converting an array with ndim > 0 to an index will result in an error in the future\n",
        "  exc = exp(-x**c)\n",
        "/Users/anita/anaconda/lib/python2.7/site-packages/scipy/stats/distributions.py:2747: DeprecationWarning: converting an array with ndim > 0 to an index will result in an error in the future\n",
        "  return a*c*(1-exc)**asarray(a-1) * exc * x**(c-1)\n",
        "/Users/anita/anaconda/lib/python2.7/site-packages/scipy/stats/distributions.py:2747: DeprecationWarning: converting an array with ndim > 0 to an index will result in an error in the future\n",
        "  return a*c*(1-exc)**asarray(a-1) * exc * x**(c-1)\n",
        "/Users/anita/anaconda/lib/python2.7/site-packages/scipy/stats/distributions.py:2749: DeprecationWarning: converting an array with ndim > 0 to an index will result in an error in the future\n",
        "  exc = exp(-x**c)\n",
        "/Users/anita/anaconda/lib/python2.7/site-packages/scipy/stats/distributions.py:2750: DeprecationWarning: converting an array with ndim > 0 to an index will result in an error in the future\n",
        "  return log(a) + log(c) + (a-1.)*log(1-exc) - x**c + (c-1.0)*log(x)\n",
        "/Users/anita/anaconda/lib/python2.7/site-packages/scipy/stats/distributions.py:2746: DeprecationWarning: converting an array with ndim > 0 to an index will result in an error in the future\n",
        "  exc = exp(-x**c)\n",
        "/Users/anita/anaconda/lib/python2.7/site-packages/scipy/stats/distributions.py:2747: DeprecationWarning: converting an array with ndim > 0 to an index will result in an error in the future\n",
        "  return a*c*(1-exc)**asarray(a-1) * exc * x**(c-1)\n",
        "/Users/anita/anaconda/lib/python2.7/site-packages/scipy/stats/distributions.py:2747: DeprecationWarning: converting an array with ndim > 0 to an index will result in an error in the future\n",
        "  return a*c*(1-exc)**asarray(a-1) * exc * x**(c-1)\n",
        "/Users/anita/anaconda/lib/python2.7/site-packages/scipy/stats/distributions.py:2749: DeprecationWarning: converting an array with ndim > 0 to an index will result in an error in the future\n",
        "  exc = exp(-x**c)\n",
        "/Users/anita/anaconda/lib/python2.7/site-packages/scipy/stats/distributions.py:2750: DeprecationWarning: converting an array with ndim > 0 to an index will result in an error in the future\n",
        "  return log(a) + log(c) + (a-1.)*log(1-exc) - x**c + (c-1.0)*log(x)\n",
        "/Users/anita/anaconda/lib/python2.7/site-packages/scipy/stats/distributions.py:2746: DeprecationWarning: converting an array with ndim > 0 to an index will result in an error in the future\n",
        "  exc = exp(-x**c)\n",
        "/Users/anita/anaconda/lib/python2.7/site-packages/scipy/stats/distributions.py:2747: DeprecationWarning: converting an array with ndim > 0 to an index will result in an error in the future\n",
        "  return a*c*(1-exc)**asarray(a-1) * exc * x**(c-1)\n",
        "/Users/anita/anaconda/lib/python2.7/site-packages/scipy/stats/distributions.py:2747: DeprecationWarning: converting an array with ndim > 0 to an index will result in an error in the future\n",
        "  return a*c*(1-exc)**asarray(a-1) * exc * x**(c-1)\n",
        "/Users/anita/anaconda/lib/python2.7/site-packages/scipy/stats/distributions.py:2749: DeprecationWarning: converting an array with ndim > 0 to an index will result in an error in the future\n",
        "  exc = exp(-x**c)\n",
        "/Users/anita/anaconda/lib/python2.7/site-packages/scipy/stats/distributions.py:2750: DeprecationWarning: converting an array with ndim > 0 to an index will result in an error in the future\n",
        "  return log(a) + log(c) + (a-1.)*log(1-exc) - x**c + (c-1.0)*log(x)\n",
        "."
       ]
      },
      {
       "output_type": "stream",
       "stream": "stderr",
       "text": [
        "."
       ]
      },
      {
       "output_type": "stream",
       "stream": "stderr",
       "text": [
        "."
       ]
      }
     ],
     "prompt_number": "*"
    },
    {
     "cell_type": "code",
     "collapsed": false,
     "input": [
      "import numpy"
     ],
     "language": "python",
     "metadata": {},
     "outputs": [],
     "prompt_number": 3
    },
    {
     "cell_type": "code",
     "collapsed": false,
     "input": [
      "numpy.test()"
     ],
     "language": "python",
     "metadata": {},
     "outputs": [
      {
       "output_type": "stream",
       "stream": "stderr",
       "text": [
        "."
       ]
      },
      {
       "output_type": "stream",
       "stream": "stderr",
       "text": [
        "."
       ]
      },
      {
       "output_type": "stream",
       "stream": "stderr",
       "text": [
        "."
       ]
      },
      {
       "output_type": "stream",
       "stream": "stderr",
       "text": [
        "."
       ]
      },
      {
       "output_type": "stream",
       "stream": "stderr",
       "text": [
        "."
       ]
      },
      {
       "output_type": "stream",
       "stream": "stderr",
       "text": [
        "."
       ]
      },
      {
       "output_type": "stream",
       "stream": "stderr",
       "text": [
        "."
       ]
      },
      {
       "output_type": "stream",
       "stream": "stderr",
       "text": [
        "."
       ]
      },
      {
       "output_type": "stream",
       "stream": "stderr",
       "text": [
        "."
       ]
      },
      {
       "output_type": "stream",
       "stream": "stderr",
       "text": [
        "."
       ]
      },
      {
       "output_type": "stream",
       "stream": "stderr",
       "text": [
        "."
       ]
      },
      {
       "output_type": "stream",
       "stream": "stderr",
       "text": [
        "."
       ]
      },
      {
       "output_type": "stream",
       "stream": "stderr",
       "text": [
        "."
       ]
      },
      {
       "output_type": "stream",
       "stream": "stderr",
       "text": [
        "."
       ]
      },
      {
       "output_type": "stream",
       "stream": "stderr",
       "text": [
        "."
       ]
      },
      {
       "output_type": "stream",
       "stream": "stderr",
       "text": [
        "."
       ]
      },
      {
       "output_type": "stream",
       "stream": "stderr",
       "text": [
        "."
       ]
      },
      {
       "output_type": "stream",
       "stream": "stderr",
       "text": [
        "."
       ]
      },
      {
       "output_type": "stream",
       "stream": "stderr",
       "text": [
        "."
       ]
      },
      {
       "output_type": "stream",
       "stream": "stderr",
       "text": [
        "."
       ]
      },
      {
       "output_type": "stream",
       "stream": "stderr",
       "text": [
        "."
       ]
      },
      {
       "output_type": "stream",
       "stream": "stderr",
       "text": [
        "."
       ]
      },
      {
       "output_type": "stream",
       "stream": "stderr",
       "text": [
        "."
       ]
      },
      {
       "output_type": "stream",
       "stream": "stderr",
       "text": [
        "."
       ]
      },
      {
       "output_type": "stream",
       "stream": "stderr",
       "text": [
        "."
       ]
      },
      {
       "output_type": "stream",
       "stream": "stderr",
       "text": [
        "."
       ]
      },
      {
       "output_type": "stream",
       "stream": "stderr",
       "text": [
        "."
       ]
      },
      {
       "output_type": "stream",
       "stream": "stderr",
       "text": [
        "."
       ]
      },
      {
       "output_type": "stream",
       "stream": "stderr",
       "text": [
        "."
       ]
      },
      {
       "output_type": "stream",
       "stream": "stderr",
       "text": [
        "."
       ]
      },
      {
       "output_type": "stream",
       "stream": "stderr",
       "text": [
        "."
       ]
      },
      {
       "output_type": "stream",
       "stream": "stderr",
       "text": [
        "."
       ]
      },
      {
       "output_type": "stream",
       "stream": "stderr",
       "text": [
        "."
       ]
      },
      {
       "output_type": "stream",
       "stream": "stderr",
       "text": [
        "."
       ]
      },
      {
       "output_type": "stream",
       "stream": "stderr",
       "text": [
        "."
       ]
      },
      {
       "output_type": "stream",
       "stream": "stderr",
       "text": [
        "."
       ]
      },
      {
       "output_type": "stream",
       "stream": "stderr",
       "text": [
        "."
       ]
      },
      {
       "output_type": "stream",
       "stream": "stderr",
       "text": [
        "."
       ]
      },
      {
       "output_type": "stream",
       "stream": "stderr",
       "text": [
        "."
       ]
      },
      {
       "output_type": "stream",
       "stream": "stderr",
       "text": [
        "."
       ]
      },
      {
       "output_type": "stream",
       "stream": "stderr",
       "text": [
        "."
       ]
      },
      {
       "output_type": "stream",
       "stream": "stderr",
       "text": [
        "."
       ]
      },
      {
       "output_type": "stream",
       "stream": "stderr",
       "text": [
        "."
       ]
      },
      {
       "output_type": "stream",
       "stream": "stderr",
       "text": [
        "."
       ]
      },
      {
       "output_type": "stream",
       "stream": "stderr",
       "text": [
        "."
       ]
      },
      {
       "output_type": "stream",
       "stream": "stderr",
       "text": [
        "."
       ]
      },
      {
       "output_type": "stream",
       "stream": "stderr",
       "text": [
        "."
       ]
      },
      {
       "output_type": "stream",
       "stream": "stderr",
       "text": [
        "."
       ]
      },
      {
       "output_type": "stream",
       "stream": "stderr",
       "text": [
        "."
       ]
      },
      {
       "output_type": "stream",
       "stream": "stderr",
       "text": [
        "."
       ]
      },
      {
       "output_type": "stream",
       "stream": "stderr",
       "text": [
        "."
       ]
      },
      {
       "output_type": "stream",
       "stream": "stderr",
       "text": [
        "."
       ]
      },
      {
       "output_type": "stream",
       "stream": "stderr",
       "text": [
        "."
       ]
      },
      {
       "output_type": "stream",
       "stream": "stderr",
       "text": [
        "."
       ]
      },
      {
       "output_type": "stream",
       "stream": "stderr",
       "text": [
        "."
       ]
      },
      {
       "output_type": "stream",
       "stream": "stderr",
       "text": [
        "."
       ]
      },
      {
       "output_type": "stream",
       "stream": "stderr",
       "text": [
        "."
       ]
      },
      {
       "output_type": "stream",
       "stream": "stderr",
       "text": [
        "."
       ]
      },
      {
       "output_type": "stream",
       "stream": "stderr",
       "text": [
        "."
       ]
      },
      {
       "output_type": "stream",
       "stream": "stderr",
       "text": [
        "."
       ]
      },
      {
       "output_type": "stream",
       "stream": "stderr",
       "text": [
        "."
       ]
      },
      {
       "output_type": "stream",
       "stream": "stderr",
       "text": [
        "."
       ]
      },
      {
       "output_type": "stream",
       "stream": "stderr",
       "text": [
        "."
       ]
      },
      {
       "output_type": "stream",
       "stream": "stderr",
       "text": [
        "."
       ]
      },
      {
       "output_type": "stream",
       "stream": "stderr",
       "text": [
        "."
       ]
      },
      {
       "output_type": "stream",
       "stream": "stderr",
       "text": [
        "."
       ]
      },
      {
       "output_type": "stream",
       "stream": "stderr",
       "text": [
        "."
       ]
      },
      {
       "output_type": "stream",
       "stream": "stderr",
       "text": [
        "."
       ]
      },
      {
       "output_type": "stream",
       "stream": "stderr",
       "text": [
        "."
       ]
      },
      {
       "output_type": "stream",
       "stream": "stderr",
       "text": [
        "."
       ]
      },
      {
       "output_type": "stream",
       "stream": "stderr",
       "text": [
        "."
       ]
      },
      {
       "output_type": "stream",
       "stream": "stderr",
       "text": [
        "."
       ]
      },
      {
       "output_type": "stream",
       "stream": "stderr",
       "text": [
        "."
       ]
      },
      {
       "output_type": "stream",
       "stream": "stderr",
       "text": [
        "."
       ]
      },
      {
       "output_type": "stream",
       "stream": "stderr",
       "text": [
        "."
       ]
      },
      {
       "output_type": "stream",
       "stream": "stderr",
       "text": [
        "."
       ]
      },
      {
       "output_type": "stream",
       "stream": "stderr",
       "text": [
        "."
       ]
      },
      {
       "output_type": "stream",
       "stream": "stderr",
       "text": [
        "."
       ]
      },
      {
       "output_type": "stream",
       "stream": "stderr",
       "text": [
        "."
       ]
      },
      {
       "output_type": "stream",
       "stream": "stderr",
       "text": [
        "."
       ]
      },
      {
       "output_type": "stream",
       "stream": "stderr",
       "text": [
        "."
       ]
      },
      {
       "output_type": "stream",
       "stream": "stderr",
       "text": [
        "."
       ]
      },
      {
       "output_type": "stream",
       "stream": "stderr",
       "text": [
        "."
       ]
      },
      {
       "output_type": "stream",
       "stream": "stderr",
       "text": [
        "."
       ]
      },
      {
       "output_type": "stream",
       "stream": "stderr",
       "text": [
        "."
       ]
      },
      {
       "output_type": "stream",
       "stream": "stderr",
       "text": [
        "."
       ]
      },
      {
       "output_type": "stream",
       "stream": "stderr",
       "text": [
        "."
       ]
      },
      {
       "output_type": "stream",
       "stream": "stderr",
       "text": [
        "."
       ]
      },
      {
       "output_type": "stream",
       "stream": "stderr",
       "text": [
        "."
       ]
      },
      {
       "output_type": "stream",
       "stream": "stderr",
       "text": [
        "."
       ]
      },
      {
       "output_type": "stream",
       "stream": "stderr",
       "text": [
        "."
       ]
      },
      {
       "output_type": "stream",
       "stream": "stderr",
       "text": [
        "."
       ]
      },
      {
       "output_type": "stream",
       "stream": "stderr",
       "text": [
        "."
       ]
      },
      {
       "output_type": "stream",
       "stream": "stderr",
       "text": [
        "."
       ]
      },
      {
       "output_type": "stream",
       "stream": "stderr",
       "text": [
        "."
       ]
      },
      {
       "output_type": "stream",
       "stream": "stderr",
       "text": [
        "."
       ]
      },
      {
       "output_type": "stream",
       "stream": "stderr",
       "text": [
        "."
       ]
      },
      {
       "output_type": "stream",
       "stream": "stderr",
       "text": [
        "."
       ]
      },
      {
       "output_type": "stream",
       "stream": "stderr",
       "text": [
        "."
       ]
      },
      {
       "output_type": "stream",
       "stream": "stderr",
       "text": [
        "."
       ]
      },
      {
       "output_type": "stream",
       "stream": "stderr",
       "text": [
        "."
       ]
      },
      {
       "output_type": "stream",
       "stream": "stderr",
       "text": [
        "."
       ]
      },
      {
       "output_type": "stream",
       "stream": "stderr",
       "text": [
        "."
       ]
      },
      {
       "output_type": "stream",
       "stream": "stderr",
       "text": [
        "."
       ]
      },
      {
       "output_type": "stream",
       "stream": "stderr",
       "text": [
        "."
       ]
      },
      {
       "output_type": "stream",
       "stream": "stderr",
       "text": [
        "."
       ]
      },
      {
       "output_type": "stream",
       "stream": "stderr",
       "text": [
        "."
       ]
      },
      {
       "output_type": "stream",
       "stream": "stderr",
       "text": [
        "."
       ]
      },
      {
       "output_type": "stream",
       "stream": "stderr",
       "text": [
        "."
       ]
      },
      {
       "output_type": "stream",
       "stream": "stderr",
       "text": [
        "."
       ]
      },
      {
       "output_type": "stream",
       "stream": "stderr",
       "text": [
        "."
       ]
      },
      {
       "output_type": "stream",
       "stream": "stderr",
       "text": [
        "."
       ]
      },
      {
       "output_type": "stream",
       "stream": "stderr",
       "text": [
        "."
       ]
      },
      {
       "output_type": "stream",
       "stream": "stderr",
       "text": [
        "."
       ]
      },
      {
       "output_type": "stream",
       "stream": "stderr",
       "text": [
        "."
       ]
      },
      {
       "output_type": "stream",
       "stream": "stderr",
       "text": [
        "."
       ]
      },
      {
       "output_type": "stream",
       "stream": "stderr",
       "text": [
        "."
       ]
      },
      {
       "output_type": "stream",
       "stream": "stderr",
       "text": [
        "."
       ]
      },
      {
       "output_type": "stream",
       "stream": "stderr",
       "text": [
        "."
       ]
      },
      {
       "output_type": "stream",
       "stream": "stderr",
       "text": [
        "."
       ]
      },
      {
       "output_type": "stream",
       "stream": "stderr",
       "text": [
        "."
       ]
      },
      {
       "output_type": "stream",
       "stream": "stderr",
       "text": [
        "."
       ]
      },
      {
       "output_type": "stream",
       "stream": "stderr",
       "text": [
        "."
       ]
      },
      {
       "output_type": "stream",
       "stream": "stderr",
       "text": [
        "."
       ]
      },
      {
       "output_type": "stream",
       "stream": "stderr",
       "text": [
        "."
       ]
      },
      {
       "output_type": "stream",
       "stream": "stderr",
       "text": [
        "."
       ]
      },
      {
       "output_type": "stream",
       "stream": "stderr",
       "text": [
        "."
       ]
      },
      {
       "output_type": "stream",
       "stream": "stderr",
       "text": [
        "."
       ]
      },
      {
       "output_type": "stream",
       "stream": "stderr",
       "text": [
        "."
       ]
      },
      {
       "output_type": "stream",
       "stream": "stderr",
       "text": [
        "."
       ]
      },
      {
       "output_type": "stream",
       "stream": "stderr",
       "text": [
        "."
       ]
      },
      {
       "output_type": "stream",
       "stream": "stderr",
       "text": [
        "."
       ]
      },
      {
       "output_type": "stream",
       "stream": "stderr",
       "text": [
        "."
       ]
      },
      {
       "output_type": "stream",
       "stream": "stderr",
       "text": [
        "."
       ]
      },
      {
       "output_type": "stream",
       "stream": "stderr",
       "text": [
        "."
       ]
      },
      {
       "output_type": "stream",
       "stream": "stderr",
       "text": [
        "."
       ]
      },
      {
       "output_type": "stream",
       "stream": "stderr",
       "text": [
        "."
       ]
      },
      {
       "output_type": "stream",
       "stream": "stderr",
       "text": [
        "."
       ]
      },
      {
       "output_type": "stream",
       "stream": "stderr",
       "text": [
        "."
       ]
      },
      {
       "output_type": "stream",
       "stream": "stderr",
       "text": [
        "."
       ]
      },
      {
       "output_type": "stream",
       "stream": "stderr",
       "text": [
        "."
       ]
      },
      {
       "output_type": "stream",
       "stream": "stderr",
       "text": [
        "."
       ]
      },
      {
       "output_type": "stream",
       "stream": "stderr",
       "text": [
        "."
       ]
      },
      {
       "output_type": "stream",
       "stream": "stderr",
       "text": [
        "."
       ]
      },
      {
       "output_type": "stream",
       "stream": "stderr",
       "text": [
        "."
       ]
      },
      {
       "output_type": "stream",
       "stream": "stderr",
       "text": [
        "."
       ]
      },
      {
       "output_type": "stream",
       "stream": "stderr",
       "text": [
        "."
       ]
      },
      {
       "output_type": "stream",
       "stream": "stderr",
       "text": [
        "."
       ]
      },
      {
       "output_type": "stream",
       "stream": "stderr",
       "text": [
        "."
       ]
      },
      {
       "output_type": "stream",
       "stream": "stderr",
       "text": [
        "."
       ]
      },
      {
       "output_type": "stream",
       "stream": "stderr",
       "text": [
        "."
       ]
      },
      {
       "output_type": "stream",
       "stream": "stderr",
       "text": [
        "."
       ]
      },
      {
       "output_type": "stream",
       "stream": "stderr",
       "text": [
        "."
       ]
      },
      {
       "output_type": "stream",
       "stream": "stderr",
       "text": [
        "."
       ]
      },
      {
       "output_type": "stream",
       "stream": "stderr",
       "text": [
        "."
       ]
      },
      {
       "output_type": "stream",
       "stream": "stderr",
       "text": [
        "."
       ]
      },
      {
       "output_type": "stream",
       "stream": "stderr",
       "text": [
        "."
       ]
      },
      {
       "output_type": "stream",
       "stream": "stderr",
       "text": [
        "."
       ]
      },
      {
       "output_type": "stream",
       "stream": "stderr",
       "text": [
        "."
       ]
      },
      {
       "output_type": "stream",
       "stream": "stderr",
       "text": [
        "."
       ]
      },
      {
       "output_type": "stream",
       "stream": "stderr",
       "text": [
        "."
       ]
      },
      {
       "output_type": "stream",
       "stream": "stderr",
       "text": [
        "."
       ]
      },
      {
       "output_type": "stream",
       "stream": "stderr",
       "text": [
        "."
       ]
      },
      {
       "output_type": "stream",
       "stream": "stderr",
       "text": [
        "."
       ]
      },
      {
       "output_type": "stream",
       "stream": "stderr",
       "text": [
        "."
       ]
      },
      {
       "output_type": "stream",
       "stream": "stderr",
       "text": [
        "."
       ]
      },
      {
       "output_type": "stream",
       "stream": "stderr",
       "text": [
        "."
       ]
      },
      {
       "output_type": "stream",
       "stream": "stderr",
       "text": [
        "."
       ]
      },
      {
       "output_type": "stream",
       "stream": "stderr",
       "text": [
        "."
       ]
      },
      {
       "output_type": "stream",
       "stream": "stderr",
       "text": [
        "."
       ]
      },
      {
       "output_type": "stream",
       "stream": "stderr",
       "text": [
        "."
       ]
      },
      {
       "output_type": "stream",
       "stream": "stderr",
       "text": [
        "."
       ]
      },
      {
       "output_type": "stream",
       "stream": "stderr",
       "text": [
        "."
       ]
      },
      {
       "output_type": "stream",
       "stream": "stderr",
       "text": [
        "."
       ]
      },
      {
       "output_type": "stream",
       "stream": "stderr",
       "text": [
        "."
       ]
      },
      {
       "output_type": "stream",
       "stream": "stderr",
       "text": [
        "."
       ]
      },
      {
       "output_type": "stream",
       "stream": "stderr",
       "text": [
        "."
       ]
      },
      {
       "output_type": "stream",
       "stream": "stderr",
       "text": [
        "."
       ]
      },
      {
       "output_type": "stream",
       "stream": "stderr",
       "text": [
        "."
       ]
      },
      {
       "output_type": "stream",
       "stream": "stderr",
       "text": [
        "."
       ]
      },
      {
       "output_type": "stream",
       "stream": "stderr",
       "text": [
        "."
       ]
      },
      {
       "output_type": "stream",
       "stream": "stderr",
       "text": [
        "."
       ]
      },
      {
       "output_type": "stream",
       "stream": "stderr",
       "text": [
        "."
       ]
      },
      {
       "output_type": "stream",
       "stream": "stderr",
       "text": [
        "."
       ]
      },
      {
       "output_type": "stream",
       "stream": "stderr",
       "text": [
        "."
       ]
      },
      {
       "output_type": "stream",
       "stream": "stderr",
       "text": [
        "."
       ]
      },
      {
       "output_type": "stream",
       "stream": "stderr",
       "text": [
        "."
       ]
      },
      {
       "output_type": "stream",
       "stream": "stderr",
       "text": [
        "."
       ]
      },
      {
       "output_type": "stream",
       "stream": "stderr",
       "text": [
        "."
       ]
      },
      {
       "output_type": "stream",
       "stream": "stderr",
       "text": [
        "."
       ]
      },
      {
       "output_type": "stream",
       "stream": "stderr",
       "text": [
        "."
       ]
      },
      {
       "output_type": "stream",
       "stream": "stderr",
       "text": [
        "."
       ]
      },
      {
       "output_type": "stream",
       "stream": "stderr",
       "text": [
        "."
       ]
      },
      {
       "output_type": "stream",
       "stream": "stderr",
       "text": [
        "."
       ]
      },
      {
       "output_type": "stream",
       "stream": "stderr",
       "text": [
        "."
       ]
      },
      {
       "output_type": "stream",
       "stream": "stderr",
       "text": [
        "."
       ]
      },
      {
       "output_type": "stream",
       "stream": "stderr",
       "text": [
        "."
       ]
      },
      {
       "output_type": "stream",
       "stream": "stderr",
       "text": [
        "."
       ]
      },
      {
       "output_type": "stream",
       "stream": "stderr",
       "text": [
        "."
       ]
      },
      {
       "output_type": "stream",
       "stream": "stderr",
       "text": [
        "."
       ]
      },
      {
       "output_type": "stream",
       "stream": "stderr",
       "text": [
        "."
       ]
      },
      {
       "output_type": "stream",
       "stream": "stderr",
       "text": [
        "."
       ]
      },
      {
       "output_type": "stream",
       "stream": "stderr",
       "text": [
        "."
       ]
      },
      {
       "output_type": "stream",
       "stream": "stderr",
       "text": [
        "."
       ]
      },
      {
       "output_type": "stream",
       "stream": "stderr",
       "text": [
        "."
       ]
      },
      {
       "output_type": "stream",
       "stream": "stderr",
       "text": [
        "."
       ]
      },
      {
       "output_type": "stream",
       "stream": "stderr",
       "text": [
        "."
       ]
      },
      {
       "output_type": "stream",
       "stream": "stderr",
       "text": [
        "."
       ]
      },
      {
       "output_type": "stream",
       "stream": "stderr",
       "text": [
        "."
       ]
      },
      {
       "output_type": "stream",
       "stream": "stderr",
       "text": [
        "."
       ]
      },
      {
       "output_type": "stream",
       "stream": "stderr",
       "text": [
        "."
       ]
      },
      {
       "output_type": "stream",
       "stream": "stderr",
       "text": [
        "."
       ]
      },
      {
       "output_type": "stream",
       "stream": "stderr",
       "text": [
        "."
       ]
      },
      {
       "output_type": "stream",
       "stream": "stderr",
       "text": [
        "."
       ]
      },
      {
       "output_type": "stream",
       "stream": "stderr",
       "text": [
        "."
       ]
      },
      {
       "output_type": "stream",
       "stream": "stderr",
       "text": [
        "."
       ]
      },
      {
       "output_type": "stream",
       "stream": "stderr",
       "text": [
        "."
       ]
      },
      {
       "output_type": "stream",
       "stream": "stderr",
       "text": [
        "."
       ]
      },
      {
       "output_type": "stream",
       "stream": "stderr",
       "text": [
        "."
       ]
      },
      {
       "output_type": "stream",
       "stream": "stderr",
       "text": [
        "."
       ]
      },
      {
       "output_type": "stream",
       "stream": "stderr",
       "text": [
        "."
       ]
      },
      {
       "output_type": "stream",
       "stream": "stderr",
       "text": [
        "."
       ]
      },
      {
       "output_type": "stream",
       "stream": "stderr",
       "text": [
        "."
       ]
      },
      {
       "output_type": "stream",
       "stream": "stderr",
       "text": [
        "."
       ]
      },
      {
       "output_type": "stream",
       "stream": "stderr",
       "text": [
        "."
       ]
      },
      {
       "output_type": "stream",
       "stream": "stderr",
       "text": [
        "."
       ]
      },
      {
       "output_type": "stream",
       "stream": "stderr",
       "text": [
        "."
       ]
      },
      {
       "output_type": "stream",
       "stream": "stderr",
       "text": [
        "."
       ]
      },
      {
       "output_type": "stream",
       "stream": "stderr",
       "text": [
        "."
       ]
      },
      {
       "output_type": "stream",
       "stream": "stderr",
       "text": [
        "."
       ]
      },
      {
       "output_type": "stream",
       "stream": "stderr",
       "text": [
        "."
       ]
      },
      {
       "output_type": "stream",
       "stream": "stderr",
       "text": [
        "."
       ]
      },
      {
       "output_type": "stream",
       "stream": "stderr",
       "text": [
        "."
       ]
      },
      {
       "output_type": "stream",
       "stream": "stderr",
       "text": [
        "."
       ]
      },
      {
       "output_type": "stream",
       "stream": "stderr",
       "text": [
        "."
       ]
      },
      {
       "output_type": "stream",
       "stream": "stderr",
       "text": [
        "."
       ]
      },
      {
       "output_type": "stream",
       "stream": "stderr",
       "text": [
        "."
       ]
      },
      {
       "output_type": "stream",
       "stream": "stderr",
       "text": [
        "."
       ]
      },
      {
       "output_type": "stream",
       "stream": "stderr",
       "text": [
        "."
       ]
      },
      {
       "output_type": "stream",
       "stream": "stderr",
       "text": [
        "."
       ]
      },
      {
       "output_type": "stream",
       "stream": "stderr",
       "text": [
        "."
       ]
      },
      {
       "output_type": "stream",
       "stream": "stderr",
       "text": [
        "."
       ]
      },
      {
       "output_type": "stream",
       "stream": "stderr",
       "text": [
        "."
       ]
      },
      {
       "output_type": "stream",
       "stream": "stderr",
       "text": [
        "."
       ]
      },
      {
       "output_type": "stream",
       "stream": "stderr",
       "text": [
        "."
       ]
      },
      {
       "output_type": "stream",
       "stream": "stderr",
       "text": [
        "."
       ]
      },
      {
       "output_type": "stream",
       "stream": "stderr",
       "text": [
        "."
       ]
      },
      {
       "output_type": "stream",
       "stream": "stderr",
       "text": [
        "."
       ]
      },
      {
       "output_type": "stream",
       "stream": "stderr",
       "text": [
        "."
       ]
      },
      {
       "output_type": "stream",
       "stream": "stderr",
       "text": [
        "."
       ]
      },
      {
       "output_type": "stream",
       "stream": "stderr",
       "text": [
        "."
       ]
      },
      {
       "output_type": "stream",
       "stream": "stderr",
       "text": [
        "."
       ]
      },
      {
       "output_type": "stream",
       "stream": "stderr",
       "text": [
        "."
       ]
      },
      {
       "output_type": "stream",
       "stream": "stderr",
       "text": [
        "."
       ]
      },
      {
       "output_type": "stream",
       "stream": "stderr",
       "text": [
        "."
       ]
      },
      {
       "output_type": "stream",
       "stream": "stderr",
       "text": [
        "."
       ]
      },
      {
       "output_type": "stream",
       "stream": "stderr",
       "text": [
        "."
       ]
      },
      {
       "output_type": "stream",
       "stream": "stderr",
       "text": [
        "."
       ]
      },
      {
       "output_type": "stream",
       "stream": "stderr",
       "text": [
        "."
       ]
      },
      {
       "output_type": "stream",
       "stream": "stderr",
       "text": [
        "."
       ]
      },
      {
       "output_type": "stream",
       "stream": "stderr",
       "text": [
        "."
       ]
      },
      {
       "output_type": "stream",
       "stream": "stderr",
       "text": [
        "."
       ]
      },
      {
       "output_type": "stream",
       "stream": "stderr",
       "text": [
        "."
       ]
      },
      {
       "output_type": "stream",
       "stream": "stderr",
       "text": [
        "."
       ]
      },
      {
       "output_type": "stream",
       "stream": "stderr",
       "text": [
        "."
       ]
      },
      {
       "output_type": "stream",
       "stream": "stderr",
       "text": [
        "."
       ]
      },
      {
       "output_type": "stream",
       "stream": "stderr",
       "text": [
        "."
       ]
      },
      {
       "output_type": "stream",
       "stream": "stderr",
       "text": [
        "."
       ]
      },
      {
       "output_type": "stream",
       "stream": "stderr",
       "text": [
        "."
       ]
      },
      {
       "output_type": "stream",
       "stream": "stderr",
       "text": [
        "."
       ]
      },
      {
       "output_type": "stream",
       "stream": "stderr",
       "text": [
        "."
       ]
      },
      {
       "output_type": "stream",
       "stream": "stderr",
       "text": [
        "."
       ]
      },
      {
       "output_type": "stream",
       "stream": "stderr",
       "text": [
        "."
       ]
      },
      {
       "output_type": "stream",
       "stream": "stderr",
       "text": [
        "."
       ]
      },
      {
       "output_type": "stream",
       "stream": "stderr",
       "text": [
        "."
       ]
      },
      {
       "output_type": "stream",
       "stream": "stderr",
       "text": [
        "."
       ]
      },
      {
       "output_type": "stream",
       "stream": "stderr",
       "text": [
        "."
       ]
      },
      {
       "output_type": "stream",
       "stream": "stderr",
       "text": [
        "."
       ]
      },
      {
       "output_type": "stream",
       "stream": "stderr",
       "text": [
        "."
       ]
      },
      {
       "output_type": "stream",
       "stream": "stderr",
       "text": [
        "."
       ]
      },
      {
       "output_type": "stream",
       "stream": "stderr",
       "text": [
        "."
       ]
      },
      {
       "output_type": "stream",
       "stream": "stderr",
       "text": [
        "."
       ]
      },
      {
       "output_type": "stream",
       "stream": "stderr",
       "text": [
        "."
       ]
      },
      {
       "output_type": "stream",
       "stream": "stderr",
       "text": [
        "."
       ]
      },
      {
       "output_type": "stream",
       "stream": "stderr",
       "text": [
        "."
       ]
      },
      {
       "output_type": "stream",
       "stream": "stderr",
       "text": [
        "."
       ]
      },
      {
       "output_type": "stream",
       "stream": "stderr",
       "text": [
        "."
       ]
      },
      {
       "output_type": "stream",
       "stream": "stderr",
       "text": [
        "."
       ]
      },
      {
       "output_type": "stream",
       "stream": "stderr",
       "text": [
        "."
       ]
      },
      {
       "output_type": "stream",
       "stream": "stderr",
       "text": [
        "."
       ]
      },
      {
       "output_type": "stream",
       "stream": "stderr",
       "text": [
        "."
       ]
      },
      {
       "output_type": "stream",
       "stream": "stderr",
       "text": [
        "."
       ]
      },
      {
       "output_type": "stream",
       "stream": "stderr",
       "text": [
        "."
       ]
      },
      {
       "output_type": "stream",
       "stream": "stderr",
       "text": [
        "."
       ]
      },
      {
       "output_type": "stream",
       "stream": "stderr",
       "text": [
        "."
       ]
      },
      {
       "output_type": "stream",
       "stream": "stderr",
       "text": [
        "."
       ]
      },
      {
       "output_type": "stream",
       "stream": "stderr",
       "text": [
        "."
       ]
      },
      {
       "output_type": "stream",
       "stream": "stderr",
       "text": [
        "."
       ]
      },
      {
       "output_type": "stream",
       "stream": "stderr",
       "text": [
        "."
       ]
      },
      {
       "output_type": "stream",
       "stream": "stderr",
       "text": [
        "."
       ]
      },
      {
       "output_type": "stream",
       "stream": "stderr",
       "text": [
        "."
       ]
      },
      {
       "output_type": "stream",
       "stream": "stderr",
       "text": [
        "."
       ]
      },
      {
       "output_type": "stream",
       "stream": "stderr",
       "text": [
        "."
       ]
      },
      {
       "output_type": "stream",
       "stream": "stderr",
       "text": [
        "."
       ]
      },
      {
       "output_type": "stream",
       "stream": "stderr",
       "text": [
        "."
       ]
      },
      {
       "output_type": "stream",
       "stream": "stderr",
       "text": [
        "."
       ]
      },
      {
       "output_type": "stream",
       "stream": "stderr",
       "text": [
        "."
       ]
      },
      {
       "output_type": "stream",
       "stream": "stderr",
       "text": [
        "."
       ]
      },
      {
       "output_type": "stream",
       "stream": "stderr",
       "text": [
        "."
       ]
      },
      {
       "output_type": "stream",
       "stream": "stderr",
       "text": [
        "."
       ]
      },
      {
       "output_type": "stream",
       "stream": "stderr",
       "text": [
        "."
       ]
      },
      {
       "output_type": "stream",
       "stream": "stderr",
       "text": [
        "."
       ]
      },
      {
       "output_type": "stream",
       "stream": "stderr",
       "text": [
        "."
       ]
      },
      {
       "output_type": "stream",
       "stream": "stderr",
       "text": [
        "."
       ]
      },
      {
       "output_type": "stream",
       "stream": "stderr",
       "text": [
        "."
       ]
      },
      {
       "output_type": "stream",
       "stream": "stderr",
       "text": [
        "."
       ]
      },
      {
       "output_type": "stream",
       "stream": "stderr",
       "text": [
        "."
       ]
      },
      {
       "output_type": "stream",
       "stream": "stderr",
       "text": [
        "."
       ]
      },
      {
       "output_type": "stream",
       "stream": "stderr",
       "text": [
        "."
       ]
      },
      {
       "output_type": "stream",
       "stream": "stderr",
       "text": [
        "."
       ]
      },
      {
       "output_type": "stream",
       "stream": "stderr",
       "text": [
        "."
       ]
      },
      {
       "output_type": "stream",
       "stream": "stderr",
       "text": [
        "."
       ]
      },
      {
       "output_type": "stream",
       "stream": "stderr",
       "text": [
        "."
       ]
      },
      {
       "output_type": "stream",
       "stream": "stderr",
       "text": [
        "."
       ]
      },
      {
       "output_type": "stream",
       "stream": "stderr",
       "text": [
        "."
       ]
      },
      {
       "output_type": "stream",
       "stream": "stderr",
       "text": [
        "."
       ]
      },
      {
       "output_type": "stream",
       "stream": "stderr",
       "text": [
        "."
       ]
      },
      {
       "output_type": "stream",
       "stream": "stderr",
       "text": [
        "."
       ]
      },
      {
       "output_type": "stream",
       "stream": "stderr",
       "text": [
        "."
       ]
      },
      {
       "output_type": "stream",
       "stream": "stderr",
       "text": [
        "."
       ]
      },
      {
       "output_type": "stream",
       "stream": "stderr",
       "text": [
        "."
       ]
      },
      {
       "output_type": "stream",
       "stream": "stderr",
       "text": [
        "."
       ]
      },
      {
       "output_type": "stream",
       "stream": "stderr",
       "text": [
        "."
       ]
      },
      {
       "output_type": "stream",
       "stream": "stderr",
       "text": [
        "."
       ]
      },
      {
       "output_type": "stream",
       "stream": "stderr",
       "text": [
        "."
       ]
      },
      {
       "output_type": "stream",
       "stream": "stderr",
       "text": [
        "."
       ]
      },
      {
       "output_type": "stream",
       "stream": "stderr",
       "text": [
        "."
       ]
      },
      {
       "output_type": "stream",
       "stream": "stderr",
       "text": [
        "."
       ]
      },
      {
       "output_type": "stream",
       "stream": "stderr",
       "text": [
        "."
       ]
      },
      {
       "output_type": "stream",
       "stream": "stderr",
       "text": [
        "."
       ]
      },
      {
       "output_type": "stream",
       "stream": "stderr",
       "text": [
        "."
       ]
      },
      {
       "output_type": "stream",
       "stream": "stderr",
       "text": [
        "."
       ]
      },
      {
       "output_type": "stream",
       "stream": "stderr",
       "text": [
        "."
       ]
      },
      {
       "output_type": "stream",
       "stream": "stderr",
       "text": [
        "."
       ]
      },
      {
       "output_type": "stream",
       "stream": "stderr",
       "text": [
        "."
       ]
      },
      {
       "output_type": "stream",
       "stream": "stderr",
       "text": [
        "."
       ]
      },
      {
       "output_type": "stream",
       "stream": "stderr",
       "text": [
        "."
       ]
      },
      {
       "output_type": "stream",
       "stream": "stderr",
       "text": [
        "."
       ]
      },
      {
       "output_type": "stream",
       "stream": "stderr",
       "text": [
        "."
       ]
      },
      {
       "output_type": "stream",
       "stream": "stderr",
       "text": [
        "."
       ]
      },
      {
       "output_type": "stream",
       "stream": "stderr",
       "text": [
        "."
       ]
      },
      {
       "output_type": "stream",
       "stream": "stderr",
       "text": [
        "."
       ]
      },
      {
       "output_type": "stream",
       "stream": "stderr",
       "text": [
        "."
       ]
      },
      {
       "output_type": "stream",
       "stream": "stderr",
       "text": [
        "."
       ]
      },
      {
       "output_type": "stream",
       "stream": "stderr",
       "text": [
        "."
       ]
      },
      {
       "output_type": "stream",
       "stream": "stderr",
       "text": [
        "."
       ]
      },
      {
       "output_type": "stream",
       "stream": "stderr",
       "text": [
        "."
       ]
      },
      {
       "output_type": "stream",
       "stream": "stderr",
       "text": [
        "."
       ]
      },
      {
       "output_type": "stream",
       "stream": "stderr",
       "text": [
        "."
       ]
      },
      {
       "output_type": "stream",
       "stream": "stderr",
       "text": [
        "."
       ]
      },
      {
       "output_type": "stream",
       "stream": "stderr",
       "text": [
        "."
       ]
      },
      {
       "output_type": "stream",
       "stream": "stderr",
       "text": [
        "."
       ]
      },
      {
       "output_type": "stream",
       "stream": "stderr",
       "text": [
        "."
       ]
      },
      {
       "output_type": "stream",
       "stream": "stderr",
       "text": [
        "."
       ]
      },
      {
       "output_type": "stream",
       "stream": "stderr",
       "text": [
        "."
       ]
      },
      {
       "output_type": "stream",
       "stream": "stderr",
       "text": [
        "."
       ]
      },
      {
       "output_type": "stream",
       "stream": "stderr",
       "text": [
        "."
       ]
      },
      {
       "output_type": "stream",
       "stream": "stderr",
       "text": [
        "."
       ]
      },
      {
       "output_type": "stream",
       "stream": "stderr",
       "text": [
        "."
       ]
      },
      {
       "output_type": "stream",
       "stream": "stderr",
       "text": [
        "."
       ]
      },
      {
       "output_type": "stream",
       "stream": "stderr",
       "text": [
        "."
       ]
      },
      {
       "output_type": "stream",
       "stream": "stderr",
       "text": [
        "."
       ]
      },
      {
       "output_type": "stream",
       "stream": "stderr",
       "text": [
        "."
       ]
      },
      {
       "output_type": "stream",
       "stream": "stderr",
       "text": [
        "."
       ]
      },
      {
       "output_type": "stream",
       "stream": "stderr",
       "text": [
        "."
       ]
      },
      {
       "output_type": "stream",
       "stream": "stderr",
       "text": [
        "."
       ]
      },
      {
       "output_type": "stream",
       "stream": "stderr",
       "text": [
        "."
       ]
      },
      {
       "output_type": "stream",
       "stream": "stderr",
       "text": [
        "."
       ]
      },
      {
       "output_type": "stream",
       "stream": "stderr",
       "text": [
        "."
       ]
      },
      {
       "output_type": "stream",
       "stream": "stderr",
       "text": [
        "."
       ]
      },
      {
       "output_type": "stream",
       "stream": "stderr",
       "text": [
        "."
       ]
      },
      {
       "output_type": "stream",
       "stream": "stderr",
       "text": [
        "."
       ]
      },
      {
       "output_type": "stream",
       "stream": "stderr",
       "text": [
        "."
       ]
      },
      {
       "output_type": "stream",
       "stream": "stderr",
       "text": [
        "."
       ]
      },
      {
       "output_type": "stream",
       "stream": "stderr",
       "text": [
        "."
       ]
      },
      {
       "output_type": "stream",
       "stream": "stderr",
       "text": [
        "."
       ]
      },
      {
       "output_type": "stream",
       "stream": "stderr",
       "text": [
        "."
       ]
      },
      {
       "output_type": "stream",
       "stream": "stderr",
       "text": [
        "."
       ]
      },
      {
       "output_type": "stream",
       "stream": "stderr",
       "text": [
        "."
       ]
      },
      {
       "output_type": "stream",
       "stream": "stderr",
       "text": [
        "."
       ]
      },
      {
       "output_type": "stream",
       "stream": "stderr",
       "text": [
        "."
       ]
      },
      {
       "output_type": "stream",
       "stream": "stderr",
       "text": [
        "."
       ]
      },
      {
       "output_type": "stream",
       "stream": "stderr",
       "text": [
        "."
       ]
      },
      {
       "output_type": "stream",
       "stream": "stderr",
       "text": [
        "."
       ]
      },
      {
       "output_type": "stream",
       "stream": "stderr",
       "text": [
        "."
       ]
      },
      {
       "output_type": "stream",
       "stream": "stderr",
       "text": [
        "."
       ]
      },
      {
       "output_type": "stream",
       "stream": "stderr",
       "text": [
        "."
       ]
      },
      {
       "output_type": "stream",
       "stream": "stderr",
       "text": [
        "."
       ]
      },
      {
       "output_type": "stream",
       "stream": "stderr",
       "text": [
        "."
       ]
      },
      {
       "output_type": "stream",
       "stream": "stderr",
       "text": [
        "."
       ]
      },
      {
       "output_type": "stream",
       "stream": "stderr",
       "text": [
        "."
       ]
      },
      {
       "output_type": "stream",
       "stream": "stderr",
       "text": [
        "."
       ]
      },
      {
       "output_type": "stream",
       "stream": "stderr",
       "text": [
        "."
       ]
      },
      {
       "output_type": "stream",
       "stream": "stderr",
       "text": [
        "."
       ]
      },
      {
       "output_type": "stream",
       "stream": "stderr",
       "text": [
        "."
       ]
      },
      {
       "output_type": "stream",
       "stream": "stderr",
       "text": [
        "."
       ]
      },
      {
       "output_type": "stream",
       "stream": "stderr",
       "text": [
        "."
       ]
      },
      {
       "output_type": "stream",
       "stream": "stderr",
       "text": [
        "."
       ]
      },
      {
       "output_type": "stream",
       "stream": "stderr",
       "text": [
        "."
       ]
      },
      {
       "output_type": "stream",
       "stream": "stderr",
       "text": [
        "."
       ]
      },
      {
       "output_type": "stream",
       "stream": "stderr",
       "text": [
        "."
       ]
      },
      {
       "output_type": "stream",
       "stream": "stderr",
       "text": [
        "."
       ]
      },
      {
       "output_type": "stream",
       "stream": "stderr",
       "text": [
        "."
       ]
      },
      {
       "output_type": "stream",
       "stream": "stderr",
       "text": [
        "."
       ]
      },
      {
       "output_type": "stream",
       "stream": "stderr",
       "text": [
        "."
       ]
      },
      {
       "output_type": "stream",
       "stream": "stderr",
       "text": [
        "."
       ]
      },
      {
       "output_type": "stream",
       "stream": "stderr",
       "text": [
        "."
       ]
      },
      {
       "output_type": "stream",
       "stream": "stderr",
       "text": [
        "."
       ]
      },
      {
       "output_type": "stream",
       "stream": "stderr",
       "text": [
        "."
       ]
      },
      {
       "output_type": "stream",
       "stream": "stderr",
       "text": [
        "."
       ]
      },
      {
       "output_type": "stream",
       "stream": "stderr",
       "text": [
        "."
       ]
      },
      {
       "output_type": "stream",
       "stream": "stderr",
       "text": [
        "."
       ]
      },
      {
       "output_type": "stream",
       "stream": "stderr",
       "text": [
        "."
       ]
      },
      {
       "output_type": "stream",
       "stream": "stderr",
       "text": [
        "."
       ]
      },
      {
       "output_type": "stream",
       "stream": "stderr",
       "text": [
        "."
       ]
      },
      {
       "output_type": "stream",
       "stream": "stderr",
       "text": [
        "."
       ]
      },
      {
       "output_type": "stream",
       "stream": "stderr",
       "text": [
        "."
       ]
      },
      {
       "output_type": "stream",
       "stream": "stderr",
       "text": [
        "."
       ]
      },
      {
       "output_type": "stream",
       "stream": "stderr",
       "text": [
        "."
       ]
      },
      {
       "output_type": "stream",
       "stream": "stderr",
       "text": [
        "."
       ]
      },
      {
       "output_type": "stream",
       "stream": "stderr",
       "text": [
        "."
       ]
      },
      {
       "output_type": "stream",
       "stream": "stderr",
       "text": [
        "."
       ]
      },
      {
       "output_type": "stream",
       "stream": "stderr",
       "text": [
        "."
       ]
      },
      {
       "output_type": "stream",
       "stream": "stderr",
       "text": [
        "."
       ]
      },
      {
       "output_type": "stream",
       "stream": "stderr",
       "text": [
        "."
       ]
      },
      {
       "output_type": "stream",
       "stream": "stderr",
       "text": [
        "."
       ]
      },
      {
       "output_type": "stream",
       "stream": "stderr",
       "text": [
        "."
       ]
      },
      {
       "output_type": "stream",
       "stream": "stderr",
       "text": [
        "."
       ]
      },
      {
       "output_type": "stream",
       "stream": "stderr",
       "text": [
        "."
       ]
      },
      {
       "output_type": "stream",
       "stream": "stderr",
       "text": [
        "."
       ]
      },
      {
       "output_type": "stream",
       "stream": "stderr",
       "text": [
        "."
       ]
      },
      {
       "output_type": "stream",
       "stream": "stderr",
       "text": [
        "."
       ]
      },
      {
       "output_type": "stream",
       "stream": "stderr",
       "text": [
        "."
       ]
      },
      {
       "output_type": "stream",
       "stream": "stderr",
       "text": [
        "."
       ]
      },
      {
       "output_type": "stream",
       "stream": "stderr",
       "text": [
        "."
       ]
      },
      {
       "output_type": "stream",
       "stream": "stderr",
       "text": [
        "."
       ]
      },
      {
       "output_type": "stream",
       "stream": "stderr",
       "text": [
        "."
       ]
      },
      {
       "output_type": "stream",
       "stream": "stderr",
       "text": [
        "."
       ]
      },
      {
       "output_type": "stream",
       "stream": "stderr",
       "text": [
        "."
       ]
      },
      {
       "output_type": "stream",
       "stream": "stderr",
       "text": [
        "."
       ]
      },
      {
       "output_type": "stream",
       "stream": "stderr",
       "text": [
        "."
       ]
      },
      {
       "output_type": "stream",
       "stream": "stderr",
       "text": [
        "."
       ]
      },
      {
       "output_type": "stream",
       "stream": "stderr",
       "text": [
        "."
       ]
      },
      {
       "output_type": "stream",
       "stream": "stderr",
       "text": [
        "."
       ]
      },
      {
       "output_type": "stream",
       "stream": "stderr",
       "text": [
        "."
       ]
      },
      {
       "output_type": "stream",
       "stream": "stderr",
       "text": [
        "."
       ]
      },
      {
       "output_type": "stream",
       "stream": "stderr",
       "text": [
        "."
       ]
      },
      {
       "output_type": "stream",
       "stream": "stderr",
       "text": [
        "."
       ]
      },
      {
       "output_type": "stream",
       "stream": "stderr",
       "text": [
        "."
       ]
      },
      {
       "output_type": "stream",
       "stream": "stderr",
       "text": [
        "."
       ]
      },
      {
       "output_type": "stream",
       "stream": "stderr",
       "text": [
        "."
       ]
      },
      {
       "output_type": "stream",
       "stream": "stderr",
       "text": [
        "."
       ]
      },
      {
       "output_type": "stream",
       "stream": "stderr",
       "text": [
        "."
       ]
      },
      {
       "output_type": "stream",
       "stream": "stderr",
       "text": [
        "."
       ]
      },
      {
       "output_type": "stream",
       "stream": "stderr",
       "text": [
        "."
       ]
      },
      {
       "output_type": "stream",
       "stream": "stderr",
       "text": [
        "."
       ]
      },
      {
       "output_type": "stream",
       "stream": "stderr",
       "text": [
        "."
       ]
      },
      {
       "output_type": "stream",
       "stream": "stderr",
       "text": [
        "."
       ]
      },
      {
       "output_type": "stream",
       "stream": "stderr",
       "text": [
        "."
       ]
      },
      {
       "output_type": "stream",
       "stream": "stderr",
       "text": [
        "."
       ]
      },
      {
       "output_type": "stream",
       "stream": "stderr",
       "text": [
        "."
       ]
      },
      {
       "output_type": "stream",
       "stream": "stderr",
       "text": [
        "."
       ]
      },
      {
       "output_type": "stream",
       "stream": "stderr",
       "text": [
        "."
       ]
      },
      {
       "output_type": "stream",
       "stream": "stderr",
       "text": [
        "S."
       ]
      },
      {
       "output_type": "stream",
       "stream": "stderr",
       "text": [
        "."
       ]
      },
      {
       "output_type": "stream",
       "stream": "stderr",
       "text": [
        "."
       ]
      },
      {
       "output_type": "stream",
       "stream": "stderr",
       "text": [
        "."
       ]
      },
      {
       "output_type": "stream",
       "stream": "stderr",
       "text": [
        "."
       ]
      },
      {
       "output_type": "stream",
       "stream": "stderr",
       "text": [
        "."
       ]
      },
      {
       "output_type": "stream",
       "stream": "stderr",
       "text": [
        "."
       ]
      },
      {
       "output_type": "stream",
       "stream": "stderr",
       "text": [
        "."
       ]
      },
      {
       "output_type": "stream",
       "stream": "stderr",
       "text": [
        "."
       ]
      },
      {
       "output_type": "stream",
       "stream": "stderr",
       "text": [
        "."
       ]
      },
      {
       "output_type": "stream",
       "stream": "stderr",
       "text": [
        "."
       ]
      },
      {
       "output_type": "stream",
       "stream": "stderr",
       "text": [
        "."
       ]
      },
      {
       "output_type": "stream",
       "stream": "stderr",
       "text": [
        "."
       ]
      },
      {
       "output_type": "stream",
       "stream": "stderr",
       "text": [
        "."
       ]
      },
      {
       "output_type": "stream",
       "stream": "stderr",
       "text": [
        "."
       ]
      },
      {
       "output_type": "stream",
       "stream": "stderr",
       "text": [
        "."
       ]
      },
      {
       "output_type": "stream",
       "stream": "stderr",
       "text": [
        "."
       ]
      },
      {
       "output_type": "stream",
       "stream": "stderr",
       "text": [
        "."
       ]
      },
      {
       "output_type": "stream",
       "stream": "stderr",
       "text": [
        "."
       ]
      },
      {
       "output_type": "stream",
       "stream": "stderr",
       "text": [
        "."
       ]
      },
      {
       "output_type": "stream",
       "stream": "stderr",
       "text": [
        "."
       ]
      },
      {
       "output_type": "stream",
       "stream": "stderr",
       "text": [
        "."
       ]
      },
      {
       "output_type": "stream",
       "stream": "stderr",
       "text": [
        "."
       ]
      },
      {
       "output_type": "stream",
       "stream": "stderr",
       "text": [
        "."
       ]
      },
      {
       "output_type": "stream",
       "stream": "stderr",
       "text": [
        "."
       ]
      },
      {
       "output_type": "stream",
       "stream": "stderr",
       "text": [
        "."
       ]
      },
      {
       "output_type": "stream",
       "stream": "stderr",
       "text": [
        "."
       ]
      },
      {
       "output_type": "stream",
       "stream": "stderr",
       "text": [
        "."
       ]
      },
      {
       "output_type": "stream",
       "stream": "stderr",
       "text": [
        "."
       ]
      },
      {
       "output_type": "stream",
       "stream": "stderr",
       "text": [
        "."
       ]
      },
      {
       "output_type": "stream",
       "stream": "stderr",
       "text": [
        "."
       ]
      },
      {
       "output_type": "stream",
       "stream": "stderr",
       "text": [
        "."
       ]
      },
      {
       "output_type": "stream",
       "stream": "stderr",
       "text": [
        "."
       ]
      },
      {
       "output_type": "stream",
       "stream": "stderr",
       "text": [
        "."
       ]
      },
      {
       "output_type": "stream",
       "stream": "stderr",
       "text": [
        "."
       ]
      },
      {
       "output_type": "stream",
       "stream": "stderr",
       "text": [
        "."
       ]
      },
      {
       "output_type": "stream",
       "stream": "stderr",
       "text": [
        "."
       ]
      },
      {
       "output_type": "stream",
       "stream": "stderr",
       "text": [
        "."
       ]
      },
      {
       "output_type": "stream",
       "stream": "stderr",
       "text": [
        "."
       ]
      },
      {
       "output_type": "stream",
       "stream": "stderr",
       "text": [
        "."
       ]
      },
      {
       "output_type": "stream",
       "stream": "stderr",
       "text": [
        "."
       ]
      },
      {
       "output_type": "stream",
       "stream": "stderr",
       "text": [
        "."
       ]
      },
      {
       "output_type": "stream",
       "stream": "stderr",
       "text": [
        "."
       ]
      },
      {
       "output_type": "stream",
       "stream": "stderr",
       "text": [
        "."
       ]
      },
      {
       "output_type": "stream",
       "stream": "stderr",
       "text": [
        "."
       ]
      },
      {
       "output_type": "stream",
       "stream": "stderr",
       "text": [
        "."
       ]
      },
      {
       "output_type": "stream",
       "stream": "stderr",
       "text": [
        "."
       ]
      },
      {
       "output_type": "stream",
       "stream": "stderr",
       "text": [
        "."
       ]
      },
      {
       "output_type": "stream",
       "stream": "stderr",
       "text": [
        "."
       ]
      },
      {
       "output_type": "stream",
       "stream": "stderr",
       "text": [
        "."
       ]
      },
      {
       "output_type": "stream",
       "stream": "stderr",
       "text": [
        "."
       ]
      },
      {
       "output_type": "stream",
       "stream": "stderr",
       "text": [
        "."
       ]
      },
      {
       "output_type": "stream",
       "stream": "stderr",
       "text": [
        "."
       ]
      },
      {
       "output_type": "stream",
       "stream": "stderr",
       "text": [
        "."
       ]
      },
      {
       "output_type": "stream",
       "stream": "stderr",
       "text": [
        "."
       ]
      },
      {
       "output_type": "stream",
       "stream": "stderr",
       "text": [
        "."
       ]
      },
      {
       "output_type": "stream",
       "stream": "stderr",
       "text": [
        "."
       ]
      },
      {
       "output_type": "stream",
       "stream": "stderr",
       "text": [
        "."
       ]
      },
      {
       "output_type": "stream",
       "stream": "stderr",
       "text": [
        "."
       ]
      },
      {
       "output_type": "stream",
       "stream": "stderr",
       "text": [
        "."
       ]
      },
      {
       "output_type": "stream",
       "stream": "stderr",
       "text": [
        "."
       ]
      },
      {
       "output_type": "stream",
       "stream": "stderr",
       "text": [
        "."
       ]
      },
      {
       "output_type": "stream",
       "stream": "stderr",
       "text": [
        "."
       ]
      },
      {
       "output_type": "stream",
       "stream": "stderr",
       "text": [
        "."
       ]
      },
      {
       "output_type": "stream",
       "stream": "stderr",
       "text": [
        "."
       ]
      },
      {
       "output_type": "stream",
       "stream": "stderr",
       "text": [
        "."
       ]
      },
      {
       "output_type": "stream",
       "stream": "stderr",
       "text": [
        "."
       ]
      },
      {
       "output_type": "stream",
       "stream": "stderr",
       "text": [
        "."
       ]
      },
      {
       "output_type": "stream",
       "stream": "stderr",
       "text": [
        "."
       ]
      },
      {
       "output_type": "stream",
       "stream": "stderr",
       "text": [
        "."
       ]
      },
      {
       "output_type": "stream",
       "stream": "stderr",
       "text": [
        "."
       ]
      },
      {
       "output_type": "stream",
       "stream": "stderr",
       "text": [
        "."
       ]
      },
      {
       "output_type": "stream",
       "stream": "stderr",
       "text": [
        "."
       ]
      },
      {
       "output_type": "stream",
       "stream": "stderr",
       "text": [
        "."
       ]
      },
      {
       "output_type": "stream",
       "stream": "stderr",
       "text": [
        "."
       ]
      },
      {
       "output_type": "stream",
       "stream": "stderr",
       "text": [
        "."
       ]
      },
      {
       "output_type": "stream",
       "stream": "stderr",
       "text": [
        "."
       ]
      },
      {
       "output_type": "stream",
       "stream": "stderr",
       "text": [
        "."
       ]
      },
      {
       "output_type": "stream",
       "stream": "stderr",
       "text": [
        "."
       ]
      },
      {
       "output_type": "stream",
       "stream": "stderr",
       "text": [
        "."
       ]
      },
      {
       "output_type": "stream",
       "stream": "stderr",
       "text": [
        "."
       ]
      },
      {
       "output_type": "stream",
       "stream": "stderr",
       "text": [
        "."
       ]
      },
      {
       "output_type": "stream",
       "stream": "stderr",
       "text": [
        "."
       ]
      },
      {
       "output_type": "stream",
       "stream": "stderr",
       "text": [
        "."
       ]
      },
      {
       "output_type": "stream",
       "stream": "stderr",
       "text": [
        "."
       ]
      },
      {
       "output_type": "stream",
       "stream": "stderr",
       "text": [
        "."
       ]
      },
      {
       "output_type": "stream",
       "stream": "stderr",
       "text": [
        "."
       ]
      },
      {
       "output_type": "stream",
       "stream": "stderr",
       "text": [
        "."
       ]
      },
      {
       "output_type": "stream",
       "stream": "stderr",
       "text": [
        "."
       ]
      },
      {
       "output_type": "stream",
       "stream": "stderr",
       "text": [
        "."
       ]
      },
      {
       "output_type": "stream",
       "stream": "stderr",
       "text": [
        "."
       ]
      },
      {
       "output_type": "stream",
       "stream": "stderr",
       "text": [
        "."
       ]
      },
      {
       "output_type": "stream",
       "stream": "stderr",
       "text": [
        "."
       ]
      },
      {
       "output_type": "stream",
       "stream": "stderr",
       "text": [
        "."
       ]
      },
      {
       "output_type": "stream",
       "stream": "stderr",
       "text": [
        "."
       ]
      },
      {
       "output_type": "stream",
       "stream": "stderr",
       "text": [
        "."
       ]
      },
      {
       "output_type": "stream",
       "stream": "stderr",
       "text": [
        "."
       ]
      },
      {
       "output_type": "stream",
       "stream": "stderr",
       "text": [
        "."
       ]
      },
      {
       "output_type": "stream",
       "stream": "stderr",
       "text": [
        "."
       ]
      },
      {
       "output_type": "stream",
       "stream": "stderr",
       "text": [
        "."
       ]
      },
      {
       "output_type": "stream",
       "stream": "stderr",
       "text": [
        "."
       ]
      },
      {
       "output_type": "stream",
       "stream": "stderr",
       "text": [
        "."
       ]
      },
      {
       "output_type": "stream",
       "stream": "stderr",
       "text": [
        "."
       ]
      },
      {
       "output_type": "stream",
       "stream": "stderr",
       "text": [
        "."
       ]
      },
      {
       "output_type": "stream",
       "stream": "stderr",
       "text": [
        "."
       ]
      },
      {
       "output_type": "stream",
       "stream": "stderr",
       "text": [
        "."
       ]
      },
      {
       "output_type": "stream",
       "stream": "stderr",
       "text": [
        "."
       ]
      },
      {
       "output_type": "stream",
       "stream": "stderr",
       "text": [
        "."
       ]
      },
      {
       "output_type": "stream",
       "stream": "stderr",
       "text": [
        "."
       ]
      },
      {
       "output_type": "stream",
       "stream": "stderr",
       "text": [
        "."
       ]
      },
      {
       "output_type": "stream",
       "stream": "stderr",
       "text": [
        "."
       ]
      },
      {
       "output_type": "stream",
       "stream": "stderr",
       "text": [
        "."
       ]
      },
      {
       "output_type": "stream",
       "stream": "stderr",
       "text": [
        "."
       ]
      },
      {
       "output_type": "stream",
       "stream": "stderr",
       "text": [
        "."
       ]
      },
      {
       "output_type": "stream",
       "stream": "stderr",
       "text": [
        "."
       ]
      },
      {
       "output_type": "stream",
       "stream": "stderr",
       "text": [
        "."
       ]
      },
      {
       "output_type": "stream",
       "stream": "stderr",
       "text": [
        "."
       ]
      },
      {
       "output_type": "stream",
       "stream": "stderr",
       "text": [
        "."
       ]
      },
      {
       "output_type": "stream",
       "stream": "stderr",
       "text": [
        "."
       ]
      },
      {
       "output_type": "stream",
       "stream": "stderr",
       "text": [
        "."
       ]
      },
      {
       "output_type": "stream",
       "stream": "stderr",
       "text": [
        "."
       ]
      },
      {
       "output_type": "stream",
       "stream": "stderr",
       "text": [
        "."
       ]
      },
      {
       "output_type": "stream",
       "stream": "stderr",
       "text": [
        "."
       ]
      },
      {
       "output_type": "stream",
       "stream": "stderr",
       "text": [
        "."
       ]
      },
      {
       "output_type": "stream",
       "stream": "stderr",
       "text": [
        "."
       ]
      },
      {
       "output_type": "stream",
       "stream": "stderr",
       "text": [
        "."
       ]
      },
      {
       "output_type": "stream",
       "stream": "stderr",
       "text": [
        "."
       ]
      },
      {
       "output_type": "stream",
       "stream": "stderr",
       "text": [
        "."
       ]
      },
      {
       "output_type": "stream",
       "stream": "stderr",
       "text": [
        "."
       ]
      },
      {
       "output_type": "stream",
       "stream": "stderr",
       "text": [
        "."
       ]
      },
      {
       "output_type": "stream",
       "stream": "stderr",
       "text": [
        "."
       ]
      },
      {
       "output_type": "stream",
       "stream": "stderr",
       "text": [
        "."
       ]
      },
      {
       "output_type": "stream",
       "stream": "stderr",
       "text": [
        "."
       ]
      },
      {
       "output_type": "stream",
       "stream": "stderr",
       "text": [
        "."
       ]
      },
      {
       "output_type": "stream",
       "stream": "stderr",
       "text": [
        "."
       ]
      },
      {
       "output_type": "stream",
       "stream": "stderr",
       "text": [
        "."
       ]
      },
      {
       "output_type": "stream",
       "stream": "stderr",
       "text": [
        "."
       ]
      },
      {
       "output_type": "stream",
       "stream": "stderr",
       "text": [
        "."
       ]
      },
      {
       "output_type": "stream",
       "stream": "stderr",
       "text": [
        "."
       ]
      },
      {
       "output_type": "stream",
       "stream": "stderr",
       "text": [
        "."
       ]
      },
      {
       "output_type": "stream",
       "stream": "stderr",
       "text": [
        "."
       ]
      },
      {
       "output_type": "stream",
       "stream": "stderr",
       "text": [
        "."
       ]
      },
      {
       "output_type": "stream",
       "stream": "stderr",
       "text": [
        "."
       ]
      },
      {
       "output_type": "stream",
       "stream": "stderr",
       "text": [
        "."
       ]
      },
      {
       "output_type": "stream",
       "stream": "stderr",
       "text": [
        "."
       ]
      },
      {
       "output_type": "stream",
       "stream": "stderr",
       "text": [
        "."
       ]
      },
      {
       "output_type": "stream",
       "stream": "stderr",
       "text": [
        "."
       ]
      },
      {
       "output_type": "stream",
       "stream": "stderr",
       "text": [
        "."
       ]
      },
      {
       "output_type": "stream",
       "stream": "stderr",
       "text": [
        "."
       ]
      },
      {
       "output_type": "stream",
       "stream": "stderr",
       "text": [
        "."
       ]
      },
      {
       "output_type": "stream",
       "stream": "stderr",
       "text": [
        "."
       ]
      },
      {
       "output_type": "stream",
       "stream": "stderr",
       "text": [
        "."
       ]
      },
      {
       "output_type": "stream",
       "stream": "stderr",
       "text": [
        "."
       ]
      },
      {
       "output_type": "stream",
       "stream": "stderr",
       "text": [
        "."
       ]
      },
      {
       "output_type": "stream",
       "stream": "stderr",
       "text": [
        "."
       ]
      },
      {
       "output_type": "stream",
       "stream": "stderr",
       "text": [
        "."
       ]
      },
      {
       "output_type": "stream",
       "stream": "stderr",
       "text": [
        "."
       ]
      },
      {
       "output_type": "stream",
       "stream": "stderr",
       "text": [
        "."
       ]
      },
      {
       "output_type": "stream",
       "stream": "stderr",
       "text": [
        "."
       ]
      },
      {
       "output_type": "stream",
       "stream": "stderr",
       "text": [
        "."
       ]
      },
      {
       "output_type": "stream",
       "stream": "stderr",
       "text": [
        "."
       ]
      },
      {
       "output_type": "stream",
       "stream": "stderr",
       "text": [
        "."
       ]
      },
      {
       "output_type": "stream",
       "stream": "stderr",
       "text": [
        "."
       ]
      },
      {
       "output_type": "stream",
       "stream": "stderr",
       "text": [
        "."
       ]
      },
      {
       "output_type": "stream",
       "stream": "stderr",
       "text": [
        "."
       ]
      },
      {
       "output_type": "stream",
       "stream": "stderr",
       "text": [
        "."
       ]
      },
      {
       "output_type": "stream",
       "stream": "stderr",
       "text": [
        "."
       ]
      },
      {
       "output_type": "stream",
       "stream": "stderr",
       "text": [
        "."
       ]
      },
      {
       "output_type": "stream",
       "stream": "stderr",
       "text": [
        "."
       ]
      },
      {
       "output_type": "stream",
       "stream": "stderr",
       "text": [
        "."
       ]
      },
      {
       "output_type": "stream",
       "stream": "stderr",
       "text": [
        "."
       ]
      },
      {
       "output_type": "stream",
       "stream": "stderr",
       "text": [
        "."
       ]
      },
      {
       "output_type": "stream",
       "stream": "stderr",
       "text": [
        "."
       ]
      },
      {
       "output_type": "stream",
       "stream": "stderr",
       "text": [
        "."
       ]
      },
      {
       "output_type": "stream",
       "stream": "stderr",
       "text": [
        "."
       ]
      },
      {
       "output_type": "stream",
       "stream": "stderr",
       "text": [
        "."
       ]
      },
      {
       "output_type": "stream",
       "stream": "stderr",
       "text": [
        "."
       ]
      },
      {
       "output_type": "stream",
       "stream": "stderr",
       "text": [
        "."
       ]
      },
      {
       "output_type": "stream",
       "stream": "stderr",
       "text": [
        "."
       ]
      },
      {
       "output_type": "stream",
       "stream": "stderr",
       "text": [
        "."
       ]
      },
      {
       "output_type": "stream",
       "stream": "stderr",
       "text": [
        "."
       ]
      },
      {
       "output_type": "stream",
       "stream": "stderr",
       "text": [
        "."
       ]
      },
      {
       "output_type": "stream",
       "stream": "stderr",
       "text": [
        "."
       ]
      },
      {
       "output_type": "stream",
       "stream": "stderr",
       "text": [
        "."
       ]
      },
      {
       "output_type": "stream",
       "stream": "stderr",
       "text": [
        "."
       ]
      },
      {
       "output_type": "stream",
       "stream": "stderr",
       "text": [
        "."
       ]
      },
      {
       "output_type": "stream",
       "stream": "stderr",
       "text": [
        "."
       ]
      },
      {
       "output_type": "stream",
       "stream": "stderr",
       "text": [
        "."
       ]
      },
      {
       "output_type": "stream",
       "stream": "stderr",
       "text": [
        "."
       ]
      },
      {
       "output_type": "stream",
       "stream": "stderr",
       "text": [
        "."
       ]
      },
      {
       "output_type": "stream",
       "stream": "stderr",
       "text": [
        "."
       ]
      },
      {
       "output_type": "stream",
       "stream": "stderr",
       "text": [
        "."
       ]
      },
      {
       "output_type": "stream",
       "stream": "stderr",
       "text": [
        "."
       ]
      },
      {
       "output_type": "stream",
       "stream": "stderr",
       "text": [
        "."
       ]
      },
      {
       "output_type": "stream",
       "stream": "stderr",
       "text": [
        "."
       ]
      },
      {
       "output_type": "stream",
       "stream": "stderr",
       "text": [
        "."
       ]
      },
      {
       "output_type": "stream",
       "stream": "stderr",
       "text": [
        "."
       ]
      },
      {
       "output_type": "stream",
       "stream": "stderr",
       "text": [
        "."
       ]
      },
      {
       "output_type": "stream",
       "stream": "stderr",
       "text": [
        "."
       ]
      },
      {
       "output_type": "stream",
       "stream": "stderr",
       "text": [
        "."
       ]
      },
      {
       "output_type": "stream",
       "stream": "stderr",
       "text": [
        "."
       ]
      },
      {
       "output_type": "stream",
       "stream": "stderr",
       "text": [
        "."
       ]
      },
      {
       "output_type": "stream",
       "stream": "stderr",
       "text": [
        "."
       ]
      },
      {
       "output_type": "stream",
       "stream": "stderr",
       "text": [
        "."
       ]
      },
      {
       "output_type": "stream",
       "stream": "stderr",
       "text": [
        "."
       ]
      },
      {
       "output_type": "stream",
       "stream": "stderr",
       "text": [
        "."
       ]
      },
      {
       "output_type": "stream",
       "stream": "stderr",
       "text": [
        "."
       ]
      },
      {
       "output_type": "stream",
       "stream": "stderr",
       "text": [
        "."
       ]
      },
      {
       "output_type": "stream",
       "stream": "stderr",
       "text": [
        "."
       ]
      },
      {
       "output_type": "stream",
       "stream": "stderr",
       "text": [
        "."
       ]
      },
      {
       "output_type": "stream",
       "stream": "stderr",
       "text": [
        "."
       ]
      },
      {
       "output_type": "stream",
       "stream": "stderr",
       "text": [
        "."
       ]
      },
      {
       "output_type": "stream",
       "stream": "stderr",
       "text": [
        "."
       ]
      },
      {
       "output_type": "stream",
       "stream": "stderr",
       "text": [
        "."
       ]
      },
      {
       "output_type": "stream",
       "stream": "stderr",
       "text": [
        "."
       ]
      },
      {
       "output_type": "stream",
       "stream": "stderr",
       "text": [
        "."
       ]
      },
      {
       "output_type": "stream",
       "stream": "stderr",
       "text": [
        "."
       ]
      },
      {
       "output_type": "stream",
       "stream": "stderr",
       "text": [
        "."
       ]
      },
      {
       "output_type": "stream",
       "stream": "stderr",
       "text": [
        "."
       ]
      },
      {
       "output_type": "stream",
       "stream": "stderr",
       "text": [
        "."
       ]
      },
      {
       "output_type": "stream",
       "stream": "stderr",
       "text": [
        "."
       ]
      },
      {
       "output_type": "stream",
       "stream": "stderr",
       "text": [
        "."
       ]
      },
      {
       "output_type": "stream",
       "stream": "stderr",
       "text": [
        "."
       ]
      },
      {
       "output_type": "stream",
       "stream": "stderr",
       "text": [
        "."
       ]
      },
      {
       "output_type": "stream",
       "stream": "stderr",
       "text": [
        "."
       ]
      },
      {
       "output_type": "stream",
       "stream": "stderr",
       "text": [
        "."
       ]
      },
      {
       "output_type": "stream",
       "stream": "stderr",
       "text": [
        "."
       ]
      },
      {
       "output_type": "stream",
       "stream": "stderr",
       "text": [
        "."
       ]
      },
      {
       "output_type": "stream",
       "stream": "stderr",
       "text": [
        "."
       ]
      },
      {
       "output_type": "stream",
       "stream": "stderr",
       "text": [
        "."
       ]
      },
      {
       "output_type": "stream",
       "stream": "stderr",
       "text": [
        "."
       ]
      },
      {
       "output_type": "stream",
       "stream": "stderr",
       "text": [
        "."
       ]
      },
      {
       "output_type": "stream",
       "stream": "stderr",
       "text": [
        "."
       ]
      },
      {
       "output_type": "stream",
       "stream": "stderr",
       "text": [
        "."
       ]
      },
      {
       "output_type": "stream",
       "stream": "stderr",
       "text": [
        "."
       ]
      },
      {
       "output_type": "stream",
       "stream": "stderr",
       "text": [
        "."
       ]
      },
      {
       "output_type": "stream",
       "stream": "stderr",
       "text": [
        "."
       ]
      },
      {
       "output_type": "stream",
       "stream": "stderr",
       "text": [
        "."
       ]
      },
      {
       "output_type": "stream",
       "stream": "stderr",
       "text": [
        "."
       ]
      },
      {
       "output_type": "stream",
       "stream": "stderr",
       "text": [
        "."
       ]
      },
      {
       "output_type": "stream",
       "stream": "stderr",
       "text": [
        "."
       ]
      },
      {
       "output_type": "stream",
       "stream": "stderr",
       "text": [
        "."
       ]
      },
      {
       "output_type": "stream",
       "stream": "stderr",
       "text": [
        "."
       ]
      },
      {
       "output_type": "stream",
       "stream": "stderr",
       "text": [
        "."
       ]
      },
      {
       "output_type": "stream",
       "stream": "stderr",
       "text": [
        "."
       ]
      },
      {
       "output_type": "stream",
       "stream": "stderr",
       "text": [
        "."
       ]
      },
      {
       "output_type": "stream",
       "stream": "stderr",
       "text": [
        "."
       ]
      },
      {
       "output_type": "stream",
       "stream": "stderr",
       "text": [
        "."
       ]
      },
      {
       "output_type": "stream",
       "stream": "stderr",
       "text": [
        "."
       ]
      },
      {
       "output_type": "stream",
       "stream": "stderr",
       "text": [
        "."
       ]
      },
      {
       "output_type": "stream",
       "stream": "stderr",
       "text": [
        "."
       ]
      },
      {
       "output_type": "stream",
       "stream": "stderr",
       "text": [
        "."
       ]
      },
      {
       "output_type": "stream",
       "stream": "stderr",
       "text": [
        "."
       ]
      },
      {
       "output_type": "stream",
       "stream": "stderr",
       "text": [
        "."
       ]
      },
      {
       "output_type": "stream",
       "stream": "stderr",
       "text": [
        "."
       ]
      },
      {
       "output_type": "stream",
       "stream": "stderr",
       "text": [
        "."
       ]
      },
      {
       "output_type": "stream",
       "stream": "stderr",
       "text": [
        "."
       ]
      },
      {
       "output_type": "stream",
       "stream": "stderr",
       "text": [
        "."
       ]
      },
      {
       "output_type": "stream",
       "stream": "stderr",
       "text": [
        "."
       ]
      },
      {
       "output_type": "stream",
       "stream": "stderr",
       "text": [
        "."
       ]
      },
      {
       "output_type": "stream",
       "stream": "stderr",
       "text": [
        "."
       ]
      },
      {
       "output_type": "stream",
       "stream": "stderr",
       "text": [
        "."
       ]
      },
      {
       "output_type": "stream",
       "stream": "stderr",
       "text": [
        "."
       ]
      },
      {
       "output_type": "stream",
       "stream": "stderr",
       "text": [
        "."
       ]
      },
      {
       "output_type": "stream",
       "stream": "stderr",
       "text": [
        "."
       ]
      },
      {
       "output_type": "stream",
       "stream": "stderr",
       "text": [
        "."
       ]
      },
      {
       "output_type": "stream",
       "stream": "stderr",
       "text": [
        "."
       ]
      },
      {
       "output_type": "stream",
       "stream": "stderr",
       "text": [
        "."
       ]
      },
      {
       "output_type": "stream",
       "stream": "stderr",
       "text": [
        "."
       ]
      },
      {
       "output_type": "stream",
       "stream": "stderr",
       "text": [
        "."
       ]
      },
      {
       "output_type": "stream",
       "stream": "stderr",
       "text": [
        "."
       ]
      },
      {
       "output_type": "stream",
       "stream": "stderr",
       "text": [
        "."
       ]
      },
      {
       "output_type": "stream",
       "stream": "stderr",
       "text": [
        "."
       ]
      },
      {
       "output_type": "stream",
       "stream": "stderr",
       "text": [
        "."
       ]
      },
      {
       "output_type": "stream",
       "stream": "stderr",
       "text": [
        "."
       ]
      },
      {
       "output_type": "stream",
       "stream": "stderr",
       "text": [
        "."
       ]
      },
      {
       "output_type": "stream",
       "stream": "stderr",
       "text": [
        "."
       ]
      },
      {
       "output_type": "stream",
       "stream": "stderr",
       "text": [
        "."
       ]
      },
      {
       "output_type": "stream",
       "stream": "stderr",
       "text": [
        "."
       ]
      },
      {
       "output_type": "stream",
       "stream": "stderr",
       "text": [
        "."
       ]
      },
      {
       "output_type": "stream",
       "stream": "stderr",
       "text": [
        "."
       ]
      },
      {
       "output_type": "stream",
       "stream": "stderr",
       "text": [
        "."
       ]
      },
      {
       "output_type": "stream",
       "stream": "stderr",
       "text": [
        "."
       ]
      },
      {
       "output_type": "stream",
       "stream": "stderr",
       "text": [
        "."
       ]
      },
      {
       "output_type": "stream",
       "stream": "stderr",
       "text": [
        "."
       ]
      },
      {
       "output_type": "stream",
       "stream": "stderr",
       "text": [
        "."
       ]
      },
      {
       "output_type": "stream",
       "stream": "stderr",
       "text": [
        "."
       ]
      },
      {
       "output_type": "stream",
       "stream": "stderr",
       "text": [
        "."
       ]
      },
      {
       "output_type": "stream",
       "stream": "stderr",
       "text": [
        "."
       ]
      },
      {
       "output_type": "stream",
       "stream": "stderr",
       "text": [
        "."
       ]
      },
      {
       "output_type": "stream",
       "stream": "stderr",
       "text": [
        "."
       ]
      },
      {
       "output_type": "stream",
       "stream": "stderr",
       "text": [
        "."
       ]
      },
      {
       "output_type": "stream",
       "stream": "stderr",
       "text": [
        "."
       ]
      },
      {
       "output_type": "stream",
       "stream": "stderr",
       "text": [
        "."
       ]
      },
      {
       "output_type": "stream",
       "stream": "stderr",
       "text": [
        "."
       ]
      },
      {
       "output_type": "stream",
       "stream": "stderr",
       "text": [
        "."
       ]
      },
      {
       "output_type": "stream",
       "stream": "stderr",
       "text": [
        "."
       ]
      },
      {
       "output_type": "stream",
       "stream": "stderr",
       "text": [
        "."
       ]
      },
      {
       "output_type": "stream",
       "stream": "stderr",
       "text": [
        "."
       ]
      },
      {
       "output_type": "stream",
       "stream": "stderr",
       "text": [
        "."
       ]
      },
      {
       "output_type": "stream",
       "stream": "stderr",
       "text": [
        "."
       ]
      },
      {
       "output_type": "stream",
       "stream": "stderr",
       "text": [
        "."
       ]
      },
      {
       "output_type": "stream",
       "stream": "stderr",
       "text": [
        "."
       ]
      },
      {
       "output_type": "stream",
       "stream": "stderr",
       "text": [
        "."
       ]
      },
      {
       "output_type": "stream",
       "stream": "stderr",
       "text": [
        "."
       ]
      },
      {
       "output_type": "stream",
       "stream": "stderr",
       "text": [
        "."
       ]
      },
      {
       "output_type": "stream",
       "stream": "stderr",
       "text": [
        "."
       ]
      },
      {
       "output_type": "stream",
       "stream": "stderr",
       "text": [
        "."
       ]
      },
      {
       "output_type": "stream",
       "stream": "stderr",
       "text": [
        "."
       ]
      },
      {
       "output_type": "stream",
       "stream": "stderr",
       "text": [
        "."
       ]
      },
      {
       "output_type": "stream",
       "stream": "stderr",
       "text": [
        "."
       ]
      },
      {
       "output_type": "stream",
       "stream": "stderr",
       "text": [
        "."
       ]
      },
      {
       "output_type": "stream",
       "stream": "stderr",
       "text": [
        "."
       ]
      },
      {
       "output_type": "stream",
       "stream": "stderr",
       "text": [
        "."
       ]
      },
      {
       "output_type": "stream",
       "stream": "stderr",
       "text": [
        "."
       ]
      },
      {
       "output_type": "stream",
       "stream": "stderr",
       "text": [
        "."
       ]
      },
      {
       "output_type": "stream",
       "stream": "stderr",
       "text": [
        "."
       ]
      },
      {
       "output_type": "stream",
       "stream": "stderr",
       "text": [
        "."
       ]
      },
      {
       "output_type": "stream",
       "stream": "stderr",
       "text": [
        "."
       ]
      },
      {
       "output_type": "stream",
       "stream": "stderr",
       "text": [
        "."
       ]
      },
      {
       "output_type": "stream",
       "stream": "stderr",
       "text": [
        "."
       ]
      },
      {
       "output_type": "stream",
       "stream": "stderr",
       "text": [
        "."
       ]
      },
      {
       "output_type": "stream",
       "stream": "stderr",
       "text": [
        "."
       ]
      },
      {
       "output_type": "stream",
       "stream": "stderr",
       "text": [
        "."
       ]
      },
      {
       "output_type": "stream",
       "stream": "stderr",
       "text": [
        "."
       ]
      },
      {
       "output_type": "stream",
       "stream": "stderr",
       "text": [
        "."
       ]
      },
      {
       "output_type": "stream",
       "stream": "stderr",
       "text": [
        "."
       ]
      },
      {
       "output_type": "stream",
       "stream": "stderr",
       "text": [
        "."
       ]
      },
      {
       "output_type": "stream",
       "stream": "stderr",
       "text": [
        "."
       ]
      },
      {
       "output_type": "stream",
       "stream": "stderr",
       "text": [
        "."
       ]
      },
      {
       "output_type": "stream",
       "stream": "stderr",
       "text": [
        "."
       ]
      },
      {
       "output_type": "stream",
       "stream": "stderr",
       "text": [
        "."
       ]
      },
      {
       "output_type": "stream",
       "stream": "stderr",
       "text": [
        "."
       ]
      },
      {
       "output_type": "stream",
       "stream": "stderr",
       "text": [
        "."
       ]
      },
      {
       "output_type": "stream",
       "stream": "stderr",
       "text": [
        "."
       ]
      },
      {
       "output_type": "stream",
       "stream": "stderr",
       "text": [
        "."
       ]
      },
      {
       "output_type": "stream",
       "stream": "stderr",
       "text": [
        "."
       ]
      },
      {
       "output_type": "stream",
       "stream": "stderr",
       "text": [
        "."
       ]
      },
      {
       "output_type": "stream",
       "stream": "stderr",
       "text": [
        "."
       ]
      },
      {
       "output_type": "stream",
       "stream": "stderr",
       "text": [
        "."
       ]
      },
      {
       "output_type": "stream",
       "stream": "stderr",
       "text": [
        "."
       ]
      },
      {
       "output_type": "stream",
       "stream": "stderr",
       "text": [
        "."
       ]
      },
      {
       "output_type": "stream",
       "stream": "stderr",
       "text": [
        "."
       ]
      },
      {
       "output_type": "stream",
       "stream": "stderr",
       "text": [
        "."
       ]
      },
      {
       "output_type": "stream",
       "stream": "stderr",
       "text": [
        "."
       ]
      },
      {
       "output_type": "stream",
       "stream": "stderr",
       "text": [
        "."
       ]
      },
      {
       "output_type": "stream",
       "stream": "stderr",
       "text": [
        "."
       ]
      },
      {
       "output_type": "stream",
       "stream": "stderr",
       "text": [
        "."
       ]
      },
      {
       "output_type": "stream",
       "stream": "stderr",
       "text": [
        "."
       ]
      },
      {
       "output_type": "stream",
       "stream": "stderr",
       "text": [
        "."
       ]
      },
      {
       "output_type": "stream",
       "stream": "stderr",
       "text": [
        "."
       ]
      },
      {
       "output_type": "stream",
       "stream": "stderr",
       "text": [
        "."
       ]
      },
      {
       "output_type": "stream",
       "stream": "stderr",
       "text": [
        "."
       ]
      },
      {
       "output_type": "stream",
       "stream": "stderr",
       "text": [
        "."
       ]
      },
      {
       "output_type": "stream",
       "stream": "stderr",
       "text": [
        "."
       ]
      },
      {
       "output_type": "stream",
       "stream": "stderr",
       "text": [
        "."
       ]
      },
      {
       "output_type": "stream",
       "stream": "stderr",
       "text": [
        "."
       ]
      },
      {
       "output_type": "stream",
       "stream": "stderr",
       "text": [
        "."
       ]
      },
      {
       "output_type": "stream",
       "stream": "stderr",
       "text": [
        "."
       ]
      },
      {
       "output_type": "stream",
       "stream": "stderr",
       "text": [
        "."
       ]
      },
      {
       "output_type": "stream",
       "stream": "stderr",
       "text": [
        "."
       ]
      },
      {
       "output_type": "stream",
       "stream": "stderr",
       "text": [
        "."
       ]
      },
      {
       "output_type": "stream",
       "stream": "stderr",
       "text": [
        "."
       ]
      },
      {
       "output_type": "stream",
       "stream": "stderr",
       "text": [
        "."
       ]
      },
      {
       "output_type": "stream",
       "stream": "stderr",
       "text": [
        "."
       ]
      },
      {
       "output_type": "stream",
       "stream": "stderr",
       "text": [
        "."
       ]
      },
      {
       "output_type": "stream",
       "stream": "stderr",
       "text": [
        "."
       ]
      },
      {
       "output_type": "stream",
       "stream": "stderr",
       "text": [
        "."
       ]
      },
      {
       "output_type": "stream",
       "stream": "stderr",
       "text": [
        "."
       ]
      },
      {
       "output_type": "stream",
       "stream": "stderr",
       "text": [
        "."
       ]
      },
      {
       "output_type": "stream",
       "stream": "stderr",
       "text": [
        "."
       ]
      },
      {
       "output_type": "stream",
       "stream": "stderr",
       "text": [
        "."
       ]
      },
      {
       "output_type": "stream",
       "stream": "stderr",
       "text": [
        "."
       ]
      },
      {
       "output_type": "stream",
       "stream": "stderr",
       "text": [
        "."
       ]
      },
      {
       "output_type": "stream",
       "stream": "stderr",
       "text": [
        "."
       ]
      },
      {
       "output_type": "stream",
       "stream": "stderr",
       "text": [
        "."
       ]
      },
      {
       "output_type": "stream",
       "stream": "stderr",
       "text": [
        "."
       ]
      },
      {
       "output_type": "stream",
       "stream": "stderr",
       "text": [
        "."
       ]
      },
      {
       "output_type": "stream",
       "stream": "stderr",
       "text": [
        "."
       ]
      },
      {
       "output_type": "stream",
       "stream": "stderr",
       "text": [
        "."
       ]
      },
      {
       "output_type": "stream",
       "stream": "stderr",
       "text": [
        "."
       ]
      },
      {
       "output_type": "stream",
       "stream": "stderr",
       "text": [
        "."
       ]
      },
      {
       "output_type": "stream",
       "stream": "stderr",
       "text": [
        "."
       ]
      },
      {
       "output_type": "stream",
       "stream": "stderr",
       "text": [
        "."
       ]
      },
      {
       "output_type": "stream",
       "stream": "stderr",
       "text": [
        "."
       ]
      },
      {
       "output_type": "stream",
       "stream": "stderr",
       "text": [
        "."
       ]
      },
      {
       "output_type": "stream",
       "stream": "stderr",
       "text": [
        "."
       ]
      },
      {
       "output_type": "stream",
       "stream": "stderr",
       "text": [
        "."
       ]
      },
      {
       "output_type": "stream",
       "stream": "stderr",
       "text": [
        "."
       ]
      },
      {
       "output_type": "stream",
       "stream": "stderr",
       "text": [
        "."
       ]
      },
      {
       "output_type": "stream",
       "stream": "stderr",
       "text": [
        "."
       ]
      },
      {
       "output_type": "stream",
       "stream": "stderr",
       "text": [
        "."
       ]
      },
      {
       "output_type": "stream",
       "stream": "stderr",
       "text": [
        "."
       ]
      },
      {
       "output_type": "stream",
       "stream": "stderr",
       "text": [
        "."
       ]
      },
      {
       "output_type": "stream",
       "stream": "stderr",
       "text": [
        "."
       ]
      },
      {
       "output_type": "stream",
       "stream": "stderr",
       "text": [
        "."
       ]
      },
      {
       "output_type": "stream",
       "stream": "stderr",
       "text": [
        "."
       ]
      },
      {
       "output_type": "stream",
       "stream": "stderr",
       "text": [
        "."
       ]
      },
      {
       "output_type": "stream",
       "stream": "stderr",
       "text": [
        "."
       ]
      },
      {
       "output_type": "stream",
       "stream": "stderr",
       "text": [
        "."
       ]
      },
      {
       "output_type": "stream",
       "stream": "stderr",
       "text": [
        "."
       ]
      },
      {
       "output_type": "stream",
       "stream": "stderr",
       "text": [
        "."
       ]
      },
      {
       "output_type": "stream",
       "stream": "stderr",
       "text": [
        "."
       ]
      },
      {
       "output_type": "stream",
       "stream": "stderr",
       "text": [
        "."
       ]
      },
      {
       "output_type": "stream",
       "stream": "stderr",
       "text": [
        "."
       ]
      },
      {
       "output_type": "stream",
       "stream": "stderr",
       "text": [
        "."
       ]
      },
      {
       "output_type": "stream",
       "stream": "stderr",
       "text": [
        "."
       ]
      },
      {
       "output_type": "stream",
       "stream": "stderr",
       "text": [
        "."
       ]
      },
      {
       "output_type": "stream",
       "stream": "stderr",
       "text": [
        "."
       ]
      },
      {
       "output_type": "stream",
       "stream": "stderr",
       "text": [
        "."
       ]
      },
      {
       "output_type": "stream",
       "stream": "stderr",
       "text": [
        "."
       ]
      },
      {
       "output_type": "stream",
       "stream": "stderr",
       "text": [
        "."
       ]
      },
      {
       "output_type": "stream",
       "stream": "stderr",
       "text": [
        "."
       ]
      },
      {
       "output_type": "stream",
       "stream": "stderr",
       "text": [
        "."
       ]
      },
      {
       "output_type": "stream",
       "stream": "stderr",
       "text": [
        "."
       ]
      },
      {
       "output_type": "stream",
       "stream": "stderr",
       "text": [
        "."
       ]
      },
      {
       "output_type": "stream",
       "stream": "stderr",
       "text": [
        "."
       ]
      },
      {
       "output_type": "stream",
       "stream": "stderr",
       "text": [
        "."
       ]
      },
      {
       "output_type": "stream",
       "stream": "stderr",
       "text": [
        "."
       ]
      },
      {
       "output_type": "stream",
       "stream": "stderr",
       "text": [
        "."
       ]
      },
      {
       "output_type": "stream",
       "stream": "stderr",
       "text": [
        "."
       ]
      },
      {
       "output_type": "stream",
       "stream": "stderr",
       "text": [
        "."
       ]
      },
      {
       "output_type": "stream",
       "stream": "stderr",
       "text": [
        "."
       ]
      },
      {
       "output_type": "stream",
       "stream": "stderr",
       "text": [
        "."
       ]
      },
      {
       "output_type": "stream",
       "stream": "stderr",
       "text": [
        "."
       ]
      },
      {
       "output_type": "stream",
       "stream": "stderr",
       "text": [
        "."
       ]
      },
      {
       "output_type": "stream",
       "stream": "stderr",
       "text": [
        "."
       ]
      },
      {
       "output_type": "stream",
       "stream": "stderr",
       "text": [
        "."
       ]
      },
      {
       "output_type": "stream",
       "stream": "stderr",
       "text": [
        "."
       ]
      },
      {
       "output_type": "stream",
       "stream": "stderr",
       "text": [
        "."
       ]
      },
      {
       "output_type": "stream",
       "stream": "stderr",
       "text": [
        "."
       ]
      },
      {
       "output_type": "stream",
       "stream": "stderr",
       "text": [
        "."
       ]
      },
      {
       "output_type": "stream",
       "stream": "stderr",
       "text": [
        "."
       ]
      },
      {
       "output_type": "stream",
       "stream": "stderr",
       "text": [
        "."
       ]
      },
      {
       "output_type": "stream",
       "stream": "stderr",
       "text": [
        "."
       ]
      },
      {
       "output_type": "stream",
       "stream": "stderr",
       "text": [
        "."
       ]
      },
      {
       "output_type": "stream",
       "stream": "stderr",
       "text": [
        "."
       ]
      },
      {
       "output_type": "stream",
       "stream": "stderr",
       "text": [
        "."
       ]
      },
      {
       "output_type": "stream",
       "stream": "stderr",
       "text": [
        "."
       ]
      },
      {
       "output_type": "stream",
       "stream": "stderr",
       "text": [
        "."
       ]
      },
      {
       "output_type": "stream",
       "stream": "stderr",
       "text": [
        "."
       ]
      },
      {
       "output_type": "stream",
       "stream": "stderr",
       "text": [
        "."
       ]
      },
      {
       "output_type": "stream",
       "stream": "stderr",
       "text": [
        "."
       ]
      },
      {
       "output_type": "stream",
       "stream": "stderr",
       "text": [
        "."
       ]
      },
      {
       "output_type": "stream",
       "stream": "stderr",
       "text": [
        "."
       ]
      },
      {
       "output_type": "stream",
       "stream": "stderr",
       "text": [
        "."
       ]
      },
      {
       "output_type": "stream",
       "stream": "stderr",
       "text": [
        "."
       ]
      },
      {
       "output_type": "stream",
       "stream": "stderr",
       "text": [
        "."
       ]
      },
      {
       "output_type": "stream",
       "stream": "stderr",
       "text": [
        "."
       ]
      },
      {
       "output_type": "stream",
       "stream": "stderr",
       "text": [
        "."
       ]
      },
      {
       "output_type": "stream",
       "stream": "stderr",
       "text": [
        "."
       ]
      },
      {
       "output_type": "stream",
       "stream": "stderr",
       "text": [
        "."
       ]
      },
      {
       "output_type": "stream",
       "stream": "stderr",
       "text": [
        "."
       ]
      },
      {
       "output_type": "stream",
       "stream": "stderr",
       "text": [
        "."
       ]
      },
      {
       "output_type": "stream",
       "stream": "stderr",
       "text": [
        "."
       ]
      },
      {
       "output_type": "stream",
       "stream": "stderr",
       "text": [
        "."
       ]
      },
      {
       "output_type": "stream",
       "stream": "stderr",
       "text": [
        "."
       ]
      },
      {
       "output_type": "stream",
       "stream": "stderr",
       "text": [
        "."
       ]
      },
      {
       "output_type": "stream",
       "stream": "stderr",
       "text": [
        "."
       ]
      },
      {
       "output_type": "stream",
       "stream": "stderr",
       "text": [
        "."
       ]
      },
      {
       "output_type": "stream",
       "stream": "stderr",
       "text": [
        "."
       ]
      },
      {
       "output_type": "stream",
       "stream": "stderr",
       "text": [
        "."
       ]
      },
      {
       "output_type": "stream",
       "stream": "stderr",
       "text": [
        "."
       ]
      },
      {
       "output_type": "stream",
       "stream": "stderr",
       "text": [
        "."
       ]
      },
      {
       "output_type": "stream",
       "stream": "stderr",
       "text": [
        "."
       ]
      },
      {
       "output_type": "stream",
       "stream": "stderr",
       "text": [
        "."
       ]
      },
      {
       "output_type": "stream",
       "stream": "stderr",
       "text": [
        "."
       ]
      },
      {
       "output_type": "stream",
       "stream": "stderr",
       "text": [
        "."
       ]
      },
      {
       "output_type": "stream",
       "stream": "stderr",
       "text": [
        "."
       ]
      },
      {
       "output_type": "stream",
       "stream": "stderr",
       "text": [
        "."
       ]
      },
      {
       "output_type": "stream",
       "stream": "stderr",
       "text": [
        "."
       ]
      },
      {
       "output_type": "stream",
       "stream": "stderr",
       "text": [
        "."
       ]
      },
      {
       "output_type": "stream",
       "stream": "stderr",
       "text": [
        "."
       ]
      },
      {
       "output_type": "stream",
       "stream": "stderr",
       "text": [
        "."
       ]
      },
      {
       "output_type": "stream",
       "stream": "stderr",
       "text": [
        "."
       ]
      },
      {
       "output_type": "stream",
       "stream": "stderr",
       "text": [
        "."
       ]
      },
      {
       "output_type": "stream",
       "stream": "stderr",
       "text": [
        "."
       ]
      },
      {
       "output_type": "stream",
       "stream": "stderr",
       "text": [
        "."
       ]
      },
      {
       "output_type": "stream",
       "stream": "stderr",
       "text": [
        "."
       ]
      },
      {
       "output_type": "stream",
       "stream": "stderr",
       "text": [
        "."
       ]
      },
      {
       "output_type": "stream",
       "stream": "stderr",
       "text": [
        "."
       ]
      },
      {
       "output_type": "stream",
       "stream": "stderr",
       "text": [
        "."
       ]
      },
      {
       "output_type": "stream",
       "stream": "stderr",
       "text": [
        "."
       ]
      },
      {
       "output_type": "stream",
       "stream": "stderr",
       "text": [
        "."
       ]
      },
      {
       "output_type": "stream",
       "stream": "stderr",
       "text": [
        "."
       ]
      },
      {
       "output_type": "stream",
       "stream": "stderr",
       "text": [
        "."
       ]
      },
      {
       "output_type": "stream",
       "stream": "stderr",
       "text": [
        "."
       ]
      },
      {
       "output_type": "stream",
       "stream": "stderr",
       "text": [
        "."
       ]
      },
      {
       "output_type": "stream",
       "stream": "stderr",
       "text": [
        "."
       ]
      },
      {
       "output_type": "stream",
       "stream": "stderr",
       "text": [
        "."
       ]
      },
      {
       "output_type": "stream",
       "stream": "stderr",
       "text": [
        "."
       ]
      },
      {
       "output_type": "stream",
       "stream": "stderr",
       "text": [
        "."
       ]
      },
      {
       "output_type": "stream",
       "stream": "stderr",
       "text": [
        "."
       ]
      },
      {
       "output_type": "stream",
       "stream": "stderr",
       "text": [
        "."
       ]
      },
      {
       "output_type": "stream",
       "stream": "stderr",
       "text": [
        "."
       ]
      },
      {
       "output_type": "stream",
       "stream": "stderr",
       "text": [
        "."
       ]
      },
      {
       "output_type": "stream",
       "stream": "stderr",
       "text": [
        "."
       ]
      },
      {
       "output_type": "stream",
       "stream": "stderr",
       "text": [
        "."
       ]
      },
      {
       "output_type": "stream",
       "stream": "stderr",
       "text": [
        "."
       ]
      },
      {
       "output_type": "stream",
       "stream": "stderr",
       "text": [
        "."
       ]
      },
      {
       "output_type": "stream",
       "stream": "stderr",
       "text": [
        "."
       ]
      },
      {
       "output_type": "stream",
       "stream": "stderr",
       "text": [
        "."
       ]
      },
      {
       "output_type": "stream",
       "stream": "stderr",
       "text": [
        "."
       ]
      },
      {
       "output_type": "stream",
       "stream": "stderr",
       "text": [
        "."
       ]
      },
      {
       "output_type": "stream",
       "stream": "stderr",
       "text": [
        "."
       ]
      },
      {
       "output_type": "stream",
       "stream": "stderr",
       "text": [
        "."
       ]
      },
      {
       "output_type": "stream",
       "stream": "stderr",
       "text": [
        "."
       ]
      },
      {
       "output_type": "stream",
       "stream": "stderr",
       "text": [
        "."
       ]
      },
      {
       "output_type": "stream",
       "stream": "stderr",
       "text": [
        "."
       ]
      },
      {
       "output_type": "stream",
       "stream": "stderr",
       "text": [
        "."
       ]
      },
      {
       "output_type": "stream",
       "stream": "stderr",
       "text": [
        "."
       ]
      },
      {
       "output_type": "stream",
       "stream": "stderr",
       "text": [
        "."
       ]
      },
      {
       "output_type": "stream",
       "stream": "stderr",
       "text": [
        "."
       ]
      },
      {
       "output_type": "stream",
       "stream": "stderr",
       "text": [
        "."
       ]
      },
      {
       "output_type": "stream",
       "stream": "stderr",
       "text": [
        "."
       ]
      },
      {
       "output_type": "stream",
       "stream": "stderr",
       "text": [
        "."
       ]
      },
      {
       "output_type": "stream",
       "stream": "stderr",
       "text": [
        "."
       ]
      },
      {
       "output_type": "stream",
       "stream": "stderr",
       "text": [
        "."
       ]
      },
      {
       "output_type": "stream",
       "stream": "stderr",
       "text": [
        "."
       ]
      },
      {
       "output_type": "stream",
       "stream": "stderr",
       "text": [
        "."
       ]
      },
      {
       "output_type": "stream",
       "stream": "stderr",
       "text": [
        "."
       ]
      },
      {
       "output_type": "stream",
       "stream": "stderr",
       "text": [
        "."
       ]
      },
      {
       "output_type": "stream",
       "stream": "stderr",
       "text": [
        "."
       ]
      },
      {
       "output_type": "stream",
       "stream": "stderr",
       "text": [
        "."
       ]
      },
      {
       "output_type": "stream",
       "stream": "stderr",
       "text": [
        "."
       ]
      },
      {
       "output_type": "stream",
       "stream": "stderr",
       "text": [
        "."
       ]
      },
      {
       "output_type": "stream",
       "stream": "stderr",
       "text": [
        "."
       ]
      },
      {
       "output_type": "stream",
       "stream": "stderr",
       "text": [
        "."
       ]
      },
      {
       "output_type": "stream",
       "stream": "stderr",
       "text": [
        "."
       ]
      },
      {
       "output_type": "stream",
       "stream": "stderr",
       "text": [
        "."
       ]
      },
      {
       "output_type": "stream",
       "stream": "stderr",
       "text": [
        "."
       ]
      },
      {
       "output_type": "stream",
       "stream": "stderr",
       "text": [
        "."
       ]
      },
      {
       "output_type": "stream",
       "stream": "stderr",
       "text": [
        "."
       ]
      },
      {
       "output_type": "stream",
       "stream": "stderr",
       "text": [
        "."
       ]
      },
      {
       "output_type": "stream",
       "stream": "stderr",
       "text": [
        "."
       ]
      },
      {
       "output_type": "stream",
       "stream": "stderr",
       "text": [
        "."
       ]
      },
      {
       "output_type": "stream",
       "stream": "stderr",
       "text": [
        "."
       ]
      },
      {
       "output_type": "stream",
       "stream": "stderr",
       "text": [
        "."
       ]
      },
      {
       "output_type": "stream",
       "stream": "stderr",
       "text": [
        "."
       ]
      },
      {
       "output_type": "stream",
       "stream": "stderr",
       "text": [
        "."
       ]
      },
      {
       "output_type": "stream",
       "stream": "stderr",
       "text": [
        "."
       ]
      },
      {
       "output_type": "stream",
       "stream": "stderr",
       "text": [
        "."
       ]
      },
      {
       "output_type": "stream",
       "stream": "stderr",
       "text": [
        "."
       ]
      },
      {
       "output_type": "stream",
       "stream": "stderr",
       "text": [
        "."
       ]
      },
      {
       "output_type": "stream",
       "stream": "stderr",
       "text": [
        "."
       ]
      },
      {
       "output_type": "stream",
       "stream": "stderr",
       "text": [
        "."
       ]
      },
      {
       "output_type": "stream",
       "stream": "stderr",
       "text": [
        "."
       ]
      },
      {
       "output_type": "stream",
       "stream": "stderr",
       "text": [
        "."
       ]
      },
      {
       "output_type": "stream",
       "stream": "stderr",
       "text": [
        "."
       ]
      },
      {
       "output_type": "stream",
       "stream": "stderr",
       "text": [
        "."
       ]
      },
      {
       "output_type": "stream",
       "stream": "stderr",
       "text": [
        "."
       ]
      },
      {
       "output_type": "stream",
       "stream": "stderr",
       "text": [
        "."
       ]
      },
      {
       "output_type": "stream",
       "stream": "stderr",
       "text": [
        "."
       ]
      },
      {
       "output_type": "stream",
       "stream": "stderr",
       "text": [
        "."
       ]
      },
      {
       "output_type": "stream",
       "stream": "stderr",
       "text": [
        "."
       ]
      },
      {
       "output_type": "stream",
       "stream": "stderr",
       "text": [
        "."
       ]
      },
      {
       "output_type": "stream",
       "stream": "stderr",
       "text": [
        "."
       ]
      },
      {
       "output_type": "stream",
       "stream": "stderr",
       "text": [
        "."
       ]
      },
      {
       "output_type": "stream",
       "stream": "stderr",
       "text": [
        "."
       ]
      },
      {
       "output_type": "stream",
       "stream": "stderr",
       "text": [
        "."
       ]
      },
      {
       "output_type": "stream",
       "stream": "stderr",
       "text": [
        "."
       ]
      },
      {
       "output_type": "stream",
       "stream": "stderr",
       "text": [
        "."
       ]
      },
      {
       "output_type": "stream",
       "stream": "stderr",
       "text": [
        "."
       ]
      },
      {
       "output_type": "stream",
       "stream": "stderr",
       "text": [
        "."
       ]
      },
      {
       "output_type": "stream",
       "stream": "stderr",
       "text": [
        "."
       ]
      },
      {
       "output_type": "stream",
       "stream": "stderr",
       "text": [
        "."
       ]
      },
      {
       "output_type": "stream",
       "stream": "stderr",
       "text": [
        "."
       ]
      },
      {
       "output_type": "stream",
       "stream": "stderr",
       "text": [
        "."
       ]
      },
      {
       "output_type": "stream",
       "stream": "stderr",
       "text": [
        "."
       ]
      },
      {
       "output_type": "stream",
       "stream": "stderr",
       "text": [
        "."
       ]
      },
      {
       "output_type": "stream",
       "stream": "stderr",
       "text": [
        "."
       ]
      },
      {
       "output_type": "stream",
       "stream": "stderr",
       "text": [
        "."
       ]
      },
      {
       "output_type": "stream",
       "stream": "stderr",
       "text": [
        "."
       ]
      },
      {
       "output_type": "stream",
       "stream": "stderr",
       "text": [
        "."
       ]
      },
      {
       "output_type": "stream",
       "stream": "stderr",
       "text": [
        "."
       ]
      },
      {
       "output_type": "stream",
       "stream": "stderr",
       "text": [
        "."
       ]
      },
      {
       "output_type": "stream",
       "stream": "stderr",
       "text": [
        "."
       ]
      },
      {
       "output_type": "stream",
       "stream": "stderr",
       "text": [
        "."
       ]
      },
      {
       "output_type": "stream",
       "stream": "stderr",
       "text": [
        "."
       ]
      },
      {
       "output_type": "stream",
       "stream": "stderr",
       "text": [
        "."
       ]
      },
      {
       "output_type": "stream",
       "stream": "stderr",
       "text": [
        "."
       ]
      },
      {
       "output_type": "stream",
       "stream": "stderr",
       "text": [
        "."
       ]
      },
      {
       "output_type": "stream",
       "stream": "stderr",
       "text": [
        "."
       ]
      },
      {
       "output_type": "stream",
       "stream": "stderr",
       "text": [
        "."
       ]
      },
      {
       "output_type": "stream",
       "stream": "stderr",
       "text": [
        "."
       ]
      },
      {
       "output_type": "stream",
       "stream": "stderr",
       "text": [
        "."
       ]
      },
      {
       "output_type": "stream",
       "stream": "stderr",
       "text": [
        "."
       ]
      },
      {
       "output_type": "stream",
       "stream": "stderr",
       "text": [
        "."
       ]
      },
      {
       "output_type": "stream",
       "stream": "stderr",
       "text": [
        "."
       ]
      },
      {
       "output_type": "stream",
       "stream": "stderr",
       "text": [
        "."
       ]
      },
      {
       "output_type": "stream",
       "stream": "stderr",
       "text": [
        "."
       ]
      },
      {
       "output_type": "stream",
       "stream": "stderr",
       "text": [
        "."
       ]
      },
      {
       "output_type": "stream",
       "stream": "stderr",
       "text": [
        "."
       ]
      },
      {
       "output_type": "stream",
       "stream": "stderr",
       "text": [
        "."
       ]
      },
      {
       "output_type": "stream",
       "stream": "stderr",
       "text": [
        "."
       ]
      },
      {
       "output_type": "stream",
       "stream": "stderr",
       "text": [
        "."
       ]
      },
      {
       "output_type": "stream",
       "stream": "stderr",
       "text": [
        "."
       ]
      },
      {
       "output_type": "stream",
       "stream": "stderr",
       "text": [
        "."
       ]
      },
      {
       "output_type": "stream",
       "stream": "stderr",
       "text": [
        "."
       ]
      },
      {
       "output_type": "stream",
       "stream": "stderr",
       "text": [
        "."
       ]
      },
      {
       "output_type": "stream",
       "stream": "stderr",
       "text": [
        "."
       ]
      },
      {
       "output_type": "stream",
       "stream": "stderr",
       "text": [
        "."
       ]
      },
      {
       "output_type": "stream",
       "stream": "stderr",
       "text": [
        "."
       ]
      },
      {
       "output_type": "stream",
       "stream": "stderr",
       "text": [
        "."
       ]
      },
      {
       "output_type": "stream",
       "stream": "stderr",
       "text": [
        "."
       ]
      },
      {
       "output_type": "stream",
       "stream": "stderr",
       "text": [
        "."
       ]
      },
      {
       "output_type": "stream",
       "stream": "stderr",
       "text": [
        "."
       ]
      },
      {
       "output_type": "stream",
       "stream": "stderr",
       "text": [
        "."
       ]
      },
      {
       "output_type": "stream",
       "stream": "stderr",
       "text": [
        "."
       ]
      },
      {
       "output_type": "stream",
       "stream": "stderr",
       "text": [
        "."
       ]
      },
      {
       "output_type": "stream",
       "stream": "stderr",
       "text": [
        "."
       ]
      },
      {
       "output_type": "stream",
       "stream": "stderr",
       "text": [
        "."
       ]
      },
      {
       "output_type": "stream",
       "stream": "stderr",
       "text": [
        "."
       ]
      },
      {
       "output_type": "stream",
       "stream": "stderr",
       "text": [
        "."
       ]
      },
      {
       "output_type": "stream",
       "stream": "stderr",
       "text": [
        "."
       ]
      },
      {
       "output_type": "stream",
       "stream": "stderr",
       "text": [
        "."
       ]
      },
      {
       "output_type": "stream",
       "stream": "stderr",
       "text": [
        "."
       ]
      },
      {
       "output_type": "stream",
       "stream": "stderr",
       "text": [
        "."
       ]
      },
      {
       "output_type": "stream",
       "stream": "stderr",
       "text": [
        "."
       ]
      },
      {
       "output_type": "stream",
       "stream": "stderr",
       "text": [
        "."
       ]
      },
      {
       "output_type": "stream",
       "stream": "stderr",
       "text": [
        "."
       ]
      },
      {
       "output_type": "stream",
       "stream": "stderr",
       "text": [
        "."
       ]
      },
      {
       "output_type": "stream",
       "stream": "stderr",
       "text": [
        "."
       ]
      },
      {
       "output_type": "stream",
       "stream": "stderr",
       "text": [
        "."
       ]
      },
      {
       "output_type": "stream",
       "stream": "stderr",
       "text": [
        "."
       ]
      },
      {
       "output_type": "stream",
       "stream": "stderr",
       "text": [
        "."
       ]
      },
      {
       "output_type": "stream",
       "stream": "stderr",
       "text": [
        "."
       ]
      },
      {
       "output_type": "stream",
       "stream": "stderr",
       "text": [
        "."
       ]
      },
      {
       "output_type": "stream",
       "stream": "stderr",
       "text": [
        "."
       ]
      },
      {
       "output_type": "stream",
       "stream": "stderr",
       "text": [
        "."
       ]
      },
      {
       "output_type": "stream",
       "stream": "stderr",
       "text": [
        "."
       ]
      },
      {
       "output_type": "stream",
       "stream": "stderr",
       "text": [
        "."
       ]
      },
      {
       "output_type": "stream",
       "stream": "stderr",
       "text": [
        "."
       ]
      },
      {
       "output_type": "stream",
       "stream": "stderr",
       "text": [
        "."
       ]
      },
      {
       "output_type": "stream",
       "stream": "stderr",
       "text": [
        "."
       ]
      },
      {
       "output_type": "stream",
       "stream": "stderr",
       "text": [
        "."
       ]
      },
      {
       "output_type": "stream",
       "stream": "stderr",
       "text": [
        "."
       ]
      },
      {
       "output_type": "stream",
       "stream": "stderr",
       "text": [
        "."
       ]
      },
      {
       "output_type": "stream",
       "stream": "stderr",
       "text": [
        "."
       ]
      },
      {
       "output_type": "stream",
       "stream": "stderr",
       "text": [
        "."
       ]
      },
      {
       "output_type": "stream",
       "stream": "stderr",
       "text": [
        "."
       ]
      },
      {
       "output_type": "stream",
       "stream": "stderr",
       "text": [
        "."
       ]
      },
      {
       "output_type": "stream",
       "stream": "stderr",
       "text": [
        "."
       ]
      },
      {
       "output_type": "stream",
       "stream": "stderr",
       "text": [
        "."
       ]
      },
      {
       "output_type": "stream",
       "stream": "stderr",
       "text": [
        "."
       ]
      },
      {
       "output_type": "stream",
       "stream": "stderr",
       "text": [
        "."
       ]
      },
      {
       "output_type": "stream",
       "stream": "stderr",
       "text": [
        "."
       ]
      },
      {
       "output_type": "stream",
       "stream": "stderr",
       "text": [
        "."
       ]
      },
      {
       "output_type": "stream",
       "stream": "stderr",
       "text": [
        "."
       ]
      },
      {
       "output_type": "stream",
       "stream": "stderr",
       "text": [
        "."
       ]
      },
      {
       "output_type": "stream",
       "stream": "stderr",
       "text": [
        "."
       ]
      },
      {
       "output_type": "stream",
       "stream": "stderr",
       "text": [
        "."
       ]
      },
      {
       "output_type": "stream",
       "stream": "stderr",
       "text": [
        "."
       ]
      },
      {
       "output_type": "stream",
       "stream": "stderr",
       "text": [
        "."
       ]
      },
      {
       "output_type": "stream",
       "stream": "stderr",
       "text": [
        "."
       ]
      },
      {
       "output_type": "stream",
       "stream": "stderr",
       "text": [
        "."
       ]
      },
      {
       "output_type": "stream",
       "stream": "stderr",
       "text": [
        "."
       ]
      },
      {
       "output_type": "stream",
       "stream": "stderr",
       "text": [
        "."
       ]
      },
      {
       "output_type": "stream",
       "stream": "stderr",
       "text": [
        "."
       ]
      },
      {
       "output_type": "stream",
       "stream": "stderr",
       "text": [
        "."
       ]
      },
      {
       "output_type": "stream",
       "stream": "stderr",
       "text": [
        "."
       ]
      },
      {
       "output_type": "stream",
       "stream": "stderr",
       "text": [
        "."
       ]
      },
      {
       "output_type": "stream",
       "stream": "stderr",
       "text": [
        "."
       ]
      },
      {
       "output_type": "stream",
       "stream": "stderr",
       "text": [
        "."
       ]
      },
      {
       "output_type": "stream",
       "stream": "stderr",
       "text": [
        "."
       ]
      },
      {
       "output_type": "stream",
       "stream": "stderr",
       "text": [
        "."
       ]
      },
      {
       "output_type": "stream",
       "stream": "stderr",
       "text": [
        "."
       ]
      },
      {
       "output_type": "stream",
       "stream": "stderr",
       "text": [
        "."
       ]
      },
      {
       "output_type": "stream",
       "stream": "stderr",
       "text": [
        "."
       ]
      },
      {
       "output_type": "stream",
       "stream": "stderr",
       "text": [
        "."
       ]
      },
      {
       "output_type": "stream",
       "stream": "stderr",
       "text": [
        "."
       ]
      },
      {
       "output_type": "stream",
       "stream": "stderr",
       "text": [
        "."
       ]
      },
      {
       "output_type": "stream",
       "stream": "stderr",
       "text": [
        "."
       ]
      },
      {
       "output_type": "stream",
       "stream": "stderr",
       "text": [
        "."
       ]
      },
      {
       "output_type": "stream",
       "stream": "stderr",
       "text": [
        "."
       ]
      },
      {
       "output_type": "stream",
       "stream": "stderr",
       "text": [
        "."
       ]
      },
      {
       "output_type": "stream",
       "stream": "stderr",
       "text": [
        "."
       ]
      },
      {
       "output_type": "stream",
       "stream": "stderr",
       "text": [
        "."
       ]
      },
      {
       "output_type": "stream",
       "stream": "stderr",
       "text": [
        "."
       ]
      },
      {
       "output_type": "stream",
       "stream": "stderr",
       "text": [
        "."
       ]
      },
      {
       "output_type": "stream",
       "stream": "stderr",
       "text": [
        "."
       ]
      },
      {
       "output_type": "stream",
       "stream": "stderr",
       "text": [
        "."
       ]
      },
      {
       "output_type": "stream",
       "stream": "stderr",
       "text": [
        "."
       ]
      },
      {
       "output_type": "stream",
       "stream": "stderr",
       "text": [
        "."
       ]
      },
      {
       "output_type": "stream",
       "stream": "stderr",
       "text": [
        "."
       ]
      },
      {
       "output_type": "stream",
       "stream": "stderr",
       "text": [
        "."
       ]
      },
      {
       "output_type": "stream",
       "stream": "stderr",
       "text": [
        "."
       ]
      },
      {
       "output_type": "stream",
       "stream": "stderr",
       "text": [
        "."
       ]
      },
      {
       "output_type": "stream",
       "stream": "stderr",
       "text": [
        "."
       ]
      },
      {
       "output_type": "stream",
       "stream": "stderr",
       "text": [
        "."
       ]
      },
      {
       "output_type": "stream",
       "stream": "stderr",
       "text": [
        "."
       ]
      },
      {
       "output_type": "stream",
       "stream": "stderr",
       "text": [
        "."
       ]
      },
      {
       "output_type": "stream",
       "stream": "stderr",
       "text": [
        "."
       ]
      },
      {
       "output_type": "stream",
       "stream": "stderr",
       "text": [
        "."
       ]
      },
      {
       "output_type": "stream",
       "stream": "stderr",
       "text": [
        "."
       ]
      },
      {
       "output_type": "stream",
       "stream": "stderr",
       "text": [
        "."
       ]
      },
      {
       "output_type": "stream",
       "stream": "stderr",
       "text": [
        "."
       ]
      },
      {
       "output_type": "stream",
       "stream": "stderr",
       "text": [
        "."
       ]
      },
      {
       "output_type": "stream",
       "stream": "stderr",
       "text": [
        "."
       ]
      },
      {
       "output_type": "stream",
       "stream": "stderr",
       "text": [
        "."
       ]
      },
      {
       "output_type": "stream",
       "stream": "stderr",
       "text": [
        "."
       ]
      },
      {
       "output_type": "stream",
       "stream": "stderr",
       "text": [
        "."
       ]
      },
      {
       "output_type": "stream",
       "stream": "stderr",
       "text": [
        "."
       ]
      },
      {
       "output_type": "stream",
       "stream": "stderr",
       "text": [
        "."
       ]
      },
      {
       "output_type": "stream",
       "stream": "stderr",
       "text": [
        "."
       ]
      },
      {
       "output_type": "stream",
       "stream": "stderr",
       "text": [
        "."
       ]
      },
      {
       "output_type": "stream",
       "stream": "stderr",
       "text": [
        "."
       ]
      },
      {
       "output_type": "stream",
       "stream": "stderr",
       "text": [
        "."
       ]
      },
      {
       "output_type": "stream",
       "stream": "stderr",
       "text": [
        "."
       ]
      },
      {
       "output_type": "stream",
       "stream": "stderr",
       "text": [
        "."
       ]
      },
      {
       "output_type": "stream",
       "stream": "stderr",
       "text": [
        "."
       ]
      },
      {
       "output_type": "stream",
       "stream": "stderr",
       "text": [
        "."
       ]
      },
      {
       "output_type": "stream",
       "stream": "stderr",
       "text": [
        "."
       ]
      },
      {
       "output_type": "stream",
       "stream": "stderr",
       "text": [
        "."
       ]
      },
      {
       "output_type": "stream",
       "stream": "stderr",
       "text": [
        "."
       ]
      },
      {
       "output_type": "stream",
       "stream": "stderr",
       "text": [
        "."
       ]
      },
      {
       "output_type": "stream",
       "stream": "stderr",
       "text": [
        "."
       ]
      },
      {
       "output_type": "stream",
       "stream": "stderr",
       "text": [
        "."
       ]
      },
      {
       "output_type": "stream",
       "stream": "stderr",
       "text": [
        "."
       ]
      },
      {
       "output_type": "stream",
       "stream": "stderr",
       "text": [
        "."
       ]
      },
      {
       "output_type": "stream",
       "stream": "stderr",
       "text": [
        "."
       ]
      },
      {
       "output_type": "stream",
       "stream": "stderr",
       "text": [
        "."
       ]
      },
      {
       "output_type": "stream",
       "stream": "stderr",
       "text": [
        "."
       ]
      },
      {
       "output_type": "stream",
       "stream": "stderr",
       "text": [
        "."
       ]
      },
      {
       "output_type": "stream",
       "stream": "stderr",
       "text": [
        "."
       ]
      },
      {
       "output_type": "stream",
       "stream": "stderr",
       "text": [
        "."
       ]
      },
      {
       "output_type": "stream",
       "stream": "stderr",
       "text": [
        "."
       ]
      },
      {
       "output_type": "stream",
       "stream": "stderr",
       "text": [
        "."
       ]
      },
      {
       "output_type": "stream",
       "stream": "stderr",
       "text": [
        "."
       ]
      },
      {
       "output_type": "stream",
       "stream": "stderr",
       "text": [
        "."
       ]
      },
      {
       "output_type": "stream",
       "stream": "stderr",
       "text": [
        "."
       ]
      },
      {
       "output_type": "stream",
       "stream": "stderr",
       "text": [
        "."
       ]
      },
      {
       "output_type": "stream",
       "stream": "stderr",
       "text": [
        "."
       ]
      },
      {
       "output_type": "stream",
       "stream": "stderr",
       "text": [
        "."
       ]
      },
      {
       "output_type": "stream",
       "stream": "stderr",
       "text": [
        "."
       ]
      },
      {
       "output_type": "stream",
       "stream": "stderr",
       "text": [
        "."
       ]
      },
      {
       "output_type": "stream",
       "stream": "stderr",
       "text": [
        "."
       ]
      },
      {
       "output_type": "stream",
       "stream": "stderr",
       "text": [
        "."
       ]
      },
      {
       "output_type": "stream",
       "stream": "stderr",
       "text": [
        "."
       ]
      },
      {
       "output_type": "stream",
       "stream": "stderr",
       "text": [
        "."
       ]
      },
      {
       "output_type": "stream",
       "stream": "stderr",
       "text": [
        "."
       ]
      },
      {
       "output_type": "stream",
       "stream": "stderr",
       "text": [
        "."
       ]
      },
      {
       "output_type": "stream",
       "stream": "stderr",
       "text": [
        "."
       ]
      },
      {
       "output_type": "stream",
       "stream": "stderr",
       "text": [
        "."
       ]
      },
      {
       "output_type": "stream",
       "stream": "stderr",
       "text": [
        "."
       ]
      },
      {
       "output_type": "stream",
       "stream": "stderr",
       "text": [
        "."
       ]
      },
      {
       "output_type": "stream",
       "stream": "stderr",
       "text": [
        "."
       ]
      },
      {
       "output_type": "stream",
       "stream": "stderr",
       "text": [
        "."
       ]
      },
      {
       "output_type": "stream",
       "stream": "stderr",
       "text": [
        "."
       ]
      },
      {
       "output_type": "stream",
       "stream": "stderr",
       "text": [
        "."
       ]
      },
      {
       "output_type": "stream",
       "stream": "stderr",
       "text": [
        "."
       ]
      },
      {
       "output_type": "stream",
       "stream": "stderr",
       "text": [
        "."
       ]
      },
      {
       "output_type": "stream",
       "stream": "stderr",
       "text": [
        "."
       ]
      },
      {
       "output_type": "stream",
       "stream": "stderr",
       "text": [
        "."
       ]
      },
      {
       "output_type": "stream",
       "stream": "stderr",
       "text": [
        "."
       ]
      },
      {
       "output_type": "stream",
       "stream": "stderr",
       "text": [
        "."
       ]
      },
      {
       "output_type": "stream",
       "stream": "stderr",
       "text": [
        "."
       ]
      },
      {
       "output_type": "stream",
       "stream": "stderr",
       "text": [
        "."
       ]
      },
      {
       "output_type": "stream",
       "stream": "stderr",
       "text": [
        "."
       ]
      },
      {
       "output_type": "stream",
       "stream": "stderr",
       "text": [
        "."
       ]
      },
      {
       "output_type": "stream",
       "stream": "stderr",
       "text": [
        "."
       ]
      },
      {
       "output_type": "stream",
       "stream": "stderr",
       "text": [
        "."
       ]
      },
      {
       "output_type": "stream",
       "stream": "stderr",
       "text": [
        "."
       ]
      },
      {
       "output_type": "stream",
       "stream": "stderr",
       "text": [
        "."
       ]
      },
      {
       "output_type": "stream",
       "stream": "stderr",
       "text": [
        "."
       ]
      },
      {
       "output_type": "stream",
       "stream": "stderr",
       "text": [
        "."
       ]
      },
      {
       "output_type": "stream",
       "stream": "stderr",
       "text": [
        "."
       ]
      },
      {
       "output_type": "stream",
       "stream": "stderr",
       "text": [
        "."
       ]
      },
      {
       "output_type": "stream",
       "stream": "stderr",
       "text": [
        "."
       ]
      },
      {
       "output_type": "stream",
       "stream": "stderr",
       "text": [
        "."
       ]
      },
      {
       "output_type": "stream",
       "stream": "stderr",
       "text": [
        "."
       ]
      },
      {
       "output_type": "stream",
       "stream": "stderr",
       "text": [
        "."
       ]
      },
      {
       "output_type": "stream",
       "stream": "stderr",
       "text": [
        "."
       ]
      },
      {
       "output_type": "stream",
       "stream": "stderr",
       "text": [
        "."
       ]
      },
      {
       "output_type": "stream",
       "stream": "stderr",
       "text": [
        "."
       ]
      },
      {
       "output_type": "stream",
       "stream": "stderr",
       "text": [
        "."
       ]
      },
      {
       "output_type": "stream",
       "stream": "stderr",
       "text": [
        "."
       ]
      },
      {
       "output_type": "stream",
       "stream": "stderr",
       "text": [
        "."
       ]
      },
      {
       "output_type": "stream",
       "stream": "stderr",
       "text": [
        "."
       ]
      },
      {
       "output_type": "stream",
       "stream": "stderr",
       "text": [
        "."
       ]
      },
      {
       "output_type": "stream",
       "stream": "stderr",
       "text": [
        "."
       ]
      },
      {
       "output_type": "stream",
       "stream": "stderr",
       "text": [
        "."
       ]
      },
      {
       "output_type": "stream",
       "stream": "stderr",
       "text": [
        "."
       ]
      },
      {
       "output_type": "stream",
       "stream": "stderr",
       "text": [
        "."
       ]
      },
      {
       "output_type": "stream",
       "stream": "stderr",
       "text": [
        "."
       ]
      },
      {
       "output_type": "stream",
       "stream": "stderr",
       "text": [
        "."
       ]
      },
      {
       "output_type": "stream",
       "stream": "stderr",
       "text": [
        "."
       ]
      },
      {
       "output_type": "stream",
       "stream": "stderr",
       "text": [
        "."
       ]
      },
      {
       "output_type": "stream",
       "stream": "stderr",
       "text": [
        "."
       ]
      },
      {
       "output_type": "stream",
       "stream": "stderr",
       "text": [
        "."
       ]
      },
      {
       "output_type": "stream",
       "stream": "stderr",
       "text": [
        "."
       ]
      },
      {
       "output_type": "stream",
       "stream": "stderr",
       "text": [
        "."
       ]
      },
      {
       "output_type": "stream",
       "stream": "stderr",
       "text": [
        "."
       ]
      },
      {
       "output_type": "stream",
       "stream": "stderr",
       "text": [
        "."
       ]
      },
      {
       "output_type": "stream",
       "stream": "stderr",
       "text": [
        "."
       ]
      },
      {
       "output_type": "stream",
       "stream": "stderr",
       "text": [
        "."
       ]
      },
      {
       "output_type": "stream",
       "stream": "stderr",
       "text": [
        "."
       ]
      },
      {
       "output_type": "stream",
       "stream": "stderr",
       "text": [
        "."
       ]
      },
      {
       "output_type": "stream",
       "stream": "stderr",
       "text": [
        "."
       ]
      },
      {
       "output_type": "stream",
       "stream": "stderr",
       "text": [
        "."
       ]
      },
      {
       "output_type": "stream",
       "stream": "stderr",
       "text": [
        "."
       ]
      },
      {
       "output_type": "stream",
       "stream": "stderr",
       "text": [
        "."
       ]
      },
      {
       "output_type": "stream",
       "stream": "stderr",
       "text": [
        "."
       ]
      },
      {
       "output_type": "stream",
       "stream": "stderr",
       "text": [
        "."
       ]
      },
      {
       "output_type": "stream",
       "stream": "stderr",
       "text": [
        "."
       ]
      },
      {
       "output_type": "stream",
       "stream": "stderr",
       "text": [
        "."
       ]
      },
      {
       "output_type": "stream",
       "stream": "stderr",
       "text": [
        "."
       ]
      },
      {
       "output_type": "stream",
       "stream": "stderr",
       "text": [
        "."
       ]
      },
      {
       "output_type": "stream",
       "stream": "stderr",
       "text": [
        "."
       ]
      },
      {
       "output_type": "stream",
       "stream": "stderr",
       "text": [
        "."
       ]
      },
      {
       "output_type": "stream",
       "stream": "stderr",
       "text": [
        "."
       ]
      },
      {
       "output_type": "stream",
       "stream": "stderr",
       "text": [
        "."
       ]
      },
      {
       "output_type": "stream",
       "stream": "stderr",
       "text": [
        "."
       ]
      },
      {
       "output_type": "stream",
       "stream": "stderr",
       "text": [
        "."
       ]
      },
      {
       "output_type": "stream",
       "stream": "stderr",
       "text": [
        "."
       ]
      },
      {
       "output_type": "stream",
       "stream": "stderr",
       "text": [
        "."
       ]
      },
      {
       "output_type": "stream",
       "stream": "stderr",
       "text": [
        "."
       ]
      },
      {
       "output_type": "stream",
       "stream": "stderr",
       "text": [
        "."
       ]
      },
      {
       "output_type": "stream",
       "stream": "stderr",
       "text": [
        "."
       ]
      },
      {
       "output_type": "stream",
       "stream": "stderr",
       "text": [
        "."
       ]
      },
      {
       "output_type": "stream",
       "stream": "stderr",
       "text": [
        "."
       ]
      },
      {
       "output_type": "stream",
       "stream": "stderr",
       "text": [
        "."
       ]
      },
      {
       "output_type": "stream",
       "stream": "stderr",
       "text": [
        "."
       ]
      },
      {
       "output_type": "stream",
       "stream": "stderr",
       "text": [
        "."
       ]
      },
      {
       "output_type": "stream",
       "stream": "stderr",
       "text": [
        "."
       ]
      },
      {
       "output_type": "stream",
       "stream": "stderr",
       "text": [
        "."
       ]
      },
      {
       "output_type": "stream",
       "stream": "stderr",
       "text": [
        "."
       ]
      },
      {
       "output_type": "stream",
       "stream": "stderr",
       "text": [
        "."
       ]
      },
      {
       "output_type": "stream",
       "stream": "stderr",
       "text": [
        "."
       ]
      },
      {
       "output_type": "stream",
       "stream": "stderr",
       "text": [
        "."
       ]
      },
      {
       "output_type": "stream",
       "stream": "stderr",
       "text": [
        "."
       ]
      },
      {
       "output_type": "stream",
       "stream": "stderr",
       "text": [
        "."
       ]
      },
      {
       "output_type": "stream",
       "stream": "stderr",
       "text": [
        "."
       ]
      },
      {
       "output_type": "stream",
       "stream": "stderr",
       "text": [
        "."
       ]
      },
      {
       "output_type": "stream",
       "stream": "stderr",
       "text": [
        "."
       ]
      },
      {
       "output_type": "stream",
       "stream": "stderr",
       "text": [
        "."
       ]
      },
      {
       "output_type": "stream",
       "stream": "stderr",
       "text": [
        "."
       ]
      },
      {
       "output_type": "stream",
       "stream": "stderr",
       "text": [
        "."
       ]
      },
      {
       "output_type": "stream",
       "stream": "stderr",
       "text": [
        "."
       ]
      },
      {
       "output_type": "stream",
       "stream": "stderr",
       "text": [
        "."
       ]
      },
      {
       "output_type": "stream",
       "stream": "stderr",
       "text": [
        "."
       ]
      },
      {
       "output_type": "stream",
       "stream": "stderr",
       "text": [
        "."
       ]
      },
      {
       "output_type": "stream",
       "stream": "stderr",
       "text": [
        "."
       ]
      },
      {
       "output_type": "stream",
       "stream": "stderr",
       "text": [
        "."
       ]
      },
      {
       "output_type": "stream",
       "stream": "stderr",
       "text": [
        "."
       ]
      },
      {
       "output_type": "stream",
       "stream": "stderr",
       "text": [
        "."
       ]
      },
      {
       "output_type": "stream",
       "stream": "stderr",
       "text": [
        "."
       ]
      },
      {
       "output_type": "stream",
       "stream": "stderr",
       "text": [
        "."
       ]
      },
      {
       "output_type": "stream",
       "stream": "stderr",
       "text": [
        "."
       ]
      },
      {
       "output_type": "stream",
       "stream": "stderr",
       "text": [
        "."
       ]
      },
      {
       "output_type": "stream",
       "stream": "stderr",
       "text": [
        "."
       ]
      },
      {
       "output_type": "stream",
       "stream": "stderr",
       "text": [
        "."
       ]
      },
      {
       "output_type": "stream",
       "stream": "stderr",
       "text": [
        "."
       ]
      },
      {
       "output_type": "stream",
       "stream": "stderr",
       "text": [
        "."
       ]
      },
      {
       "output_type": "stream",
       "stream": "stderr",
       "text": [
        "."
       ]
      },
      {
       "output_type": "stream",
       "stream": "stderr",
       "text": [
        "."
       ]
      },
      {
       "output_type": "stream",
       "stream": "stderr",
       "text": [
        "."
       ]
      },
      {
       "output_type": "stream",
       "stream": "stderr",
       "text": [
        "."
       ]
      },
      {
       "output_type": "stream",
       "stream": "stderr",
       "text": [
        "."
       ]
      },
      {
       "output_type": "stream",
       "stream": "stderr",
       "text": [
        "."
       ]
      },
      {
       "output_type": "stream",
       "stream": "stderr",
       "text": [
        "."
       ]
      },
      {
       "output_type": "stream",
       "stream": "stderr",
       "text": [
        "."
       ]
      },
      {
       "output_type": "stream",
       "stream": "stderr",
       "text": [
        "."
       ]
      },
      {
       "output_type": "stream",
       "stream": "stderr",
       "text": [
        "."
       ]
      },
      {
       "output_type": "stream",
       "stream": "stderr",
       "text": [
        "."
       ]
      },
      {
       "output_type": "stream",
       "stream": "stderr",
       "text": [
        "."
       ]
      },
      {
       "output_type": "stream",
       "stream": "stderr",
       "text": [
        "."
       ]
      },
      {
       "output_type": "stream",
       "stream": "stderr",
       "text": [
        "."
       ]
      },
      {
       "output_type": "stream",
       "stream": "stderr",
       "text": [
        "."
       ]
      },
      {
       "output_type": "stream",
       "stream": "stderr",
       "text": [
        "."
       ]
      },
      {
       "output_type": "stream",
       "stream": "stderr",
       "text": [
        "."
       ]
      },
      {
       "output_type": "stream",
       "stream": "stderr",
       "text": [
        "."
       ]
      },
      {
       "output_type": "stream",
       "stream": "stderr",
       "text": [
        "."
       ]
      },
      {
       "output_type": "stream",
       "stream": "stderr",
       "text": [
        "."
       ]
      },
      {
       "output_type": "stream",
       "stream": "stderr",
       "text": [
        "."
       ]
      },
      {
       "output_type": "stream",
       "stream": "stderr",
       "text": [
        "."
       ]
      },
      {
       "output_type": "stream",
       "stream": "stderr",
       "text": [
        "."
       ]
      },
      {
       "output_type": "stream",
       "stream": "stderr",
       "text": [
        "."
       ]
      },
      {
       "output_type": "stream",
       "stream": "stderr",
       "text": [
        "."
       ]
      },
      {
       "output_type": "stream",
       "stream": "stderr",
       "text": [
        "."
       ]
      },
      {
       "output_type": "stream",
       "stream": "stderr",
       "text": [
        "."
       ]
      },
      {
       "output_type": "stream",
       "stream": "stderr",
       "text": [
        "."
       ]
      },
      {
       "output_type": "stream",
       "stream": "stderr",
       "text": [
        "."
       ]
      },
      {
       "output_type": "stream",
       "stream": "stderr",
       "text": [
        "."
       ]
      },
      {
       "output_type": "stream",
       "stream": "stderr",
       "text": [
        "."
       ]
      },
      {
       "output_type": "stream",
       "stream": "stderr",
       "text": [
        "."
       ]
      },
      {
       "output_type": "stream",
       "stream": "stderr",
       "text": [
        "."
       ]
      },
      {
       "output_type": "stream",
       "stream": "stderr",
       "text": [
        "."
       ]
      },
      {
       "output_type": "stream",
       "stream": "stderr",
       "text": [
        "."
       ]
      },
      {
       "output_type": "stream",
       "stream": "stderr",
       "text": [
        "."
       ]
      },
      {
       "output_type": "stream",
       "stream": "stderr",
       "text": [
        "."
       ]
      },
      {
       "output_type": "stream",
       "stream": "stderr",
       "text": [
        "."
       ]
      },
      {
       "output_type": "stream",
       "stream": "stderr",
       "text": [
        "."
       ]
      },
      {
       "output_type": "stream",
       "stream": "stderr",
       "text": [
        "."
       ]
      },
      {
       "output_type": "stream",
       "stream": "stderr",
       "text": [
        "."
       ]
      },
      {
       "output_type": "stream",
       "stream": "stderr",
       "text": [
        "."
       ]
      },
      {
       "output_type": "stream",
       "stream": "stderr",
       "text": [
        "."
       ]
      },
      {
       "output_type": "stream",
       "stream": "stderr",
       "text": [
        "."
       ]
      },
      {
       "output_type": "stream",
       "stream": "stderr",
       "text": [
        "."
       ]
      },
      {
       "output_type": "stream",
       "stream": "stderr",
       "text": [
        "."
       ]
      },
      {
       "output_type": "stream",
       "stream": "stderr",
       "text": [
        "."
       ]
      },
      {
       "output_type": "stream",
       "stream": "stderr",
       "text": [
        "."
       ]
      },
      {
       "output_type": "stream",
       "stream": "stderr",
       "text": [
        "."
       ]
      },
      {
       "output_type": "stream",
       "stream": "stderr",
       "text": [
        "."
       ]
      },
      {
       "output_type": "stream",
       "stream": "stderr",
       "text": [
        "."
       ]
      },
      {
       "output_type": "stream",
       "stream": "stderr",
       "text": [
        "."
       ]
      },
      {
       "output_type": "stream",
       "stream": "stderr",
       "text": [
        "."
       ]
      },
      {
       "output_type": "stream",
       "stream": "stderr",
       "text": [
        "."
       ]
      },
      {
       "output_type": "stream",
       "stream": "stderr",
       "text": [
        "."
       ]
      },
      {
       "output_type": "stream",
       "stream": "stderr",
       "text": [
        "."
       ]
      },
      {
       "output_type": "stream",
       "stream": "stderr",
       "text": [
        "."
       ]
      },
      {
       "output_type": "stream",
       "stream": "stderr",
       "text": [
        "."
       ]
      },
      {
       "output_type": "stream",
       "stream": "stderr",
       "text": [
        "."
       ]
      },
      {
       "output_type": "stream",
       "stream": "stderr",
       "text": [
        "."
       ]
      },
      {
       "output_type": "stream",
       "stream": "stderr",
       "text": [
        "."
       ]
      },
      {
       "output_type": "stream",
       "stream": "stderr",
       "text": [
        "."
       ]
      },
      {
       "output_type": "stream",
       "stream": "stderr",
       "text": [
        "."
       ]
      },
      {
       "output_type": "stream",
       "stream": "stderr",
       "text": [
        "."
       ]
      },
      {
       "output_type": "stream",
       "stream": "stderr",
       "text": [
        "."
       ]
      },
      {
       "output_type": "stream",
       "stream": "stderr",
       "text": [
        "."
       ]
      },
      {
       "output_type": "stream",
       "stream": "stderr",
       "text": [
        "."
       ]
      },
      {
       "output_type": "stream",
       "stream": "stderr",
       "text": [
        "."
       ]
      },
      {
       "output_type": "stream",
       "stream": "stderr",
       "text": [
        "."
       ]
      },
      {
       "output_type": "stream",
       "stream": "stderr",
       "text": [
        "."
       ]
      },
      {
       "output_type": "stream",
       "stream": "stderr",
       "text": [
        "."
       ]
      },
      {
       "output_type": "stream",
       "stream": "stderr",
       "text": [
        "."
       ]
      },
      {
       "output_type": "stream",
       "stream": "stderr",
       "text": [
        "."
       ]
      },
      {
       "output_type": "stream",
       "stream": "stderr",
       "text": [
        "."
       ]
      },
      {
       "output_type": "stream",
       "stream": "stderr",
       "text": [
        "."
       ]
      },
      {
       "output_type": "stream",
       "stream": "stderr",
       "text": [
        "."
       ]
      },
      {
       "output_type": "stream",
       "stream": "stderr",
       "text": [
        "."
       ]
      },
      {
       "output_type": "stream",
       "stream": "stderr",
       "text": [
        "."
       ]
      },
      {
       "output_type": "stream",
       "stream": "stderr",
       "text": [
        "."
       ]
      },
      {
       "output_type": "stream",
       "stream": "stderr",
       "text": [
        "."
       ]
      },
      {
       "output_type": "stream",
       "stream": "stderr",
       "text": [
        "."
       ]
      },
      {
       "output_type": "stream",
       "stream": "stderr",
       "text": [
        "."
       ]
      },
      {
       "output_type": "stream",
       "stream": "stderr",
       "text": [
        "."
       ]
      },
      {
       "output_type": "stream",
       "stream": "stderr",
       "text": [
        "."
       ]
      },
      {
       "output_type": "stream",
       "stream": "stderr",
       "text": [
        "."
       ]
      },
      {
       "output_type": "stream",
       "stream": "stderr",
       "text": [
        "."
       ]
      },
      {
       "output_type": "stream",
       "stream": "stderr",
       "text": [
        "."
       ]
      },
      {
       "output_type": "stream",
       "stream": "stderr",
       "text": [
        "."
       ]
      },
      {
       "output_type": "stream",
       "stream": "stderr",
       "text": [
        "."
       ]
      },
      {
       "output_type": "stream",
       "stream": "stderr",
       "text": [
        "."
       ]
      },
      {
       "output_type": "stream",
       "stream": "stderr",
       "text": [
        "."
       ]
      },
      {
       "output_type": "stream",
       "stream": "stderr",
       "text": [
        "."
       ]
      },
      {
       "output_type": "stream",
       "stream": "stderr",
       "text": [
        "."
       ]
      },
      {
       "output_type": "stream",
       "stream": "stderr",
       "text": [
        "."
       ]
      },
      {
       "output_type": "stream",
       "stream": "stderr",
       "text": [
        "."
       ]
      },
      {
       "output_type": "stream",
       "stream": "stderr",
       "text": [
        "."
       ]
      },
      {
       "output_type": "stream",
       "stream": "stderr",
       "text": [
        "."
       ]
      },
      {
       "output_type": "stream",
       "stream": "stderr",
       "text": [
        "."
       ]
      },
      {
       "output_type": "stream",
       "stream": "stderr",
       "text": [
        "."
       ]
      },
      {
       "output_type": "stream",
       "stream": "stderr",
       "text": [
        "."
       ]
      },
      {
       "output_type": "stream",
       "stream": "stderr",
       "text": [
        "."
       ]
      },
      {
       "output_type": "stream",
       "stream": "stderr",
       "text": [
        "."
       ]
      },
      {
       "output_type": "stream",
       "stream": "stderr",
       "text": [
        "."
       ]
      },
      {
       "output_type": "stream",
       "stream": "stderr",
       "text": [
        "."
       ]
      },
      {
       "output_type": "stream",
       "stream": "stderr",
       "text": [
        "."
       ]
      },
      {
       "output_type": "stream",
       "stream": "stderr",
       "text": [
        "."
       ]
      },
      {
       "output_type": "stream",
       "stream": "stderr",
       "text": [
        "."
       ]
      },
      {
       "output_type": "stream",
       "stream": "stderr",
       "text": [
        "."
       ]
      },
      {
       "output_type": "stream",
       "stream": "stderr",
       "text": [
        "."
       ]
      },
      {
       "output_type": "stream",
       "stream": "stderr",
       "text": [
        "."
       ]
      },
      {
       "output_type": "stream",
       "stream": "stderr",
       "text": [
        "."
       ]
      },
      {
       "output_type": "stream",
       "stream": "stderr",
       "text": [
        "."
       ]
      },
      {
       "output_type": "stream",
       "stream": "stderr",
       "text": [
        "."
       ]
      },
      {
       "output_type": "stream",
       "stream": "stderr",
       "text": [
        "."
       ]
      },
      {
       "output_type": "stream",
       "stream": "stderr",
       "text": [
        "."
       ]
      },
      {
       "output_type": "stream",
       "stream": "stderr",
       "text": [
        "."
       ]
      },
      {
       "output_type": "stream",
       "stream": "stderr",
       "text": [
        "."
       ]
      },
      {
       "output_type": "stream",
       "stream": "stderr",
       "text": [
        "."
       ]
      },
      {
       "output_type": "stream",
       "stream": "stderr",
       "text": [
        "."
       ]
      },
      {
       "output_type": "stream",
       "stream": "stderr",
       "text": [
        "."
       ]
      },
      {
       "output_type": "stream",
       "stream": "stderr",
       "text": [
        "."
       ]
      },
      {
       "output_type": "stream",
       "stream": "stderr",
       "text": [
        "."
       ]
      },
      {
       "output_type": "stream",
       "stream": "stderr",
       "text": [
        "."
       ]
      },
      {
       "output_type": "stream",
       "stream": "stderr",
       "text": [
        "."
       ]
      },
      {
       "output_type": "stream",
       "stream": "stderr",
       "text": [
        "."
       ]
      },
      {
       "output_type": "stream",
       "stream": "stderr",
       "text": [
        "."
       ]
      },
      {
       "output_type": "stream",
       "stream": "stderr",
       "text": [
        "."
       ]
      },
      {
       "output_type": "stream",
       "stream": "stderr",
       "text": [
        "."
       ]
      },
      {
       "output_type": "stream",
       "stream": "stderr",
       "text": [
        "."
       ]
      },
      {
       "output_type": "stream",
       "stream": "stderr",
       "text": [
        "."
       ]
      },
      {
       "output_type": "stream",
       "stream": "stderr",
       "text": [
        "."
       ]
      },
      {
       "output_type": "stream",
       "stream": "stderr",
       "text": [
        "."
       ]
      },
      {
       "output_type": "stream",
       "stream": "stderr",
       "text": [
        "."
       ]
      },
      {
       "output_type": "stream",
       "stream": "stderr",
       "text": [
        "."
       ]
      },
      {
       "output_type": "stream",
       "stream": "stderr",
       "text": [
        "."
       ]
      },
      {
       "output_type": "stream",
       "stream": "stderr",
       "text": [
        "."
       ]
      },
      {
       "output_type": "stream",
       "stream": "stderr",
       "text": [
        "."
       ]
      },
      {
       "output_type": "stream",
       "stream": "stderr",
       "text": [
        "."
       ]
      },
      {
       "output_type": "stream",
       "stream": "stderr",
       "text": [
        "."
       ]
      },
      {
       "output_type": "stream",
       "stream": "stderr",
       "text": [
        "."
       ]
      },
      {
       "output_type": "stream",
       "stream": "stderr",
       "text": [
        "."
       ]
      },
      {
       "output_type": "stream",
       "stream": "stderr",
       "text": [
        "."
       ]
      },
      {
       "output_type": "stream",
       "stream": "stderr",
       "text": [
        "."
       ]
      },
      {
       "output_type": "stream",
       "stream": "stderr",
       "text": [
        "."
       ]
      },
      {
       "output_type": "stream",
       "stream": "stderr",
       "text": [
        "."
       ]
      },
      {
       "output_type": "stream",
       "stream": "stderr",
       "text": [
        "."
       ]
      },
      {
       "output_type": "stream",
       "stream": "stderr",
       "text": [
        "."
       ]
      },
      {
       "output_type": "stream",
       "stream": "stderr",
       "text": [
        "."
       ]
      },
      {
       "output_type": "stream",
       "stream": "stderr",
       "text": [
        "."
       ]
      },
      {
       "output_type": "stream",
       "stream": "stderr",
       "text": [
        "."
       ]
      },
      {
       "output_type": "stream",
       "stream": "stderr",
       "text": [
        "."
       ]
      },
      {
       "output_type": "stream",
       "stream": "stderr",
       "text": [
        "."
       ]
      },
      {
       "output_type": "stream",
       "stream": "stderr",
       "text": [
        "."
       ]
      },
      {
       "output_type": "stream",
       "stream": "stderr",
       "text": [
        "."
       ]
      },
      {
       "output_type": "stream",
       "stream": "stderr",
       "text": [
        "."
       ]
      },
      {
       "output_type": "stream",
       "stream": "stderr",
       "text": [
        "."
       ]
      },
      {
       "output_type": "stream",
       "stream": "stderr",
       "text": [
        "."
       ]
      },
      {
       "output_type": "stream",
       "stream": "stderr",
       "text": [
        "."
       ]
      },
      {
       "output_type": "stream",
       "stream": "stderr",
       "text": [
        "."
       ]
      },
      {
       "output_type": "stream",
       "stream": "stderr",
       "text": [
        "."
       ]
      },
      {
       "output_type": "stream",
       "stream": "stderr",
       "text": [
        "."
       ]
      },
      {
       "output_type": "stream",
       "stream": "stderr",
       "text": [
        "."
       ]
      },
      {
       "output_type": "stream",
       "stream": "stderr",
       "text": [
        "."
       ]
      },
      {
       "output_type": "stream",
       "stream": "stderr",
       "text": [
        "."
       ]
      },
      {
       "output_type": "stream",
       "stream": "stderr",
       "text": [
        "."
       ]
      },
      {
       "output_type": "stream",
       "stream": "stderr",
       "text": [
        "."
       ]
      },
      {
       "output_type": "stream",
       "stream": "stderr",
       "text": [
        "."
       ]
      },
      {
       "output_type": "stream",
       "stream": "stderr",
       "text": [
        "."
       ]
      },
      {
       "output_type": "stream",
       "stream": "stderr",
       "text": [
        "."
       ]
      },
      {
       "output_type": "stream",
       "stream": "stderr",
       "text": [
        "."
       ]
      },
      {
       "output_type": "stream",
       "stream": "stderr",
       "text": [
        "."
       ]
      },
      {
       "output_type": "stream",
       "stream": "stderr",
       "text": [
        "."
       ]
      },
      {
       "output_type": "stream",
       "stream": "stderr",
       "text": [
        "."
       ]
      },
      {
       "output_type": "stream",
       "stream": "stderr",
       "text": [
        "."
       ]
      },
      {
       "output_type": "stream",
       "stream": "stderr",
       "text": [
        "."
       ]
      },
      {
       "output_type": "stream",
       "stream": "stderr",
       "text": [
        "."
       ]
      },
      {
       "output_type": "stream",
       "stream": "stderr",
       "text": [
        "."
       ]
      },
      {
       "output_type": "stream",
       "stream": "stderr",
       "text": [
        "."
       ]
      },
      {
       "output_type": "stream",
       "stream": "stderr",
       "text": [
        "."
       ]
      },
      {
       "output_type": "stream",
       "stream": "stderr",
       "text": [
        "."
       ]
      },
      {
       "output_type": "stream",
       "stream": "stderr",
       "text": [
        "."
       ]
      },
      {
       "output_type": "stream",
       "stream": "stderr",
       "text": [
        "."
       ]
      },
      {
       "output_type": "stream",
       "stream": "stderr",
       "text": [
        "."
       ]
      },
      {
       "output_type": "stream",
       "stream": "stderr",
       "text": [
        "."
       ]
      },
      {
       "output_type": "stream",
       "stream": "stderr",
       "text": [
        "."
       ]
      },
      {
       "output_type": "stream",
       "stream": "stderr",
       "text": [
        "."
       ]
      },
      {
       "output_type": "stream",
       "stream": "stderr",
       "text": [
        "."
       ]
      },
      {
       "output_type": "stream",
       "stream": "stderr",
       "text": [
        "."
       ]
      },
      {
       "output_type": "stream",
       "stream": "stderr",
       "text": [
        "."
       ]
      },
      {
       "output_type": "stream",
       "stream": "stderr",
       "text": [
        "."
       ]
      },
      {
       "output_type": "stream",
       "stream": "stderr",
       "text": [
        "."
       ]
      },
      {
       "output_type": "stream",
       "stream": "stderr",
       "text": [
        "."
       ]
      },
      {
       "output_type": "stream",
       "stream": "stderr",
       "text": [
        "."
       ]
      },
      {
       "output_type": "stream",
       "stream": "stderr",
       "text": [
        "."
       ]
      },
      {
       "output_type": "stream",
       "stream": "stderr",
       "text": [
        "."
       ]
      },
      {
       "output_type": "stream",
       "stream": "stderr",
       "text": [
        "."
       ]
      },
      {
       "output_type": "stream",
       "stream": "stderr",
       "text": [
        "."
       ]
      },
      {
       "output_type": "stream",
       "stream": "stderr",
       "text": [
        "."
       ]
      },
      {
       "output_type": "stream",
       "stream": "stderr",
       "text": [
        "."
       ]
      },
      {
       "output_type": "stream",
       "stream": "stderr",
       "text": [
        "."
       ]
      },
      {
       "output_type": "stream",
       "stream": "stderr",
       "text": [
        "."
       ]
      },
      {
       "output_type": "stream",
       "stream": "stderr",
       "text": [
        "."
       ]
      },
      {
       "output_type": "stream",
       "stream": "stderr",
       "text": [
        "."
       ]
      },
      {
       "output_type": "stream",
       "stream": "stderr",
       "text": [
        "."
       ]
      },
      {
       "output_type": "stream",
       "stream": "stderr",
       "text": [
        "."
       ]
      },
      {
       "output_type": "stream",
       "stream": "stderr",
       "text": [
        "."
       ]
      },
      {
       "output_type": "stream",
       "stream": "stderr",
       "text": [
        "."
       ]
      },
      {
       "output_type": "stream",
       "stream": "stderr",
       "text": [
        "."
       ]
      },
      {
       "output_type": "stream",
       "stream": "stderr",
       "text": [
        "."
       ]
      },
      {
       "output_type": "stream",
       "stream": "stderr",
       "text": [
        "."
       ]
      },
      {
       "output_type": "stream",
       "stream": "stderr",
       "text": [
        "."
       ]
      },
      {
       "output_type": "stream",
       "stream": "stderr",
       "text": [
        "."
       ]
      },
      {
       "output_type": "stream",
       "stream": "stderr",
       "text": [
        "."
       ]
      },
      {
       "output_type": "stream",
       "stream": "stderr",
       "text": [
        "."
       ]
      },
      {
       "output_type": "stream",
       "stream": "stderr",
       "text": [
        "."
       ]
      },
      {
       "output_type": "stream",
       "stream": "stderr",
       "text": [
        "."
       ]
      },
      {
       "output_type": "stream",
       "stream": "stderr",
       "text": [
        "."
       ]
      },
      {
       "output_type": "stream",
       "stream": "stderr",
       "text": [
        "."
       ]
      },
      {
       "output_type": "stream",
       "stream": "stderr",
       "text": [
        "."
       ]
      },
      {
       "output_type": "stream",
       "stream": "stderr",
       "text": [
        "."
       ]
      },
      {
       "output_type": "stream",
       "stream": "stderr",
       "text": [
        "."
       ]
      },
      {
       "output_type": "stream",
       "stream": "stderr",
       "text": [
        "."
       ]
      },
      {
       "output_type": "stream",
       "stream": "stderr",
       "text": [
        "."
       ]
      },
      {
       "output_type": "stream",
       "stream": "stderr",
       "text": [
        "."
       ]
      },
      {
       "output_type": "stream",
       "stream": "stderr",
       "text": [
        "."
       ]
      },
      {
       "output_type": "stream",
       "stream": "stderr",
       "text": [
        "."
       ]
      },
      {
       "output_type": "stream",
       "stream": "stderr",
       "text": [
        "."
       ]
      },
      {
       "output_type": "stream",
       "stream": "stderr",
       "text": [
        "."
       ]
      },
      {
       "output_type": "stream",
       "stream": "stderr",
       "text": [
        "."
       ]
      },
      {
       "output_type": "stream",
       "stream": "stderr",
       "text": [
        "."
       ]
      },
      {
       "output_type": "stream",
       "stream": "stderr",
       "text": [
        "."
       ]
      },
      {
       "output_type": "stream",
       "stream": "stderr",
       "text": [
        "."
       ]
      },
      {
       "output_type": "stream",
       "stream": "stderr",
       "text": [
        "."
       ]
      },
      {
       "output_type": "stream",
       "stream": "stderr",
       "text": [
        "."
       ]
      },
      {
       "output_type": "stream",
       "stream": "stderr",
       "text": [
        "."
       ]
      },
      {
       "output_type": "stream",
       "stream": "stderr",
       "text": [
        "."
       ]
      },
      {
       "output_type": "stream",
       "stream": "stderr",
       "text": [
        "."
       ]
      },
      {
       "output_type": "stream",
       "stream": "stderr",
       "text": [
        "."
       ]
      },
      {
       "output_type": "stream",
       "stream": "stderr",
       "text": [
        "."
       ]
      },
      {
       "output_type": "stream",
       "stream": "stderr",
       "text": [
        "."
       ]
      },
      {
       "output_type": "stream",
       "stream": "stderr",
       "text": [
        "."
       ]
      },
      {
       "output_type": "stream",
       "stream": "stderr",
       "text": [
        "."
       ]
      },
      {
       "output_type": "stream",
       "stream": "stderr",
       "text": [
        "."
       ]
      },
      {
       "output_type": "stream",
       "stream": "stderr",
       "text": [
        "."
       ]
      },
      {
       "output_type": "stream",
       "stream": "stderr",
       "text": [
        "."
       ]
      },
      {
       "output_type": "stream",
       "stream": "stderr",
       "text": [
        "."
       ]
      },
      {
       "output_type": "stream",
       "stream": "stderr",
       "text": [
        "."
       ]
      },
      {
       "output_type": "stream",
       "stream": "stderr",
       "text": [
        "."
       ]
      },
      {
       "output_type": "stream",
       "stream": "stderr",
       "text": [
        "."
       ]
      },
      {
       "output_type": "stream",
       "stream": "stderr",
       "text": [
        "."
       ]
      },
      {
       "output_type": "stream",
       "stream": "stderr",
       "text": [
        "."
       ]
      },
      {
       "output_type": "stream",
       "stream": "stderr",
       "text": [
        "."
       ]
      },
      {
       "output_type": "stream",
       "stream": "stderr",
       "text": [
        "."
       ]
      },
      {
       "output_type": "stream",
       "stream": "stderr",
       "text": [
        "."
       ]
      },
      {
       "output_type": "stream",
       "stream": "stderr",
       "text": [
        "."
       ]
      },
      {
       "output_type": "stream",
       "stream": "stderr",
       "text": [
        "."
       ]
      },
      {
       "output_type": "stream",
       "stream": "stderr",
       "text": [
        "."
       ]
      },
      {
       "output_type": "stream",
       "stream": "stderr",
       "text": [
        "."
       ]
      },
      {
       "output_type": "stream",
       "stream": "stderr",
       "text": [
        "."
       ]
      },
      {
       "output_type": "stream",
       "stream": "stderr",
       "text": [
        "."
       ]
      },
      {
       "output_type": "stream",
       "stream": "stderr",
       "text": [
        "."
       ]
      },
      {
       "output_type": "stream",
       "stream": "stderr",
       "text": [
        "."
       ]
      },
      {
       "output_type": "stream",
       "stream": "stderr",
       "text": [
        "."
       ]
      },
      {
       "output_type": "stream",
       "stream": "stderr",
       "text": [
        "."
       ]
      },
      {
       "output_type": "stream",
       "stream": "stderr",
       "text": [
        "."
       ]
      },
      {
       "output_type": "stream",
       "stream": "stderr",
       "text": [
        "."
       ]
      },
      {
       "output_type": "stream",
       "stream": "stderr",
       "text": [
        "."
       ]
      },
      {
       "output_type": "stream",
       "stream": "stderr",
       "text": [
        "."
       ]
      },
      {
       "output_type": "stream",
       "stream": "stderr",
       "text": [
        "."
       ]
      },
      {
       "output_type": "stream",
       "stream": "stderr",
       "text": [
        "."
       ]
      },
      {
       "output_type": "stream",
       "stream": "stderr",
       "text": [
        "."
       ]
      },
      {
       "output_type": "stream",
       "stream": "stderr",
       "text": [
        "."
       ]
      },
      {
       "output_type": "stream",
       "stream": "stderr",
       "text": [
        "."
       ]
      },
      {
       "output_type": "stream",
       "stream": "stderr",
       "text": [
        "."
       ]
      },
      {
       "output_type": "stream",
       "stream": "stderr",
       "text": [
        "."
       ]
      },
      {
       "output_type": "stream",
       "stream": "stderr",
       "text": [
        "."
       ]
      },
      {
       "output_type": "stream",
       "stream": "stderr",
       "text": [
        "."
       ]
      },
      {
       "output_type": "stream",
       "stream": "stderr",
       "text": [
        "."
       ]
      },
      {
       "output_type": "stream",
       "stream": "stderr",
       "text": [
        "."
       ]
      },
      {
       "output_type": "stream",
       "stream": "stderr",
       "text": [
        "."
       ]
      },
      {
       "output_type": "stream",
       "stream": "stderr",
       "text": [
        "."
       ]
      },
      {
       "output_type": "stream",
       "stream": "stderr",
       "text": [
        "."
       ]
      },
      {
       "output_type": "stream",
       "stream": "stderr",
       "text": [
        "."
       ]
      },
      {
       "output_type": "stream",
       "stream": "stderr",
       "text": [
        "."
       ]
      },
      {
       "output_type": "stream",
       "stream": "stderr",
       "text": [
        "."
       ]
      },
      {
       "output_type": "stream",
       "stream": "stderr",
       "text": [
        "."
       ]
      },
      {
       "output_type": "stream",
       "stream": "stderr",
       "text": [
        "."
       ]
      },
      {
       "output_type": "stream",
       "stream": "stderr",
       "text": [
        "."
       ]
      },
      {
       "output_type": "stream",
       "stream": "stderr",
       "text": [
        "."
       ]
      },
      {
       "output_type": "stream",
       "stream": "stderr",
       "text": [
        "."
       ]
      },
      {
       "output_type": "stream",
       "stream": "stderr",
       "text": [
        "."
       ]
      },
      {
       "output_type": "stream",
       "stream": "stderr",
       "text": [
        "."
       ]
      },
      {
       "output_type": "stream",
       "stream": "stderr",
       "text": [
        "."
       ]
      },
      {
       "output_type": "stream",
       "stream": "stderr",
       "text": [
        "."
       ]
      },
      {
       "output_type": "stream",
       "stream": "stderr",
       "text": [
        "."
       ]
      },
      {
       "output_type": "stream",
       "stream": "stderr",
       "text": [
        "."
       ]
      },
      {
       "output_type": "stream",
       "stream": "stderr",
       "text": [
        "."
       ]
      },
      {
       "output_type": "stream",
       "stream": "stderr",
       "text": [
        "."
       ]
      },
      {
       "output_type": "stream",
       "stream": "stderr",
       "text": [
        "."
       ]
      },
      {
       "output_type": "stream",
       "stream": "stderr",
       "text": [
        "."
       ]
      },
      {
       "output_type": "stream",
       "stream": "stderr",
       "text": [
        "."
       ]
      },
      {
       "output_type": "stream",
       "stream": "stderr",
       "text": [
        "."
       ]
      },
      {
       "output_type": "stream",
       "stream": "stderr",
       "text": [
        "."
       ]
      },
      {
       "output_type": "stream",
       "stream": "stderr",
       "text": [
        "."
       ]
      },
      {
       "output_type": "stream",
       "stream": "stderr",
       "text": [
        "."
       ]
      },
      {
       "output_type": "stream",
       "stream": "stderr",
       "text": [
        "."
       ]
      },
      {
       "output_type": "stream",
       "stream": "stderr",
       "text": [
        "."
       ]
      },
      {
       "output_type": "stream",
       "stream": "stderr",
       "text": [
        "."
       ]
      },
      {
       "output_type": "stream",
       "stream": "stderr",
       "text": [
        "."
       ]
      },
      {
       "output_type": "stream",
       "stream": "stderr",
       "text": [
        "."
       ]
      },
      {
       "output_type": "stream",
       "stream": "stderr",
       "text": [
        "."
       ]
      },
      {
       "output_type": "stream",
       "stream": "stderr",
       "text": [
        "."
       ]
      },
      {
       "output_type": "stream",
       "stream": "stderr",
       "text": [
        "."
       ]
      },
      {
       "output_type": "stream",
       "stream": "stderr",
       "text": [
        "."
       ]
      },
      {
       "output_type": "stream",
       "stream": "stderr",
       "text": [
        "."
       ]
      },
      {
       "output_type": "stream",
       "stream": "stderr",
       "text": [
        "."
       ]
      },
      {
       "output_type": "stream",
       "stream": "stderr",
       "text": [
        "."
       ]
      },
      {
       "output_type": "stream",
       "stream": "stderr",
       "text": [
        "."
       ]
      },
      {
       "output_type": "stream",
       "stream": "stderr",
       "text": [
        "."
       ]
      },
      {
       "output_type": "stream",
       "stream": "stderr",
       "text": [
        "."
       ]
      },
      {
       "output_type": "stream",
       "stream": "stderr",
       "text": [
        "."
       ]
      },
      {
       "output_type": "stream",
       "stream": "stderr",
       "text": [
        "."
       ]
      },
      {
       "output_type": "stream",
       "stream": "stderr",
       "text": [
        "."
       ]
      },
      {
       "output_type": "stream",
       "stream": "stderr",
       "text": [
        "."
       ]
      },
      {
       "output_type": "stream",
       "stream": "stderr",
       "text": [
        "."
       ]
      },
      {
       "output_type": "stream",
       "stream": "stderr",
       "text": [
        "."
       ]
      },
      {
       "output_type": "stream",
       "stream": "stderr",
       "text": [
        "."
       ]
      },
      {
       "output_type": "stream",
       "stream": "stderr",
       "text": [
        "."
       ]
      },
      {
       "output_type": "stream",
       "stream": "stderr",
       "text": [
        "."
       ]
      },
      {
       "output_type": "stream",
       "stream": "stderr",
       "text": [
        "."
       ]
      },
      {
       "output_type": "stream",
       "stream": "stderr",
       "text": [
        "."
       ]
      },
      {
       "output_type": "stream",
       "stream": "stderr",
       "text": [
        "."
       ]
      },
      {
       "output_type": "stream",
       "stream": "stderr",
       "text": [
        "."
       ]
      },
      {
       "output_type": "stream",
       "stream": "stderr",
       "text": [
        "."
       ]
      },
      {
       "output_type": "stream",
       "stream": "stderr",
       "text": [
        "."
       ]
      },
      {
       "output_type": "stream",
       "stream": "stderr",
       "text": [
        "."
       ]
      },
      {
       "output_type": "stream",
       "stream": "stderr",
       "text": [
        "."
       ]
      },
      {
       "output_type": "stream",
       "stream": "stderr",
       "text": [
        "."
       ]
      },
      {
       "output_type": "stream",
       "stream": "stderr",
       "text": [
        "."
       ]
      },
      {
       "output_type": "stream",
       "stream": "stderr",
       "text": [
        "."
       ]
      },
      {
       "output_type": "stream",
       "stream": "stderr",
       "text": [
        "."
       ]
      },
      {
       "output_type": "stream",
       "stream": "stderr",
       "text": [
        "."
       ]
      },
      {
       "output_type": "stream",
       "stream": "stderr",
       "text": [
        "."
       ]
      },
      {
       "output_type": "stream",
       "stream": "stderr",
       "text": [
        "."
       ]
      },
      {
       "output_type": "stream",
       "stream": "stderr",
       "text": [
        "."
       ]
      },
      {
       "output_type": "stream",
       "stream": "stderr",
       "text": [
        "."
       ]
      },
      {
       "output_type": "stream",
       "stream": "stderr",
       "text": [
        "."
       ]
      },
      {
       "output_type": "stream",
       "stream": "stderr",
       "text": [
        "."
       ]
      },
      {
       "output_type": "stream",
       "stream": "stderr",
       "text": [
        "."
       ]
      },
      {
       "output_type": "stream",
       "stream": "stderr",
       "text": [
        "."
       ]
      },
      {
       "output_type": "stream",
       "stream": "stderr",
       "text": [
        "."
       ]
      },
      {
       "output_type": "stream",
       "stream": "stderr",
       "text": [
        "."
       ]
      },
      {
       "output_type": "stream",
       "stream": "stderr",
       "text": [
        "."
       ]
      },
      {
       "output_type": "stream",
       "stream": "stderr",
       "text": [
        "."
       ]
      },
      {
       "output_type": "stream",
       "stream": "stderr",
       "text": [
        "."
       ]
      },
      {
       "output_type": "stream",
       "stream": "stderr",
       "text": [
        "."
       ]
      },
      {
       "output_type": "stream",
       "stream": "stderr",
       "text": [
        "."
       ]
      },
      {
       "output_type": "stream",
       "stream": "stderr",
       "text": [
        "."
       ]
      },
      {
       "output_type": "stream",
       "stream": "stderr",
       "text": [
        "."
       ]
      },
      {
       "output_type": "stream",
       "stream": "stderr",
       "text": [
        "."
       ]
      },
      {
       "output_type": "stream",
       "stream": "stderr",
       "text": [
        "."
       ]
      },
      {
       "output_type": "stream",
       "stream": "stderr",
       "text": [
        "."
       ]
      },
      {
       "output_type": "stream",
       "stream": "stderr",
       "text": [
        "."
       ]
      },
      {
       "output_type": "stream",
       "stream": "stderr",
       "text": [
        "."
       ]
      },
      {
       "output_type": "stream",
       "stream": "stderr",
       "text": [
        "."
       ]
      },
      {
       "output_type": "stream",
       "stream": "stderr",
       "text": [
        "."
       ]
      },
      {
       "output_type": "stream",
       "stream": "stderr",
       "text": [
        "."
       ]
      },
      {
       "output_type": "stream",
       "stream": "stderr",
       "text": [
        "."
       ]
      },
      {
       "output_type": "stream",
       "stream": "stderr",
       "text": [
        "."
       ]
      },
      {
       "output_type": "stream",
       "stream": "stderr",
       "text": [
        "."
       ]
      },
      {
       "output_type": "stream",
       "stream": "stderr",
       "text": [
        "."
       ]
      },
      {
       "output_type": "stream",
       "stream": "stderr",
       "text": [
        "."
       ]
      },
      {
       "output_type": "stream",
       "stream": "stderr",
       "text": [
        "."
       ]
      },
      {
       "output_type": "stream",
       "stream": "stderr",
       "text": [
        "."
       ]
      },
      {
       "output_type": "stream",
       "stream": "stderr",
       "text": [
        "."
       ]
      },
      {
       "output_type": "stream",
       "stream": "stderr",
       "text": [
        "."
       ]
      },
      {
       "output_type": "stream",
       "stream": "stderr",
       "text": [
        "."
       ]
      },
      {
       "output_type": "stream",
       "stream": "stderr",
       "text": [
        "."
       ]
      },
      {
       "output_type": "stream",
       "stream": "stderr",
       "text": [
        "."
       ]
      },
      {
       "output_type": "stream",
       "stream": "stderr",
       "text": [
        "."
       ]
      },
      {
       "output_type": "stream",
       "stream": "stderr",
       "text": [
        "."
       ]
      },
      {
       "output_type": "stream",
       "stream": "stderr",
       "text": [
        "."
       ]
      },
      {
       "output_type": "stream",
       "stream": "stderr",
       "text": [
        "."
       ]
      },
      {
       "output_type": "stream",
       "stream": "stderr",
       "text": [
        "."
       ]
      },
      {
       "output_type": "stream",
       "stream": "stderr",
       "text": [
        "."
       ]
      },
      {
       "output_type": "stream",
       "stream": "stderr",
       "text": [
        "."
       ]
      },
      {
       "output_type": "stream",
       "stream": "stderr",
       "text": [
        "."
       ]
      },
      {
       "output_type": "stream",
       "stream": "stderr",
       "text": [
        "."
       ]
      },
      {
       "output_type": "stream",
       "stream": "stderr",
       "text": [
        "."
       ]
      },
      {
       "output_type": "stream",
       "stream": "stderr",
       "text": [
        "."
       ]
      },
      {
       "output_type": "stream",
       "stream": "stderr",
       "text": [
        "."
       ]
      },
      {
       "output_type": "stream",
       "stream": "stderr",
       "text": [
        "."
       ]
      },
      {
       "output_type": "stream",
       "stream": "stderr",
       "text": [
        "."
       ]
      },
      {
       "output_type": "stream",
       "stream": "stderr",
       "text": [
        "."
       ]
      },
      {
       "output_type": "stream",
       "stream": "stderr",
       "text": [
        "."
       ]
      },
      {
       "output_type": "stream",
       "stream": "stderr",
       "text": [
        "."
       ]
      },
      {
       "output_type": "stream",
       "stream": "stderr",
       "text": [
        "."
       ]
      },
      {
       "output_type": "stream",
       "stream": "stderr",
       "text": [
        "."
       ]
      },
      {
       "output_type": "stream",
       "stream": "stderr",
       "text": [
        "."
       ]
      },
      {
       "output_type": "stream",
       "stream": "stderr",
       "text": [
        "."
       ]
      },
      {
       "output_type": "stream",
       "stream": "stderr",
       "text": [
        "."
       ]
      },
      {
       "output_type": "stream",
       "stream": "stderr",
       "text": [
        "."
       ]
      },
      {
       "output_type": "stream",
       "stream": "stderr",
       "text": [
        "."
       ]
      },
      {
       "output_type": "stream",
       "stream": "stderr",
       "text": [
        "."
       ]
      },
      {
       "output_type": "stream",
       "stream": "stderr",
       "text": [
        "."
       ]
      },
      {
       "output_type": "stream",
       "stream": "stderr",
       "text": [
        "."
       ]
      },
      {
       "output_type": "stream",
       "stream": "stderr",
       "text": [
        "."
       ]
      },
      {
       "output_type": "stream",
       "stream": "stderr",
       "text": [
        "."
       ]
      },
      {
       "output_type": "stream",
       "stream": "stderr",
       "text": [
        "."
       ]
      },
      {
       "output_type": "stream",
       "stream": "stderr",
       "text": [
        "."
       ]
      },
      {
       "output_type": "stream",
       "stream": "stderr",
       "text": [
        "."
       ]
      },
      {
       "output_type": "stream",
       "stream": "stderr",
       "text": [
        "."
       ]
      },
      {
       "output_type": "stream",
       "stream": "stderr",
       "text": [
        "."
       ]
      },
      {
       "output_type": "stream",
       "stream": "stderr",
       "text": [
        "."
       ]
      },
      {
       "output_type": "stream",
       "stream": "stderr",
       "text": [
        "."
       ]
      },
      {
       "output_type": "stream",
       "stream": "stderr",
       "text": [
        "."
       ]
      },
      {
       "output_type": "stream",
       "stream": "stderr",
       "text": [
        "."
       ]
      },
      {
       "output_type": "stream",
       "stream": "stderr",
       "text": [
        "."
       ]
      },
      {
       "output_type": "stream",
       "stream": "stderr",
       "text": [
        "."
       ]
      },
      {
       "output_type": "stream",
       "stream": "stderr",
       "text": [
        "."
       ]
      },
      {
       "output_type": "stream",
       "stream": "stderr",
       "text": [
        "."
       ]
      },
      {
       "output_type": "stream",
       "stream": "stderr",
       "text": [
        "."
       ]
      },
      {
       "output_type": "stream",
       "stream": "stderr",
       "text": [
        "."
       ]
      },
      {
       "output_type": "stream",
       "stream": "stderr",
       "text": [
        "."
       ]
      },
      {
       "output_type": "stream",
       "stream": "stderr",
       "text": [
        "."
       ]
      },
      {
       "output_type": "stream",
       "stream": "stderr",
       "text": [
        "."
       ]
      },
      {
       "output_type": "stream",
       "stream": "stderr",
       "text": [
        "."
       ]
      },
      {
       "output_type": "stream",
       "stream": "stderr",
       "text": [
        "."
       ]
      },
      {
       "output_type": "stream",
       "stream": "stderr",
       "text": [
        "."
       ]
      },
      {
       "output_type": "stream",
       "stream": "stderr",
       "text": [
        "."
       ]
      },
      {
       "output_type": "stream",
       "stream": "stderr",
       "text": [
        "."
       ]
      },
      {
       "output_type": "stream",
       "stream": "stderr",
       "text": [
        "."
       ]
      },
      {
       "output_type": "stream",
       "stream": "stderr",
       "text": [
        "."
       ]
      },
      {
       "output_type": "stream",
       "stream": "stderr",
       "text": [
        "."
       ]
      },
      {
       "output_type": "stream",
       "stream": "stderr",
       "text": [
        "."
       ]
      },
      {
       "output_type": "stream",
       "stream": "stderr",
       "text": [
        "."
       ]
      },
      {
       "output_type": "stream",
       "stream": "stderr",
       "text": [
        "."
       ]
      },
      {
       "output_type": "stream",
       "stream": "stderr",
       "text": [
        "."
       ]
      },
      {
       "output_type": "stream",
       "stream": "stderr",
       "text": [
        "."
       ]
      },
      {
       "output_type": "stream",
       "stream": "stderr",
       "text": [
        "."
       ]
      },
      {
       "output_type": "stream",
       "stream": "stderr",
       "text": [
        "."
       ]
      },
      {
       "output_type": "stream",
       "stream": "stderr",
       "text": [
        "."
       ]
      },
      {
       "output_type": "stream",
       "stream": "stderr",
       "text": [
        "."
       ]
      },
      {
       "output_type": "stream",
       "stream": "stderr",
       "text": [
        "."
       ]
      },
      {
       "output_type": "stream",
       "stream": "stderr",
       "text": [
        "."
       ]
      },
      {
       "output_type": "stream",
       "stream": "stderr",
       "text": [
        "."
       ]
      },
      {
       "output_type": "stream",
       "stream": "stderr",
       "text": [
        "."
       ]
      },
      {
       "output_type": "stream",
       "stream": "stderr",
       "text": [
        "."
       ]
      },
      {
       "output_type": "stream",
       "stream": "stderr",
       "text": [
        "."
       ]
      },
      {
       "output_type": "stream",
       "stream": "stderr",
       "text": [
        "."
       ]
      },
      {
       "output_type": "stream",
       "stream": "stderr",
       "text": [
        "."
       ]
      },
      {
       "output_type": "stream",
       "stream": "stderr",
       "text": [
        "."
       ]
      },
      {
       "output_type": "stream",
       "stream": "stderr",
       "text": [
        "."
       ]
      },
      {
       "output_type": "stream",
       "stream": "stderr",
       "text": [
        "."
       ]
      },
      {
       "output_type": "stream",
       "stream": "stderr",
       "text": [
        "."
       ]
      },
      {
       "output_type": "stream",
       "stream": "stderr",
       "text": [
        "."
       ]
      },
      {
       "output_type": "stream",
       "stream": "stderr",
       "text": [
        "."
       ]
      },
      {
       "output_type": "stream",
       "stream": "stderr",
       "text": [
        "."
       ]
      },
      {
       "output_type": "stream",
       "stream": "stderr",
       "text": [
        "."
       ]
      },
      {
       "output_type": "stream",
       "stream": "stderr",
       "text": [
        "."
       ]
      },
      {
       "output_type": "stream",
       "stream": "stderr",
       "text": [
        "."
       ]
      },
      {
       "output_type": "stream",
       "stream": "stderr",
       "text": [
        "."
       ]
      },
      {
       "output_type": "stream",
       "stream": "stderr",
       "text": [
        "."
       ]
      },
      {
       "output_type": "stream",
       "stream": "stderr",
       "text": [
        "."
       ]
      },
      {
       "output_type": "stream",
       "stream": "stderr",
       "text": [
        "."
       ]
      },
      {
       "output_type": "stream",
       "stream": "stderr",
       "text": [
        "."
       ]
      },
      {
       "output_type": "stream",
       "stream": "stderr",
       "text": [
        "."
       ]
      },
      {
       "output_type": "stream",
       "stream": "stderr",
       "text": [
        "."
       ]
      },
      {
       "output_type": "stream",
       "stream": "stderr",
       "text": [
        "."
       ]
      },
      {
       "output_type": "stream",
       "stream": "stderr",
       "text": [
        "."
       ]
      },
      {
       "output_type": "stream",
       "stream": "stderr",
       "text": [
        "."
       ]
      },
      {
       "output_type": "stream",
       "stream": "stderr",
       "text": [
        "."
       ]
      },
      {
       "output_type": "stream",
       "stream": "stderr",
       "text": [
        "."
       ]
      },
      {
       "output_type": "stream",
       "stream": "stderr",
       "text": [
        "."
       ]
      },
      {
       "output_type": "stream",
       "stream": "stderr",
       "text": [
        "."
       ]
      },
      {
       "output_type": "stream",
       "stream": "stderr",
       "text": [
        "."
       ]
      },
      {
       "output_type": "stream",
       "stream": "stderr",
       "text": [
        "."
       ]
      },
      {
       "output_type": "stream",
       "stream": "stderr",
       "text": [
        "."
       ]
      },
      {
       "output_type": "stream",
       "stream": "stderr",
       "text": [
        "."
       ]
      },
      {
       "output_type": "stream",
       "stream": "stderr",
       "text": [
        "."
       ]
      },
      {
       "output_type": "stream",
       "stream": "stderr",
       "text": [
        "."
       ]
      },
      {
       "output_type": "stream",
       "stream": "stderr",
       "text": [
        "."
       ]
      },
      {
       "output_type": "stream",
       "stream": "stderr",
       "text": [
        "."
       ]
      },
      {
       "output_type": "stream",
       "stream": "stderr",
       "text": [
        "."
       ]
      },
      {
       "output_type": "stream",
       "stream": "stderr",
       "text": [
        "."
       ]
      },
      {
       "output_type": "stream",
       "stream": "stderr",
       "text": [
        "."
       ]
      },
      {
       "output_type": "stream",
       "stream": "stderr",
       "text": [
        "."
       ]
      },
      {
       "output_type": "stream",
       "stream": "stderr",
       "text": [
        "."
       ]
      },
      {
       "output_type": "stream",
       "stream": "stderr",
       "text": [
        "K."
       ]
      },
      {
       "output_type": "stream",
       "stream": "stderr",
       "text": [
        "."
       ]
      },
      {
       "output_type": "stream",
       "stream": "stderr",
       "text": [
        "."
       ]
      },
      {
       "output_type": "stream",
       "stream": "stderr",
       "text": [
        "."
       ]
      },
      {
       "output_type": "stream",
       "stream": "stderr",
       "text": [
        "."
       ]
      },
      {
       "output_type": "stream",
       "stream": "stderr",
       "text": [
        "."
       ]
      },
      {
       "output_type": "stream",
       "stream": "stderr",
       "text": [
        "."
       ]
      },
      {
       "output_type": "stream",
       "stream": "stderr",
       "text": [
        "."
       ]
      },
      {
       "output_type": "stream",
       "stream": "stderr",
       "text": [
        "."
       ]
      },
      {
       "output_type": "stream",
       "stream": "stderr",
       "text": [
        "."
       ]
      },
      {
       "output_type": "stream",
       "stream": "stderr",
       "text": [
        "."
       ]
      },
      {
       "output_type": "stream",
       "stream": "stderr",
       "text": [
        "."
       ]
      },
      {
       "output_type": "stream",
       "stream": "stderr",
       "text": [
        "."
       ]
      },
      {
       "output_type": "stream",
       "stream": "stderr",
       "text": [
        "."
       ]
      },
      {
       "output_type": "stream",
       "stream": "stderr",
       "text": [
        "."
       ]
      },
      {
       "output_type": "stream",
       "stream": "stderr",
       "text": [
        "."
       ]
      },
      {
       "output_type": "stream",
       "stream": "stderr",
       "text": [
        "."
       ]
      },
      {
       "output_type": "stream",
       "stream": "stderr",
       "text": [
        "."
       ]
      },
      {
       "output_type": "stream",
       "stream": "stderr",
       "text": [
        "."
       ]
      },
      {
       "output_type": "stream",
       "stream": "stderr",
       "text": [
        "."
       ]
      },
      {
       "output_type": "stream",
       "stream": "stderr",
       "text": [
        "."
       ]
      },
      {
       "output_type": "stream",
       "stream": "stderr",
       "text": [
        "."
       ]
      },
      {
       "output_type": "stream",
       "stream": "stderr",
       "text": [
        "."
       ]
      },
      {
       "output_type": "stream",
       "stream": "stderr",
       "text": [
        "."
       ]
      },
      {
       "output_type": "stream",
       "stream": "stderr",
       "text": [
        "."
       ]
      },
      {
       "output_type": "stream",
       "stream": "stderr",
       "text": [
        "."
       ]
      },
      {
       "output_type": "stream",
       "stream": "stderr",
       "text": [
        "."
       ]
      },
      {
       "output_type": "stream",
       "stream": "stderr",
       "text": [
        "."
       ]
      },
      {
       "output_type": "stream",
       "stream": "stderr",
       "text": [
        "."
       ]
      },
      {
       "output_type": "stream",
       "stream": "stderr",
       "text": [
        "."
       ]
      },
      {
       "output_type": "stream",
       "stream": "stderr",
       "text": [
        "."
       ]
      },
      {
       "output_type": "stream",
       "stream": "stderr",
       "text": [
        "."
       ]
      },
      {
       "output_type": "stream",
       "stream": "stderr",
       "text": [
        "."
       ]
      },
      {
       "output_type": "stream",
       "stream": "stderr",
       "text": [
        "."
       ]
      },
      {
       "output_type": "stream",
       "stream": "stderr",
       "text": [
        "."
       ]
      },
      {
       "output_type": "stream",
       "stream": "stderr",
       "text": [
        "."
       ]
      },
      {
       "output_type": "stream",
       "stream": "stderr",
       "text": [
        "."
       ]
      },
      {
       "output_type": "stream",
       "stream": "stderr",
       "text": [
        "."
       ]
      },
      {
       "output_type": "stream",
       "stream": "stderr",
       "text": [
        "."
       ]
      },
      {
       "output_type": "stream",
       "stream": "stderr",
       "text": [
        "."
       ]
      },
      {
       "output_type": "stream",
       "stream": "stderr",
       "text": [
        "."
       ]
      },
      {
       "output_type": "stream",
       "stream": "stderr",
       "text": [
        "."
       ]
      },
      {
       "output_type": "stream",
       "stream": "stderr",
       "text": [
        "."
       ]
      },
      {
       "output_type": "stream",
       "stream": "stderr",
       "text": [
        "."
       ]
      },
      {
       "output_type": "stream",
       "stream": "stderr",
       "text": [
        "."
       ]
      },
      {
       "output_type": "stream",
       "stream": "stderr",
       "text": [
        "."
       ]
      },
      {
       "output_type": "stream",
       "stream": "stderr",
       "text": [
        "."
       ]
      },
      {
       "output_type": "stream",
       "stream": "stderr",
       "text": [
        "."
       ]
      },
      {
       "output_type": "stream",
       "stream": "stderr",
       "text": [
        "."
       ]
      },
      {
       "output_type": "stream",
       "stream": "stderr",
       "text": [
        "."
       ]
      },
      {
       "output_type": "stream",
       "stream": "stderr",
       "text": [
        "."
       ]
      },
      {
       "output_type": "stream",
       "stream": "stderr",
       "text": [
        "."
       ]
      },
      {
       "output_type": "stream",
       "stream": "stderr",
       "text": [
        "."
       ]
      },
      {
       "output_type": "stream",
       "stream": "stderr",
       "text": [
        "."
       ]
      },
      {
       "output_type": "stream",
       "stream": "stderr",
       "text": [
        "."
       ]
      },
      {
       "output_type": "stream",
       "stream": "stderr",
       "text": [
        "."
       ]
      },
      {
       "output_type": "stream",
       "stream": "stderr",
       "text": [
        "."
       ]
      },
      {
       "output_type": "stream",
       "stream": "stderr",
       "text": [
        "."
       ]
      },
      {
       "output_type": "stream",
       "stream": "stderr",
       "text": [
        "."
       ]
      },
      {
       "output_type": "stream",
       "stream": "stderr",
       "text": [
        "."
       ]
      },
      {
       "output_type": "stream",
       "stream": "stderr",
       "text": [
        "."
       ]
      },
      {
       "output_type": "stream",
       "stream": "stderr",
       "text": [
        "."
       ]
      },
      {
       "output_type": "stream",
       "stream": "stderr",
       "text": [
        "."
       ]
      },
      {
       "output_type": "stream",
       "stream": "stderr",
       "text": [
        "."
       ]
      },
      {
       "output_type": "stream",
       "stream": "stderr",
       "text": [
        "."
       ]
      },
      {
       "output_type": "stream",
       "stream": "stderr",
       "text": [
        "."
       ]
      },
      {
       "output_type": "stream",
       "stream": "stderr",
       "text": [
        "."
       ]
      },
      {
       "output_type": "stream",
       "stream": "stderr",
       "text": [
        "."
       ]
      },
      {
       "output_type": "stream",
       "stream": "stderr",
       "text": [
        "."
       ]
      },
      {
       "output_type": "stream",
       "stream": "stderr",
       "text": [
        "."
       ]
      },
      {
       "output_type": "stream",
       "stream": "stderr",
       "text": [
        "."
       ]
      },
      {
       "output_type": "stream",
       "stream": "stderr",
       "text": [
        "."
       ]
      },
      {
       "output_type": "stream",
       "stream": "stderr",
       "text": [
        "."
       ]
      },
      {
       "output_type": "stream",
       "stream": "stderr",
       "text": [
        "."
       ]
      },
      {
       "output_type": "stream",
       "stream": "stderr",
       "text": [
        "."
       ]
      },
      {
       "output_type": "stream",
       "stream": "stderr",
       "text": [
        "."
       ]
      },
      {
       "output_type": "stream",
       "stream": "stderr",
       "text": [
        "."
       ]
      },
      {
       "output_type": "stream",
       "stream": "stderr",
       "text": [
        "F"
       ]
      },
      {
       "output_type": "stream",
       "stream": "stderr",
       "text": [
        "."
       ]
      },
      {
       "output_type": "stream",
       "stream": "stderr",
       "text": [
        "."
       ]
      },
      {
       "output_type": "stream",
       "stream": "stderr",
       "text": [
        "."
       ]
      },
      {
       "output_type": "stream",
       "stream": "stderr",
       "text": [
        "."
       ]
      },
      {
       "output_type": "stream",
       "stream": "stderr",
       "text": [
        "."
       ]
      },
      {
       "output_type": "stream",
       "stream": "stderr",
       "text": [
        "."
       ]
      },
      {
       "output_type": "stream",
       "stream": "stderr",
       "text": [
        "."
       ]
      },
      {
       "output_type": "stream",
       "stream": "stderr",
       "text": [
        "."
       ]
      },
      {
       "output_type": "stream",
       "stream": "stderr",
       "text": [
        "."
       ]
      },
      {
       "output_type": "stream",
       "stream": "stderr",
       "text": [
        "."
       ]
      },
      {
       "output_type": "stream",
       "stream": "stderr",
       "text": [
        "."
       ]
      },
      {
       "output_type": "stream",
       "stream": "stderr",
       "text": [
        "."
       ]
      },
      {
       "output_type": "stream",
       "stream": "stderr",
       "text": [
        "."
       ]
      },
      {
       "output_type": "stream",
       "stream": "stderr",
       "text": [
        "."
       ]
      },
      {
       "output_type": "stream",
       "stream": "stderr",
       "text": [
        "."
       ]
      },
      {
       "output_type": "stream",
       "stream": "stderr",
       "text": [
        "."
       ]
      },
      {
       "output_type": "stream",
       "stream": "stderr",
       "text": [
        "."
       ]
      },
      {
       "output_type": "stream",
       "stream": "stderr",
       "text": [
        "."
       ]
      },
      {
       "output_type": "stream",
       "stream": "stderr",
       "text": [
        "."
       ]
      },
      {
       "output_type": "stream",
       "stream": "stderr",
       "text": [
        "."
       ]
      },
      {
       "output_type": "stream",
       "stream": "stderr",
       "text": [
        "."
       ]
      },
      {
       "output_type": "stream",
       "stream": "stderr",
       "text": [
        "."
       ]
      },
      {
       "output_type": "stream",
       "stream": "stderr",
       "text": [
        "."
       ]
      },
      {
       "output_type": "stream",
       "stream": "stderr",
       "text": [
        "."
       ]
      },
      {
       "output_type": "stream",
       "stream": "stderr",
       "text": [
        "."
       ]
      },
      {
       "output_type": "stream",
       "stream": "stderr",
       "text": [
        "."
       ]
      },
      {
       "output_type": "stream",
       "stream": "stderr",
       "text": [
        "."
       ]
      },
      {
       "output_type": "stream",
       "stream": "stderr",
       "text": [
        "."
       ]
      },
      {
       "output_type": "stream",
       "stream": "stderr",
       "text": [
        "."
       ]
      },
      {
       "output_type": "stream",
       "stream": "stderr",
       "text": [
        "."
       ]
      },
      {
       "output_type": "stream",
       "stream": "stderr",
       "text": [
        "."
       ]
      },
      {
       "output_type": "stream",
       "stream": "stderr",
       "text": [
        "."
       ]
      },
      {
       "output_type": "stream",
       "stream": "stderr",
       "text": [
        "."
       ]
      },
      {
       "output_type": "stream",
       "stream": "stderr",
       "text": [
        "."
       ]
      },
      {
       "output_type": "stream",
       "stream": "stderr",
       "text": [
        "."
       ]
      },
      {
       "output_type": "stream",
       "stream": "stderr",
       "text": [
        "."
       ]
      },
      {
       "output_type": "stream",
       "stream": "stderr",
       "text": [
        "."
       ]
      },
      {
       "output_type": "stream",
       "stream": "stderr",
       "text": [
        "."
       ]
      },
      {
       "output_type": "stream",
       "stream": "stderr",
       "text": [
        "."
       ]
      },
      {
       "output_type": "stream",
       "stream": "stderr",
       "text": [
        "."
       ]
      },
      {
       "output_type": "stream",
       "stream": "stderr",
       "text": [
        "."
       ]
      },
      {
       "output_type": "stream",
       "stream": "stderr",
       "text": [
        "."
       ]
      },
      {
       "output_type": "stream",
       "stream": "stderr",
       "text": [
        "."
       ]
      },
      {
       "output_type": "stream",
       "stream": "stderr",
       "text": [
        "."
       ]
      },
      {
       "output_type": "stream",
       "stream": "stderr",
       "text": [
        "."
       ]
      },
      {
       "output_type": "stream",
       "stream": "stderr",
       "text": [
        "."
       ]
      },
      {
       "output_type": "stream",
       "stream": "stderr",
       "text": [
        "."
       ]
      },
      {
       "output_type": "stream",
       "stream": "stderr",
       "text": [
        "."
       ]
      },
      {
       "output_type": "stream",
       "stream": "stderr",
       "text": [
        "."
       ]
      },
      {
       "output_type": "stream",
       "stream": "stderr",
       "text": [
        "."
       ]
      },
      {
       "output_type": "stream",
       "stream": "stderr",
       "text": [
        "."
       ]
      },
      {
       "output_type": "stream",
       "stream": "stderr",
       "text": [
        "."
       ]
      },
      {
       "output_type": "stream",
       "stream": "stderr",
       "text": [
        "."
       ]
      },
      {
       "output_type": "stream",
       "stream": "stderr",
       "text": [
        "."
       ]
      },
      {
       "output_type": "stream",
       "stream": "stderr",
       "text": [
        "."
       ]
      },
      {
       "output_type": "stream",
       "stream": "stderr",
       "text": [
        "."
       ]
      },
      {
       "output_type": "stream",
       "stream": "stderr",
       "text": [
        "."
       ]
      },
      {
       "output_type": "stream",
       "stream": "stderr",
       "text": [
        "."
       ]
      },
      {
       "output_type": "stream",
       "stream": "stderr",
       "text": [
        "."
       ]
      },
      {
       "output_type": "stream",
       "stream": "stderr",
       "text": [
        "."
       ]
      },
      {
       "output_type": "stream",
       "stream": "stderr",
       "text": [
        "."
       ]
      },
      {
       "output_type": "stream",
       "stream": "stderr",
       "text": [
        "."
       ]
      },
      {
       "output_type": "stream",
       "stream": "stderr",
       "text": [
        "."
       ]
      },
      {
       "output_type": "stream",
       "stream": "stderr",
       "text": [
        "."
       ]
      },
      {
       "output_type": "stream",
       "stream": "stderr",
       "text": [
        "."
       ]
      },
      {
       "output_type": "stream",
       "stream": "stderr",
       "text": [
        "."
       ]
      },
      {
       "output_type": "stream",
       "stream": "stderr",
       "text": [
        "."
       ]
      },
      {
       "output_type": "stream",
       "stream": "stderr",
       "text": [
        "."
       ]
      },
      {
       "output_type": "stream",
       "stream": "stderr",
       "text": [
        "."
       ]
      },
      {
       "output_type": "stream",
       "stream": "stderr",
       "text": [
        "."
       ]
      },
      {
       "output_type": "stream",
       "stream": "stderr",
       "text": [
        "."
       ]
      },
      {
       "output_type": "stream",
       "stream": "stderr",
       "text": [
        "."
       ]
      },
      {
       "output_type": "stream",
       "stream": "stderr",
       "text": [
        "."
       ]
      },
      {
       "output_type": "stream",
       "stream": "stderr",
       "text": [
        "."
       ]
      },
      {
       "output_type": "stream",
       "stream": "stderr",
       "text": [
        "."
       ]
      },
      {
       "output_type": "stream",
       "stream": "stderr",
       "text": [
        "."
       ]
      },
      {
       "output_type": "stream",
       "stream": "stderr",
       "text": [
        "."
       ]
      },
      {
       "output_type": "stream",
       "stream": "stderr",
       "text": [
        "."
       ]
      },
      {
       "output_type": "stream",
       "stream": "stderr",
       "text": [
        "."
       ]
      },
      {
       "output_type": "stream",
       "stream": "stderr",
       "text": [
        "."
       ]
      },
      {
       "output_type": "stream",
       "stream": "stderr",
       "text": [
        "."
       ]
      },
      {
       "output_type": "stream",
       "stream": "stderr",
       "text": [
        "."
       ]
      },
      {
       "output_type": "stream",
       "stream": "stderr",
       "text": [
        "."
       ]
      },
      {
       "output_type": "stream",
       "stream": "stderr",
       "text": [
        "."
       ]
      },
      {
       "output_type": "stream",
       "stream": "stderr",
       "text": [
        "."
       ]
      },
      {
       "output_type": "stream",
       "stream": "stderr",
       "text": [
        "."
       ]
      },
      {
       "output_type": "stream",
       "stream": "stderr",
       "text": [
        "."
       ]
      },
      {
       "output_type": "stream",
       "stream": "stderr",
       "text": [
        "."
       ]
      },
      {
       "output_type": "stream",
       "stream": "stderr",
       "text": [
        "."
       ]
      },
      {
       "output_type": "stream",
       "stream": "stderr",
       "text": [
        "."
       ]
      },
      {
       "output_type": "stream",
       "stream": "stderr",
       "text": [
        "."
       ]
      },
      {
       "output_type": "stream",
       "stream": "stderr",
       "text": [
        "."
       ]
      },
      {
       "output_type": "stream",
       "stream": "stderr",
       "text": [
        "."
       ]
      },
      {
       "output_type": "stream",
       "stream": "stderr",
       "text": [
        "."
       ]
      },
      {
       "output_type": "stream",
       "stream": "stderr",
       "text": [
        "."
       ]
      },
      {
       "output_type": "stream",
       "stream": "stderr",
       "text": [
        "."
       ]
      },
      {
       "output_type": "stream",
       "stream": "stderr",
       "text": [
        "."
       ]
      },
      {
       "output_type": "stream",
       "stream": "stderr",
       "text": [
        "."
       ]
      },
      {
       "output_type": "stream",
       "stream": "stderr",
       "text": [
        "."
       ]
      },
      {
       "output_type": "stream",
       "stream": "stderr",
       "text": [
        "."
       ]
      },
      {
       "output_type": "stream",
       "stream": "stderr",
       "text": [
        "."
       ]
      },
      {
       "output_type": "stream",
       "stream": "stderr",
       "text": [
        "."
       ]
      },
      {
       "output_type": "stream",
       "stream": "stderr",
       "text": [
        "."
       ]
      },
      {
       "output_type": "stream",
       "stream": "stderr",
       "text": [
        "."
       ]
      },
      {
       "output_type": "stream",
       "stream": "stderr",
       "text": [
        "."
       ]
      },
      {
       "output_type": "stream",
       "stream": "stderr",
       "text": [
        "."
       ]
      },
      {
       "output_type": "stream",
       "stream": "stderr",
       "text": [
        "."
       ]
      },
      {
       "output_type": "stream",
       "stream": "stderr",
       "text": [
        "."
       ]
      },
      {
       "output_type": "stream",
       "stream": "stderr",
       "text": [
        "."
       ]
      },
      {
       "output_type": "stream",
       "stream": "stderr",
       "text": [
        "."
       ]
      },
      {
       "output_type": "stream",
       "stream": "stderr",
       "text": [
        "."
       ]
      },
      {
       "output_type": "stream",
       "stream": "stderr",
       "text": [
        "."
       ]
      },
      {
       "output_type": "stream",
       "stream": "stderr",
       "text": [
        "."
       ]
      },
      {
       "output_type": "stream",
       "stream": "stderr",
       "text": [
        "."
       ]
      },
      {
       "output_type": "stream",
       "stream": "stderr",
       "text": [
        "."
       ]
      },
      {
       "output_type": "stream",
       "stream": "stderr",
       "text": [
        "."
       ]
      },
      {
       "output_type": "stream",
       "stream": "stderr",
       "text": [
        "."
       ]
      },
      {
       "output_type": "stream",
       "stream": "stderr",
       "text": [
        "."
       ]
      },
      {
       "output_type": "stream",
       "stream": "stderr",
       "text": [
        "."
       ]
      },
      {
       "output_type": "stream",
       "stream": "stderr",
       "text": [
        "."
       ]
      },
      {
       "output_type": "stream",
       "stream": "stderr",
       "text": [
        "."
       ]
      },
      {
       "output_type": "stream",
       "stream": "stderr",
       "text": [
        "."
       ]
      },
      {
       "output_type": "stream",
       "stream": "stderr",
       "text": [
        "."
       ]
      },
      {
       "output_type": "stream",
       "stream": "stderr",
       "text": [
        "."
       ]
      },
      {
       "output_type": "stream",
       "stream": "stderr",
       "text": [
        "."
       ]
      },
      {
       "output_type": "stream",
       "stream": "stderr",
       "text": [
        "."
       ]
      },
      {
       "output_type": "stream",
       "stream": "stderr",
       "text": [
        "."
       ]
      },
      {
       "output_type": "stream",
       "stream": "stderr",
       "text": [
        "."
       ]
      },
      {
       "output_type": "stream",
       "stream": "stderr",
       "text": [
        "."
       ]
      },
      {
       "output_type": "stream",
       "stream": "stderr",
       "text": [
        "."
       ]
      },
      {
       "output_type": "stream",
       "stream": "stderr",
       "text": [
        "."
       ]
      },
      {
       "output_type": "stream",
       "stream": "stderr",
       "text": [
        "."
       ]
      },
      {
       "output_type": "stream",
       "stream": "stderr",
       "text": [
        "."
       ]
      },
      {
       "output_type": "stream",
       "stream": "stderr",
       "text": [
        "."
       ]
      },
      {
       "output_type": "stream",
       "stream": "stderr",
       "text": [
        "."
       ]
      },
      {
       "output_type": "stream",
       "stream": "stderr",
       "text": [
        "."
       ]
      },
      {
       "output_type": "stream",
       "stream": "stderr",
       "text": [
        "."
       ]
      },
      {
       "output_type": "stream",
       "stream": "stderr",
       "text": [
        "."
       ]
      },
      {
       "output_type": "stream",
       "stream": "stderr",
       "text": [
        "."
       ]
      },
      {
       "output_type": "stream",
       "stream": "stderr",
       "text": [
        "."
       ]
      },
      {
       "output_type": "stream",
       "stream": "stderr",
       "text": [
        "."
       ]
      },
      {
       "output_type": "stream",
       "stream": "stderr",
       "text": [
        "."
       ]
      },
      {
       "output_type": "stream",
       "stream": "stderr",
       "text": [
        "."
       ]
      },
      {
       "output_type": "stream",
       "stream": "stderr",
       "text": [
        "."
       ]
      },
      {
       "output_type": "stream",
       "stream": "stderr",
       "text": [
        "."
       ]
      },
      {
       "output_type": "stream",
       "stream": "stderr",
       "text": [
        "."
       ]
      },
      {
       "output_type": "stream",
       "stream": "stderr",
       "text": [
        "."
       ]
      },
      {
       "output_type": "stream",
       "stream": "stderr",
       "text": [
        "."
       ]
      },
      {
       "output_type": "stream",
       "stream": "stderr",
       "text": [
        "."
       ]
      },
      {
       "output_type": "stream",
       "stream": "stderr",
       "text": [
        "."
       ]
      },
      {
       "output_type": "stream",
       "stream": "stderr",
       "text": [
        "."
       ]
      },
      {
       "output_type": "stream",
       "stream": "stderr",
       "text": [
        "."
       ]
      },
      {
       "output_type": "stream",
       "stream": "stderr",
       "text": [
        "."
       ]
      },
      {
       "output_type": "stream",
       "stream": "stderr",
       "text": [
        "."
       ]
      },
      {
       "output_type": "stream",
       "stream": "stderr",
       "text": [
        "."
       ]
      },
      {
       "output_type": "stream",
       "stream": "stderr",
       "text": [
        "."
       ]
      },
      {
       "output_type": "stream",
       "stream": "stderr",
       "text": [
        "."
       ]
      },
      {
       "output_type": "stream",
       "stream": "stderr",
       "text": [
        "."
       ]
      },
      {
       "output_type": "stream",
       "stream": "stderr",
       "text": [
        "."
       ]
      },
      {
       "output_type": "stream",
       "stream": "stderr",
       "text": [
        "."
       ]
      },
      {
       "output_type": "stream",
       "stream": "stderr",
       "text": [
        "."
       ]
      },
      {
       "output_type": "stream",
       "stream": "stderr",
       "text": [
        "."
       ]
      },
      {
       "output_type": "stream",
       "stream": "stderr",
       "text": [
        "."
       ]
      },
      {
       "output_type": "stream",
       "stream": "stderr",
       "text": [
        "."
       ]
      },
      {
       "output_type": "stream",
       "stream": "stderr",
       "text": [
        "."
       ]
      },
      {
       "output_type": "stream",
       "stream": "stderr",
       "text": [
        "."
       ]
      },
      {
       "output_type": "stream",
       "stream": "stderr",
       "text": [
        "."
       ]
      },
      {
       "output_type": "stream",
       "stream": "stderr",
       "text": [
        "."
       ]
      },
      {
       "output_type": "stream",
       "stream": "stderr",
       "text": [
        "."
       ]
      },
      {
       "output_type": "stream",
       "stream": "stderr",
       "text": [
        "."
       ]
      },
      {
       "output_type": "stream",
       "stream": "stderr",
       "text": [
        "."
       ]
      },
      {
       "output_type": "stream",
       "stream": "stderr",
       "text": [
        "."
       ]
      },
      {
       "output_type": "stream",
       "stream": "stderr",
       "text": [
        "."
       ]
      },
      {
       "output_type": "stream",
       "stream": "stderr",
       "text": [
        "."
       ]
      },
      {
       "output_type": "stream",
       "stream": "stderr",
       "text": [
        "."
       ]
      },
      {
       "output_type": "stream",
       "stream": "stderr",
       "text": [
        "."
       ]
      },
      {
       "output_type": "stream",
       "stream": "stderr",
       "text": [
        "."
       ]
      },
      {
       "output_type": "stream",
       "stream": "stderr",
       "text": [
        "."
       ]
      },
      {
       "output_type": "stream",
       "stream": "stderr",
       "text": [
        "."
       ]
      },
      {
       "output_type": "stream",
       "stream": "stderr",
       "text": [
        "."
       ]
      },
      {
       "output_type": "stream",
       "stream": "stderr",
       "text": [
        "."
       ]
      },
      {
       "output_type": "stream",
       "stream": "stderr",
       "text": [
        "."
       ]
      },
      {
       "output_type": "stream",
       "stream": "stderr",
       "text": [
        "."
       ]
      },
      {
       "output_type": "stream",
       "stream": "stderr",
       "text": [
        "."
       ]
      },
      {
       "output_type": "stream",
       "stream": "stderr",
       "text": [
        "."
       ]
      },
      {
       "output_type": "stream",
       "stream": "stderr",
       "text": [
        "."
       ]
      },
      {
       "output_type": "stream",
       "stream": "stderr",
       "text": [
        "."
       ]
      },
      {
       "output_type": "stream",
       "stream": "stderr",
       "text": [
        "."
       ]
      },
      {
       "output_type": "stream",
       "stream": "stderr",
       "text": [
        "."
       ]
      },
      {
       "output_type": "stream",
       "stream": "stderr",
       "text": [
        "."
       ]
      },
      {
       "output_type": "stream",
       "stream": "stderr",
       "text": [
        "."
       ]
      },
      {
       "output_type": "stream",
       "stream": "stderr",
       "text": [
        "."
       ]
      },
      {
       "output_type": "stream",
       "stream": "stderr",
       "text": [
        "."
       ]
      },
      {
       "output_type": "stream",
       "stream": "stderr",
       "text": [
        "."
       ]
      },
      {
       "output_type": "stream",
       "stream": "stderr",
       "text": [
        "."
       ]
      },
      {
       "output_type": "stream",
       "stream": "stderr",
       "text": [
        "."
       ]
      },
      {
       "output_type": "stream",
       "stream": "stderr",
       "text": [
        "."
       ]
      },
      {
       "output_type": "stream",
       "stream": "stderr",
       "text": [
        "."
       ]
      },
      {
       "output_type": "stream",
       "stream": "stderr",
       "text": [
        "."
       ]
      },
      {
       "output_type": "stream",
       "stream": "stderr",
       "text": [
        "."
       ]
      },
      {
       "output_type": "stream",
       "stream": "stderr",
       "text": [
        "."
       ]
      },
      {
       "output_type": "stream",
       "stream": "stderr",
       "text": [
        "."
       ]
      },
      {
       "output_type": "stream",
       "stream": "stderr",
       "text": [
        "."
       ]
      },
      {
       "output_type": "stream",
       "stream": "stderr",
       "text": [
        "."
       ]
      },
      {
       "output_type": "stream",
       "stream": "stderr",
       "text": [
        "."
       ]
      },
      {
       "output_type": "stream",
       "stream": "stderr",
       "text": [
        "."
       ]
      },
      {
       "output_type": "stream",
       "stream": "stderr",
       "text": [
        "."
       ]
      },
      {
       "output_type": "stream",
       "stream": "stderr",
       "text": [
        "."
       ]
      },
      {
       "output_type": "stream",
       "stream": "stderr",
       "text": [
        "."
       ]
      },
      {
       "output_type": "stream",
       "stream": "stderr",
       "text": [
        "."
       ]
      },
      {
       "output_type": "stream",
       "stream": "stderr",
       "text": [
        "."
       ]
      },
      {
       "output_type": "stream",
       "stream": "stderr",
       "text": [
        "."
       ]
      },
      {
       "output_type": "stream",
       "stream": "stderr",
       "text": [
        "."
       ]
      },
      {
       "output_type": "stream",
       "stream": "stderr",
       "text": [
        "."
       ]
      },
      {
       "output_type": "stream",
       "stream": "stderr",
       "text": [
        "."
       ]
      },
      {
       "output_type": "stream",
       "stream": "stderr",
       "text": [
        "."
       ]
      },
      {
       "output_type": "stream",
       "stream": "stderr",
       "text": [
        "."
       ]
      },
      {
       "output_type": "stream",
       "stream": "stderr",
       "text": [
        "."
       ]
      },
      {
       "output_type": "stream",
       "stream": "stderr",
       "text": [
        "."
       ]
      },
      {
       "output_type": "stream",
       "stream": "stderr",
       "text": [
        "."
       ]
      },
      {
       "output_type": "stream",
       "stream": "stderr",
       "text": [
        "."
       ]
      },
      {
       "output_type": "stream",
       "stream": "stderr",
       "text": [
        "."
       ]
      },
      {
       "output_type": "stream",
       "stream": "stderr",
       "text": [
        "."
       ]
      },
      {
       "output_type": "stream",
       "stream": "stderr",
       "text": [
        "."
       ]
      },
      {
       "output_type": "stream",
       "stream": "stderr",
       "text": [
        "."
       ]
      },
      {
       "output_type": "stream",
       "stream": "stderr",
       "text": [
        "."
       ]
      },
      {
       "output_type": "stream",
       "stream": "stderr",
       "text": [
        "."
       ]
      },
      {
       "output_type": "stream",
       "stream": "stderr",
       "text": [
        "."
       ]
      },
      {
       "output_type": "stream",
       "stream": "stderr",
       "text": [
        "."
       ]
      },
      {
       "output_type": "stream",
       "stream": "stderr",
       "text": [
        "."
       ]
      },
      {
       "output_type": "stream",
       "stream": "stderr",
       "text": [
        "."
       ]
      },
      {
       "output_type": "stream",
       "stream": "stderr",
       "text": [
        "."
       ]
      },
      {
       "output_type": "stream",
       "stream": "stderr",
       "text": [
        "."
       ]
      },
      {
       "output_type": "stream",
       "stream": "stderr",
       "text": [
        "."
       ]
      },
      {
       "output_type": "stream",
       "stream": "stderr",
       "text": [
        "."
       ]
      },
      {
       "output_type": "stream",
       "stream": "stderr",
       "text": [
        "."
       ]
      },
      {
       "output_type": "stream",
       "stream": "stderr",
       "text": [
        "."
       ]
      },
      {
       "output_type": "stream",
       "stream": "stderr",
       "text": [
        "."
       ]
      },
      {
       "output_type": "stream",
       "stream": "stderr",
       "text": [
        "."
       ]
      },
      {
       "output_type": "stream",
       "stream": "stderr",
       "text": [
        "."
       ]
      },
      {
       "output_type": "stream",
       "stream": "stderr",
       "text": [
        "."
       ]
      },
      {
       "output_type": "stream",
       "stream": "stderr",
       "text": [
        "."
       ]
      },
      {
       "output_type": "stream",
       "stream": "stderr",
       "text": [
        "."
       ]
      },
      {
       "output_type": "stream",
       "stream": "stderr",
       "text": [
        "."
       ]
      },
      {
       "output_type": "stream",
       "stream": "stderr",
       "text": [
        "."
       ]
      },
      {
       "output_type": "stream",
       "stream": "stderr",
       "text": [
        "."
       ]
      },
      {
       "output_type": "stream",
       "stream": "stderr",
       "text": [
        "."
       ]
      },
      {
       "output_type": "stream",
       "stream": "stderr",
       "text": [
        "."
       ]
      },
      {
       "output_type": "stream",
       "stream": "stderr",
       "text": [
        "."
       ]
      },
      {
       "output_type": "stream",
       "stream": "stderr",
       "text": [
        "."
       ]
      },
      {
       "output_type": "stream",
       "stream": "stderr",
       "text": [
        "."
       ]
      },
      {
       "output_type": "stream",
       "stream": "stderr",
       "text": [
        "."
       ]
      },
      {
       "output_type": "stream",
       "stream": "stderr",
       "text": [
        "."
       ]
      },
      {
       "output_type": "stream",
       "stream": "stderr",
       "text": [
        "."
       ]
      },
      {
       "output_type": "stream",
       "stream": "stderr",
       "text": [
        "."
       ]
      },
      {
       "output_type": "stream",
       "stream": "stderr",
       "text": [
        "."
       ]
      },
      {
       "output_type": "stream",
       "stream": "stderr",
       "text": [
        "."
       ]
      },
      {
       "output_type": "stream",
       "stream": "stderr",
       "text": [
        "."
       ]
      },
      {
       "output_type": "stream",
       "stream": "stderr",
       "text": [
        "."
       ]
      },
      {
       "output_type": "stream",
       "stream": "stderr",
       "text": [
        "."
       ]
      },
      {
       "output_type": "stream",
       "stream": "stderr",
       "text": [
        "."
       ]
      },
      {
       "output_type": "stream",
       "stream": "stderr",
       "text": [
        "."
       ]
      },
      {
       "output_type": "stream",
       "stream": "stderr",
       "text": [
        "."
       ]
      },
      {
       "output_type": "stream",
       "stream": "stderr",
       "text": [
        "."
       ]
      },
      {
       "output_type": "stream",
       "stream": "stderr",
       "text": [
        "."
       ]
      },
      {
       "output_type": "stream",
       "stream": "stderr",
       "text": [
        "."
       ]
      },
      {
       "output_type": "stream",
       "stream": "stderr",
       "text": [
        "."
       ]
      },
      {
       "output_type": "stream",
       "stream": "stderr",
       "text": [
        "."
       ]
      },
      {
       "output_type": "stream",
       "stream": "stderr",
       "text": [
        "."
       ]
      },
      {
       "output_type": "stream",
       "stream": "stderr",
       "text": [
        "."
       ]
      },
      {
       "output_type": "stream",
       "stream": "stderr",
       "text": [
        "."
       ]
      },
      {
       "output_type": "stream",
       "stream": "stderr",
       "text": [
        "."
       ]
      },
      {
       "output_type": "stream",
       "stream": "stderr",
       "text": [
        "."
       ]
      },
      {
       "output_type": "stream",
       "stream": "stderr",
       "text": [
        "."
       ]
      },
      {
       "output_type": "stream",
       "stream": "stderr",
       "text": [
        "."
       ]
      },
      {
       "output_type": "stream",
       "stream": "stderr",
       "text": [
        "."
       ]
      },
      {
       "output_type": "stream",
       "stream": "stderr",
       "text": [
        "."
       ]
      },
      {
       "output_type": "stream",
       "stream": "stderr",
       "text": [
        "."
       ]
      },
      {
       "output_type": "stream",
       "stream": "stderr",
       "text": [
        "."
       ]
      },
      {
       "output_type": "stream",
       "stream": "stderr",
       "text": [
        "."
       ]
      },
      {
       "output_type": "stream",
       "stream": "stderr",
       "text": [
        "."
       ]
      },
      {
       "output_type": "stream",
       "stream": "stderr",
       "text": [
        "."
       ]
      },
      {
       "output_type": "stream",
       "stream": "stderr",
       "text": [
        "."
       ]
      },
      {
       "output_type": "stream",
       "stream": "stderr",
       "text": [
        "."
       ]
      },
      {
       "output_type": "stream",
       "stream": "stderr",
       "text": [
        "."
       ]
      },
      {
       "output_type": "stream",
       "stream": "stderr",
       "text": [
        "."
       ]
      },
      {
       "output_type": "stream",
       "stream": "stderr",
       "text": [
        "."
       ]
      },
      {
       "output_type": "stream",
       "stream": "stderr",
       "text": [
        "."
       ]
      },
      {
       "output_type": "stream",
       "stream": "stderr",
       "text": [
        "."
       ]
      },
      {
       "output_type": "stream",
       "stream": "stderr",
       "text": [
        "."
       ]
      },
      {
       "output_type": "stream",
       "stream": "stderr",
       "text": [
        "."
       ]
      },
      {
       "output_type": "stream",
       "stream": "stderr",
       "text": [
        "."
       ]
      },
      {
       "output_type": "stream",
       "stream": "stderr",
       "text": [
        "."
       ]
      },
      {
       "output_type": "stream",
       "stream": "stderr",
       "text": [
        "."
       ]
      },
      {
       "output_type": "stream",
       "stream": "stderr",
       "text": [
        "."
       ]
      },
      {
       "output_type": "stream",
       "stream": "stderr",
       "text": [
        "."
       ]
      },
      {
       "output_type": "stream",
       "stream": "stderr",
       "text": [
        "."
       ]
      },
      {
       "output_type": "stream",
       "stream": "stderr",
       "text": [
        "."
       ]
      },
      {
       "output_type": "stream",
       "stream": "stderr",
       "text": [
        "."
       ]
      },
      {
       "output_type": "stream",
       "stream": "stderr",
       "text": [
        "."
       ]
      },
      {
       "output_type": "stream",
       "stream": "stderr",
       "text": [
        "."
       ]
      },
      {
       "output_type": "stream",
       "stream": "stderr",
       "text": [
        "."
       ]
      },
      {
       "output_type": "stream",
       "stream": "stderr",
       "text": [
        "."
       ]
      },
      {
       "output_type": "stream",
       "stream": "stderr",
       "text": [
        "."
       ]
      },
      {
       "output_type": "stream",
       "stream": "stderr",
       "text": [
        "."
       ]
      },
      {
       "output_type": "stream",
       "stream": "stderr",
       "text": [
        "."
       ]
      },
      {
       "output_type": "stream",
       "stream": "stderr",
       "text": [
        "."
       ]
      },
      {
       "output_type": "stream",
       "stream": "stderr",
       "text": [
        "."
       ]
      },
      {
       "output_type": "stream",
       "stream": "stderr",
       "text": [
        "."
       ]
      },
      {
       "output_type": "stream",
       "stream": "stderr",
       "text": [
        "."
       ]
      },
      {
       "output_type": "stream",
       "stream": "stderr",
       "text": [
        "."
       ]
      },
      {
       "output_type": "stream",
       "stream": "stderr",
       "text": [
        "."
       ]
      },
      {
       "output_type": "stream",
       "stream": "stderr",
       "text": [
        "."
       ]
      },
      {
       "output_type": "stream",
       "stream": "stderr",
       "text": [
        "."
       ]
      },
      {
       "output_type": "stream",
       "stream": "stderr",
       "text": [
        "."
       ]
      },
      {
       "output_type": "stream",
       "stream": "stderr",
       "text": [
        "."
       ]
      },
      {
       "output_type": "stream",
       "stream": "stderr",
       "text": [
        "."
       ]
      },
      {
       "output_type": "stream",
       "stream": "stderr",
       "text": [
        "."
       ]
      },
      {
       "output_type": "stream",
       "stream": "stderr",
       "text": [
        "."
       ]
      },
      {
       "output_type": "stream",
       "stream": "stderr",
       "text": [
        "."
       ]
      },
      {
       "output_type": "stream",
       "stream": "stderr",
       "text": [
        "."
       ]
      },
      {
       "output_type": "stream",
       "stream": "stderr",
       "text": [
        "."
       ]
      },
      {
       "output_type": "stream",
       "stream": "stderr",
       "text": [
        "."
       ]
      },
      {
       "output_type": "stream",
       "stream": "stderr",
       "text": [
        "."
       ]
      },
      {
       "output_type": "stream",
       "stream": "stderr",
       "text": [
        "."
       ]
      },
      {
       "output_type": "stream",
       "stream": "stderr",
       "text": [
        "."
       ]
      },
      {
       "output_type": "stream",
       "stream": "stderr",
       "text": [
        "."
       ]
      },
      {
       "output_type": "stream",
       "stream": "stderr",
       "text": [
        "."
       ]
      },
      {
       "output_type": "stream",
       "stream": "stderr",
       "text": [
        "."
       ]
      },
      {
       "output_type": "stream",
       "stream": "stderr",
       "text": [
        "."
       ]
      },
      {
       "output_type": "stream",
       "stream": "stderr",
       "text": [
        "."
       ]
      },
      {
       "output_type": "stream",
       "stream": "stderr",
       "text": [
        "."
       ]
      },
      {
       "output_type": "stream",
       "stream": "stderr",
       "text": [
        "."
       ]
      },
      {
       "output_type": "stream",
       "stream": "stderr",
       "text": [
        "."
       ]
      },
      {
       "output_type": "stream",
       "stream": "stderr",
       "text": [
        "."
       ]
      },
      {
       "output_type": "stream",
       "stream": "stderr",
       "text": [
        "."
       ]
      },
      {
       "output_type": "stream",
       "stream": "stderr",
       "text": [
        "."
       ]
      },
      {
       "output_type": "stream",
       "stream": "stderr",
       "text": [
        "."
       ]
      },
      {
       "output_type": "stream",
       "stream": "stderr",
       "text": [
        "."
       ]
      },
      {
       "output_type": "stream",
       "stream": "stderr",
       "text": [
        "."
       ]
      },
      {
       "output_type": "stream",
       "stream": "stderr",
       "text": [
        "."
       ]
      },
      {
       "output_type": "stream",
       "stream": "stderr",
       "text": [
        "."
       ]
      },
      {
       "output_type": "stream",
       "stream": "stderr",
       "text": [
        "."
       ]
      },
      {
       "output_type": "stream",
       "stream": "stderr",
       "text": [
        "."
       ]
      },
      {
       "output_type": "stream",
       "stream": "stderr",
       "text": [
        "."
       ]
      },
      {
       "output_type": "stream",
       "stream": "stderr",
       "text": [
        "."
       ]
      },
      {
       "output_type": "stream",
       "stream": "stderr",
       "text": [
        "."
       ]
      },
      {
       "output_type": "stream",
       "stream": "stderr",
       "text": [
        "."
       ]
      },
      {
       "output_type": "stream",
       "stream": "stderr",
       "text": [
        "."
       ]
      },
      {
       "output_type": "stream",
       "stream": "stderr",
       "text": [
        "."
       ]
      },
      {
       "output_type": "stream",
       "stream": "stderr",
       "text": [
        "."
       ]
      },
      {
       "output_type": "stream",
       "stream": "stderr",
       "text": [
        "."
       ]
      },
      {
       "output_type": "stream",
       "stream": "stderr",
       "text": [
        "."
       ]
      },
      {
       "output_type": "stream",
       "stream": "stderr",
       "text": [
        "."
       ]
      },
      {
       "output_type": "stream",
       "stream": "stderr",
       "text": [
        "."
       ]
      },
      {
       "output_type": "stream",
       "stream": "stderr",
       "text": [
        "."
       ]
      },
      {
       "output_type": "stream",
       "stream": "stderr",
       "text": [
        "."
       ]
      },
      {
       "output_type": "stream",
       "stream": "stderr",
       "text": [
        "."
       ]
      },
      {
       "output_type": "stream",
       "stream": "stderr",
       "text": [
        "."
       ]
      },
      {
       "output_type": "stream",
       "stream": "stderr",
       "text": [
        "."
       ]
      },
      {
       "output_type": "stream",
       "stream": "stderr",
       "text": [
        "."
       ]
      },
      {
       "output_type": "stream",
       "stream": "stderr",
       "text": [
        "."
       ]
      },
      {
       "output_type": "stream",
       "stream": "stderr",
       "text": [
        "."
       ]
      },
      {
       "output_type": "stream",
       "stream": "stderr",
       "text": [
        "."
       ]
      },
      {
       "output_type": "stream",
       "stream": "stderr",
       "text": [
        "."
       ]
      },
      {
       "output_type": "stream",
       "stream": "stderr",
       "text": [
        "."
       ]
      },
      {
       "output_type": "stream",
       "stream": "stderr",
       "text": [
        "."
       ]
      },
      {
       "output_type": "stream",
       "stream": "stderr",
       "text": [
        "."
       ]
      },
      {
       "output_type": "stream",
       "stream": "stderr",
       "text": [
        "."
       ]
      },
      {
       "output_type": "stream",
       "stream": "stderr",
       "text": [
        "."
       ]
      },
      {
       "output_type": "stream",
       "stream": "stderr",
       "text": [
        "."
       ]
      },
      {
       "output_type": "stream",
       "stream": "stderr",
       "text": [
        "."
       ]
      },
      {
       "output_type": "stream",
       "stream": "stderr",
       "text": [
        "."
       ]
      },
      {
       "output_type": "stream",
       "stream": "stderr",
       "text": [
        "."
       ]
      },
      {
       "output_type": "stream",
       "stream": "stderr",
       "text": [
        "."
       ]
      },
      {
       "output_type": "stream",
       "stream": "stderr",
       "text": [
        "."
       ]
      },
      {
       "output_type": "stream",
       "stream": "stderr",
       "text": [
        "."
       ]
      },
      {
       "output_type": "stream",
       "stream": "stderr",
       "text": [
        "."
       ]
      },
      {
       "output_type": "stream",
       "stream": "stderr",
       "text": [
        "."
       ]
      },
      {
       "output_type": "stream",
       "stream": "stderr",
       "text": [
        "."
       ]
      },
      {
       "output_type": "stream",
       "stream": "stderr",
       "text": [
        "."
       ]
      },
      {
       "output_type": "stream",
       "stream": "stderr",
       "text": [
        "."
       ]
      },
      {
       "output_type": "stream",
       "stream": "stderr",
       "text": [
        "."
       ]
      },
      {
       "output_type": "stream",
       "stream": "stderr",
       "text": [
        "."
       ]
      },
      {
       "output_type": "stream",
       "stream": "stderr",
       "text": [
        "."
       ]
      },
      {
       "output_type": "stream",
       "stream": "stderr",
       "text": [
        "."
       ]
      },
      {
       "output_type": "stream",
       "stream": "stderr",
       "text": [
        "."
       ]
      },
      {
       "output_type": "stream",
       "stream": "stderr",
       "text": [
        "."
       ]
      },
      {
       "output_type": "stream",
       "stream": "stderr",
       "text": [
        "."
       ]
      },
      {
       "output_type": "stream",
       "stream": "stderr",
       "text": [
        "."
       ]
      },
      {
       "output_type": "stream",
       "stream": "stderr",
       "text": [
        "."
       ]
      },
      {
       "output_type": "stream",
       "stream": "stderr",
       "text": [
        "."
       ]
      },
      {
       "output_type": "stream",
       "stream": "stderr",
       "text": [
        "."
       ]
      },
      {
       "output_type": "stream",
       "stream": "stderr",
       "text": [
        "."
       ]
      },
      {
       "output_type": "stream",
       "stream": "stderr",
       "text": [
        "."
       ]
      },
      {
       "output_type": "stream",
       "stream": "stderr",
       "text": [
        "."
       ]
      },
      {
       "output_type": "stream",
       "stream": "stderr",
       "text": [
        "."
       ]
      },
      {
       "output_type": "stream",
       "stream": "stderr",
       "text": [
        "."
       ]
      },
      {
       "output_type": "stream",
       "stream": "stderr",
       "text": [
        "."
       ]
      },
      {
       "output_type": "stream",
       "stream": "stderr",
       "text": [
        "."
       ]
      },
      {
       "output_type": "stream",
       "stream": "stderr",
       "text": [
        "."
       ]
      },
      {
       "output_type": "stream",
       "stream": "stderr",
       "text": [
        "."
       ]
      },
      {
       "output_type": "stream",
       "stream": "stderr",
       "text": [
        "."
       ]
      },
      {
       "output_type": "stream",
       "stream": "stderr",
       "text": [
        "."
       ]
      },
      {
       "output_type": "stream",
       "stream": "stderr",
       "text": [
        "."
       ]
      },
      {
       "output_type": "stream",
       "stream": "stderr",
       "text": [
        "."
       ]
      },
      {
       "output_type": "stream",
       "stream": "stderr",
       "text": [
        "."
       ]
      },
      {
       "output_type": "stream",
       "stream": "stderr",
       "text": [
        "."
       ]
      },
      {
       "output_type": "stream",
       "stream": "stderr",
       "text": [
        "."
       ]
      },
      {
       "output_type": "stream",
       "stream": "stderr",
       "text": [
        "."
       ]
      },
      {
       "output_type": "stream",
       "stream": "stderr",
       "text": [
        "."
       ]
      },
      {
       "output_type": "stream",
       "stream": "stderr",
       "text": [
        "."
       ]
      },
      {
       "output_type": "stream",
       "stream": "stderr",
       "text": [
        "."
       ]
      },
      {
       "output_type": "stream",
       "stream": "stderr",
       "text": [
        "."
       ]
      },
      {
       "output_type": "stream",
       "stream": "stderr",
       "text": [
        "."
       ]
      },
      {
       "output_type": "stream",
       "stream": "stderr",
       "text": [
        "."
       ]
      },
      {
       "output_type": "stream",
       "stream": "stderr",
       "text": [
        "F"
       ]
      },
      {
       "output_type": "stream",
       "stream": "stderr",
       "text": [
        "."
       ]
      },
      {
       "output_type": "stream",
       "stream": "stderr",
       "text": [
        "."
       ]
      },
      {
       "output_type": "stream",
       "stream": "stderr",
       "text": [
        "."
       ]
      },
      {
       "output_type": "stream",
       "stream": "stderr",
       "text": [
        "."
       ]
      },
      {
       "output_type": "stream",
       "stream": "stderr",
       "text": [
        "."
       ]
      },
      {
       "output_type": "stream",
       "stream": "stderr",
       "text": [
        "."
       ]
      },
      {
       "output_type": "stream",
       "stream": "stderr",
       "text": [
        "."
       ]
      },
      {
       "output_type": "stream",
       "stream": "stderr",
       "text": [
        "."
       ]
      },
      {
       "output_type": "stream",
       "stream": "stderr",
       "text": [
        "."
       ]
      },
      {
       "output_type": "stream",
       "stream": "stderr",
       "text": [
        "."
       ]
      },
      {
       "output_type": "stream",
       "stream": "stderr",
       "text": [
        "."
       ]
      },
      {
       "output_type": "stream",
       "stream": "stderr",
       "text": [
        "."
       ]
      },
      {
       "output_type": "stream",
       "stream": "stderr",
       "text": [
        "."
       ]
      },
      {
       "output_type": "stream",
       "stream": "stderr",
       "text": [
        "."
       ]
      },
      {
       "output_type": "stream",
       "stream": "stderr",
       "text": [
        "."
       ]
      },
      {
       "output_type": "stream",
       "stream": "stderr",
       "text": [
        "."
       ]
      },
      {
       "output_type": "stream",
       "stream": "stderr",
       "text": [
        "."
       ]
      },
      {
       "output_type": "stream",
       "stream": "stderr",
       "text": [
        "."
       ]
      },
      {
       "output_type": "stream",
       "stream": "stderr",
       "text": [
        "."
       ]
      },
      {
       "output_type": "stream",
       "stream": "stderr",
       "text": [
        "."
       ]
      },
      {
       "output_type": "stream",
       "stream": "stderr",
       "text": [
        "."
       ]
      },
      {
       "output_type": "stream",
       "stream": "stderr",
       "text": [
        "."
       ]
      },
      {
       "output_type": "stream",
       "stream": "stderr",
       "text": [
        "."
       ]
      },
      {
       "output_type": "stream",
       "stream": "stderr",
       "text": [
        "."
       ]
      },
      {
       "output_type": "stream",
       "stream": "stderr",
       "text": [
        "."
       ]
      },
      {
       "output_type": "stream",
       "stream": "stderr",
       "text": [
        "."
       ]
      },
      {
       "output_type": "stream",
       "stream": "stderr",
       "text": [
        "."
       ]
      },
      {
       "output_type": "stream",
       "stream": "stderr",
       "text": [
        "."
       ]
      },
      {
       "output_type": "stream",
       "stream": "stderr",
       "text": [
        "."
       ]
      },
      {
       "output_type": "stream",
       "stream": "stderr",
       "text": [
        "."
       ]
      },
      {
       "output_type": "stream",
       "stream": "stderr",
       "text": [
        "."
       ]
      },
      {
       "output_type": "stream",
       "stream": "stderr",
       "text": [
        "."
       ]
      },
      {
       "output_type": "stream",
       "stream": "stderr",
       "text": [
        "."
       ]
      },
      {
       "output_type": "stream",
       "stream": "stderr",
       "text": [
        "."
       ]
      },
      {
       "output_type": "stream",
       "stream": "stderr",
       "text": [
        "."
       ]
      },
      {
       "output_type": "stream",
       "stream": "stderr",
       "text": [
        "."
       ]
      },
      {
       "output_type": "stream",
       "stream": "stderr",
       "text": [
        "."
       ]
      },
      {
       "output_type": "stream",
       "stream": "stderr",
       "text": [
        "."
       ]
      },
      {
       "output_type": "stream",
       "stream": "stderr",
       "text": [
        "."
       ]
      },
      {
       "output_type": "stream",
       "stream": "stderr",
       "text": [
        "."
       ]
      },
      {
       "output_type": "stream",
       "stream": "stderr",
       "text": [
        "."
       ]
      },
      {
       "output_type": "stream",
       "stream": "stderr",
       "text": [
        "."
       ]
      },
      {
       "output_type": "stream",
       "stream": "stderr",
       "text": [
        "."
       ]
      },
      {
       "output_type": "stream",
       "stream": "stderr",
       "text": [
        "."
       ]
      },
      {
       "output_type": "stream",
       "stream": "stderr",
       "text": [
        "."
       ]
      },
      {
       "output_type": "stream",
       "stream": "stderr",
       "text": [
        "."
       ]
      },
      {
       "output_type": "stream",
       "stream": "stderr",
       "text": [
        "K."
       ]
      },
      {
       "output_type": "stream",
       "stream": "stderr",
       "text": [
        "."
       ]
      },
      {
       "output_type": "stream",
       "stream": "stderr",
       "text": [
        "."
       ]
      },
      {
       "output_type": "stream",
       "stream": "stderr",
       "text": [
        "."
       ]
      },
      {
       "output_type": "stream",
       "stream": "stderr",
       "text": [
        "."
       ]
      },
      {
       "output_type": "stream",
       "stream": "stderr",
       "text": [
        "."
       ]
      },
      {
       "output_type": "stream",
       "stream": "stderr",
       "text": [
        "."
       ]
      },
      {
       "output_type": "stream",
       "stream": "stderr",
       "text": [
        "."
       ]
      },
      {
       "output_type": "stream",
       "stream": "stderr",
       "text": [
        "."
       ]
      },
      {
       "output_type": "stream",
       "stream": "stderr",
       "text": [
        "."
       ]
      },
      {
       "output_type": "stream",
       "stream": "stderr",
       "text": [
        "."
       ]
      },
      {
       "output_type": "stream",
       "stream": "stderr",
       "text": [
        "."
       ]
      },
      {
       "output_type": "stream",
       "stream": "stderr",
       "text": [
        "."
       ]
      },
      {
       "output_type": "stream",
       "stream": "stderr",
       "text": [
        "."
       ]
      },
      {
       "output_type": "stream",
       "stream": "stderr",
       "text": [
        "."
       ]
      },
      {
       "output_type": "stream",
       "stream": "stderr",
       "text": [
        "."
       ]
      },
      {
       "output_type": "stream",
       "stream": "stderr",
       "text": [
        "."
       ]
      },
      {
       "output_type": "stream",
       "stream": "stderr",
       "text": [
        "."
       ]
      },
      {
       "output_type": "stream",
       "stream": "stderr",
       "text": [
        "."
       ]
      },
      {
       "output_type": "stream",
       "stream": "stderr",
       "text": [
        "."
       ]
      },
      {
       "output_type": "stream",
       "stream": "stderr",
       "text": [
        "."
       ]
      },
      {
       "output_type": "stream",
       "stream": "stderr",
       "text": [
        "."
       ]
      },
      {
       "output_type": "stream",
       "stream": "stderr",
       "text": [
        "."
       ]
      },
      {
       "output_type": "stream",
       "stream": "stderr",
       "text": [
        "."
       ]
      },
      {
       "output_type": "stream",
       "stream": "stderr",
       "text": [
        "."
       ]
      },
      {
       "output_type": "stream",
       "stream": "stderr",
       "text": [
        "."
       ]
      },
      {
       "output_type": "stream",
       "stream": "stderr",
       "text": [
        "."
       ]
      },
      {
       "output_type": "stream",
       "stream": "stderr",
       "text": [
        "."
       ]
      },
      {
       "output_type": "stream",
       "stream": "stderr",
       "text": [
        "."
       ]
      },
      {
       "output_type": "stream",
       "stream": "stderr",
       "text": [
        "."
       ]
      },
      {
       "output_type": "stream",
       "stream": "stderr",
       "text": [
        "."
       ]
      },
      {
       "output_type": "stream",
       "stream": "stderr",
       "text": [
        "."
       ]
      },
      {
       "output_type": "stream",
       "stream": "stderr",
       "text": [
        "."
       ]
      },
      {
       "output_type": "stream",
       "stream": "stderr",
       "text": [
        "."
       ]
      },
      {
       "output_type": "stream",
       "stream": "stderr",
       "text": [
        "."
       ]
      },
      {
       "output_type": "stream",
       "stream": "stderr",
       "text": [
        "."
       ]
      },
      {
       "output_type": "stream",
       "stream": "stderr",
       "text": [
        "."
       ]
      },
      {
       "output_type": "stream",
       "stream": "stderr",
       "text": [
        "."
       ]
      },
      {
       "output_type": "stream",
       "stream": "stderr",
       "text": [
        "."
       ]
      },
      {
       "output_type": "stream",
       "stream": "stderr",
       "text": [
        "."
       ]
      },
      {
       "output_type": "stream",
       "stream": "stderr",
       "text": [
        "."
       ]
      },
      {
       "output_type": "stream",
       "stream": "stderr",
       "text": [
        "."
       ]
      },
      {
       "output_type": "stream",
       "stream": "stderr",
       "text": [
        "."
       ]
      },
      {
       "output_type": "stream",
       "stream": "stderr",
       "text": [
        "."
       ]
      },
      {
       "output_type": "stream",
       "stream": "stderr",
       "text": [
        "."
       ]
      },
      {
       "output_type": "stream",
       "stream": "stderr",
       "text": [
        "."
       ]
      },
      {
       "output_type": "stream",
       "stream": "stderr",
       "text": [
        "."
       ]
      },
      {
       "output_type": "stream",
       "stream": "stderr",
       "text": [
        "."
       ]
      },
      {
       "output_type": "stream",
       "stream": "stderr",
       "text": [
        "."
       ]
      },
      {
       "output_type": "stream",
       "stream": "stderr",
       "text": [
        "."
       ]
      },
      {
       "output_type": "stream",
       "stream": "stderr",
       "text": [
        "."
       ]
      },
      {
       "output_type": "stream",
       "stream": "stderr",
       "text": [
        "."
       ]
      },
      {
       "output_type": "stream",
       "stream": "stderr",
       "text": [
        "."
       ]
      },
      {
       "output_type": "stream",
       "stream": "stderr",
       "text": [
        "."
       ]
      },
      {
       "output_type": "stream",
       "stream": "stderr",
       "text": [
        "."
       ]
      },
      {
       "output_type": "stream",
       "stream": "stderr",
       "text": [
        "."
       ]
      },
      {
       "output_type": "stream",
       "stream": "stderr",
       "text": [
        "."
       ]
      },
      {
       "output_type": "stream",
       "stream": "stderr",
       "text": [
        "."
       ]
      },
      {
       "output_type": "stream",
       "stream": "stderr",
       "text": [
        "."
       ]
      },
      {
       "output_type": "stream",
       "stream": "stderr",
       "text": [
        "."
       ]
      },
      {
       "output_type": "stream",
       "stream": "stderr",
       "text": [
        "."
       ]
      },
      {
       "output_type": "stream",
       "stream": "stderr",
       "text": [
        "."
       ]
      },
      {
       "output_type": "stream",
       "stream": "stderr",
       "text": [
        "."
       ]
      },
      {
       "output_type": "stream",
       "stream": "stderr",
       "text": [
        "."
       ]
      },
      {
       "output_type": "stream",
       "stream": "stderr",
       "text": [
        "."
       ]
      },
      {
       "output_type": "stream",
       "stream": "stderr",
       "text": [
        "."
       ]
      },
      {
       "output_type": "stream",
       "stream": "stderr",
       "text": [
        "."
       ]
      },
      {
       "output_type": "stream",
       "stream": "stderr",
       "text": [
        "."
       ]
      },
      {
       "output_type": "stream",
       "stream": "stderr",
       "text": [
        "."
       ]
      },
      {
       "output_type": "stream",
       "stream": "stderr",
       "text": [
        "."
       ]
      },
      {
       "output_type": "stream",
       "stream": "stderr",
       "text": [
        "."
       ]
      },
      {
       "output_type": "stream",
       "stream": "stderr",
       "text": [
        "."
       ]
      },
      {
       "output_type": "stream",
       "stream": "stderr",
       "text": [
        "."
       ]
      },
      {
       "output_type": "stream",
       "stream": "stderr",
       "text": [
        "."
       ]
      },
      {
       "output_type": "stream",
       "stream": "stderr",
       "text": [
        "."
       ]
      },
      {
       "output_type": "stream",
       "stream": "stderr",
       "text": [
        "."
       ]
      },
      {
       "output_type": "stream",
       "stream": "stderr",
       "text": [
        "."
       ]
      },
      {
       "output_type": "stream",
       "stream": "stderr",
       "text": [
        "."
       ]
      },
      {
       "output_type": "stream",
       "stream": "stderr",
       "text": [
        "."
       ]
      },
      {
       "output_type": "stream",
       "stream": "stderr",
       "text": [
        "."
       ]
      },
      {
       "output_type": "stream",
       "stream": "stderr",
       "text": [
        "."
       ]
      },
      {
       "output_type": "stream",
       "stream": "stderr",
       "text": [
        "."
       ]
      },
      {
       "output_type": "stream",
       "stream": "stderr",
       "text": [
        "."
       ]
      },
      {
       "output_type": "stream",
       "stream": "stderr",
       "text": [
        "."
       ]
      },
      {
       "output_type": "stream",
       "stream": "stderr",
       "text": [
        "."
       ]
      },
      {
       "output_type": "stream",
       "stream": "stderr",
       "text": [
        "."
       ]
      },
      {
       "output_type": "stream",
       "stream": "stderr",
       "text": [
        "."
       ]
      },
      {
       "output_type": "stream",
       "stream": "stderr",
       "text": [
        "."
       ]
      },
      {
       "output_type": "stream",
       "stream": "stderr",
       "text": [
        "."
       ]
      },
      {
       "output_type": "stream",
       "stream": "stderr",
       "text": [
        "."
       ]
      },
      {
       "output_type": "stream",
       "stream": "stderr",
       "text": [
        "."
       ]
      },
      {
       "output_type": "stream",
       "stream": "stderr",
       "text": [
        "."
       ]
      },
      {
       "output_type": "stream",
       "stream": "stderr",
       "text": [
        "."
       ]
      },
      {
       "output_type": "stream",
       "stream": "stderr",
       "text": [
        "."
       ]
      },
      {
       "output_type": "stream",
       "stream": "stderr",
       "text": [
        "."
       ]
      },
      {
       "output_type": "stream",
       "stream": "stderr",
       "text": [
        "."
       ]
      },
      {
       "output_type": "stream",
       "stream": "stderr",
       "text": [
        "."
       ]
      },
      {
       "output_type": "stream",
       "stream": "stderr",
       "text": [
        "."
       ]
      },
      {
       "output_type": "stream",
       "stream": "stderr",
       "text": [
        "."
       ]
      },
      {
       "output_type": "stream",
       "stream": "stderr",
       "text": [
        "."
       ]
      },
      {
       "output_type": "stream",
       "stream": "stderr",
       "text": [
        "."
       ]
      },
      {
       "output_type": "stream",
       "stream": "stderr",
       "text": [
        "."
       ]
      },
      {
       "output_type": "stream",
       "stream": "stderr",
       "text": [
        "."
       ]
      },
      {
       "output_type": "stream",
       "stream": "stderr",
       "text": [
        "."
       ]
      },
      {
       "output_type": "stream",
       "stream": "stderr",
       "text": [
        "."
       ]
      },
      {
       "output_type": "stream",
       "stream": "stderr",
       "text": [
        "."
       ]
      },
      {
       "output_type": "stream",
       "stream": "stderr",
       "text": [
        "."
       ]
      },
      {
       "output_type": "stream",
       "stream": "stderr",
       "text": [
        "K."
       ]
      },
      {
       "output_type": "stream",
       "stream": "stderr",
       "text": [
        "."
       ]
      },
      {
       "output_type": "stream",
       "stream": "stderr",
       "text": [
        "."
       ]
      },
      {
       "output_type": "stream",
       "stream": "stderr",
       "text": [
        "SK."
       ]
      },
      {
       "output_type": "stream",
       "stream": "stderr",
       "text": [
        "S."
       ]
      },
      {
       "output_type": "stream",
       "stream": "stderr",
       "text": [
        "."
       ]
      },
      {
       "output_type": "stream",
       "stream": "stderr",
       "text": [
        "."
       ]
      },
      {
       "output_type": "stream",
       "stream": "stderr",
       "text": [
        "."
       ]
      },
      {
       "output_type": "stream",
       "stream": "stderr",
       "text": [
        "."
       ]
      },
      {
       "output_type": "stream",
       "stream": "stderr",
       "text": [
        "."
       ]
      },
      {
       "output_type": "stream",
       "stream": "stderr",
       "text": [
        "."
       ]
      },
      {
       "output_type": "stream",
       "stream": "stderr",
       "text": [
        "S."
       ]
      },
      {
       "output_type": "stream",
       "stream": "stderr",
       "text": [
        "."
       ]
      },
      {
       "output_type": "stream",
       "stream": "stderr",
       "text": [
        "."
       ]
      },
      {
       "output_type": "stream",
       "stream": "stderr",
       "text": [
        "."
       ]
      },
      {
       "output_type": "stream",
       "stream": "stderr",
       "text": [
        "."
       ]
      },
      {
       "output_type": "stream",
       "stream": "stderr",
       "text": [
        "."
       ]
      },
      {
       "output_type": "stream",
       "stream": "stderr",
       "text": [
        "."
       ]
      },
      {
       "output_type": "stream",
       "stream": "stderr",
       "text": [
        "."
       ]
      },
      {
       "output_type": "stream",
       "stream": "stderr",
       "text": [
        "."
       ]
      },
      {
       "output_type": "stream",
       "stream": "stderr",
       "text": [
        "."
       ]
      },
      {
       "output_type": "stream",
       "stream": "stderr",
       "text": [
        "."
       ]
      },
      {
       "output_type": "stream",
       "stream": "stderr",
       "text": [
        "."
       ]
      },
      {
       "output_type": "stream",
       "stream": "stderr",
       "text": [
        "."
       ]
      },
      {
       "output_type": "stream",
       "stream": "stderr",
       "text": [
        "."
       ]
      },
      {
       "output_type": "stream",
       "stream": "stderr",
       "text": [
        "."
       ]
      },
      {
       "output_type": "stream",
       "stream": "stderr",
       "text": [
        "."
       ]
      },
      {
       "output_type": "stream",
       "stream": "stderr",
       "text": [
        "."
       ]
      },
      {
       "output_type": "stream",
       "stream": "stderr",
       "text": [
        "."
       ]
      },
      {
       "output_type": "stream",
       "stream": "stderr",
       "text": [
        "."
       ]
      },
      {
       "output_type": "stream",
       "stream": "stderr",
       "text": [
        "."
       ]
      },
      {
       "output_type": "stream",
       "stream": "stderr",
       "text": [
        "."
       ]
      },
      {
       "output_type": "stream",
       "stream": "stderr",
       "text": [
        "."
       ]
      },
      {
       "output_type": "stream",
       "stream": "stderr",
       "text": [
        "."
       ]
      },
      {
       "output_type": "stream",
       "stream": "stderr",
       "text": [
        "."
       ]
      },
      {
       "output_type": "stream",
       "stream": "stderr",
       "text": [
        "."
       ]
      },
      {
       "output_type": "stream",
       "stream": "stderr",
       "text": [
        "."
       ]
      },
      {
       "output_type": "stream",
       "stream": "stderr",
       "text": [
        "."
       ]
      },
      {
       "output_type": "stream",
       "stream": "stderr",
       "text": [
        "."
       ]
      },
      {
       "output_type": "stream",
       "stream": "stderr",
       "text": [
        "."
       ]
      },
      {
       "output_type": "stream",
       "stream": "stderr",
       "text": [
        "."
       ]
      },
      {
       "output_type": "stream",
       "stream": "stderr",
       "text": [
        "."
       ]
      },
      {
       "output_type": "stream",
       "stream": "stderr",
       "text": [
        "."
       ]
      },
      {
       "output_type": "stream",
       "stream": "stderr",
       "text": [
        "."
       ]
      },
      {
       "output_type": "stream",
       "stream": "stderr",
       "text": [
        "."
       ]
      },
      {
       "output_type": "stream",
       "stream": "stderr",
       "text": [
        "."
       ]
      },
      {
       "output_type": "stream",
       "stream": "stderr",
       "text": [
        "."
       ]
      },
      {
       "output_type": "stream",
       "stream": "stderr",
       "text": [
        "."
       ]
      },
      {
       "output_type": "stream",
       "stream": "stderr",
       "text": [
        "."
       ]
      },
      {
       "output_type": "stream",
       "stream": "stderr",
       "text": [
        "."
       ]
      },
      {
       "output_type": "stream",
       "stream": "stderr",
       "text": [
        "."
       ]
      },
      {
       "output_type": "stream",
       "stream": "stderr",
       "text": [
        "."
       ]
      },
      {
       "output_type": "stream",
       "stream": "stderr",
       "text": [
        "."
       ]
      },
      {
       "output_type": "stream",
       "stream": "stderr",
       "text": [
        "."
       ]
      },
      {
       "output_type": "stream",
       "stream": "stderr",
       "text": [
        "."
       ]
      },
      {
       "output_type": "stream",
       "stream": "stderr",
       "text": [
        "."
       ]
      },
      {
       "output_type": "stream",
       "stream": "stderr",
       "text": [
        "."
       ]
      },
      {
       "output_type": "stream",
       "stream": "stderr",
       "text": [
        "."
       ]
      },
      {
       "output_type": "stream",
       "stream": "stderr",
       "text": [
        "."
       ]
      },
      {
       "output_type": "stream",
       "stream": "stderr",
       "text": [
        "."
       ]
      },
      {
       "output_type": "stream",
       "stream": "stderr",
       "text": [
        "."
       ]
      },
      {
       "output_type": "stream",
       "stream": "stderr",
       "text": [
        "."
       ]
      },
      {
       "output_type": "stream",
       "stream": "stderr",
       "text": [
        "."
       ]
      },
      {
       "output_type": "stream",
       "stream": "stderr",
       "text": [
        "."
       ]
      },
      {
       "output_type": "stream",
       "stream": "stderr",
       "text": [
        "."
       ]
      },
      {
       "output_type": "stream",
       "stream": "stderr",
       "text": [
        "."
       ]
      },
      {
       "output_type": "stream",
       "stream": "stderr",
       "text": [
        "."
       ]
      },
      {
       "output_type": "stream",
       "stream": "stderr",
       "text": [
        "."
       ]
      },
      {
       "output_type": "stream",
       "stream": "stderr",
       "text": [
        "."
       ]
      },
      {
       "output_type": "stream",
       "stream": "stderr",
       "text": [
        "."
       ]
      },
      {
       "output_type": "stream",
       "stream": "stderr",
       "text": [
        "."
       ]
      },
      {
       "output_type": "stream",
       "stream": "stderr",
       "text": [
        "."
       ]
      },
      {
       "output_type": "stream",
       "stream": "stderr",
       "text": [
        "."
       ]
      },
      {
       "output_type": "stream",
       "stream": "stderr",
       "text": [
        "."
       ]
      },
      {
       "output_type": "stream",
       "stream": "stderr",
       "text": [
        "."
       ]
      },
      {
       "output_type": "stream",
       "stream": "stderr",
       "text": [
        "."
       ]
      },
      {
       "output_type": "stream",
       "stream": "stderr",
       "text": [
        "."
       ]
      },
      {
       "output_type": "stream",
       "stream": "stderr",
       "text": [
        "."
       ]
      },
      {
       "output_type": "stream",
       "stream": "stderr",
       "text": [
        "."
       ]
      },
      {
       "output_type": "stream",
       "stream": "stderr",
       "text": [
        "."
       ]
      },
      {
       "output_type": "stream",
       "stream": "stderr",
       "text": [
        "."
       ]
      },
      {
       "output_type": "stream",
       "stream": "stderr",
       "text": [
        "."
       ]
      },
      {
       "output_type": "stream",
       "stream": "stderr",
       "text": [
        "."
       ]
      },
      {
       "output_type": "stream",
       "stream": "stderr",
       "text": [
        "."
       ]
      },
      {
       "output_type": "stream",
       "stream": "stderr",
       "text": [
        "."
       ]
      },
      {
       "output_type": "stream",
       "stream": "stderr",
       "text": [
        "."
       ]
      },
      {
       "output_type": "stream",
       "stream": "stderr",
       "text": [
        "."
       ]
      },
      {
       "output_type": "stream",
       "stream": "stderr",
       "text": [
        "."
       ]
      },
      {
       "output_type": "stream",
       "stream": "stderr",
       "text": [
        "."
       ]
      },
      {
       "output_type": "stream",
       "stream": "stderr",
       "text": [
        "."
       ]
      },
      {
       "output_type": "stream",
       "stream": "stderr",
       "text": [
        "."
       ]
      },
      {
       "output_type": "stream",
       "stream": "stderr",
       "text": [
        "."
       ]
      },
      {
       "output_type": "stream",
       "stream": "stderr",
       "text": [
        "."
       ]
      },
      {
       "output_type": "stream",
       "stream": "stderr",
       "text": [
        "."
       ]
      },
      {
       "output_type": "stream",
       "stream": "stderr",
       "text": [
        "."
       ]
      },
      {
       "output_type": "stream",
       "stream": "stderr",
       "text": [
        "."
       ]
      },
      {
       "output_type": "stream",
       "stream": "stderr",
       "text": [
        "."
       ]
      },
      {
       "output_type": "stream",
       "stream": "stderr",
       "text": [
        "."
       ]
      },
      {
       "output_type": "stream",
       "stream": "stderr",
       "text": [
        "."
       ]
      },
      {
       "output_type": "stream",
       "stream": "stderr",
       "text": [
        "."
       ]
      },
      {
       "output_type": "stream",
       "stream": "stderr",
       "text": [
        "."
       ]
      },
      {
       "output_type": "stream",
       "stream": "stderr",
       "text": [
        "."
       ]
      },
      {
       "output_type": "stream",
       "stream": "stderr",
       "text": [
        "."
       ]
      },
      {
       "output_type": "stream",
       "stream": "stderr",
       "text": [
        "."
       ]
      },
      {
       "output_type": "stream",
       "stream": "stderr",
       "text": [
        "."
       ]
      },
      {
       "output_type": "stream",
       "stream": "stderr",
       "text": [
        "."
       ]
      },
      {
       "output_type": "stream",
       "stream": "stderr",
       "text": [
        "."
       ]
      },
      {
       "output_type": "stream",
       "stream": "stderr",
       "text": [
        "."
       ]
      },
      {
       "output_type": "stream",
       "stream": "stderr",
       "text": [
        "."
       ]
      },
      {
       "output_type": "stream",
       "stream": "stderr",
       "text": [
        "."
       ]
      },
      {
       "output_type": "stream",
       "stream": "stderr",
       "text": [
        "."
       ]
      },
      {
       "output_type": "stream",
       "stream": "stderr",
       "text": [
        "."
       ]
      },
      {
       "output_type": "stream",
       "stream": "stderr",
       "text": [
        "."
       ]
      },
      {
       "output_type": "stream",
       "stream": "stderr",
       "text": [
        "."
       ]
      },
      {
       "output_type": "stream",
       "stream": "stderr",
       "text": [
        "."
       ]
      },
      {
       "output_type": "stream",
       "stream": "stderr",
       "text": [
        "."
       ]
      },
      {
       "output_type": "stream",
       "stream": "stderr",
       "text": [
        "."
       ]
      },
      {
       "output_type": "stream",
       "stream": "stderr",
       "text": [
        "."
       ]
      },
      {
       "output_type": "stream",
       "stream": "stderr",
       "text": [
        "."
       ]
      },
      {
       "output_type": "stream",
       "stream": "stderr",
       "text": [
        "."
       ]
      },
      {
       "output_type": "stream",
       "stream": "stderr",
       "text": [
        "."
       ]
      },
      {
       "output_type": "stream",
       "stream": "stderr",
       "text": [
        "."
       ]
      },
      {
       "output_type": "stream",
       "stream": "stderr",
       "text": [
        "."
       ]
      },
      {
       "output_type": "stream",
       "stream": "stderr",
       "text": [
        "."
       ]
      },
      {
       "output_type": "stream",
       "stream": "stderr",
       "text": [
        "."
       ]
      },
      {
       "output_type": "stream",
       "stream": "stderr",
       "text": [
        "."
       ]
      },
      {
       "output_type": "stream",
       "stream": "stderr",
       "text": [
        "."
       ]
      },
      {
       "output_type": "stream",
       "stream": "stderr",
       "text": [
        "."
       ]
      },
      {
       "output_type": "stream",
       "stream": "stderr",
       "text": [
        "."
       ]
      },
      {
       "output_type": "stream",
       "stream": "stderr",
       "text": [
        "."
       ]
      },
      {
       "output_type": "stream",
       "stream": "stderr",
       "text": [
        "."
       ]
      },
      {
       "output_type": "stream",
       "stream": "stderr",
       "text": [
        "."
       ]
      },
      {
       "output_type": "stream",
       "stream": "stderr",
       "text": [
        "."
       ]
      },
      {
       "output_type": "stream",
       "stream": "stderr",
       "text": [
        "."
       ]
      },
      {
       "output_type": "stream",
       "stream": "stderr",
       "text": [
        "."
       ]
      },
      {
       "output_type": "stream",
       "stream": "stderr",
       "text": [
        "."
       ]
      },
      {
       "output_type": "stream",
       "stream": "stderr",
       "text": [
        "."
       ]
      },
      {
       "output_type": "stream",
       "stream": "stderr",
       "text": [
        "."
       ]
      },
      {
       "output_type": "stream",
       "stream": "stderr",
       "text": [
        "."
       ]
      },
      {
       "output_type": "stream",
       "stream": "stderr",
       "text": [
        "."
       ]
      },
      {
       "output_type": "stream",
       "stream": "stderr",
       "text": [
        "."
       ]
      },
      {
       "output_type": "stream",
       "stream": "stderr",
       "text": [
        "."
       ]
      },
      {
       "output_type": "stream",
       "stream": "stderr",
       "text": [
        "."
       ]
      },
      {
       "output_type": "stream",
       "stream": "stderr",
       "text": [
        "."
       ]
      },
      {
       "output_type": "stream",
       "stream": "stderr",
       "text": [
        "."
       ]
      },
      {
       "output_type": "stream",
       "stream": "stderr",
       "text": [
        "."
       ]
      },
      {
       "output_type": "stream",
       "stream": "stderr",
       "text": [
        "."
       ]
      },
      {
       "output_type": "stream",
       "stream": "stderr",
       "text": [
        "."
       ]
      },
      {
       "output_type": "stream",
       "stream": "stderr",
       "text": [
        "."
       ]
      },
      {
       "output_type": "stream",
       "stream": "stderr",
       "text": [
        "."
       ]
      },
      {
       "output_type": "stream",
       "stream": "stderr",
       "text": [
        "."
       ]
      },
      {
       "output_type": "stream",
       "stream": "stderr",
       "text": [
        "."
       ]
      },
      {
       "output_type": "stream",
       "stream": "stderr",
       "text": [
        "."
       ]
      },
      {
       "output_type": "stream",
       "stream": "stderr",
       "text": [
        "."
       ]
      },
      {
       "output_type": "stream",
       "stream": "stderr",
       "text": [
        "."
       ]
      },
      {
       "output_type": "stream",
       "stream": "stderr",
       "text": [
        "."
       ]
      },
      {
       "output_type": "stream",
       "stream": "stderr",
       "text": [
        "."
       ]
      },
      {
       "output_type": "stream",
       "stream": "stderr",
       "text": [
        "."
       ]
      },
      {
       "output_type": "stream",
       "stream": "stderr",
       "text": [
        "."
       ]
      },
      {
       "output_type": "stream",
       "stream": "stderr",
       "text": [
        "."
       ]
      },
      {
       "output_type": "stream",
       "stream": "stderr",
       "text": [
        "."
       ]
      },
      {
       "output_type": "stream",
       "stream": "stderr",
       "text": [
        "."
       ]
      },
      {
       "output_type": "stream",
       "stream": "stderr",
       "text": [
        "."
       ]
      },
      {
       "output_type": "stream",
       "stream": "stderr",
       "text": [
        "."
       ]
      },
      {
       "output_type": "stream",
       "stream": "stderr",
       "text": [
        "."
       ]
      },
      {
       "output_type": "stream",
       "stream": "stderr",
       "text": [
        "."
       ]
      },
      {
       "output_type": "stream",
       "stream": "stderr",
       "text": [
        "."
       ]
      },
      {
       "output_type": "stream",
       "stream": "stderr",
       "text": [
        "."
       ]
      },
      {
       "output_type": "stream",
       "stream": "stderr",
       "text": [
        "."
       ]
      },
      {
       "output_type": "stream",
       "stream": "stderr",
       "text": [
        "."
       ]
      },
      {
       "output_type": "stream",
       "stream": "stderr",
       "text": [
        "."
       ]
      },
      {
       "output_type": "stream",
       "stream": "stderr",
       "text": [
        "."
       ]
      },
      {
       "output_type": "stream",
       "stream": "stderr",
       "text": [
        "."
       ]
      },
      {
       "output_type": "stream",
       "stream": "stderr",
       "text": [
        "."
       ]
      },
      {
       "output_type": "stream",
       "stream": "stderr",
       "text": [
        "."
       ]
      },
      {
       "output_type": "stream",
       "stream": "stderr",
       "text": [
        "."
       ]
      },
      {
       "output_type": "stream",
       "stream": "stderr",
       "text": [
        "."
       ]
      },
      {
       "output_type": "stream",
       "stream": "stderr",
       "text": [
        "."
       ]
      },
      {
       "output_type": "stream",
       "stream": "stderr",
       "text": [
        "."
       ]
      },
      {
       "output_type": "stream",
       "stream": "stderr",
       "text": [
        "."
       ]
      },
      {
       "output_type": "stream",
       "stream": "stderr",
       "text": [
        "."
       ]
      },
      {
       "output_type": "stream",
       "stream": "stderr",
       "text": [
        "."
       ]
      },
      {
       "output_type": "stream",
       "stream": "stderr",
       "text": [
        "."
       ]
      },
      {
       "output_type": "stream",
       "stream": "stderr",
       "text": [
        "."
       ]
      },
      {
       "output_type": "stream",
       "stream": "stderr",
       "text": [
        "."
       ]
      },
      {
       "output_type": "stream",
       "stream": "stderr",
       "text": [
        "."
       ]
      },
      {
       "output_type": "stream",
       "stream": "stderr",
       "text": [
        "."
       ]
      },
      {
       "output_type": "stream",
       "stream": "stderr",
       "text": [
        "."
       ]
      },
      {
       "output_type": "stream",
       "stream": "stderr",
       "text": [
        "."
       ]
      },
      {
       "output_type": "stream",
       "stream": "stderr",
       "text": [
        "."
       ]
      },
      {
       "output_type": "stream",
       "stream": "stderr",
       "text": [
        "."
       ]
      },
      {
       "output_type": "stream",
       "stream": "stderr",
       "text": [
        "."
       ]
      },
      {
       "output_type": "stream",
       "stream": "stderr",
       "text": [
        "."
       ]
      },
      {
       "output_type": "stream",
       "stream": "stderr",
       "text": [
        "."
       ]
      },
      {
       "output_type": "stream",
       "stream": "stderr",
       "text": [
        "."
       ]
      },
      {
       "output_type": "stream",
       "stream": "stderr",
       "text": [
        "."
       ]
      },
      {
       "output_type": "stream",
       "stream": "stderr",
       "text": [
        "."
       ]
      },
      {
       "output_type": "stream",
       "stream": "stderr",
       "text": [
        "."
       ]
      },
      {
       "output_type": "stream",
       "stream": "stderr",
       "text": [
        "."
       ]
      },
      {
       "output_type": "stream",
       "stream": "stderr",
       "text": [
        "."
       ]
      },
      {
       "output_type": "stream",
       "stream": "stderr",
       "text": [
        "."
       ]
      },
      {
       "output_type": "stream",
       "stream": "stderr",
       "text": [
        "."
       ]
      },
      {
       "output_type": "stream",
       "stream": "stderr",
       "text": [
        "."
       ]
      },
      {
       "output_type": "stream",
       "stream": "stderr",
       "text": [
        "."
       ]
      },
      {
       "output_type": "stream",
       "stream": "stderr",
       "text": [
        "."
       ]
      },
      {
       "output_type": "stream",
       "stream": "stderr",
       "text": [
        "."
       ]
      },
      {
       "output_type": "stream",
       "stream": "stderr",
       "text": [
        "."
       ]
      },
      {
       "output_type": "stream",
       "stream": "stderr",
       "text": [
        "."
       ]
      },
      {
       "output_type": "stream",
       "stream": "stderr",
       "text": [
        "."
       ]
      },
      {
       "output_type": "stream",
       "stream": "stderr",
       "text": [
        "."
       ]
      },
      {
       "output_type": "stream",
       "stream": "stderr",
       "text": [
        "."
       ]
      },
      {
       "output_type": "stream",
       "stream": "stderr",
       "text": [
        "."
       ]
      },
      {
       "output_type": "stream",
       "stream": "stderr",
       "text": [
        "."
       ]
      },
      {
       "output_type": "stream",
       "stream": "stderr",
       "text": [
        "."
       ]
      },
      {
       "output_type": "stream",
       "stream": "stderr",
       "text": [
        "."
       ]
      },
      {
       "output_type": "stream",
       "stream": "stderr",
       "text": [
        "."
       ]
      },
      {
       "output_type": "stream",
       "stream": "stderr",
       "text": [
        "."
       ]
      },
      {
       "output_type": "stream",
       "stream": "stderr",
       "text": [
        "."
       ]
      },
      {
       "output_type": "stream",
       "stream": "stderr",
       "text": [
        "."
       ]
      },
      {
       "output_type": "stream",
       "stream": "stderr",
       "text": [
        "."
       ]
      },
      {
       "output_type": "stream",
       "stream": "stderr",
       "text": [
        "."
       ]
      },
      {
       "output_type": "stream",
       "stream": "stderr",
       "text": [
        "."
       ]
      },
      {
       "output_type": "stream",
       "stream": "stderr",
       "text": [
        "."
       ]
      },
      {
       "output_type": "stream",
       "stream": "stderr",
       "text": [
        "."
       ]
      },
      {
       "output_type": "stream",
       "stream": "stderr",
       "text": [
        "."
       ]
      },
      {
       "output_type": "stream",
       "stream": "stderr",
       "text": [
        "."
       ]
      },
      {
       "output_type": "stream",
       "stream": "stderr",
       "text": [
        "."
       ]
      },
      {
       "output_type": "stream",
       "stream": "stderr",
       "text": [
        "."
       ]
      },
      {
       "output_type": "stream",
       "stream": "stderr",
       "text": [
        "."
       ]
      },
      {
       "output_type": "stream",
       "stream": "stderr",
       "text": [
        "."
       ]
      },
      {
       "output_type": "stream",
       "stream": "stderr",
       "text": [
        "."
       ]
      },
      {
       "output_type": "stream",
       "stream": "stderr",
       "text": [
        "."
       ]
      },
      {
       "output_type": "stream",
       "stream": "stderr",
       "text": [
        "."
       ]
      },
      {
       "output_type": "stream",
       "stream": "stderr",
       "text": [
        "."
       ]
      },
      {
       "output_type": "stream",
       "stream": "stderr",
       "text": [
        "."
       ]
      },
      {
       "output_type": "stream",
       "stream": "stderr",
       "text": [
        "."
       ]
      },
      {
       "output_type": "stream",
       "stream": "stderr",
       "text": [
        "."
       ]
      },
      {
       "output_type": "stream",
       "stream": "stderr",
       "text": [
        "."
       ]
      },
      {
       "output_type": "stream",
       "stream": "stderr",
       "text": [
        "."
       ]
      },
      {
       "output_type": "stream",
       "stream": "stderr",
       "text": [
        "."
       ]
      },
      {
       "output_type": "stream",
       "stream": "stderr",
       "text": [
        "."
       ]
      },
      {
       "output_type": "stream",
       "stream": "stderr",
       "text": [
        "."
       ]
      },
      {
       "output_type": "stream",
       "stream": "stderr",
       "text": [
        "."
       ]
      },
      {
       "output_type": "stream",
       "stream": "stderr",
       "text": [
        "."
       ]
      },
      {
       "output_type": "stream",
       "stream": "stderr",
       "text": [
        "."
       ]
      },
      {
       "output_type": "stream",
       "stream": "stderr",
       "text": [
        "."
       ]
      },
      {
       "output_type": "stream",
       "stream": "stderr",
       "text": [
        "."
       ]
      },
      {
       "output_type": "stream",
       "stream": "stderr",
       "text": [
        "."
       ]
      },
      {
       "output_type": "stream",
       "stream": "stderr",
       "text": [
        "."
       ]
      },
      {
       "output_type": "stream",
       "stream": "stderr",
       "text": [
        "."
       ]
      },
      {
       "output_type": "stream",
       "stream": "stderr",
       "text": [
        "."
       ]
      },
      {
       "output_type": "stream",
       "stream": "stderr",
       "text": [
        "."
       ]
      },
      {
       "output_type": "stream",
       "stream": "stderr",
       "text": [
        "."
       ]
      },
      {
       "output_type": "stream",
       "stream": "stderr",
       "text": [
        "."
       ]
      },
      {
       "output_type": "stream",
       "stream": "stderr",
       "text": [
        "."
       ]
      },
      {
       "output_type": "stream",
       "stream": "stderr",
       "text": [
        "."
       ]
      },
      {
       "output_type": "stream",
       "stream": "stderr",
       "text": [
        "."
       ]
      },
      {
       "output_type": "stream",
       "stream": "stderr",
       "text": [
        "."
       ]
      },
      {
       "output_type": "stream",
       "stream": "stderr",
       "text": [
        "."
       ]
      },
      {
       "output_type": "stream",
       "stream": "stderr",
       "text": [
        "."
       ]
      },
      {
       "output_type": "stream",
       "stream": "stderr",
       "text": [
        "."
       ]
      },
      {
       "output_type": "stream",
       "stream": "stderr",
       "text": [
        "."
       ]
      },
      {
       "output_type": "stream",
       "stream": "stderr",
       "text": [
        "."
       ]
      },
      {
       "output_type": "stream",
       "stream": "stderr",
       "text": [
        "."
       ]
      },
      {
       "output_type": "stream",
       "stream": "stderr",
       "text": [
        "."
       ]
      },
      {
       "output_type": "stream",
       "stream": "stderr",
       "text": [
        "."
       ]
      },
      {
       "output_type": "stream",
       "stream": "stderr",
       "text": [
        "."
       ]
      },
      {
       "output_type": "stream",
       "stream": "stderr",
       "text": [
        "."
       ]
      },
      {
       "output_type": "stream",
       "stream": "stderr",
       "text": [
        "."
       ]
      },
      {
       "output_type": "stream",
       "stream": "stderr",
       "text": [
        "."
       ]
      },
      {
       "output_type": "stream",
       "stream": "stderr",
       "text": [
        "."
       ]
      },
      {
       "output_type": "stream",
       "stream": "stderr",
       "text": [
        "."
       ]
      },
      {
       "output_type": "stream",
       "stream": "stderr",
       "text": [
        "."
       ]
      },
      {
       "output_type": "stream",
       "stream": "stderr",
       "text": [
        "."
       ]
      },
      {
       "output_type": "stream",
       "stream": "stderr",
       "text": [
        "."
       ]
      },
      {
       "output_type": "stream",
       "stream": "stderr",
       "text": [
        "."
       ]
      },
      {
       "output_type": "stream",
       "stream": "stderr",
       "text": [
        "."
       ]
      },
      {
       "output_type": "stream",
       "stream": "stderr",
       "text": [
        "."
       ]
      },
      {
       "output_type": "stream",
       "stream": "stderr",
       "text": [
        "."
       ]
      },
      {
       "output_type": "stream",
       "stream": "stderr",
       "text": [
        "."
       ]
      },
      {
       "output_type": "stream",
       "stream": "stderr",
       "text": [
        "."
       ]
      },
      {
       "output_type": "stream",
       "stream": "stderr",
       "text": [
        "."
       ]
      },
      {
       "output_type": "stream",
       "stream": "stderr",
       "text": [
        "."
       ]
      },
      {
       "output_type": "stream",
       "stream": "stderr",
       "text": [
        "."
       ]
      },
      {
       "output_type": "stream",
       "stream": "stderr",
       "text": [
        "."
       ]
      },
      {
       "output_type": "stream",
       "stream": "stderr",
       "text": [
        "."
       ]
      },
      {
       "output_type": "stream",
       "stream": "stderr",
       "text": [
        "."
       ]
      },
      {
       "output_type": "stream",
       "stream": "stderr",
       "text": [
        "."
       ]
      },
      {
       "output_type": "stream",
       "stream": "stderr",
       "text": [
        "."
       ]
      },
      {
       "output_type": "stream",
       "stream": "stderr",
       "text": [
        "."
       ]
      },
      {
       "output_type": "stream",
       "stream": "stderr",
       "text": [
        "."
       ]
      },
      {
       "output_type": "stream",
       "stream": "stderr",
       "text": [
        "."
       ]
      },
      {
       "output_type": "stream",
       "stream": "stderr",
       "text": [
        "."
       ]
      },
      {
       "output_type": "stream",
       "stream": "stderr",
       "text": [
        "."
       ]
      },
      {
       "output_type": "stream",
       "stream": "stderr",
       "text": [
        "."
       ]
      },
      {
       "output_type": "stream",
       "stream": "stderr",
       "text": [
        "."
       ]
      },
      {
       "output_type": "stream",
       "stream": "stderr",
       "text": [
        "."
       ]
      },
      {
       "output_type": "stream",
       "stream": "stderr",
       "text": [
        "."
       ]
      },
      {
       "output_type": "stream",
       "stream": "stderr",
       "text": [
        "."
       ]
      },
      {
       "output_type": "stream",
       "stream": "stderr",
       "text": [
        "."
       ]
      },
      {
       "output_type": "stream",
       "stream": "stderr",
       "text": [
        "."
       ]
      },
      {
       "output_type": "stream",
       "stream": "stderr",
       "text": [
        "."
       ]
      },
      {
       "output_type": "stream",
       "stream": "stderr",
       "text": [
        "."
       ]
      },
      {
       "output_type": "stream",
       "stream": "stderr",
       "text": [
        "."
       ]
      },
      {
       "output_type": "stream",
       "stream": "stderr",
       "text": [
        "."
       ]
      },
      {
       "output_type": "stream",
       "stream": "stderr",
       "text": [
        "."
       ]
      },
      {
       "output_type": "stream",
       "stream": "stderr",
       "text": [
        "."
       ]
      },
      {
       "output_type": "stream",
       "stream": "stderr",
       "text": [
        "."
       ]
      },
      {
       "output_type": "stream",
       "stream": "stderr",
       "text": [
        "."
       ]
      },
      {
       "output_type": "stream",
       "stream": "stderr",
       "text": [
        "."
       ]
      },
      {
       "output_type": "stream",
       "stream": "stderr",
       "text": [
        "."
       ]
      },
      {
       "output_type": "stream",
       "stream": "stderr",
       "text": [
        "."
       ]
      },
      {
       "output_type": "stream",
       "stream": "stderr",
       "text": [
        "."
       ]
      },
      {
       "output_type": "stream",
       "stream": "stderr",
       "text": [
        "."
       ]
      },
      {
       "output_type": "stream",
       "stream": "stderr",
       "text": [
        "."
       ]
      },
      {
       "output_type": "stream",
       "stream": "stderr",
       "text": [
        "."
       ]
      },
      {
       "output_type": "stream",
       "stream": "stderr",
       "text": [
        "."
       ]
      },
      {
       "output_type": "stream",
       "stream": "stderr",
       "text": [
        "."
       ]
      },
      {
       "output_type": "stream",
       "stream": "stderr",
       "text": [
        "."
       ]
      },
      {
       "output_type": "stream",
       "stream": "stderr",
       "text": [
        "."
       ]
      },
      {
       "output_type": "stream",
       "stream": "stderr",
       "text": [
        "."
       ]
      },
      {
       "output_type": "stream",
       "stream": "stderr",
       "text": [
        "."
       ]
      },
      {
       "output_type": "stream",
       "stream": "stderr",
       "text": [
        "."
       ]
      },
      {
       "output_type": "stream",
       "stream": "stderr",
       "text": [
        "."
       ]
      },
      {
       "output_type": "stream",
       "stream": "stderr",
       "text": [
        "."
       ]
      },
      {
       "output_type": "stream",
       "stream": "stderr",
       "text": [
        "."
       ]
      },
      {
       "output_type": "stream",
       "stream": "stderr",
       "text": [
        "."
       ]
      },
      {
       "output_type": "stream",
       "stream": "stderr",
       "text": [
        "."
       ]
      },
      {
       "output_type": "stream",
       "stream": "stderr",
       "text": [
        "."
       ]
      },
      {
       "output_type": "stream",
       "stream": "stderr",
       "text": [
        "."
       ]
      },
      {
       "output_type": "stream",
       "stream": "stderr",
       "text": [
        "."
       ]
      },
      {
       "output_type": "stream",
       "stream": "stderr",
       "text": [
        "."
       ]
      },
      {
       "output_type": "stream",
       "stream": "stderr",
       "text": [
        "."
       ]
      },
      {
       "output_type": "stream",
       "stream": "stderr",
       "text": [
        "."
       ]
      },
      {
       "output_type": "stream",
       "stream": "stderr",
       "text": [
        "."
       ]
      },
      {
       "output_type": "stream",
       "stream": "stderr",
       "text": [
        "."
       ]
      },
      {
       "output_type": "stream",
       "stream": "stderr",
       "text": [
        "."
       ]
      },
      {
       "output_type": "stream",
       "stream": "stderr",
       "text": [
        "."
       ]
      },
      {
       "output_type": "stream",
       "stream": "stderr",
       "text": [
        "."
       ]
      },
      {
       "output_type": "stream",
       "stream": "stderr",
       "text": [
        "."
       ]
      },
      {
       "output_type": "stream",
       "stream": "stderr",
       "text": [
        "."
       ]
      },
      {
       "output_type": "stream",
       "stream": "stderr",
       "text": [
        "."
       ]
      },
      {
       "output_type": "stream",
       "stream": "stderr",
       "text": [
        "."
       ]
      },
      {
       "output_type": "stream",
       "stream": "stderr",
       "text": [
        "."
       ]
      },
      {
       "output_type": "stream",
       "stream": "stderr",
       "text": [
        "."
       ]
      },
      {
       "output_type": "stream",
       "stream": "stderr",
       "text": [
        "."
       ]
      },
      {
       "output_type": "stream",
       "stream": "stderr",
       "text": [
        "."
       ]
      },
      {
       "output_type": "stream",
       "stream": "stderr",
       "text": [
        "."
       ]
      },
      {
       "output_type": "stream",
       "stream": "stderr",
       "text": [
        "."
       ]
      },
      {
       "output_type": "stream",
       "stream": "stderr",
       "text": [
        "."
       ]
      },
      {
       "output_type": "stream",
       "stream": "stderr",
       "text": [
        "."
       ]
      },
      {
       "output_type": "stream",
       "stream": "stderr",
       "text": [
        "."
       ]
      },
      {
       "output_type": "stream",
       "stream": "stderr",
       "text": [
        "."
       ]
      },
      {
       "output_type": "stream",
       "stream": "stderr",
       "text": [
        "."
       ]
      },
      {
       "output_type": "stream",
       "stream": "stderr",
       "text": [
        "."
       ]
      },
      {
       "output_type": "stream",
       "stream": "stderr",
       "text": [
        "."
       ]
      },
      {
       "output_type": "stream",
       "stream": "stderr",
       "text": [
        "."
       ]
      },
      {
       "output_type": "stream",
       "stream": "stderr",
       "text": [
        "."
       ]
      },
      {
       "output_type": "stream",
       "stream": "stderr",
       "text": [
        "."
       ]
      },
      {
       "output_type": "stream",
       "stream": "stderr",
       "text": [
        "."
       ]
      },
      {
       "output_type": "stream",
       "stream": "stderr",
       "text": [
        "."
       ]
      },
      {
       "output_type": "stream",
       "stream": "stderr",
       "text": [
        "."
       ]
      },
      {
       "output_type": "stream",
       "stream": "stderr",
       "text": [
        "."
       ]
      },
      {
       "output_type": "stream",
       "stream": "stderr",
       "text": [
        "."
       ]
      },
      {
       "output_type": "stream",
       "stream": "stderr",
       "text": [
        "."
       ]
      },
      {
       "output_type": "stream",
       "stream": "stderr",
       "text": [
        "."
       ]
      },
      {
       "output_type": "stream",
       "stream": "stderr",
       "text": [
        "."
       ]
      },
      {
       "output_type": "stream",
       "stream": "stderr",
       "text": [
        "."
       ]
      },
      {
       "output_type": "stream",
       "stream": "stderr",
       "text": [
        "."
       ]
      },
      {
       "output_type": "stream",
       "stream": "stderr",
       "text": [
        "."
       ]
      },
      {
       "output_type": "stream",
       "stream": "stderr",
       "text": [
        "."
       ]
      },
      {
       "output_type": "stream",
       "stream": "stderr",
       "text": [
        "."
       ]
      },
      {
       "output_type": "stream",
       "stream": "stderr",
       "text": [
        "."
       ]
      },
      {
       "output_type": "stream",
       "stream": "stderr",
       "text": [
        "."
       ]
      },
      {
       "output_type": "stream",
       "stream": "stderr",
       "text": [
        "."
       ]
      },
      {
       "output_type": "stream",
       "stream": "stderr",
       "text": [
        "."
       ]
      },
      {
       "output_type": "stream",
       "stream": "stderr",
       "text": [
        "."
       ]
      },
      {
       "output_type": "stream",
       "stream": "stderr",
       "text": [
        "."
       ]
      },
      {
       "output_type": "stream",
       "stream": "stderr",
       "text": [
        "."
       ]
      },
      {
       "output_type": "stream",
       "stream": "stderr",
       "text": [
        "."
       ]
      },
      {
       "output_type": "stream",
       "stream": "stderr",
       "text": [
        "."
       ]
      },
      {
       "output_type": "stream",
       "stream": "stderr",
       "text": [
        "."
       ]
      },
      {
       "output_type": "stream",
       "stream": "stderr",
       "text": [
        "."
       ]
      },
      {
       "output_type": "stream",
       "stream": "stderr",
       "text": [
        "."
       ]
      },
      {
       "output_type": "stream",
       "stream": "stderr",
       "text": [
        "."
       ]
      },
      {
       "output_type": "stream",
       "stream": "stderr",
       "text": [
        "."
       ]
      },
      {
       "output_type": "stream",
       "stream": "stderr",
       "text": [
        "."
       ]
      },
      {
       "output_type": "stream",
       "stream": "stderr",
       "text": [
        "."
       ]
      },
      {
       "output_type": "stream",
       "stream": "stderr",
       "text": [
        "."
       ]
      },
      {
       "output_type": "stream",
       "stream": "stderr",
       "text": [
        "."
       ]
      },
      {
       "output_type": "stream",
       "stream": "stderr",
       "text": [
        "."
       ]
      },
      {
       "output_type": "stream",
       "stream": "stderr",
       "text": [
        "."
       ]
      },
      {
       "output_type": "stream",
       "stream": "stderr",
       "text": [
        "."
       ]
      },
      {
       "output_type": "stream",
       "stream": "stderr",
       "text": [
        "."
       ]
      },
      {
       "output_type": "stream",
       "stream": "stderr",
       "text": [
        "."
       ]
      },
      {
       "output_type": "stream",
       "stream": "stderr",
       "text": [
        "."
       ]
      },
      {
       "output_type": "stream",
       "stream": "stderr",
       "text": [
        "."
       ]
      },
      {
       "output_type": "stream",
       "stream": "stderr",
       "text": [
        "."
       ]
      },
      {
       "output_type": "stream",
       "stream": "stderr",
       "text": [
        "."
       ]
      },
      {
       "output_type": "stream",
       "stream": "stderr",
       "text": [
        "."
       ]
      },
      {
       "output_type": "stream",
       "stream": "stderr",
       "text": [
        "."
       ]
      },
      {
       "output_type": "stream",
       "stream": "stderr",
       "text": [
        "."
       ]
      },
      {
       "output_type": "stream",
       "stream": "stderr",
       "text": [
        "."
       ]
      },
      {
       "output_type": "stream",
       "stream": "stderr",
       "text": [
        "."
       ]
      },
      {
       "output_type": "stream",
       "stream": "stderr",
       "text": [
        "."
       ]
      },
      {
       "output_type": "stream",
       "stream": "stderr",
       "text": [
        "."
       ]
      },
      {
       "output_type": "stream",
       "stream": "stderr",
       "text": [
        "."
       ]
      },
      {
       "output_type": "stream",
       "stream": "stderr",
       "text": [
        "."
       ]
      },
      {
       "output_type": "stream",
       "stream": "stderr",
       "text": [
        "."
       ]
      },
      {
       "output_type": "stream",
       "stream": "stderr",
       "text": [
        "."
       ]
      },
      {
       "output_type": "stream",
       "stream": "stderr",
       "text": [
        "."
       ]
      },
      {
       "output_type": "stream",
       "stream": "stderr",
       "text": [
        "."
       ]
      },
      {
       "output_type": "stream",
       "stream": "stderr",
       "text": [
        "."
       ]
      },
      {
       "output_type": "stream",
       "stream": "stderr",
       "text": [
        "."
       ]
      },
      {
       "output_type": "stream",
       "stream": "stderr",
       "text": [
        "."
       ]
      },
      {
       "output_type": "stream",
       "stream": "stderr",
       "text": [
        "."
       ]
      },
      {
       "output_type": "stream",
       "stream": "stderr",
       "text": [
        "."
       ]
      },
      {
       "output_type": "stream",
       "stream": "stderr",
       "text": [
        "."
       ]
      },
      {
       "output_type": "stream",
       "stream": "stderr",
       "text": [
        "."
       ]
      },
      {
       "output_type": "stream",
       "stream": "stderr",
       "text": [
        "."
       ]
      },
      {
       "output_type": "stream",
       "stream": "stderr",
       "text": [
        "."
       ]
      },
      {
       "output_type": "stream",
       "stream": "stderr",
       "text": [
        "."
       ]
      },
      {
       "output_type": "stream",
       "stream": "stderr",
       "text": [
        "."
       ]
      },
      {
       "output_type": "stream",
       "stream": "stderr",
       "text": [
        "."
       ]
      },
      {
       "output_type": "stream",
       "stream": "stderr",
       "text": [
        "."
       ]
      },
      {
       "output_type": "stream",
       "stream": "stderr",
       "text": [
        "."
       ]
      },
      {
       "output_type": "stream",
       "stream": "stderr",
       "text": [
        "."
       ]
      },
      {
       "output_type": "stream",
       "stream": "stderr",
       "text": [
        "."
       ]
      },
      {
       "output_type": "stream",
       "stream": "stderr",
       "text": [
        "."
       ]
      },
      {
       "output_type": "stream",
       "stream": "stderr",
       "text": [
        "."
       ]
      },
      {
       "output_type": "stream",
       "stream": "stderr",
       "text": [
        "."
       ]
      },
      {
       "output_type": "stream",
       "stream": "stderr",
       "text": [
        "."
       ]
      },
      {
       "output_type": "stream",
       "stream": "stderr",
       "text": [
        "."
       ]
      },
      {
       "output_type": "stream",
       "stream": "stderr",
       "text": [
        "."
       ]
      },
      {
       "output_type": "stream",
       "stream": "stderr",
       "text": [
        "."
       ]
      },
      {
       "output_type": "stream",
       "stream": "stderr",
       "text": [
        "."
       ]
      },
      {
       "output_type": "stream",
       "stream": "stderr",
       "text": [
        "."
       ]
      },
      {
       "output_type": "stream",
       "stream": "stderr",
       "text": [
        "."
       ]
      },
      {
       "output_type": "stream",
       "stream": "stderr",
       "text": [
        "."
       ]
      },
      {
       "output_type": "stream",
       "stream": "stderr",
       "text": [
        "."
       ]
      },
      {
       "output_type": "stream",
       "stream": "stderr",
       "text": [
        "."
       ]
      },
      {
       "output_type": "stream",
       "stream": "stderr",
       "text": [
        "."
       ]
      },
      {
       "output_type": "stream",
       "stream": "stderr",
       "text": [
        "."
       ]
      },
      {
       "output_type": "stream",
       "stream": "stderr",
       "text": [
        "."
       ]
      },
      {
       "output_type": "stream",
       "stream": "stderr",
       "text": [
        "."
       ]
      },
      {
       "output_type": "stream",
       "stream": "stderr",
       "text": [
        "."
       ]
      },
      {
       "output_type": "stream",
       "stream": "stderr",
       "text": [
        "."
       ]
      },
      {
       "output_type": "stream",
       "stream": "stderr",
       "text": [
        "."
       ]
      },
      {
       "output_type": "stream",
       "stream": "stderr",
       "text": [
        "."
       ]
      },
      {
       "output_type": "stream",
       "stream": "stderr",
       "text": [
        "."
       ]
      },
      {
       "output_type": "stream",
       "stream": "stderr",
       "text": [
        "."
       ]
      },
      {
       "output_type": "stream",
       "stream": "stderr",
       "text": [
        "."
       ]
      },
      {
       "output_type": "stream",
       "stream": "stderr",
       "text": [
        "."
       ]
      },
      {
       "output_type": "stream",
       "stream": "stderr",
       "text": [
        "."
       ]
      },
      {
       "output_type": "stream",
       "stream": "stderr",
       "text": [
        "."
       ]
      },
      {
       "output_type": "stream",
       "stream": "stderr",
       "text": [
        "."
       ]
      },
      {
       "output_type": "stream",
       "stream": "stderr",
       "text": [
        "."
       ]
      },
      {
       "output_type": "stream",
       "stream": "stderr",
       "text": [
        "."
       ]
      },
      {
       "output_type": "stream",
       "stream": "stderr",
       "text": [
        "."
       ]
      },
      {
       "output_type": "stream",
       "stream": "stderr",
       "text": [
        "."
       ]
      },
      {
       "output_type": "stream",
       "stream": "stderr",
       "text": [
        "."
       ]
      },
      {
       "output_type": "stream",
       "stream": "stderr",
       "text": [
        "."
       ]
      },
      {
       "output_type": "stream",
       "stream": "stderr",
       "text": [
        "."
       ]
      },
      {
       "output_type": "stream",
       "stream": "stderr",
       "text": [
        "."
       ]
      },
      {
       "output_type": "stream",
       "stream": "stderr",
       "text": [
        "."
       ]
      },
      {
       "output_type": "stream",
       "stream": "stderr",
       "text": [
        "."
       ]
      },
      {
       "output_type": "stream",
       "stream": "stderr",
       "text": [
        "."
       ]
      },
      {
       "output_type": "stream",
       "stream": "stderr",
       "text": [
        "."
       ]
      },
      {
       "output_type": "stream",
       "stream": "stderr",
       "text": [
        "."
       ]
      },
      {
       "output_type": "stream",
       "stream": "stderr",
       "text": [
        "."
       ]
      },
      {
       "output_type": "stream",
       "stream": "stderr",
       "text": [
        "."
       ]
      },
      {
       "output_type": "stream",
       "stream": "stderr",
       "text": [
        "."
       ]
      },
      {
       "output_type": "stream",
       "stream": "stderr",
       "text": [
        "."
       ]
      },
      {
       "output_type": "stream",
       "stream": "stderr",
       "text": [
        "."
       ]
      },
      {
       "output_type": "stream",
       "stream": "stderr",
       "text": [
        "."
       ]
      },
      {
       "output_type": "stream",
       "stream": "stderr",
       "text": [
        "."
       ]
      },
      {
       "output_type": "stream",
       "stream": "stderr",
       "text": [
        "."
       ]
      },
      {
       "output_type": "stream",
       "stream": "stderr",
       "text": [
        "."
       ]
      },
      {
       "output_type": "stream",
       "stream": "stderr",
       "text": [
        "."
       ]
      },
      {
       "output_type": "stream",
       "stream": "stderr",
       "text": [
        "."
       ]
      },
      {
       "output_type": "stream",
       "stream": "stderr",
       "text": [
        "."
       ]
      },
      {
       "output_type": "stream",
       "stream": "stderr",
       "text": [
        "."
       ]
      },
      {
       "output_type": "stream",
       "stream": "stderr",
       "text": [
        "."
       ]
      },
      {
       "output_type": "stream",
       "stream": "stderr",
       "text": [
        "."
       ]
      },
      {
       "output_type": "stream",
       "stream": "stderr",
       "text": [
        "."
       ]
      },
      {
       "output_type": "stream",
       "stream": "stderr",
       "text": [
        "."
       ]
      },
      {
       "output_type": "stream",
       "stream": "stderr",
       "text": [
        "."
       ]
      },
      {
       "output_type": "stream",
       "stream": "stderr",
       "text": [
        "."
       ]
      },
      {
       "output_type": "stream",
       "stream": "stderr",
       "text": [
        "."
       ]
      },
      {
       "output_type": "stream",
       "stream": "stderr",
       "text": [
        "."
       ]
      },
      {
       "output_type": "stream",
       "stream": "stderr",
       "text": [
        "."
       ]
      },
      {
       "output_type": "stream",
       "stream": "stderr",
       "text": [
        "."
       ]
      },
      {
       "output_type": "stream",
       "stream": "stderr",
       "text": [
        "."
       ]
      },
      {
       "output_type": "stream",
       "stream": "stderr",
       "text": [
        "."
       ]
      },
      {
       "output_type": "stream",
       "stream": "stderr",
       "text": [
        "."
       ]
      },
      {
       "output_type": "stream",
       "stream": "stderr",
       "text": [
        "."
       ]
      },
      {
       "output_type": "stream",
       "stream": "stderr",
       "text": [
        "."
       ]
      },
      {
       "output_type": "stream",
       "stream": "stderr",
       "text": [
        "."
       ]
      },
      {
       "output_type": "stream",
       "stream": "stderr",
       "text": [
        "."
       ]
      },
      {
       "output_type": "stream",
       "stream": "stderr",
       "text": [
        "."
       ]
      },
      {
       "output_type": "stream",
       "stream": "stderr",
       "text": [
        "."
       ]
      },
      {
       "output_type": "stream",
       "stream": "stderr",
       "text": [
        "."
       ]
      },
      {
       "output_type": "stream",
       "stream": "stderr",
       "text": [
        "."
       ]
      },
      {
       "output_type": "stream",
       "stream": "stderr",
       "text": [
        "."
       ]
      },
      {
       "output_type": "stream",
       "stream": "stderr",
       "text": [
        "."
       ]
      },
      {
       "output_type": "stream",
       "stream": "stderr",
       "text": [
        "."
       ]
      },
      {
       "output_type": "stream",
       "stream": "stderr",
       "text": [
        "."
       ]
      },
      {
       "output_type": "stream",
       "stream": "stderr",
       "text": [
        "."
       ]
      },
      {
       "output_type": "stream",
       "stream": "stderr",
       "text": [
        "."
       ]
      },
      {
       "output_type": "stream",
       "stream": "stderr",
       "text": [
        "."
       ]
      },
      {
       "output_type": "stream",
       "stream": "stderr",
       "text": [
        "."
       ]
      },
      {
       "output_type": "stream",
       "stream": "stderr",
       "text": [
        "."
       ]
      },
      {
       "output_type": "stream",
       "stream": "stderr",
       "text": [
        "."
       ]
      },
      {
       "output_type": "stream",
       "stream": "stderr",
       "text": [
        "."
       ]
      },
      {
       "output_type": "stream",
       "stream": "stderr",
       "text": [
        "."
       ]
      },
      {
       "output_type": "stream",
       "stream": "stderr",
       "text": [
        "."
       ]
      },
      {
       "output_type": "stream",
       "stream": "stderr",
       "text": [
        "."
       ]
      },
      {
       "output_type": "stream",
       "stream": "stderr",
       "text": [
        "."
       ]
      },
      {
       "output_type": "stream",
       "stream": "stderr",
       "text": [
        "."
       ]
      },
      {
       "output_type": "stream",
       "stream": "stderr",
       "text": [
        "."
       ]
      },
      {
       "output_type": "stream",
       "stream": "stderr",
       "text": [
        "."
       ]
      },
      {
       "output_type": "stream",
       "stream": "stderr",
       "text": [
        "."
       ]
      },
      {
       "output_type": "stream",
       "stream": "stderr",
       "text": [
        "."
       ]
      },
      {
       "output_type": "stream",
       "stream": "stderr",
       "text": [
        "."
       ]
      },
      {
       "output_type": "stream",
       "stream": "stderr",
       "text": [
        "."
       ]
      },
      {
       "output_type": "stream",
       "stream": "stderr",
       "text": [
        "."
       ]
      },
      {
       "output_type": "stream",
       "stream": "stderr",
       "text": [
        "."
       ]
      },
      {
       "output_type": "stream",
       "stream": "stderr",
       "text": [
        "."
       ]
      },
      {
       "output_type": "stream",
       "stream": "stderr",
       "text": [
        "."
       ]
      },
      {
       "output_type": "stream",
       "stream": "stderr",
       "text": [
        "."
       ]
      },
      {
       "output_type": "stream",
       "stream": "stderr",
       "text": [
        "."
       ]
      },
      {
       "output_type": "stream",
       "stream": "stderr",
       "text": [
        "."
       ]
      },
      {
       "output_type": "stream",
       "stream": "stderr",
       "text": [
        "."
       ]
      },
      {
       "output_type": "stream",
       "stream": "stderr",
       "text": [
        "."
       ]
      },
      {
       "output_type": "stream",
       "stream": "stderr",
       "text": [
        "."
       ]
      },
      {
       "output_type": "stream",
       "stream": "stderr",
       "text": [
        "."
       ]
      },
      {
       "output_type": "stream",
       "stream": "stderr",
       "text": [
        "."
       ]
      },
      {
       "output_type": "stream",
       "stream": "stderr",
       "text": [
        "."
       ]
      },
      {
       "output_type": "stream",
       "stream": "stderr",
       "text": [
        "."
       ]
      },
      {
       "output_type": "stream",
       "stream": "stderr",
       "text": [
        "."
       ]
      },
      {
       "output_type": "stream",
       "stream": "stderr",
       "text": [
        "."
       ]
      },
      {
       "output_type": "stream",
       "stream": "stderr",
       "text": [
        "."
       ]
      },
      {
       "output_type": "stream",
       "stream": "stderr",
       "text": [
        "."
       ]
      },
      {
       "output_type": "stream",
       "stream": "stderr",
       "text": [
        "."
       ]
      },
      {
       "output_type": "stream",
       "stream": "stderr",
       "text": [
        "."
       ]
      },
      {
       "output_type": "stream",
       "stream": "stderr",
       "text": [
        "."
       ]
      },
      {
       "output_type": "stream",
       "stream": "stderr",
       "text": [
        "."
       ]
      },
      {
       "output_type": "stream",
       "stream": "stderr",
       "text": [
        "."
       ]
      },
      {
       "output_type": "stream",
       "stream": "stderr",
       "text": [
        "."
       ]
      },
      {
       "output_type": "stream",
       "stream": "stderr",
       "text": [
        "."
       ]
      },
      {
       "output_type": "stream",
       "stream": "stderr",
       "text": [
        "."
       ]
      },
      {
       "output_type": "stream",
       "stream": "stderr",
       "text": [
        "."
       ]
      },
      {
       "output_type": "stream",
       "stream": "stderr",
       "text": [
        "."
       ]
      },
      {
       "output_type": "stream",
       "stream": "stderr",
       "text": [
        "."
       ]
      },
      {
       "output_type": "stream",
       "stream": "stderr",
       "text": [
        "."
       ]
      },
      {
       "output_type": "stream",
       "stream": "stderr",
       "text": [
        "."
       ]
      },
      {
       "output_type": "stream",
       "stream": "stderr",
       "text": [
        "."
       ]
      },
      {
       "output_type": "stream",
       "stream": "stderr",
       "text": [
        "."
       ]
      },
      {
       "output_type": "stream",
       "stream": "stderr",
       "text": [
        "."
       ]
      },
      {
       "output_type": "stream",
       "stream": "stderr",
       "text": [
        "."
       ]
      },
      {
       "output_type": "stream",
       "stream": "stderr",
       "text": [
        "."
       ]
      },
      {
       "output_type": "stream",
       "stream": "stderr",
       "text": [
        "."
       ]
      },
      {
       "output_type": "stream",
       "stream": "stderr",
       "text": [
        "."
       ]
      },
      {
       "output_type": "stream",
       "stream": "stderr",
       "text": [
        "."
       ]
      },
      {
       "output_type": "stream",
       "stream": "stderr",
       "text": [
        "."
       ]
      },
      {
       "output_type": "stream",
       "stream": "stderr",
       "text": [
        "."
       ]
      },
      {
       "output_type": "stream",
       "stream": "stderr",
       "text": [
        "."
       ]
      },
      {
       "output_type": "stream",
       "stream": "stderr",
       "text": [
        "."
       ]
      },
      {
       "output_type": "stream",
       "stream": "stderr",
       "text": [
        "."
       ]
      },
      {
       "output_type": "stream",
       "stream": "stderr",
       "text": [
        "."
       ]
      },
      {
       "output_type": "stream",
       "stream": "stderr",
       "text": [
        "."
       ]
      },
      {
       "output_type": "stream",
       "stream": "stderr",
       "text": [
        "."
       ]
      },
      {
       "output_type": "stream",
       "stream": "stderr",
       "text": [
        "."
       ]
      },
      {
       "output_type": "stream",
       "stream": "stderr",
       "text": [
        "."
       ]
      },
      {
       "output_type": "stream",
       "stream": "stderr",
       "text": [
        "."
       ]
      },
      {
       "output_type": "stream",
       "stream": "stderr",
       "text": [
        "."
       ]
      },
      {
       "output_type": "stream",
       "stream": "stderr",
       "text": [
        "."
       ]
      },
      {
       "output_type": "stream",
       "stream": "stderr",
       "text": [
        "."
       ]
      },
      {
       "output_type": "stream",
       "stream": "stderr",
       "text": [
        "."
       ]
      },
      {
       "output_type": "stream",
       "stream": "stderr",
       "text": [
        "."
       ]
      },
      {
       "output_type": "stream",
       "stream": "stderr",
       "text": [
        "."
       ]
      },
      {
       "output_type": "stream",
       "stream": "stderr",
       "text": [
        "."
       ]
      },
      {
       "output_type": "stream",
       "stream": "stderr",
       "text": [
        "."
       ]
      },
      {
       "output_type": "stream",
       "stream": "stderr",
       "text": [
        "."
       ]
      },
      {
       "output_type": "stream",
       "stream": "stderr",
       "text": [
        "."
       ]
      },
      {
       "output_type": "stream",
       "stream": "stderr",
       "text": [
        "."
       ]
      },
      {
       "output_type": "stream",
       "stream": "stderr",
       "text": [
        "."
       ]
      },
      {
       "output_type": "stream",
       "stream": "stderr",
       "text": [
        "."
       ]
      },
      {
       "output_type": "stream",
       "stream": "stderr",
       "text": [
        "."
       ]
      },
      {
       "output_type": "stream",
       "stream": "stderr",
       "text": [
        "."
       ]
      },
      {
       "output_type": "stream",
       "stream": "stderr",
       "text": [
        "."
       ]
      },
      {
       "output_type": "stream",
       "stream": "stderr",
       "text": [
        "."
       ]
      },
      {
       "output_type": "stream",
       "stream": "stderr",
       "text": [
        "."
       ]
      },
      {
       "output_type": "stream",
       "stream": "stderr",
       "text": [
        "."
       ]
      },
      {
       "output_type": "stream",
       "stream": "stderr",
       "text": [
        "."
       ]
      },
      {
       "output_type": "stream",
       "stream": "stderr",
       "text": [
        "."
       ]
      },
      {
       "output_type": "stream",
       "stream": "stderr",
       "text": [
        "."
       ]
      },
      {
       "output_type": "stream",
       "stream": "stderr",
       "text": [
        "."
       ]
      },
      {
       "output_type": "stream",
       "stream": "stderr",
       "text": [
        "."
       ]
      },
      {
       "output_type": "stream",
       "stream": "stderr",
       "text": [
        "."
       ]
      },
      {
       "output_type": "stream",
       "stream": "stderr",
       "text": [
        "."
       ]
      },
      {
       "output_type": "stream",
       "stream": "stderr",
       "text": [
        "."
       ]
      },
      {
       "output_type": "stream",
       "stream": "stderr",
       "text": [
        "."
       ]
      },
      {
       "output_type": "stream",
       "stream": "stderr",
       "text": [
        "."
       ]
      },
      {
       "output_type": "stream",
       "stream": "stderr",
       "text": [
        "."
       ]
      },
      {
       "output_type": "stream",
       "stream": "stderr",
       "text": [
        "."
       ]
      },
      {
       "output_type": "stream",
       "stream": "stderr",
       "text": [
        "."
       ]
      },
      {
       "output_type": "stream",
       "stream": "stderr",
       "text": [
        "."
       ]
      },
      {
       "output_type": "stream",
       "stream": "stderr",
       "text": [
        "."
       ]
      },
      {
       "output_type": "stream",
       "stream": "stderr",
       "text": [
        "."
       ]
      },
      {
       "output_type": "stream",
       "stream": "stderr",
       "text": [
        "."
       ]
      },
      {
       "output_type": "stream",
       "stream": "stderr",
       "text": [
        "."
       ]
      },
      {
       "output_type": "stream",
       "stream": "stderr",
       "text": [
        "."
       ]
      },
      {
       "output_type": "stream",
       "stream": "stderr",
       "text": [
        "."
       ]
      },
      {
       "output_type": "stream",
       "stream": "stderr",
       "text": [
        "."
       ]
      },
      {
       "output_type": "stream",
       "stream": "stderr",
       "text": [
        "."
       ]
      },
      {
       "output_type": "stream",
       "stream": "stderr",
       "text": [
        "."
       ]
      },
      {
       "output_type": "stream",
       "stream": "stderr",
       "text": [
        "."
       ]
      },
      {
       "output_type": "stream",
       "stream": "stderr",
       "text": [
        "."
       ]
      },
      {
       "output_type": "stream",
       "stream": "stderr",
       "text": [
        "."
       ]
      },
      {
       "output_type": "stream",
       "stream": "stderr",
       "text": [
        "."
       ]
      },
      {
       "output_type": "stream",
       "stream": "stderr",
       "text": [
        "."
       ]
      },
      {
       "output_type": "stream",
       "stream": "stderr",
       "text": [
        "."
       ]
      },
      {
       "output_type": "stream",
       "stream": "stderr",
       "text": [
        "."
       ]
      },
      {
       "output_type": "stream",
       "stream": "stderr",
       "text": [
        "."
       ]
      },
      {
       "output_type": "stream",
       "stream": "stderr",
       "text": [
        "."
       ]
      },
      {
       "output_type": "stream",
       "stream": "stderr",
       "text": [
        "."
       ]
      },
      {
       "output_type": "stream",
       "stream": "stderr",
       "text": [
        "."
       ]
      },
      {
       "output_type": "stream",
       "stream": "stderr",
       "text": [
        "."
       ]
      },
      {
       "output_type": "stream",
       "stream": "stderr",
       "text": [
        "."
       ]
      },
      {
       "output_type": "stream",
       "stream": "stderr",
       "text": [
        "."
       ]
      },
      {
       "output_type": "stream",
       "stream": "stderr",
       "text": [
        "."
       ]
      },
      {
       "output_type": "stream",
       "stream": "stderr",
       "text": [
        "."
       ]
      },
      {
       "output_type": "stream",
       "stream": "stderr",
       "text": [
        "."
       ]
      },
      {
       "output_type": "stream",
       "stream": "stderr",
       "text": [
        "."
       ]
      },
      {
       "output_type": "stream",
       "stream": "stderr",
       "text": [
        "."
       ]
      },
      {
       "output_type": "stream",
       "stream": "stderr",
       "text": [
        "."
       ]
      },
      {
       "output_type": "stream",
       "stream": "stderr",
       "text": [
        "."
       ]
      },
      {
       "output_type": "stream",
       "stream": "stderr",
       "text": [
        "."
       ]
      },
      {
       "output_type": "stream",
       "stream": "stderr",
       "text": [
        "."
       ]
      },
      {
       "output_type": "stream",
       "stream": "stderr",
       "text": [
        "."
       ]
      },
      {
       "output_type": "stream",
       "stream": "stderr",
       "text": [
        "."
       ]
      },
      {
       "output_type": "stream",
       "stream": "stderr",
       "text": [
        "."
       ]
      },
      {
       "output_type": "stream",
       "stream": "stderr",
       "text": [
        "."
       ]
      },
      {
       "output_type": "stream",
       "stream": "stderr",
       "text": [
        "."
       ]
      },
      {
       "output_type": "stream",
       "stream": "stderr",
       "text": [
        "."
       ]
      },
      {
       "output_type": "stream",
       "stream": "stderr",
       "text": [
        "."
       ]
      },
      {
       "output_type": "stream",
       "stream": "stderr",
       "text": [
        "."
       ]
      },
      {
       "output_type": "stream",
       "stream": "stderr",
       "text": [
        "."
       ]
      },
      {
       "output_type": "stream",
       "stream": "stderr",
       "text": [
        "."
       ]
      },
      {
       "output_type": "stream",
       "stream": "stderr",
       "text": [
        "."
       ]
      },
      {
       "output_type": "stream",
       "stream": "stderr",
       "text": [
        "."
       ]
      },
      {
       "output_type": "stream",
       "stream": "stderr",
       "text": [
        "."
       ]
      },
      {
       "output_type": "stream",
       "stream": "stderr",
       "text": [
        "."
       ]
      },
      {
       "output_type": "stream",
       "stream": "stderr",
       "text": [
        "."
       ]
      },
      {
       "output_type": "stream",
       "stream": "stderr",
       "text": [
        "."
       ]
      },
      {
       "output_type": "stream",
       "stream": "stderr",
       "text": [
        "."
       ]
      },
      {
       "output_type": "stream",
       "stream": "stderr",
       "text": [
        "."
       ]
      },
      {
       "output_type": "stream",
       "stream": "stderr",
       "text": [
        "."
       ]
      },
      {
       "output_type": "stream",
       "stream": "stderr",
       "text": [
        "."
       ]
      },
      {
       "output_type": "stream",
       "stream": "stderr",
       "text": [
        "."
       ]
      },
      {
       "output_type": "stream",
       "stream": "stderr",
       "text": [
        "."
       ]
      },
      {
       "output_type": "stream",
       "stream": "stderr",
       "text": [
        "."
       ]
      },
      {
       "output_type": "stream",
       "stream": "stderr",
       "text": [
        "."
       ]
      },
      {
       "output_type": "stream",
       "stream": "stderr",
       "text": [
        "."
       ]
      },
      {
       "output_type": "stream",
       "stream": "stderr",
       "text": [
        "."
       ]
      },
      {
       "output_type": "stream",
       "stream": "stderr",
       "text": [
        "."
       ]
      },
      {
       "output_type": "stream",
       "stream": "stderr",
       "text": [
        "."
       ]
      },
      {
       "output_type": "stream",
       "stream": "stderr",
       "text": [
        "."
       ]
      },
      {
       "output_type": "stream",
       "stream": "stderr",
       "text": [
        "."
       ]
      },
      {
       "output_type": "stream",
       "stream": "stderr",
       "text": [
        "."
       ]
      },
      {
       "output_type": "stream",
       "stream": "stderr",
       "text": [
        "."
       ]
      },
      {
       "output_type": "stream",
       "stream": "stderr",
       "text": [
        "."
       ]
      },
      {
       "output_type": "stream",
       "stream": "stderr",
       "text": [
        "."
       ]
      },
      {
       "output_type": "stream",
       "stream": "stderr",
       "text": [
        "."
       ]
      },
      {
       "output_type": "stream",
       "stream": "stderr",
       "text": [
        "."
       ]
      },
      {
       "output_type": "stream",
       "stream": "stderr",
       "text": [
        "."
       ]
      },
      {
       "output_type": "stream",
       "stream": "stderr",
       "text": [
        "."
       ]
      },
      {
       "output_type": "stream",
       "stream": "stderr",
       "text": [
        "."
       ]
      },
      {
       "output_type": "stream",
       "stream": "stderr",
       "text": [
        "."
       ]
      },
      {
       "output_type": "stream",
       "stream": "stderr",
       "text": [
        "."
       ]
      },
      {
       "output_type": "stream",
       "stream": "stderr",
       "text": [
        "."
       ]
      },
      {
       "output_type": "stream",
       "stream": "stderr",
       "text": [
        "."
       ]
      },
      {
       "output_type": "stream",
       "stream": "stderr",
       "text": [
        "."
       ]
      },
      {
       "output_type": "stream",
       "stream": "stderr",
       "text": [
        "."
       ]
      },
      {
       "output_type": "stream",
       "stream": "stderr",
       "text": [
        "."
       ]
      },
      {
       "output_type": "stream",
       "stream": "stderr",
       "text": [
        "."
       ]
      },
      {
       "output_type": "stream",
       "stream": "stderr",
       "text": [
        "."
       ]
      },
      {
       "output_type": "stream",
       "stream": "stderr",
       "text": [
        "."
       ]
      },
      {
       "output_type": "stream",
       "stream": "stderr",
       "text": [
        "."
       ]
      },
      {
       "output_type": "stream",
       "stream": "stderr",
       "text": [
        "."
       ]
      },
      {
       "output_type": "stream",
       "stream": "stderr",
       "text": [
        "."
       ]
      },
      {
       "output_type": "stream",
       "stream": "stderr",
       "text": [
        "."
       ]
      },
      {
       "output_type": "stream",
       "stream": "stderr",
       "text": [
        "."
       ]
      },
      {
       "output_type": "stream",
       "stream": "stderr",
       "text": [
        "."
       ]
      },
      {
       "output_type": "stream",
       "stream": "stderr",
       "text": [
        "."
       ]
      },
      {
       "output_type": "stream",
       "stream": "stderr",
       "text": [
        "."
       ]
      },
      {
       "output_type": "stream",
       "stream": "stderr",
       "text": [
        "."
       ]
      },
      {
       "output_type": "stream",
       "stream": "stderr",
       "text": [
        "."
       ]
      },
      {
       "output_type": "stream",
       "stream": "stderr",
       "text": [
        "."
       ]
      },
      {
       "output_type": "stream",
       "stream": "stderr",
       "text": [
        "."
       ]
      },
      {
       "output_type": "stream",
       "stream": "stderr",
       "text": [
        "."
       ]
      },
      {
       "output_type": "stream",
       "stream": "stderr",
       "text": [
        "."
       ]
      },
      {
       "output_type": "stream",
       "stream": "stderr",
       "text": [
        "."
       ]
      },
      {
       "output_type": "stream",
       "stream": "stderr",
       "text": [
        "."
       ]
      },
      {
       "output_type": "stream",
       "stream": "stderr",
       "text": [
        "."
       ]
      },
      {
       "output_type": "stream",
       "stream": "stderr",
       "text": [
        "."
       ]
      },
      {
       "output_type": "stream",
       "stream": "stderr",
       "text": [
        "."
       ]
      },
      {
       "output_type": "stream",
       "stream": "stderr",
       "text": [
        "."
       ]
      },
      {
       "output_type": "stream",
       "stream": "stderr",
       "text": [
        "."
       ]
      },
      {
       "output_type": "stream",
       "stream": "stderr",
       "text": [
        "."
       ]
      },
      {
       "output_type": "stream",
       "stream": "stderr",
       "text": [
        "."
       ]
      },
      {
       "output_type": "stream",
       "stream": "stderr",
       "text": [
        "."
       ]
      },
      {
       "output_type": "stream",
       "stream": "stderr",
       "text": [
        "."
       ]
      },
      {
       "output_type": "stream",
       "stream": "stderr",
       "text": [
        "."
       ]
      },
      {
       "output_type": "stream",
       "stream": "stderr",
       "text": [
        "."
       ]
      },
      {
       "output_type": "stream",
       "stream": "stderr",
       "text": [
        "."
       ]
      },
      {
       "output_type": "stream",
       "stream": "stderr",
       "text": [
        "."
       ]
      },
      {
       "output_type": "stream",
       "stream": "stderr",
       "text": [
        "."
       ]
      },
      {
       "output_type": "stream",
       "stream": "stderr",
       "text": [
        "."
       ]
      },
      {
       "output_type": "stream",
       "stream": "stderr",
       "text": [
        "."
       ]
      },
      {
       "output_type": "stream",
       "stream": "stderr",
       "text": [
        "."
       ]
      },
      {
       "output_type": "stream",
       "stream": "stderr",
       "text": [
        "."
       ]
      },
      {
       "output_type": "stream",
       "stream": "stderr",
       "text": [
        "."
       ]
      },
      {
       "output_type": "stream",
       "stream": "stderr",
       "text": [
        "."
       ]
      },
      {
       "output_type": "stream",
       "stream": "stderr",
       "text": [
        "."
       ]
      },
      {
       "output_type": "stream",
       "stream": "stderr",
       "text": [
        "."
       ]
      },
      {
       "output_type": "stream",
       "stream": "stderr",
       "text": [
        "."
       ]
      },
      {
       "output_type": "stream",
       "stream": "stderr",
       "text": [
        "."
       ]
      },
      {
       "output_type": "stream",
       "stream": "stderr",
       "text": [
        "."
       ]
      },
      {
       "output_type": "stream",
       "stream": "stderr",
       "text": [
        "."
       ]
      },
      {
       "output_type": "stream",
       "stream": "stderr",
       "text": [
        "."
       ]
      },
      {
       "output_type": "stream",
       "stream": "stderr",
       "text": [
        "."
       ]
      },
      {
       "output_type": "stream",
       "stream": "stderr",
       "text": [
        "."
       ]
      },
      {
       "output_type": "stream",
       "stream": "stderr",
       "text": [
        "."
       ]
      },
      {
       "output_type": "stream",
       "stream": "stderr",
       "text": [
        "."
       ]
      },
      {
       "output_type": "stream",
       "stream": "stderr",
       "text": [
        "."
       ]
      },
      {
       "output_type": "stream",
       "stream": "stderr",
       "text": [
        "."
       ]
      },
      {
       "output_type": "stream",
       "stream": "stderr",
       "text": [
        "."
       ]
      },
      {
       "output_type": "stream",
       "stream": "stderr",
       "text": [
        "."
       ]
      },
      {
       "output_type": "stream",
       "stream": "stderr",
       "text": [
        "."
       ]
      },
      {
       "output_type": "stream",
       "stream": "stderr",
       "text": [
        "."
       ]
      },
      {
       "output_type": "stream",
       "stream": "stderr",
       "text": [
        "."
       ]
      },
      {
       "output_type": "stream",
       "stream": "stderr",
       "text": [
        "."
       ]
      },
      {
       "output_type": "stream",
       "stream": "stderr",
       "text": [
        "."
       ]
      },
      {
       "output_type": "stream",
       "stream": "stderr",
       "text": [
        "."
       ]
      },
      {
       "output_type": "stream",
       "stream": "stderr",
       "text": [
        "."
       ]
      },
      {
       "output_type": "stream",
       "stream": "stderr",
       "text": [
        "."
       ]
      },
      {
       "output_type": "stream",
       "stream": "stderr",
       "text": [
        "."
       ]
      },
      {
       "output_type": "stream",
       "stream": "stderr",
       "text": [
        "."
       ]
      },
      {
       "output_type": "stream",
       "stream": "stderr",
       "text": [
        "."
       ]
      },
      {
       "output_type": "stream",
       "stream": "stderr",
       "text": [
        "."
       ]
      },
      {
       "output_type": "stream",
       "stream": "stderr",
       "text": [
        "."
       ]
      },
      {
       "output_type": "stream",
       "stream": "stderr",
       "text": [
        "."
       ]
      },
      {
       "output_type": "stream",
       "stream": "stderr",
       "text": [
        "."
       ]
      },
      {
       "output_type": "stream",
       "stream": "stderr",
       "text": [
        "."
       ]
      },
      {
       "output_type": "stream",
       "stream": "stderr",
       "text": [
        "."
       ]
      },
      {
       "output_type": "stream",
       "stream": "stderr",
       "text": [
        "."
       ]
      },
      {
       "output_type": "stream",
       "stream": "stderr",
       "text": [
        "."
       ]
      },
      {
       "output_type": "stream",
       "stream": "stderr",
       "text": [
        "."
       ]
      },
      {
       "output_type": "stream",
       "stream": "stderr",
       "text": [
        "."
       ]
      },
      {
       "output_type": "stream",
       "stream": "stderr",
       "text": [
        "."
       ]
      },
      {
       "output_type": "stream",
       "stream": "stderr",
       "text": [
        "."
       ]
      },
      {
       "output_type": "stream",
       "stream": "stderr",
       "text": [
        "."
       ]
      },
      {
       "output_type": "stream",
       "stream": "stderr",
       "text": [
        "."
       ]
      },
      {
       "output_type": "stream",
       "stream": "stderr",
       "text": [
        "."
       ]
      },
      {
       "output_type": "stream",
       "stream": "stderr",
       "text": [
        "."
       ]
      },
      {
       "output_type": "stream",
       "stream": "stderr",
       "text": [
        "."
       ]
      },
      {
       "output_type": "stream",
       "stream": "stderr",
       "text": [
        "."
       ]
      },
      {
       "output_type": "stream",
       "stream": "stderr",
       "text": [
        "."
       ]
      },
      {
       "output_type": "stream",
       "stream": "stderr",
       "text": [
        "."
       ]
      },
      {
       "output_type": "stream",
       "stream": "stderr",
       "text": [
        "."
       ]
      },
      {
       "output_type": "stream",
       "stream": "stderr",
       "text": [
        "."
       ]
      },
      {
       "output_type": "stream",
       "stream": "stderr",
       "text": [
        "."
       ]
      },
      {
       "output_type": "stream",
       "stream": "stderr",
       "text": [
        "."
       ]
      },
      {
       "output_type": "stream",
       "stream": "stderr",
       "text": [
        "."
       ]
      },
      {
       "output_type": "stream",
       "stream": "stderr",
       "text": [
        "."
       ]
      },
      {
       "output_type": "stream",
       "stream": "stderr",
       "text": [
        "."
       ]
      },
      {
       "output_type": "stream",
       "stream": "stderr",
       "text": [
        "."
       ]
      },
      {
       "output_type": "stream",
       "stream": "stderr",
       "text": [
        "."
       ]
      },
      {
       "output_type": "stream",
       "stream": "stderr",
       "text": [
        "."
       ]
      },
      {
       "output_type": "stream",
       "stream": "stderr",
       "text": [
        "."
       ]
      },
      {
       "output_type": "stream",
       "stream": "stderr",
       "text": [
        "."
       ]
      },
      {
       "output_type": "stream",
       "stream": "stderr",
       "text": [
        "."
       ]
      },
      {
       "output_type": "stream",
       "stream": "stderr",
       "text": [
        "."
       ]
      },
      {
       "output_type": "stream",
       "stream": "stderr",
       "text": [
        "."
       ]
      },
      {
       "output_type": "stream",
       "stream": "stderr",
       "text": [
        "."
       ]
      },
      {
       "output_type": "stream",
       "stream": "stderr",
       "text": [
        "."
       ]
      },
      {
       "output_type": "stream",
       "stream": "stderr",
       "text": [
        "."
       ]
      },
      {
       "output_type": "stream",
       "stream": "stderr",
       "text": [
        "."
       ]
      },
      {
       "output_type": "stream",
       "stream": "stderr",
       "text": [
        "."
       ]
      },
      {
       "output_type": "stream",
       "stream": "stderr",
       "text": [
        "."
       ]
      },
      {
       "output_type": "stream",
       "stream": "stderr",
       "text": [
        "."
       ]
      },
      {
       "output_type": "stream",
       "stream": "stderr",
       "text": [
        "."
       ]
      },
      {
       "output_type": "stream",
       "stream": "stderr",
       "text": [
        "."
       ]
      },
      {
       "output_type": "stream",
       "stream": "stderr",
       "text": [
        "."
       ]
      },
      {
       "output_type": "stream",
       "stream": "stderr",
       "text": [
        "."
       ]
      },
      {
       "output_type": "stream",
       "stream": "stderr",
       "text": [
        "."
       ]
      },
      {
       "output_type": "stream",
       "stream": "stderr",
       "text": [
        "."
       ]
      },
      {
       "output_type": "stream",
       "stream": "stderr",
       "text": [
        "."
       ]
      },
      {
       "output_type": "stream",
       "stream": "stderr",
       "text": [
        "."
       ]
      },
      {
       "output_type": "stream",
       "stream": "stderr",
       "text": [
        "."
       ]
      },
      {
       "output_type": "stream",
       "stream": "stderr",
       "text": [
        "."
       ]
      },
      {
       "output_type": "stream",
       "stream": "stderr",
       "text": [
        "."
       ]
      },
      {
       "output_type": "stream",
       "stream": "stderr",
       "text": [
        "."
       ]
      },
      {
       "output_type": "stream",
       "stream": "stderr",
       "text": [
        "."
       ]
      },
      {
       "output_type": "stream",
       "stream": "stderr",
       "text": [
        "."
       ]
      },
      {
       "output_type": "stream",
       "stream": "stderr",
       "text": [
        "."
       ]
      },
      {
       "output_type": "stream",
       "stream": "stderr",
       "text": [
        "."
       ]
      },
      {
       "output_type": "stream",
       "stream": "stderr",
       "text": [
        "."
       ]
      },
      {
       "output_type": "stream",
       "stream": "stderr",
       "text": [
        "."
       ]
      },
      {
       "output_type": "stream",
       "stream": "stderr",
       "text": [
        "."
       ]
      },
      {
       "output_type": "stream",
       "stream": "stderr",
       "text": [
        "."
       ]
      },
      {
       "output_type": "stream",
       "stream": "stderr",
       "text": [
        "."
       ]
      },
      {
       "output_type": "stream",
       "stream": "stderr",
       "text": [
        "."
       ]
      },
      {
       "output_type": "stream",
       "stream": "stderr",
       "text": [
        "."
       ]
      },
      {
       "output_type": "stream",
       "stream": "stderr",
       "text": [
        "."
       ]
      },
      {
       "output_type": "stream",
       "stream": "stderr",
       "text": [
        "."
       ]
      },
      {
       "output_type": "stream",
       "stream": "stderr",
       "text": [
        "."
       ]
      },
      {
       "output_type": "stream",
       "stream": "stderr",
       "text": [
        "."
       ]
      },
      {
       "output_type": "stream",
       "stream": "stderr",
       "text": [
        "."
       ]
      },
      {
       "output_type": "stream",
       "stream": "stderr",
       "text": [
        "."
       ]
      },
      {
       "output_type": "stream",
       "stream": "stderr",
       "text": [
        "."
       ]
      },
      {
       "output_type": "stream",
       "stream": "stderr",
       "text": [
        "."
       ]
      },
      {
       "output_type": "stream",
       "stream": "stderr",
       "text": [
        "."
       ]
      },
      {
       "output_type": "stream",
       "stream": "stderr",
       "text": [
        "."
       ]
      },
      {
       "output_type": "stream",
       "stream": "stderr",
       "text": [
        "."
       ]
      },
      {
       "output_type": "stream",
       "stream": "stderr",
       "text": [
        "."
       ]
      },
      {
       "output_type": "stream",
       "stream": "stderr",
       "text": [
        "."
       ]
      },
      {
       "output_type": "stream",
       "stream": "stderr",
       "text": [
        "."
       ]
      },
      {
       "output_type": "stream",
       "stream": "stderr",
       "text": [
        "."
       ]
      },
      {
       "output_type": "stream",
       "stream": "stderr",
       "text": [
        "."
       ]
      },
      {
       "output_type": "stream",
       "stream": "stderr",
       "text": [
        "."
       ]
      },
      {
       "output_type": "stream",
       "stream": "stderr",
       "text": [
        "."
       ]
      },
      {
       "output_type": "stream",
       "stream": "stderr",
       "text": [
        "."
       ]
      },
      {
       "output_type": "stream",
       "stream": "stderr",
       "text": [
        "."
       ]
      },
      {
       "output_type": "stream",
       "stream": "stderr",
       "text": [
        "."
       ]
      },
      {
       "output_type": "stream",
       "stream": "stderr",
       "text": [
        "."
       ]
      },
      {
       "output_type": "stream",
       "stream": "stderr",
       "text": [
        "."
       ]
      },
      {
       "output_type": "stream",
       "stream": "stderr",
       "text": [
        "."
       ]
      },
      {
       "output_type": "stream",
       "stream": "stderr",
       "text": [
        "."
       ]
      },
      {
       "output_type": "stream",
       "stream": "stderr",
       "text": [
        "."
       ]
      },
      {
       "output_type": "stream",
       "stream": "stderr",
       "text": [
        "."
       ]
      },
      {
       "output_type": "stream",
       "stream": "stderr",
       "text": [
        "."
       ]
      },
      {
       "output_type": "stream",
       "stream": "stderr",
       "text": [
        "."
       ]
      },
      {
       "output_type": "stream",
       "stream": "stderr",
       "text": [
        "."
       ]
      },
      {
       "output_type": "stream",
       "stream": "stderr",
       "text": [
        "."
       ]
      },
      {
       "output_type": "stream",
       "stream": "stderr",
       "text": [
        "."
       ]
      },
      {
       "output_type": "stream",
       "stream": "stderr",
       "text": [
        "."
       ]
      },
      {
       "output_type": "stream",
       "stream": "stderr",
       "text": [
        "."
       ]
      },
      {
       "output_type": "stream",
       "stream": "stderr",
       "text": [
        "."
       ]
      },
      {
       "output_type": "stream",
       "stream": "stderr",
       "text": [
        "."
       ]
      },
      {
       "output_type": "stream",
       "stream": "stderr",
       "text": [
        "."
       ]
      },
      {
       "output_type": "stream",
       "stream": "stderr",
       "text": [
        "."
       ]
      },
      {
       "output_type": "stream",
       "stream": "stderr",
       "text": [
        "."
       ]
      },
      {
       "output_type": "stream",
       "stream": "stderr",
       "text": [
        "."
       ]
      },
      {
       "output_type": "stream",
       "stream": "stderr",
       "text": [
        "."
       ]
      },
      {
       "output_type": "stream",
       "stream": "stderr",
       "text": [
        "."
       ]
      },
      {
       "output_type": "stream",
       "stream": "stderr",
       "text": [
        "."
       ]
      },
      {
       "output_type": "stream",
       "stream": "stderr",
       "text": [
        "."
       ]
      },
      {
       "output_type": "stream",
       "stream": "stderr",
       "text": [
        "."
       ]
      },
      {
       "output_type": "stream",
       "stream": "stderr",
       "text": [
        "."
       ]
      },
      {
       "output_type": "stream",
       "stream": "stderr",
       "text": [
        "."
       ]
      },
      {
       "output_type": "stream",
       "stream": "stderr",
       "text": [
        "."
       ]
      },
      {
       "output_type": "stream",
       "stream": "stderr",
       "text": [
        "."
       ]
      },
      {
       "output_type": "stream",
       "stream": "stderr",
       "text": [
        "."
       ]
      },
      {
       "output_type": "stream",
       "stream": "stderr",
       "text": [
        "."
       ]
      },
      {
       "output_type": "stream",
       "stream": "stderr",
       "text": [
        "."
       ]
      },
      {
       "output_type": "stream",
       "stream": "stderr",
       "text": [
        "."
       ]
      },
      {
       "output_type": "stream",
       "stream": "stderr",
       "text": [
        "."
       ]
      },
      {
       "output_type": "stream",
       "stream": "stderr",
       "text": [
        "."
       ]
      },
      {
       "output_type": "stream",
       "stream": "stderr",
       "text": [
        "."
       ]
      },
      {
       "output_type": "stream",
       "stream": "stderr",
       "text": [
        "."
       ]
      },
      {
       "output_type": "stream",
       "stream": "stderr",
       "text": [
        "."
       ]
      },
      {
       "output_type": "stream",
       "stream": "stderr",
       "text": [
        "."
       ]
      },
      {
       "output_type": "stream",
       "stream": "stderr",
       "text": [
        "."
       ]
      },
      {
       "output_type": "stream",
       "stream": "stderr",
       "text": [
        "."
       ]
      },
      {
       "output_type": "stream",
       "stream": "stderr",
       "text": [
        "."
       ]
      },
      {
       "output_type": "stream",
       "stream": "stderr",
       "text": [
        "."
       ]
      },
      {
       "output_type": "stream",
       "stream": "stderr",
       "text": [
        "."
       ]
      },
      {
       "output_type": "stream",
       "stream": "stderr",
       "text": [
        "."
       ]
      },
      {
       "output_type": "stream",
       "stream": "stderr",
       "text": [
        "."
       ]
      },
      {
       "output_type": "stream",
       "stream": "stderr",
       "text": [
        "."
       ]
      },
      {
       "output_type": "stream",
       "stream": "stderr",
       "text": [
        "."
       ]
      },
      {
       "output_type": "stream",
       "stream": "stderr",
       "text": [
        "."
       ]
      },
      {
       "output_type": "stream",
       "stream": "stderr",
       "text": [
        "."
       ]
      },
      {
       "output_type": "stream",
       "stream": "stderr",
       "text": [
        "."
       ]
      },
      {
       "output_type": "stream",
       "stream": "stderr",
       "text": [
        "."
       ]
      },
      {
       "output_type": "stream",
       "stream": "stderr",
       "text": [
        "."
       ]
      },
      {
       "output_type": "stream",
       "stream": "stderr",
       "text": [
        "."
       ]
      },
      {
       "output_type": "stream",
       "stream": "stderr",
       "text": [
        "."
       ]
      },
      {
       "output_type": "stream",
       "stream": "stderr",
       "text": [
        "."
       ]
      },
      {
       "output_type": "stream",
       "stream": "stderr",
       "text": [
        "."
       ]
      },
      {
       "output_type": "stream",
       "stream": "stderr",
       "text": [
        "."
       ]
      },
      {
       "output_type": "stream",
       "stream": "stderr",
       "text": [
        "."
       ]
      },
      {
       "output_type": "stream",
       "stream": "stderr",
       "text": [
        "."
       ]
      },
      {
       "output_type": "stream",
       "stream": "stderr",
       "text": [
        "."
       ]
      },
      {
       "output_type": "stream",
       "stream": "stderr",
       "text": [
        "."
       ]
      },
      {
       "output_type": "stream",
       "stream": "stderr",
       "text": [
        "."
       ]
      },
      {
       "output_type": "stream",
       "stream": "stderr",
       "text": [
        "."
       ]
      },
      {
       "output_type": "stream",
       "stream": "stderr",
       "text": [
        "."
       ]
      },
      {
       "output_type": "stream",
       "stream": "stderr",
       "text": [
        "."
       ]
      },
      {
       "output_type": "stream",
       "stream": "stderr",
       "text": [
        "."
       ]
      },
      {
       "output_type": "stream",
       "stream": "stderr",
       "text": [
        "."
       ]
      },
      {
       "output_type": "stream",
       "stream": "stderr",
       "text": [
        "."
       ]
      },
      {
       "output_type": "stream",
       "stream": "stderr",
       "text": [
        "."
       ]
      },
      {
       "output_type": "stream",
       "stream": "stderr",
       "text": [
        "."
       ]
      },
      {
       "output_type": "stream",
       "stream": "stderr",
       "text": [
        "."
       ]
      },
      {
       "output_type": "stream",
       "stream": "stderr",
       "text": [
        "."
       ]
      },
      {
       "output_type": "stream",
       "stream": "stderr",
       "text": [
        "."
       ]
      },
      {
       "output_type": "stream",
       "stream": "stderr",
       "text": [
        "."
       ]
      },
      {
       "output_type": "stream",
       "stream": "stderr",
       "text": [
        "."
       ]
      },
      {
       "output_type": "stream",
       "stream": "stderr",
       "text": [
        "."
       ]
      },
      {
       "output_type": "stream",
       "stream": "stderr",
       "text": [
        "."
       ]
      },
      {
       "output_type": "stream",
       "stream": "stderr",
       "text": [
        "."
       ]
      },
      {
       "output_type": "stream",
       "stream": "stderr",
       "text": [
        "."
       ]
      },
      {
       "output_type": "stream",
       "stream": "stderr",
       "text": [
        "."
       ]
      },
      {
       "output_type": "stream",
       "stream": "stderr",
       "text": [
        "."
       ]
      },
      {
       "output_type": "stream",
       "stream": "stderr",
       "text": [
        "."
       ]
      },
      {
       "output_type": "stream",
       "stream": "stderr",
       "text": [
        "."
       ]
      },
      {
       "output_type": "stream",
       "stream": "stderr",
       "text": [
        "."
       ]
      },
      {
       "output_type": "stream",
       "stream": "stderr",
       "text": [
        "."
       ]
      },
      {
       "output_type": "stream",
       "stream": "stderr",
       "text": [
        "."
       ]
      },
      {
       "output_type": "stream",
       "stream": "stderr",
       "text": [
        "."
       ]
      },
      {
       "output_type": "stream",
       "stream": "stderr",
       "text": [
        "."
       ]
      },
      {
       "output_type": "stream",
       "stream": "stderr",
       "text": [
        "."
       ]
      },
      {
       "output_type": "stream",
       "stream": "stderr",
       "text": [
        "."
       ]
      },
      {
       "output_type": "stream",
       "stream": "stderr",
       "text": [
        "."
       ]
      },
      {
       "output_type": "stream",
       "stream": "stderr",
       "text": [
        "."
       ]
      },
      {
       "output_type": "stream",
       "stream": "stderr",
       "text": [
        "."
       ]
      },
      {
       "output_type": "stream",
       "stream": "stderr",
       "text": [
        "."
       ]
      },
      {
       "output_type": "stream",
       "stream": "stderr",
       "text": [
        "."
       ]
      },
      {
       "output_type": "stream",
       "stream": "stderr",
       "text": [
        "."
       ]
      },
      {
       "output_type": "stream",
       "stream": "stderr",
       "text": [
        "."
       ]
      },
      {
       "output_type": "stream",
       "stream": "stderr",
       "text": [
        "."
       ]
      },
      {
       "output_type": "stream",
       "stream": "stderr",
       "text": [
        "."
       ]
      },
      {
       "output_type": "stream",
       "stream": "stderr",
       "text": [
        "."
       ]
      },
      {
       "output_type": "stream",
       "stream": "stderr",
       "text": [
        "."
       ]
      },
      {
       "output_type": "stream",
       "stream": "stderr",
       "text": [
        "."
       ]
      },
      {
       "output_type": "stream",
       "stream": "stderr",
       "text": [
        "."
       ]
      },
      {
       "output_type": "stream",
       "stream": "stderr",
       "text": [
        "."
       ]
      },
      {
       "output_type": "stream",
       "stream": "stderr",
       "text": [
        "."
       ]
      },
      {
       "output_type": "stream",
       "stream": "stderr",
       "text": [
        "."
       ]
      },
      {
       "output_type": "stream",
       "stream": "stderr",
       "text": [
        "."
       ]
      },
      {
       "output_type": "stream",
       "stream": "stderr",
       "text": [
        "."
       ]
      },
      {
       "output_type": "stream",
       "stream": "stderr",
       "text": [
        "."
       ]
      },
      {
       "output_type": "stream",
       "stream": "stderr",
       "text": [
        "."
       ]
      },
      {
       "output_type": "stream",
       "stream": "stderr",
       "text": [
        "."
       ]
      },
      {
       "output_type": "stream",
       "stream": "stderr",
       "text": [
        "."
       ]
      },
      {
       "output_type": "stream",
       "stream": "stderr",
       "text": [
        "."
       ]
      },
      {
       "output_type": "stream",
       "stream": "stderr",
       "text": [
        "."
       ]
      },
      {
       "output_type": "stream",
       "stream": "stderr",
       "text": [
        "."
       ]
      },
      {
       "output_type": "stream",
       "stream": "stderr",
       "text": [
        "."
       ]
      },
      {
       "output_type": "stream",
       "stream": "stderr",
       "text": [
        "."
       ]
      },
      {
       "output_type": "stream",
       "stream": "stderr",
       "text": [
        "."
       ]
      },
      {
       "output_type": "stream",
       "stream": "stderr",
       "text": [
        "."
       ]
      },
      {
       "output_type": "stream",
       "stream": "stderr",
       "text": [
        "."
       ]
      },
      {
       "output_type": "stream",
       "stream": "stderr",
       "text": [
        "."
       ]
      },
      {
       "output_type": "stream",
       "stream": "stderr",
       "text": [
        "."
       ]
      },
      {
       "output_type": "stream",
       "stream": "stderr",
       "text": [
        "."
       ]
      },
      {
       "output_type": "stream",
       "stream": "stderr",
       "text": [
        "."
       ]
      },
      {
       "output_type": "stream",
       "stream": "stderr",
       "text": [
        "."
       ]
      },
      {
       "output_type": "stream",
       "stream": "stderr",
       "text": [
        "."
       ]
      },
      {
       "output_type": "stream",
       "stream": "stderr",
       "text": [
        "."
       ]
      },
      {
       "output_type": "stream",
       "stream": "stderr",
       "text": [
        "."
       ]
      },
      {
       "output_type": "stream",
       "stream": "stderr",
       "text": [
        "."
       ]
      },
      {
       "output_type": "stream",
       "stream": "stderr",
       "text": [
        "."
       ]
      },
      {
       "output_type": "stream",
       "stream": "stderr",
       "text": [
        "."
       ]
      },
      {
       "output_type": "stream",
       "stream": "stderr",
       "text": [
        "."
       ]
      },
      {
       "output_type": "stream",
       "stream": "stderr",
       "text": [
        "."
       ]
      },
      {
       "output_type": "stream",
       "stream": "stderr",
       "text": [
        "."
       ]
      },
      {
       "output_type": "stream",
       "stream": "stderr",
       "text": [
        "."
       ]
      },
      {
       "output_type": "stream",
       "stream": "stderr",
       "text": [
        "."
       ]
      },
      {
       "output_type": "stream",
       "stream": "stderr",
       "text": [
        "."
       ]
      },
      {
       "output_type": "stream",
       "stream": "stderr",
       "text": [
        "."
       ]
      },
      {
       "output_type": "stream",
       "stream": "stderr",
       "text": [
        "."
       ]
      },
      {
       "output_type": "stream",
       "stream": "stderr",
       "text": [
        "."
       ]
      },
      {
       "output_type": "stream",
       "stream": "stderr",
       "text": [
        "."
       ]
      },
      {
       "output_type": "stream",
       "stream": "stderr",
       "text": [
        "."
       ]
      },
      {
       "output_type": "stream",
       "stream": "stderr",
       "text": [
        "."
       ]
      },
      {
       "output_type": "stream",
       "stream": "stderr",
       "text": [
        "."
       ]
      },
      {
       "output_type": "stream",
       "stream": "stderr",
       "text": [
        "."
       ]
      },
      {
       "output_type": "stream",
       "stream": "stderr",
       "text": [
        "."
       ]
      },
      {
       "output_type": "stream",
       "stream": "stderr",
       "text": [
        "."
       ]
      },
      {
       "output_type": "stream",
       "stream": "stderr",
       "text": [
        "."
       ]
      },
      {
       "output_type": "stream",
       "stream": "stderr",
       "text": [
        "."
       ]
      },
      {
       "output_type": "stream",
       "stream": "stderr",
       "text": [
        "."
       ]
      },
      {
       "output_type": "stream",
       "stream": "stderr",
       "text": [
        "."
       ]
      },
      {
       "output_type": "stream",
       "stream": "stderr",
       "text": [
        "."
       ]
      },
      {
       "output_type": "stream",
       "stream": "stderr",
       "text": [
        "."
       ]
      },
      {
       "output_type": "stream",
       "stream": "stderr",
       "text": [
        "."
       ]
      },
      {
       "output_type": "stream",
       "stream": "stderr",
       "text": [
        "."
       ]
      },
      {
       "output_type": "stream",
       "stream": "stderr",
       "text": [
        "."
       ]
      },
      {
       "output_type": "stream",
       "stream": "stderr",
       "text": [
        "."
       ]
      },
      {
       "output_type": "stream",
       "stream": "stderr",
       "text": [
        "."
       ]
      },
      {
       "output_type": "stream",
       "stream": "stderr",
       "text": [
        "."
       ]
      },
      {
       "output_type": "stream",
       "stream": "stderr",
       "text": [
        "."
       ]
      },
      {
       "output_type": "stream",
       "stream": "stderr",
       "text": [
        "."
       ]
      },
      {
       "output_type": "stream",
       "stream": "stderr",
       "text": [
        "."
       ]
      },
      {
       "output_type": "stream",
       "stream": "stderr",
       "text": [
        "."
       ]
      },
      {
       "output_type": "stream",
       "stream": "stderr",
       "text": [
        "."
       ]
      },
      {
       "output_type": "stream",
       "stream": "stderr",
       "text": [
        "."
       ]
      },
      {
       "output_type": "stream",
       "stream": "stderr",
       "text": [
        "."
       ]
      },
      {
       "output_type": "stream",
       "stream": "stderr",
       "text": [
        "."
       ]
      },
      {
       "output_type": "stream",
       "stream": "stderr",
       "text": [
        "."
       ]
      },
      {
       "output_type": "stream",
       "stream": "stderr",
       "text": [
        "."
       ]
      },
      {
       "output_type": "stream",
       "stream": "stderr",
       "text": [
        "."
       ]
      },
      {
       "output_type": "stream",
       "stream": "stderr",
       "text": [
        "."
       ]
      },
      {
       "output_type": "stream",
       "stream": "stderr",
       "text": [
        "."
       ]
      },
      {
       "output_type": "stream",
       "stream": "stderr",
       "text": [
        "."
       ]
      },
      {
       "output_type": "stream",
       "stream": "stderr",
       "text": [
        "."
       ]
      },
      {
       "output_type": "stream",
       "stream": "stderr",
       "text": [
        "."
       ]
      },
      {
       "output_type": "stream",
       "stream": "stderr",
       "text": [
        "."
       ]
      },
      {
       "output_type": "stream",
       "stream": "stderr",
       "text": [
        "."
       ]
      },
      {
       "output_type": "stream",
       "stream": "stderr",
       "text": [
        "."
       ]
      },
      {
       "output_type": "stream",
       "stream": "stderr",
       "text": [
        "."
       ]
      },
      {
       "output_type": "stream",
       "stream": "stderr",
       "text": [
        "."
       ]
      },
      {
       "output_type": "stream",
       "stream": "stderr",
       "text": [
        "."
       ]
      },
      {
       "output_type": "stream",
       "stream": "stderr",
       "text": [
        "."
       ]
      },
      {
       "output_type": "stream",
       "stream": "stderr",
       "text": [
        "."
       ]
      },
      {
       "output_type": "stream",
       "stream": "stderr",
       "text": [
        "."
       ]
      },
      {
       "output_type": "stream",
       "stream": "stderr",
       "text": [
        "."
       ]
      },
      {
       "output_type": "stream",
       "stream": "stderr",
       "text": [
        "."
       ]
      },
      {
       "output_type": "stream",
       "stream": "stderr",
       "text": [
        "."
       ]
      },
      {
       "output_type": "stream",
       "stream": "stderr",
       "text": [
        "."
       ]
      },
      {
       "output_type": "stream",
       "stream": "stderr",
       "text": [
        "."
       ]
      },
      {
       "output_type": "stream",
       "stream": "stderr",
       "text": [
        "."
       ]
      },
      {
       "output_type": "stream",
       "stream": "stderr",
       "text": [
        "."
       ]
      },
      {
       "output_type": "stream",
       "stream": "stderr",
       "text": [
        "."
       ]
      },
      {
       "output_type": "stream",
       "stream": "stderr",
       "text": [
        "."
       ]
      },
      {
       "output_type": "stream",
       "stream": "stderr",
       "text": [
        "."
       ]
      },
      {
       "output_type": "stream",
       "stream": "stderr",
       "text": [
        "."
       ]
      },
      {
       "output_type": "stream",
       "stream": "stderr",
       "text": [
        "."
       ]
      },
      {
       "output_type": "stream",
       "stream": "stderr",
       "text": [
        "."
       ]
      },
      {
       "output_type": "stream",
       "stream": "stderr",
       "text": [
        "."
       ]
      },
      {
       "output_type": "stream",
       "stream": "stderr",
       "text": [
        "."
       ]
      },
      {
       "output_type": "stream",
       "stream": "stderr",
       "text": [
        "."
       ]
      },
      {
       "output_type": "stream",
       "stream": "stderr",
       "text": [
        "."
       ]
      },
      {
       "output_type": "stream",
       "stream": "stderr",
       "text": [
        "."
       ]
      },
      {
       "output_type": "stream",
       "stream": "stderr",
       "text": [
        "."
       ]
      },
      {
       "output_type": "stream",
       "stream": "stderr",
       "text": [
        "."
       ]
      },
      {
       "output_type": "stream",
       "stream": "stderr",
       "text": [
        "."
       ]
      },
      {
       "output_type": "stream",
       "stream": "stderr",
       "text": [
        "."
       ]
      },
      {
       "output_type": "stream",
       "stream": "stderr",
       "text": [
        "."
       ]
      },
      {
       "output_type": "stream",
       "stream": "stderr",
       "text": [
        "."
       ]
      },
      {
       "output_type": "stream",
       "stream": "stderr",
       "text": [
        "."
       ]
      },
      {
       "output_type": "stream",
       "stream": "stderr",
       "text": [
        "."
       ]
      },
      {
       "output_type": "stream",
       "stream": "stderr",
       "text": [
        "."
       ]
      },
      {
       "output_type": "stream",
       "stream": "stderr",
       "text": [
        "."
       ]
      },
      {
       "output_type": "stream",
       "stream": "stderr",
       "text": [
        "."
       ]
      },
      {
       "output_type": "stream",
       "stream": "stderr",
       "text": [
        "."
       ]
      },
      {
       "output_type": "stream",
       "stream": "stderr",
       "text": [
        "."
       ]
      },
      {
       "output_type": "stream",
       "stream": "stderr",
       "text": [
        "."
       ]
      },
      {
       "output_type": "stream",
       "stream": "stderr",
       "text": [
        "."
       ]
      },
      {
       "output_type": "stream",
       "stream": "stderr",
       "text": [
        "."
       ]
      },
      {
       "output_type": "stream",
       "stream": "stderr",
       "text": [
        "."
       ]
      },
      {
       "output_type": "stream",
       "stream": "stderr",
       "text": [
        "."
       ]
      },
      {
       "output_type": "stream",
       "stream": "stderr",
       "text": [
        "."
       ]
      },
      {
       "output_type": "stream",
       "stream": "stderr",
       "text": [
        "."
       ]
      },
      {
       "output_type": "stream",
       "stream": "stderr",
       "text": [
        "."
       ]
      },
      {
       "output_type": "stream",
       "stream": "stderr",
       "text": [
        "."
       ]
      },
      {
       "output_type": "stream",
       "stream": "stderr",
       "text": [
        "."
       ]
      },
      {
       "output_type": "stream",
       "stream": "stderr",
       "text": [
        "."
       ]
      },
      {
       "output_type": "stream",
       "stream": "stderr",
       "text": [
        "."
       ]
      },
      {
       "output_type": "stream",
       "stream": "stderr",
       "text": [
        "."
       ]
      },
      {
       "output_type": "stream",
       "stream": "stderr",
       "text": [
        "."
       ]
      },
      {
       "output_type": "stream",
       "stream": "stderr",
       "text": [
        "."
       ]
      },
      {
       "output_type": "stream",
       "stream": "stderr",
       "text": [
        "."
       ]
      },
      {
       "output_type": "stream",
       "stream": "stderr",
       "text": [
        "."
       ]
      },
      {
       "output_type": "stream",
       "stream": "stderr",
       "text": [
        "."
       ]
      },
      {
       "output_type": "stream",
       "stream": "stderr",
       "text": [
        "."
       ]
      },
      {
       "output_type": "stream",
       "stream": "stderr",
       "text": [
        "."
       ]
      },
      {
       "output_type": "stream",
       "stream": "stderr",
       "text": [
        "."
       ]
      },
      {
       "output_type": "stream",
       "stream": "stderr",
       "text": [
        "."
       ]
      },
      {
       "output_type": "stream",
       "stream": "stderr",
       "text": [
        "."
       ]
      },
      {
       "output_type": "stream",
       "stream": "stderr",
       "text": [
        "."
       ]
      },
      {
       "output_type": "stream",
       "stream": "stderr",
       "text": [
        "."
       ]
      },
      {
       "output_type": "stream",
       "stream": "stderr",
       "text": [
        "."
       ]
      },
      {
       "output_type": "stream",
       "stream": "stderr",
       "text": [
        "."
       ]
      },
      {
       "output_type": "stream",
       "stream": "stderr",
       "text": [
        "."
       ]
      },
      {
       "output_type": "stream",
       "stream": "stderr",
       "text": [
        "."
       ]
      },
      {
       "output_type": "stream",
       "stream": "stderr",
       "text": [
        "."
       ]
      },
      {
       "output_type": "stream",
       "stream": "stderr",
       "text": [
        "."
       ]
      },
      {
       "output_type": "stream",
       "stream": "stderr",
       "text": [
        "."
       ]
      },
      {
       "output_type": "stream",
       "stream": "stderr",
       "text": [
        "."
       ]
      },
      {
       "output_type": "stream",
       "stream": "stderr",
       "text": [
        "."
       ]
      },
      {
       "output_type": "stream",
       "stream": "stderr",
       "text": [
        "."
       ]
      },
      {
       "output_type": "stream",
       "stream": "stderr",
       "text": [
        "."
       ]
      },
      {
       "output_type": "stream",
       "stream": "stderr",
       "text": [
        "."
       ]
      },
      {
       "output_type": "stream",
       "stream": "stderr",
       "text": [
        "."
       ]
      },
      {
       "output_type": "stream",
       "stream": "stderr",
       "text": [
        "."
       ]
      },
      {
       "output_type": "stream",
       "stream": "stderr",
       "text": [
        "."
       ]
      },
      {
       "output_type": "stream",
       "stream": "stderr",
       "text": [
        "."
       ]
      },
      {
       "output_type": "stream",
       "stream": "stderr",
       "text": [
        "."
       ]
      },
      {
       "output_type": "stream",
       "stream": "stderr",
       "text": [
        "."
       ]
      },
      {
       "output_type": "stream",
       "stream": "stderr",
       "text": [
        "."
       ]
      },
      {
       "output_type": "stream",
       "stream": "stderr",
       "text": [
        "."
       ]
      },
      {
       "output_type": "stream",
       "stream": "stderr",
       "text": [
        "."
       ]
      },
      {
       "output_type": "stream",
       "stream": "stderr",
       "text": [
        "."
       ]
      },
      {
       "output_type": "stream",
       "stream": "stderr",
       "text": [
        "."
       ]
      },
      {
       "output_type": "stream",
       "stream": "stderr",
       "text": [
        "."
       ]
      },
      {
       "output_type": "stream",
       "stream": "stderr",
       "text": [
        "."
       ]
      },
      {
       "output_type": "stream",
       "stream": "stderr",
       "text": [
        "."
       ]
      },
      {
       "output_type": "stream",
       "stream": "stderr",
       "text": [
        "."
       ]
      },
      {
       "output_type": "stream",
       "stream": "stderr",
       "text": [
        "."
       ]
      },
      {
       "output_type": "stream",
       "stream": "stderr",
       "text": [
        "."
       ]
      },
      {
       "output_type": "stream",
       "stream": "stderr",
       "text": [
        "."
       ]
      },
      {
       "output_type": "stream",
       "stream": "stderr",
       "text": [
        "."
       ]
      },
      {
       "output_type": "stream",
       "stream": "stderr",
       "text": [
        "."
       ]
      },
      {
       "output_type": "stream",
       "stream": "stderr",
       "text": [
        "."
       ]
      },
      {
       "output_type": "stream",
       "stream": "stderr",
       "text": [
        "."
       ]
      },
      {
       "output_type": "stream",
       "stream": "stderr",
       "text": [
        "."
       ]
      },
      {
       "output_type": "stream",
       "stream": "stderr",
       "text": [
        "."
       ]
      },
      {
       "output_type": "stream",
       "stream": "stderr",
       "text": [
        "."
       ]
      },
      {
       "output_type": "stream",
       "stream": "stderr",
       "text": [
        "."
       ]
      },
      {
       "output_type": "stream",
       "stream": "stderr",
       "text": [
        "."
       ]
      },
      {
       "output_type": "stream",
       "stream": "stderr",
       "text": [
        "."
       ]
      },
      {
       "output_type": "stream",
       "stream": "stderr",
       "text": [
        "."
       ]
      },
      {
       "output_type": "stream",
       "stream": "stderr",
       "text": [
        "."
       ]
      },
      {
       "output_type": "stream",
       "stream": "stderr",
       "text": [
        "."
       ]
      },
      {
       "output_type": "stream",
       "stream": "stderr",
       "text": [
        "."
       ]
      },
      {
       "output_type": "stream",
       "stream": "stderr",
       "text": [
        "."
       ]
      },
      {
       "output_type": "stream",
       "stream": "stderr",
       "text": [
        "."
       ]
      },
      {
       "output_type": "stream",
       "stream": "stderr",
       "text": [
        "."
       ]
      },
      {
       "output_type": "stream",
       "stream": "stderr",
       "text": [
        "."
       ]
      },
      {
       "output_type": "stream",
       "stream": "stderr",
       "text": [
        "."
       ]
      },
      {
       "output_type": "stream",
       "stream": "stderr",
       "text": [
        "."
       ]
      },
      {
       "output_type": "stream",
       "stream": "stderr",
       "text": [
        "."
       ]
      },
      {
       "output_type": "stream",
       "stream": "stderr",
       "text": [
        "."
       ]
      },
      {
       "output_type": "stream",
       "stream": "stderr",
       "text": [
        "."
       ]
      },
      {
       "output_type": "stream",
       "stream": "stderr",
       "text": [
        "."
       ]
      },
      {
       "output_type": "stream",
       "stream": "stderr",
       "text": [
        "."
       ]
      },
      {
       "output_type": "stream",
       "stream": "stderr",
       "text": [
        "."
       ]
      },
      {
       "output_type": "stream",
       "stream": "stderr",
       "text": [
        "."
       ]
      },
      {
       "output_type": "stream",
       "stream": "stderr",
       "text": [
        "."
       ]
      },
      {
       "output_type": "stream",
       "stream": "stderr",
       "text": [
        "."
       ]
      },
      {
       "output_type": "stream",
       "stream": "stderr",
       "text": [
        "."
       ]
      },
      {
       "output_type": "stream",
       "stream": "stderr",
       "text": [
        "."
       ]
      },
      {
       "output_type": "stream",
       "stream": "stderr",
       "text": [
        "."
       ]
      },
      {
       "output_type": "stream",
       "stream": "stderr",
       "text": [
        "."
       ]
      },
      {
       "output_type": "stream",
       "stream": "stderr",
       "text": [
        "."
       ]
      },
      {
       "output_type": "stream",
       "stream": "stderr",
       "text": [
        "."
       ]
      },
      {
       "output_type": "stream",
       "stream": "stderr",
       "text": [
        "."
       ]
      },
      {
       "output_type": "stream",
       "stream": "stderr",
       "text": [
        "."
       ]
      },
      {
       "output_type": "stream",
       "stream": "stderr",
       "text": [
        "."
       ]
      },
      {
       "output_type": "stream",
       "stream": "stderr",
       "text": [
        "."
       ]
      },
      {
       "output_type": "stream",
       "stream": "stderr",
       "text": [
        "."
       ]
      },
      {
       "output_type": "stream",
       "stream": "stderr",
       "text": [
        "."
       ]
      },
      {
       "output_type": "stream",
       "stream": "stderr",
       "text": [
        "."
       ]
      },
      {
       "output_type": "stream",
       "stream": "stderr",
       "text": [
        "."
       ]
      },
      {
       "output_type": "stream",
       "stream": "stderr",
       "text": [
        "."
       ]
      },
      {
       "output_type": "stream",
       "stream": "stderr",
       "text": [
        "."
       ]
      },
      {
       "output_type": "stream",
       "stream": "stderr",
       "text": [
        "."
       ]
      },
      {
       "output_type": "stream",
       "stream": "stderr",
       "text": [
        "."
       ]
      },
      {
       "output_type": "stream",
       "stream": "stderr",
       "text": [
        "."
       ]
      },
      {
       "output_type": "stream",
       "stream": "stderr",
       "text": [
        "."
       ]
      },
      {
       "output_type": "stream",
       "stream": "stderr",
       "text": [
        "."
       ]
      },
      {
       "output_type": "stream",
       "stream": "stderr",
       "text": [
        "."
       ]
      },
      {
       "output_type": "stream",
       "stream": "stderr",
       "text": [
        "."
       ]
      },
      {
       "output_type": "stream",
       "stream": "stderr",
       "text": [
        "."
       ]
      },
      {
       "output_type": "stream",
       "stream": "stderr",
       "text": [
        "."
       ]
      },
      {
       "output_type": "stream",
       "stream": "stderr",
       "text": [
        "."
       ]
      },
      {
       "output_type": "stream",
       "stream": "stderr",
       "text": [
        "."
       ]
      },
      {
       "output_type": "stream",
       "stream": "stderr",
       "text": [
        "."
       ]
      },
      {
       "output_type": "stream",
       "stream": "stderr",
       "text": [
        "."
       ]
      },
      {
       "output_type": "stream",
       "stream": "stderr",
       "text": [
        "."
       ]
      },
      {
       "output_type": "stream",
       "stream": "stderr",
       "text": [
        "."
       ]
      },
      {
       "output_type": "stream",
       "stream": "stderr",
       "text": [
        "."
       ]
      },
      {
       "output_type": "stream",
       "stream": "stderr",
       "text": [
        "."
       ]
      },
      {
       "output_type": "stream",
       "stream": "stderr",
       "text": [
        "."
       ]
      },
      {
       "output_type": "stream",
       "stream": "stderr",
       "text": [
        "."
       ]
      },
      {
       "output_type": "stream",
       "stream": "stderr",
       "text": [
        "."
       ]
      },
      {
       "output_type": "stream",
       "stream": "stderr",
       "text": [
        "."
       ]
      },
      {
       "output_type": "stream",
       "stream": "stderr",
       "text": [
        "."
       ]
      },
      {
       "output_type": "stream",
       "stream": "stderr",
       "text": [
        "."
       ]
      },
      {
       "output_type": "stream",
       "stream": "stderr",
       "text": [
        "."
       ]
      },
      {
       "output_type": "stream",
       "stream": "stderr",
       "text": [
        "."
       ]
      },
      {
       "output_type": "stream",
       "stream": "stderr",
       "text": [
        "."
       ]
      },
      {
       "output_type": "stream",
       "stream": "stderr",
       "text": [
        "."
       ]
      },
      {
       "output_type": "stream",
       "stream": "stderr",
       "text": [
        "."
       ]
      },
      {
       "output_type": "stream",
       "stream": "stderr",
       "text": [
        "."
       ]
      },
      {
       "output_type": "stream",
       "stream": "stderr",
       "text": [
        "."
       ]
      },
      {
       "output_type": "stream",
       "stream": "stderr",
       "text": [
        "."
       ]
      },
      {
       "output_type": "stream",
       "stream": "stderr",
       "text": [
        "."
       ]
      },
      {
       "output_type": "stream",
       "stream": "stderr",
       "text": [
        "."
       ]
      },
      {
       "output_type": "stream",
       "stream": "stderr",
       "text": [
        "."
       ]
      },
      {
       "output_type": "stream",
       "stream": "stderr",
       "text": [
        "."
       ]
      },
      {
       "output_type": "stream",
       "stream": "stderr",
       "text": [
        "."
       ]
      },
      {
       "output_type": "stream",
       "stream": "stderr",
       "text": [
        "."
       ]
      },
      {
       "output_type": "stream",
       "stream": "stderr",
       "text": [
        "."
       ]
      },
      {
       "output_type": "stream",
       "stream": "stderr",
       "text": [
        "."
       ]
      },
      {
       "output_type": "stream",
       "stream": "stderr",
       "text": [
        "."
       ]
      },
      {
       "output_type": "stream",
       "stream": "stderr",
       "text": [
        "."
       ]
      },
      {
       "output_type": "stream",
       "stream": "stderr",
       "text": [
        "."
       ]
      },
      {
       "output_type": "stream",
       "stream": "stderr",
       "text": [
        "."
       ]
      },
      {
       "output_type": "stream",
       "stream": "stderr",
       "text": [
        "."
       ]
      },
      {
       "output_type": "stream",
       "stream": "stderr",
       "text": [
        "."
       ]
      },
      {
       "output_type": "stream",
       "stream": "stderr",
       "text": [
        "."
       ]
      },
      {
       "output_type": "stream",
       "stream": "stderr",
       "text": [
        "."
       ]
      },
      {
       "output_type": "stream",
       "stream": "stderr",
       "text": [
        "."
       ]
      },
      {
       "output_type": "stream",
       "stream": "stderr",
       "text": [
        "."
       ]
      },
      {
       "output_type": "stream",
       "stream": "stderr",
       "text": [
        "."
       ]
      },
      {
       "output_type": "stream",
       "stream": "stderr",
       "text": [
        "."
       ]
      },
      {
       "output_type": "stream",
       "stream": "stderr",
       "text": [
        "."
       ]
      },
      {
       "output_type": "stream",
       "stream": "stderr",
       "text": [
        "."
       ]
      },
      {
       "output_type": "stream",
       "stream": "stderr",
       "text": [
        "."
       ]
      },
      {
       "output_type": "stream",
       "stream": "stderr",
       "text": [
        "."
       ]
      },
      {
       "output_type": "stream",
       "stream": "stderr",
       "text": [
        "."
       ]
      },
      {
       "output_type": "stream",
       "stream": "stderr",
       "text": [
        "."
       ]
      },
      {
       "output_type": "stream",
       "stream": "stderr",
       "text": [
        "."
       ]
      },
      {
       "output_type": "stream",
       "stream": "stderr",
       "text": [
        "."
       ]
      },
      {
       "output_type": "stream",
       "stream": "stderr",
       "text": [
        "."
       ]
      },
      {
       "output_type": "stream",
       "stream": "stderr",
       "text": [
        "."
       ]
      },
      {
       "output_type": "stream",
       "stream": "stderr",
       "text": [
        "."
       ]
      },
      {
       "output_type": "stream",
       "stream": "stderr",
       "text": [
        "."
       ]
      },
      {
       "output_type": "stream",
       "stream": "stderr",
       "text": [
        "."
       ]
      },
      {
       "output_type": "stream",
       "stream": "stderr",
       "text": [
        "."
       ]
      },
      {
       "output_type": "stream",
       "stream": "stderr",
       "text": [
        "."
       ]
      },
      {
       "output_type": "stream",
       "stream": "stderr",
       "text": [
        "."
       ]
      },
      {
       "output_type": "stream",
       "stream": "stderr",
       "text": [
        "."
       ]
      },
      {
       "output_type": "stream",
       "stream": "stderr",
       "text": [
        "."
       ]
      },
      {
       "output_type": "stream",
       "stream": "stderr",
       "text": [
        "."
       ]
      },
      {
       "output_type": "stream",
       "stream": "stderr",
       "text": [
        "."
       ]
      },
      {
       "output_type": "stream",
       "stream": "stderr",
       "text": [
        "."
       ]
      },
      {
       "output_type": "stream",
       "stream": "stderr",
       "text": [
        "."
       ]
      },
      {
       "output_type": "stream",
       "stream": "stderr",
       "text": [
        "."
       ]
      },
      {
       "output_type": "stream",
       "stream": "stderr",
       "text": [
        "."
       ]
      },
      {
       "output_type": "stream",
       "stream": "stderr",
       "text": [
        "."
       ]
      },
      {
       "output_type": "stream",
       "stream": "stderr",
       "text": [
        "."
       ]
      },
      {
       "output_type": "stream",
       "stream": "stderr",
       "text": [
        "."
       ]
      },
      {
       "output_type": "stream",
       "stream": "stderr",
       "text": [
        "."
       ]
      },
      {
       "output_type": "stream",
       "stream": "stderr",
       "text": [
        "."
       ]
      },
      {
       "output_type": "stream",
       "stream": "stderr",
       "text": [
        "."
       ]
      },
      {
       "output_type": "stream",
       "stream": "stderr",
       "text": [
        "."
       ]
      },
      {
       "output_type": "stream",
       "stream": "stderr",
       "text": [
        "."
       ]
      },
      {
       "output_type": "stream",
       "stream": "stderr",
       "text": [
        "."
       ]
      },
      {
       "output_type": "stream",
       "stream": "stderr",
       "text": [
        "."
       ]
      },
      {
       "output_type": "stream",
       "stream": "stderr",
       "text": [
        "."
       ]
      },
      {
       "output_type": "stream",
       "stream": "stderr",
       "text": [
        "."
       ]
      },
      {
       "output_type": "stream",
       "stream": "stderr",
       "text": [
        "."
       ]
      },
      {
       "output_type": "stream",
       "stream": "stderr",
       "text": [
        "."
       ]
      },
      {
       "output_type": "stream",
       "stream": "stderr",
       "text": [
        "."
       ]
      },
      {
       "output_type": "stream",
       "stream": "stderr",
       "text": [
        "."
       ]
      },
      {
       "output_type": "stream",
       "stream": "stderr",
       "text": [
        "."
       ]
      },
      {
       "output_type": "stream",
       "stream": "stderr",
       "text": [
        "."
       ]
      },
      {
       "output_type": "stream",
       "stream": "stderr",
       "text": [
        "."
       ]
      },
      {
       "output_type": "stream",
       "stream": "stderr",
       "text": [
        "."
       ]
      },
      {
       "output_type": "stream",
       "stream": "stderr",
       "text": [
        "."
       ]
      },
      {
       "output_type": "stream",
       "stream": "stderr",
       "text": [
        "."
       ]
      },
      {
       "output_type": "stream",
       "stream": "stderr",
       "text": [
        "."
       ]
      },
      {
       "output_type": "stream",
       "stream": "stderr",
       "text": [
        "."
       ]
      },
      {
       "output_type": "stream",
       "stream": "stderr",
       "text": [
        "."
       ]
      },
      {
       "output_type": "stream",
       "stream": "stderr",
       "text": [
        "."
       ]
      },
      {
       "output_type": "stream",
       "stream": "stderr",
       "text": [
        "."
       ]
      },
      {
       "output_type": "stream",
       "stream": "stderr",
       "text": [
        "."
       ]
      },
      {
       "output_type": "stream",
       "stream": "stderr",
       "text": [
        "."
       ]
      },
      {
       "output_type": "stream",
       "stream": "stderr",
       "text": [
        "."
       ]
      },
      {
       "output_type": "stream",
       "stream": "stderr",
       "text": [
        "."
       ]
      },
      {
       "output_type": "stream",
       "stream": "stderr",
       "text": [
        "."
       ]
      },
      {
       "output_type": "stream",
       "stream": "stderr",
       "text": [
        "."
       ]
      },
      {
       "output_type": "stream",
       "stream": "stderr",
       "text": [
        "."
       ]
      },
      {
       "output_type": "stream",
       "stream": "stderr",
       "text": [
        "."
       ]
      },
      {
       "output_type": "stream",
       "stream": "stderr",
       "text": [
        "."
       ]
      },
      {
       "output_type": "stream",
       "stream": "stderr",
       "text": [
        "."
       ]
      },
      {
       "output_type": "stream",
       "stream": "stderr",
       "text": [
        "."
       ]
      },
      {
       "output_type": "stream",
       "stream": "stderr",
       "text": [
        "."
       ]
      },
      {
       "output_type": "stream",
       "stream": "stderr",
       "text": [
        "."
       ]
      },
      {
       "output_type": "stream",
       "stream": "stderr",
       "text": [
        "."
       ]
      },
      {
       "output_type": "stream",
       "stream": "stderr",
       "text": [
        "."
       ]
      },
      {
       "output_type": "stream",
       "stream": "stderr",
       "text": [
        "."
       ]
      },
      {
       "output_type": "stream",
       "stream": "stderr",
       "text": [
        "."
       ]
      },
      {
       "output_type": "stream",
       "stream": "stderr",
       "text": [
        "."
       ]
      },
      {
       "output_type": "stream",
       "stream": "stderr",
       "text": [
        "."
       ]
      },
      {
       "output_type": "stream",
       "stream": "stderr",
       "text": [
        "."
       ]
      },
      {
       "output_type": "stream",
       "stream": "stderr",
       "text": [
        "."
       ]
      },
      {
       "output_type": "stream",
       "stream": "stderr",
       "text": [
        "."
       ]
      },
      {
       "output_type": "stream",
       "stream": "stderr",
       "text": [
        "."
       ]
      },
      {
       "output_type": "stream",
       "stream": "stderr",
       "text": [
        "."
       ]
      },
      {
       "output_type": "stream",
       "stream": "stderr",
       "text": [
        "."
       ]
      },
      {
       "output_type": "stream",
       "stream": "stderr",
       "text": [
        "."
       ]
      },
      {
       "output_type": "stream",
       "stream": "stderr",
       "text": [
        "."
       ]
      },
      {
       "output_type": "stream",
       "stream": "stderr",
       "text": [
        "."
       ]
      },
      {
       "output_type": "stream",
       "stream": "stderr",
       "text": [
        "."
       ]
      },
      {
       "output_type": "stream",
       "stream": "stderr",
       "text": [
        "."
       ]
      },
      {
       "output_type": "stream",
       "stream": "stderr",
       "text": [
        "."
       ]
      },
      {
       "output_type": "stream",
       "stream": "stderr",
       "text": [
        "."
       ]
      },
      {
       "output_type": "stream",
       "stream": "stderr",
       "text": [
        "."
       ]
      },
      {
       "output_type": "stream",
       "stream": "stderr",
       "text": [
        "."
       ]
      },
      {
       "output_type": "stream",
       "stream": "stderr",
       "text": [
        "."
       ]
      },
      {
       "output_type": "stream",
       "stream": "stderr",
       "text": [
        "."
       ]
      },
      {
       "output_type": "stream",
       "stream": "stderr",
       "text": [
        "."
       ]
      },
      {
       "output_type": "stream",
       "stream": "stderr",
       "text": [
        "."
       ]
      },
      {
       "output_type": "stream",
       "stream": "stderr",
       "text": [
        "."
       ]
      },
      {
       "output_type": "stream",
       "stream": "stderr",
       "text": [
        "."
       ]
      },
      {
       "output_type": "stream",
       "stream": "stderr",
       "text": [
        "."
       ]
      },
      {
       "output_type": "stream",
       "stream": "stderr",
       "text": [
        "."
       ]
      },
      {
       "output_type": "stream",
       "stream": "stderr",
       "text": [
        "."
       ]
      },
      {
       "output_type": "stream",
       "stream": "stderr",
       "text": [
        "."
       ]
      },
      {
       "output_type": "stream",
       "stream": "stderr",
       "text": [
        "."
       ]
      },
      {
       "output_type": "stream",
       "stream": "stderr",
       "text": [
        "."
       ]
      },
      {
       "output_type": "stream",
       "stream": "stderr",
       "text": [
        "."
       ]
      },
      {
       "output_type": "stream",
       "stream": "stderr",
       "text": [
        "."
       ]
      },
      {
       "output_type": "stream",
       "stream": "stderr",
       "text": [
        "."
       ]
      },
      {
       "output_type": "stream",
       "stream": "stderr",
       "text": [
        "."
       ]
      },
      {
       "output_type": "stream",
       "stream": "stderr",
       "text": [
        "."
       ]
      },
      {
       "output_type": "stream",
       "stream": "stderr",
       "text": [
        "."
       ]
      },
      {
       "output_type": "stream",
       "stream": "stderr",
       "text": [
        "."
       ]
      },
      {
       "output_type": "stream",
       "stream": "stderr",
       "text": [
        "."
       ]
      },
      {
       "output_type": "stream",
       "stream": "stderr",
       "text": [
        "."
       ]
      },
      {
       "output_type": "stream",
       "stream": "stderr",
       "text": [
        "."
       ]
      },
      {
       "output_type": "stream",
       "stream": "stderr",
       "text": [
        "."
       ]
      },
      {
       "output_type": "stream",
       "stream": "stderr",
       "text": [
        "."
       ]
      },
      {
       "output_type": "stream",
       "stream": "stderr",
       "text": [
        "."
       ]
      },
      {
       "output_type": "stream",
       "stream": "stderr",
       "text": [
        "."
       ]
      },
      {
       "output_type": "stream",
       "stream": "stderr",
       "text": [
        "."
       ]
      },
      {
       "output_type": "stream",
       "stream": "stderr",
       "text": [
        "."
       ]
      },
      {
       "output_type": "stream",
       "stream": "stderr",
       "text": [
        "."
       ]
      },
      {
       "output_type": "stream",
       "stream": "stderr",
       "text": [
        "."
       ]
      },
      {
       "output_type": "stream",
       "stream": "stderr",
       "text": [
        "."
       ]
      },
      {
       "output_type": "stream",
       "stream": "stderr",
       "text": [
        "."
       ]
      },
      {
       "output_type": "stream",
       "stream": "stderr",
       "text": [
        "."
       ]
      },
      {
       "output_type": "stream",
       "stream": "stderr",
       "text": [
        "."
       ]
      },
      {
       "output_type": "stream",
       "stream": "stderr",
       "text": [
        "."
       ]
      },
      {
       "output_type": "stream",
       "stream": "stderr",
       "text": [
        "."
       ]
      },
      {
       "output_type": "stream",
       "stream": "stderr",
       "text": [
        "."
       ]
      },
      {
       "output_type": "stream",
       "stream": "stderr",
       "text": [
        "."
       ]
      },
      {
       "output_type": "stream",
       "stream": "stderr",
       "text": [
        "."
       ]
      },
      {
       "output_type": "stream",
       "stream": "stderr",
       "text": [
        "."
       ]
      },
      {
       "output_type": "stream",
       "stream": "stderr",
       "text": [
        "."
       ]
      },
      {
       "output_type": "stream",
       "stream": "stderr",
       "text": [
        "."
       ]
      },
      {
       "output_type": "stream",
       "stream": "stderr",
       "text": [
        "."
       ]
      },
      {
       "output_type": "stream",
       "stream": "stderr",
       "text": [
        "."
       ]
      },
      {
       "output_type": "stream",
       "stream": "stderr",
       "text": [
        "."
       ]
      },
      {
       "output_type": "stream",
       "stream": "stderr",
       "text": [
        "."
       ]
      },
      {
       "output_type": "stream",
       "stream": "stderr",
       "text": [
        "."
       ]
      },
      {
       "output_type": "stream",
       "stream": "stderr",
       "text": [
        "."
       ]
      },
      {
       "output_type": "stream",
       "stream": "stderr",
       "text": [
        "."
       ]
      },
      {
       "output_type": "stream",
       "stream": "stderr",
       "text": [
        "."
       ]
      },
      {
       "output_type": "stream",
       "stream": "stderr",
       "text": [
        "."
       ]
      },
      {
       "output_type": "stream",
       "stream": "stderr",
       "text": [
        "."
       ]
      },
      {
       "output_type": "stream",
       "stream": "stderr",
       "text": [
        "."
       ]
      },
      {
       "output_type": "stream",
       "stream": "stderr",
       "text": [
        "."
       ]
      },
      {
       "output_type": "stream",
       "stream": "stderr",
       "text": [
        "."
       ]
      },
      {
       "output_type": "stream",
       "stream": "stderr",
       "text": [
        "."
       ]
      },
      {
       "output_type": "stream",
       "stream": "stderr",
       "text": [
        "."
       ]
      },
      {
       "output_type": "stream",
       "stream": "stderr",
       "text": [
        "."
       ]
      },
      {
       "output_type": "stream",
       "stream": "stderr",
       "text": [
        "."
       ]
      },
      {
       "output_type": "stream",
       "stream": "stderr",
       "text": [
        "."
       ]
      },
      {
       "output_type": "stream",
       "stream": "stderr",
       "text": [
        "."
       ]
      },
      {
       "output_type": "stream",
       "stream": "stderr",
       "text": [
        "."
       ]
      },
      {
       "output_type": "stream",
       "stream": "stderr",
       "text": [
        "."
       ]
      },
      {
       "output_type": "stream",
       "stream": "stderr",
       "text": [
        "."
       ]
      },
      {
       "output_type": "stream",
       "stream": "stderr",
       "text": [
        "."
       ]
      },
      {
       "output_type": "stream",
       "stream": "stderr",
       "text": [
        "."
       ]
      },
      {
       "output_type": "stream",
       "stream": "stderr",
       "text": [
        "."
       ]
      },
      {
       "output_type": "stream",
       "stream": "stderr",
       "text": [
        "."
       ]
      },
      {
       "output_type": "stream",
       "stream": "stderr",
       "text": [
        "."
       ]
      },
      {
       "output_type": "stream",
       "stream": "stderr",
       "text": [
        "."
       ]
      },
      {
       "output_type": "stream",
       "stream": "stderr",
       "text": [
        "."
       ]
      },
      {
       "output_type": "stream",
       "stream": "stderr",
       "text": [
        "."
       ]
      },
      {
       "output_type": "stream",
       "stream": "stderr",
       "text": [
        "."
       ]
      },
      {
       "output_type": "stream",
       "stream": "stderr",
       "text": [
        "."
       ]
      },
      {
       "output_type": "stream",
       "stream": "stderr",
       "text": [
        "."
       ]
      },
      {
       "output_type": "stream",
       "stream": "stderr",
       "text": [
        "."
       ]
      },
      {
       "output_type": "stream",
       "stream": "stderr",
       "text": [
        "."
       ]
      },
      {
       "output_type": "stream",
       "stream": "stderr",
       "text": [
        "."
       ]
      },
      {
       "output_type": "stream",
       "stream": "stderr",
       "text": [
        "."
       ]
      },
      {
       "output_type": "stream",
       "stream": "stderr",
       "text": [
        "."
       ]
      },
      {
       "output_type": "stream",
       "stream": "stderr",
       "text": [
        "."
       ]
      },
      {
       "output_type": "stream",
       "stream": "stderr",
       "text": [
        "."
       ]
      },
      {
       "output_type": "stream",
       "stream": "stderr",
       "text": [
        "."
       ]
      },
      {
       "output_type": "stream",
       "stream": "stderr",
       "text": [
        "."
       ]
      },
      {
       "output_type": "stream",
       "stream": "stderr",
       "text": [
        "."
       ]
      },
      {
       "output_type": "stream",
       "stream": "stderr",
       "text": [
        "."
       ]
      },
      {
       "output_type": "stream",
       "stream": "stderr",
       "text": [
        "."
       ]
      },
      {
       "output_type": "stream",
       "stream": "stderr",
       "text": [
        "."
       ]
      },
      {
       "output_type": "stream",
       "stream": "stderr",
       "text": [
        "."
       ]
      },
      {
       "output_type": "stream",
       "stream": "stderr",
       "text": [
        "."
       ]
      },
      {
       "output_type": "stream",
       "stream": "stderr",
       "text": [
        "."
       ]
      },
      {
       "output_type": "stream",
       "stream": "stderr",
       "text": [
        "."
       ]
      },
      {
       "output_type": "stream",
       "stream": "stderr",
       "text": [
        "."
       ]
      },
      {
       "output_type": "stream",
       "stream": "stderr",
       "text": [
        "."
       ]
      },
      {
       "output_type": "stream",
       "stream": "stderr",
       "text": [
        "."
       ]
      },
      {
       "output_type": "stream",
       "stream": "stderr",
       "text": [
        "."
       ]
      },
      {
       "output_type": "stream",
       "stream": "stderr",
       "text": [
        "."
       ]
      },
      {
       "output_type": "stream",
       "stream": "stderr",
       "text": [
        "."
       ]
      },
      {
       "output_type": "stream",
       "stream": "stderr",
       "text": [
        "."
       ]
      },
      {
       "output_type": "stream",
       "stream": "stderr",
       "text": [
        "."
       ]
      },
      {
       "output_type": "stream",
       "stream": "stderr",
       "text": [
        "."
       ]
      },
      {
       "output_type": "stream",
       "stream": "stderr",
       "text": [
        "."
       ]
      },
      {
       "output_type": "stream",
       "stream": "stderr",
       "text": [
        "."
       ]
      },
      {
       "output_type": "stream",
       "stream": "stderr",
       "text": [
        "."
       ]
      },
      {
       "output_type": "stream",
       "stream": "stderr",
       "text": [
        "."
       ]
      },
      {
       "output_type": "stream",
       "stream": "stderr",
       "text": [
        "."
       ]
      },
      {
       "output_type": "stream",
       "stream": "stderr",
       "text": [
        "."
       ]
      },
      {
       "output_type": "stream",
       "stream": "stderr",
       "text": [
        "."
       ]
      },
      {
       "output_type": "stream",
       "stream": "stderr",
       "text": [
        "."
       ]
      },
      {
       "output_type": "stream",
       "stream": "stderr",
       "text": [
        "."
       ]
      },
      {
       "output_type": "stream",
       "stream": "stderr",
       "text": [
        "."
       ]
      },
      {
       "output_type": "stream",
       "stream": "stderr",
       "text": [
        "."
       ]
      },
      {
       "output_type": "stream",
       "stream": "stderr",
       "text": [
        "."
       ]
      },
      {
       "output_type": "stream",
       "stream": "stderr",
       "text": [
        "."
       ]
      },
      {
       "output_type": "stream",
       "stream": "stderr",
       "text": [
        "."
       ]
      },
      {
       "output_type": "stream",
       "stream": "stderr",
       "text": [
        "."
       ]
      },
      {
       "output_type": "stream",
       "stream": "stderr",
       "text": [
        "."
       ]
      },
      {
       "output_type": "stream",
       "stream": "stderr",
       "text": [
        "."
       ]
      },
      {
       "output_type": "stream",
       "stream": "stderr",
       "text": [
        "."
       ]
      },
      {
       "output_type": "stream",
       "stream": "stderr",
       "text": [
        "."
       ]
      },
      {
       "output_type": "stream",
       "stream": "stderr",
       "text": [
        "."
       ]
      },
      {
       "output_type": "stream",
       "stream": "stderr",
       "text": [
        "."
       ]
      },
      {
       "output_type": "stream",
       "stream": "stderr",
       "text": [
        "."
       ]
      },
      {
       "output_type": "stream",
       "stream": "stderr",
       "text": [
        "."
       ]
      },
      {
       "output_type": "stream",
       "stream": "stderr",
       "text": [
        "S."
       ]
      },
      {
       "output_type": "stream",
       "stream": "stderr",
       "text": [
        "."
       ]
      },
      {
       "output_type": "stream",
       "stream": "stderr",
       "text": [
        "."
       ]
      },
      {
       "output_type": "stream",
       "stream": "stderr",
       "text": [
        "."
       ]
      },
      {
       "output_type": "stream",
       "stream": "stderr",
       "text": [
        "."
       ]
      },
      {
       "output_type": "stream",
       "stream": "stderr",
       "text": [
        "."
       ]
      },
      {
       "output_type": "stream",
       "stream": "stderr",
       "text": [
        "."
       ]
      },
      {
       "output_type": "stream",
       "stream": "stderr",
       "text": [
        "."
       ]
      },
      {
       "output_type": "stream",
       "stream": "stderr",
       "text": [
        "."
       ]
      },
      {
       "output_type": "stream",
       "stream": "stderr",
       "text": [
        "."
       ]
      },
      {
       "output_type": "stream",
       "stream": "stderr",
       "text": [
        "."
       ]
      },
      {
       "output_type": "stream",
       "stream": "stderr",
       "text": [
        "."
       ]
      },
      {
       "output_type": "stream",
       "stream": "stderr",
       "text": [
        "."
       ]
      },
      {
       "output_type": "stream",
       "stream": "stderr",
       "text": [
        "."
       ]
      },
      {
       "output_type": "stream",
       "stream": "stderr",
       "text": [
        "."
       ]
      },
      {
       "output_type": "stream",
       "stream": "stderr",
       "text": [
        "."
       ]
      },
      {
       "output_type": "stream",
       "stream": "stderr",
       "text": [
        "."
       ]
      },
      {
       "output_type": "stream",
       "stream": "stderr",
       "text": [
        "."
       ]
      },
      {
       "output_type": "stream",
       "stream": "stderr",
       "text": [
        "."
       ]
      },
      {
       "output_type": "stream",
       "stream": "stderr",
       "text": [
        "."
       ]
      },
      {
       "output_type": "stream",
       "stream": "stderr",
       "text": [
        "."
       ]
      },
      {
       "output_type": "stream",
       "stream": "stderr",
       "text": [
        "."
       ]
      },
      {
       "output_type": "stream",
       "stream": "stderr",
       "text": [
        "."
       ]
      },
      {
       "output_type": "stream",
       "stream": "stderr",
       "text": [
        "."
       ]
      },
      {
       "output_type": "stream",
       "stream": "stderr",
       "text": [
        "."
       ]
      },
      {
       "output_type": "stream",
       "stream": "stderr",
       "text": [
        "."
       ]
      },
      {
       "output_type": "stream",
       "stream": "stderr",
       "text": [
        "."
       ]
      },
      {
       "output_type": "stream",
       "stream": "stderr",
       "text": [
        "."
       ]
      },
      {
       "output_type": "stream",
       "stream": "stderr",
       "text": [
        "."
       ]
      },
      {
       "output_type": "stream",
       "stream": "stderr",
       "text": [
        "."
       ]
      },
      {
       "output_type": "stream",
       "stream": "stderr",
       "text": [
        "."
       ]
      },
      {
       "output_type": "stream",
       "stream": "stderr",
       "text": [
        "."
       ]
      },
      {
       "output_type": "stream",
       "stream": "stderr",
       "text": [
        "."
       ]
      },
      {
       "output_type": "stream",
       "stream": "stderr",
       "text": [
        "."
       ]
      },
      {
       "output_type": "stream",
       "stream": "stderr",
       "text": [
        "."
       ]
      },
      {
       "output_type": "stream",
       "stream": "stderr",
       "text": [
        "."
       ]
      },
      {
       "output_type": "stream",
       "stream": "stderr",
       "text": [
        "."
       ]
      },
      {
       "output_type": "stream",
       "stream": "stderr",
       "text": [
        "."
       ]
      },
      {
       "output_type": "stream",
       "stream": "stderr",
       "text": [
        "."
       ]
      },
      {
       "output_type": "stream",
       "stream": "stderr",
       "text": [
        "."
       ]
      },
      {
       "output_type": "stream",
       "stream": "stderr",
       "text": [
        "."
       ]
      },
      {
       "output_type": "stream",
       "stream": "stderr",
       "text": [
        "."
       ]
      },
      {
       "output_type": "stream",
       "stream": "stderr",
       "text": [
        "."
       ]
      },
      {
       "output_type": "stream",
       "stream": "stderr",
       "text": [
        "."
       ]
      },
      {
       "output_type": "stream",
       "stream": "stderr",
       "text": [
        "."
       ]
      },
      {
       "output_type": "stream",
       "stream": "stderr",
       "text": [
        "."
       ]
      },
      {
       "output_type": "stream",
       "stream": "stderr",
       "text": [
        "."
       ]
      },
      {
       "output_type": "stream",
       "stream": "stderr",
       "text": [
        "."
       ]
      },
      {
       "output_type": "stream",
       "stream": "stderr",
       "text": [
        "."
       ]
      },
      {
       "output_type": "stream",
       "stream": "stderr",
       "text": [
        "."
       ]
      },
      {
       "output_type": "stream",
       "stream": "stderr",
       "text": [
        "."
       ]
      },
      {
       "output_type": "stream",
       "stream": "stderr",
       "text": [
        "."
       ]
      },
      {
       "output_type": "stream",
       "stream": "stderr",
       "text": [
        "."
       ]
      },
      {
       "output_type": "stream",
       "stream": "stderr",
       "text": [
        "."
       ]
      },
      {
       "output_type": "stream",
       "stream": "stderr",
       "text": [
        "."
       ]
      },
      {
       "output_type": "stream",
       "stream": "stderr",
       "text": [
        "."
       ]
      },
      {
       "output_type": "stream",
       "stream": "stderr",
       "text": [
        "."
       ]
      },
      {
       "output_type": "stream",
       "stream": "stderr",
       "text": [
        "."
       ]
      },
      {
       "output_type": "stream",
       "stream": "stderr",
       "text": [
        "."
       ]
      },
      {
       "output_type": "stream",
       "stream": "stderr",
       "text": [
        "."
       ]
      },
      {
       "output_type": "stream",
       "stream": "stderr",
       "text": [
        "."
       ]
      },
      {
       "output_type": "stream",
       "stream": "stderr",
       "text": [
        "."
       ]
      },
      {
       "output_type": "stream",
       "stream": "stderr",
       "text": [
        "."
       ]
      },
      {
       "output_type": "stream",
       "stream": "stderr",
       "text": [
        "."
       ]
      },
      {
       "output_type": "stream",
       "stream": "stderr",
       "text": [
        "."
       ]
      },
      {
       "output_type": "stream",
       "stream": "stderr",
       "text": [
        "."
       ]
      },
      {
       "output_type": "stream",
       "stream": "stderr",
       "text": [
        "."
       ]
      },
      {
       "output_type": "stream",
       "stream": "stderr",
       "text": [
        "."
       ]
      },
      {
       "output_type": "stream",
       "stream": "stderr",
       "text": [
        "."
       ]
      },
      {
       "output_type": "stream",
       "stream": "stderr",
       "text": [
        "."
       ]
      },
      {
       "output_type": "stream",
       "stream": "stderr",
       "text": [
        "."
       ]
      },
      {
       "output_type": "stream",
       "stream": "stderr",
       "text": [
        "."
       ]
      },
      {
       "output_type": "stream",
       "stream": "stderr",
       "text": [
        "."
       ]
      },
      {
       "output_type": "stream",
       "stream": "stderr",
       "text": [
        "."
       ]
      },
      {
       "output_type": "stream",
       "stream": "stderr",
       "text": [
        "."
       ]
      },
      {
       "output_type": "stream",
       "stream": "stderr",
       "text": [
        "."
       ]
      },
      {
       "output_type": "stream",
       "stream": "stderr",
       "text": [
        "."
       ]
      },
      {
       "output_type": "stream",
       "stream": "stderr",
       "text": [
        "."
       ]
      },
      {
       "output_type": "stream",
       "stream": "stderr",
       "text": [
        "."
       ]
      },
      {
       "output_type": "stream",
       "stream": "stderr",
       "text": [
        "."
       ]
      },
      {
       "output_type": "stream",
       "stream": "stderr",
       "text": [
        "."
       ]
      },
      {
       "output_type": "stream",
       "stream": "stderr",
       "text": [
        "."
       ]
      },
      {
       "output_type": "stream",
       "stream": "stderr",
       "text": [
        "."
       ]
      },
      {
       "output_type": "stream",
       "stream": "stderr",
       "text": [
        "."
       ]
      },
      {
       "output_type": "stream",
       "stream": "stderr",
       "text": [
        "."
       ]
      },
      {
       "output_type": "stream",
       "stream": "stderr",
       "text": [
        "."
       ]
      },
      {
       "output_type": "stream",
       "stream": "stderr",
       "text": [
        "."
       ]
      },
      {
       "output_type": "stream",
       "stream": "stderr",
       "text": [
        "."
       ]
      },
      {
       "output_type": "stream",
       "stream": "stderr",
       "text": [
        "."
       ]
      },
      {
       "output_type": "stream",
       "stream": "stderr",
       "text": [
        "."
       ]
      },
      {
       "output_type": "stream",
       "stream": "stderr",
       "text": [
        "."
       ]
      },
      {
       "output_type": "stream",
       "stream": "stderr",
       "text": [
        "."
       ]
      },
      {
       "output_type": "stream",
       "stream": "stderr",
       "text": [
        "."
       ]
      },
      {
       "output_type": "stream",
       "stream": "stderr",
       "text": [
        "."
       ]
      },
      {
       "output_type": "stream",
       "stream": "stderr",
       "text": [
        "."
       ]
      },
      {
       "output_type": "stream",
       "stream": "stderr",
       "text": [
        "."
       ]
      },
      {
       "output_type": "stream",
       "stream": "stderr",
       "text": [
        "."
       ]
      },
      {
       "output_type": "stream",
       "stream": "stderr",
       "text": [
        "."
       ]
      },
      {
       "output_type": "stream",
       "stream": "stderr",
       "text": [
        "."
       ]
      },
      {
       "output_type": "stream",
       "stream": "stderr",
       "text": [
        "."
       ]
      },
      {
       "output_type": "stream",
       "stream": "stderr",
       "text": [
        "S."
       ]
      },
      {
       "output_type": "stream",
       "stream": "stderr",
       "text": [
        "."
       ]
      },
      {
       "output_type": "stream",
       "stream": "stderr",
       "text": [
        "."
       ]
      },
      {
       "output_type": "stream",
       "stream": "stderr",
       "text": [
        "."
       ]
      },
      {
       "output_type": "stream",
       "stream": "stderr",
       "text": [
        "."
       ]
      },
      {
       "output_type": "stream",
       "stream": "stderr",
       "text": [
        "."
       ]
      },
      {
       "output_type": "stream",
       "stream": "stderr",
       "text": [
        "."
       ]
      },
      {
       "output_type": "stream",
       "stream": "stderr",
       "text": [
        "."
       ]
      },
      {
       "output_type": "stream",
       "stream": "stderr",
       "text": [
        "."
       ]
      },
      {
       "output_type": "stream",
       "stream": "stderr",
       "text": [
        "."
       ]
      },
      {
       "output_type": "stream",
       "stream": "stderr",
       "text": [
        "."
       ]
      },
      {
       "output_type": "stream",
       "stream": "stderr",
       "text": [
        "."
       ]
      },
      {
       "output_type": "stream",
       "stream": "stderr",
       "text": [
        "."
       ]
      },
      {
       "output_type": "stream",
       "stream": "stderr",
       "text": [
        "."
       ]
      },
      {
       "output_type": "stream",
       "stream": "stderr",
       "text": [
        "."
       ]
      },
      {
       "output_type": "stream",
       "stream": "stderr",
       "text": [
        "."
       ]
      },
      {
       "output_type": "stream",
       "stream": "stderr",
       "text": [
        "."
       ]
      },
      {
       "output_type": "stream",
       "stream": "stderr",
       "text": [
        "."
       ]
      },
      {
       "output_type": "stream",
       "stream": "stderr",
       "text": [
        "."
       ]
      },
      {
       "output_type": "stream",
       "stream": "stderr",
       "text": [
        "."
       ]
      },
      {
       "output_type": "stream",
       "stream": "stderr",
       "text": [
        "."
       ]
      },
      {
       "output_type": "stream",
       "stream": "stderr",
       "text": [
        "."
       ]
      },
      {
       "output_type": "stream",
       "stream": "stderr",
       "text": [
        "."
       ]
      },
      {
       "output_type": "stream",
       "stream": "stderr",
       "text": [
        "."
       ]
      },
      {
       "output_type": "stream",
       "stream": "stderr",
       "text": [
        "."
       ]
      },
      {
       "output_type": "stream",
       "stream": "stderr",
       "text": [
        "."
       ]
      },
      {
       "output_type": "stream",
       "stream": "stderr",
       "text": [
        "."
       ]
      },
      {
       "output_type": "stream",
       "stream": "stderr",
       "text": [
        "."
       ]
      },
      {
       "output_type": "stream",
       "stream": "stderr",
       "text": [
        "."
       ]
      },
      {
       "output_type": "stream",
       "stream": "stderr",
       "text": [
        "."
       ]
      },
      {
       "output_type": "stream",
       "stream": "stderr",
       "text": [
        "."
       ]
      },
      {
       "output_type": "stream",
       "stream": "stderr",
       "text": [
        "."
       ]
      },
      {
       "output_type": "stream",
       "stream": "stderr",
       "text": [
        "."
       ]
      },
      {
       "output_type": "stream",
       "stream": "stderr",
       "text": [
        "."
       ]
      },
      {
       "output_type": "stream",
       "stream": "stderr",
       "text": [
        "."
       ]
      },
      {
       "output_type": "stream",
       "stream": "stderr",
       "text": [
        "."
       ]
      },
      {
       "output_type": "stream",
       "stream": "stderr",
       "text": [
        "."
       ]
      },
      {
       "output_type": "stream",
       "stream": "stderr",
       "text": [
        "."
       ]
      },
      {
       "output_type": "stream",
       "stream": "stderr",
       "text": [
        "."
       ]
      },
      {
       "output_type": "stream",
       "stream": "stderr",
       "text": [
        "."
       ]
      },
      {
       "output_type": "stream",
       "stream": "stderr",
       "text": [
        "."
       ]
      },
      {
       "output_type": "stream",
       "stream": "stderr",
       "text": [
        "."
       ]
      },
      {
       "output_type": "stream",
       "stream": "stderr",
       "text": [
        "."
       ]
      },
      {
       "output_type": "stream",
       "stream": "stderr",
       "text": [
        "."
       ]
      },
      {
       "output_type": "stream",
       "stream": "stderr",
       "text": [
        "."
       ]
      },
      {
       "output_type": "stream",
       "stream": "stderr",
       "text": [
        "."
       ]
      },
      {
       "output_type": "stream",
       "stream": "stderr",
       "text": [
        "."
       ]
      },
      {
       "output_type": "stream",
       "stream": "stderr",
       "text": [
        "."
       ]
      },
      {
       "output_type": "stream",
       "stream": "stderr",
       "text": [
        "."
       ]
      },
      {
       "output_type": "stream",
       "stream": "stderr",
       "text": [
        "."
       ]
      },
      {
       "output_type": "stream",
       "stream": "stderr",
       "text": [
        "."
       ]
      },
      {
       "output_type": "stream",
       "stream": "stderr",
       "text": [
        "."
       ]
      },
      {
       "output_type": "stream",
       "stream": "stderr",
       "text": [
        "."
       ]
      },
      {
       "output_type": "stream",
       "stream": "stderr",
       "text": [
        "."
       ]
      },
      {
       "output_type": "stream",
       "stream": "stderr",
       "text": [
        "."
       ]
      },
      {
       "output_type": "stream",
       "stream": "stderr",
       "text": [
        "."
       ]
      },
      {
       "output_type": "stream",
       "stream": "stderr",
       "text": [
        "."
       ]
      },
      {
       "output_type": "stream",
       "stream": "stderr",
       "text": [
        "."
       ]
      },
      {
       "output_type": "stream",
       "stream": "stderr",
       "text": [
        "."
       ]
      },
      {
       "output_type": "stream",
       "stream": "stderr",
       "text": [
        "."
       ]
      },
      {
       "output_type": "stream",
       "stream": "stderr",
       "text": [
        "."
       ]
      },
      {
       "output_type": "stream",
       "stream": "stderr",
       "text": [
        "."
       ]
      },
      {
       "output_type": "stream",
       "stream": "stderr",
       "text": [
        "."
       ]
      },
      {
       "output_type": "stream",
       "stream": "stderr",
       "text": [
        "."
       ]
      },
      {
       "output_type": "stream",
       "stream": "stderr",
       "text": [
        "."
       ]
      },
      {
       "output_type": "stream",
       "stream": "stderr",
       "text": [
        "."
       ]
      },
      {
       "output_type": "stream",
       "stream": "stderr",
       "text": [
        "."
       ]
      },
      {
       "output_type": "stream",
       "stream": "stderr",
       "text": [
        "."
       ]
      },
      {
       "output_type": "stream",
       "stream": "stderr",
       "text": [
        "."
       ]
      },
      {
       "output_type": "stream",
       "stream": "stderr",
       "text": [
        "."
       ]
      },
      {
       "output_type": "stream",
       "stream": "stderr",
       "text": [
        "."
       ]
      },
      {
       "output_type": "stream",
       "stream": "stderr",
       "text": [
        "."
       ]
      },
      {
       "output_type": "stream",
       "stream": "stderr",
       "text": [
        "."
       ]
      },
      {
       "output_type": "stream",
       "stream": "stderr",
       "text": [
        "."
       ]
      },
      {
       "output_type": "stream",
       "stream": "stderr",
       "text": [
        "."
       ]
      },
      {
       "output_type": "stream",
       "stream": "stderr",
       "text": [
        "."
       ]
      },
      {
       "output_type": "stream",
       "stream": "stderr",
       "text": [
        "."
       ]
      },
      {
       "output_type": "stream",
       "stream": "stderr",
       "text": [
        "."
       ]
      },
      {
       "output_type": "stream",
       "stream": "stderr",
       "text": [
        "."
       ]
      },
      {
       "output_type": "stream",
       "stream": "stderr",
       "text": [
        "."
       ]
      },
      {
       "output_type": "stream",
       "stream": "stderr",
       "text": [
        "."
       ]
      },
      {
       "output_type": "stream",
       "stream": "stderr",
       "text": [
        "."
       ]
      },
      {
       "output_type": "stream",
       "stream": "stderr",
       "text": [
        "."
       ]
      },
      {
       "output_type": "stream",
       "stream": "stderr",
       "text": [
        "."
       ]
      },
      {
       "output_type": "stream",
       "stream": "stderr",
       "text": [
        "."
       ]
      },
      {
       "output_type": "stream",
       "stream": "stderr",
       "text": [
        "."
       ]
      },
      {
       "output_type": "stream",
       "stream": "stderr",
       "text": [
        "."
       ]
      },
      {
       "output_type": "stream",
       "stream": "stderr",
       "text": [
        "."
       ]
      },
      {
       "output_type": "stream",
       "stream": "stderr",
       "text": [
        "."
       ]
      },
      {
       "output_type": "stream",
       "stream": "stderr",
       "text": [
        "."
       ]
      },
      {
       "output_type": "stream",
       "stream": "stderr",
       "text": [
        "."
       ]
      },
      {
       "output_type": "stream",
       "stream": "stderr",
       "text": [
        "."
       ]
      },
      {
       "output_type": "stream",
       "stream": "stderr",
       "text": [
        "."
       ]
      },
      {
       "output_type": "stream",
       "stream": "stderr",
       "text": [
        "."
       ]
      },
      {
       "output_type": "stream",
       "stream": "stderr",
       "text": [
        "."
       ]
      },
      {
       "output_type": "stream",
       "stream": "stderr",
       "text": [
        "."
       ]
      },
      {
       "output_type": "stream",
       "stream": "stderr",
       "text": [
        "."
       ]
      },
      {
       "output_type": "stream",
       "stream": "stderr",
       "text": [
        "."
       ]
      },
      {
       "output_type": "stream",
       "stream": "stderr",
       "text": [
        "."
       ]
      },
      {
       "output_type": "stream",
       "stream": "stderr",
       "text": [
        "."
       ]
      },
      {
       "output_type": "stream",
       "stream": "stderr",
       "text": [
        "."
       ]
      },
      {
       "output_type": "stream",
       "stream": "stderr",
       "text": [
        "."
       ]
      },
      {
       "output_type": "stream",
       "stream": "stderr",
       "text": [
        "."
       ]
      },
      {
       "output_type": "stream",
       "stream": "stderr",
       "text": [
        "."
       ]
      },
      {
       "output_type": "stream",
       "stream": "stderr",
       "text": [
        "."
       ]
      },
      {
       "output_type": "stream",
       "stream": "stderr",
       "text": [
        "."
       ]
      },
      {
       "output_type": "stream",
       "stream": "stderr",
       "text": [
        "."
       ]
      },
      {
       "output_type": "stream",
       "stream": "stderr",
       "text": [
        "."
       ]
      },
      {
       "output_type": "stream",
       "stream": "stderr",
       "text": [
        "."
       ]
      },
      {
       "output_type": "stream",
       "stream": "stderr",
       "text": [
        "."
       ]
      },
      {
       "output_type": "stream",
       "stream": "stderr",
       "text": [
        "."
       ]
      },
      {
       "output_type": "stream",
       "stream": "stderr",
       "text": [
        "."
       ]
      },
      {
       "output_type": "stream",
       "stream": "stderr",
       "text": [
        "."
       ]
      },
      {
       "output_type": "stream",
       "stream": "stderr",
       "text": [
        "."
       ]
      },
      {
       "output_type": "stream",
       "stream": "stderr",
       "text": [
        "."
       ]
      },
      {
       "output_type": "stream",
       "stream": "stderr",
       "text": [
        "."
       ]
      },
      {
       "output_type": "stream",
       "stream": "stderr",
       "text": [
        "."
       ]
      },
      {
       "output_type": "stream",
       "stream": "stderr",
       "text": [
        "."
       ]
      },
      {
       "output_type": "stream",
       "stream": "stderr",
       "text": [
        "."
       ]
      },
      {
       "output_type": "stream",
       "stream": "stderr",
       "text": [
        "."
       ]
      },
      {
       "output_type": "stream",
       "stream": "stderr",
       "text": [
        "."
       ]
      },
      {
       "output_type": "stream",
       "stream": "stderr",
       "text": [
        "."
       ]
      },
      {
       "output_type": "stream",
       "stream": "stderr",
       "text": [
        "."
       ]
      },
      {
       "output_type": "stream",
       "stream": "stderr",
       "text": [
        "."
       ]
      },
      {
       "output_type": "stream",
       "stream": "stderr",
       "text": [
        "."
       ]
      },
      {
       "output_type": "stream",
       "stream": "stderr",
       "text": [
        "."
       ]
      },
      {
       "output_type": "stream",
       "stream": "stderr",
       "text": [
        "."
       ]
      },
      {
       "output_type": "stream",
       "stream": "stderr",
       "text": [
        "."
       ]
      },
      {
       "output_type": "stream",
       "stream": "stderr",
       "text": [
        "."
       ]
      },
      {
       "output_type": "stream",
       "stream": "stderr",
       "text": [
        "."
       ]
      },
      {
       "output_type": "stream",
       "stream": "stderr",
       "text": [
        "."
       ]
      },
      {
       "output_type": "stream",
       "stream": "stderr",
       "text": [
        "."
       ]
      },
      {
       "output_type": "stream",
       "stream": "stderr",
       "text": [
        "."
       ]
      },
      {
       "output_type": "stream",
       "stream": "stderr",
       "text": [
        "."
       ]
      },
      {
       "output_type": "stream",
       "stream": "stderr",
       "text": [
        "."
       ]
      },
      {
       "output_type": "stream",
       "stream": "stderr",
       "text": [
        "."
       ]
      },
      {
       "output_type": "stream",
       "stream": "stderr",
       "text": [
        "."
       ]
      },
      {
       "output_type": "stream",
       "stream": "stderr",
       "text": [
        "."
       ]
      },
      {
       "output_type": "stream",
       "stream": "stderr",
       "text": [
        "."
       ]
      },
      {
       "output_type": "stream",
       "stream": "stderr",
       "text": [
        "."
       ]
      },
      {
       "output_type": "stream",
       "stream": "stderr",
       "text": [
        "."
       ]
      },
      {
       "output_type": "stream",
       "stream": "stderr",
       "text": [
        "."
       ]
      },
      {
       "output_type": "stream",
       "stream": "stderr",
       "text": [
        "."
       ]
      },
      {
       "output_type": "stream",
       "stream": "stderr",
       "text": [
        "."
       ]
      },
      {
       "output_type": "stream",
       "stream": "stderr",
       "text": [
        "."
       ]
      },
      {
       "output_type": "stream",
       "stream": "stderr",
       "text": [
        "."
       ]
      },
      {
       "output_type": "stream",
       "stream": "stderr",
       "text": [
        "."
       ]
      },
      {
       "output_type": "stream",
       "stream": "stderr",
       "text": [
        "."
       ]
      },
      {
       "output_type": "stream",
       "stream": "stderr",
       "text": [
        "."
       ]
      },
      {
       "output_type": "stream",
       "stream": "stderr",
       "text": [
        "."
       ]
      },
      {
       "output_type": "stream",
       "stream": "stderr",
       "text": [
        "."
       ]
      },
      {
       "output_type": "stream",
       "stream": "stderr",
       "text": [
        "."
       ]
      },
      {
       "output_type": "stream",
       "stream": "stderr",
       "text": [
        "."
       ]
      },
      {
       "output_type": "stream",
       "stream": "stderr",
       "text": [
        "."
       ]
      },
      {
       "output_type": "stream",
       "stream": "stderr",
       "text": [
        "."
       ]
      },
      {
       "output_type": "stream",
       "stream": "stderr",
       "text": [
        "."
       ]
      },
      {
       "output_type": "stream",
       "stream": "stderr",
       "text": [
        "."
       ]
      },
      {
       "output_type": "stream",
       "stream": "stderr",
       "text": [
        "."
       ]
      },
      {
       "output_type": "stream",
       "stream": "stderr",
       "text": [
        "."
       ]
      },
      {
       "output_type": "stream",
       "stream": "stderr",
       "text": [
        "."
       ]
      },
      {
       "output_type": "stream",
       "stream": "stderr",
       "text": [
        "."
       ]
      },
      {
       "output_type": "stream",
       "stream": "stderr",
       "text": [
        "."
       ]
      },
      {
       "output_type": "stream",
       "stream": "stderr",
       "text": [
        "."
       ]
      },
      {
       "output_type": "stream",
       "stream": "stderr",
       "text": [
        "."
       ]
      },
      {
       "output_type": "stream",
       "stream": "stderr",
       "text": [
        "."
       ]
      },
      {
       "output_type": "stream",
       "stream": "stderr",
       "text": [
        "."
       ]
      },
      {
       "output_type": "stream",
       "stream": "stderr",
       "text": [
        "."
       ]
      },
      {
       "output_type": "stream",
       "stream": "stderr",
       "text": [
        "."
       ]
      },
      {
       "output_type": "stream",
       "stream": "stderr",
       "text": [
        "."
       ]
      },
      {
       "output_type": "stream",
       "stream": "stderr",
       "text": [
        "."
       ]
      },
      {
       "output_type": "stream",
       "stream": "stderr",
       "text": [
        "."
       ]
      },
      {
       "output_type": "stream",
       "stream": "stderr",
       "text": [
        "."
       ]
      },
      {
       "output_type": "stream",
       "stream": "stderr",
       "text": [
        "."
       ]
      },
      {
       "output_type": "stream",
       "stream": "stderr",
       "text": [
        "."
       ]
      },
      {
       "output_type": "stream",
       "stream": "stderr",
       "text": [
        "."
       ]
      },
      {
       "output_type": "stream",
       "stream": "stderr",
       "text": [
        "."
       ]
      },
      {
       "output_type": "stream",
       "stream": "stderr",
       "text": [
        "."
       ]
      },
      {
       "output_type": "stream",
       "stream": "stderr",
       "text": [
        "."
       ]
      },
      {
       "output_type": "stream",
       "stream": "stderr",
       "text": [
        "."
       ]
      },
      {
       "output_type": "stream",
       "stream": "stderr",
       "text": [
        "."
       ]
      },
      {
       "output_type": "stream",
       "stream": "stderr",
       "text": [
        "."
       ]
      },
      {
       "output_type": "stream",
       "stream": "stderr",
       "text": [
        "."
       ]
      },
      {
       "output_type": "stream",
       "stream": "stderr",
       "text": [
        "."
       ]
      },
      {
       "output_type": "stream",
       "stream": "stderr",
       "text": [
        "."
       ]
      },
      {
       "output_type": "stream",
       "stream": "stderr",
       "text": [
        "."
       ]
      },
      {
       "output_type": "stream",
       "stream": "stderr",
       "text": [
        "."
       ]
      },
      {
       "output_type": "stream",
       "stream": "stderr",
       "text": [
        "."
       ]
      },
      {
       "output_type": "stream",
       "stream": "stderr",
       "text": [
        "."
       ]
      },
      {
       "output_type": "stream",
       "stream": "stderr",
       "text": [
        "."
       ]
      },
      {
       "output_type": "stream",
       "stream": "stderr",
       "text": [
        "."
       ]
      },
      {
       "output_type": "stream",
       "stream": "stderr",
       "text": [
        "."
       ]
      },
      {
       "output_type": "stream",
       "stream": "stderr",
       "text": [
        "."
       ]
      },
      {
       "output_type": "stream",
       "stream": "stderr",
       "text": [
        "."
       ]
      },
      {
       "output_type": "stream",
       "stream": "stderr",
       "text": [
        "."
       ]
      },
      {
       "output_type": "stream",
       "stream": "stderr",
       "text": [
        "."
       ]
      },
      {
       "output_type": "stream",
       "stream": "stderr",
       "text": [
        "."
       ]
      },
      {
       "output_type": "stream",
       "stream": "stderr",
       "text": [
        "."
       ]
      },
      {
       "output_type": "stream",
       "stream": "stderr",
       "text": [
        "."
       ]
      },
      {
       "output_type": "stream",
       "stream": "stderr",
       "text": [
        "."
       ]
      },
      {
       "output_type": "stream",
       "stream": "stderr",
       "text": [
        "."
       ]
      },
      {
       "output_type": "stream",
       "stream": "stderr",
       "text": [
        "."
       ]
      },
      {
       "output_type": "stream",
       "stream": "stderr",
       "text": [
        "."
       ]
      },
      {
       "output_type": "stream",
       "stream": "stderr",
       "text": [
        "."
       ]
      },
      {
       "output_type": "stream",
       "stream": "stderr",
       "text": [
        "."
       ]
      },
      {
       "output_type": "stream",
       "stream": "stderr",
       "text": [
        "."
       ]
      },
      {
       "output_type": "stream",
       "stream": "stderr",
       "text": [
        "."
       ]
      },
      {
       "output_type": "stream",
       "stream": "stderr",
       "text": [
        "."
       ]
      },
      {
       "output_type": "stream",
       "stream": "stderr",
       "text": [
        "."
       ]
      },
      {
       "output_type": "stream",
       "stream": "stderr",
       "text": [
        "."
       ]
      },
      {
       "output_type": "stream",
       "stream": "stderr",
       "text": [
        "."
       ]
      },
      {
       "output_type": "stream",
       "stream": "stderr",
       "text": [
        "."
       ]
      },
      {
       "output_type": "stream",
       "stream": "stderr",
       "text": [
        "."
       ]
      },
      {
       "output_type": "stream",
       "stream": "stderr",
       "text": [
        "."
       ]
      },
      {
       "output_type": "stream",
       "stream": "stderr",
       "text": [
        "."
       ]
      },
      {
       "output_type": "stream",
       "stream": "stderr",
       "text": [
        "."
       ]
      },
      {
       "output_type": "stream",
       "stream": "stderr",
       "text": [
        "."
       ]
      },
      {
       "output_type": "stream",
       "stream": "stderr",
       "text": [
        "."
       ]
      },
      {
       "output_type": "stream",
       "stream": "stderr",
       "text": [
        "."
       ]
      },
      {
       "output_type": "stream",
       "stream": "stderr",
       "text": [
        "."
       ]
      },
      {
       "output_type": "stream",
       "stream": "stderr",
       "text": [
        "."
       ]
      },
      {
       "output_type": "stream",
       "stream": "stderr",
       "text": [
        "."
       ]
      },
      {
       "output_type": "stream",
       "stream": "stderr",
       "text": [
        "."
       ]
      },
      {
       "output_type": "stream",
       "stream": "stderr",
       "text": [
        "."
       ]
      },
      {
       "output_type": "stream",
       "stream": "stderr",
       "text": [
        "."
       ]
      },
      {
       "output_type": "stream",
       "stream": "stderr",
       "text": [
        "."
       ]
      },
      {
       "output_type": "stream",
       "stream": "stderr",
       "text": [
        "."
       ]
      },
      {
       "output_type": "stream",
       "stream": "stderr",
       "text": [
        "."
       ]
      },
      {
       "output_type": "stream",
       "stream": "stderr",
       "text": [
        "."
       ]
      },
      {
       "output_type": "stream",
       "stream": "stderr",
       "text": [
        "."
       ]
      },
      {
       "output_type": "stream",
       "stream": "stderr",
       "text": [
        "."
       ]
      },
      {
       "output_type": "stream",
       "stream": "stderr",
       "text": [
        "."
       ]
      },
      {
       "output_type": "stream",
       "stream": "stderr",
       "text": [
        "."
       ]
      },
      {
       "output_type": "stream",
       "stream": "stderr",
       "text": [
        "."
       ]
      },
      {
       "output_type": "stream",
       "stream": "stderr",
       "text": [
        "."
       ]
      },
      {
       "output_type": "stream",
       "stream": "stderr",
       "text": [
        "."
       ]
      },
      {
       "output_type": "stream",
       "stream": "stderr",
       "text": [
        "."
       ]
      },
      {
       "output_type": "stream",
       "stream": "stderr",
       "text": [
        "."
       ]
      },
      {
       "output_type": "stream",
       "stream": "stderr",
       "text": [
        "."
       ]
      },
      {
       "output_type": "stream",
       "stream": "stderr",
       "text": [
        "."
       ]
      },
      {
       "output_type": "stream",
       "stream": "stderr",
       "text": [
        "."
       ]
      },
      {
       "output_type": "stream",
       "stream": "stderr",
       "text": [
        "."
       ]
      },
      {
       "output_type": "stream",
       "stream": "stderr",
       "text": [
        "."
       ]
      },
      {
       "output_type": "stream",
       "stream": "stderr",
       "text": [
        "."
       ]
      },
      {
       "output_type": "stream",
       "stream": "stderr",
       "text": [
        "."
       ]
      },
      {
       "output_type": "stream",
       "stream": "stderr",
       "text": [
        "."
       ]
      },
      {
       "output_type": "stream",
       "stream": "stderr",
       "text": [
        "."
       ]
      },
      {
       "output_type": "stream",
       "stream": "stderr",
       "text": [
        "."
       ]
      },
      {
       "output_type": "stream",
       "stream": "stderr",
       "text": [
        "."
       ]
      },
      {
       "output_type": "stream",
       "stream": "stderr",
       "text": [
        "."
       ]
      },
      {
       "output_type": "stream",
       "stream": "stderr",
       "text": [
        "."
       ]
      },
      {
       "output_type": "stream",
       "stream": "stderr",
       "text": [
        "."
       ]
      },
      {
       "output_type": "stream",
       "stream": "stderr",
       "text": [
        "."
       ]
      },
      {
       "output_type": "stream",
       "stream": "stderr",
       "text": [
        "."
       ]
      },
      {
       "output_type": "stream",
       "stream": "stderr",
       "text": [
        "."
       ]
      },
      {
       "output_type": "stream",
       "stream": "stderr",
       "text": [
        "."
       ]
      },
      {
       "output_type": "stream",
       "stream": "stderr",
       "text": [
        "."
       ]
      },
      {
       "output_type": "stream",
       "stream": "stderr",
       "text": [
        "."
       ]
      },
      {
       "output_type": "stream",
       "stream": "stderr",
       "text": [
        "."
       ]
      },
      {
       "output_type": "stream",
       "stream": "stderr",
       "text": [
        "."
       ]
      },
      {
       "output_type": "stream",
       "stream": "stderr",
       "text": [
        "."
       ]
      },
      {
       "output_type": "stream",
       "stream": "stderr",
       "text": [
        "."
       ]
      },
      {
       "output_type": "stream",
       "stream": "stderr",
       "text": [
        "."
       ]
      },
      {
       "output_type": "stream",
       "stream": "stderr",
       "text": [
        "."
       ]
      },
      {
       "output_type": "stream",
       "stream": "stderr",
       "text": [
        "."
       ]
      },
      {
       "output_type": "stream",
       "stream": "stderr",
       "text": [
        "."
       ]
      },
      {
       "output_type": "stream",
       "stream": "stderr",
       "text": [
        "."
       ]
      },
      {
       "output_type": "stream",
       "stream": "stderr",
       "text": [
        "."
       ]
      },
      {
       "output_type": "stream",
       "stream": "stderr",
       "text": [
        "."
       ]
      },
      {
       "output_type": "stream",
       "stream": "stderr",
       "text": [
        "."
       ]
      },
      {
       "output_type": "stream",
       "stream": "stderr",
       "text": [
        "."
       ]
      },
      {
       "output_type": "stream",
       "stream": "stderr",
       "text": [
        "."
       ]
      },
      {
       "output_type": "stream",
       "stream": "stderr",
       "text": [
        "."
       ]
      },
      {
       "output_type": "stream",
       "stream": "stderr",
       "text": [
        "."
       ]
      },
      {
       "output_type": "stream",
       "stream": "stderr",
       "text": [
        "."
       ]
      },
      {
       "output_type": "stream",
       "stream": "stderr",
       "text": [
        "."
       ]
      },
      {
       "output_type": "stream",
       "stream": "stderr",
       "text": [
        "."
       ]
      },
      {
       "output_type": "stream",
       "stream": "stderr",
       "text": [
        "."
       ]
      },
      {
       "output_type": "stream",
       "stream": "stderr",
       "text": [
        "."
       ]
      },
      {
       "output_type": "stream",
       "stream": "stderr",
       "text": [
        "."
       ]
      },
      {
       "output_type": "stream",
       "stream": "stderr",
       "text": [
        "."
       ]
      },
      {
       "output_type": "stream",
       "stream": "stderr",
       "text": [
        "."
       ]
      },
      {
       "output_type": "stream",
       "stream": "stderr",
       "text": [
        "."
       ]
      },
      {
       "output_type": "stream",
       "stream": "stderr",
       "text": [
        "."
       ]
      },
      {
       "output_type": "stream",
       "stream": "stderr",
       "text": [
        "."
       ]
      },
      {
       "output_type": "stream",
       "stream": "stderr",
       "text": [
        "."
       ]
      },
      {
       "output_type": "stream",
       "stream": "stderr",
       "text": [
        "."
       ]
      },
      {
       "output_type": "stream",
       "stream": "stderr",
       "text": [
        "."
       ]
      },
      {
       "output_type": "stream",
       "stream": "stderr",
       "text": [
        "."
       ]
      },
      {
       "output_type": "stream",
       "stream": "stderr",
       "text": [
        "."
       ]
      },
      {
       "output_type": "stream",
       "stream": "stderr",
       "text": [
        "."
       ]
      },
      {
       "output_type": "stream",
       "stream": "stderr",
       "text": [
        "."
       ]
      },
      {
       "output_type": "stream",
       "stream": "stderr",
       "text": [
        "."
       ]
      },
      {
       "output_type": "stream",
       "stream": "stderr",
       "text": [
        "."
       ]
      },
      {
       "output_type": "stream",
       "stream": "stderr",
       "text": [
        "."
       ]
      },
      {
       "output_type": "stream",
       "stream": "stderr",
       "text": [
        "."
       ]
      },
      {
       "output_type": "stream",
       "stream": "stderr",
       "text": [
        "."
       ]
      },
      {
       "output_type": "stream",
       "stream": "stderr",
       "text": [
        "."
       ]
      },
      {
       "output_type": "stream",
       "stream": "stderr",
       "text": [
        "."
       ]
      },
      {
       "output_type": "stream",
       "stream": "stderr",
       "text": [
        "."
       ]
      },
      {
       "output_type": "stream",
       "stream": "stderr",
       "text": [
        "."
       ]
      },
      {
       "output_type": "stream",
       "stream": "stderr",
       "text": [
        "."
       ]
      },
      {
       "output_type": "stream",
       "stream": "stderr",
       "text": [
        "."
       ]
      },
      {
       "output_type": "stream",
       "stream": "stderr",
       "text": [
        "."
       ]
      },
      {
       "output_type": "stream",
       "stream": "stderr",
       "text": [
        "."
       ]
      },
      {
       "output_type": "stream",
       "stream": "stderr",
       "text": [
        "."
       ]
      },
      {
       "output_type": "stream",
       "stream": "stderr",
       "text": [
        "."
       ]
      },
      {
       "output_type": "stream",
       "stream": "stderr",
       "text": [
        "."
       ]
      },
      {
       "output_type": "stream",
       "stream": "stderr",
       "text": [
        "."
       ]
      },
      {
       "output_type": "stream",
       "stream": "stderr",
       "text": [
        "."
       ]
      },
      {
       "output_type": "stream",
       "stream": "stderr",
       "text": [
        "."
       ]
      },
      {
       "output_type": "stream",
       "stream": "stderr",
       "text": [
        "."
       ]
      },
      {
       "output_type": "stream",
       "stream": "stderr",
       "text": [
        "."
       ]
      },
      {
       "output_type": "stream",
       "stream": "stderr",
       "text": [
        "."
       ]
      },
      {
       "output_type": "stream",
       "stream": "stderr",
       "text": [
        "."
       ]
      },
      {
       "output_type": "stream",
       "stream": "stderr",
       "text": [
        "."
       ]
      },
      {
       "output_type": "stream",
       "stream": "stderr",
       "text": [
        "."
       ]
      },
      {
       "output_type": "stream",
       "stream": "stderr",
       "text": [
        "."
       ]
      },
      {
       "output_type": "stream",
       "stream": "stderr",
       "text": [
        "."
       ]
      },
      {
       "output_type": "stream",
       "stream": "stderr",
       "text": [
        "."
       ]
      },
      {
       "output_type": "stream",
       "stream": "stderr",
       "text": [
        "."
       ]
      },
      {
       "output_type": "stream",
       "stream": "stderr",
       "text": [
        "."
       ]
      },
      {
       "output_type": "stream",
       "stream": "stderr",
       "text": [
        "."
       ]
      },
      {
       "output_type": "stream",
       "stream": "stderr",
       "text": [
        "."
       ]
      },
      {
       "output_type": "stream",
       "stream": "stderr",
       "text": [
        "."
       ]
      },
      {
       "output_type": "stream",
       "stream": "stderr",
       "text": [
        "."
       ]
      },
      {
       "output_type": "stream",
       "stream": "stderr",
       "text": [
        "."
       ]
      },
      {
       "output_type": "stream",
       "stream": "stderr",
       "text": [
        "."
       ]
      },
      {
       "output_type": "stream",
       "stream": "stderr",
       "text": [
        "."
       ]
      },
      {
       "output_type": "stream",
       "stream": "stderr",
       "text": [
        "."
       ]
      },
      {
       "output_type": "stream",
       "stream": "stderr",
       "text": [
        "."
       ]
      },
      {
       "output_type": "stream",
       "stream": "stderr",
       "text": [
        "."
       ]
      },
      {
       "output_type": "stream",
       "stream": "stderr",
       "text": [
        "."
       ]
      },
      {
       "output_type": "stream",
       "stream": "stderr",
       "text": [
        "."
       ]
      },
      {
       "output_type": "stream",
       "stream": "stderr",
       "text": [
        "."
       ]
      },
      {
       "output_type": "stream",
       "stream": "stderr",
       "text": [
        "."
       ]
      },
      {
       "output_type": "stream",
       "stream": "stderr",
       "text": [
        "."
       ]
      },
      {
       "output_type": "stream",
       "stream": "stderr",
       "text": [
        "."
       ]
      },
      {
       "output_type": "stream",
       "stream": "stderr",
       "text": [
        "."
       ]
      },
      {
       "output_type": "stream",
       "stream": "stderr",
       "text": [
        "."
       ]
      },
      {
       "output_type": "stream",
       "stream": "stderr",
       "text": [
        "."
       ]
      },
      {
       "output_type": "stream",
       "stream": "stderr",
       "text": [
        "."
       ]
      },
      {
       "output_type": "stream",
       "stream": "stderr",
       "text": [
        "."
       ]
      },
      {
       "output_type": "stream",
       "stream": "stderr",
       "text": [
        "."
       ]
      },
      {
       "output_type": "stream",
       "stream": "stderr",
       "text": [
        "."
       ]
      },
      {
       "output_type": "stream",
       "stream": "stderr",
       "text": [
        "."
       ]
      },
      {
       "output_type": "stream",
       "stream": "stderr",
       "text": [
        "."
       ]
      },
      {
       "output_type": "stream",
       "stream": "stderr",
       "text": [
        "."
       ]
      },
      {
       "output_type": "stream",
       "stream": "stderr",
       "text": [
        "."
       ]
      },
      {
       "output_type": "stream",
       "stream": "stderr",
       "text": [
        "."
       ]
      },
      {
       "output_type": "stream",
       "stream": "stderr",
       "text": [
        "."
       ]
      },
      {
       "output_type": "stream",
       "stream": "stderr",
       "text": [
        "."
       ]
      },
      {
       "output_type": "stream",
       "stream": "stderr",
       "text": [
        "."
       ]
      },
      {
       "output_type": "stream",
       "stream": "stderr",
       "text": [
        "."
       ]
      },
      {
       "output_type": "stream",
       "stream": "stderr",
       "text": [
        "."
       ]
      },
      {
       "output_type": "stream",
       "stream": "stderr",
       "text": [
        "."
       ]
      },
      {
       "output_type": "stream",
       "stream": "stderr",
       "text": [
        "."
       ]
      },
      {
       "output_type": "stream",
       "stream": "stderr",
       "text": [
        "."
       ]
      },
      {
       "output_type": "stream",
       "stream": "stderr",
       "text": [
        "."
       ]
      },
      {
       "output_type": "stream",
       "stream": "stderr",
       "text": [
        "."
       ]
      },
      {
       "output_type": "stream",
       "stream": "stderr",
       "text": [
        "."
       ]
      },
      {
       "output_type": "stream",
       "stream": "stderr",
       "text": [
        "."
       ]
      },
      {
       "output_type": "stream",
       "stream": "stderr",
       "text": [
        "."
       ]
      },
      {
       "output_type": "stream",
       "stream": "stderr",
       "text": [
        "."
       ]
      },
      {
       "output_type": "stream",
       "stream": "stderr",
       "text": [
        "."
       ]
      },
      {
       "output_type": "stream",
       "stream": "stderr",
       "text": [
        "."
       ]
      },
      {
       "output_type": "stream",
       "stream": "stderr",
       "text": [
        "."
       ]
      },
      {
       "output_type": "stream",
       "stream": "stderr",
       "text": [
        "."
       ]
      },
      {
       "output_type": "stream",
       "stream": "stderr",
       "text": [
        "."
       ]
      },
      {
       "output_type": "stream",
       "stream": "stderr",
       "text": [
        "."
       ]
      },
      {
       "output_type": "stream",
       "stream": "stderr",
       "text": [
        "."
       ]
      },
      {
       "output_type": "stream",
       "stream": "stderr",
       "text": [
        "."
       ]
      },
      {
       "output_type": "stream",
       "stream": "stderr",
       "text": [
        "."
       ]
      },
      {
       "output_type": "stream",
       "stream": "stderr",
       "text": [
        "."
       ]
      },
      {
       "output_type": "stream",
       "stream": "stderr",
       "text": [
        "."
       ]
      },
      {
       "output_type": "stream",
       "stream": "stderr",
       "text": [
        "."
       ]
      },
      {
       "output_type": "stream",
       "stream": "stderr",
       "text": [
        "."
       ]
      },
      {
       "output_type": "stream",
       "stream": "stderr",
       "text": [
        "."
       ]
      },
      {
       "output_type": "stream",
       "stream": "stderr",
       "text": [
        "."
       ]
      },
      {
       "output_type": "stream",
       "stream": "stderr",
       "text": [
        "."
       ]
      },
      {
       "output_type": "stream",
       "stream": "stderr",
       "text": [
        "."
       ]
      },
      {
       "output_type": "stream",
       "stream": "stderr",
       "text": [
        "."
       ]
      },
      {
       "output_type": "stream",
       "stream": "stderr",
       "text": [
        "."
       ]
      },
      {
       "output_type": "stream",
       "stream": "stderr",
       "text": [
        "."
       ]
      },
      {
       "output_type": "stream",
       "stream": "stderr",
       "text": [
        "."
       ]
      },
      {
       "output_type": "stream",
       "stream": "stderr",
       "text": [
        "."
       ]
      },
      {
       "output_type": "stream",
       "stream": "stderr",
       "text": [
        "."
       ]
      },
      {
       "output_type": "stream",
       "stream": "stderr",
       "text": [
        "."
       ]
      },
      {
       "output_type": "stream",
       "stream": "stderr",
       "text": [
        "."
       ]
      },
      {
       "output_type": "stream",
       "stream": "stderr",
       "text": [
        "."
       ]
      },
      {
       "output_type": "stream",
       "stream": "stderr",
       "text": [
        "."
       ]
      },
      {
       "output_type": "stream",
       "stream": "stderr",
       "text": [
        "."
       ]
      },
      {
       "output_type": "stream",
       "stream": "stderr",
       "text": [
        "."
       ]
      },
      {
       "output_type": "stream",
       "stream": "stderr",
       "text": [
        "."
       ]
      },
      {
       "output_type": "stream",
       "stream": "stderr",
       "text": [
        "."
       ]
      },
      {
       "output_type": "stream",
       "stream": "stderr",
       "text": [
        "."
       ]
      },
      {
       "output_type": "stream",
       "stream": "stderr",
       "text": [
        "."
       ]
      },
      {
       "output_type": "stream",
       "stream": "stderr",
       "text": [
        "."
       ]
      },
      {
       "output_type": "stream",
       "stream": "stderr",
       "text": [
        "."
       ]
      },
      {
       "output_type": "stream",
       "stream": "stderr",
       "text": [
        "."
       ]
      },
      {
       "output_type": "stream",
       "stream": "stderr",
       "text": [
        "."
       ]
      },
      {
       "output_type": "stream",
       "stream": "stderr",
       "text": [
        "."
       ]
      },
      {
       "output_type": "stream",
       "stream": "stderr",
       "text": [
        "."
       ]
      },
      {
       "output_type": "stream",
       "stream": "stderr",
       "text": [
        "."
       ]
      },
      {
       "output_type": "stream",
       "stream": "stderr",
       "text": [
        "."
       ]
      },
      {
       "output_type": "stream",
       "stream": "stderr",
       "text": [
        "."
       ]
      },
      {
       "output_type": "stream",
       "stream": "stderr",
       "text": [
        "."
       ]
      },
      {
       "output_type": "stream",
       "stream": "stderr",
       "text": [
        "."
       ]
      },
      {
       "output_type": "stream",
       "stream": "stderr",
       "text": [
        "."
       ]
      },
      {
       "output_type": "stream",
       "stream": "stderr",
       "text": [
        "."
       ]
      },
      {
       "output_type": "stream",
       "stream": "stderr",
       "text": [
        "."
       ]
      },
      {
       "output_type": "stream",
       "stream": "stderr",
       "text": [
        "."
       ]
      },
      {
       "output_type": "stream",
       "stream": "stderr",
       "text": [
        "."
       ]
      },
      {
       "output_type": "stream",
       "stream": "stderr",
       "text": [
        "."
       ]
      },
      {
       "output_type": "stream",
       "stream": "stderr",
       "text": [
        "."
       ]
      },
      {
       "output_type": "stream",
       "stream": "stderr",
       "text": [
        "."
       ]
      },
      {
       "output_type": "stream",
       "stream": "stderr",
       "text": [
        "."
       ]
      },
      {
       "output_type": "stream",
       "stream": "stderr",
       "text": [
        "."
       ]
      },
      {
       "output_type": "stream",
       "stream": "stderr",
       "text": [
        "."
       ]
      },
      {
       "output_type": "stream",
       "stream": "stderr",
       "text": [
        "."
       ]
      },
      {
       "output_type": "stream",
       "stream": "stderr",
       "text": [
        "."
       ]
      },
      {
       "output_type": "stream",
       "stream": "stderr",
       "text": [
        "."
       ]
      },
      {
       "output_type": "stream",
       "stream": "stderr",
       "text": [
        "."
       ]
      },
      {
       "output_type": "stream",
       "stream": "stderr",
       "text": [
        "."
       ]
      },
      {
       "output_type": "stream",
       "stream": "stderr",
       "text": [
        "."
       ]
      },
      {
       "output_type": "stream",
       "stream": "stderr",
       "text": [
        "."
       ]
      },
      {
       "output_type": "stream",
       "stream": "stderr",
       "text": [
        "."
       ]
      },
      {
       "output_type": "stream",
       "stream": "stderr",
       "text": [
        "."
       ]
      },
      {
       "output_type": "stream",
       "stream": "stderr",
       "text": [
        "."
       ]
      },
      {
       "output_type": "stream",
       "stream": "stderr",
       "text": [
        "."
       ]
      },
      {
       "output_type": "stream",
       "stream": "stderr",
       "text": [
        "."
       ]
      },
      {
       "output_type": "stream",
       "stream": "stderr",
       "text": [
        "."
       ]
      },
      {
       "output_type": "stream",
       "stream": "stderr",
       "text": [
        "."
       ]
      },
      {
       "output_type": "stream",
       "stream": "stderr",
       "text": [
        "."
       ]
      },
      {
       "output_type": "stream",
       "stream": "stderr",
       "text": [
        "."
       ]
      },
      {
       "output_type": "stream",
       "stream": "stderr",
       "text": [
        "."
       ]
      },
      {
       "output_type": "stream",
       "stream": "stderr",
       "text": [
        "."
       ]
      },
      {
       "output_type": "stream",
       "stream": "stderr",
       "text": [
        "."
       ]
      },
      {
       "output_type": "stream",
       "stream": "stderr",
       "text": [
        "."
       ]
      },
      {
       "output_type": "stream",
       "stream": "stderr",
       "text": [
        "."
       ]
      },
      {
       "output_type": "stream",
       "stream": "stderr",
       "text": [
        "."
       ]
      },
      {
       "output_type": "stream",
       "stream": "stderr",
       "text": [
        "."
       ]
      },
      {
       "output_type": "stream",
       "stream": "stderr",
       "text": [
        "."
       ]
      },
      {
       "output_type": "stream",
       "stream": "stderr",
       "text": [
        "."
       ]
      },
      {
       "output_type": "stream",
       "stream": "stderr",
       "text": [
        "."
       ]
      },
      {
       "output_type": "stream",
       "stream": "stderr",
       "text": [
        "."
       ]
      },
      {
       "output_type": "stream",
       "stream": "stderr",
       "text": [
        "."
       ]
      },
      {
       "output_type": "stream",
       "stream": "stderr",
       "text": [
        "."
       ]
      },
      {
       "output_type": "stream",
       "stream": "stderr",
       "text": [
        "."
       ]
      },
      {
       "output_type": "stream",
       "stream": "stderr",
       "text": [
        "."
       ]
      },
      {
       "output_type": "stream",
       "stream": "stderr",
       "text": [
        "."
       ]
      },
      {
       "output_type": "stream",
       "stream": "stderr",
       "text": [
        "."
       ]
      },
      {
       "output_type": "stream",
       "stream": "stderr",
       "text": [
        "."
       ]
      },
      {
       "output_type": "stream",
       "stream": "stderr",
       "text": [
        "."
       ]
      },
      {
       "output_type": "stream",
       "stream": "stderr",
       "text": [
        "."
       ]
      },
      {
       "output_type": "stream",
       "stream": "stderr",
       "text": [
        "."
       ]
      },
      {
       "output_type": "stream",
       "stream": "stderr",
       "text": [
        "."
       ]
      },
      {
       "output_type": "stream",
       "stream": "stderr",
       "text": [
        "."
       ]
      },
      {
       "output_type": "stream",
       "stream": "stderr",
       "text": [
        "."
       ]
      },
      {
       "output_type": "stream",
       "stream": "stderr",
       "text": [
        "."
       ]
      },
      {
       "output_type": "stream",
       "stream": "stderr",
       "text": [
        "."
       ]
      },
      {
       "output_type": "stream",
       "stream": "stderr",
       "text": [
        "."
       ]
      },
      {
       "output_type": "stream",
       "stream": "stderr",
       "text": [
        "."
       ]
      },
      {
       "output_type": "stream",
       "stream": "stderr",
       "text": [
        "."
       ]
      },
      {
       "output_type": "stream",
       "stream": "stderr",
       "text": [
        "."
       ]
      },
      {
       "output_type": "stream",
       "stream": "stderr",
       "text": [
        "."
       ]
      },
      {
       "output_type": "stream",
       "stream": "stderr",
       "text": [
        "."
       ]
      },
      {
       "output_type": "stream",
       "stream": "stderr",
       "text": [
        "."
       ]
      },
      {
       "output_type": "stream",
       "stream": "stderr",
       "text": [
        "."
       ]
      },
      {
       "output_type": "stream",
       "stream": "stderr",
       "text": [
        "."
       ]
      },
      {
       "output_type": "stream",
       "stream": "stderr",
       "text": [
        "."
       ]
      },
      {
       "output_type": "stream",
       "stream": "stderr",
       "text": [
        "."
       ]
      },
      {
       "output_type": "stream",
       "stream": "stderr",
       "text": [
        "."
       ]
      },
      {
       "output_type": "stream",
       "stream": "stderr",
       "text": [
        "."
       ]
      },
      {
       "output_type": "stream",
       "stream": "stderr",
       "text": [
        "."
       ]
      },
      {
       "output_type": "stream",
       "stream": "stderr",
       "text": [
        "."
       ]
      },
      {
       "output_type": "stream",
       "stream": "stderr",
       "text": [
        "."
       ]
      },
      {
       "output_type": "stream",
       "stream": "stderr",
       "text": [
        "."
       ]
      },
      {
       "output_type": "stream",
       "stream": "stderr",
       "text": [
        "."
       ]
      },
      {
       "output_type": "stream",
       "stream": "stderr",
       "text": [
        "."
       ]
      },
      {
       "output_type": "stream",
       "stream": "stderr",
       "text": [
        "."
       ]
      },
      {
       "output_type": "stream",
       "stream": "stderr",
       "text": [
        "."
       ]
      },
      {
       "output_type": "stream",
       "stream": "stderr",
       "text": [
        "."
       ]
      },
      {
       "output_type": "stream",
       "stream": "stderr",
       "text": [
        "."
       ]
      },
      {
       "output_type": "stream",
       "stream": "stderr",
       "text": [
        "."
       ]
      },
      {
       "output_type": "stream",
       "stream": "stderr",
       "text": [
        "."
       ]
      },
      {
       "output_type": "stream",
       "stream": "stderr",
       "text": [
        "."
       ]
      },
      {
       "output_type": "stream",
       "stream": "stderr",
       "text": [
        "."
       ]
      },
      {
       "output_type": "stream",
       "stream": "stderr",
       "text": [
        "."
       ]
      },
      {
       "output_type": "stream",
       "stream": "stderr",
       "text": [
        "."
       ]
      },
      {
       "output_type": "stream",
       "stream": "stderr",
       "text": [
        "."
       ]
      },
      {
       "output_type": "stream",
       "stream": "stderr",
       "text": [
        "."
       ]
      },
      {
       "output_type": "stream",
       "stream": "stderr",
       "text": [
        "."
       ]
      },
      {
       "output_type": "stream",
       "stream": "stderr",
       "text": [
        "."
       ]
      },
      {
       "output_type": "stream",
       "stream": "stderr",
       "text": [
        "."
       ]
      },
      {
       "output_type": "stream",
       "stream": "stderr",
       "text": [
        "."
       ]
      },
      {
       "output_type": "stream",
       "stream": "stderr",
       "text": [
        "."
       ]
      },
      {
       "output_type": "stream",
       "stream": "stderr",
       "text": [
        "."
       ]
      },
      {
       "output_type": "stream",
       "stream": "stderr",
       "text": [
        "."
       ]
      },
      {
       "output_type": "stream",
       "stream": "stderr",
       "text": [
        "."
       ]
      },
      {
       "output_type": "stream",
       "stream": "stderr",
       "text": [
        "."
       ]
      },
      {
       "output_type": "stream",
       "stream": "stderr",
       "text": [
        "."
       ]
      },
      {
       "output_type": "stream",
       "stream": "stderr",
       "text": [
        "."
       ]
      },
      {
       "output_type": "stream",
       "stream": "stderr",
       "text": [
        "."
       ]
      },
      {
       "output_type": "stream",
       "stream": "stderr",
       "text": [
        "."
       ]
      },
      {
       "output_type": "stream",
       "stream": "stderr",
       "text": [
        "."
       ]
      },
      {
       "output_type": "stream",
       "stream": "stderr",
       "text": [
        "."
       ]
      },
      {
       "output_type": "stream",
       "stream": "stderr",
       "text": [
        "."
       ]
      },
      {
       "output_type": "stream",
       "stream": "stderr",
       "text": [
        "."
       ]
      },
      {
       "output_type": "stream",
       "stream": "stderr",
       "text": [
        "."
       ]
      },
      {
       "output_type": "stream",
       "stream": "stderr",
       "text": [
        "."
       ]
      },
      {
       "output_type": "stream",
       "stream": "stderr",
       "text": [
        "."
       ]
      },
      {
       "output_type": "stream",
       "stream": "stderr",
       "text": [
        "."
       ]
      },
      {
       "output_type": "stream",
       "stream": "stderr",
       "text": [
        "."
       ]
      },
      {
       "output_type": "stream",
       "stream": "stderr",
       "text": [
        "."
       ]
      },
      {
       "output_type": "stream",
       "stream": "stderr",
       "text": [
        "."
       ]
      },
      {
       "output_type": "stream",
       "stream": "stderr",
       "text": [
        "."
       ]
      },
      {
       "output_type": "stream",
       "stream": "stderr",
       "text": [
        "."
       ]
      },
      {
       "output_type": "stream",
       "stream": "stderr",
       "text": [
        "."
       ]
      },
      {
       "output_type": "stream",
       "stream": "stderr",
       "text": [
        "."
       ]
      },
      {
       "output_type": "stream",
       "stream": "stderr",
       "text": [
        "."
       ]
      },
      {
       "output_type": "stream",
       "stream": "stderr",
       "text": [
        "."
       ]
      },
      {
       "output_type": "stream",
       "stream": "stderr",
       "text": [
        "."
       ]
      },
      {
       "output_type": "stream",
       "stream": "stderr",
       "text": [
        "."
       ]
      },
      {
       "output_type": "stream",
       "stream": "stderr",
       "text": [
        "."
       ]
      },
      {
       "output_type": "stream",
       "stream": "stderr",
       "text": [
        "."
       ]
      },
      {
       "output_type": "stream",
       "stream": "stderr",
       "text": [
        "."
       ]
      },
      {
       "output_type": "stream",
       "stream": "stderr",
       "text": [
        "."
       ]
      },
      {
       "output_type": "stream",
       "stream": "stderr",
       "text": [
        "."
       ]
      },
      {
       "output_type": "stream",
       "stream": "stderr",
       "text": [
        "."
       ]
      },
      {
       "output_type": "stream",
       "stream": "stderr",
       "text": [
        "."
       ]
      },
      {
       "output_type": "stream",
       "stream": "stderr",
       "text": [
        "."
       ]
      },
      {
       "output_type": "stream",
       "stream": "stderr",
       "text": [
        "."
       ]
      },
      {
       "output_type": "stream",
       "stream": "stderr",
       "text": [
        "."
       ]
      },
      {
       "output_type": "stream",
       "stream": "stderr",
       "text": [
        "."
       ]
      },
      {
       "output_type": "stream",
       "stream": "stderr",
       "text": [
        "."
       ]
      },
      {
       "output_type": "stream",
       "stream": "stderr",
       "text": [
        "."
       ]
      },
      {
       "output_type": "stream",
       "stream": "stderr",
       "text": [
        "."
       ]
      },
      {
       "output_type": "stream",
       "stream": "stderr",
       "text": [
        "."
       ]
      },
      {
       "output_type": "stream",
       "stream": "stderr",
       "text": [
        "."
       ]
      },
      {
       "output_type": "stream",
       "stream": "stderr",
       "text": [
        "."
       ]
      },
      {
       "output_type": "stream",
       "stream": "stderr",
       "text": [
        "."
       ]
      },
      {
       "output_type": "stream",
       "stream": "stderr",
       "text": [
        "."
       ]
      },
      {
       "output_type": "stream",
       "stream": "stderr",
       "text": [
        "."
       ]
      },
      {
       "output_type": "stream",
       "stream": "stderr",
       "text": [
        "."
       ]
      },
      {
       "output_type": "stream",
       "stream": "stderr",
       "text": [
        "."
       ]
      },
      {
       "output_type": "stream",
       "stream": "stderr",
       "text": [
        "."
       ]
      },
      {
       "output_type": "stream",
       "stream": "stderr",
       "text": [
        "."
       ]
      },
      {
       "output_type": "stream",
       "stream": "stderr",
       "text": [
        "."
       ]
      },
      {
       "output_type": "stream",
       "stream": "stderr",
       "text": [
        "."
       ]
      },
      {
       "output_type": "stream",
       "stream": "stderr",
       "text": [
        "."
       ]
      },
      {
       "output_type": "stream",
       "stream": "stderr",
       "text": [
        "."
       ]
      },
      {
       "output_type": "stream",
       "stream": "stderr",
       "text": [
        "."
       ]
      },
      {
       "output_type": "stream",
       "stream": "stderr",
       "text": [
        "."
       ]
      },
      {
       "output_type": "stream",
       "stream": "stderr",
       "text": [
        "."
       ]
      },
      {
       "output_type": "stream",
       "stream": "stderr",
       "text": [
        "."
       ]
      },
      {
       "output_type": "stream",
       "stream": "stderr",
       "text": [
        "."
       ]
      },
      {
       "output_type": "stream",
       "stream": "stderr",
       "text": [
        "."
       ]
      },
      {
       "output_type": "stream",
       "stream": "stderr",
       "text": [
        "."
       ]
      },
      {
       "output_type": "stream",
       "stream": "stderr",
       "text": [
        "."
       ]
      },
      {
       "output_type": "stream",
       "stream": "stderr",
       "text": [
        "."
       ]
      },
      {
       "output_type": "stream",
       "stream": "stderr",
       "text": [
        "."
       ]
      },
      {
       "output_type": "stream",
       "stream": "stderr",
       "text": [
        "."
       ]
      },
      {
       "output_type": "stream",
       "stream": "stderr",
       "text": [
        "."
       ]
      },
      {
       "output_type": "stream",
       "stream": "stderr",
       "text": [
        "."
       ]
      },
      {
       "output_type": "stream",
       "stream": "stderr",
       "text": [
        "."
       ]
      },
      {
       "output_type": "stream",
       "stream": "stderr",
       "text": [
        "."
       ]
      },
      {
       "output_type": "stream",
       "stream": "stderr",
       "text": [
        "."
       ]
      },
      {
       "output_type": "stream",
       "stream": "stderr",
       "text": [
        "."
       ]
      },
      {
       "output_type": "stream",
       "stream": "stderr",
       "text": [
        "."
       ]
      },
      {
       "output_type": "stream",
       "stream": "stderr",
       "text": [
        "."
       ]
      },
      {
       "output_type": "stream",
       "stream": "stderr",
       "text": [
        "."
       ]
      },
      {
       "output_type": "stream",
       "stream": "stderr",
       "text": [
        "."
       ]
      },
      {
       "output_type": "stream",
       "stream": "stderr",
       "text": [
        "."
       ]
      },
      {
       "output_type": "stream",
       "stream": "stderr",
       "text": [
        "."
       ]
      },
      {
       "output_type": "stream",
       "stream": "stderr",
       "text": [
        "."
       ]
      },
      {
       "output_type": "stream",
       "stream": "stderr",
       "text": [
        "."
       ]
      },
      {
       "output_type": "stream",
       "stream": "stderr",
       "text": [
        "."
       ]
      },
      {
       "output_type": "stream",
       "stream": "stderr",
       "text": [
        "."
       ]
      },
      {
       "output_type": "stream",
       "stream": "stderr",
       "text": [
        "."
       ]
      },
      {
       "output_type": "stream",
       "stream": "stderr",
       "text": [
        "."
       ]
      },
      {
       "output_type": "stream",
       "stream": "stderr",
       "text": [
        "."
       ]
      },
      {
       "output_type": "stream",
       "stream": "stderr",
       "text": [
        "."
       ]
      },
      {
       "output_type": "stream",
       "stream": "stderr",
       "text": [
        "."
       ]
      },
      {
       "output_type": "stream",
       "stream": "stderr",
       "text": [
        "."
       ]
      },
      {
       "output_type": "stream",
       "stream": "stderr",
       "text": [
        "."
       ]
      },
      {
       "output_type": "stream",
       "stream": "stderr",
       "text": [
        "."
       ]
      },
      {
       "output_type": "stream",
       "stream": "stderr",
       "text": [
        "."
       ]
      },
      {
       "output_type": "stream",
       "stream": "stderr",
       "text": [
        "."
       ]
      },
      {
       "output_type": "stream",
       "stream": "stderr",
       "text": [
        "."
       ]
      },
      {
       "output_type": "stream",
       "stream": "stderr",
       "text": [
        "."
       ]
      },
      {
       "output_type": "stream",
       "stream": "stderr",
       "text": [
        "."
       ]
      },
      {
       "output_type": "stream",
       "stream": "stderr",
       "text": [
        "."
       ]
      },
      {
       "output_type": "stream",
       "stream": "stderr",
       "text": [
        "."
       ]
      },
      {
       "output_type": "stream",
       "stream": "stderr",
       "text": [
        "."
       ]
      },
      {
       "output_type": "stream",
       "stream": "stderr",
       "text": [
        "."
       ]
      },
      {
       "output_type": "stream",
       "stream": "stderr",
       "text": [
        "."
       ]
      },
      {
       "output_type": "stream",
       "stream": "stderr",
       "text": [
        "."
       ]
      },
      {
       "output_type": "stream",
       "stream": "stderr",
       "text": [
        "."
       ]
      },
      {
       "output_type": "stream",
       "stream": "stderr",
       "text": [
        "."
       ]
      },
      {
       "output_type": "stream",
       "stream": "stderr",
       "text": [
        "."
       ]
      },
      {
       "output_type": "stream",
       "stream": "stderr",
       "text": [
        "."
       ]
      },
      {
       "output_type": "stream",
       "stream": "stderr",
       "text": [
        "."
       ]
      },
      {
       "output_type": "stream",
       "stream": "stderr",
       "text": [
        "."
       ]
      },
      {
       "output_type": "stream",
       "stream": "stderr",
       "text": [
        "."
       ]
      },
      {
       "output_type": "stream",
       "stream": "stderr",
       "text": [
        "."
       ]
      },
      {
       "output_type": "stream",
       "stream": "stderr",
       "text": [
        "."
       ]
      },
      {
       "output_type": "stream",
       "stream": "stderr",
       "text": [
        "."
       ]
      },
      {
       "output_type": "stream",
       "stream": "stderr",
       "text": [
        "."
       ]
      },
      {
       "output_type": "stream",
       "stream": "stderr",
       "text": [
        "."
       ]
      },
      {
       "output_type": "stream",
       "stream": "stderr",
       "text": [
        "."
       ]
      },
      {
       "output_type": "stream",
       "stream": "stderr",
       "text": [
        "."
       ]
      },
      {
       "output_type": "stream",
       "stream": "stderr",
       "text": [
        "."
       ]
      },
      {
       "output_type": "stream",
       "stream": "stderr",
       "text": [
        "."
       ]
      },
      {
       "output_type": "stream",
       "stream": "stderr",
       "text": [
        "."
       ]
      },
      {
       "output_type": "stream",
       "stream": "stderr",
       "text": [
        "."
       ]
      },
      {
       "output_type": "stream",
       "stream": "stderr",
       "text": [
        "."
       ]
      },
      {
       "output_type": "stream",
       "stream": "stderr",
       "text": [
        "."
       ]
      },
      {
       "output_type": "stream",
       "stream": "stderr",
       "text": [
        "."
       ]
      },
      {
       "output_type": "stream",
       "stream": "stderr",
       "text": [
        "."
       ]
      },
      {
       "output_type": "stream",
       "stream": "stderr",
       "text": [
        "."
       ]
      },
      {
       "output_type": "stream",
       "stream": "stderr",
       "text": [
        "."
       ]
      },
      {
       "output_type": "stream",
       "stream": "stderr",
       "text": [
        "."
       ]
      },
      {
       "output_type": "stream",
       "stream": "stderr",
       "text": [
        "."
       ]
      },
      {
       "output_type": "stream",
       "stream": "stderr",
       "text": [
        "."
       ]
      },
      {
       "output_type": "stream",
       "stream": "stderr",
       "text": [
        "."
       ]
      },
      {
       "output_type": "stream",
       "stream": "stderr",
       "text": [
        "."
       ]
      },
      {
       "output_type": "stream",
       "stream": "stderr",
       "text": [
        "."
       ]
      },
      {
       "output_type": "stream",
       "stream": "stderr",
       "text": [
        "."
       ]
      },
      {
       "output_type": "stream",
       "stream": "stderr",
       "text": [
        "."
       ]
      },
      {
       "output_type": "stream",
       "stream": "stderr",
       "text": [
        "."
       ]
      },
      {
       "output_type": "stream",
       "stream": "stderr",
       "text": [
        "."
       ]
      },
      {
       "output_type": "stream",
       "stream": "stderr",
       "text": [
        "."
       ]
      },
      {
       "output_type": "stream",
       "stream": "stderr",
       "text": [
        "."
       ]
      },
      {
       "output_type": "stream",
       "stream": "stderr",
       "text": [
        "."
       ]
      },
      {
       "output_type": "stream",
       "stream": "stderr",
       "text": [
        "."
       ]
      },
      {
       "output_type": "stream",
       "stream": "stderr",
       "text": [
        "."
       ]
      },
      {
       "output_type": "stream",
       "stream": "stderr",
       "text": [
        "."
       ]
      },
      {
       "output_type": "stream",
       "stream": "stderr",
       "text": [
        "."
       ]
      },
      {
       "output_type": "stream",
       "stream": "stderr",
       "text": [
        "."
       ]
      },
      {
       "output_type": "stream",
       "stream": "stderr",
       "text": [
        "."
       ]
      },
      {
       "output_type": "stream",
       "stream": "stderr",
       "text": [
        "."
       ]
      },
      {
       "output_type": "stream",
       "stream": "stderr",
       "text": [
        "."
       ]
      },
      {
       "output_type": "stream",
       "stream": "stderr",
       "text": [
        "."
       ]
      },
      {
       "output_type": "stream",
       "stream": "stderr",
       "text": [
        "."
       ]
      },
      {
       "output_type": "stream",
       "stream": "stderr",
       "text": [
        "."
       ]
      },
      {
       "output_type": "stream",
       "stream": "stderr",
       "text": [
        "."
       ]
      },
      {
       "output_type": "stream",
       "stream": "stderr",
       "text": [
        "."
       ]
      },
      {
       "output_type": "stream",
       "stream": "stderr",
       "text": [
        "."
       ]
      },
      {
       "output_type": "stream",
       "stream": "stderr",
       "text": [
        "."
       ]
      },
      {
       "output_type": "stream",
       "stream": "stderr",
       "text": [
        "."
       ]
      },
      {
       "output_type": "stream",
       "stream": "stderr",
       "text": [
        "."
       ]
      },
      {
       "output_type": "stream",
       "stream": "stderr",
       "text": [
        "."
       ]
      },
      {
       "output_type": "stream",
       "stream": "stderr",
       "text": [
        "."
       ]
      },
      {
       "output_type": "stream",
       "stream": "stderr",
       "text": [
        "."
       ]
      },
      {
       "output_type": "stream",
       "stream": "stderr",
       "text": [
        "."
       ]
      },
      {
       "output_type": "stream",
       "stream": "stderr",
       "text": [
        "."
       ]
      },
      {
       "output_type": "stream",
       "stream": "stderr",
       "text": [
        "."
       ]
      },
      {
       "output_type": "stream",
       "stream": "stderr",
       "text": [
        "."
       ]
      },
      {
       "output_type": "stream",
       "stream": "stderr",
       "text": [
        "."
       ]
      },
      {
       "output_type": "stream",
       "stream": "stderr",
       "text": [
        "."
       ]
      },
      {
       "output_type": "stream",
       "stream": "stderr",
       "text": [
        "."
       ]
      },
      {
       "output_type": "stream",
       "stream": "stderr",
       "text": [
        "."
       ]
      },
      {
       "output_type": "stream",
       "stream": "stderr",
       "text": [
        "."
       ]
      },
      {
       "output_type": "stream",
       "stream": "stderr",
       "text": [
        "."
       ]
      },
      {
       "output_type": "stream",
       "stream": "stderr",
       "text": [
        "."
       ]
      },
      {
       "output_type": "stream",
       "stream": "stderr",
       "text": [
        "."
       ]
      },
      {
       "output_type": "stream",
       "stream": "stderr",
       "text": [
        "."
       ]
      },
      {
       "output_type": "stream",
       "stream": "stderr",
       "text": [
        "."
       ]
      },
      {
       "output_type": "stream",
       "stream": "stderr",
       "text": [
        "."
       ]
      },
      {
       "output_type": "stream",
       "stream": "stderr",
       "text": [
        "."
       ]
      },
      {
       "output_type": "stream",
       "stream": "stderr",
       "text": [
        "."
       ]
      },
      {
       "output_type": "stream",
       "stream": "stderr",
       "text": [
        "."
       ]
      },
      {
       "output_type": "stream",
       "stream": "stderr",
       "text": [
        "."
       ]
      },
      {
       "output_type": "stream",
       "stream": "stderr",
       "text": [
        "."
       ]
      },
      {
       "output_type": "stream",
       "stream": "stderr",
       "text": [
        "."
       ]
      },
      {
       "output_type": "stream",
       "stream": "stderr",
       "text": [
        "."
       ]
      },
      {
       "output_type": "stream",
       "stream": "stderr",
       "text": [
        "."
       ]
      },
      {
       "output_type": "stream",
       "stream": "stderr",
       "text": [
        "."
       ]
      },
      {
       "output_type": "stream",
       "stream": "stderr",
       "text": [
        "."
       ]
      },
      {
       "output_type": "stream",
       "stream": "stderr",
       "text": [
        "."
       ]
      },
      {
       "output_type": "stream",
       "stream": "stderr",
       "text": [
        "."
       ]
      },
      {
       "output_type": "stream",
       "stream": "stderr",
       "text": [
        "."
       ]
      },
      {
       "output_type": "stream",
       "stream": "stderr",
       "text": [
        "."
       ]
      },
      {
       "output_type": "stream",
       "stream": "stderr",
       "text": [
        "."
       ]
      },
      {
       "output_type": "stream",
       "stream": "stderr",
       "text": [
        "."
       ]
      },
      {
       "output_type": "stream",
       "stream": "stderr",
       "text": [
        "."
       ]
      },
      {
       "output_type": "stream",
       "stream": "stderr",
       "text": [
        "."
       ]
      },
      {
       "output_type": "stream",
       "stream": "stderr",
       "text": [
        "."
       ]
      },
      {
       "output_type": "stream",
       "stream": "stderr",
       "text": [
        "."
       ]
      },
      {
       "output_type": "stream",
       "stream": "stderr",
       "text": [
        "."
       ]
      },
      {
       "output_type": "stream",
       "stream": "stderr",
       "text": [
        "."
       ]
      },
      {
       "output_type": "stream",
       "stream": "stderr",
       "text": [
        "."
       ]
      },
      {
       "output_type": "stream",
       "stream": "stderr",
       "text": [
        "."
       ]
      },
      {
       "output_type": "stream",
       "stream": "stderr",
       "text": [
        "."
       ]
      },
      {
       "output_type": "stream",
       "stream": "stderr",
       "text": [
        "."
       ]
      },
      {
       "output_type": "stream",
       "stream": "stderr",
       "text": [
        "."
       ]
      },
      {
       "output_type": "stream",
       "stream": "stderr",
       "text": [
        "."
       ]
      },
      {
       "output_type": "stream",
       "stream": "stderr",
       "text": [
        "."
       ]
      },
      {
       "output_type": "stream",
       "stream": "stderr",
       "text": [
        "."
       ]
      },
      {
       "output_type": "stream",
       "stream": "stderr",
       "text": [
        "."
       ]
      },
      {
       "output_type": "stream",
       "stream": "stderr",
       "text": [
        "."
       ]
      },
      {
       "output_type": "stream",
       "stream": "stderr",
       "text": [
        "."
       ]
      },
      {
       "output_type": "stream",
       "stream": "stderr",
       "text": [
        "."
       ]
      },
      {
       "output_type": "stream",
       "stream": "stderr",
       "text": [
        "."
       ]
      },
      {
       "output_type": "stream",
       "stream": "stderr",
       "text": [
        "."
       ]
      },
      {
       "output_type": "stream",
       "stream": "stderr",
       "text": [
        "."
       ]
      },
      {
       "output_type": "stream",
       "stream": "stderr",
       "text": [
        "."
       ]
      },
      {
       "output_type": "stream",
       "stream": "stderr",
       "text": [
        "."
       ]
      },
      {
       "output_type": "stream",
       "stream": "stderr",
       "text": [
        "."
       ]
      },
      {
       "output_type": "stream",
       "stream": "stderr",
       "text": [
        "."
       ]
      },
      {
       "output_type": "stream",
       "stream": "stderr",
       "text": [
        "."
       ]
      },
      {
       "output_type": "stream",
       "stream": "stderr",
       "text": [
        "."
       ]
      },
      {
       "output_type": "stream",
       "stream": "stderr",
       "text": [
        "."
       ]
      },
      {
       "output_type": "stream",
       "stream": "stderr",
       "text": [
        "."
       ]
      },
      {
       "output_type": "stream",
       "stream": "stderr",
       "text": [
        "."
       ]
      },
      {
       "output_type": "stream",
       "stream": "stderr",
       "text": [
        "."
       ]
      },
      {
       "output_type": "stream",
       "stream": "stderr",
       "text": [
        "."
       ]
      },
      {
       "output_type": "stream",
       "stream": "stderr",
       "text": [
        "."
       ]
      },
      {
       "output_type": "stream",
       "stream": "stderr",
       "text": [
        "."
       ]
      },
      {
       "output_type": "stream",
       "stream": "stderr",
       "text": [
        "."
       ]
      },
      {
       "output_type": "stream",
       "stream": "stderr",
       "text": [
        "."
       ]
      },
      {
       "output_type": "stream",
       "stream": "stderr",
       "text": [
        "."
       ]
      },
      {
       "output_type": "stream",
       "stream": "stderr",
       "text": [
        "."
       ]
      },
      {
       "output_type": "stream",
       "stream": "stderr",
       "text": [
        "."
       ]
      },
      {
       "output_type": "stream",
       "stream": "stderr",
       "text": [
        "."
       ]
      },
      {
       "output_type": "stream",
       "stream": "stderr",
       "text": [
        "."
       ]
      },
      {
       "output_type": "stream",
       "stream": "stderr",
       "text": [
        "."
       ]
      },
      {
       "output_type": "stream",
       "stream": "stderr",
       "text": [
        "."
       ]
      },
      {
       "output_type": "stream",
       "stream": "stderr",
       "text": [
        "."
       ]
      },
      {
       "output_type": "stream",
       "stream": "stderr",
       "text": [
        "."
       ]
      },
      {
       "output_type": "stream",
       "stream": "stderr",
       "text": [
        "."
       ]
      },
      {
       "output_type": "stream",
       "stream": "stderr",
       "text": [
        "."
       ]
      },
      {
       "output_type": "stream",
       "stream": "stderr",
       "text": [
        "."
       ]
      },
      {
       "output_type": "stream",
       "stream": "stderr",
       "text": [
        "."
       ]
      },
      {
       "output_type": "stream",
       "stream": "stderr",
       "text": [
        "."
       ]
      },
      {
       "output_type": "stream",
       "stream": "stderr",
       "text": [
        "."
       ]
      },
      {
       "output_type": "stream",
       "stream": "stderr",
       "text": [
        "."
       ]
      },
      {
       "output_type": "stream",
       "stream": "stderr",
       "text": [
        "."
       ]
      },
      {
       "output_type": "stream",
       "stream": "stderr",
       "text": [
        "."
       ]
      },
      {
       "output_type": "stream",
       "stream": "stderr",
       "text": [
        "."
       ]
      },
      {
       "output_type": "stream",
       "stream": "stderr",
       "text": [
        "."
       ]
      },
      {
       "output_type": "stream",
       "stream": "stderr",
       "text": [
        "."
       ]
      },
      {
       "output_type": "stream",
       "stream": "stderr",
       "text": [
        "."
       ]
      },
      {
       "output_type": "stream",
       "stream": "stderr",
       "text": [
        "."
       ]
      },
      {
       "output_type": "stream",
       "stream": "stderr",
       "text": [
        "."
       ]
      },
      {
       "output_type": "stream",
       "stream": "stderr",
       "text": [
        "."
       ]
      },
      {
       "output_type": "stream",
       "stream": "stderr",
       "text": [
        "."
       ]
      },
      {
       "output_type": "stream",
       "stream": "stderr",
       "text": [
        "."
       ]
      },
      {
       "output_type": "stream",
       "stream": "stderr",
       "text": [
        "."
       ]
      },
      {
       "output_type": "stream",
       "stream": "stderr",
       "text": [
        "."
       ]
      },
      {
       "output_type": "stream",
       "stream": "stderr",
       "text": [
        "."
       ]
      },
      {
       "output_type": "stream",
       "stream": "stderr",
       "text": [
        "."
       ]
      },
      {
       "output_type": "stream",
       "stream": "stderr",
       "text": [
        "."
       ]
      },
      {
       "output_type": "stream",
       "stream": "stderr",
       "text": [
        "."
       ]
      },
      {
       "output_type": "stream",
       "stream": "stderr",
       "text": [
        "."
       ]
      },
      {
       "output_type": "stream",
       "stream": "stderr",
       "text": [
        "."
       ]
      },
      {
       "output_type": "stream",
       "stream": "stderr",
       "text": [
        "."
       ]
      },
      {
       "output_type": "stream",
       "stream": "stderr",
       "text": [
        "."
       ]
      },
      {
       "output_type": "stream",
       "stream": "stderr",
       "text": [
        "."
       ]
      },
      {
       "output_type": "stream",
       "stream": "stderr",
       "text": [
        "."
       ]
      },
      {
       "output_type": "stream",
       "stream": "stderr",
       "text": [
        "."
       ]
      },
      {
       "output_type": "stream",
       "stream": "stderr",
       "text": [
        "."
       ]
      },
      {
       "output_type": "stream",
       "stream": "stderr",
       "text": [
        "."
       ]
      },
      {
       "output_type": "stream",
       "stream": "stderr",
       "text": [
        "."
       ]
      },
      {
       "output_type": "stream",
       "stream": "stderr",
       "text": [
        "."
       ]
      },
      {
       "output_type": "stream",
       "stream": "stderr",
       "text": [
        "."
       ]
      },
      {
       "output_type": "stream",
       "stream": "stderr",
       "text": [
        "."
       ]
      },
      {
       "output_type": "stream",
       "stream": "stderr",
       "text": [
        "."
       ]
      },
      {
       "output_type": "stream",
       "stream": "stderr",
       "text": [
        "."
       ]
      },
      {
       "output_type": "stream",
       "stream": "stderr",
       "text": [
        "."
       ]
      },
      {
       "output_type": "stream",
       "stream": "stderr",
       "text": [
        "."
       ]
      },
      {
       "output_type": "stream",
       "stream": "stderr",
       "text": [
        "."
       ]
      },
      {
       "output_type": "stream",
       "stream": "stderr",
       "text": [
        "."
       ]
      },
      {
       "output_type": "stream",
       "stream": "stderr",
       "text": [
        "."
       ]
      },
      {
       "output_type": "stream",
       "stream": "stderr",
       "text": [
        "."
       ]
      },
      {
       "output_type": "stream",
       "stream": "stderr",
       "text": [
        "."
       ]
      },
      {
       "output_type": "stream",
       "stream": "stderr",
       "text": [
        "."
       ]
      },
      {
       "output_type": "stream",
       "stream": "stderr",
       "text": [
        "."
       ]
      },
      {
       "output_type": "stream",
       "stream": "stderr",
       "text": [
        "."
       ]
      },
      {
       "output_type": "stream",
       "stream": "stderr",
       "text": [
        "."
       ]
      },
      {
       "output_type": "stream",
       "stream": "stderr",
       "text": [
        "."
       ]
      },
      {
       "output_type": "stream",
       "stream": "stderr",
       "text": [
        "."
       ]
      },
      {
       "output_type": "stream",
       "stream": "stderr",
       "text": [
        "."
       ]
      },
      {
       "output_type": "stream",
       "stream": "stderr",
       "text": [
        "."
       ]
      },
      {
       "output_type": "stream",
       "stream": "stderr",
       "text": [
        "."
       ]
      },
      {
       "output_type": "stream",
       "stream": "stderr",
       "text": [
        "."
       ]
      },
      {
       "output_type": "stream",
       "stream": "stderr",
       "text": [
        "."
       ]
      },
      {
       "output_type": "stream",
       "stream": "stderr",
       "text": [
        "."
       ]
      },
      {
       "output_type": "stream",
       "stream": "stderr",
       "text": [
        "."
       ]
      },
      {
       "output_type": "stream",
       "stream": "stderr",
       "text": [
        "."
       ]
      },
      {
       "output_type": "stream",
       "stream": "stderr",
       "text": [
        "."
       ]
      },
      {
       "output_type": "stream",
       "stream": "stderr",
       "text": [
        "."
       ]
      },
      {
       "output_type": "stream",
       "stream": "stderr",
       "text": [
        "."
       ]
      },
      {
       "output_type": "stream",
       "stream": "stderr",
       "text": [
        "."
       ]
      },
      {
       "output_type": "stream",
       "stream": "stderr",
       "text": [
        "."
       ]
      },
      {
       "output_type": "stream",
       "stream": "stderr",
       "text": [
        "."
       ]
      },
      {
       "output_type": "stream",
       "stream": "stderr",
       "text": [
        "."
       ]
      },
      {
       "output_type": "stream",
       "stream": "stderr",
       "text": [
        "."
       ]
      },
      {
       "output_type": "stream",
       "stream": "stderr",
       "text": [
        "."
       ]
      },
      {
       "output_type": "stream",
       "stream": "stderr",
       "text": [
        "."
       ]
      },
      {
       "output_type": "stream",
       "stream": "stderr",
       "text": [
        "."
       ]
      },
      {
       "output_type": "stream",
       "stream": "stderr",
       "text": [
        "."
       ]
      },
      {
       "output_type": "stream",
       "stream": "stderr",
       "text": [
        "."
       ]
      },
      {
       "output_type": "stream",
       "stream": "stderr",
       "text": [
        "."
       ]
      },
      {
       "output_type": "stream",
       "stream": "stderr",
       "text": [
        "."
       ]
      },
      {
       "output_type": "stream",
       "stream": "stderr",
       "text": [
        "."
       ]
      },
      {
       "output_type": "stream",
       "stream": "stderr",
       "text": [
        "."
       ]
      },
      {
       "output_type": "stream",
       "stream": "stderr",
       "text": [
        "."
       ]
      },
      {
       "output_type": "stream",
       "stream": "stderr",
       "text": [
        "."
       ]
      },
      {
       "output_type": "stream",
       "stream": "stderr",
       "text": [
        "."
       ]
      },
      {
       "output_type": "stream",
       "stream": "stderr",
       "text": [
        "."
       ]
      },
      {
       "output_type": "stream",
       "stream": "stderr",
       "text": [
        "."
       ]
      },
      {
       "output_type": "stream",
       "stream": "stderr",
       "text": [
        "."
       ]
      },
      {
       "output_type": "stream",
       "stream": "stderr",
       "text": [
        "."
       ]
      },
      {
       "output_type": "stream",
       "stream": "stderr",
       "text": [
        "."
       ]
      },
      {
       "output_type": "stream",
       "stream": "stderr",
       "text": [
        "."
       ]
      },
      {
       "output_type": "stream",
       "stream": "stderr",
       "text": [
        "."
       ]
      },
      {
       "output_type": "stream",
       "stream": "stderr",
       "text": [
        "."
       ]
      },
      {
       "output_type": "stream",
       "stream": "stderr",
       "text": [
        "."
       ]
      },
      {
       "output_type": "stream",
       "stream": "stderr",
       "text": [
        "."
       ]
      },
      {
       "output_type": "stream",
       "stream": "stderr",
       "text": [
        "."
       ]
      },
      {
       "output_type": "stream",
       "stream": "stderr",
       "text": [
        "."
       ]
      },
      {
       "output_type": "stream",
       "stream": "stderr",
       "text": [
        "."
       ]
      },
      {
       "output_type": "stream",
       "stream": "stderr",
       "text": [
        "."
       ]
      },
      {
       "output_type": "stream",
       "stream": "stderr",
       "text": [
        "."
       ]
      },
      {
       "output_type": "stream",
       "stream": "stderr",
       "text": [
        "."
       ]
      },
      {
       "output_type": "stream",
       "stream": "stderr",
       "text": [
        "."
       ]
      },
      {
       "output_type": "stream",
       "stream": "stderr",
       "text": [
        "."
       ]
      },
      {
       "output_type": "stream",
       "stream": "stderr",
       "text": [
        "."
       ]
      },
      {
       "output_type": "stream",
       "stream": "stderr",
       "text": [
        "."
       ]
      },
      {
       "output_type": "stream",
       "stream": "stderr",
       "text": [
        "."
       ]
      },
      {
       "output_type": "stream",
       "stream": "stderr",
       "text": [
        "."
       ]
      },
      {
       "output_type": "stream",
       "stream": "stderr",
       "text": [
        "."
       ]
      },
      {
       "output_type": "stream",
       "stream": "stderr",
       "text": [
        "."
       ]
      },
      {
       "output_type": "stream",
       "stream": "stderr",
       "text": [
        "."
       ]
      },
      {
       "output_type": "stream",
       "stream": "stderr",
       "text": [
        "."
       ]
      },
      {
       "output_type": "stream",
       "stream": "stderr",
       "text": [
        "."
       ]
      },
      {
       "output_type": "stream",
       "stream": "stderr",
       "text": [
        "."
       ]
      },
      {
       "output_type": "stream",
       "stream": "stderr",
       "text": [
        "."
       ]
      },
      {
       "output_type": "stream",
       "stream": "stderr",
       "text": [
        "."
       ]
      },
      {
       "output_type": "stream",
       "stream": "stderr",
       "text": [
        "."
       ]
      },
      {
       "output_type": "stream",
       "stream": "stderr",
       "text": [
        "."
       ]
      },
      {
       "output_type": "stream",
       "stream": "stderr",
       "text": [
        "."
       ]
      },
      {
       "output_type": "stream",
       "stream": "stderr",
       "text": [
        "."
       ]
      },
      {
       "output_type": "stream",
       "stream": "stderr",
       "text": [
        "."
       ]
      },
      {
       "output_type": "stream",
       "stream": "stderr",
       "text": [
        "."
       ]
      },
      {
       "output_type": "stream",
       "stream": "stderr",
       "text": [
        "."
       ]
      },
      {
       "output_type": "stream",
       "stream": "stderr",
       "text": [
        "."
       ]
      },
      {
       "output_type": "stream",
       "stream": "stderr",
       "text": [
        "."
       ]
      },
      {
       "output_type": "stream",
       "stream": "stderr",
       "text": [
        "."
       ]
      },
      {
       "output_type": "stream",
       "stream": "stderr",
       "text": [
        "."
       ]
      },
      {
       "output_type": "stream",
       "stream": "stderr",
       "text": [
        "."
       ]
      },
      {
       "output_type": "stream",
       "stream": "stderr",
       "text": [
        "."
       ]
      },
      {
       "output_type": "stream",
       "stream": "stderr",
       "text": [
        "."
       ]
      },
      {
       "output_type": "stream",
       "stream": "stderr",
       "text": [
        "."
       ]
      },
      {
       "output_type": "stream",
       "stream": "stderr",
       "text": [
        "."
       ]
      },
      {
       "output_type": "stream",
       "stream": "stderr",
       "text": [
        "."
       ]
      },
      {
       "output_type": "stream",
       "stream": "stderr",
       "text": [
        "."
       ]
      },
      {
       "output_type": "stream",
       "stream": "stderr",
       "text": [
        "."
       ]
      },
      {
       "output_type": "stream",
       "stream": "stderr",
       "text": [
        "."
       ]
      },
      {
       "output_type": "stream",
       "stream": "stderr",
       "text": [
        "."
       ]
      },
      {
       "output_type": "stream",
       "stream": "stderr",
       "text": [
        "."
       ]
      },
      {
       "output_type": "stream",
       "stream": "stderr",
       "text": [
        "."
       ]
      },
      {
       "output_type": "stream",
       "stream": "stderr",
       "text": [
        "."
       ]
      },
      {
       "output_type": "stream",
       "stream": "stderr",
       "text": [
        "."
       ]
      },
      {
       "output_type": "stream",
       "stream": "stderr",
       "text": [
        "."
       ]
      },
      {
       "output_type": "stream",
       "stream": "stderr",
       "text": [
        "."
       ]
      },
      {
       "output_type": "stream",
       "stream": "stderr",
       "text": [
        "."
       ]
      },
      {
       "output_type": "stream",
       "stream": "stderr",
       "text": [
        "."
       ]
      },
      {
       "output_type": "stream",
       "stream": "stderr",
       "text": [
        "."
       ]
      },
      {
       "output_type": "stream",
       "stream": "stderr",
       "text": [
        "."
       ]
      },
      {
       "output_type": "stream",
       "stream": "stderr",
       "text": [
        "."
       ]
      },
      {
       "output_type": "stream",
       "stream": "stderr",
       "text": [
        "."
       ]
      },
      {
       "output_type": "stream",
       "stream": "stderr",
       "text": [
        "."
       ]
      },
      {
       "output_type": "stream",
       "stream": "stderr",
       "text": [
        "."
       ]
      },
      {
       "output_type": "stream",
       "stream": "stderr",
       "text": [
        "."
       ]
      },
      {
       "output_type": "stream",
       "stream": "stderr",
       "text": [
        "."
       ]
      },
      {
       "output_type": "stream",
       "stream": "stderr",
       "text": [
        "."
       ]
      },
      {
       "output_type": "stream",
       "stream": "stderr",
       "text": [
        "."
       ]
      },
      {
       "output_type": "stream",
       "stream": "stderr",
       "text": [
        "."
       ]
      },
      {
       "output_type": "stream",
       "stream": "stderr",
       "text": [
        "."
       ]
      },
      {
       "output_type": "stream",
       "stream": "stderr",
       "text": [
        "."
       ]
      },
      {
       "output_type": "stream",
       "stream": "stderr",
       "text": [
        "."
       ]
      },
      {
       "output_type": "stream",
       "stream": "stderr",
       "text": [
        "."
       ]
      },
      {
       "output_type": "stream",
       "stream": "stderr",
       "text": [
        "."
       ]
      },
      {
       "output_type": "stream",
       "stream": "stderr",
       "text": [
        "."
       ]
      },
      {
       "output_type": "stream",
       "stream": "stderr",
       "text": [
        "."
       ]
      },
      {
       "output_type": "stream",
       "stream": "stderr",
       "text": [
        "."
       ]
      },
      {
       "output_type": "stream",
       "stream": "stderr",
       "text": [
        "."
       ]
      },
      {
       "output_type": "stream",
       "stream": "stderr",
       "text": [
        "."
       ]
      },
      {
       "output_type": "stream",
       "stream": "stderr",
       "text": [
        "."
       ]
      },
      {
       "output_type": "stream",
       "stream": "stderr",
       "text": [
        "."
       ]
      },
      {
       "output_type": "stream",
       "stream": "stderr",
       "text": [
        "."
       ]
      },
      {
       "output_type": "stream",
       "stream": "stderr",
       "text": [
        "."
       ]
      },
      {
       "output_type": "stream",
       "stream": "stderr",
       "text": [
        "."
       ]
      },
      {
       "output_type": "stream",
       "stream": "stderr",
       "text": [
        "K."
       ]
      },
      {
       "output_type": "stream",
       "stream": "stderr",
       "text": [
        "."
       ]
      },
      {
       "output_type": "stream",
       "stream": "stderr",
       "text": [
        "."
       ]
      },
      {
       "output_type": "stream",
       "stream": "stderr",
       "text": [
        "."
       ]
      },
      {
       "output_type": "stream",
       "stream": "stderr",
       "text": [
        "."
       ]
      },
      {
       "output_type": "stream",
       "stream": "stderr",
       "text": [
        "."
       ]
      },
      {
       "output_type": "stream",
       "stream": "stderr",
       "text": [
        "."
       ]
      },
      {
       "output_type": "stream",
       "stream": "stderr",
       "text": [
        "."
       ]
      },
      {
       "output_type": "stream",
       "stream": "stderr",
       "text": [
        "."
       ]
      },
      {
       "output_type": "stream",
       "stream": "stderr",
       "text": [
        "."
       ]
      },
      {
       "output_type": "stream",
       "stream": "stderr",
       "text": [
        "."
       ]
      },
      {
       "output_type": "stream",
       "stream": "stderr",
       "text": [
        "."
       ]
      },
      {
       "output_type": "stream",
       "stream": "stderr",
       "text": [
        "."
       ]
      },
      {
       "output_type": "stream",
       "stream": "stderr",
       "text": [
        "."
       ]
      },
      {
       "output_type": "stream",
       "stream": "stderr",
       "text": [
        "."
       ]
      },
      {
       "output_type": "stream",
       "stream": "stderr",
       "text": [
        "."
       ]
      },
      {
       "output_type": "stream",
       "stream": "stderr",
       "text": [
        "."
       ]
      },
      {
       "output_type": "stream",
       "stream": "stderr",
       "text": [
        "."
       ]
      },
      {
       "output_type": "stream",
       "stream": "stderr",
       "text": [
        "."
       ]
      },
      {
       "output_type": "stream",
       "stream": "stderr",
       "text": [
        "."
       ]
      },
      {
       "output_type": "stream",
       "stream": "stderr",
       "text": [
        "."
       ]
      },
      {
       "output_type": "stream",
       "stream": "stderr",
       "text": [
        "."
       ]
      },
      {
       "output_type": "stream",
       "stream": "stderr",
       "text": [
        "."
       ]
      },
      {
       "output_type": "stream",
       "stream": "stderr",
       "text": [
        "."
       ]
      },
      {
       "output_type": "stream",
       "stream": "stderr",
       "text": [
        "."
       ]
      },
      {
       "output_type": "stream",
       "stream": "stderr",
       "text": [
        "."
       ]
      },
      {
       "output_type": "stream",
       "stream": "stderr",
       "text": [
        "."
       ]
      },
      {
       "output_type": "stream",
       "stream": "stderr",
       "text": [
        "."
       ]
      },
      {
       "output_type": "stream",
       "stream": "stderr",
       "text": [
        "."
       ]
      },
      {
       "output_type": "stream",
       "stream": "stderr",
       "text": [
        "."
       ]
      },
      {
       "output_type": "stream",
       "stream": "stderr",
       "text": [
        "."
       ]
      },
      {
       "output_type": "stream",
       "stream": "stderr",
       "text": [
        "."
       ]
      },
      {
       "output_type": "stream",
       "stream": "stderr",
       "text": [
        "."
       ]
      },
      {
       "output_type": "stream",
       "stream": "stderr",
       "text": [
        "."
       ]
      },
      {
       "output_type": "stream",
       "stream": "stderr",
       "text": [
        "."
       ]
      },
      {
       "output_type": "stream",
       "stream": "stderr",
       "text": [
        "."
       ]
      },
      {
       "output_type": "stream",
       "stream": "stderr",
       "text": [
        "."
       ]
      },
      {
       "output_type": "stream",
       "stream": "stderr",
       "text": [
        "."
       ]
      },
      {
       "output_type": "stream",
       "stream": "stderr",
       "text": [
        "."
       ]
      },
      {
       "output_type": "stream",
       "stream": "stderr",
       "text": [
        "."
       ]
      },
      {
       "output_type": "stream",
       "stream": "stderr",
       "text": [
        "."
       ]
      },
      {
       "output_type": "stream",
       "stream": "stderr",
       "text": [
        "."
       ]
      },
      {
       "output_type": "stream",
       "stream": "stderr",
       "text": [
        "."
       ]
      },
      {
       "output_type": "stream",
       "stream": "stderr",
       "text": [
        "."
       ]
      },
      {
       "output_type": "stream",
       "stream": "stderr",
       "text": [
        "."
       ]
      },
      {
       "output_type": "stream",
       "stream": "stderr",
       "text": [
        "."
       ]
      },
      {
       "output_type": "stream",
       "stream": "stderr",
       "text": [
        "."
       ]
      },
      {
       "output_type": "stream",
       "stream": "stderr",
       "text": [
        "."
       ]
      },
      {
       "output_type": "stream",
       "stream": "stderr",
       "text": [
        "."
       ]
      },
      {
       "output_type": "stream",
       "stream": "stderr",
       "text": [
        "."
       ]
      },
      {
       "output_type": "stream",
       "stream": "stderr",
       "text": [
        "."
       ]
      },
      {
       "output_type": "stream",
       "stream": "stderr",
       "text": [
        "."
       ]
      },
      {
       "output_type": "stream",
       "stream": "stdout",
       "text": [
        "Running unit tests for numpy\n",
        "NumPy version 1.8.0\n",
        "NumPy is installed in /Users/anita/anaconda/lib/python2.7/site-packages/numpy\n",
        "Python version 2.7.6 |Anaconda 1.7.0 (x86_64)| (default, Jan 10 2014, 11:23:15) [GCC 4.0.1 (Apple Inc. build 5493)]\n",
        "nose version 1.3.0\n"
       ]
      },
      {
       "output_type": "stream",
       "stream": "stderr",
       "text": [
        "\n",
        "======================================================================\n",
        "FAIL: test_default (test_numeric.TestSeterr)\n",
        "----------------------------------------------------------------------\n",
        "Traceback (most recent call last):\n",
        "  File \"/Users/anita/anaconda/lib/python2.7/site-packages/numpy/core/tests/test_numeric.py\", line 384, in test_default\n",
        "    under='ignore',\n",
        "AssertionError: {'over': 'ignore', 'divide': 'ignore', 'invalid': 'ignore', 'under': 'ignore'} != {'over': 'warn', 'divide': 'warn', 'invalid': 'warn', 'under': 'ignore'}\n",
        "- {'divide': 'ignore', 'invalid': 'ignore', 'over': 'ignore', 'under': 'ignore'}\n",
        "?             ^^ ---               ^^ ---            ^^ ---\n",
        "\n",
        "+ {'divide': 'warn', 'invalid': 'warn', 'over': 'warn', 'under': 'ignore'}\n",
        "?             ^^^                ^^^             ^^^\n",
        "\n",
        "\n",
        "======================================================================\n",
        "FAIL: test_pickle (test_ufunc.TestUfunc)\n",
        "----------------------------------------------------------------------\n",
        "Traceback (most recent call last):\n",
        "  File \"/Users/anita/anaconda/lib/python2.7/site-packages/numpy/core/tests/test_ufunc.py\", line 15, in test_pickle\n",
        "    assert pickle.loads(pickle.dumps(np.sin)) is np.sin\n",
        "AssertionError\n",
        "\n",
        "----------------------------------------------------------------------\n",
        "Ran 4933 tests in 53.723s\n",
        "\n",
        "FAILED (KNOWNFAIL=5, SKIP=6, failures=2)\n"
       ]
      },
      {
       "metadata": {},
       "output_type": "pyout",
       "prompt_number": 4,
       "text": [
        "<nose.result.TextTestResult run=4933 errors=0 failures=2>"
       ]
      }
     ],
     "prompt_number": 4
    },
    {
     "cell_type": "code",
     "collapsed": false,
     "input": [],
     "language": "python",
     "metadata": {},
     "outputs": []
    }
   ],
   "metadata": {}
  }
 ]
}